{
  "cells": [
    {
      "cell_type": "code",
      "source": [
        "import warnings\n",
        "warnings.filterwarnings('ignore')\n",
        "#  Ebnable HTML/CSS \n",
        "from IPython.core.display import HTML\n",
        "HTML(\"<link href='https://fonts.googleapis.com/css?family=Passion+One' rel='stylesheet' type='text/css'><style>div.attn { font-family: 'Helvetica Neue'; font-size: 30px; line-height: 40px; color: #FFFFFF; text-align: center; margin: 30px 0; border-width: 10px 0; border-style: solid; border-color: #5AAAAA; padding: 30px 0; background-color: #DDDDFF; }hr { border: 0; background-color: #ffffff; border-top: 1px solid black; }hr.major { border-top: 10px solid #5AAA5A; }hr.minor { border: none; background-color: #ffffff; border-top: 5px dotted #CC3333; }div.bubble { width: 65%; padding: 20px; background: #DDDDDD; border-radius: 15px; margin: 0 auto; font-style: italic; color: #f00; }em { color: #AAA; }div.c1{visibility:hidden;margin:0;height:0;}div.note{color:red;}</style>\")"
      ],
      "outputs": [
        {
          "output_type": "execute_result",
          "execution_count": 1,
          "data": {
            "text/html": [
              "<link href='https://fonts.googleapis.com/css?family=Passion+One' rel='stylesheet' type='text/css'><style>div.attn { font-family: 'Helvetica Neue'; font-size: 30px; line-height: 40px; color: #FFFFFF; text-align: center; margin: 30px 0; border-width: 10px 0; border-style: solid; border-color: #5AAAAA; padding: 30px 0; background-color: #DDDDFF; }hr { border: 0; background-color: #ffffff; border-top: 1px solid black; }hr.major { border-top: 10px solid #5AAA5A; }hr.minor { border: none; background-color: #ffffff; border-top: 5px dotted #CC3333; }div.bubble { width: 65%; padding: 20px; background: #DDDDDD; border-radius: 15px; margin: 0 auto; font-style: italic; color: #f00; }em { color: #AAA; }div.c1{visibility:hidden;margin:0;height:0;}div.note{color:red;}</style>"
            ],
            "text/plain": [
              "<IPython.core.display.HTML object>"
            ]
          },
          "metadata": {}
        }
      ],
      "execution_count": 1,
      "metadata": {}
    },
    {
      "cell_type": "markdown",
      "source": [
        "___\n",
        "Enter Team Member Names here (double click to edit):\n",
        "\n",
        "- Name 1:Allen Ansari\n",
        "- Name 2:Chad Madding\n",
        "- Name 3:Yongjun Chu\n",
        "\n",
        "________\n",
        "\n",
        "# In Class Assignment Three\n",
        "In the following assignment you will be asked to fill in python code and derivations for a number of different problems. Please read all instructions carefully and turn in the rendered notebook (or HTML of the rendered notebook)  before the end of class.\n",
        "\n",
        "<a id=\"top\"></a>\n",
        "## Contents\n",
        "* <a href=\"#Loading\">Loading the Data</a>\n",
        "* <a href=\"#distance\">Measuring Distances</a>\n",
        "* <a href=\"#KNN\">K-Nearest Neighbors</a>\n",
        "* <a href=\"#naive\">Naive Bayes</a>\n",
        "\n",
        "________________________________________________________________________________________________________\n",
        "<a id=\"Loading\"></a>\n",
        "<a href=\"#top\">Back to Top</a>\n",
        "## Downloading the Document Data\n",
        "Please run the following code to read in the \"20 newsgroups\" dataset from sklearn's data loading module."
      ],
      "metadata": {}
    },
    {
      "cell_type": "code",
      "source": [
        "from __future__ import print_function\n",
        "from sklearn.datasets import fetch_20newsgroups_vectorized\n",
        "import numpy as np\n",
        "\n",
        "\n",
        "# this takes about 30 seconds to compute, read the next section while this downloads\n",
        "ds = fetch_20newsgroups_vectorized(subset='train')\n",
        "\n",
        "# this holds the continuous feature data (which is tfidf)\n",
        "print('features shape:', ds.data.shape) # there are ~11000 instances and ~130k features per instance\n",
        "print('target shape:', ds.target.shape) \n",
        "print('range of target:', np.min(ds.target),np.max(ds.target))\n",
        "print('Data type is', type(ds.data), float(ds.data.nnz)/(ds.data.shape[0]*ds.data.shape[1])*100, '% of the data is non-zero')"
      ],
      "outputs": [
        {
          "output_type": "stream",
          "name": "stdout",
          "text": [
            "features shape: (11314, 130107)\n",
            "target shape: (11314,)\n",
            "range of target: 0 19\n",
            "Data type is <class 'scipy.sparse.csr.csr_matrix'> 0.1214353154362896 % of the data is non-zero\n"
          ]
        }
      ],
      "execution_count": 2,
      "metadata": {}
    },
    {
      "cell_type": "markdown",
      "source": [
        "## Understanding the Dataset\n",
        "Look at the description for the 20 newsgroups dataset at http://qwone.com/~jason/20Newsgroups/. You have just downloaded the \"vectorized\" version of the dataset, which means all the words inside the articles have gone through a transformation that binned them into 130 thousand features related to the words in them.  \n",
        "\n",
        "**Question Set 1**:\n",
        "- How many instances are in the dataset? \n",
        "- What does each instance represent? \n",
        "- How many classes are in the dataset and what does each class represent?\n",
        "- Would you expect a classifier trained on this data would generalize to documents written in the past week? Why or why not?\n",
        "- Is the data represented as a sparse or dense matrix?"
      ],
      "metadata": {}
    },
    {
      "cell_type": "markdown",
      "source": [
        "#### Answers:\n",
        "\n",
        "There are 11314 instances in the dataset.\n",
        "\n",
        "Each instance represents an article of a newgroup.\n",
        "\n",
        "There are 20 classes in the dataset and each class represents one of the twenty newsgroups.\n",
        "\n",
        "No, we would not expect a classifier trained on this data would generalize to documents written in the past week. This is because the original dataset was created around 1995, and slightly modified at 2008. A lot of new words have emerged during the last 20+ years, like \"iPhone\", \"google\", \"Netflix\". Therefore, the classifier trained on this data would likey mis-classify or have problems classifying documents written in the past week.\n",
        "\n",
        "The data is represeted as a sparse matrix, since only ~ 0.12% of data is non-zeros."
      ],
      "metadata": {}
    },
    {
      "cell_type": "markdown",
      "source": [
        "___\n",
        "<a id=\"distance\"></a>\n",
        "<a href=\"#top\">Back to Top</a>\n",
        "## Measures of Distance\n",
        "In the following block of code, we isolate three instances from the dataset. The instance \"`a`\" is from the group *computer graphics*, \"`b`\" is from from the group *recreation autos*, and \"`c`\" is from group *recreation motorcycle*. **Exercise for part 2**: Calculate the: \n",
        "- (1) Euclidean distance\n",
        "- (2) Cosine distance \n",
        "- (3) Jaccard similarity \n",
        "\n",
        "between each pair of instances using the imported functions below. Remember that the Jaccard similarity is only for binary valued vectors, so convert vectors to binary using a threshold. \n",
        "\n",
        "**Question for part 2**: Which distance seems more appropriate to use for this data? **Why**?"
      ],
      "metadata": {}
    },
    {
      "cell_type": "code",
      "source": [
        "from scipy.spatial.distance import cosine\n",
        "from scipy.spatial.distance import euclidean\n",
        "from scipy.spatial.distance import jaccard\n",
        "import numpy as np\n",
        "\n",
        "# get first instance (comp)\n",
        "idx = 550\n",
        "a = ds.data[idx].todense()\n",
        "a_class = ds.target_names[ds.target[idx]]\n",
        "print('Instance A is from class', a_class)\n",
        "\n",
        "# get second instance (autos)\n",
        "idx = 4000\n",
        "b = ds.data[idx].todense()\n",
        "b_class = ds.target_names[ds.target[idx]]\n",
        "print('Instance B is from class', b_class)\n",
        "\n",
        "# get third instance (motorcycle)\n",
        "idx = 7000\n",
        "c = ds.data[idx].todense()\n",
        "c_class = ds.target_names[ds.target[idx]]\n",
        "print('Instance C is from class', c_class)\n",
        "\n",
        "# Enter distance comparison below for each pair of vectors:\n",
        "print(\"Euclidean Distance\\n ab:\", euclidean(a,b), \"ac:\", euclidean(a,c), \"bc:\", euclidean(b,c)) \n",
        "print(\"Cosine Distance\\n ab:\", cosine(a,b), \"ac:\", cosine(a,c), \"bc:\", cosine(b,c))\n",
        "print(\"Jaccard Dissimilarity (vectors should be boolean values)\\n ab:\", jaccard(a>0,b>0), \"ac:\", jaccard(a>0,c>0), \"bc:\", jaccard(b>0,c>0))\n",
        "\n",
        "print(\"\\nThe most appropraite distance is Cosine.\")\n",
        "print(\"Because the distances generated from this method make most sense. \\nB and C are closest, and A is about the same distance from B and C.\")\n",
        "print(\"That is exactly we saw from Cosine distance results.\")\n",
        "print(\"Euclidean also works well, but not quite as good as “cosine”.\")"
      ],
      "outputs": [
        {
          "output_type": "stream",
          "name": "stdout",
          "text": [
            "Instance A is from class comp.graphics\n",
            "Instance B is from class rec.autos\n",
            "Instance C is from class rec.motorcycles\n",
            "Euclidean Distance\n",
            " ab: 1.0985184671870858 ac: 1.1891405425398236 bc: 0.9177794226661624\n",
            "Cosine Distance\n",
            " ab: 0.6033714113755322 ac: 0.7070276149559529 bc: 0.4211595343347173\n",
            "Jaccard Dissimilarity (vectors should be boolean values)\n",
            " ab: 0.8821138211382114 ac: 0.8754716981132076 bc: 0.9087947882736156\n",
            "\n",
            "The most appropraite distance is Cosine.\n",
            "Because the distances generated from this method make most sense. \n",
            "B and C are closest, and A is about the same distance from B and C.\n",
            "That is exactly we saw from Cosine distance results.\n",
            "Euclidean also works well, but not quite as good as “cosine”.\n"
          ]
        }
      ],
      "execution_count": 8,
      "metadata": {}
    },
    {
      "cell_type": "markdown",
      "source": [
        "___\n",
        "# Start of Live Session Assignment\n",
        "___\n",
        "<a id=\"KNN\"></a>\n",
        "<a href=\"#top\">Back to Top</a>\n",
        "## Using scikit-learn with KNN\n",
        "Now let's use stratified cross validation with a holdout set to train a KNN model in `scikit-learn`. Use the example below to train a KNN classifier. The documentation for `KNeighborsClassifier` is here: http://scikit-learn.org/stable/modules/generated/sklearn.neighbors.KNeighborsClassifier.html  \n",
        "\n",
        "**Exercise for part 3**: Use the code below to test what value of `n_neighbors` works best for the given data. *Note: do NOT change the metric to be anything other than `'euclidean'`. Other distance functions are not optimized for the amount of data we are working with.* \n",
        "\n",
        "**Question for part 3**: What is the accuracy of the best classifier you can create for this data (by changing only the `n_neighbors` parameter)? "
      ],
      "metadata": {}
    },
    {
      "cell_type": "code",
      "source": [
        "from sklearn.model_selection import StratifiedShuffleSplit\n",
        "from sklearn.neighbors import KNeighborsClassifier\n",
        "from sklearn.metrics import accuracy_score\n",
        "from IPython.html import widgets \n",
        "\n",
        "sss = StratifiedShuffleSplit(test_size = 0.5, train_size=0.5, random_state=12345)\n",
        "\n",
        "# fill in the training and testing data and save as separate variables\n",
        "for trainidx, testidx in sss.split(ds.data,ds.target):\n",
        "    # note that these are sparse matrices\n",
        "    X_train = ds.data[trainidx] \n",
        "    X_test = ds.data[testidx] \n",
        "    y_train = ds.target[trainidx]\n",
        "    y_test = ds.target[testidx]\n",
        "\n",
        "# fill in your code  here to train and test\n",
        "# calculate the accuracy and print it for various values of K\n",
        "acc_dict = {}\n",
        "for K in range(1, 11): \n",
        "    clf = KNeighborsClassifier(n_neighbors=K, weights='uniform', metric='euclidean')\n",
        "    clf.fit(X_train, y_train)\n",
        "    yhat = clf.predict(X_test)\n",
        "    print('Accuracy of classifier with %d neighbors is: %.6f'%(K,accuracy_score(y_test, yhat)))\n",
        "    #print(K, accuracy_score(y_test, yhat))\n",
        "    acc_dict.update( {K : accuracy_score(y_test, yhat)} )\n",
        "    \n",
        "    \n",
        "maximum = max(acc_dict, key=acc_dict.get)  # Just use 'min' instead of 'max' for minimum.\n",
        "acc = acc_dict[maximum] # overwrite this with the actual accuracy\n",
        "\n",
        "#=====================================\n",
        "\n",
        "print('The maximum accuracy of the classifier is %.2f with %d neighbors'%(acc,maximum))"
      ],
      "outputs": [
        {
          "output_type": "stream",
          "name": "stdout",
          "text": [
            "Accuracy of classifier with 1 neighbors is: 0.601556\n",
            "Accuracy of classifier with 2 neighbors is: 0.558954\n",
            "Accuracy of classifier with 3 neighbors is: 0.531731\n",
            "Accuracy of classifier with 4 neighbors is: 0.510871\n",
            "Accuracy of classifier with 5 neighbors is: 0.491780\n",
            "Accuracy of classifier with 6 neighbors is: 0.479053\n",
            "Accuracy of classifier with 7 neighbors is: 0.473926\n",
            "Accuracy of classifier with 8 neighbors is: 0.467562\n",
            "Accuracy of classifier with 9 neighbors is: 0.456072\n",
            "Accuracy of classifier with 10 neighbors is: 0.447941\n",
            "The maximum accuracy of the classifier is 0.60 with 1 neighbors\n"
          ]
        }
      ],
      "execution_count": 10,
      "metadata": {}
    },
    {
      "cell_type": "markdown",
      "source": [
        "**Question for part 3**: With sparse data, does the use of a KDTree representation make sense? Why or Why not?"
      ],
      "metadata": {}
    },
    {
      "cell_type": "markdown",
      "source": [
        "No. The use of a KDTree representation likely does not make sense with sparse data. The cost of measuring distance with truly sparse data is small--usually smaller than the cost of creating a tree. Sparse data also will not branch well in a KDTree because there are so many zeros. The number of \"zero\" comparisons will mean each tree needs to be very deep. Therefore, the benefit of the KDTree is drastically reduced."
      ],
      "metadata": {}
    },
    {
      "cell_type": "markdown",
      "source": [
        "_____\n",
        "## KNN extensions - Centroids\n",
        "Now lets look at a very closely related classifier to KNN, called nearest centroid. In this classifier (which is more appropriate for big data scenarios and sparse data), the training step is used to calculate the centroids for each class. These centroids are saved. Unknown attributes, at prediction time, only need to have distances calculated for each saved centroid, drastically decreasing the time required for a prediction. \n",
        "\n",
        "**Exercise for part 4**: Use the template code below to create a nearest centroid classifier. Test which metric has the best cross validated performance: Euclidean, Cosine, or Manhattan. In `scikit-learn` you can see the documentation for NearestCentroid here: \n",
        "- http://scikit-learn.org/stable/modules/generated/sklearn.neighbors.NearestCentroid.html#sklearn.neighbors.NearestCentroid\n",
        "\n",
        "and for supported distance metrics here:\n",
        "- http://scikit-learn.org/stable/modules/generated/sklearn.metrics.pairwise.distance_metrics.html#sklearn.metrics.pairwise.distance_metrics"
      ],
      "metadata": {
        "collapsed": true
      }
    },
    {
      "cell_type": "code",
      "source": [
        "from sklearn.neighbors.nearest_centroid import NearestCentroid\n",
        "\n",
        "# the parameters for the nearest centroid metric to test are:\n",
        "#    l1, l2, and cosine (all are optimized)\n",
        "for d in ['euclidean', 'cosine', 'manhattan']:\n",
        "    clf = NearestCentroid(metric=d)\n",
        "    clf.fit(X_train, y_train)\n",
        "    yhat = clf.predict(X_test)\n",
        "    acc = accuracy_score(y_test, yhat)\n",
        "    #or use: clf.score(X_test, y_test)\n",
        "    print(d, acc)\n",
        "\n",
        "print('The best distance metric is: cosine')"
      ],
      "outputs": [
        {
          "output_type": "stream",
          "name": "stdout",
          "text": [
            "euclidean 0.4132932649814389\n",
            "cosine 0.4811737670143185\n",
            "manhattan 0.18967650698249955\n",
            "The best distance metric is: cosine\n"
          ]
        }
      ],
      "execution_count": 11,
      "metadata": {}
    },
    {
      "cell_type": "markdown",
      "source": [
        "___\n",
        "<a id=\"naive\"></a>\n",
        "<a href=\"#top\">Back to Top</a>\n",
        "## Naive Bayes Classification\n",
        "Now let's look at the use of the Naive Bayes classifier. The 20 newsgroups dataset has 20 classes and about 130,000 features per instance. Recall that the Naive Bayes classifer calculates a posterior distribution for each possible class. Each posterior distribution is a multiplication of many conditional distributions: \n",
        "\n",
        "$${\\arg \\max}_{j} \\left(p(class=j)\\prod_{i} p(attribute=i|class=j) \\right)$$\n",
        "\n",
        "where $p(class=j)$ is the prior and $p(attribute=i|class=j)$ is the conditional probability.\n",
        "\n",
        "**Question for part 5**: With this many classes and features, how many different conditional probabilities need to be parameterized? How many priors need to be parameterized?"
      ],
      "metadata": {}
    },
    {
      "cell_type": "markdown",
      "source": [
        "#### Answers: \n",
        "Since we have ~130,000 features and 20 classes, we need to calculate 20 * 130,000 or 2.6 million conditional probabilities. There is 1 prior for each class, in a total of 20 priors, that must be parametized.\n"
      ],
      "metadata": {}
    },
    {
      "cell_type": "markdown",
      "source": [
        "___\n",
        "## Naive Bayes in Scikit-learn\n",
        "Scikit has several implementations of the Naive Bayes classifier: `GaussianNB`, `MultinomialNB`, and `BernoulliNB`. Look at the documentation here: http://scikit-learn.org/stable/modules/naive_bayes.html Take a look at each implementation and then answer this question: \n",
        "\n",
        "**Questions for part 6**: \n",
        "- If the instances contain mostly continuous attributes, would it be better to use Gaussian Naive Bayes, Multinomial Naive Bayes, or Bernoulli? And Why? \n",
        "- What if the data is sparse, does this change your answer? Why or Why not?"
      ],
      "metadata": {}
    },
    {
      "cell_type": "markdown",
      "source": [
        "#### Answers:\n",
        "\n",
        "1) For continuous attributes, it would be best to use Guassian Naive Bayes. Gaussian works effectively for continuous datasets as it considers the data through a normalization process to fit a naive Bayes format, although it requires the assumption that the underlying data is normally distributed (which is often approximately true). \n",
        "\n",
        "\n",
        "2) If the data is sparse, we will change our answer from Guassian Naive Bayes to Multinomial Naive Bayes. Sparse matrices are much harder to find realistic Gaussian models, because they always have a mean near zero.\n",
        "- For sparse data, it is probably better (and faster) to use multinomial naive Bayes. \n",
        "- An argument can also be made for Bernoulli if binarizing the feature data helps to reduce the complexity of the problem.\t "
      ],
      "metadata": {}
    },
    {
      "cell_type": "markdown",
      "source": [
        "## Naive Bayes Comparison\n",
        "For the final section of this notebook let's compare the performance of Naive Bayes for document classification. Look at the parameters for `MultinomialNB`, and `BernoulliNB` (especially `alpha` and `binarize`). \n",
        "\n",
        "**Exercise for part 7**: Using the example code below, change the parameters for each classifier and see how accurate you can make the classifiers on the test set. \n",
        "\n",
        "**Question for part 7**: Why are these implementations so fast to train? What does the `'alpha'` value control in these models (*i.e.*, how does it change the parameterizations)? "
      ],
      "metadata": {}
    },
    {
      "cell_type": "markdown",
      "source": [
        "- Use a for loop to test both classifiers.       \n",
        "- for clf in [clf_mnb,clf_bnb]:\n",
        "- clf.fit(X_train, y_train)\n",
        "- Change the parameter values in the code above to something like 0.001 for alpha and 0.02 for binarize.\n",
        "\n"
      ],
      "metadata": {}
    },
    {
      "cell_type": "code",
      "source": [
        "from sklearn.naive_bayes import MultinomialNB\n",
        "from sklearn.naive_bayes import BernoulliNB\n",
        "\n",
        "a_list = [0.0, 0.001, 0.01, 0.1, 1]\n",
        "b_list = [0.0, 0.002, 0.02, 0.04, 0.06, 0.08, 0.2]\n",
        "\n",
        "for a in a_list:\n",
        "    clf_mnb = MultinomialNB(alpha= a)\n",
        "    acc = clf_mnb.fit(X_train, y_train).score(X_test, y_test)\n",
        "    print('Accuracy of MultinomialNB classifier for alpha = %.3f is: %.3f'%(a,acc))\n",
        "    \n",
        "\n",
        "for a in a_list:\n",
        "    print ('='*80)\n",
        "    for b in b_list:\n",
        "        clf_bnb = BernoulliNB(alpha=a, binarize=b)\n",
        "        acc = clf_bnb.fit(X_train, y_train).score(X_test, y_test)\n",
        "        print(\"Accuracy of BernoulliNB classifier for (alpha=%.3f, binarize=%.3f) is: %.3f\" % (a, b, acc))"
      ],
      "outputs": [
        {
          "output_type": "stream",
          "name": "stdout",
          "text": [
            "Accuracy of MultinomialNB classifier for alpha = 0.000 is: 0.869\n",
            "Accuracy of MultinomialNB classifier for alpha = 0.001 is: 0.893\n",
            "Accuracy of MultinomialNB classifier for alpha = 0.010 is: 0.887\n",
            "Accuracy of MultinomialNB classifier for alpha = 0.100 is: 0.833\n",
            "Accuracy of MultinomialNB classifier for alpha = 1.000 is: 0.718\n",
            "================================================================================\n",
            "Accuracy of BernoulliNB classifier for (alpha=0.000, binarize=0.000) is: 0.856\n",
            "Accuracy of BernoulliNB classifier for (alpha=0.000, binarize=0.002) is: 0.857\n",
            "Accuracy of BernoulliNB classifier for (alpha=0.000, binarize=0.020) is: 0.870\n",
            "Accuracy of BernoulliNB classifier for (alpha=0.000, binarize=0.040) is: 0.847\n",
            "Accuracy of BernoulliNB classifier for (alpha=0.000, binarize=0.060) is: 0.791\n",
            "Accuracy of BernoulliNB classifier for (alpha=0.000, binarize=0.080) is: 0.741\n",
            "Accuracy of BernoulliNB classifier for (alpha=0.000, binarize=0.200) is: 0.349\n",
            "================================================================================\n",
            "Accuracy of BernoulliNB classifier for (alpha=0.001, binarize=0.000) is: 0.841\n",
            "Accuracy of BernoulliNB classifier for (alpha=0.001, binarize=0.002) is: 0.845\n",
            "Accuracy of BernoulliNB classifier for (alpha=0.001, binarize=0.020) is: 0.876\n",
            "Accuracy of BernoulliNB classifier for (alpha=0.001, binarize=0.040) is: 0.862\n",
            "Accuracy of BernoulliNB classifier for (alpha=0.001, binarize=0.060) is: 0.808\n",
            "Accuracy of BernoulliNB classifier for (alpha=0.001, binarize=0.080) is: 0.758\n",
            "Accuracy of BernoulliNB classifier for (alpha=0.001, binarize=0.200) is: 0.349\n",
            "================================================================================\n",
            "Accuracy of BernoulliNB classifier for (alpha=0.010, binarize=0.000) is: 0.823\n",
            "Accuracy of BernoulliNB classifier for (alpha=0.010, binarize=0.002) is: 0.830\n",
            "Accuracy of BernoulliNB classifier for (alpha=0.010, binarize=0.020) is: 0.872\n",
            "Accuracy of BernoulliNB classifier for (alpha=0.010, binarize=0.040) is: 0.864\n",
            "Accuracy of BernoulliNB classifier for (alpha=0.010, binarize=0.060) is: 0.812\n",
            "Accuracy of BernoulliNB classifier for (alpha=0.010, binarize=0.080) is: 0.756\n",
            "Accuracy of BernoulliNB classifier for (alpha=0.010, binarize=0.200) is: 0.345\n",
            "================================================================================\n",
            "Accuracy of BernoulliNB classifier for (alpha=0.100, binarize=0.000) is: 0.786\n",
            "Accuracy of BernoulliNB classifier for (alpha=0.100, binarize=0.002) is: 0.794\n",
            "Accuracy of BernoulliNB classifier for (alpha=0.100, binarize=0.020) is: 0.850\n",
            "Accuracy of BernoulliNB classifier for (alpha=0.100, binarize=0.040) is: 0.844\n",
            "Accuracy of BernoulliNB classifier for (alpha=0.100, binarize=0.060) is: 0.777\n",
            "Accuracy of BernoulliNB classifier for (alpha=0.100, binarize=0.080) is: 0.708\n",
            "Accuracy of BernoulliNB classifier for (alpha=0.100, binarize=0.200) is: 0.299\n",
            "================================================================================\n",
            "Accuracy of BernoulliNB classifier for (alpha=1.000, binarize=0.000) is: 0.633\n",
            "Accuracy of BernoulliNB classifier for (alpha=1.000, binarize=0.002) is: 0.637\n",
            "Accuracy of BernoulliNB classifier for (alpha=1.000, binarize=0.020) is: 0.713\n",
            "Accuracy of BernoulliNB classifier for (alpha=1.000, binarize=0.040) is: 0.666\n",
            "Accuracy of BernoulliNB classifier for (alpha=1.000, binarize=0.060) is: 0.525\n",
            "Accuracy of BernoulliNB classifier for (alpha=1.000, binarize=0.080) is: 0.431\n",
            "Accuracy of BernoulliNB classifier for (alpha=1.000, binarize=0.200) is: 0.122\n"
          ]
        }
      ],
      "execution_count": 15,
      "metadata": {}
    },
    {
      "cell_type": "markdown",
      "source": [
        "#### Answers:\n",
        "\n",
        "For MultinomialNB classifier, among 5 different alpha values tested, alpha = 0.001 yielded highest accuracy at 0.893.\n",
        "\n",
        "For BernoulliNB classifier,with binarize=0.020, it yielded highest accuracy regardless of alpha values chosen.\n",
        "\n",
        "For BernoulliNB classifier, it appears that when alpha value is less than or equal to 0.1, the accuracy can be pretty high with an appropriate binarize value.\n",
        "\n",
        "These classifiers are so fast because they allow the decoupling of the class conditional features. This allows comparisons to be made independently which can significantly speed up comparisons in datasets with high dimensionality.\n",
        "\n",
        "The alpha value controls the smoothing performed on the model, which affects the weight of features that might not have much impact on the classification and prevents zero probabilities in further computations."
      ],
      "metadata": {}
    },
    {
      "cell_type": "markdown",
      "source": [
        "________________________________________________________________________________________________________\n",
        "\n",
        "That's all! Please **upload your rendered notebook to blackboard** and please include **team member names** in the notebook submission."
      ],
      "metadata": {
        "collapsed": true
      }
    }
  ],
  "metadata": {
    "kernelspec": {
      "display_name": "Python 3",
      "language": "python",
      "name": "python3"
    },
    "language_info": {
      "codemirror_mode": {
        "name": "ipython",
        "version": 3
      },
      "file_extension": ".py",
      "mimetype": "text/x-python",
      "name": "python",
      "nbconvert_exporter": "python",
      "pygments_lexer": "ipython3",
      "version": "3.6.8"
    },
    "nteract": {
      "version": "0.15.0"
    }
  },
  "nbformat": 4,
  "nbformat_minor": 1
}