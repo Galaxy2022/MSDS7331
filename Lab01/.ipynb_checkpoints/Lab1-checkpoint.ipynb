{
 "cells": [
  {
   "cell_type": "markdown",
   "metadata": {},
   "source": []
  },
  {
   "cell_type": "markdown",
   "metadata": {},
   "source": []
  },
  {
   "cell_type": "markdown",
   "metadata": {},
   "source": [
    "## Assignment 1"
   ]
  },
  {
   "cell_type": "markdown",
   "metadata": {},
   "source": [
    "### Describe the purpose of the data set you selected:"
   ]
  },
  {
   "cell_type": "markdown",
   "metadata": {},
   "source": [
    "\n",
    "I used the diabetes data set from UCI machine learning repository.  It has 101,766 patient records, with 55 attributes.  The data was collected from 130 hospitals between the years 1999 to 2008 for regular, non-intensive-care-unit hospital admissions.  The records reflect the clinical data collected during a patient's hospital stay, pertinent to the treatment of diabetes.  (Since my wife has diabetes, I was interested in the type of data collected).\n",
    "\n",
    "The purpose of the data set was to determine which characteristics of the patient and care they received had the most bearing on long-term health, which was determined by whether or not the patient was readmitted to the hospital within 30 days or after 30 days.\n",
    "\n",
    "A good prediction algorithm would establish a relationship or correlation between a specific attribute or group of attributes with the probability of readmission to the hospital.\n",
    "\n"
   ]
  },
  {
   "cell_type": "markdown",
   "metadata": {},
   "source": [
    "### Data Understanding - Describe the meaning and type of data for each attribute in the data file"
   ]
  },
  {
   "cell_type": "raw",
   "metadata": {},
   "source": [
    "The description of all 55 fields of the data attributes can be found at http://www.hindawi.com/journals/bmri/2014/781670/tab1/.  I only used 10 of the 55 attributes because on this assignment because I was learning to use the tools, and found  visualizing and using 55 fields very cumbersome.  Some of the fields, such as patient number and encounter ID, provided no useful information.  A few of the fields, such as weight, had so many missing entries that they were useless.  \n",
    "\n",
    "I have included the description of the fields that I used below \n",
    "\n",
    "I have included this table here, with some comments:\n",
    "Attribute           Data Type    Description                        %missing      \n",
    "Race\t            Nominal\t     Caucasian, Asian, \n",
    "                                 African American, Hispanic, \n",
    "                                 and other\t                        2%\n",
    "Gender              Nominal\t     male, female, and unknown/invalid\t0%\n",
    "Age\t                Nominal      Grouped in 10-year intervals       0%\n",
    "Time in hospital    Integer      Number of days between admission \n",
    "                                 and discharge                      0%\n",
    "Glucose serum test result\n",
    "                    Nominal      Indicates the range of the result\n",
    "                                 or if the test was not taken. \n",
    "                                 Values: “>200,” “>300,” “normal,”\n",
    "                                 and “none” if not measured         0%            \n",
    "A1c test result     Nominal      Indicates the range of the \n",
    "                                 result or if the test was not \n",
    "                                 taken. Values: “>8” if the result\n",
    "                                 was greater than 8%, “>7” if the \n",
    "                                 result was greater than 7% but \n",
    "                                 less than 8%, “normal” if the \n",
    "                                 result was less than 7%, and \n",
    "                                 “none” if not measured.           0%\n",
    "Change of medications\t\n",
    "                   Nominal       Indicates if there was a change\n",
    "                                 in diabetic medications (either \n",
    "                                 dosage or generic name). \n",
    "                                 Values: “change” and “no change”\t0%\n",
    "Diabetes medications\n",
    "                   Nominal       Indicates if there was any \n",
    "                                 diabetic medication prescribed. \n",
    "                                 Values: “yes” and “no”             0%\n",
    "Readmitted\t       Nominal       Days to inpatient readmission. \n",
    "                                 Values: “<30” if the patient \n",
    "                                 was readmitted in less than 30 \n",
    "                                 days, “>30” if the patient was \n",
    "                                 readmitted in more than 30 days, \n",
    "                                 and “No” for no record of readmission.\t0%\n",
    "\n",
    "The glucose serum test is the standard pin-prick blood test that diabetics take on a daily basis.  A normal value taken two hours after eating is below 150 mg/dL.  Higher than 200 is considered poor, and higher than 300 is dangerous.  Prolonged high levels are dangerous to long-term health.\n",
    "\n",
    "The A1C test reflects average blood sugar values over a 60 to 90 day interval. A normal value is around 5.0.  Patients with diabetes are advised to keep it below 7.  Above 7 is considered relatively high.  Above 8 indicates that the patient's diabetes is not being well managed.\n",
    "\n",
    "Although the data description provided indicates that there were no missing values for the Glucose Serum Test and A1C test result, there were actually only very few tests.  Most of the attributes indicated \"None\", indicating that no test was done.  There were 5346 measurements for the glucose serum test (out of 100,000 patients), and 17018 measurements of the A1C level.  \n",
    "\n",
    "I left out the diagnosis codes because they are nominal data taken from insurance company diagnosis codes to which I did not have access at the time I analyzed the data.\n",
    "\n",
    "I removed the unused fields with the LibrOffice Calc spreadsheet program rather than ipython.  On the spreadsheet the data columns were easier to see and remove than with ipython.\n",
    "\n"
   ]
  },
  {
   "cell_type": "markdown",
   "metadata": {},
   "source": [
    "### Verify Data Quality"
   ]
  },
  {
   "cell_type": "markdown",
   "metadata": {},
   "source": [
    "As mentioned above, there were many missing values for the A1C and glucose serum test results. For these I used the mean value or median value of the existing measurements for some calculations.  For other calculations I used only the patients for which data were provided.  The values for \"race\" had many missing values also, and I replaced these values with \"Other\".\n",
    "\n",
    "The provided data description mentioned no duplicates.\n",
    "\n",
    "All of the meaurements were put into nominal ranges, and therefore there were no outliers.  "
   ]
  },
  {
   "cell_type": "code",
   "execution_count": 1,
   "metadata": {},
   "outputs": [
    {
     "name": "stdout",
     "output_type": "stream",
     "text": [
      "total 26712\n",
      "drwxr-xr-x 1 04616598 Domain Users        0 Sep  6 13:37 .\n",
      "drwxr-xr-x 1 04616598 Domain Users        0 Sep  6 13:42 ..\n",
      "-rw-r--r-- 1 04616598 Domain Users     2547 May 16  2014 IDs_mapping.csv\n",
      "-rw-r--r-- 1 04616598 Domain Users  2941524 Jan 20  2019 cardio_train.csv\n",
      "-rw-r--r-- 1 04616598 Domain Users 19159383 May 16  2014 diabetic_data.csv\n",
      "-rw-r--r-- 1 04616598 Domain Users  5238567 Feb  3  2015 diabetic_data_trimmed.csv\n"
     ]
    }
   ],
   "source": [
    "!ls -all Data"
   ]
  },
  {
   "cell_type": "code",
   "execution_count": 2,
   "metadata": {},
   "outputs": [
    {
     "ename": "ModuleNotFoundError",
     "evalue": "No module named 'pandas'",
     "output_type": "error",
     "traceback": [
      "\u001b[1;31m---------------------------------------------------------------------------\u001b[0m",
      "\u001b[1;31mModuleNotFoundError\u001b[0m                       Traceback (most recent call last)",
      "\u001b[1;32m<ipython-input-2-0d9f7d16dbaa>\u001b[0m in \u001b[0;36m<module>\u001b[1;34m\u001b[0m\n\u001b[1;32m----> 1\u001b[1;33m \u001b[1;32mimport\u001b[0m \u001b[0mpandas\u001b[0m \u001b[1;32mas\u001b[0m \u001b[0mpd\u001b[0m\u001b[1;33m\u001b[0m\u001b[1;33m\u001b[0m\u001b[0m\n\u001b[0m\u001b[0;32m      2\u001b[0m \u001b[0mdf\u001b[0m \u001b[1;33m=\u001b[0m \u001b[0mpd\u001b[0m\u001b[1;33m.\u001b[0m\u001b[0mread_csv\u001b[0m\u001b[1;33m(\u001b[0m\u001b[1;34m\"Data/diabetic_data_trimmed.csv\"\u001b[0m\u001b[1;33m)\u001b[0m \u001b[1;31m#read in the csv file\u001b[0m\u001b[1;33m\u001b[0m\u001b[1;33m\u001b[0m\u001b[0m\n",
      "\u001b[1;31mModuleNotFoundError\u001b[0m: No module named 'pandas'"
     ]
    }
   ],
   "source": [
    "import pandas as pd\n",
    "df = pd.read_csv(\"Data/diabetic_data_trimmed.csv\") #read in the csv file\n"
   ]
  },
  {
   "cell_type": "code",
   "execution_count": null,
   "metadata": {},
   "outputs": [],
   "source": [
    "# from the instructor: note that there are more compact syntax representations for this\n",
    "# the \"replace\" function in pandas is very powerful\n",
    "# http://pandas.pydata.org/pandas-docs/stable/generated/pandas.DataFrame.replace.html \n",
    "\n",
    "import numpy as np\n",
    "import copy\n",
    "df = df.replace(to_replace='?',value=np.nan) # replace '?' with NaN (not a number)\n",
    "df = df.replace(to_replace=\"[0-10)\",value=5) # convert age ranges to numeric ordinal\n",
    "df = df.replace(to_replace=\"[10-20)\",value=15)\n",
    "df = df.replace(to_replace=\"[20-30)\",value=25)\n",
    "df = df.replace(to_replace=\"[30-40)\",value=35)\n",
    "df = df.replace(to_replace=\"[40-50)\",value=45)\n",
    "df = df.replace(to_replace=\"[50-60)\",value=55)\n",
    "df = df.replace(to_replace=\"[60-70)\",value=65)\n",
    "df = df.replace(to_replace=\"[70-80)\",value=75)\n",
    "df = df.replace(to_replace=\"[80-90)\",value=85)\n",
    "df = df.replace(to_replace=\"[90-100)\",value=95)\n",
    "df = df.replace(to_replace=\"[100-110)\",value=105)\n",
    "df = df.replace(to_replace='No',value=0) # convert boolean to numeric\n",
    "df = df.replace(to_replace=\"Yes\", value=1)\n",
    "df = df.replace(to_replace='Ch',value=1) #convert med change to numeric\n",
    "df = df.replace(to_replace='Steady',value=2)\n",
    "df = df.replace(to_replace='Up',value=3)\n",
    "df = df.replace(to_replace='Down',value=4)\n",
    "df = df.replace(to_replace='NO',value=0) #convert readmission (what we are trying to calculate to numeric\n",
    "df = df.replace(to_replace='<30',value=1)\n",
    "df = df.replace(to_replace='>30',value=1)\n",
    "\n",
    "#replace blood sugar measurement (max_glu_serum) with numeric values for analysis\n",
    "df_serum = copy.deepcopy(df.max_glu_serum)\n",
    "df_serum = df_serum.replace(to_replace='Norm',value=1.0) # normal is in the 80 to 130 range\n",
    "df_serum = df_serum.replace(to_replace='>200',value=2.0) # use 2 (instead of 200) as a nominal value here\n",
    "df_serum = df_serum.replace(to_replace='>300',value=3.0) # use 3 as a nominal value here\n",
    "df_serum = df_serum.replace(to_replace='None',value=np.nan) # use not a number as an unknown value here, so we can identify it\n",
    "#convert the nans to the mean value so the average doesn't change\n",
    "df_serum = df_serum.replace(to_replace=np.nan, value=df_serum.mean())\n",
    "df[\"serum\"] = df_serum\n",
    "\n",
    "# adjust the A1C measurements\n",
    "df_a1c = copy.deepcopy(df.A1Cresult)\n",
    "df_a1c = df_a1c.replace(to_replace='>7',value=7.5) # use 7.5 as a nominal value here\n",
    "df_a1c = df_a1c.replace(to_replace='>8',value=8.5) # use 8.5 as a nominal value here\n",
    "df_a1c = df_a1c.replace(to_replace='None', value=np.nan);\n",
    "df_a1c = df_a1c.replace(to_replace='Norm', value=6.0);\n",
    "# use the median for the \"nan\" values to keep the grouping for the bar charts\n",
    "df_a1c = df_a1c.replace(to_replace=np.nan, value=df_a1c.median())\n",
    "df[\"a1c\"] = df_a1c\n",
    "\n",
    "# make the sex numeric so we can see the percentage of males to females\n",
    "df_sex = copy.deepcopy(df.gender)\n",
    "df_sex = df_sex.replace(to_replace='Male',value=0) #convert sex to numeric\n",
    "df_sex = df_sex.replace(to_replace='Female',value=1)\n",
    "df_sex = df_sex.replace(to_replace='Unknown/Invalid',value=np.nan) # make unknown sex the average\n",
    "df_sex = df_sex.replace(to_replace=np.nan, value=df_sex.mean())\n",
    "df[\"sex\"] = df_sex\n",
    "\n",
    "df.info()\n",
    "df.describe()\n"
   ]
  },
  {
   "cell_type": "markdown",
   "metadata": {},
   "source": [
    "### Simple Statistics"
   ]
  },
  {
   "cell_type": "markdown",
   "metadata": {},
   "source": [
    "The table above shows the simple statistics for the numeric values in the table."
   ]
  },
  {
   "cell_type": "markdown",
   "metadata": {},
   "source": [
    "We can see that the average patient was between 60 and 70 years old, spent slightly over 4 days in the hospital, was likely to have had no change in medication, was probably taking some type of diabetes medication, had a glucose serum level of about 175, had an A1C level of 7.5, and was slightly more likely to be female than male.\n",
    "\n",
    "This matches the provided data description in that one would expect a higher than normal glucose serum level and A1C test result in a population of diabetics. A patient also had a 46% chance of being readmitted to the hospital. \n",
    "\n",
    "The counts show that all of the missing data have been replaced with the mean values of the provided data.  I also calculated some cross-field statistics as shown below."
   ]
  },
  {
   "cell_type": "code",
   "execution_count": null,
   "metadata": {},
   "outputs": [],
   "source": [
    "#import the other packages\n",
    "%matplotlib inline\n",
    "import matplotlib.pyplot as plt\n",
    "import warnings\n",
    "warnings.simplefilter('ignore', DeprecationWarning)\n"
   ]
  },
  {
   "cell_type": "code",
   "execution_count": null,
   "metadata": {},
   "outputs": [],
   "source": [
    "# find the percentage of people who were readmitted\n",
    "percentReadmitted = float(len(df[df.readmitted != 0]))/len(df) * 100\n",
    "print percentReadmitted"
   ]
  },
  {
   "cell_type": "markdown",
   "metadata": {},
   "source": [
    "The readmission percentage above matches the calculation from the data frame describe() function in the table."
   ]
  },
  {
   "cell_type": "code",
   "execution_count": null,
   "metadata": {},
   "outputs": [],
   "source": [
    "# find the percentage of people who were readmitted if they had an A1C measurement greater than normal (6.0)\n",
    "df_A1C = copy.deepcopy(df[df.a1c > 6.0])\n",
    "a1cLen = len(df_A1C);\n",
    "df_A1C = df_A1C[df_A1C.readmitted > 0]\n",
    "percentBoth = float(len(df_A1C))/float(a1cLen) * 100\n",
    "print percentBoth"
   ]
  },
  {
   "cell_type": "markdown",
   "metadata": {},
   "source": [
    "This number is the percentage of patients who were readmitted if they had an elevated A1C measurement.  It shows that a person with an elevated A1C measurement was only slightly more likely to be readmitted to the hospital than the average patient. (46.31% vs 46.09%) "
   ]
  },
  {
   "cell_type": "code",
   "execution_count": null,
   "metadata": {},
   "outputs": [],
   "source": [
    "#find the percentage of people who were readmitted if they stayed in the hospital more than least one day\n",
    "df_hospitalized = copy.deepcopy(df[df.time_in_hospital > 1.0])\n",
    "hospLen = len(df_hospitalized)\n",
    "df_hospitalized = df_hospitalized[df_hospitalized.readmitted > 0]\n",
    "percentBoth = float(len(df_hospitalized))/float(hospLen) * 100\n",
    "print percentBoth"
   ]
  },
  {
   "cell_type": "markdown",
   "metadata": {},
   "source": [
    "Here we see the percentage of patients eventually readmitted who had an initial hospital stay of more than one day.  A person with a longer hospital stay was slightly more likely to be readmitted than the average patient (47.13% vs 46.09%)"
   ]
  },
  {
   "cell_type": "code",
   "execution_count": null,
   "metadata": {},
   "outputs": [],
   "source": [
    "#find the percentage of people who were readmitted if they had an insulin change\n",
    "df_change = copy.deepcopy(df[df.insulin > 1])\n",
    "changeLen = len(df_change)\n",
    "df_change = df_change[df_change.readmitted > 0]\n",
    "percentBoth = float(len(df_change))/float(changeLen) * 100\n",
    "print percentBoth\n"
   ]
  },
  {
   "cell_type": "markdown",
   "metadata": {},
   "source": [
    "Here we we see the percentage of patients eventually readmitted after their insulin dosage was changed.  |A person with an insulin change was about 2% more likely to be readmitted than the average patient (48.17% vs 46.09%)"
   ]
  },
  {
   "cell_type": "code",
   "execution_count": null,
   "metadata": {},
   "outputs": [],
   "source": [
    "#find the percentage of people who were readmitted if they had an A1C test at all\n",
    "df_a1ctest = copy.deepcopy(df[df.A1Cresult != 'None'])\n",
    "a1cLen = len(df_a1ctest)\n",
    "df_a1ctest = df_a1ctest[df_a1ctest.readmitted > 0]\n",
    "percentBoth = float(len(df_a1ctest))/float(a1cLen) * 100\n",
    "print percentBoth\n"
   ]
  },
  {
   "cell_type": "markdown",
   "metadata": {},
   "source": [
    "If the hospital administered an A1C test on a patient, the patient was about 2% LESS likely to be readmitted than the average patient (43.92% vs 46.09%).  This is regardless of the test result (normal or elevated).  This is counterintuitive in that the act of running the test affected the result, not the measurement itself.  \n",
    "\n",
    "One possible explanation for this (and I am guessing here) is that patients that had the test with an elevated result and were informed of the result may have taken better care of themselves after their first hospital stay.\n",
    "\n",
    "Some cross tabulations of a few of the fields is enlightening\n"
   ]
  },
  {
   "cell_type": "code",
   "execution_count": null,
   "metadata": {},
   "outputs": [],
   "source": [
    "readmission_counts = pd.crosstab([df['gender'],df['age']], df.readmitted.astype(bool))\n",
    "readmission_counts.plot(kind='bar', stacked=True, color=['green','red'])\n",
    "\n",
    "readmission_counts = pd.crosstab([df['race'],df['gender']], df.readmitted.astype(bool))\n",
    "readmission_counts.plot(kind='bar', stacked=True, color=['green','red'])"
   ]
  },
  {
   "cell_type": "markdown",
   "metadata": {},
   "source": [
    "We can see from the above that the majority of patients were in the 65 to 80 age group, with very few very young patients.\n",
    "Also, the majority were Caucasian with some African Americans.  There were comparatively few Hispanic and Asian patients."
   ]
  },
  {
   "cell_type": "markdown",
   "metadata": {},
   "source": [
    "### Data Visualization and Attribute Relationships"
   ]
  },
  {
   "cell_type": "markdown",
   "metadata": {},
   "source": [
    "The following section shows bar charts and cross tabulations of the relationships between the different attributes and the readmission rates for each group of attributes.  The bar charts are very convenient in that they quickly show the differences between the readmission rates for each grouped attribute."
   ]
  },
  {
   "cell_type": "code",
   "execution_count": null,
   "metadata": {},
   "outputs": [],
   "source": [
    "# print a bar chart of the people who were readmitted by A1Cresult\n",
    "df_a1c = copy.deepcopy(df)\n",
    "#replace the 2's with 1's so that the sum works out\n",
    "df_a1c.readmitted = df_a1c.readmitted.replace(to_replace=2,value=1)\n",
    "df_a1c = df_a1c.groupby(by=['gender','A1Cresult'])\n",
    "readmission_rate = df_a1c.readmitted.sum() / df_a1c.readmitted.count()\n",
    "readmission_rate.plot(kind='barh', stacked=True, color = ['green', 'red'])\n"
   ]
  },
  {
   "cell_type": "markdown",
   "metadata": {},
   "source": [
    "This is a bar chart graphing A1C levels and gender against the likelihood of readmission to the hospital.  This chart reflects the counterintuitive result above in that a male with no A1C measurement was more likely to be readmitted than a male with an elevated A1C measurement.  And a female with no measurement at all was just about as likely to be readmitted as a female with an elevated A1C measurement.  The bar chart was chosen because it allows easy comparison between groups.  "
   ]
  },
  {
   "cell_type": "code",
   "execution_count": null,
   "metadata": {},
   "outputs": [],
   "source": [
    "# print a bar chart of the people who were readmitted by age range and gender\n",
    "df_ageGroup = copy.deepcopy(df)\n",
    "#replace the 2's with 1's so that the sum works out\n",
    "df_ageGroup.readmitted = df_ageGroup.readmitted.replace(to_replace=2,value=1)\n",
    "df_ageGroup = df_ageGroup.groupby(by=['age','gender'])\n",
    "readmission_rate = df_ageGroup.readmitted.sum() / df_ageGroup.readmitted.count()\n",
    "readmission_rate.plot(kind='barh', stacked=True, color = ['green', 'red'])\n",
    "                       "
   ]
  },
  {
   "cell_type": "markdown",
   "metadata": {},
   "source": [
    "Bar chart of age and gender against the likelihood of readmission.\n",
    "\n",
    "We can see here that the younger patients were, in general, less likely to be readmitted to the hospital than the older patients (with the exception of female patients in the 20 to 20 age group).  This would follow if older patients are in more fragile health and less resilient than younger patients. It is also interesting that patients older than 90 were less likely to be readmitted than the patients over 25.  This may be due to the fact that some of the very old patients passed away before they could be readmitted.  Again, the bar chart allows for easy comparison - the Female patients in the 15 year (10 to 20) and 25 year (20 to 30) were somewhat more likely to be readmitted than their male counterparts, but I have no explanation for this."
   ]
  },
  {
   "cell_type": "code",
   "execution_count": null,
   "metadata": {},
   "outputs": [],
   "source": [
    "readmission_counts = pd.crosstab([df['gender'],df['age']], df.readmitted.astype(bool))\n",
    "readmission_counts.plot(kind='bar', stacked=True, color=['green','red'])\n",
    "\n",
    "# divide the counts to get rates\n",
    "readmission_rate = readmission_counts.div(readmission_counts.sum(1).astype(float),axis=0)\n",
    "readmission_rate.plot(kind='barh', stacked=True, color=['green','red'])\n"
   ]
  },
  {
   "cell_type": "markdown",
   "metadata": {},
   "source": [
    "The top chart is a repeat of the cross tabulation of the age and gender of the patients against the number of patients that were readmitted.  The cross tabulation shows actual patient counts, as opposed to the bottom chart which shows readmission rates.\n",
    "\n",
    "The bottom chart is another version of the age/gender bar chart in the previous graph, but with the readmission rates on the same bar.  This is not as easy understand as the simpler bar chart above."
   ]
  },
  {
   "cell_type": "code",
   "execution_count": null,
   "metadata": {},
   "outputs": [],
   "source": [
    "# print a bar chart of the people who were readmitted by age range and a1c level\n",
    "df_ageGroup = copy.deepcopy(df)\n",
    "#replace the 2's with 1's so that the sum works out\n",
    "df_ageGroup.readmitted = df_ageGroup.readmitted.replace(to_replace=2,value=1)\n",
    "df_ageGroup = df_ageGroup.groupby(by=['age','a1c'])\n",
    "readmission_rate = df_ageGroup.readmitted.sum() / df_ageGroup.readmitted.count()\n",
    "readmission_rate.plot(kind='barh', stacked=True, color = ['green', 'red'])\n"
   ]
  },
  {
   "cell_type": "markdown",
   "metadata": {},
   "source": [
    "Bar chart of age and A1C level against the likelihood of readmission\n",
    "\n",
    "We can see from the above chart that patients in the 70 to 89 age group were more likely to be readmitted if they had an elevated A1C level.  This also follows intuitively in that older patients are more fragile and an elevated A1C level indicates that they are not controlling their blood sugar levels.  Again, the bar charts allow for easy identification of outstanding attributes.\n",
    "\n",
    "A cross tabulation of the above is shown in the next chart and it shows the number of patients in each group rather than the readmission rate.  The cross tabulation below shows what the simple statistics at the start of this page illustrate:  Most of the patients were in the 60 to 80 age group.  There were very few young patients, and most of the patients had A1C levels in the 7.0 to 8.0 range (of course most of the patients had no A1C measurement, but I imputed the remainder based on the median of the actual measurements)."
   ]
  },
  {
   "cell_type": "code",
   "execution_count": null,
   "metadata": {},
   "outputs": [],
   "source": [
    "readmission_counts = pd.crosstab([df['age'],df['a1c']], df.readmitted.astype(bool))\n",
    "readmission_counts.plot(kind='bar', stacked=True, color=['green','red'])\n"
   ]
  },
  {
   "cell_type": "code",
   "execution_count": null,
   "metadata": {},
   "outputs": [],
   "source": [
    "# print a bar chart of the people who were readmitted race and gender\n",
    "df_raceGroup = copy.deepcopy(df)\n",
    "#replace the 2's with 1's so that the sum works out\n",
    "df_raceGroup.readmitted = df_raceGroup.readmitted.replace(to_replace=2,value=1)\n",
    "df_raceGroup = df_raceGroup.groupby(by=['race','gender'])\n",
    "readmission_rate = df_raceGroup.readmitted.sum() / df_raceGroup.readmitted.count()\n",
    "readmission_rate.plot(kind='barh', stacked=True, color = ['green', 'red'])\n",
    "\n",
    "readmission_counts = pd.crosstab([df['race'],df['gender']], df.readmitted.astype(bool))\n",
    "readmission_counts.plot(kind='bar', stacked=True, color=['green','red'])\n",
    "\n"
   ]
  },
  {
   "cell_type": "markdown",
   "metadata": {},
   "source": [
    "Bar chart of ethnic group and gender vs likelihood of readmission\n",
    "\n",
    "This bar chart shows that people of Asian descent were the least likely to be readmitted to the hospital, and that Caucasian females were most likely to be readmitted.  Caucasian males and African Americans of both sexes had about the same probability of readmission.  Hispanics of both sexes were slightly less likely to be readmitted than Caucasians and African Americans.  This shows, perhaps, that diabetic Caucasians are no healthier than diabetic African Americans.  It says nothing about the Caucasian and African Americans in general.\n",
    "\n",
    "The cross-tabulation chart shows the number of patients of each ethnic grouop.  There were very few Asian and Hispanic patients.  Most of the patients were Caucasian, with a smaller percentage of African Americans.\n",
    "\n",
    "And finally we have the plot of gender and glucose serum level vs readmission rate:"
   ]
  },
  {
   "cell_type": "code",
   "execution_count": null,
   "metadata": {},
   "outputs": [],
   "source": [
    "# print a bar chart of the people who were readmitted race and gender\n",
    "df_serumGroup = copy.deepcopy(df)\n",
    "#replace the 2's with 1's so that the sum works out\n",
    "df_serumGroup.readmitted = df_serumGroup.readmitted.replace(to_replace=2,value=1)\n",
    "df_serumGroup = df_serumGroup.groupby(by=['gender','max_glu_serum'])\n",
    "readmission_rate = df_serumGroup.readmitted.sum() / df_serumGroup.readmitted.count()\n",
    "readmission_rate.plot(kind='barh', stacked=True, color = ['green', 'red'])\n",
    "\n",
    "readmission_counts = pd.crosstab([df['gender'],df['max_glu_serum']], df.readmitted.astype(bool))\n",
    "readmission_counts.plot(kind='bar', stacked=True, color=['green','red'])\n"
   ]
  },
  {
   "cell_type": "markdown",
   "metadata": {},
   "source": [
    "The above shows that for the glucose serum levels collected, those with levels above 300 were most likely to be rehospitalized.  Ladies with serum levels above 300 had an almost 60% chance of returning.  But those with normal levels had about the same chance of returning as those with no measurement at all.\n",
    "\n",
    "However, the bottom chart illustrates that the data for serum levels are relatively sparse.  "
   ]
  },
  {
   "cell_type": "markdown",
   "metadata": {},
   "source": [
    "### Interesting Features"
   ]
  },
  {
   "cell_type": "markdown",
   "metadata": {},
   "source": [
    "The most interesting feature about the data was the counter-intuitive statistic that merely performing the A1C test slightly reduced the readmission rate (about 2%).  \n",
    "\n",
    "The other interesting feature was that the Caucasian and African American statistics on readmission were very similar, at least among diabetic patients.  I had read that African Americans are more likely to have health problems than Caucasians, but this showed that, at least among diabetics, they were rehospitalized at the same rates after their initial hospital visit.\n",
    "\n",
    "The fact that Asians are very noticeably healthier than the other ethnic group was also interesting.  My wife is Asian and diabetic.  Perhaps it is their diet?\n"
   ]
  },
  {
   "cell_type": "markdown",
   "metadata": {},
   "source": [
    "### Other Features That Could Be Added"
   ]
  },
  {
   "cell_type": "markdown",
   "metadata": {},
   "source": [
    "There are 45 more attributes in the data set that could be explored. \n",
    "\n",
    "I would be interested in revisiting it and using some of the data reduction techniques discussed in class to consolidate them and see how they affect the readmission rates.  For example, there were many medications that could be correlated against the readmission rate.  And the medical diagnosis codes could be grouped and quantified. Unfortunately I ran out of time on this assignment, and was unable to pursue it further.\n"
   ]
  },
  {
   "cell_type": "markdown",
   "metadata": {},
   "source": [
    "### Exceptional work: "
   ]
  },
  {
   "cell_type": "markdown",
   "metadata": {},
   "source": [
    "I had to forego this section due to time constraints.  It took me about 22 hours to complete this, and it is 11:00 on Thursday night.  I expect that the next assignment will go better since I have a better understanding of the tools."
   ]
  },
  {
   "cell_type": "markdown",
   "metadata": {
    "collapsed": true
   },
   "source": [
    "This plain text.\n",
    "\n",
    "#Header\n",
    "##Subheader\n",
    "\n",
    "$x=5$\n"
   ]
  },
  {
   "cell_type": "code",
   "execution_count": null,
   "metadata": {},
   "outputs": [],
   "source": []
  }
 ],
 "metadata": {
  "kernelspec": {
   "display_name": "Python 3",
   "language": "python",
   "name": "python3"
  },
  "language_info": {
   "codemirror_mode": {
    "name": "ipython",
    "version": 3
   },
   "file_extension": ".py",
   "mimetype": "text/x-python",
   "name": "python",
   "nbconvert_exporter": "python",
   "pygments_lexer": "ipython3",
   "version": "3.7.1"
  }
 },
 "nbformat": 4,
 "nbformat_minor": 1
}
