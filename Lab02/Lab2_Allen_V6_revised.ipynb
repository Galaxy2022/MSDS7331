{
 "cells": [
  {
   "cell_type": "markdown",
   "metadata": {},
   "source": [
    "# Data Mining 7331 - Fall 2019\n",
    "## Lab 2 - Classification\n",
    "\n",
    "* **Allen Ansari**\n",
    "* **Chad Madding**\n",
    "* **Yongjun (Ian) Chu**"
   ]
  },
  {
   "cell_type": "markdown",
   "metadata": {},
   "source": [
    "## Introduction\n",
    "Cardiovascular diseases (CVD) are the no. 1 cause of death in US each year. To reduce the death rate, the best approach is by early detection and screening. In this Lab we will implement models including decision tree, Random Forest, KNN and Support Vector Machine (SVM) to predict the probability of a patient having CVD based on results from medical examinations, such as blood pressure values and glucose content.\n",
    "In addition, we will also try to set up models to predict cholesterol level (normal or not) for each patient based on their medical exam results."
   ]
  },
  {
   "cell_type": "markdown",
   "metadata": {},
   "source": [
    "## Data description\n",
    "\n",
    "We will be performing an analysis of the cardiovascular diseases dataset found on Kaggle (https://www.kaggle.com/sulianova/cardiovascular-disease-dataset). It consists of 70,000 records of patient’s data in 12 features, such as age, gender, systolic blood pressure, diastolic blood pressure and CVD status(binary, 1 or 0).\n",
    "There are 3 types of input features:\n",
    "\n",
    "- *Objective*: factual information;\n",
    "- *Examination*: results of medical examination;\n",
    "- *Subjective*: information given by the patient.\n",
    "\n",
    "|Feature   |Variable Type   |Variable   |Value Type   |\n",
    "|:---------|:--------------|:---------------|:------------|\n",
    "| Age | Objective Feature | age | int (days) |\n",
    "| Height | Objective Feature | height | int (cm) |\n",
    "| Weight | Objective Feature | weight | float (kg) |\n",
    "| Gender | Objective Feature | gender | categorical code |\n",
    "| Systolic blood pressure | Examination Feature | ap_hi | int |\n",
    "| Diastolic blood pressure | Examination Feature | ap_lo | int |\n",
    "| Cholesterol | Examination Feature | cholesterol | 1: normal, 2: above normal, 3: well above normal |\n",
    "| Glucose | Examination Feature | gluc | 1: normal, 2: above normal, 3: well above normal |\n",
    "| Smoking | Subjective Feature | smoke | binary |\n",
    "| Alcohol intake | Subjective Feature | alco | binary |\n",
    "| Physical activity | Subjective Feature | active | binary |\n",
    "| Presence or absence of cardiovascular disease | Target Variable | cardio | binary |\n",
    "\n",
    "For any binary data type, \"0\" means \"No\" and \"1\" means \"Yes\". All of the dataset values were collected at the moment of medical examination."
   ]
  },
  {
   "cell_type": "markdown",
   "metadata": {},
   "source": [
    "## Table of Contents<a id=\"top\"></a>\n",
    "\n",
    "* **[Data Preparation Part 1](#Data_Preparation_Part_1)**\n",
    "    *  Define and prepare your class variables. Use proper variable representations (int, float, one-hot, etc.). Use pre-processing methods (as needed) for dimensionality reduction, scaling, etc. Remove variables that are not needed/useful for the analysis.\n",
    "* **[Data Preparation Part 2](#Data_Preparation_Part_2)**\n",
    "    *  Describe the final dataset that is used for classification/regression (include a description of any newly formed variables you created).\n",
    "* **[Modeling and Evaluation 1](#Modeling_and_Evaluation_1)**\n",
    "    *  Choose and explain your evaluation metrics that you will use (i.e., accuracy, precision, recall, F-measure, or any metric we have discussed). Why are the measure(s) appropriate for analyzing the results of your modeling? Give a detailed explanation backing up any assertions.\n",
    "* **[Modeling and Evaluation 2](#Modeling_and_Evaluation_2)**\n",
    "    *  Choose the method you will use for dividing your data into training and testing splits (i.e., are you using Stratified 10-fold cross validation? Why?). Explain why your chosen method is appropriate or use more than one method as appropriate. For example, if you are using time series data then you should be using continuous training and testing sets across time.\n",
    "* **[Task 1](#Task_1)**\n",
    "    * **[1.1 Modeling and Evaluation 3](#1.1_Modeling_and_Evaluation_3)**\n",
    "         *  Create three different classification/regression models for each task (e.g., random forest, KNN, and SVM for task one and the same or different algorithms for task two). Two modeling techniques must be new (but the third could be SVM or logistic regression). Adjust parameters as appropriate to increase generalization performance using your chosen metric. You must investigate different parameters of the algorithms!\n",
    "    * **[1.2 Modeling and Evaluation 4](#1.2_Modeling_and_Evaluation_4)**\n",
    "         *  Analyze the results using your chosen method of evaluation. Use visualizations of the results to bolster the analysis. Explain any visuals and analyze why they are interesting to someone that might use this model.\n",
    "    * **[1.3 Modeling and Evaluation 5](#1.3_Modeling_and_Evaluation_5)**\n",
    "         *  Discuss the advantages of each model for each classification task, if any. If there are not advantages, explain why. Is any model better than another? Is the difference significant with 95% confidence? Use proper statistical comparison methods. You must use statistical comparison techniques—be sure they are appropriate for your chosen method of validation as discussed in unit 7 of the course.\n",
    "    * **[1.4 Modeling and Evaluation 6](#1.4_Modeling_and_Evaluation_6)**\n",
    "         *  Which attributes from your analysis are most important? Use proper methods discussed in class to evaluate the importance of different attributes. Discuss the results and hypothesize about why certain attributes are more important than others for a given classification task.\n",
    "* **[Task 2](#Task_2)**    \n",
    "    * **[2.1 Modeling and Evaluation 3](#2.1_Modeling_and_Evaluation_3)**\n",
    "         *  Create three different classification/regression models for each task (e.g., random forest, KNN, and SVM for task one and the same or different algorithms for task two). Two modeling techniques must be new (but the third could be SVM or logistic regression). Adjust parameters as appropriate to increase generalization performance using your chosen metric. You must investigate different parameters of the algorithms!\n",
    "    * **[2.2 Modeling and Evaluation 4](#2.2_Modeling_and_Evaluation_4)**\n",
    "         *  Analyze the results using your chosen method of evaluation. Use visualizations of the results to bolster the analysis. Explain any visuals and analyze why they are interesting to someone that might use this model.\n",
    "    * **[2.3 Modeling and Evaluation 5](#2.3_Modeling_and_Evaluation_5)**\n",
    "         *  Discuss the advantages of each model for each classification task, if any. If there are not advantages, explain why. Is any model better than another? Is the difference significant with 95% confidence? Use proper statistical comparison methods. You must use statistical comparison techniques—be sure they are appropriate for your chosen method of validation as discussed in unit 7 of the course.\n",
    "    * **[2.4 Modeling and Evaluation 6](#2.4_Modeling_and_Evaluation_6)**\n",
    "         *  Which attributes from your analysis are most important? Use proper methods discussed in class to evaluate the importance of different attributes. Discuss the results and hypothesize about why certain attributes are more important than others for a given classification task.\n",
    "* **[Deployment](#Deployment)**\n",
    "    *  How useful is your model for interested parties (i.e., the companies or organizations that might want to use it for prediction)? How would you measure the model's value if it was used by these parties? How would you deploy your model for interested parties? What other data should be collected? How often would the model need to be updated, etc.?\n",
    "* **[Exceptional Work](#Exceptional_Work)**\n",
    "    *  You have free reign to provide additional analyses. One idea: grid search parameters in a parallelized fashion and visualize the performances across attributes. Which parameters are most significant for making a good model for each classification algorithm?"
   ]
  },
  {
   "cell_type": "markdown",
   "metadata": {},
   "source": [
    "<a href=\"#top\">Back to Top</a>\n",
    "### Data_Preparation_Part_1 <a id=\"Data_Preparation_Part_1\"></a>\n",
    "* We obtained this CVD dataset from Kaggle. The purpose of this dataset was to determine which medical aspects had the most bearing on whether a patient would have CVD or not and have normal or not normal cholesterol level. "
   ]
  },
  {
   "cell_type": "code",
   "execution_count": 1,
   "metadata": {},
   "outputs": [
    {
     "name": "stdout",
     "output_type": "stream",
     "text": [
      "(70000, 13)\n"
     ]
    },
    {
     "data": {
      "text/html": [
       "<div>\n",
       "<style scoped>\n",
       "    .dataframe tbody tr th:only-of-type {\n",
       "        vertical-align: middle;\n",
       "    }\n",
       "\n",
       "    .dataframe tbody tr th {\n",
       "        vertical-align: top;\n",
       "    }\n",
       "\n",
       "    .dataframe thead th {\n",
       "        text-align: right;\n",
       "    }\n",
       "</style>\n",
       "<table border=\"1\" class=\"dataframe\">\n",
       "  <thead>\n",
       "    <tr style=\"text-align: right;\">\n",
       "      <th></th>\n",
       "      <th>id</th>\n",
       "      <th>age</th>\n",
       "      <th>gender</th>\n",
       "      <th>height</th>\n",
       "      <th>weight</th>\n",
       "      <th>ap_hi</th>\n",
       "      <th>ap_lo</th>\n",
       "      <th>cholesterol</th>\n",
       "      <th>gluc</th>\n",
       "      <th>smoke</th>\n",
       "      <th>alco</th>\n",
       "      <th>active</th>\n",
       "      <th>cardio</th>\n",
       "    </tr>\n",
       "  </thead>\n",
       "  <tbody>\n",
       "    <tr>\n",
       "      <td>0</td>\n",
       "      <td>0</td>\n",
       "      <td>18393</td>\n",
       "      <td>2</td>\n",
       "      <td>168</td>\n",
       "      <td>62.0</td>\n",
       "      <td>110</td>\n",
       "      <td>80</td>\n",
       "      <td>1</td>\n",
       "      <td>1</td>\n",
       "      <td>0</td>\n",
       "      <td>0</td>\n",
       "      <td>1</td>\n",
       "      <td>0</td>\n",
       "    </tr>\n",
       "    <tr>\n",
       "      <td>1</td>\n",
       "      <td>1</td>\n",
       "      <td>20228</td>\n",
       "      <td>1</td>\n",
       "      <td>156</td>\n",
       "      <td>85.0</td>\n",
       "      <td>140</td>\n",
       "      <td>90</td>\n",
       "      <td>3</td>\n",
       "      <td>1</td>\n",
       "      <td>0</td>\n",
       "      <td>0</td>\n",
       "      <td>1</td>\n",
       "      <td>1</td>\n",
       "    </tr>\n",
       "    <tr>\n",
       "      <td>2</td>\n",
       "      <td>2</td>\n",
       "      <td>18857</td>\n",
       "      <td>1</td>\n",
       "      <td>165</td>\n",
       "      <td>64.0</td>\n",
       "      <td>130</td>\n",
       "      <td>70</td>\n",
       "      <td>3</td>\n",
       "      <td>1</td>\n",
       "      <td>0</td>\n",
       "      <td>0</td>\n",
       "      <td>0</td>\n",
       "      <td>1</td>\n",
       "    </tr>\n",
       "    <tr>\n",
       "      <td>3</td>\n",
       "      <td>3</td>\n",
       "      <td>17623</td>\n",
       "      <td>2</td>\n",
       "      <td>169</td>\n",
       "      <td>82.0</td>\n",
       "      <td>150</td>\n",
       "      <td>100</td>\n",
       "      <td>1</td>\n",
       "      <td>1</td>\n",
       "      <td>0</td>\n",
       "      <td>0</td>\n",
       "      <td>1</td>\n",
       "      <td>1</td>\n",
       "    </tr>\n",
       "    <tr>\n",
       "      <td>4</td>\n",
       "      <td>4</td>\n",
       "      <td>17474</td>\n",
       "      <td>1</td>\n",
       "      <td>156</td>\n",
       "      <td>56.0</td>\n",
       "      <td>100</td>\n",
       "      <td>60</td>\n",
       "      <td>1</td>\n",
       "      <td>1</td>\n",
       "      <td>0</td>\n",
       "      <td>0</td>\n",
       "      <td>0</td>\n",
       "      <td>0</td>\n",
       "    </tr>\n",
       "  </tbody>\n",
       "</table>\n",
       "</div>"
      ],
      "text/plain": [
       "   id    age  gender  height  weight  ap_hi  ap_lo  cholesterol  gluc  smoke  \\\n",
       "0   0  18393       2     168    62.0    110     80            1     1      0   \n",
       "1   1  20228       1     156    85.0    140     90            3     1      0   \n",
       "2   2  18857       1     165    64.0    130     70            3     1      0   \n",
       "3   3  17623       2     169    82.0    150    100            1     1      0   \n",
       "4   4  17474       1     156    56.0    100     60            1     1      0   \n",
       "\n",
       "   alco  active  cardio  \n",
       "0     0       1       0  \n",
       "1     0       1       1  \n",
       "2     0       0       1  \n",
       "3     0       1       1  \n",
       "4     0       0       0  "
      ]
     },
     "execution_count": 1,
     "metadata": {},
     "output_type": "execute_result"
    }
   ],
   "source": [
    "#Import data all necessary libraries we will be using in our estimation\n",
    "\n",
    "import pandas as pd\n",
    "import numpy as np\n",
    "import matplotlib\n",
    "import matplotlib.pyplot as plt\n",
    "import seaborn as sns\n",
    "import math\n",
    "import re\n",
    "import sklearn\n",
    "import statistics\n",
    "import random\n",
    "\n",
    "from sklearn.feature_selection import SelectKBest, chi2, SelectPercentile, RFE, SelectFromModel\n",
    "\n",
    "from sklearn.preprocessing import StandardScaler, Binarizer\n",
    "\n",
    "from sklearn.linear_model import LogisticRegression, SGDClassifier\n",
    "from sklearn.svm import SVC, LinearSVC\n",
    "\n",
    "from sklearn.metrics import accuracy_score, confusion_matrix, roc_auc_score, auc, roc_curve\n",
    "from IPython.display import display, HTML\n",
    "\n",
    "from sklearn.pipeline import make_pipeline, Pipeline\n",
    "from sklearn.model_selection import train_test_split, GridSearchCV, KFold, TimeSeriesSplit, StratifiedShuffleSplit\n",
    "\n",
    "from sklearn.naive_bayes import MultinomialNB\n",
    "\n",
    "from sklearn.ensemble import GradientBoostingClassifier,GradientBoostingRegressor,AdaBoostClassifier,RandomForestClassifier, BaggingClassifier\n",
    "from sklearn.tree import DecisionTreeClassifier\n",
    "from sklearn.linear_model import LogisticRegression\n",
    "from sklearn.neighbors import KNeighborsClassifier\n",
    "\n",
    "%matplotlib inline\n",
    "\n",
    "matplotlib.style.use('ggplot')\n",
    "\n",
    "import warnings\n",
    "warnings.filterwarnings('ignore')\n",
    "\n",
    "#Bring in data set\n",
    "df = pd.read_csv('data/cardio_train.csv', sep= ';') #read in the csv file\n",
    "\n",
    "# Show the dimension and the first 5 rows of the dataset\n",
    "print(df.shape)\n",
    "df.head()"
   ]
  },
  {
   "cell_type": "markdown",
   "metadata": {},
   "source": [
    "#### Our data preparation includes following steps:\n",
    "* Remove the \"id\" attribute as it is not needed in this assignment\n",
    "* Inspect each feature for NA values. If more than 75% of the feature contains NA, we replace that field with 0. If less than 75% is NA, then the median value of the column is used to replace the NA\n",
    "* Check for any categorical variables and using proper methods (like one-hot) to convert them to numerical variables\n",
    "* Remove all duplicate entries in the dataset\n",
    "* Search each feature for any outliers and remove them from dataset. We will keep the entries between 97.5% quantile and 2.5% quantile for those features which have outliers or incorrect data \n",
    "* Add new variable call Body mass index (BMI) which is commonly used in medical field"
   ]
  },
  {
   "cell_type": "code",
   "execution_count": 2,
   "metadata": {},
   "outputs": [],
   "source": [
    "# drop 'id' column \n",
    "if 'id' in df:\n",
    "    del df['id']"
   ]
  },
  {
   "cell_type": "code",
   "execution_count": 3,
   "metadata": {},
   "outputs": [
    {
     "data": {
      "text/plain": [
       "age            0\n",
       "gender         0\n",
       "height         0\n",
       "weight         0\n",
       "ap_hi          0\n",
       "ap_lo          0\n",
       "cholesterol    0\n",
       "gluc           0\n",
       "smoke          0\n",
       "alco           0\n",
       "active         0\n",
       "cardio         0\n",
       "dtype: int64"
      ]
     },
     "execution_count": 3,
     "metadata": {},
     "output_type": "execute_result"
    }
   ],
   "source": [
    "# Total missing values for each feature\n",
    "df.isnull().sum()"
   ]
  },
  {
   "cell_type": "markdown",
   "metadata": {},
   "source": [
    "We want to see the data type of each column of the CVD dataset and see if there are any categorical variables in the dataset. "
   ]
  },
  {
   "cell_type": "code",
   "execution_count": 4,
   "metadata": {},
   "outputs": [
    {
     "name": "stdout",
     "output_type": "stream",
     "text": [
      "There are no missing values or NAs in the dataset.\n"
     ]
    }
   ],
   "source": [
    "# are there any NA values in the dataset\n",
    "if df.isnull().values.any():\n",
    "    print('There are NAs or missing values in the datasets.')\n",
    "else:\n",
    "    print('There are no missing values or NAs in the dataset.')        "
   ]
  },
  {
   "cell_type": "code",
   "execution_count": 5,
   "metadata": {},
   "outputs": [
    {
     "name": "stdout",
     "output_type": "stream",
     "text": [
      "age\n",
      "gender\n",
      "height\n",
      "weight\n",
      "ap_hi\n",
      "ap_lo\n",
      "cholesterol\n",
      "gluc\n",
      "smoke\n",
      "alco\n",
      "active\n",
      "cardio\n",
      "70000\n"
     ]
    }
   ],
   "source": [
    "# Are there any non-numbers in each column?\n",
    "for column in df:\n",
    "    print(column)\n",
    "    cnt=0\n",
    "    for row in df[column]:\n",
    "        try:\n",
    "            float(row)\n",
    "        except ValueError:\n",
    "            print(\"there is a non-numeric value: \" + row)\n",
    "            pass\n",
    "        cnt+=1\n",
    "        \n",
    "print(cnt)"
   ]
  },
  {
   "cell_type": "markdown",
   "metadata": {},
   "source": [
    "All values in the dataset are numeric."
   ]
  },
  {
   "cell_type": "code",
   "execution_count": 6,
   "metadata": {},
   "outputs": [
    {
     "name": "stdout",
     "output_type": "stream",
     "text": [
      "Duplicate Rows except first occurrence based on all columns are :\n",
      "         age  gender  height  weight  ap_hi  ap_lo  cholesterol  gluc  smoke  \\\n",
      "10562  20495       1     165    70.0    120     80            1     1      0   \n",
      "21784  16793       1     165    68.0    120     80            1     1      0   \n",
      "38505  18988       1     164    65.0    120     80            1     1      0   \n",
      "40365  14552       1     158    64.0    120     80            1     1      0   \n",
      "42450  18353       1     169    67.0    120     80            1     1      0   \n",
      "44653  16937       2     170    70.0    120     80            1     1      0   \n",
      "45125  21280       1     165    65.0    120     80            1     1      0   \n",
      "45748  22077       1     175    69.0    120     80            1     1      0   \n",
      "45810  21230       1     164    62.0    120     80            1     1      0   \n",
      "48917  21945       1     165    60.0    120     80            1     1      0   \n",
      "50432  17493       2     169    74.0    120     80            1     1      0   \n",
      "52552  21943       1     165    65.0    120     80            1     1      0   \n",
      "56643  17535       2     165    65.0    120     80            1     1      0   \n",
      "56906  20293       1     162    70.0    110     70            1     1      0   \n",
      "57946  18955       1     165    75.0    120     80            1     1      0   \n",
      "58730  19858       1     165    68.0    120     80            1     1      0   \n",
      "60453  20516       1     164    66.0    120     80            1     1      0   \n",
      "60474  16805       1     157    67.0    120     80            1     1      0   \n",
      "62318  18979       1     165    65.0    120     80            1     1      0   \n",
      "64169  16160       1     168    65.0    120     80            1     1      0   \n",
      "65079  18210       1     160    60.0    120     80            1     1      0   \n",
      "65622  21778       1     160    58.0    120     80            1     1      0   \n",
      "66190  19059       1     165    65.0    120     80            1     1      0   \n",
      "68281  21119       1     160    60.0    120     80            1     1      0   \n",
      "\n",
      "       alco  active  cardio  \n",
      "10562     0       1       0  \n",
      "21784     0       1       0  \n",
      "38505     0       1       0  \n",
      "40365     0       1       0  \n",
      "42450     0       1       0  \n",
      "44653     0       0       0  \n",
      "45125     0       1       0  \n",
      "45748     0       1       1  \n",
      "45810     0       1       0  \n",
      "48917     0       1       0  \n",
      "50432     0       1       1  \n",
      "52552     0       1       1  \n",
      "56643     0       1       0  \n",
      "56906     0       1       0  \n",
      "57946     0       1       1  \n",
      "58730     0       1       0  \n",
      "60453     0       0       0  \n",
      "60474     0       1       0  \n",
      "62318     0       0       0  \n",
      "64169     0       1       1  \n",
      "65079     0       1       0  \n",
      "65622     0       1       0  \n",
      "66190     0       1       1  \n",
      "68281     0       0       1  \n",
      "\n",
      "There are 24 duplicated entries in the dataset!\n"
     ]
    }
   ],
   "source": [
    "#Are there any duplicate entries in the dataset?\n",
    "duplicateRowsDF = df[df.duplicated(keep='first')]\n",
    "\n",
    "print(\"Duplicate Rows except first occurrence based on all columns are :\")\n",
    "print(duplicateRowsDF)\n",
    "\n",
    "print(f\"\\nThere are {len(duplicateRowsDF)} duplicated entries in the dataset!\")\n"
   ]
  },
  {
   "cell_type": "markdown",
   "metadata": {},
   "source": [
    "For duplicated entries, we think they were just from mistakes by entering more than once. These 24 entries should be removed."
   ]
  },
  {
   "cell_type": "code",
   "execution_count": 7,
   "metadata": {},
   "outputs": [
    {
     "data": {
      "text/plain": [
       "(69976, 12)"
      ]
     },
     "execution_count": 7,
     "metadata": {},
     "output_type": "execute_result"
    }
   ],
   "source": [
    "#remove duplicates in the dataframe\n",
    "df.drop_duplicates(keep = 'first', inplace = True) \n",
    "df.shape"
   ]
  },
  {
   "cell_type": "code",
   "execution_count": 8,
   "metadata": {},
   "outputs": [
    {
     "data": {
      "text/html": [
       "<div>\n",
       "<style scoped>\n",
       "    .dataframe tbody tr th:only-of-type {\n",
       "        vertical-align: middle;\n",
       "    }\n",
       "\n",
       "    .dataframe tbody tr th {\n",
       "        vertical-align: top;\n",
       "    }\n",
       "\n",
       "    .dataframe thead th {\n",
       "        text-align: right;\n",
       "    }\n",
       "</style>\n",
       "<table border=\"1\" class=\"dataframe\">\n",
       "  <thead>\n",
       "    <tr style=\"text-align: right;\">\n",
       "      <th></th>\n",
       "      <th>age</th>\n",
       "      <th>gender</th>\n",
       "      <th>height</th>\n",
       "      <th>weight</th>\n",
       "      <th>ap_hi</th>\n",
       "      <th>ap_lo</th>\n",
       "      <th>cholesterol</th>\n",
       "      <th>gluc</th>\n",
       "      <th>smoke</th>\n",
       "      <th>alco</th>\n",
       "      <th>active</th>\n",
       "      <th>cardio</th>\n",
       "    </tr>\n",
       "  </thead>\n",
       "  <tbody>\n",
       "    <tr>\n",
       "      <td>count</td>\n",
       "      <td>69976.000000</td>\n",
       "      <td>69976.000000</td>\n",
       "      <td>69976.000000</td>\n",
       "      <td>69976.000000</td>\n",
       "      <td>69976.000000</td>\n",
       "      <td>69976.000000</td>\n",
       "      <td>69976.000000</td>\n",
       "      <td>69976.000000</td>\n",
       "      <td>69976.000000</td>\n",
       "      <td>69976.000000</td>\n",
       "      <td>69976.000000</td>\n",
       "      <td>69976.000000</td>\n",
       "    </tr>\n",
       "    <tr>\n",
       "      <td>mean</td>\n",
       "      <td>19468.950126</td>\n",
       "      <td>1.349648</td>\n",
       "      <td>164.359152</td>\n",
       "      <td>74.208519</td>\n",
       "      <td>128.820453</td>\n",
       "      <td>96.636261</td>\n",
       "      <td>1.366997</td>\n",
       "      <td>1.226535</td>\n",
       "      <td>0.088159</td>\n",
       "      <td>0.053790</td>\n",
       "      <td>0.803718</td>\n",
       "      <td>0.499771</td>\n",
       "    </tr>\n",
       "    <tr>\n",
       "      <td>std</td>\n",
       "      <td>2467.374620</td>\n",
       "      <td>0.476862</td>\n",
       "      <td>8.211218</td>\n",
       "      <td>14.397211</td>\n",
       "      <td>154.037729</td>\n",
       "      <td>188.504581</td>\n",
       "      <td>0.680333</td>\n",
       "      <td>0.572353</td>\n",
       "      <td>0.283528</td>\n",
       "      <td>0.225604</td>\n",
       "      <td>0.397187</td>\n",
       "      <td>0.500004</td>\n",
       "    </tr>\n",
       "    <tr>\n",
       "      <td>min</td>\n",
       "      <td>10798.000000</td>\n",
       "      <td>1.000000</td>\n",
       "      <td>55.000000</td>\n",
       "      <td>10.000000</td>\n",
       "      <td>-150.000000</td>\n",
       "      <td>-70.000000</td>\n",
       "      <td>1.000000</td>\n",
       "      <td>1.000000</td>\n",
       "      <td>0.000000</td>\n",
       "      <td>0.000000</td>\n",
       "      <td>0.000000</td>\n",
       "      <td>0.000000</td>\n",
       "    </tr>\n",
       "    <tr>\n",
       "      <td>25%</td>\n",
       "      <td>17664.000000</td>\n",
       "      <td>1.000000</td>\n",
       "      <td>159.000000</td>\n",
       "      <td>65.000000</td>\n",
       "      <td>120.000000</td>\n",
       "      <td>80.000000</td>\n",
       "      <td>1.000000</td>\n",
       "      <td>1.000000</td>\n",
       "      <td>0.000000</td>\n",
       "      <td>0.000000</td>\n",
       "      <td>1.000000</td>\n",
       "      <td>0.000000</td>\n",
       "    </tr>\n",
       "    <tr>\n",
       "      <td>50%</td>\n",
       "      <td>19703.000000</td>\n",
       "      <td>1.000000</td>\n",
       "      <td>165.000000</td>\n",
       "      <td>72.000000</td>\n",
       "      <td>120.000000</td>\n",
       "      <td>80.000000</td>\n",
       "      <td>1.000000</td>\n",
       "      <td>1.000000</td>\n",
       "      <td>0.000000</td>\n",
       "      <td>0.000000</td>\n",
       "      <td>1.000000</td>\n",
       "      <td>0.000000</td>\n",
       "    </tr>\n",
       "    <tr>\n",
       "      <td>75%</td>\n",
       "      <td>21327.000000</td>\n",
       "      <td>2.000000</td>\n",
       "      <td>170.000000</td>\n",
       "      <td>82.000000</td>\n",
       "      <td>140.000000</td>\n",
       "      <td>90.000000</td>\n",
       "      <td>2.000000</td>\n",
       "      <td>1.000000</td>\n",
       "      <td>0.000000</td>\n",
       "      <td>0.000000</td>\n",
       "      <td>1.000000</td>\n",
       "      <td>1.000000</td>\n",
       "    </tr>\n",
       "    <tr>\n",
       "      <td>max</td>\n",
       "      <td>23713.000000</td>\n",
       "      <td>2.000000</td>\n",
       "      <td>250.000000</td>\n",
       "      <td>200.000000</td>\n",
       "      <td>16020.000000</td>\n",
       "      <td>11000.000000</td>\n",
       "      <td>3.000000</td>\n",
       "      <td>3.000000</td>\n",
       "      <td>1.000000</td>\n",
       "      <td>1.000000</td>\n",
       "      <td>1.000000</td>\n",
       "      <td>1.000000</td>\n",
       "    </tr>\n",
       "  </tbody>\n",
       "</table>\n",
       "</div>"
      ],
      "text/plain": [
       "                age        gender        height        weight         ap_hi  \\\n",
       "count  69976.000000  69976.000000  69976.000000  69976.000000  69976.000000   \n",
       "mean   19468.950126      1.349648    164.359152     74.208519    128.820453   \n",
       "std     2467.374620      0.476862      8.211218     14.397211    154.037729   \n",
       "min    10798.000000      1.000000     55.000000     10.000000   -150.000000   \n",
       "25%    17664.000000      1.000000    159.000000     65.000000    120.000000   \n",
       "50%    19703.000000      1.000000    165.000000     72.000000    120.000000   \n",
       "75%    21327.000000      2.000000    170.000000     82.000000    140.000000   \n",
       "max    23713.000000      2.000000    250.000000    200.000000  16020.000000   \n",
       "\n",
       "              ap_lo   cholesterol          gluc         smoke          alco  \\\n",
       "count  69976.000000  69976.000000  69976.000000  69976.000000  69976.000000   \n",
       "mean      96.636261      1.366997      1.226535      0.088159      0.053790   \n",
       "std      188.504581      0.680333      0.572353      0.283528      0.225604   \n",
       "min      -70.000000      1.000000      1.000000      0.000000      0.000000   \n",
       "25%       80.000000      1.000000      1.000000      0.000000      0.000000   \n",
       "50%       80.000000      1.000000      1.000000      0.000000      0.000000   \n",
       "75%       90.000000      2.000000      1.000000      0.000000      0.000000   \n",
       "max    11000.000000      3.000000      3.000000      1.000000      1.000000   \n",
       "\n",
       "             active        cardio  \n",
       "count  69976.000000  69976.000000  \n",
       "mean       0.803718      0.499771  \n",
       "std        0.397187      0.500004  \n",
       "min        0.000000      0.000000  \n",
       "25%        1.000000      0.000000  \n",
       "50%        1.000000      0.000000  \n",
       "75%        1.000000      1.000000  \n",
       "max        1.000000      1.000000  "
      ]
     },
     "execution_count": 8,
     "metadata": {},
     "output_type": "execute_result"
    },
    {
     "data": {
      "image/png": "[encoded data removed]",
      "text/plain": [
       "<Figure size 1080x1080 with 1 Axes>"
      ]
     },
     "metadata": {
      "needs_background": "light"
     },
     "output_type": "display_data"
    }
   ],
   "source": [
    "#are there any outliers in the dataset?\n",
    "\n",
    "#boxplot of all the variables\n",
    "plt.figure(figsize=(15, 15))\n",
    "ax = df.boxplot()\n",
    "ax.set_yscale('log')\n",
    "\n",
    "df.describe()"
   ]
  },
  {
   "cell_type": "markdown",
   "metadata": {},
   "source": [
    "From the simple statistical information and the boxplots above, we can easily see that there are some incorrect data points there. For example, the blood pressure has negative readings and the maximum readings for both Systolic blood pressure (ap_hi) and Diastolic blood pressure (ap_lo) are over 10,000, which are obviously mistakes. "
   ]
  },
  {
   "cell_type": "code",
   "execution_count": 9,
   "metadata": {},
   "outputs": [
    {
     "data": {
      "text/plain": [
       "(66169, 12)"
      ]
     },
     "execution_count": 9,
     "metadata": {},
     "output_type": "execute_result"
    }
   ],
   "source": [
    "#to only keep the entries between 97.5% quantile and 2.5% quantile for ap_hi and ap_lo\n",
    "df.drop(df[(df['ap_hi'] > df['ap_hi'].quantile(0.975)) | (df['ap_hi'] < df['ap_hi'].quantile(0.025))].index,inplace=True)\n",
    "df.drop(df[(df['ap_lo'] > df['ap_lo'].quantile(0.975)) | (df['ap_lo'] < df['ap_lo'].quantile(0.025))].index,inplace=True)\n",
    "df.shape"
   ]
  },
  {
   "cell_type": "markdown",
   "metadata": {},
   "source": [
    "We also notice that there are some abnormal values in column \"weight\" and \"height\". The minimum weight is 10 kg and maximum 200 kg. and the minimum height is 55 cm and maximum is 250 cm. Obviously these values are outliers as they don't represent the values for normal people. So, we decided to remove these by only keeping the values from 2.5 to 97.5 percentile range. "
   ]
  },
  {
   "cell_type": "code",
   "execution_count": 10,
   "metadata": {},
   "outputs": [],
   "source": [
    "df.drop(df[(df['weight'] > df['weight'].quantile(0.975)) | (df['weight'] < df['weight'].quantile(0.025))].index,inplace=True)\n",
    "df.drop(df[(df['height'] > df['height'].quantile(0.975)) | (df['height'] < df['height'].quantile(0.025))].index,inplace=True)"
   ]
  },
  {
   "cell_type": "markdown",
   "metadata": {},
   "source": [
    "From above statistics table we realized that age measured in days, for better description we decided to convert age variable to be in years."
   ]
  },
  {
   "cell_type": "code",
   "execution_count": 11,
   "metadata": {},
   "outputs": [],
   "source": [
    "df['years'] = (df['age'] / 365).round().astype('int')\n",
    "if 'age' in df:\n",
    "    del df['age']"
   ]
  },
  {
   "cell_type": "code",
   "execution_count": 12,
   "metadata": {},
   "outputs": [
    {
     "data": {
      "text/html": [
       "<div>\n",
       "<style scoped>\n",
       "    .dataframe tbody tr th:only-of-type {\n",
       "        vertical-align: middle;\n",
       "    }\n",
       "\n",
       "    .dataframe tbody tr th {\n",
       "        vertical-align: top;\n",
       "    }\n",
       "\n",
       "    .dataframe thead th {\n",
       "        text-align: right;\n",
       "    }\n",
       "</style>\n",
       "<table border=\"1\" class=\"dataframe\">\n",
       "  <thead>\n",
       "    <tr style=\"text-align: right;\">\n",
       "      <th></th>\n",
       "      <th>gender</th>\n",
       "      <th>height</th>\n",
       "      <th>weight</th>\n",
       "      <th>ap_hi</th>\n",
       "      <th>ap_lo</th>\n",
       "      <th>cholesterol</th>\n",
       "      <th>gluc</th>\n",
       "      <th>smoke</th>\n",
       "      <th>alco</th>\n",
       "      <th>active</th>\n",
       "      <th>cardio</th>\n",
       "      <th>years</th>\n",
       "    </tr>\n",
       "  </thead>\n",
       "  <tbody>\n",
       "    <tr>\n",
       "      <td>0</td>\n",
       "      <td>2</td>\n",
       "      <td>168</td>\n",
       "      <td>62.0</td>\n",
       "      <td>110</td>\n",
       "      <td>80</td>\n",
       "      <td>1</td>\n",
       "      <td>1</td>\n",
       "      <td>0</td>\n",
       "      <td>0</td>\n",
       "      <td>1</td>\n",
       "      <td>0</td>\n",
       "      <td>50</td>\n",
       "    </tr>\n",
       "    <tr>\n",
       "      <td>1</td>\n",
       "      <td>1</td>\n",
       "      <td>156</td>\n",
       "      <td>85.0</td>\n",
       "      <td>140</td>\n",
       "      <td>90</td>\n",
       "      <td>3</td>\n",
       "      <td>1</td>\n",
       "      <td>0</td>\n",
       "      <td>0</td>\n",
       "      <td>1</td>\n",
       "      <td>1</td>\n",
       "      <td>55</td>\n",
       "    </tr>\n",
       "    <tr>\n",
       "      <td>2</td>\n",
       "      <td>1</td>\n",
       "      <td>165</td>\n",
       "      <td>64.0</td>\n",
       "      <td>130</td>\n",
       "      <td>70</td>\n",
       "      <td>3</td>\n",
       "      <td>1</td>\n",
       "      <td>0</td>\n",
       "      <td>0</td>\n",
       "      <td>0</td>\n",
       "      <td>1</td>\n",
       "      <td>52</td>\n",
       "    </tr>\n",
       "    <tr>\n",
       "      <td>3</td>\n",
       "      <td>2</td>\n",
       "      <td>169</td>\n",
       "      <td>82.0</td>\n",
       "      <td>150</td>\n",
       "      <td>100</td>\n",
       "      <td>1</td>\n",
       "      <td>1</td>\n",
       "      <td>0</td>\n",
       "      <td>0</td>\n",
       "      <td>1</td>\n",
       "      <td>1</td>\n",
       "      <td>48</td>\n",
       "    </tr>\n",
       "    <tr>\n",
       "      <td>4</td>\n",
       "      <td>1</td>\n",
       "      <td>156</td>\n",
       "      <td>56.0</td>\n",
       "      <td>100</td>\n",
       "      <td>60</td>\n",
       "      <td>1</td>\n",
       "      <td>1</td>\n",
       "      <td>0</td>\n",
       "      <td>0</td>\n",
       "      <td>0</td>\n",
       "      <td>0</td>\n",
       "      <td>48</td>\n",
       "    </tr>\n",
       "  </tbody>\n",
       "</table>\n",
       "</div>"
      ],
      "text/plain": [
       "   gender  height  weight  ap_hi  ap_lo  cholesterol  gluc  smoke  alco  \\\n",
       "0       2     168    62.0    110     80            1     1      0     0   \n",
       "1       1     156    85.0    140     90            3     1      0     0   \n",
       "2       1     165    64.0    130     70            3     1      0     0   \n",
       "3       2     169    82.0    150    100            1     1      0     0   \n",
       "4       1     156    56.0    100     60            1     1      0     0   \n",
       "\n",
       "   active  cardio  years  \n",
       "0       1       0     50  \n",
       "1       1       1     55  \n",
       "2       0       1     52  \n",
       "3       1       1     48  \n",
       "4       0       0     48  "
      ]
     },
     "execution_count": 12,
     "metadata": {},
     "output_type": "execute_result"
    }
   ],
   "source": [
    "df.head()"
   ]
  },
  {
   "cell_type": "markdown",
   "metadata": {},
   "source": [
    "Body mass index (BMI) is commonly used in medical field. It is a key index for relating weight to height. BMI is a person's weight in kilograms (kg) divided by his or her height in meters squared."
   ]
  },
  {
   "cell_type": "code",
   "execution_count": 13,
   "metadata": {},
   "outputs": [],
   "source": [
    "#define BMI\n",
    "df['BMI'] = df['weight']/((df['height']/100)**2)\n",
    "# converting BMI range to categorical as 1 = underweight,2 = normal, 3 = overweight and 4 = obese\n",
    "df['BMI'] = df['BMI'].apply(lambda x: 1 if x<18.5 else(2 if x>=18.5 and x<25 else( 3 if x >= 25 and x < 30 else 4)))"
   ]
  },
  {
   "cell_type": "markdown",
   "metadata": {},
   "source": [
    "in CDV dataset gender shown as 1 for female and 2 for men. Since this is a binary feature showing these 2 categories as 1 and 2 does not make sense, so we are change the gender levels to be 0 for female and 1 for male."
   ]
  },
  {
   "cell_type": "code",
   "execution_count": 14,
   "metadata": {},
   "outputs": [],
   "source": [
    "#change gender levels: 1 to 0 (female) and 2 to 1 (male)\n",
    "df['gender'] = df['gender'].apply(lambda x:0 if x == 1 else(1))"
   ]
  },
  {
   "cell_type": "markdown",
   "metadata": {},
   "source": [
    "<a href=\"#top\">Back to Top</a>\n",
    "### Data Preparation Part 2<a id=\"Data_Preparation_Part_2\"></a>\n",
    "* Describe the final dataset that is used for classification/regression (include a description of any newly formed variables you created)."
   ]
  },
  {
   "cell_type": "markdown",
   "metadata": {},
   "source": [
    "Our final dataset includes 13 features and 60728 entries. "
   ]
  },
  {
   "cell_type": "code",
   "execution_count": 15,
   "metadata": {},
   "outputs": [
    {
     "name": "stdout",
     "output_type": "stream",
     "text": [
      "<class 'pandas.core.frame.DataFrame'>\n",
      "Int64Index: 60728 entries, 0 to 69999\n",
      "Data columns (total 13 columns):\n",
      "gender         60728 non-null int64\n",
      "height         60728 non-null int64\n",
      "weight         60728 non-null float64\n",
      "ap_hi          60728 non-null int64\n",
      "ap_lo          60728 non-null int64\n",
      "cholesterol    60728 non-null int64\n",
      "gluc           60728 non-null int64\n",
      "smoke          60728 non-null int64\n",
      "alco           60728 non-null int64\n",
      "active         60728 non-null int64\n",
      "cardio         60728 non-null int64\n",
      "years          60728 non-null int32\n",
      "BMI            60728 non-null int64\n",
      "dtypes: float64(1), int32(1), int64(11)\n",
      "memory usage: 6.3 MB\n"
     ]
    }
   ],
   "source": [
    "df.info()"
   ]
  },
  {
   "cell_type": "markdown",
   "metadata": {},
   "source": [
    "|Feature   |Variable Type   |Variable   |Value Type   |\n",
    "|:---------|:--------------|:---------------|:------------|\n",
    "| Years | Objective Feature | years | int (years) |\n",
    "| Height | Objective Feature | height | int (cm) |\n",
    "| Weight | Objective Feature | weight | float (kg) |\n",
    "| Gender | Objective Feature | gender | binary |\n",
    "| Systolic blood pressure | Examination Feature | ap_hi | int |\n",
    "| Diastolic blood pressure | Examination Feature | ap_lo | int |\n",
    "| Cholesterol | Examination Feature | cholesterol | 1: normal, 2: above normal, 3: well above normal |\n",
    "| Glucose | Examination Feature | gluc | 1: normal, 2: above normal, 3: well above normal |\n",
    "| Smoking | Subjective Feature | smoke | binary |\n",
    "| Alcohol intake | Subjective Feature | alco | binary |\n",
    "| Physical activity | Subjective Feature | active | binary |\n",
    "| Body Mass Index | Examination Feature | bmi | int |\n",
    "| Presence or absence of cardiovascular disease | Target Variable | cardio | binary |\n"
   ]
  },
  {
   "cell_type": "markdown",
   "metadata": {},
   "source": [
    "<a href=\"#top\">Back to Top</a>\n",
    "### Modeling and Evaluation 1<a id=\"Modeling_and_Evaluation_1\"></a>"
   ]
  },
  {
   "cell_type": "markdown",
   "metadata": {},
   "source": [
    "The purpose of this LAB was to determine which medical aspects had the most bearing on whether a patient would had CVD or not and also to classified cholesterol level each patient into normal and high cholesterol level.\n",
    "\n",
    "A receiver operating characteristic curve, ROC curve, is a graphical plot that illustrates the diagnostic ability of a binary classifier system as its discrimination threshold is varied which is created by plotting the true positive rate (TPR) against the false positive rate (FPR) at various threshold settings.\n",
    "A ROC curve can be used to select a threshold for a classifier which maximizes the true positives, while minimizing the false positives.\n",
    "\n",
    "The AUC represents a model’s ability to discriminate between positive and negative classes. An area of 1.0 represents a model that made all predictions perfectly. An area of 0.5 represents a model as good as random. Most classifiers have AUCs that fall somewhere between these two values. Therefore, the overall model performances can be compared by considering the AUC.\n",
    "\n",
    "In addition to ROC-AUC metric, we use the other classification metrics in our models too. \n",
    "\n",
    "1- Accuracy: Is the proportion of the total number of predictions that were correct over all kinds predictions made. Accuracy is a good measure when the target variable classes in the data are nearly balanced.\n",
    "\n",
    "Accuracy = (TP + TN)/(TP + FP + FN + TN)\n",
    "\n",
    "2- Precision: Which is also called Positive Predictive Value and is the proportion of positive cases that were correctly identified.\n",
    "\n",
    "Precision = (TP) / (TP + FP)\n",
    "\n",
    "3- Recall or Sensitivity: Is the proportion of actual positive cases which are correctly identified.\n",
    "\n",
    "Recall = (TP) / (TP + FN)\n",
    "\n",
    "Recall gives us information about a model performance with respect to false negatives (how many did we miss), while precision gives us information about its performance with respect to false positives (how many did we caught).\n",
    "\n",
    "So basically, if we want to focus more on minimizing False Negatives, we would want our Recall to be as close to 100% as possible without precision being too bad and if we want to minimize False positives, then our focus should be to make Precision as close to 100% as possible.\n"
   ]
  },
  {
   "cell_type": "markdown",
   "metadata": {},
   "source": [
    "<a href=\"#top\">Back to Top</a>\n",
    "### Modeling and Evaluation 2<a id=\"Modeling_and_Evaluation_2\"></a>"
   ]
  },
  {
   "cell_type": "markdown",
   "metadata": {},
   "source": [
    "Before carrying out the modeling, we have to decide which method we are going to choose for the cross validation. "
   ]
  },
  {
   "cell_type": "code",
   "execution_count": 16,
   "metadata": {},
   "outputs": [
    {
     "data": {
      "text/plain": [
       "0    50.801937\n",
       "1    49.198063\n",
       "Name: cardio, dtype: float64"
      ]
     },
     "execution_count": 16,
     "metadata": {},
     "output_type": "execute_result"
    }
   ],
   "source": [
    "#cardio percentage split\n",
    "(df['cardio'].value_counts()/len(df))*100"
   ]
  },
  {
   "cell_type": "code",
   "execution_count": 17,
   "metadata": {},
   "outputs": [
    {
     "data": {
      "text/plain": [
       "1    75.754183\n",
       "2    13.091161\n",
       "3    11.154657\n",
       "Name: cholesterol, dtype: float64"
      ]
     },
     "execution_count": 17,
     "metadata": {},
     "output_type": "execute_result"
    }
   ],
   "source": [
    "#cholesterol percentage split\n",
    "(df['cholesterol'].value_counts()/len(df))*100"
   ]
  },
  {
   "cell_type": "markdown",
   "metadata": {},
   "source": [
    "For this project, CVD dataset will be split into training and test sets as 80/20. For data training, a standard 10-fold cross validation technique are used, in this technique dataset will split into 10 equal sections, train on nine of the sections and score against the last section. This method will cycle through 10 times so that the each of the 10 sections is used as a holdout sample. We chose to shuffle the data during the cross validation to provide a higher confidence there was no grouping of schools that we did not notice.\n",
    "\n",
    "There is another option available called the Stratified k-fold technique which works to balance the ratio of labels used in each fold. Our dependent variable (cardio) has approximately a 49-51% split (see above), and with a large enough data set we can have a high level of confidence of a random split in the data without using Stratified techniques. In other hand for Cholesterol there is imbalanced distribution between classes (see above). The major class is patients with normal cholesterol level(75.7%) followed by above normal (13%) and well above normal (11%). Since the important thing is that to know if patient has normal cholesterol level or not we decided to combine both above normal classes (2 and 3) and use Modified synthetic minority oversampling technique (MSMOTE) which takes a subset of data from the minority class as an example and then new synthetic similar instances are created. These synthetic instances are then added to the original dataset. The new dataset is used as a sample to train the classification models.\n",
    "\n",
    "We chose a K fold (10 folds) validation algorithm, however a Shuffle Split may have performed just as well with this size data set. Where Shuffle Split is capable of creating n folds and fitting the data using n-1 to train and 1 to test against, there is a chance the same data will appear in the test set each time the data is sampled. We chose K fold to insure each value is used in the training set.\n",
    "\n",
    "With the 10-fold cross validation we will be using a grid search technique, which will test a number of different parameters to determine the best final model. Different classification algorithms will have different parameters that can be set, so these will be tested with the grid search method.\n",
    "\n",
    "Since CVD dataset does not have so many features (only 12) dimensionality reduction techniques are not used."
   ]
  },
  {
   "cell_type": "markdown",
   "metadata": {},
   "source": [
    "Our basic pipeline includes observation scaling and model classification steps. Observation scaling is a common step for all models. For this step the 'standardscaler' is used, which will scale our variables. This improves our prediction outcomes and makes later feature interpretation significantly easier, since all coefficients will be on the same scale.\n",
    "\n",
    "The same random seed of 101 is used for all models that take a random state seed to eliminate the variability of getting different results between running our models so that we are able to hold which model is going to be the best model, for later interpretation."
   ]
  },
  {
   "cell_type": "markdown",
   "metadata": {},
   "source": [
    "<a href=\"#top\">Back to Top</a>\n",
    "## Task 1<a id=\"Task_1\"></a>\n",
    "\n",
    "### 1.1 Modeling and Evaluation 3<a id=\"1.1_Modeling_and_Evaluation_3\"></a>"
   ]
  },
  {
   "cell_type": "markdown",
   "metadata": {},
   "source": [
    "For cardio prediction we tried 4 different algorithms to create a model which has superior prediction capabilities based on the ROC/AUC scoring parameter:\n",
    "\n",
    "* Support Vector Machine (SVM)\n",
    "* K-Nearest Neighbor\n",
    "* Random Forest Classification\n",
    "* Decision Tree Classifier\n",
    "\n",
    "A ROC/AUC plot will be created for each model and summarized our findings based on the combined results for these different models."
   ]
  },
  {
   "cell_type": "code",
   "execution_count": 18,
   "metadata": {},
   "outputs": [],
   "source": [
    "#the pipeline template where we will test for scaling, and classification.\n",
    "k_fold = KFold(n_splits=10,shuffle=True)\n",
    "pipe = Pipeline([ ('scale', StandardScaler()), \n",
    "                  ('clf', GradientBoostingClassifier())])"
   ]
  },
  {
   "cell_type": "markdown",
   "metadata": {},
   "source": [
    "To perform a cross validation using the best parameters for the model which it is passed we use below code that borrowed form  Dr. Jake Drew's 2017HighlySegregatedHighSchoolCampuses Jupyter Notebook provided to the class."
   ]
  },
  {
   "cell_type": "code",
   "execution_count": 19,
   "metadata": {},
   "outputs": [],
   "source": [
    "from sklearn.model_selection import cross_validate\n",
    "\n",
    "def EvaluateClassifierEstimator(classifierEstimator, X, Y, cv):\n",
    "   \n",
    "    #Perform cross validation\n",
    "    scores = cross_validate(classifierEstimator, X, Y, scoring=['accuracy','precision','recall']\n",
    "                            , cv=cv, return_train_score=True)\n",
    "\n",
    "    Accavg = scores['test_accuracy'].mean()\n",
    "    Preavg = scores['test_precision'].mean()\n",
    "    Rreavg = scores['test_recall'].mean()\n",
    "    \n",
    "    print_str = \"The average accuracy for all cv folds is: \\t\\t\\t {Accavg:.5}\"\n",
    "    print_str2 = \"The average precision for all cv folds is: \\t\\t\\t {Preavg:.5}\"\n",
    "    print_str3 = \"The average Recall for all cv folds is: \\t\\t\\t {Rreavg:.5}\"\n",
    "\n",
    "    print(print_str.format(Accavg=Accavg))\n",
    "    print(print_str2.format(Preavg=Preavg))\n",
    "    print(print_str3.format(Rreavg=Rreavg))\n",
    "    print('*********************************************************')\n",
    "\n",
    "    print('Cross Validation Fold Mean Error Scores')\n",
    "    scoresResults = pd.DataFrame()\n",
    "    scoresResults['Accuracy'] = scores['test_accuracy']\n",
    "    scoresResults['Precision'] = scores['test_precision']\n",
    "    scoresResults['Recall'] = scores['test_recall']\n",
    "    print(scoresResults)\n",
    "    return scoresResults\n"
   ]
  },
  {
   "cell_type": "code",
   "execution_count": 20,
   "metadata": {},
   "outputs": [
    {
     "data": {
      "text/plain": [
       "(60728, 1)"
      ]
     },
     "execution_count": 20,
     "metadata": {},
     "output_type": "execute_result"
    }
   ],
   "source": [
    "#separating input data into two parts X (features) and Y (target)\n",
    "features = [\"gender\", \"height\", \"weight\", \"ap_hi\", \"ap_lo\", \"cholesterol\", \"gluc\", \"smoke\", \"alco\", \"active\", \"years\", \"BMI\"]\n",
    "\n",
    "X = df[features].copy()\n",
    "\n",
    "Y= df[['cardio']].copy()\n",
    "Y.shape"
   ]
  },
  {
   "cell_type": "code",
   "execution_count": 21,
   "metadata": {},
   "outputs": [],
   "source": [
    "X_train, X_test, y_train, y_test = train_test_split(X, Y, test_size=.2)"
   ]
  },
  {
   "cell_type": "markdown",
   "metadata": {},
   "source": [
    "### Model #1 : Support Vector Machine (SVM)"
   ]
  },
  {
   "cell_type": "code",
   "execution_count": 22,
   "metadata": {},
   "outputs": [
    {
     "name": "stdout",
     "output_type": "stream",
     "text": [
      "Fitting 10 folds for each of 28 candidates, totalling 280 fits\n"
     ]
    },
    {
     "name": "stderr",
     "output_type": "stream",
     "text": [
      "[Parallel(n_jobs=8)]: Using backend LokyBackend with 8 concurrent workers.\n",
      "[Parallel(n_jobs=8)]: Done  34 tasks      | elapsed:    6.5s\n",
      "[Parallel(n_jobs=8)]: Done 184 tasks      | elapsed:   12.5s\n",
      "[Parallel(n_jobs=8)]: Done 280 out of 280 | elapsed:   15.5s finished\n"
     ]
    },
    {
     "data": {
      "text/plain": [
       "GridSearchCV(cv=KFold(n_splits=10, random_state=None, shuffle=True),\n",
       "             error_score='raise-deprecating',\n",
       "             estimator=Pipeline(memory=None,\n",
       "                                steps=[('scale',\n",
       "                                        StandardScaler(copy=True,\n",
       "                                                       with_mean=True,\n",
       "                                                       with_std=True)),\n",
       "                                       ('clf',\n",
       "                                        GradientBoostingClassifier(criterion='friedman_mse',\n",
       "                                                                   init=None,\n",
       "                                                                   learning_rate=0.1,\n",
       "                                                                   loss='deviance',\n",
       "                                                                   max_depth=3,\n",
       "                                                                   max_features=None,\n",
       "                                                                   max_leaf_nodes=N...\n",
       "                                               random_state=101, shuffle=True,\n",
       "                                               tol=0.001,\n",
       "                                               validation_fraction=0.1,\n",
       "                                               verbose=0, warm_start=False)],\n",
       "                         'clf__alpha': [0.0001, 0.001, 0.01, 0.1, 1, 10, 100],\n",
       "                         'clf__class_weight': ['balanced', None],\n",
       "                         'clf__loss': ['hinge'], 'clf__max_iter': [1000, 1500],\n",
       "                         'clf__penalty': ['l2'], 'clf__random_state': [101]},\n",
       "             pre_dispatch='2*n_jobs', refit=True, return_train_score=False,\n",
       "             scoring='roc_auc', verbose=1)"
      ]
     },
     "execution_count": 22,
     "metadata": {},
     "output_type": "execute_result"
    }
   ],
   "source": [
    "#SVM_SGD 10-fold cross-validation \n",
    "\n",
    "param_grid = { 'clf': [SGDClassifier()]\n",
    "              ,'clf__loss': ['hinge']\n",
    "              ,'clf__penalty':['l2']\n",
    "              ,'clf__alpha': [0.0001, 0.001, 0.01, 0.1, 1, 10, 100]\n",
    "              ,'clf__class_weight': ['balanced', None]\n",
    "              ,'clf__random_state': [101]\n",
    "              ,'clf__max_iter':[1000,1500]\n",
    "              \n",
    "             }\n",
    "\n",
    "#Create a grid search object using the above parameters \n",
    "from sklearn.model_selection import GridSearchCV\n",
    "SVMGridSearch = GridSearchCV(pipe, param_grid=param_grid, cv=k_fold,n_jobs=8, verbose=1, scoring='roc_auc' )\n",
    "\n",
    "#Perform hyperparameter search to find the best combination of parameters for our data\n",
    "SVMGridSearch.fit(X_train,y=y_train)\n"
   ]
  },
  {
   "cell_type": "code",
   "execution_count": 23,
   "metadata": {},
   "outputs": [
    {
     "data": {
      "text/plain": [
       "Pipeline(memory=None,\n",
       "         steps=[('scale',\n",
       "                 StandardScaler(copy=True, with_mean=True, with_std=True)),\n",
       "                ('clf',\n",
       "                 SGDClassifier(alpha=0.01, average=False,\n",
       "                               class_weight='balanced', early_stopping=False,\n",
       "                               epsilon=0.1, eta0=0.0, fit_intercept=True,\n",
       "                               l1_ratio=0.15, learning_rate='optimal',\n",
       "                               loss='hinge', max_iter=1000, n_iter_no_change=5,\n",
       "                               n_jobs=None, penalty='l2', power_t=0.5,\n",
       "                               random_state=101, shuffle=True, tol=0.001,\n",
       "                               validation_fraction=0.1, verbose=0,\n",
       "                               warm_start=False))],\n",
       "         verbose=False)"
      ]
     },
     "execution_count": 23,
     "metadata": {},
     "output_type": "execute_result"
    }
   ],
   "source": [
    "classifierEstimaterSVM =SVMGridSearch.best_estimator_\n",
    "classifierEstimaterSVM"
   ]
  },
  {
   "cell_type": "code",
   "execution_count": 24,
   "metadata": {},
   "outputs": [
    {
     "name": "stdout",
     "output_type": "stream",
     "text": [
      "The average accuracy for all cv folds is: \t\t\t 0.72051\n",
      "The average precision for all cv folds is: \t\t\t 0.76501\n",
      "The average Recall for all cv folds is: \t\t\t 0.62312\n",
      "*********************************************************\n",
      "Cross Validation Fold Mean Error Scores\n",
      "   Accuracy  Precision    Recall\n",
      "0  0.728133   0.776971  0.627041\n",
      "1  0.713933   0.758407  0.613646\n",
      "2  0.728957   0.779749  0.625366\n",
      "3  0.724429   0.772303  0.623273\n",
      "4  0.721284   0.762025  0.629971\n",
      "5  0.718814   0.750612  0.641272\n",
      "6  0.717785   0.758901  0.624529\n",
      "7  0.715109   0.760498  0.614064\n",
      "8  0.722462   0.768595  0.623116\n",
      "9  0.714227   0.762055  0.608878\n"
     ]
    }
   ],
   "source": [
    "SVM_scores = EvaluateClassifierEstimator(classifierEstimaterSVM,X_train,y_train,cv=10)"
   ]
  },
  {
   "cell_type": "code",
   "execution_count": 25,
   "metadata": {},
   "outputs": [
    {
     "data": {
      "image/png": "[encoded data removed]",
      "text/plain": [
       "<Figure size 576x360 with 1 Axes>"
      ]
     },
     "metadata": {
      "needs_background": "light"
     },
     "output_type": "display_data"
    }
   ],
   "source": [
    "from sklearn.metrics import roc_curve, auc\n",
    "score_roc = SVMGridSearch.decision_function(X_test)\n",
    "fpr1, tpr1, thresholds = roc_curve(y_test, score_roc)\n",
    "roc_auc1 = auc(fpr1, tpr1)\n",
    "plt.figure(figsize=(8,5));\n",
    "plt.plot(fpr1, tpr1, color='darkorange', lw=2, label='ROC curve (area = %0.2f)' % roc_auc1)\n",
    "plt.plot([0, 1], [0, 1], color='navy', lw=2, linestyle='--')\n",
    "plt.xlim([0.0, 1.0])\n",
    "plt.ylim([0.0, 1.0])\n",
    "plt.xlabel('False Positive Rate')\n",
    "plt.ylabel('True Positive Rate')\n",
    "plt.title('Receiver operating characteristic')\n",
    "plt.legend(loc=\"lower right\")\n",
    "plt.show()"
   ]
  },
  {
   "cell_type": "code",
   "execution_count": 26,
   "metadata": {},
   "outputs": [
    {
     "name": "stdout",
     "output_type": "stream",
     "text": [
      "SVM classifier accuracy with optimal parameters is: 71.8\n"
     ]
    }
   ],
   "source": [
    "from sklearn import metrics as mt\n",
    "\n",
    "clf_SVM = Pipeline(memory=None,\n",
    "                   steps=[('scale',StandardScaler(copy=True, with_mean=True, with_std=True)),\n",
    "                          ('clf',\n",
    "                           SGDClassifier(alpha=0.01, average=False,\n",
    "                           class_weight='balanced', early_stopping=False,\n",
    "                           epsilon=0.1, eta0=0.0, fit_intercept=True,\n",
    "                           l1_ratio=0.15, learning_rate='optimal',\n",
    "                           loss='hinge', max_iter=1000, n_iter_no_change=5,\n",
    "                           n_jobs=None, penalty='l2', power_t=0.5,\n",
    "                           random_state=101, shuffle=True, tol=0.001,\n",
    "                           validation_fraction=0.1, verbose=0,\n",
    "                           warm_start=False))],verbose=False)\n",
    "\n",
    "clf_SVM.fit(X_train,y_train)\n",
    "yhatSVM = clf_SVM.predict(X_test)\n",
    "\n",
    "total_accuracy_SVM = mt.accuracy_score(y_test, yhatSVM)*100\n",
    "#Print out the results\n",
    "print('SVM classifier accuracy with optimal parameters is: %.1f'%(total_accuracy_SVM))"
   ]
  },
  {
   "cell_type": "code",
   "execution_count": 27,
   "metadata": {},
   "outputs": [
    {
     "data": {
      "text/plain": [
       "array([[5013, 1144],\n",
       "       [2283, 3706]], dtype=int64)"
      ]
     },
     "execution_count": 27,
     "metadata": {},
     "output_type": "execute_result"
    }
   ],
   "source": [
    "from sklearn.metrics import confusion_matrix\n",
    "confusion_matrix(y_test, yhatSVM)"
   ]
  },
  {
   "cell_type": "markdown",
   "metadata": {},
   "source": [
    "### Model #2 KNN Classification Parameter Optimization with GridSearch\n",
    "\n",
    "K-Nearest Neighbor (KNN) classification is valid option for this dataset since the dataset has been preprocessed and it has no missing values.  Parameter selections are critical to the performance of KNN classifiers; therefore, substantial time and effort was put forth to fully investigate the optimal parameters. \n",
    "\n",
    "##### Parameter Analysis:\n",
    "\n",
    "*Algorithms:*  Algorithm used to compute the nearest neighbors can be ‘auto’matically determine the most appropriate algorithm to use for the given dataset/parameters, so it was left as default in our GridSearch\n",
    "\n",
    "##### GridSearch Parameters:\n",
    "\n",
    "*n_neighbors:* Number of neighbors to use in the analysis. Preliminary analyses were conducted to find a desired range of for number of neighbors. From these analyses, it was determined that the optimal number of neighbors is below 15. Above 15, the accuracy plateaus and start to decrease.\n",
    "\n",
    "*Leaf_size:* The leaf size was adjusted, using: 10, 30, and 100 as the parameters. While there is an over-head penalty with using smaller leaves, accuracy may increase, so we will use it in our Grid Search.\n",
    "\n",
    "*Metric:* How distance is measured between datapoints can be adjusted. The 2 options chosen were ‘minkowski’ and ‘euclidean’.\n",
    "\n",
    "*Weights:* Both uniform and distance were looked at. ‘Uniform’ weight-all neighboring points get equal weight. ‘Distance’ weights points by the inverse of their distance.\n",
    "\n",
    "*Predictor Variables:*  \n",
    "Many of the predictor variable have different scaling, so to ensure all variables were treated equally in the analysis, all predictor variables are scaled to have a mean of 0 and Standard deviation of 1."
   ]
  },
  {
   "cell_type": "code",
   "execution_count": 28,
   "metadata": {},
   "outputs": [
    {
     "name": "stdout",
     "output_type": "stream",
     "text": [
      "Fitting 10 folds for each of 40 candidates, totalling 400 fits\n"
     ]
    },
    {
     "name": "stderr",
     "output_type": "stream",
     "text": [
      "[Parallel(n_jobs=-1)]: Using backend LokyBackend with 4 concurrent workers.\n",
      "[Parallel(n_jobs=-1)]: Done  42 tasks      | elapsed:   23.5s\n",
      "[Parallel(n_jobs=-1)]: Done 192 tasks      | elapsed:  2.1min\n",
      "[Parallel(n_jobs=-1)]: Done 400 out of 400 | elapsed:  4.5min finished\n"
     ]
    },
    {
     "name": "stdout",
     "output_type": "stream",
     "text": [
      "0.7724652225685915\n"
     ]
    }
   ],
   "source": [
    "param_grid = [\n",
    "    {\n",
    "         'clf': [KNeighborsClassifier()],\n",
    "         'clf__weights': ['uniform','distance'],\n",
    "         'clf__leaf_size': [10,30],\n",
    "         'clf__metric': ['minkowski','euclidean'],\n",
    "         'clf__n_neighbors':[3,5,13,15,17],\n",
    "         \n",
    "    }\n",
    "]\n",
    "\n",
    "grid_search_KNN = GridSearchCV(pipe, param_grid=param_grid,cv=k_fold,n_jobs=-1, verbose=1, scoring='roc_auc' )\n",
    "\n",
    "KNearest_model = grid_search_KNN.fit(X_train, y_train)\n",
    "\n",
    "y_KNN_score = grid_search_KNN.predict(X_test)\n",
    "\n",
    "y_KNN_prob=grid_search_KNN.predict_proba(X_test)\n",
    "\n",
    "print(roc_auc_score(y_test, y_KNN_prob[:,1]))"
   ]
  },
  {
   "cell_type": "code",
   "execution_count": 29,
   "metadata": {},
   "outputs": [
    {
     "data": {
      "text/plain": [
       "Pipeline(memory=None,\n",
       "         steps=[('scale',\n",
       "                 StandardScaler(copy=True, with_mean=True, with_std=True)),\n",
       "                ('clf',\n",
       "                 KNeighborsClassifier(algorithm='auto', leaf_size=30,\n",
       "                                      metric='minkowski', metric_params=None,\n",
       "                                      n_jobs=None, n_neighbors=17, p=2,\n",
       "                                      weights='uniform'))],\n",
       "         verbose=False)"
      ]
     },
     "execution_count": 29,
     "metadata": {},
     "output_type": "execute_result"
    }
   ],
   "source": [
    "classifierEstimaterKNN = KNearest_model.best_estimator_\n",
    "classifierEstimaterKNN"
   ]
  },
  {
   "cell_type": "markdown",
   "metadata": {},
   "source": [
    "The GridSearch algorithm determined the following optimal parameters for K-Neighbors model.\n",
    "\n",
    "* Leaf-Size: 10  \n",
    "* Number of Neighbors: 13\n",
    "\n",
    "* Distance Matric: Minkowski  \n",
    "* Weights: Uniform"
   ]
  },
  {
   "cell_type": "code",
   "execution_count": 30,
   "metadata": {},
   "outputs": [
    {
     "name": "stdout",
     "output_type": "stream",
     "text": [
      "The average accuracy for all cv folds is: \t\t\t 0.71247\n",
      "The average precision for all cv folds is: \t\t\t 0.72489\n",
      "The average Recall for all cv folds is: \t\t\t 0.66933\n",
      "*********************************************************\n",
      "Cross Validation Fold Mean Error Scores\n",
      "   Accuracy  Precision    Recall\n",
      "0  0.719078   0.734432  0.671411\n",
      "1  0.709199   0.721014  0.666388\n",
      "2  0.722577   0.735841  0.679782\n",
      "3  0.715374   0.728221  0.671829\n",
      "4  0.703170   0.713384  0.662620\n",
      "5  0.707081   0.712775  0.677271\n",
      "6  0.713256   0.723318  0.675178\n",
      "7  0.710375   0.726476  0.659272\n",
      "8  0.715874   0.729508  0.670854\n",
      "9  0.708668   0.723884  0.658710\n"
     ]
    }
   ],
   "source": [
    "KNearest_scores = EvaluateClassifierEstimator(classifierEstimaterKNN,X_train,y_train,cv=10)"
   ]
  },
  {
   "cell_type": "code",
   "execution_count": 31,
   "metadata": {},
   "outputs": [
    {
     "data": {
      "text/plain": [
       "array([[4675, 1482],\n",
       "       [1968, 4021]], dtype=int64)"
      ]
     },
     "execution_count": 31,
     "metadata": {},
     "output_type": "execute_result"
    }
   ],
   "source": [
    "confusion_matrix(y_test.loc[:,['cardio']].values.ravel(), y_KNN_score)"
   ]
  },
  {
   "cell_type": "code",
   "execution_count": 32,
   "metadata": {},
   "outputs": [
    {
     "data": {
      "image/png": "[encoded data removed]",
      "text/plain": [
       "<Figure size 576x360 with 1 Axes>"
      ]
     },
     "metadata": {
      "needs_background": "light"
     },
     "output_type": "display_data"
    }
   ],
   "source": [
    "# Plot ROC Curve\n",
    "fpr2, tpr2, thresholds2 = roc_curve(y_test, y_KNN_prob[:,1] )\n",
    "roc_auc2 = auc(fpr2, tpr2)\n",
    "\n",
    "plt.figure(figsize=(8,5));\n",
    "plt.plot(fpr2, tpr2, color='darkorange', lw=2, label='ROC curve (area = %0.2f)' % roc_auc2)\n",
    "plt.plot([0, 1], [0, 1], color='navy', lw=2, linestyle='--')\n",
    "plt.xlim([0.0, 1.0])\n",
    "plt.ylim([0.0, 1.05])\n",
    "plt.xlabel('False Positive Rate')\n",
    "plt.ylabel('True Positive Rate')\n",
    "plt.title('Receiver operating characteristic')\n",
    "plt.legend(loc=\"lower right\")\n",
    "plt.show()"
   ]
  },
  {
   "cell_type": "markdown",
   "metadata": {},
   "source": [
    "Re-run the KNN classification analysis with the optimal algorithm parameters that were determined by the parameter GridSearch."
   ]
  },
  {
   "cell_type": "code",
   "execution_count": 33,
   "metadata": {},
   "outputs": [
    {
     "name": "stdout",
     "output_type": "stream",
     "text": [
      "KNN classifier accuracy with optimal parameters is: 71.3\n"
     ]
    }
   ],
   "source": [
    "\n",
    "clf_knn = Pipeline(memory=None,\n",
    "         steps=[('scale',\n",
    "                 StandardScaler(copy=True, with_mean=True, with_std=True)),\n",
    "                ('clf',\n",
    "                 KNeighborsClassifier(algorithm='auto', leaf_size=10,\n",
    "                                      metric='minkowski', metric_params=None,\n",
    "                                      n_jobs=None, n_neighbors=13, p=2,\n",
    "                                      weights='uniform'))],\n",
    "         verbose=False)\n",
    "\n",
    "\n",
    "clf_knn.fit(X_train,y_train)\n",
    "yhatKNN = clf_knn.predict(X_test)\n",
    "\n",
    "total_accuracy_KNN = mt.accuracy_score(y_test, yhatKNN)*100\n",
    "#Print out the results\n",
    "print('KNN classifier accuracy with optimal parameters is: %.1f'%(total_accuracy_KNN))"
   ]
  },
  {
   "cell_type": "markdown",
   "metadata": {},
   "source": [
    "### Model #3 Random Forest\n",
    "\n",
    "One of the most commonly used classifier techniques is random forest, due to its very low bias and general stability when it comes to classification. One method of optimizing a random forest model is to try different parameters to increase performance. Another method of doing so is by utilizing grid search to let random forest decide which combination of hyperparameters would be best implemented in your model. We chose this route as it saves both time and sanity when comparing so many different parameters.\n",
    "\n",
    "We'll start with a baseline random forest for our starting position."
   ]
  },
  {
   "cell_type": "code",
   "execution_count": 34,
   "metadata": {},
   "outputs": [
    {
     "name": "stdout",
     "output_type": "stream",
     "text": [
      "Fitting 10 folds for each of 20 candidates, totalling 200 fits\n"
     ]
    },
    {
     "name": "stderr",
     "output_type": "stream",
     "text": [
      "[Parallel(n_jobs=-1)]: Using backend LokyBackend with 4 concurrent workers.\n",
      "[Parallel(n_jobs=-1)]: Done  42 tasks      | elapsed:   32.2s\n",
      "[Parallel(n_jobs=-1)]: Done 192 tasks      | elapsed:  5.8min\n",
      "[Parallel(n_jobs=-1)]: Done 200 out of 200 | elapsed:  6.5min finished\n"
     ]
    },
    {
     "name": "stdout",
     "output_type": "stream",
     "text": [
      "0.7937972092358268\n"
     ]
    }
   ],
   "source": [
    "param_grid = [\n",
    "    {\n",
    "         'clf': [RandomForestClassifier()],\n",
    "         'clf__n_estimators': [50, 100, 200, 500], \n",
    "         'clf__max_depth': [5,10,15,20,30],\n",
    "         'clf__random_state':[101]\n",
    "     }\n",
    "]\n",
    "\n",
    "grid_search_RF = GridSearchCV(pipe, param_grid=param_grid, cv=k_fold,n_jobs=-1, verbose=1, scoring='roc_auc' )\n",
    "\n",
    "RandomForest_model = grid_search_RF.fit(X_train, y_train)\n",
    "\n",
    "y_RF_score = grid_search_RF.predict(X_test)\n",
    "y_RF_prob=grid_search_RF.predict_proba(X_test)\n",
    "\n",
    "print(roc_auc_score(y_test, y_RF_prob[:,1]))"
   ]
  },
  {
   "cell_type": "code",
   "execution_count": 35,
   "metadata": {},
   "outputs": [
    {
     "data": {
      "text/plain": [
       "Pipeline(memory=None,\n",
       "         steps=[('scale',\n",
       "                 StandardScaler(copy=True, with_mean=True, with_std=True)),\n",
       "                ('clf',\n",
       "                 RandomForestClassifier(bootstrap=True, class_weight=None,\n",
       "                                        criterion='gini', max_depth=10,\n",
       "                                        max_features='auto',\n",
       "                                        max_leaf_nodes=None,\n",
       "                                        min_impurity_decrease=0.0,\n",
       "                                        min_impurity_split=None,\n",
       "                                        min_samples_leaf=1, min_samples_split=2,\n",
       "                                        min_weight_fraction_leaf=0.0,\n",
       "                                        n_estimators=500, n_jobs=None,\n",
       "                                        oob_score=False, random_state=101,\n",
       "                                        verbose=0, warm_start=False))],\n",
       "         verbose=False)"
      ]
     },
     "execution_count": 35,
     "metadata": {},
     "output_type": "execute_result"
    }
   ],
   "source": [
    "classifierEstimaterRF = RandomForest_model.best_estimator_\n",
    "classifierEstimaterRF"
   ]
  },
  {
   "cell_type": "code",
   "execution_count": 36,
   "metadata": {},
   "outputs": [
    {
     "name": "stdout",
     "output_type": "stream",
     "text": [
      "The average accuracy for all cv folds is: \t\t\t 0.72864\n",
      "The average precision for all cv folds is: \t\t\t 0.75524\n",
      "The average Recall for all cv folds is: \t\t\t 0.66314\n",
      "*********************************************************\n",
      "Cross Validation Fold Mean Error Scores\n",
      "   Accuracy  Precision    Recall\n",
      "0  0.740070   0.770934  0.670573\n",
      "1  0.721959   0.749759  0.652156\n",
      "2  0.732249   0.760287  0.665132\n",
      "3  0.728957   0.751643  0.670155\n",
      "4  0.729930   0.758521  0.661365\n",
      "5  0.723755   0.739808  0.676015\n",
      "6  0.727048   0.754428  0.659690\n",
      "7  0.722931   0.752787  0.650063\n",
      "8  0.732757   0.760019  0.667085\n",
      "9  0.726786   0.754193  0.659129\n"
     ]
    }
   ],
   "source": [
    "Random_Forest_scores = EvaluateClassifierEstimator(classifierEstimaterRF,X_train,y_train,cv=10)"
   ]
  },
  {
   "cell_type": "code",
   "execution_count": 37,
   "metadata": {},
   "outputs": [
    {
     "data": {
      "text/plain": [
       "array([[4870, 1287],\n",
       "       [2019, 3970]], dtype=int64)"
      ]
     },
     "execution_count": 37,
     "metadata": {},
     "output_type": "execute_result"
    }
   ],
   "source": [
    "confusion_matrix(y_test, y_RF_score)"
   ]
  },
  {
   "cell_type": "code",
   "execution_count": 38,
   "metadata": {},
   "outputs": [
    {
     "data": {
      "image/png": "[encoded data removed]",
      "text/plain": [
       "<Figure size 576x360 with 1 Axes>"
      ]
     },
     "metadata": {
      "needs_background": "light"
     },
     "output_type": "display_data"
    }
   ],
   "source": [
    "# create ROC cuve for Random Forest model:\n",
    "fpr3, tpr3, thresholds = roc_curve(y_test, y_RF_prob[:,1] )\n",
    "roc_auc3 = auc(fpr3, tpr3)\n",
    "\n",
    "plt.figure(figsize=(8,5));\n",
    "plt.plot(fpr3, tpr3, color='darkorange', lw=2, label='ROC curve (area = %0.2f)' % roc_auc3)\n",
    "plt.plot([0, 1], [0, 1], color='navy', lw=2, linestyle='--')\n",
    "plt.xlim([0.0, 1.0])\n",
    "plt.ylim([0.0, 1.05])\n",
    "plt.xlabel('False Positive Rate')\n",
    "plt.ylabel('True Positive Rate')\n",
    "plt.title('Receiver operating characteristic')\n",
    "plt.legend(loc=\"lower right\")\n",
    "plt.show()"
   ]
  },
  {
   "cell_type": "code",
   "execution_count": 39,
   "metadata": {},
   "outputs": [
    {
     "name": "stdout",
     "output_type": "stream",
     "text": [
      "Random Forest classifier accuracy with optimal parameters is: 72.8\n"
     ]
    }
   ],
   "source": [
    "clf_RF = Pipeline(memory=None,\n",
    "         steps=[('scale',\n",
    "                 StandardScaler(copy=True, with_mean=True, with_std=True)),\n",
    "                ('clf',\n",
    "                 RandomForestClassifier(bootstrap=True, class_weight=None,\n",
    "                                        criterion='gini', max_depth=10,\n",
    "                                        max_features='auto',\n",
    "                                        max_leaf_nodes=None,\n",
    "                                        min_impurity_decrease=0.0,\n",
    "                                        min_impurity_split=None,\n",
    "                                        min_samples_leaf=1, min_samples_split=2,\n",
    "                                        min_weight_fraction_leaf=0.0,\n",
    "                                        n_estimators=500, n_jobs=None,\n",
    "                                        oob_score=False, random_state=101,\n",
    "                                        verbose=0, warm_start=False))], verbose=False)\n",
    "\n",
    "clf_RF.fit(X_train,y_train)\n",
    "yhatRF = clf_RF.predict(X_test)\n",
    "\n",
    "total_accuracy_RF = mt.accuracy_score(y_test, yhatRF)*100\n",
    "#Print out the results\n",
    "print('Random Forest classifier accuracy with optimal parameters is: %.1f'%(total_accuracy_RF))"
   ]
  },
  {
   "cell_type": "markdown",
   "metadata": {},
   "source": [
    "### Model #4 Decision Tree Classifier"
   ]
  },
  {
   "cell_type": "code",
   "execution_count": 40,
   "metadata": {},
   "outputs": [
    {
     "name": "stdout",
     "output_type": "stream",
     "text": [
      "Fitting 10 folds for each of 5 candidates, totalling 50 fits\n"
     ]
    },
    {
     "name": "stderr",
     "output_type": "stream",
     "text": [
      "[Parallel(n_jobs=-1)]: Using backend LokyBackend with 4 concurrent workers.\n"
     ]
    },
    {
     "name": "stdout",
     "output_type": "stream",
     "text": [
      "0.7885699468569862\n"
     ]
    },
    {
     "name": "stderr",
     "output_type": "stream",
     "text": [
      "[Parallel(n_jobs=-1)]: Done  50 out of  50 | elapsed:    2.5s finished\n"
     ]
    }
   ],
   "source": [
    "param_grid = [\n",
    "    {\n",
    "         'clf': [DecisionTreeClassifier()],\n",
    "         'clf__max_depth': [5,10,15,20,30],\n",
    "         'clf__random_state':[101] \n",
    "     }\n",
    "]\n",
    "\n",
    "\n",
    "# # This will test the parameter dict against our \n",
    "# # pipeline\n",
    "\n",
    "grid_searchDT = GridSearchCV(pipe, param_grid=param_grid, cv=k_fold,n_jobs=-1, verbose=1, scoring='roc_auc')\n",
    "\n",
    "\n",
    "# # Here we are training the model, this is \n",
    "# # what takes the most amount of time to run\n",
    "DT_model = grid_searchDT.fit(X_train, y_train)\n",
    "\n",
    "y_DT_score = grid_searchDT.predict(X_test)\n",
    "y_DT_prob = grid_searchDT.predict_proba(X_test)\n",
    "\n",
    "print(roc_auc_score(y_test, y_DT_prob[:,1]))"
   ]
  },
  {
   "cell_type": "code",
   "execution_count": 41,
   "metadata": {},
   "outputs": [
    {
     "data": {
      "text/plain": [
       "Pipeline(memory=None,\n",
       "         steps=[('scale',\n",
       "                 StandardScaler(copy=True, with_mean=True, with_std=True)),\n",
       "                ('clf',\n",
       "                 DecisionTreeClassifier(class_weight=None, criterion='gini',\n",
       "                                        max_depth=5, max_features=None,\n",
       "                                        max_leaf_nodes=None,\n",
       "                                        min_impurity_decrease=0.0,\n",
       "                                        min_impurity_split=None,\n",
       "                                        min_samples_leaf=1, min_samples_split=2,\n",
       "                                        min_weight_fraction_leaf=0.0,\n",
       "                                        presort=False, random_state=101,\n",
       "                                        splitter='best'))],\n",
       "         verbose=False)"
      ]
     },
     "execution_count": 41,
     "metadata": {},
     "output_type": "execute_result"
    }
   ],
   "source": [
    "classifierEstimaterDT = DT_model.best_estimator_\n",
    "classifierEstimaterDT"
   ]
  },
  {
   "cell_type": "code",
   "execution_count": 42,
   "metadata": {},
   "outputs": [
    {
     "name": "stdout",
     "output_type": "stream",
     "text": [
      "The average accuracy for all cv folds is: \t\t\t 0.72541\n",
      "The average precision for all cv folds is: \t\t\t 0.77775\n",
      "The average Recall for all cv folds is: \t\t\t 0.61885\n",
      "*********************************************************\n",
      "Cross Validation Fold Mean Error Scores\n",
      "   Accuracy  Precision    Recall\n",
      "0  0.735748   0.793103  0.625785\n",
      "1  0.717843   0.772484  0.604018\n",
      "2  0.729162   0.787052  0.615739\n",
      "3  0.724223   0.783974  0.606111\n",
      "4  0.726019   0.784409  0.610716\n",
      "5  0.718814   0.763796  0.619925\n",
      "6  0.725813   0.779778  0.616576\n",
      "7  0.720461   0.775816  0.606949\n",
      "8  0.725963   0.748706  0.666248\n",
      "9  0.730080   0.788431  0.616415\n"
     ]
    }
   ],
   "source": [
    "DT_scores = EvaluateClassifierEstimator(classifierEstimaterDT,X_train,y_train,cv=10)"
   ]
  },
  {
   "cell_type": "code",
   "execution_count": 43,
   "metadata": {},
   "outputs": [
    {
     "data": {
      "text/plain": [
       "array([[5105, 1052],\n",
       "       [2291, 3698]], dtype=int64)"
      ]
     },
     "execution_count": 43,
     "metadata": {},
     "output_type": "execute_result"
    }
   ],
   "source": [
    "confusion_matrix(y_test, y_DT_score)"
   ]
  },
  {
   "cell_type": "code",
   "execution_count": 44,
   "metadata": {},
   "outputs": [
    {
     "data": {
      "image/png": "[encoded data removed]",
      "text/plain": [
       "<Figure size 576x360 with 1 Axes>"
      ]
     },
     "metadata": {
      "needs_background": "light"
     },
     "output_type": "display_data"
    }
   ],
   "source": [
    "# create ROC curve for Random Forest model:\n",
    "fpr4, tpr4, thresholds4 = roc_curve(y_test, y_DT_prob[:,1] )\n",
    "roc_auc4 = auc(fpr4, tpr4)\n",
    "\n",
    "plt.figure(figsize=(8,5));\n",
    "plt.plot(fpr4, tpr4, color='darkorange', lw=2, label='ROC curve (area = %0.2f)' % roc_auc4)\n",
    "plt.plot([0, 1], [0, 1], color='navy', lw=2, linestyle='--')\n",
    "plt.xlim([0.0, 1.0])\n",
    "plt.ylim([0.0, 1.05])\n",
    "plt.xlabel('False Positive Rate')\n",
    "plt.ylabel('True Positive Rate')\n",
    "plt.title('Receiver operating characteristic')\n",
    "plt.legend(loc=\"lower right\")\n",
    "plt.show()"
   ]
  },
  {
   "cell_type": "code",
   "execution_count": 45,
   "metadata": {},
   "outputs": [
    {
     "name": "stdout",
     "output_type": "stream",
     "text": [
      "Decision Tree Classifier accuracy with optimal parameters is: 72.5\n"
     ]
    }
   ],
   "source": [
    "clf_DT = Pipeline(memory=None,\n",
    "         steps=[('scale',\n",
    "                 StandardScaler(copy=True, with_mean=True, with_std=True)),\n",
    "                ('clf',\n",
    "                 DecisionTreeClassifier(class_weight=None, criterion='gini',\n",
    "                                        max_depth=5, max_features=None,\n",
    "                                        max_leaf_nodes=None,\n",
    "                                        min_impurity_decrease=0.0,\n",
    "                                        min_impurity_split=None,\n",
    "                                        min_samples_leaf=1, min_samples_split=2,\n",
    "                                        min_weight_fraction_leaf=0.0,\n",
    "                                        presort=False, random_state=101,\n",
    "                                        splitter='best'))],\n",
    "         verbose=False)\n",
    "\n",
    "clf_DT.fit(X_train,y_train)\n",
    "yhatDT = clf_DT.predict(X_test)\n",
    "\n",
    "total_accuracy_DT = mt.accuracy_score(y_test, yhatDT)*100\n",
    "#Print out the results\n",
    "print('Decision Tree Classifier accuracy with optimal parameters is: %.1f'%(total_accuracy_DT))"
   ]
  },
  {
   "cell_type": "markdown",
   "metadata": {},
   "source": [
    "<a href=\"#top\">Back to Top</a>\n",
    "### 1.2 Modeling and Evaluation 4<a id=\"1.2_Modeling_and_Evaluation_4\"></a>"
   ]
  },
  {
   "cell_type": "markdown",
   "metadata": {},
   "source": [
    "Here is the summary of the performance of 4 tested models:"
   ]
  },
  {
   "cell_type": "markdown",
   "metadata": {},
   "source": [
    "|Model   |AUC   |Accuracy(%)   |\n",
    "|:---------|:--------------|:---------------|\n",
    "| SVM | 0.78 | 72.3 |\n",
    "| KNN | 0.76 | 70.9 |\n",
    "| Random Forest | 0.79 | 72.8 |\n",
    "| Decision Tree | 0.78 | 72.0 |"
   ]
  },
  {
   "cell_type": "markdown",
   "metadata": {},
   "source": [
    "The best model we found was Random Forest Classification, with a ROC/AUC score of ~.79 and an accuracy of 72.8%, both highest among 4 models tested. On the other hand, the computation time taken by each model was comparable between each other. This leads to the conclusion that the Random Forest Classification pipeline could be used to accurately predict the cardio disease outcome. To make this clearer, we also plotted all 4 ROC curves within one graph (see below). The shape of each ROC curve is quite similar to each other, represented by curves that bow up to the top left of the plot, suggesting all models have good skills at predicting the outcome. With Random Forest having the largest area under the curve, it means that Random Forest model is the most skillful model among 4 tested for the kind of dataset we have.  "
   ]
  },
  {
   "cell_type": "code",
   "execution_count": 46,
   "metadata": {},
   "outputs": [
    {
     "data": {
      "image/png": "[encoded data removed]",
      "text/plain": [
       "<Figure size 1152x648 with 1 Axes>"
      ]
     },
     "metadata": {
      "needs_background": "light"
     },
     "output_type": "display_data"
    }
   ],
   "source": [
    "plt.figure(figsize=(16,9));\n",
    "plt.plot(fpr1, tpr1, color='darkorange', lw=1, label='SVM Calasifier (area = %0.3f)' % roc_auc1)\n",
    "plt.plot(fpr2, tpr2, color='red', lw=1, label='KNN Classifier (area = %0.3f)' % roc_auc2)\n",
    "plt.plot(fpr3, tpr3, color='black', lw=1, label='RF Calasifier (area = %0.3f)' % roc_auc3)\n",
    "plt.plot(fpr4, tpr4, color='yellow', lw=1, label='DT Calasifier (area = %0.3f)' % roc_auc4)\n",
    "plt.plot([0, 1], [0, 1], color='navy', lw=1, linestyle='--')\n",
    "plt.xlim([0.0, 1.0])\n",
    "plt.ylim([0.0, 1.05])\n",
    "plt.xlabel('False Positive Rate')\n",
    "plt.ylabel('True Positive Rate')\n",
    "plt.title('Receiver operating characteristic')\n",
    "plt.legend(loc=\"lower right\")\n",
    "plt.show()"
   ]
  },
  {
   "cell_type": "markdown",
   "metadata": {},
   "source": [
    "<a href=\"#top\">Back to Top</a>\n",
    "### 1.3 Modeling and Evaluation 5<a id=\"1.3_Modeling_and_Evaluation_5\"></a>"
   ]
  },
  {
   "cell_type": "markdown",
   "metadata": {},
   "source": [
    "Models we implemented: \n",
    "\n",
    "1.  **SVM**<br>\n",
    "        Advantage: \n",
    "            -Can handle large number of dimensions. \n",
    "            -Many kernels to choose from. \n",
    "            -Fairly robust against overfitting. \n",
    "        Disadvantage:\n",
    "            -Memory intensive and time consuming.\n",
    "            -Parameterization is hard. \n",
    "        We used stochastic gradient descent(SGD) classifier to implement SVM to dramatically \n",
    "        increase the speed. \n",
    "\n",
    "2. **K-Nearest Neighbor**<br>\n",
    "        Advantage:\n",
    "            -Model does not need to be trained and incremental learning is done when new data is fed in. \n",
    "        Disadvantage:\n",
    "            -Does not handle large number of dimensions.\n",
    "            -Weighing of attributes needs to be done. Additional work.\n",
    "            -memory intensive. \n",
    "            \n",
    "3. **Random Forest** <br>\n",
    "        Advantage: \n",
    "            -Robust to overfitting. \n",
    "            -Performs well with large number of features.\n",
    "        Disadvantage: \n",
    "            -Learning is slow and integration to improve generated models is not possible. \n",
    "            \n",
    "            \n",
    "As we have discussed in the above section, the best model we found was Random Forest Classification, with highest AUC and accuracy among 4 models tested. "
   ]
  },
  {
   "cell_type": "markdown",
   "metadata": {},
   "source": [
    "#### Statistical Comparison of Classifiers: \n",
    "\n",
    "in case image doesn't show, equations restated: \n",
    "\n",
    "$$\\sigma^2 = \\frac{e(1-e)}{n}$$ \n",
    "\n",
    "$$CI = (e_1-e_2)\\pm1.96\\sqrt{(\\sigma_1^2+\\sigma_2^2)}$$\n",
    "\n",
    "\n",
    "#### Comparison Models: \n",
    "#### Compute variance for each model we are comparing\n",
    "\n",
    "##### SVM error and variance\n",
    "$\\sigma^2 = \\frac{e(1-e)}{n}$ <br><br>\n",
    "$e =.28$<br><br>\n",
    "$\\frac{(.28)(1-.28)}{12146} = {(1.66) 10^-5}$<br><br>\n",
    "\n",
    "##### K-Nearest Neighbor error and variance\n",
    "$\\sigma^2 = \\frac{e(1-e)}{n}$ <br><br>\n",
    "$e = .29$ <br><br>\n",
    "$\\frac{(.29)(1-.29)}{12146} =  {(1.7) 10^-5}$<br><br>\n",
    "    \n",
    "##### Random Forest error and variance\n",
    "$\\sigma^2 = \\frac{e(1-e)}{n}$ <br><br>\n",
    "$e =.27$<br><br>\n",
    "$\\frac{(.27)(1-.27)}{12146} = {(1.62) 10^-5}$<br><br>\n",
    "\n",
    "##### Bagging Model error and variance\n",
    "$\\sigma^2 = \\frac{e(1-e)}{n}$ <br><br>\n",
    "$e =.28$<br><br>\n",
    "$\\frac{(.28)(1-.28)}{12146} = {(1.66) 10^-5}$<br><br>\n",
    "\n",
    "#### Compute Confidence intervals of various models\n",
    "\n",
    "##### SVM compared to K-Nearest Neighbor\n",
    "$(.28-.29)\\pm1.96\\sqrt{((1.66) 10^-5+(1.7) 10^-5} = [-0.0236, 0.0013]$<br>\n",
    "Our confidence interval does contain 0 so we are 95% confident that these two models are the same.<br>\n",
    "\n",
    "#####  SVM compared to Random Forest\n",
    "$(.28-.27)\\pm1.96\\sqrt{((1.66) 10^-5+(1.62) 10^-5)} = [0.0012, 0.021]$<br>\n",
    "Our confidence interval does not contain 0 so we are 95% confident that these two models are not the same.<br>\n",
    "\n",
    "#####  SVM compared to Decision Tree\n",
    "$(.28-.28)\\pm1.96\\sqrt{((1.66) 10^-5+(1.66) 10^-5)} = [-0.0112, 0.0112]$<br>\n",
    "Our confidence interval contains 0 so we are 95% confident that these two models are the same.<br>\n",
    "\n",
    "##### K-Nearest compared to Random Forest\n",
    "$(.29-.27)\\pm1.96\\sqrt{(1.62) 10^-5)+(1.7) 10^-5} = [0.0087, 0.0312]$<br>\n",
    "Our confidence interval does not contain 0 so we are 95% confident that these two models are not the same.<br>\n",
    "\n",
    "##### K-Nearest compared to Decision Tree\n",
    "$(.29-.28)\\pm1.96\\sqrt{((1.62) 10^-5)+(1.66) 10^-5)} = [-0.0236, 0.0013]$<br>\n",
    "Our confidence interval does contain 0 so we are 95% confident that these two models are the same.<br>\n",
    "\n",
    "##### Random Forest compared to Decision Tree\n",
    "$(.27-.28)\\pm1.96\\sqrt{((1.7) 10^-5+(1.66) 10^-5)} = [0.0012, 0.021]$<br>\n",
    "Our confidence interval does not contain 0 so we are 95% confident that these two models are not the same.<br>\n"
   ]
  },
  {
   "cell_type": "markdown",
   "metadata": {},
   "source": [
    "<a href=\"#top\">Back to Top</a>\n",
    "### 1.4 Modeling and Evaluation 6<a id=\"1.4_Modeling_and_Evaluation_6\"></a>"
   ]
  },
  {
   "cell_type": "markdown",
   "metadata": {},
   "source": [
    "We have found out Random Forest classifier has the best performance on cardio in CVD dataset. Now, we proceed to find the Level of importance of each feature in this model.\n",
    "\n",
    "Whit this process we are trying to select those features that contribute most to the outcome we are trying to predict.    \n",
    "\n",
    "The benefits of feature selection include reduce overfitting, improving accuracy and minimizing computing time. \n",
    "\n",
    "* All features are scaled in the model.\n",
    "* The coefficient values indicate the level of feature influence on model performance, higher value means stronger influence and importance.\n",
    "* The influence values are sorted and top features with strongest influences are plotted."
   ]
  },
  {
   "cell_type": "code",
   "execution_count": 47,
   "metadata": {},
   "outputs": [
    {
     "name": "stdout",
     "output_type": "stream",
     "text": [
      "The Top Feature are the following\n"
     ]
    },
    {
     "data": {
      "text/html": [
       "<div>\n",
       "<style scoped>\n",
       "    .dataframe tbody tr th:only-of-type {\n",
       "        vertical-align: middle;\n",
       "    }\n",
       "\n",
       "    .dataframe tbody tr th {\n",
       "        vertical-align: top;\n",
       "    }\n",
       "\n",
       "    .dataframe thead th {\n",
       "        text-align: right;\n",
       "    }\n",
       "</style>\n",
       "<table border=\"1\" class=\"dataframe\">\n",
       "  <thead>\n",
       "    <tr style=\"text-align: right;\">\n",
       "      <th></th>\n",
       "      <th>feature_names</th>\n",
       "      <th>weights</th>\n",
       "    </tr>\n",
       "  </thead>\n",
       "  <tbody>\n",
       "    <tr>\n",
       "      <td>3</td>\n",
       "      <td>ap_hi</td>\n",
       "      <td>0.440719</td>\n",
       "    </tr>\n",
       "    <tr>\n",
       "      <td>4</td>\n",
       "      <td>ap_lo</td>\n",
       "      <td>0.201971</td>\n",
       "    </tr>\n",
       "    <tr>\n",
       "      <td>10</td>\n",
       "      <td>years</td>\n",
       "      <td>0.134796</td>\n",
       "    </tr>\n",
       "    <tr>\n",
       "      <td>5</td>\n",
       "      <td>cholesterol</td>\n",
       "      <td>0.091069</td>\n",
       "    </tr>\n",
       "    <tr>\n",
       "      <td>2</td>\n",
       "      <td>weight</td>\n",
       "      <td>0.044193</td>\n",
       "    </tr>\n",
       "    <tr>\n",
       "      <td>1</td>\n",
       "      <td>height</td>\n",
       "      <td>0.028131</td>\n",
       "    </tr>\n",
       "    <tr>\n",
       "      <td>11</td>\n",
       "      <td>BMI</td>\n",
       "      <td>0.019619</td>\n",
       "    </tr>\n",
       "    <tr>\n",
       "      <td>6</td>\n",
       "      <td>gluc</td>\n",
       "      <td>0.014188</td>\n",
       "    </tr>\n",
       "    <tr>\n",
       "      <td>9</td>\n",
       "      <td>active</td>\n",
       "      <td>0.009613</td>\n",
       "    </tr>\n",
       "    <tr>\n",
       "      <td>7</td>\n",
       "      <td>smoke</td>\n",
       "      <td>0.005763</td>\n",
       "    </tr>\n",
       "    <tr>\n",
       "      <td>0</td>\n",
       "      <td>gender</td>\n",
       "      <td>0.005371</td>\n",
       "    </tr>\n",
       "    <tr>\n",
       "      <td>8</td>\n",
       "      <td>alco</td>\n",
       "      <td>0.004568</td>\n",
       "    </tr>\n",
       "  </tbody>\n",
       "</table>\n",
       "</div>"
      ],
      "text/plain": [
       "   feature_names   weights\n",
       "3          ap_hi  0.440719\n",
       "4          ap_lo  0.201971\n",
       "10         years  0.134796\n",
       "5    cholesterol  0.091069\n",
       "2         weight  0.044193\n",
       "1         height  0.028131\n",
       "11           BMI  0.019619\n",
       "6           gluc  0.014188\n",
       "9         active  0.009613\n",
       "7          smoke  0.005763\n",
       "0         gender  0.005371\n",
       "8           alco  0.004568"
      ]
     },
     "metadata": {},
     "output_type": "display_data"
    }
   ],
   "source": [
    "# set the parameters of this estimator and fit the model\n",
    "pipe.set_params(**RandomForest_model.best_params_)\n",
    "pipe.fit(X, Y)\n",
    "\n",
    "coef = pipe.steps[1][1].feature_importances_\n",
    "\n",
    "feature_names=list(X_train.columns.values)\n",
    "\n",
    "#Creates a new dataframe with the coefficients and the features \n",
    "Top_Features = pd.DataFrame({'feature_names':feature_names, 'weights':coef})\n",
    "print(\"The Top Feature are the following\")\n",
    "display(Top_Features.sort_values(by='weights', ascending=False))"
   ]
  },
  {
   "cell_type": "code",
   "execution_count": 48,
   "metadata": {},
   "outputs": [
    {
     "data": {
      "text/plain": [
       "Text(0.5,0,'Coefficient Magnitude\\n(z-score)')"
      ]
     },
     "execution_count": 48,
     "metadata": {},
     "output_type": "execute_result"
    },
    {
     "data": {
      "image/png": "[encoded data removed]",
      "text/plain": [
       "<Figure size 432x288 with 1 Axes>"
      ]
     },
     "metadata": {
      "needs_background": "light"
     },
     "output_type": "display_data"
    }
   ],
   "source": [
    "import seaborn as sns\n",
    "ax = sns.barplot(x =Top_Features['weights'], y = Top_Features.sort_values(by='weights', ascending=False)['feature_names'], \n",
    "                 orient= 'h')\n",
    "ax.set_title(\"Top Feature Correlations\")\n",
    "ax.set_xlabel(\"Coefficient Magnitude\\n(z-score)\")"
   ]
  },
  {
   "cell_type": "markdown",
   "metadata": {},
   "source": [
    "Based on the coefficient shown above, it appears that ap_hi is the most important feature, followed by ap_lo, years, cholesterol, weight, height and others. \n",
    "\n",
    "It is obvious that Systolic blood pressure (ap_hi) holds the most weight in our prediction, followed by Diastolic blood pressure (ap_lo). These make a lot of sense as people with high blood pressure will have a bigger burden on their hearts, which would lead to cardio diseases later on. The age of a patient was the third in the prediction of cardo. This would also make sense as the older a person is the more risky of developing cardiovascular problems. We found that the data showed a person in their mid-50’s and older was more at risk. Numerous scientific reports have suggested a positive correlation between cholecsterol level, overweight and cardio diseases. Obviously, our above data supported that. On the other hand, gender, active status and glucose situation appeared to not play significant role in terms of correlating with cardio status. This is understandable. For example, glucose situation should be more related to diabetes, not cardio-disease. Since cardio disease is not caused by genetics in general, the feature of gender should not play a significant role here.  "
   ]
  },
  {
   "cell_type": "markdown",
   "metadata": {},
   "source": [
    "### Finding the most influential features by Recursive Feature Elimination method"
   ]
  },
  {
   "cell_type": "code",
   "execution_count": 49,
   "metadata": {},
   "outputs": [
    {
     "data": {
      "text/plain": [
       "RFECV(cv=KFold(n_splits=10, random_state=None, shuffle=True),\n",
       "      estimator=RandomForestClassifier(bootstrap=True, class_weight=None,\n",
       "                                       criterion='gini', max_depth=10,\n",
       "                                       max_features='auto', max_leaf_nodes=None,\n",
       "                                       min_impurity_decrease=0.0,\n",
       "                                       min_impurity_split=None,\n",
       "                                       min_samples_leaf=1, min_samples_split=2,\n",
       "                                       min_weight_fraction_leaf=0.0,\n",
       "                                       n_estimators=500, n_jobs=None,\n",
       "                                       oob_score=False, random_state=101,\n",
       "                                       verbose=0, warm_start=False),\n",
       "      min_features_to_select=1, n_jobs=None, scoring='accuracy', step=1,\n",
       "      verbose=0)"
      ]
     },
     "execution_count": 49,
     "metadata": {},
     "output_type": "execute_result"
    }
   ],
   "source": [
    "from sklearn.feature_selection import RFECV\n",
    "\n",
    "#Create an estimator with best parameters for cross validation\n",
    "classifierEst = RandomForestClassifier(bootstrap=True, class_weight=None,\n",
    "                                        criterion='gini', max_depth=10,\n",
    "                                        max_features='auto',\n",
    "                                        max_leaf_nodes=None,\n",
    "                                        min_impurity_decrease=0.0,\n",
    "                                        min_impurity_split=None,\n",
    "                                        min_samples_leaf=1, min_samples_split=2,\n",
    "                                        min_weight_fraction_leaf=0.0,\n",
    "                                        n_estimators=500, n_jobs=None,\n",
    "                                        oob_score=False, random_state=101,\n",
    "                                        verbose=0, warm_start=False)\n",
    "\n",
    "rfecv = RFECV(estimator=classifierEst, step=1, cv=k_fold, scoring='accuracy')\n",
    "rfecv.fit(X, Y)"
   ]
  },
  {
   "cell_type": "code",
   "execution_count": 50,
   "metadata": {},
   "outputs": [
    {
     "name": "stdout",
     "output_type": "stream",
     "text": [
      "Optimal number of features : 11\n"
     ]
    },
    {
     "data": {
      "image/png": "[encoded data removed]",
      "text/plain": [
       "<Figure size 432x288 with 1 Axes>"
      ]
     },
     "metadata": {
      "needs_background": "light"
     },
     "output_type": "display_data"
    }
   ],
   "source": [
    "# Examine categorical variables of interest  \n",
    "import matplotlib.pyplot as plt\n",
    "%matplotlib inline\n",
    "\n",
    "print(\"Optimal number of features : %d\" % rfecv.n_features_)\n",
    "\n",
    "# Plot number of features VS. cross-validation scores\n",
    "plt.figure()\n",
    "plt.xlabel(\"Number of features selected\")\n",
    "plt.ylabel(\"Cross validation score\")\n",
    "plt.plot(range(1, len(rfecv.grid_scores_) + 1), rfecv.grid_scores_)\n",
    "plt.show()"
   ]
  },
  {
   "cell_type": "code",
   "execution_count": 51,
   "metadata": {},
   "outputs": [
    {
     "name": "stdout",
     "output_type": "stream",
     "text": [
      "Eliminated features: ['alco']\n"
     ]
    }
   ],
   "source": [
    "#find which features were eliminated\n",
    "eliminated_fea1 =[]\n",
    "for i in range(len(rfecv.ranking_)):\n",
    "    if rfecv.support_[i] == False:\n",
    "        eliminated_fea1.append(features[i])\n",
    "    \n",
    "    i+1\n",
    "    \n",
    "print(\"Eliminated features:\", eliminated_fea1)"
   ]
  },
  {
   "cell_type": "code",
   "execution_count": 52,
   "metadata": {},
   "outputs": [
    {
     "data": {
      "text/html": [
       "<div>\n",
       "<style scoped>\n",
       "    .dataframe tbody tr th:only-of-type {\n",
       "        vertical-align: middle;\n",
       "    }\n",
       "\n",
       "    .dataframe tbody tr th {\n",
       "        vertical-align: top;\n",
       "    }\n",
       "\n",
       "    .dataframe thead th {\n",
       "        text-align: right;\n",
       "    }\n",
       "</style>\n",
       "<table border=\"1\" class=\"dataframe\">\n",
       "  <thead>\n",
       "    <tr style=\"text-align: right;\">\n",
       "      <th></th>\n",
       "      <th>feature_names</th>\n",
       "      <th>weights</th>\n",
       "    </tr>\n",
       "  </thead>\n",
       "  <tbody>\n",
       "    <tr>\n",
       "      <td>10</td>\n",
       "      <td>years</td>\n",
       "      <td>0.729367</td>\n",
       "    </tr>\n",
       "    <tr>\n",
       "      <td>11</td>\n",
       "      <td>BMI</td>\n",
       "      <td>0.729038</td>\n",
       "    </tr>\n",
       "    <tr>\n",
       "      <td>8</td>\n",
       "      <td>alco</td>\n",
       "      <td>0.728840</td>\n",
       "    </tr>\n",
       "    <tr>\n",
       "      <td>9</td>\n",
       "      <td>active</td>\n",
       "      <td>0.728643</td>\n",
       "    </tr>\n",
       "    <tr>\n",
       "      <td>7</td>\n",
       "      <td>smoke</td>\n",
       "      <td>0.726798</td>\n",
       "    </tr>\n",
       "    <tr>\n",
       "      <td>5</td>\n",
       "      <td>cholesterol</td>\n",
       "      <td>0.726222</td>\n",
       "    </tr>\n",
       "    <tr>\n",
       "      <td>6</td>\n",
       "      <td>gluc</td>\n",
       "      <td>0.725909</td>\n",
       "    </tr>\n",
       "    <tr>\n",
       "      <td>4</td>\n",
       "      <td>ap_lo</td>\n",
       "      <td>0.725497</td>\n",
       "    </tr>\n",
       "    <tr>\n",
       "      <td>3</td>\n",
       "      <td>ap_hi</td>\n",
       "      <td>0.724295</td>\n",
       "    </tr>\n",
       "    <tr>\n",
       "      <td>2</td>\n",
       "      <td>weight</td>\n",
       "      <td>0.714810</td>\n",
       "    </tr>\n",
       "    <tr>\n",
       "      <td>0</td>\n",
       "      <td>gender</td>\n",
       "      <td>0.707236</td>\n",
       "    </tr>\n",
       "    <tr>\n",
       "      <td>1</td>\n",
       "      <td>height</td>\n",
       "      <td>0.706396</td>\n",
       "    </tr>\n",
       "  </tbody>\n",
       "</table>\n",
       "</div>"
      ],
      "text/plain": [
       "   feature_names   weights\n",
       "10         years  0.729367\n",
       "11           BMI  0.729038\n",
       "8           alco  0.728840\n",
       "9         active  0.728643\n",
       "7          smoke  0.726798\n",
       "5    cholesterol  0.726222\n",
       "6           gluc  0.725909\n",
       "4          ap_lo  0.725497\n",
       "3          ap_hi  0.724295\n",
       "2         weight  0.714810\n",
       "0         gender  0.707236\n",
       "1         height  0.706396"
      ]
     },
     "execution_count": 52,
     "metadata": {},
     "output_type": "execute_result"
    }
   ],
   "source": [
    "#Plot the RFE Rankings\n",
    "plt.style.use('ggplot')\n",
    "\n",
    "rfe_ft_imp_df = pd.DataFrame({'feature_names':X.columns, 'weights':rfecv.grid_scores_})\n",
    "rfe_ft_imp_df.sort_values(by='weights', inplace=True, ascending=False )\n",
    "\n",
    "features = rfe_ft_imp_df\n",
    "\n",
    "features"
   ]
  },
  {
   "cell_type": "code",
   "execution_count": 53,
   "metadata": {},
   "outputs": [
    {
     "name": "stdout",
     "output_type": "stream",
     "text": [
      "Fitting 10 folds for each of 20 candidates, totalling 200 fits\n"
     ]
    },
    {
     "name": "stderr",
     "output_type": "stream",
     "text": [
      "[Parallel(n_jobs=-1)]: Using backend LokyBackend with 4 concurrent workers.\n",
      "[Parallel(n_jobs=-1)]: Done  42 tasks      | elapsed:   59.9s\n",
      "[Parallel(n_jobs=-1)]: Done 192 tasks      | elapsed:  7.7min\n",
      "[Parallel(n_jobs=-1)]: Done 200 out of 200 | elapsed:  8.6min finished\n"
     ]
    },
    {
     "data": {
      "text/plain": [
       "GridSearchCV(cv=KFold(n_splits=10, random_state=None, shuffle=True),\n",
       "             error_score='raise-deprecating',\n",
       "             estimator=Pipeline(memory=None,\n",
       "                                steps=[('scale',\n",
       "                                        StandardScaler(copy=True,\n",
       "                                                       with_mean=True,\n",
       "                                                       with_std=True)),\n",
       "                                       ('clf',\n",
       "                                        RandomForestClassifier(bootstrap=True,\n",
       "                                                               class_weight=None,\n",
       "                                                               criterion='gini',\n",
       "                                                               max_depth=10,\n",
       "                                                               max_features='auto',\n",
       "                                                               max_leaf_nodes=None,\n",
       "                                                               min_impurity_dec...\n",
       "                                                         min_impurity_split=None,\n",
       "                                                         min_samples_leaf=1,\n",
       "                                                         min_samples_split=2,\n",
       "                                                         min_weight_fraction_leaf=0.0,\n",
       "                                                         n_estimators=500,\n",
       "                                                         n_jobs=None,\n",
       "                                                         oob_score=False,\n",
       "                                                         random_state=101,\n",
       "                                                         verbose=0,\n",
       "                                                         warm_start=False)],\n",
       "                          'clf__max_depth': [5, 10, 15, 20, 30],\n",
       "                          'clf__n_estimators': [50, 100, 200, 500],\n",
       "                          'clf__random_state': [101]}],\n",
       "             pre_dispatch='2*n_jobs', refit=True, return_train_score=False,\n",
       "             scoring='roc_auc', verbose=1)"
      ]
     },
     "execution_count": 53,
     "metadata": {},
     "output_type": "execute_result"
    }
   ],
   "source": [
    "#Use recursive feature elimination to get the best features for our model\n",
    "#(We already did this earlier)\n",
    "\n",
    "X_BestFeatures = rfecv.fit_transform(X, Y)\n",
    "\n",
    "#Use the best features from recursive feature elimination during the grid search\n",
    "RandomForest_model.fit(X_BestFeatures, Y)\n"
   ]
  },
  {
   "cell_type": "code",
   "execution_count": 54,
   "metadata": {},
   "outputs": [
    {
     "name": "stdout",
     "output_type": "stream",
     "text": [
      "The average accuracy for all cv folds is: \t\t\t 0.72897\n",
      "The average precision for all cv folds is: \t\t\t 0.75696\n",
      "The average Recall for all cv folds is: \t\t\t 0.66155\n",
      "*********************************************************\n",
      "Cross Validation Fold Mean Error Scores\n",
      "   Accuracy  Precision    Recall\n",
      "0  0.725552   0.753162  0.657631\n",
      "1  0.731105   0.757311  0.667336\n",
      "2  0.732916   0.763097  0.662985\n",
      "3  0.735221   0.769111  0.659973\n",
      "4  0.723366   0.750000  0.656627\n",
      "5  0.728470   0.754080  0.664993\n",
      "6  0.727976   0.756332  0.659639\n",
      "7  0.733202   0.761377  0.666555\n",
      "8  0.728755   0.754947  0.664212\n",
      "9  0.723155   0.750192  0.655507\n"
     ]
    },
    {
     "data": {
      "text/html": [
       "<div>\n",
       "<style scoped>\n",
       "    .dataframe tbody tr th:only-of-type {\n",
       "        vertical-align: middle;\n",
       "    }\n",
       "\n",
       "    .dataframe tbody tr th {\n",
       "        vertical-align: top;\n",
       "    }\n",
       "\n",
       "    .dataframe thead th {\n",
       "        text-align: right;\n",
       "    }\n",
       "</style>\n",
       "<table border=\"1\" class=\"dataframe\">\n",
       "  <thead>\n",
       "    <tr style=\"text-align: right;\">\n",
       "      <th></th>\n",
       "      <th>Accuracy</th>\n",
       "      <th>Precision</th>\n",
       "      <th>Recall</th>\n",
       "    </tr>\n",
       "  </thead>\n",
       "  <tbody>\n",
       "    <tr>\n",
       "      <td>0</td>\n",
       "      <td>0.725552</td>\n",
       "      <td>0.753162</td>\n",
       "      <td>0.657631</td>\n",
       "    </tr>\n",
       "    <tr>\n",
       "      <td>1</td>\n",
       "      <td>0.731105</td>\n",
       "      <td>0.757311</td>\n",
       "      <td>0.667336</td>\n",
       "    </tr>\n",
       "    <tr>\n",
       "      <td>2</td>\n",
       "      <td>0.732916</td>\n",
       "      <td>0.763097</td>\n",
       "      <td>0.662985</td>\n",
       "    </tr>\n",
       "    <tr>\n",
       "      <td>3</td>\n",
       "      <td>0.735221</td>\n",
       "      <td>0.769111</td>\n",
       "      <td>0.659973</td>\n",
       "    </tr>\n",
       "    <tr>\n",
       "      <td>4</td>\n",
       "      <td>0.723366</td>\n",
       "      <td>0.750000</td>\n",
       "      <td>0.656627</td>\n",
       "    </tr>\n",
       "    <tr>\n",
       "      <td>5</td>\n",
       "      <td>0.728470</td>\n",
       "      <td>0.754080</td>\n",
       "      <td>0.664993</td>\n",
       "    </tr>\n",
       "    <tr>\n",
       "      <td>6</td>\n",
       "      <td>0.727976</td>\n",
       "      <td>0.756332</td>\n",
       "      <td>0.659639</td>\n",
       "    </tr>\n",
       "    <tr>\n",
       "      <td>7</td>\n",
       "      <td>0.733202</td>\n",
       "      <td>0.761377</td>\n",
       "      <td>0.666555</td>\n",
       "    </tr>\n",
       "    <tr>\n",
       "      <td>8</td>\n",
       "      <td>0.728755</td>\n",
       "      <td>0.754947</td>\n",
       "      <td>0.664212</td>\n",
       "    </tr>\n",
       "    <tr>\n",
       "      <td>9</td>\n",
       "      <td>0.723155</td>\n",
       "      <td>0.750192</td>\n",
       "      <td>0.655507</td>\n",
       "    </tr>\n",
       "  </tbody>\n",
       "</table>\n",
       "</div>"
      ],
      "text/plain": [
       "   Accuracy  Precision    Recall\n",
       "0  0.725552   0.753162  0.657631\n",
       "1  0.731105   0.757311  0.667336\n",
       "2  0.732916   0.763097  0.662985\n",
       "3  0.735221   0.769111  0.659973\n",
       "4  0.723366   0.750000  0.656627\n",
       "5  0.728470   0.754080  0.664993\n",
       "6  0.727976   0.756332  0.659639\n",
       "7  0.733202   0.761377  0.666555\n",
       "8  0.728755   0.754947  0.664212\n",
       "9  0.723155   0.750192  0.655507"
      ]
     },
     "execution_count": 54,
     "metadata": {},
     "output_type": "execute_result"
    }
   ],
   "source": [
    "EvaluateClassifierEstimator(RandomForest_model.best_estimator_, X_BestFeatures, Y, cv=10)"
   ]
  },
  {
   "cell_type": "markdown",
   "metadata": {},
   "source": [
    "Results from the Recursive Feature Elimination method suggest that two features, gender and alcohol status, should not be included in the Random Forest modeling for a dataset like ours. "
   ]
  },
  {
   "cell_type": "markdown",
   "metadata": {},
   "source": [
    "<a href=\"#top\">Back to Top</a>\n",
    "# Task 2<a id=\"Task_1\"></a>\n",
    "\n",
    "### 2.1 Modeling and Evaluation 3<a id=\"2.1_Modeling_and_Evaluation_3\"></a>"
   ]
  },
  {
   "cell_type": "markdown",
   "metadata": {},
   "source": [
    "Now we are using 3 different classifiers to predict if patient cholesterol is in normal level or above. As we mentioned previously there is imbalanced distribution in cholesterol classes and we can not use regular cross validation methods. We decided to combine 2 above normal classes together (as not normal cholesterol level, '0') and use SMOTE technique to generate new samples for minor class in order to solve imbalanced situation. This technique is followed to avoid overfitting which occurs when exact replicas of minority instances are added to the main dataset. In addition to SMOTE, there is another technique to deal with imbalanced distribution which called NearMiss. NearMiss is an under-sampling technique. Instead of resampling the Minority class, using a distance, this will make the majority class equal to minority class. For this task we used accuracy as a metric to evaluate 3 different models which are KNN , Random Forest and Logistic Regression."
   ]
  },
  {
   "cell_type": "code",
   "execution_count": 55,
   "metadata": {},
   "outputs": [
    {
     "data": {
      "text/plain": [
       "1    75.754183\n",
       "0    24.245817\n",
       "Name: cholesterol, dtype: float64"
      ]
     },
     "execution_count": 55,
     "metadata": {},
     "output_type": "execute_result"
    }
   ],
   "source": [
    "# combining 2 above normal classes\n",
    "#change gender levels: 1 to 0 (female) and 2 to 1 (male)\n",
    "df['cholesterol'] = df['cholesterol'].apply(lambda x:0 if x == 2 or x == 3 else(1))\n",
    "#cholesterol percentage split\n",
    "(df['cholesterol'].value_counts()/len(df))*100"
   ]
  },
  {
   "cell_type": "code",
   "execution_count": 56,
   "metadata": {},
   "outputs": [
    {
     "data": {
      "text/html": [
       "<div>\n",
       "<style scoped>\n",
       "    .dataframe tbody tr th:only-of-type {\n",
       "        vertical-align: middle;\n",
       "    }\n",
       "\n",
       "    .dataframe tbody tr th {\n",
       "        vertical-align: top;\n",
       "    }\n",
       "\n",
       "    .dataframe thead th {\n",
       "        text-align: right;\n",
       "    }\n",
       "</style>\n",
       "<table border=\"1\" class=\"dataframe\">\n",
       "  <thead>\n",
       "    <tr style=\"text-align: right;\">\n",
       "      <th></th>\n",
       "      <th>cholesterol</th>\n",
       "    </tr>\n",
       "  </thead>\n",
       "  <tbody>\n",
       "    <tr>\n",
       "      <td>0</td>\n",
       "      <td>1</td>\n",
       "    </tr>\n",
       "    <tr>\n",
       "      <td>1</td>\n",
       "      <td>0</td>\n",
       "    </tr>\n",
       "    <tr>\n",
       "      <td>2</td>\n",
       "      <td>0</td>\n",
       "    </tr>\n",
       "    <tr>\n",
       "      <td>3</td>\n",
       "      <td>1</td>\n",
       "    </tr>\n",
       "    <tr>\n",
       "      <td>4</td>\n",
       "      <td>1</td>\n",
       "    </tr>\n",
       "    <tr>\n",
       "      <td>...</td>\n",
       "      <td>...</td>\n",
       "    </tr>\n",
       "    <tr>\n",
       "      <td>69993</td>\n",
       "      <td>1</td>\n",
       "    </tr>\n",
       "    <tr>\n",
       "      <td>69994</td>\n",
       "      <td>1</td>\n",
       "    </tr>\n",
       "    <tr>\n",
       "      <td>69995</td>\n",
       "      <td>1</td>\n",
       "    </tr>\n",
       "    <tr>\n",
       "      <td>69998</td>\n",
       "      <td>1</td>\n",
       "    </tr>\n",
       "    <tr>\n",
       "      <td>69999</td>\n",
       "      <td>0</td>\n",
       "    </tr>\n",
       "  </tbody>\n",
       "</table>\n",
       "<p>60728 rows × 1 columns</p>\n",
       "</div>"
      ],
      "text/plain": [
       "       cholesterol\n",
       "0                1\n",
       "1                0\n",
       "2                0\n",
       "3                1\n",
       "4                1\n",
       "...            ...\n",
       "69993            1\n",
       "69994            1\n",
       "69995            1\n",
       "69998            1\n",
       "69999            0\n",
       "\n",
       "[60728 rows x 1 columns]"
      ]
     },
     "execution_count": 56,
     "metadata": {},
     "output_type": "execute_result"
    }
   ],
   "source": [
    "#separating input data into two parts X (features) and Y (target)\n",
    "features1 = [\"gender\", \"height\", \"weight\", \"ap_hi\", \"ap_lo\",\"cardio\", \"gluc\", \"smoke\", \"alco\", \"active\", \"years\", \"BMI\"]\n",
    "\n",
    "X1 = df[features1].copy()\n",
    "\n",
    "Y1= df[['cholesterol']].copy()\n",
    "Y1"
   ]
  },
  {
   "cell_type": "code",
   "execution_count": 59,
   "metadata": {},
   "outputs": [
    {
     "name": "stdout",
     "output_type": "stream",
     "text": [
      "Before OverSampling, counts of label '1': 36821\n",
      "Before OverSampling, counts of label '0': 11761 \n",
      "\n",
      "After OverSampling, the shape of train_X: (73642, 12)\n",
      "After OverSampling, the shape of train_y: (73642,) \n",
      "\n",
      "After OverSampling, counts of label '1': 36821\n",
      "After OverSampling, counts of label '0': 36821\n"
     ]
    }
   ],
   "source": [
    "from imblearn import under_sampling \n",
    "from imblearn import over_sampling\n",
    "from imblearn.over_sampling import SMOTE\n",
    "\n",
    "# train and test split before resampling\n",
    "X1_train, X1_test, y1_train, y1_test = train_test_split(X1, Y1, test_size = 0.2, random_state = 101) \n",
    "\n",
    "print(\"Before OverSampling, counts of label '1': {}\".format(sum(y1_train['cholesterol'] == 1)))\n",
    "print(\"Before OverSampling, counts of label '0': {} \\n\".format(sum(y1_train['cholesterol'] == 0))) \n",
    "  \n",
    "# import SMOTE module from imblearn library \n",
    "# pip install imblearn (if you don't have imblearn in your system) \n",
    "from imblearn.over_sampling import SMOTE \n",
    "sm = SMOTE(random_state = 2) \n",
    "X1_train_res, y1_train_res = sm.fit_sample(X1_train, y1_train) \n",
    "  \n",
    "print('After OverSampling, the shape of train_X: {}'.format(X1_train_res.shape)) \n",
    "print('After OverSampling, the shape of train_y: {} \\n'.format(y1_train_res.shape)) \n",
    "  \n",
    "print(\"After OverSampling, counts of label '1': {}\".format(sum(y1_train_res == 1))) \n",
    "print(\"After OverSampling, counts of label '0': {}\".format(sum(y1_train_res == 0))) \n"
   ]
  },
  {
   "cell_type": "markdown",
   "metadata": {},
   "source": [
    "#### Model 1: KNN Classification"
   ]
  },
  {
   "cell_type": "code",
   "execution_count": null,
   "metadata": {},
   "outputs": [],
   "source": [
    "param_grid = [\n",
    "    {\n",
    "         'clf': [KNeighborsClassifier()],\n",
    "         'clf__weights': ['uniform','distance'],\n",
    "         'clf__leaf_size': [10,30],\n",
    "         'clf__metric': ['minkowski','euclidean'],\n",
    "         'clf__n_neighbors':[3,5,13,15,17],\n",
    "         \n",
    "    }\n",
    "]\n",
    "\n",
    "grid_search_KNN = GridSearchCV(pipe, param_grid=param_grid,cv=k_fold,n_jobs=-1, verbose=1, scoring='accuracy' )\n",
    "\n",
    "KNearest_model1 = grid_search_KNN.fit(X1_train_res, y1_train_res)\n",
    "\n",
    "y_KNN_score1 = grid_search_KNN.predict(X1_test)"
   ]
  },
  {
   "cell_type": "code",
   "execution_count": null,
   "metadata": {},
   "outputs": [],
   "source": [
    "classifierEstimaterKNN1 = KNearest_model1.best_estimator_\n",
    "classifierEstimaterKNN1"
   ]
  },
  {
   "cell_type": "code",
   "execution_count": null,
   "metadata": {},
   "outputs": [],
   "source": [
    "KNearest_scores1 = EvaluateClassifierEstimator(classifierEstimaterKNN1,X1_train_res,y1_train_res,cv=10)"
   ]
  },
  {
   "cell_type": "code",
   "execution_count": null,
   "metadata": {},
   "outputs": [],
   "source": [
    "confusion_matrix(y1_test, y_KNN_score1)"
   ]
  },
  {
   "cell_type": "code",
   "execution_count": null,
   "metadata": {},
   "outputs": [],
   "source": [
    "from sklearn.model_selection import cross_val_score\n",
    "from sklearn.model_selection import StratifiedKFold\n",
    "cv=StratifiedKFold(n_splits=10,shuffle=True,random_state=101)\n",
    "KNN_accuracy = cross_val_score(classifierEstimaterKNN1, X1, y=Y1, cv=cv)\n",
    "KNN_acc=KNN_accuracy.mean()\n",
    "KNN_acc"
   ]
  },
  {
   "cell_type": "markdown",
   "metadata": {},
   "source": [
    "#### Model #2 Random Forest Classification"
   ]
  },
  {
   "cell_type": "code",
   "execution_count": null,
   "metadata": {},
   "outputs": [],
   "source": [
    "param_grid = [\n",
    "    {\n",
    "         'clf': [RandomForestClassifier()],\n",
    "         'clf__n_estimators': [50, 100, 200, 500], \n",
    "         'clf__max_depth': [5,10,15,20,30],\n",
    "         'clf__random_state':[101]\n",
    "     }\n",
    "]\n",
    "\n",
    "grid_search_RF = GridSearchCV(pipe, param_grid=param_grid, cv=k_fold,n_jobs=-1, verbose=1, scoring='accuracy' )\n",
    "\n",
    "RandomForest_model1 = grid_search_RF.fit(X1_train_res, y1_train_res)\n",
    "\n",
    "y_RF_score1 = grid_search_RF.predict(X1_test)"
   ]
  },
  {
   "cell_type": "code",
   "execution_count": null,
   "metadata": {},
   "outputs": [],
   "source": [
    "classifierEstimaterRF1 = RandomForest_model1.best_estimator_\n",
    "classifierEstimaterRF1"
   ]
  },
  {
   "cell_type": "code",
   "execution_count": null,
   "metadata": {},
   "outputs": [],
   "source": [
    "Random_Forest_scores1 = EvaluateClassifierEstimator(classifierEstimaterRF1,X1_train_res,y1_train_res,cv=10)"
   ]
  },
  {
   "cell_type": "code",
   "execution_count": null,
   "metadata": {},
   "outputs": [],
   "source": [
    "confusion_matrix(y1_test, y_RF_score1)"
   ]
  },
  {
   "cell_type": "code",
   "execution_count": null,
   "metadata": {},
   "outputs": [],
   "source": [
    "RF_accuracy = cross_val_score(classifierEstimaterRF1, X1, y=Y1, cv=cv)\n",
    "RF_acc=RF_accuracy.mean()\n",
    "RF_acc"
   ]
  },
  {
   "cell_type": "markdown",
   "metadata": {},
   "source": [
    "#### Model #3 Logistic Regression"
   ]
  },
  {
   "cell_type": "code",
   "execution_count": null,
   "metadata": {},
   "outputs": [],
   "source": [
    "from sklearn.linear_model import LogisticRegression\n",
    "\n",
    "parameters = { 'clf':[LogisticRegression()]\n",
    "              ,'clf__penalty':['l2']\n",
    "              ,'clf__C': [0.001, 0.01, 0.1, 1, 10, 100, 1000]\n",
    "              ,'clf__class_weight': ['balanced','none']\n",
    "              ,'clf__random_state': [0]\n",
    "              ,'clf__solver': ['lbfgs']\n",
    "              ,'clf__max_iter':[1500,2000]\n",
    "              ,'clf__random_state':[101]\n",
    "             }\n",
    "\n",
    "grid_search_LR = GridSearchCV(pipe, param_grid=parameters, cv=k_fold,n_jobs=-1, verbose=1, scoring='accuracy' )\n",
    "\n",
    "LogisticRegression_model = grid_search_LR.fit(X1_train_res, y1_train_res)\n",
    "\n",
    "y_LR_score = grid_search_LR.predict(X1_test)"
   ]
  },
  {
   "cell_type": "code",
   "execution_count": null,
   "metadata": {},
   "outputs": [],
   "source": [
    "classifierEstimaterLR = LogisticRegression_model.best_estimator_\n",
    "classifierEstimaterLR"
   ]
  },
  {
   "cell_type": "code",
   "execution_count": null,
   "metadata": {},
   "outputs": [],
   "source": [
    "Logistic_Regression_scores = EvaluateClassifierEstimator(classifierEstimaterLR,X1_train_res,y1_train_res,cv=10)"
   ]
  },
  {
   "cell_type": "code",
   "execution_count": null,
   "metadata": {},
   "outputs": [],
   "source": [
    "confusion_matrix(y1_test, y_LR_score)"
   ]
  },
  {
   "cell_type": "code",
   "execution_count": null,
   "metadata": {},
   "outputs": [],
   "source": [
    "LR_accuracy = cross_val_score(classifierEstimaterLR, X1, y=Y1, cv=cv)\n",
    "LR_acc=LR_accuracy.mean()\n",
    "LR_acc"
   ]
  },
  {
   "cell_type": "markdown",
   "metadata": {},
   "source": [
    "<a href=\"#top\">Back to Top</a>\n",
    "### 2.2 Modeling and Evaluation 4<a id=\"2.2_Modeling_and_Evaluation_4\"></a>"
   ]
  },
  {
   "cell_type": "markdown",
   "metadata": {},
   "source": [
    "The best model we found was Random Forest Classification, with a accuracy score of ~.78"
   ]
  },
  {
   "cell_type": "code",
   "execution_count": null,
   "metadata": {},
   "outputs": [],
   "source": [
    "print ('accuracy for KNN classifier is :',KNN_acc)\n",
    "print ('accuracy for Random Forest classifier is :',RF_acc)\n",
    "print ('accuracy for Logistic Regression classifier is :',LR_acc)"
   ]
  },
  {
   "cell_type": "markdown",
   "metadata": {},
   "source": [
    "<a href=\"#top\">Back to Top</a>\n",
    "### 2.3 Modeling and Evaluation 5<a id=\"2.3_Modeling_and_Evaluation_5\"></a>\n",
    "* Discuss the advantages of each model for each classification task, if any. If there are not advantages, explain why. Is any model better than another? Is the difference significant with 95% confidence? Use proper statistical comparison methods. You must use statistical comparison techniques—be sure they are appropriate for your chosen method of validation as discussed in unit 7 of the course."
   ]
  },
  {
   "cell_type": "markdown",
   "metadata": {},
   "source": [
    "# Statistical Comparison of Classifiers: \n",
    "\n",
    "$$\\sigma^2 = \\frac{e(1-e)}{n}$$ \n",
    "\n",
    "$$CI = (e_1-e_2)\\pm1.96\\sqrt{(\\sigma_1^2+\\sigma_2^2)}$$\n",
    "\n",
    "\n",
    "## Comparison of Models: "
   ]
  },
  {
   "cell_type": "code",
   "execution_count": null,
   "metadata": {},
   "outputs": [],
   "source": [
    "import math\n",
    "n= len(Y1)\n",
    "KNN_error_var = KNN_acc*(1-KNN_acc)/n\n",
    "RF_error_var = RF_acc*(1-RF_acc)/n\n",
    "LR_error_var = LR_acc*(1-LR_acc)/n\n",
    "\n",
    "\n",
    "# calculating confidence interval\n",
    "KNN_RF_interval = 1.96 * sqrt(KNN_error_var + RF_error_var)\n",
    "KNN_LR_interval = 1.96 * sqrt(KNN_error_var + LR_error_var)\n",
    "RF_LR_interval = 1.96 * sqrt(RF_error_var + LR_error_var)\n",
    "\n",
    "\n",
    "print ('Range of KNN_RF confidence interval:[%0.6f,%0.6f]' %((KNN_acc - RF_acc)-KNN_RF_interval,\n",
    "                                  (KNN_acc - RF_acc)+KNN_RF_interval))\n",
    "print ('Range of KNN_LR confidence interval:[%0.6f,%0.6f]' %((KNN_acc - LR_acc)-KNN_LR_interval,\n",
    "                                  (KNN_acc - LR_acc)+KNN_LR_interval))\n",
    "print ('Range of RF_LR confidence interval:[%0.6f,%0.6f]' %((RF_acc - LR_acc)-RF_LR_interval,\n",
    "                                  (RF_acc - LR_acc)+RF_LR_interval))\n"
   ]
  },
  {
   "cell_type": "markdown",
   "metadata": {},
   "source": [
    "None of above confidence intervals contain 0 so we are 95% confident that all three models are not the same."
   ]
  },
  {
   "cell_type": "markdown",
   "metadata": {},
   "source": [
    "<a href=\"#top\">Back to Top</a>\n",
    "### 2.4 Modeling and Evaluation 6<a id=\"2.4_Modeling_and_Evaluation_6\"></a>\n",
    "* Which attributes from your analysis are most important? Use proper methods discussed in class to evaluate the importance of different attributes. Discuss the results and hypothesize about why certain attributes are more important than others for a given classification task."
   ]
  },
  {
   "cell_type": "markdown",
   "metadata": {},
   "source": [
    "We found out Random Forest classifier has the best performance on cholesterol in CVD dataset. Now, we proceed to find the Level of importance of each feature in this model."
   ]
  },
  {
   "cell_type": "code",
   "execution_count": null,
   "metadata": {},
   "outputs": [],
   "source": [
    "# set the parameters of this estimator and fit the model\n",
    "pipe.set_params(**RandomForest_model1.best_params_)\n",
    "pipe.fit(X, Y)\n",
    "\n",
    "coef = pipe.steps[1][1].feature_importances_\n",
    "\n",
    "feature_names=list(X1_train.columns.values)\n",
    "\n",
    "#Creates a new dataframe with the coefficients and the features \n",
    "Top_Features = pd.DataFrame({'feature_names':feature_names, 'weights':coef})\n",
    "print(\"The Top Feature are the following\")\n",
    "display(Top_Features.sort_values(by='weights', ascending=False))"
   ]
  },
  {
   "cell_type": "code",
   "execution_count": null,
   "metadata": {},
   "outputs": [],
   "source": [
    "import seaborn as sns\n",
    "ax = sns.barplot(x =Top_Features['weights'], y = Top_Features.sort_values(by='weights', ascending=False)['feature_names'], \n",
    "                 orient= 'h')\n",
    "ax.set_title(\"Top Feature Correlations\")\n",
    "ax.set_xlabel(\"Coefficient Magnitude\\n(z-score)\")"
   ]
  },
  {
   "cell_type": "markdown",
   "metadata": {},
   "source": [
    "<a href=\"#top\">Back to Top</a>\n",
    "### Deployment<a id=\"Deployment\"></a>\n",
    "* How useful is your model for interested parties (i.e., the companies or organizations that might want to use it for prediction)? How would you measure the model's value if it was used by these parties? How would you deploy your model for interested parties? What other data should be collected? How often would the model need to be updated, etc.?"
   ]
  },
  {
   "cell_type": "code",
   "execution_count": null,
   "metadata": {},
   "outputs": [],
   "source": []
  },
  {
   "cell_type": "markdown",
   "metadata": {},
   "source": [
    "<a href=\"#top\">Back to Top</a>\n",
    "### Exceptional Work<a id=\"Exceptional_Work\"></a>\n",
    "* You have free reign to provide additional analyses. One idea: grid search parameters in a parallelized fashion and visualize the performances across attributes. Which parameters are most significant for making a good model for each classification algorithm?"
   ]
  },
  {
   "cell_type": "markdown",
   "metadata": {},
   "source": [
    "We will be looking at a Voting Classifier. Voting is one of the easyest ways of combining the predictions from multiple machine learning algorithms. Voting classifier isn’t an actual classifier but it wraps up different ones that are trained and valuated in parallel in order to look at the different uniqueness of each system. We will use and ensemble of different algorithms then predict the final output.\n",
    "\n",
    "This output on a prediction is taken by majority vote according to two different strategies:\n",
    "\n",
    "* Hard voting / Majority voting: Hard voting is the simplest case of majority voting. In this case, the class that received the highest number of votes will be chosen.\n",
    "Or\n",
    "* Soft Voting / Average probability: The probability vector for each predicted class are summed and the average is collected. The winning class is the one with the highest value.\n",
    "\n",
    "We will use both hard and soft voting ."
   ]
  },
  {
   "cell_type": "markdown",
   "metadata": {},
   "source": [
    "### Hard Voting"
   ]
  },
  {
   "cell_type": "code",
   "execution_count": null,
   "metadata": {},
   "outputs": [],
   "source": [
    "from sklearn.ensemble import VotingClassifier\n",
    "from sklearn import model_selection\n",
    "from sklearn.model_selection import StratifiedKFold\n",
    "from mlxtend.plotting import plot_decision_regions\n",
    "import matplotlib.gridspec as gridspec\n",
    "import itertools\n",
    "\n",
    "# Training classifiers\n",
    "\n",
    "clf1 = SGDClassifier(alpha=0.01, average=False,\n",
    "                           class_weight='balanced', early_stopping=False,\n",
    "                           epsilon=0.1, eta0=0.0, fit_intercept=True,\n",
    "                           l1_ratio=0.15, learning_rate='optimal',\n",
    "                           loss='hinge', max_iter=1000, n_iter_no_change=5,\n",
    "                           n_jobs=None, penalty='l2')\n",
    "\n",
    "clf2 = KNeighborsClassifier(algorithm='auto', leaf_size=10, metric='minkowski', \n",
    "                                           metric_params=None, n_jobs=-1, n_neighbors=13, p=2,\n",
    "                                           weights='uniform')\n",
    "\n",
    "clf3 = RandomForestClassifier(bootstrap=True, class_weight=None,\n",
    "                                        criterion='gini', max_depth=10,\n",
    "                                        max_features='auto',\n",
    "                                        max_leaf_nodes=None,\n",
    "                                        min_impurity_split=None,\n",
    "                                        min_samples_leaf=1, min_samples_split=2,\n",
    "                                        min_weight_fraction_leaf=0.0,\n",
    "                                        n_estimators=500,random_state=101,\n",
    "                                        )\n",
    "\n",
    "clf4 = DecisionTreeClassifier(class_weight=None,criterion='gini',max_depth=5,splitter='best')\n",
    "\n",
    "eclf = VotingClassifier(estimators=[('SVM', clf1), ('KNN', clf2),\n",
    "                                    ('RF', clf3),('DT',clf4)],voting='hard',)\n",
    "\n",
    "labels = ['SVM', 'KNN (k=13)', 'Random Forest (depth=10)','Decision Tree (depth=5)','Ensemble']\n",
    "\n",
    "for clf, label in zip([clf1, clf2, clf3,clf4,eclf], labels):\n",
    "\n",
    "    scores = model_selection.cross_val_score(clf, X, Y, \n",
    "                                              cv=StratifiedKFold(n_splits=10, random_state=101), \n",
    "                                              scoring='accuracy')\n",
    "    print(\"Accuracy: %0.2f (+/- %0.2f) [%s]\" \n",
    "          % (scores.mean(), scores.std(), label))"
   ]
  },
  {
   "cell_type": "markdown",
   "metadata": {},
   "source": [
    "### Soft Voting"
   ]
  },
  {
   "cell_type": "code",
   "execution_count": null,
   "metadata": {},
   "outputs": [],
   "source": [
    "clf1_1 = SGDClassifier(alpha=0.01, average=False,\n",
    "                           class_weight='balanced', early_stopping=False,\n",
    "                           epsilon=0.1, eta0=0.0, fit_intercept=True,\n",
    "                           l1_ratio=0.15, learning_rate='optimal',\n",
    "                           loss='modified_huber', max_iter=1000, n_iter_no_change=5,\n",
    "                           n_jobs=None, penalty='l2')\n",
    "\n",
    "eclf_soft = VotingClassifier(estimators=[('SVM', clf1_1), ('KNN', clf2),\n",
    "                                    ('RF', clf3),('DT',clf4)],voting='soft',)\n",
    "\n",
    "labels = ['SVM', 'KNN (k=13)', 'Random Forest (depth=10)','Decision Tree (depth=5)','Ensemble']\n",
    "\n",
    "for clf, label in zip([clf1, clf2, clf3,clf4,eclf], labels):\n",
    "\n",
    "    scores = model_selection.cross_val_score(clf, X, Y, \n",
    "                                              cv=StratifiedKFold(n_splits=10, random_state=101), \n",
    "                                              scoring='accuracy')\n",
    "    print(\"Accuracy: %0.2f (+/- %0.2f) [%s]\" \n",
    "          % (scores.mean(), scores.std(), label))"
   ]
  },
  {
   "cell_type": "code",
   "execution_count": null,
   "metadata": {},
   "outputs": [],
   "source": []
  }
 ],
 "metadata": {
  "@webio": {
   "lastCommId": null,
   "lastKernelId": null
  },
  "kernelspec": {
   "display_name": "Python 3",
   "language": "python",
   "name": "python3"
  },
  "language_info": {
   "codemirror_mode": {
    "name": "ipython",
    "version": 3
   },
   "file_extension": ".py",
   "mimetype": "text/x-python",
   "name": "python",
   "nbconvert_exporter": "python",
   "pygments_lexer": "ipython3",
   "version": "3.7.1"
  }
 },
 "nbformat": 4,
 "nbformat_minor": 2
}
