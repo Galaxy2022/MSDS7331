{
 "cells": [
  {
   "cell_type": "markdown",
   "metadata": {},
   "source": [
    "# Data Mining 7331 - Fall 2019\n",
    "## Lab 2 - Classification\n",
    "\n",
    "* **Allen Ansari**\n",
    "* **Chad Madding**\n",
    "* **Yongjun (Ian) Chu**"
   ]
  },
  {
   "cell_type": "markdown",
   "metadata": {},
   "source": [
    "## Introduction\n",
    "Cardiovascular diseases (CVD) are the no. 1 cause of death in US each year. To reduce the death rate, the best approach is by early detection and screening. In this Lab we will implement models including decision tree, Random Forest, KNN and Support Vector Machine (SVM) to predict the probability of a patient having CVD based on results from medical examinations, such as blood pressure values and glucose content.\n",
    "In addition, we will also try to set up models to predict cholesterol level (normal or not) for each patient based on their medical exam results."
   ]
  },
  {
   "cell_type": "markdown",
   "metadata": {},
   "source": [
    "## Data description\n",
    "\n",
    "We will be performing an analysis of the cardiovascular diseases dataset found on Kaggle (https://www.kaggle.com/sulianova/cardiovascular-disease-dataset). It consists of 70,000 records of patient’s data in 12 features, such as age, gender, systolic blood pressure, diastolic blood pressure and CVD status(binary, 1 or 0).\n",
    "There are 3 types of input features:\n",
    "\n",
    "- *Objective*: factual information;\n",
    "- *Examination*: results of medical examination;\n",
    "- *Subjective*: information given by the patient.\n",
    "\n",
    "|Feature   |Variable Type   |Variable   |Value Type   |\n",
    "|:---------|:--------------|:---------------|:------------|\n",
    "| Age | Objective Feature | age | int (days) |\n",
    "| Height | Objective Feature | height | int (cm) |\n",
    "| Weight | Objective Feature | weight | float (kg) |\n",
    "| Gender | Objective Feature | gender | categorical code |\n",
    "| Systolic blood pressure | Examination Feature | ap_hi | int |\n",
    "| Diastolic blood pressure | Examination Feature | ap_lo | int |\n",
    "| Cholesterol | Examination Feature | cholesterol | 1: normal, 2: above normal, 3: well above normal |\n",
    "| Glucose | Examination Feature | gluc | 1: normal, 2: above normal, 3: well above normal |\n",
    "| Smoking | Subjective Feature | smoke | binary |\n",
    "| Alcohol intake | Subjective Feature | alco | binary |\n",
    "| Physical activity | Subjective Feature | active | binary |\n",
    "| Presence or absence of cardiovascular disease | Target Variable | cardio | binary |\n",
    "\n",
    "For any binary data type, \"0\" means \"No\" and \"1\" means \"Yes\". All of the dataset values were collected at the moment of medical examination."
   ]
  },
  {
   "cell_type": "markdown",
   "metadata": {},
   "source": [
    "## Table of Contents<a id=\"top\"></a>\n",
    "\n",
    "* **[Data Preparation Part 1](#Data_Preparation_Part_1)**\n",
    "    *  Define and prepare your class variables. Use proper variable representations (int, float, one-hot, etc.). Use pre-processing methods (as needed) for dimensionality reduction, scaling, etc. Remove variables that are not needed/useful for the analysis.\n",
    "* **[Data Preparation Part 2](#Data_Preparation_Part_2)**\n",
    "    *  Describe the final dataset that is used for classification/regression (include a description of any newly formed variables you created).\n",
    "* **[Modeling and Evaluation 1](#Modeling_and_Evaluation_1)**\n",
    "    *  Choose and explain your evaluation metrics that you will use (i.e., accuracy, precision, recall, F-measure, or any metric we have discussed). Why are the measure(s) appropriate for analyzing the results of your modeling? Give a detailed explanation backing up any assertions.\n",
    "* **[Modeling and Evaluation 2](#Modeling_and_Evaluation_2)**\n",
    "    *  Choose the method you will use for dividing your data into training and testing splits (i.e., are you using Stratified 10-fold cross validation? Why?). Explain why your chosen method is appropriate or use more than one method as appropriate. For example, if you are using time series data then you should be using continuous training and testing sets across time.\n",
    "* **[Task 1](#Task_1)**\n",
    "    * **[1.1 Modeling and Evaluation 3](#1.1_Modeling_and_Evaluation_3)**\n",
    "         *  Create three different classification/regression models for each task (e.g., random forest, KNN, and SVM for task one and the same or different algorithms for task two). Two modeling techniques must be new (but the third could be SVM or logistic regression). Adjust parameters as appropriate to increase generalization performance using your chosen metric. You must investigate different parameters of the algorithms!\n",
    "    * **[1.2 Modeling and Evaluation 4](#1.2_Modeling_and_Evaluation_4)**\n",
    "         *  Analyze the results using your chosen method of evaluation. Use visualizations of the results to bolster the analysis. Explain any visuals and analyze why they are interesting to someone that might use this model.\n",
    "    * **[1.3 Modeling and Evaluation 5](#1.3_Modeling_and_Evaluation_5)**\n",
    "         *  Discuss the advantages of each model for each classification task, if any. If there are not advantages, explain why. Is any model better than another? Is the difference significant with 95% confidence? Use proper statistical comparison methods. You must use statistical comparison techniques—be sure they are appropriate for your chosen method of validation as discussed in unit 7 of the course.\n",
    "    * **[1.4 Modeling and Evaluation 6](#1.4_Modeling_and_Evaluation_6)**\n",
    "         *  Which attributes from your analysis are most important? Use proper methods discussed in class to evaluate the importance of different attributes. Discuss the results and hypothesize about why certain attributes are more important than others for a given classification task.\n",
    "* **[Task 2](#Task_2)**    \n",
    "    * **[2.1 Modeling and Evaluation 3](#2.1_Modeling_and_Evaluation_3)**\n",
    "         *  Create three different classification/regression models for each task (e.g., random forest, KNN, and SVM for task one and the same or different algorithms for task two). Two modeling techniques must be new (but the third could be SVM or logistic regression). Adjust parameters as appropriate to increase generalization performance using your chosen metric. You must investigate different parameters of the algorithms!\n",
    "    * **[2.2 Modeling and Evaluation 4](#2.2_Modeling_and_Evaluation_4)**\n",
    "         *  Analyze the results using your chosen method of evaluation. Use visualizations of the results to bolster the analysis. Explain any visuals and analyze why they are interesting to someone that might use this model.\n",
    "    * **[2.3 Modeling and Evaluation 5](#2.3_Modeling_and_Evaluation_5)**\n",
    "         *  Discuss the advantages of each model for each classification task, if any. If there are not advantages, explain why. Is any model better than another? Is the difference significant with 95% confidence? Use proper statistical comparison methods. You must use statistical comparison techniques—be sure they are appropriate for your chosen method of validation as discussed in unit 7 of the course.\n",
    "    * **[2.4 Modeling and Evaluation 6](#2.4_Modeling_and_Evaluation_6)**\n",
    "         *  Which attributes from your analysis are most important? Use proper methods discussed in class to evaluate the importance of different attributes. Discuss the results and hypothesize about why certain attributes are more important than others for a given classification task.\n",
    "* **[Deployment](#Deployment)**\n",
    "    *  How useful is your model for interested parties (i.e., the companies or organizations that might want to use it for prediction)? How would you measure the model's value if it was used by these parties? How would you deploy your model for interested parties? What other data should be collected? How often would the model need to be updated, etc.?\n",
    "* **[Exceptional Work](#Exceptional_Work)**\n",
    "    *  You have free reign to provide additional analyses. One idea: grid search parameters in a parallelized fashion and visualize the performances across attributes. Which parameters are most significant for making a good model for each classification algorithm?"
   ]
  },
  {
   "cell_type": "markdown",
   "metadata": {},
   "source": [
    "<a href=\"#top\">Back to Top</a>\n",
    "### Data_Preparation_Part_1 <a id=\"Data_Preparation_Part_1\"></a>\n",
    "* We obtained this CVD dataset from Kaggle. The purpose of this dataset was to determine which medical aspects had the most bearing on whether a patient would have CVD or not and have normal or not normal cholesterol level. "
   ]
  },
  {
   "cell_type": "code",
   "execution_count": 144,
   "metadata": {},
   "outputs": [
    {
     "name": "stdout",
     "output_type": "stream",
     "text": [
      "(70000, 13)\n"
     ]
    },
    {
     "data": {
      "text/html": [
       "<div>\n",
       "<style scoped>\n",
       "    .dataframe tbody tr th:only-of-type {\n",
       "        vertical-align: middle;\n",
       "    }\n",
       "\n",
       "    .dataframe tbody tr th {\n",
       "        vertical-align: top;\n",
       "    }\n",
       "\n",
       "    .dataframe thead th {\n",
       "        text-align: right;\n",
       "    }\n",
       "</style>\n",
       "<table border=\"1\" class=\"dataframe\">\n",
       "  <thead>\n",
       "    <tr style=\"text-align: right;\">\n",
       "      <th></th>\n",
       "      <th>id</th>\n",
       "      <th>age</th>\n",
       "      <th>gender</th>\n",
       "      <th>height</th>\n",
       "      <th>weight</th>\n",
       "      <th>ap_hi</th>\n",
       "      <th>ap_lo</th>\n",
       "      <th>cholesterol</th>\n",
       "      <th>gluc</th>\n",
       "      <th>smoke</th>\n",
       "      <th>alco</th>\n",
       "      <th>active</th>\n",
       "      <th>cardio</th>\n",
       "    </tr>\n",
       "  </thead>\n",
       "  <tbody>\n",
       "    <tr>\n",
       "      <th>0</th>\n",
       "      <td>0</td>\n",
       "      <td>18393</td>\n",
       "      <td>2</td>\n",
       "      <td>168</td>\n",
       "      <td>62.0</td>\n",
       "      <td>110</td>\n",
       "      <td>80</td>\n",
       "      <td>1</td>\n",
       "      <td>1</td>\n",
       "      <td>0</td>\n",
       "      <td>0</td>\n",
       "      <td>1</td>\n",
       "      <td>0</td>\n",
       "    </tr>\n",
       "    <tr>\n",
       "      <th>1</th>\n",
       "      <td>1</td>\n",
       "      <td>20228</td>\n",
       "      <td>1</td>\n",
       "      <td>156</td>\n",
       "      <td>85.0</td>\n",
       "      <td>140</td>\n",
       "      <td>90</td>\n",
       "      <td>3</td>\n",
       "      <td>1</td>\n",
       "      <td>0</td>\n",
       "      <td>0</td>\n",
       "      <td>1</td>\n",
       "      <td>1</td>\n",
       "    </tr>\n",
       "    <tr>\n",
       "      <th>2</th>\n",
       "      <td>2</td>\n",
       "      <td>18857</td>\n",
       "      <td>1</td>\n",
       "      <td>165</td>\n",
       "      <td>64.0</td>\n",
       "      <td>130</td>\n",
       "      <td>70</td>\n",
       "      <td>3</td>\n",
       "      <td>1</td>\n",
       "      <td>0</td>\n",
       "      <td>0</td>\n",
       "      <td>0</td>\n",
       "      <td>1</td>\n",
       "    </tr>\n",
       "    <tr>\n",
       "      <th>3</th>\n",
       "      <td>3</td>\n",
       "      <td>17623</td>\n",
       "      <td>2</td>\n",
       "      <td>169</td>\n",
       "      <td>82.0</td>\n",
       "      <td>150</td>\n",
       "      <td>100</td>\n",
       "      <td>1</td>\n",
       "      <td>1</td>\n",
       "      <td>0</td>\n",
       "      <td>0</td>\n",
       "      <td>1</td>\n",
       "      <td>1</td>\n",
       "    </tr>\n",
       "    <tr>\n",
       "      <th>4</th>\n",
       "      <td>4</td>\n",
       "      <td>17474</td>\n",
       "      <td>1</td>\n",
       "      <td>156</td>\n",
       "      <td>56.0</td>\n",
       "      <td>100</td>\n",
       "      <td>60</td>\n",
       "      <td>1</td>\n",
       "      <td>1</td>\n",
       "      <td>0</td>\n",
       "      <td>0</td>\n",
       "      <td>0</td>\n",
       "      <td>0</td>\n",
       "    </tr>\n",
       "  </tbody>\n",
       "</table>\n",
       "</div>"
      ],
      "text/plain": [
       "   id    age  gender  height  weight  ap_hi  ap_lo  cholesterol  gluc  smoke  \\\n",
       "0   0  18393       2     168    62.0    110     80            1     1      0   \n",
       "1   1  20228       1     156    85.0    140     90            3     1      0   \n",
       "2   2  18857       1     165    64.0    130     70            3     1      0   \n",
       "3   3  17623       2     169    82.0    150    100            1     1      0   \n",
       "4   4  17474       1     156    56.0    100     60            1     1      0   \n",
       "\n",
       "   alco  active  cardio  \n",
       "0     0       1       0  \n",
       "1     0       1       1  \n",
       "2     0       0       1  \n",
       "3     0       1       1  \n",
       "4     0       0       0  "
      ]
     },
     "execution_count": 144,
     "metadata": {},
     "output_type": "execute_result"
    }
   ],
   "source": [
    "#Import data all necessary libraries we will be using in our estimation\n",
    "\n",
    "import pandas as pd\n",
    "import numpy as np\n",
    "import matplotlib\n",
    "import matplotlib.pyplot as plt\n",
    "import seaborn as sns\n",
    "import math\n",
    "import re\n",
    "import sklearn\n",
    "import statistics\n",
    "import random\n",
    "\n",
    "from sklearn.feature_selection import SelectKBest, chi2, SelectPercentile, RFE, SelectFromModel\n",
    "\n",
    "from sklearn.preprocessing import StandardScaler, Binarizer\n",
    "\n",
    "from sklearn.linear_model import LogisticRegression, SGDClassifier\n",
    "from sklearn.svm import SVC, LinearSVC\n",
    "\n",
    "from sklearn.metrics import accuracy_score, confusion_matrix, roc_auc_score, auc, roc_curve\n",
    "from IPython.display import display, HTML\n",
    "\n",
    "from sklearn.pipeline import make_pipeline, Pipeline\n",
    "from sklearn.model_selection import train_test_split, GridSearchCV, KFold, TimeSeriesSplit, StratifiedShuffleSplit\n",
    "\n",
    "from sklearn.naive_bayes import MultinomialNB\n",
    "\n",
    "from sklearn.ensemble import GradientBoostingClassifier,GradientBoostingRegressor,AdaBoostClassifier,RandomForestClassifier, BaggingClassifier\n",
    "from sklearn.tree import DecisionTreeClassifier\n",
    "from sklearn.linear_model import LogisticRegression\n",
    "from sklearn.neighbors import KNeighborsClassifier\n",
    "\n",
    "%matplotlib inline\n",
    "\n",
    "matplotlib.style.use('ggplot')\n",
    "\n",
    "import warnings\n",
    "warnings.filterwarnings('ignore')\n",
    "\n",
    "#Bring in data set\n",
    "df = pd.read_csv('cardio_train.csv', sep= ';') #read in the csv file\n",
    "\n",
    "# Show the dimension and the first 5 rows of the dataset\n",
    "print(df.shape)\n",
    "df.head()"
   ]
  },
  {
   "cell_type": "markdown",
   "metadata": {},
   "source": [
    "#### Our data preparation includes following steps:\n",
    "* Remove the \"id\" attribute as it is not needed in this assignment\n",
    "* Inspect each feature for NA values. If more than 75% of the feature contains NA, we replace that field with 0. If less than 75% is NA, then the median value of the column is used to replace the NA\n",
    "* Check for any categorical variables and using proper methods (like one-hot) to convert them to numerical variables\n",
    "* Remove all duplicate entries in the dataset\n",
    "* Search each feature for any outliers and remove them from dataset. We will keep the entries between 97.5% quantile and 2.5% quantile for those features which have outliers or incorrect data \n",
    "* Add new variable call Body mass index (BMI) which is commonly used in medical field"
   ]
  },
  {
   "cell_type": "code",
   "execution_count": 145,
   "metadata": {},
   "outputs": [],
   "source": [
    "# drop 'id' column \n",
    "if 'id' in df:\n",
    "    del df['id']"
   ]
  },
  {
   "cell_type": "code",
   "execution_count": 146,
   "metadata": {},
   "outputs": [
    {
     "data": {
      "text/plain": [
       "age            0\n",
       "gender         0\n",
       "height         0\n",
       "weight         0\n",
       "ap_hi          0\n",
       "ap_lo          0\n",
       "cholesterol    0\n",
       "gluc           0\n",
       "smoke          0\n",
       "alco           0\n",
       "active         0\n",
       "cardio         0\n",
       "dtype: int64"
      ]
     },
     "execution_count": 146,
     "metadata": {},
     "output_type": "execute_result"
    }
   ],
   "source": [
    "# Total missing values for each feature\n",
    "df.isnull().sum()"
   ]
  },
  {
   "cell_type": "markdown",
   "metadata": {},
   "source": [
    "We want to see the data type of each column of the CVD dataset and see if there are any categorical variables in the dataset. "
   ]
  },
  {
   "cell_type": "code",
   "execution_count": 147,
   "metadata": {},
   "outputs": [
    {
     "name": "stdout",
     "output_type": "stream",
     "text": [
      "There are no missing values or NAs in the dataset.\n"
     ]
    }
   ],
   "source": [
    "# are there any NA values in the dataset\n",
    "if df.isnull().values.any():\n",
    "    print('There are NAs or missing values in the datasets.')\n",
    "else:\n",
    "    print('There are no missing values or NAs in the dataset.')        "
   ]
  },
  {
   "cell_type": "code",
   "execution_count": 148,
   "metadata": {},
   "outputs": [
    {
     "name": "stdout",
     "output_type": "stream",
     "text": [
      "age\n",
      "gender\n",
      "height\n",
      "weight\n",
      "ap_hi\n",
      "ap_lo\n",
      "cholesterol\n",
      "gluc\n",
      "smoke\n",
      "alco\n",
      "active\n",
      "cardio\n",
      "70000\n"
     ]
    }
   ],
   "source": [
    "# Are there any non-numbers in each column?\n",
    "for column in df:\n",
    "    print(column)\n",
    "    cnt=0\n",
    "    for row in df[column]:\n",
    "        try:\n",
    "            float(row)\n",
    "        except ValueError:\n",
    "            print(\"there is a non-numeric value: \" + row)\n",
    "            pass\n",
    "        cnt+=1\n",
    "        \n",
    "print(cnt)"
   ]
  },
  {
   "cell_type": "markdown",
   "metadata": {},
   "source": [
    "All values in the dataset are numeric."
   ]
  },
  {
   "cell_type": "code",
   "execution_count": 149,
   "metadata": {},
   "outputs": [
    {
     "name": "stdout",
     "output_type": "stream",
     "text": [
      "Duplicate Rows except first occurrence based on all columns are :\n",
      "         age  gender  height  weight  ap_hi  ap_lo  cholesterol  gluc  smoke  \\\n",
      "10562  20495       1     165    70.0    120     80            1     1      0   \n",
      "21784  16793       1     165    68.0    120     80            1     1      0   \n",
      "38505  18988       1     164    65.0    120     80            1     1      0   \n",
      "40365  14552       1     158    64.0    120     80            1     1      0   \n",
      "42450  18353       1     169    67.0    120     80            1     1      0   \n",
      "44653  16937       2     170    70.0    120     80            1     1      0   \n",
      "45125  21280       1     165    65.0    120     80            1     1      0   \n",
      "45748  22077       1     175    69.0    120     80            1     1      0   \n",
      "45810  21230       1     164    62.0    120     80            1     1      0   \n",
      "48917  21945       1     165    60.0    120     80            1     1      0   \n",
      "50432  17493       2     169    74.0    120     80            1     1      0   \n",
      "52552  21943       1     165    65.0    120     80            1     1      0   \n",
      "56643  17535       2     165    65.0    120     80            1     1      0   \n",
      "56906  20293       1     162    70.0    110     70            1     1      0   \n",
      "57946  18955       1     165    75.0    120     80            1     1      0   \n",
      "58730  19858       1     165    68.0    120     80            1     1      0   \n",
      "60453  20516       1     164    66.0    120     80            1     1      0   \n",
      "60474  16805       1     157    67.0    120     80            1     1      0   \n",
      "62318  18979       1     165    65.0    120     80            1     1      0   \n",
      "64169  16160       1     168    65.0    120     80            1     1      0   \n",
      "65079  18210       1     160    60.0    120     80            1     1      0   \n",
      "65622  21778       1     160    58.0    120     80            1     1      0   \n",
      "66190  19059       1     165    65.0    120     80            1     1      0   \n",
      "68281  21119       1     160    60.0    120     80            1     1      0   \n",
      "\n",
      "       alco  active  cardio  \n",
      "10562     0       1       0  \n",
      "21784     0       1       0  \n",
      "38505     0       1       0  \n",
      "40365     0       1       0  \n",
      "42450     0       1       0  \n",
      "44653     0       0       0  \n",
      "45125     0       1       0  \n",
      "45748     0       1       1  \n",
      "45810     0       1       0  \n",
      "48917     0       1       0  \n",
      "50432     0       1       1  \n",
      "52552     0       1       1  \n",
      "56643     0       1       0  \n",
      "56906     0       1       0  \n",
      "57946     0       1       1  \n",
      "58730     0       1       0  \n",
      "60453     0       0       0  \n",
      "60474     0       1       0  \n",
      "62318     0       0       0  \n",
      "64169     0       1       1  \n",
      "65079     0       1       0  \n",
      "65622     0       1       0  \n",
      "66190     0       1       1  \n",
      "68281     0       0       1  \n",
      "\n",
      "There are 24 duplicated entries in the dataset!\n"
     ]
    }
   ],
   "source": [
    "#Are there any duplicate entries in the dataset?\n",
    "duplicateRowsDF = df[df.duplicated(keep='first')]\n",
    "\n",
    "print(\"Duplicate Rows except first occurrence based on all columns are :\")\n",
    "print(duplicateRowsDF)\n",
    "\n",
    "print(f\"\\nThere are {len(duplicateRowsDF)} duplicated entries in the dataset!\")\n"
   ]
  },
  {
   "cell_type": "markdown",
   "metadata": {},
   "source": [
    "For duplicated entries, we think they were just from mistakes by entering more than once. These 24 entries should be removed."
   ]
  },
  {
   "cell_type": "code",
   "execution_count": 150,
   "metadata": {},
   "outputs": [
    {
     "data": {
      "text/plain": [
       "(69976, 12)"
      ]
     },
     "execution_count": 150,
     "metadata": {},
     "output_type": "execute_result"
    }
   ],
   "source": [
    "#remove duplicates in the dataframe\n",
    "df.drop_duplicates(keep = 'first', inplace = True) \n",
    "df.shape"
   ]
  },
  {
   "cell_type": "code",
   "execution_count": 151,
   "metadata": {},
   "outputs": [
    {
     "data": {
      "text/html": [
       "<div>\n",
       "<style scoped>\n",
       "    .dataframe tbody tr th:only-of-type {\n",
       "        vertical-align: middle;\n",
       "    }\n",
       "\n",
       "    .dataframe tbody tr th {\n",
       "        vertical-align: top;\n",
       "    }\n",
       "\n",
       "    .dataframe thead th {\n",
       "        text-align: right;\n",
       "    }\n",
       "</style>\n",
       "<table border=\"1\" class=\"dataframe\">\n",
       "  <thead>\n",
       "    <tr style=\"text-align: right;\">\n",
       "      <th></th>\n",
       "      <th>age</th>\n",
       "      <th>gender</th>\n",
       "      <th>height</th>\n",
       "      <th>weight</th>\n",
       "      <th>ap_hi</th>\n",
       "      <th>ap_lo</th>\n",
       "      <th>cholesterol</th>\n",
       "      <th>gluc</th>\n",
       "      <th>smoke</th>\n",
       "      <th>alco</th>\n",
       "      <th>active</th>\n",
       "      <th>cardio</th>\n",
       "    </tr>\n",
       "  </thead>\n",
       "  <tbody>\n",
       "    <tr>\n",
       "      <th>count</th>\n",
       "      <td>69976.000000</td>\n",
       "      <td>69976.000000</td>\n",
       "      <td>69976.000000</td>\n",
       "      <td>69976.000000</td>\n",
       "      <td>69976.000000</td>\n",
       "      <td>69976.000000</td>\n",
       "      <td>69976.000000</td>\n",
       "      <td>69976.000000</td>\n",
       "      <td>69976.000000</td>\n",
       "      <td>69976.000000</td>\n",
       "      <td>69976.000000</td>\n",
       "      <td>69976.000000</td>\n",
       "    </tr>\n",
       "    <tr>\n",
       "      <th>mean</th>\n",
       "      <td>19468.950126</td>\n",
       "      <td>1.349648</td>\n",
       "      <td>164.359152</td>\n",
       "      <td>74.208519</td>\n",
       "      <td>128.820453</td>\n",
       "      <td>96.636261</td>\n",
       "      <td>1.366997</td>\n",
       "      <td>1.226535</td>\n",
       "      <td>0.088159</td>\n",
       "      <td>0.053790</td>\n",
       "      <td>0.803718</td>\n",
       "      <td>0.499771</td>\n",
       "    </tr>\n",
       "    <tr>\n",
       "      <th>std</th>\n",
       "      <td>2467.374620</td>\n",
       "      <td>0.476862</td>\n",
       "      <td>8.211218</td>\n",
       "      <td>14.397211</td>\n",
       "      <td>154.037729</td>\n",
       "      <td>188.504581</td>\n",
       "      <td>0.680333</td>\n",
       "      <td>0.572353</td>\n",
       "      <td>0.283528</td>\n",
       "      <td>0.225604</td>\n",
       "      <td>0.397187</td>\n",
       "      <td>0.500004</td>\n",
       "    </tr>\n",
       "    <tr>\n",
       "      <th>min</th>\n",
       "      <td>10798.000000</td>\n",
       "      <td>1.000000</td>\n",
       "      <td>55.000000</td>\n",
       "      <td>10.000000</td>\n",
       "      <td>-150.000000</td>\n",
       "      <td>-70.000000</td>\n",
       "      <td>1.000000</td>\n",
       "      <td>1.000000</td>\n",
       "      <td>0.000000</td>\n",
       "      <td>0.000000</td>\n",
       "      <td>0.000000</td>\n",
       "      <td>0.000000</td>\n",
       "    </tr>\n",
       "    <tr>\n",
       "      <th>25%</th>\n",
       "      <td>17664.000000</td>\n",
       "      <td>1.000000</td>\n",
       "      <td>159.000000</td>\n",
       "      <td>65.000000</td>\n",
       "      <td>120.000000</td>\n",
       "      <td>80.000000</td>\n",
       "      <td>1.000000</td>\n",
       "      <td>1.000000</td>\n",
       "      <td>0.000000</td>\n",
       "      <td>0.000000</td>\n",
       "      <td>1.000000</td>\n",
       "      <td>0.000000</td>\n",
       "    </tr>\n",
       "    <tr>\n",
       "      <th>50%</th>\n",
       "      <td>19703.000000</td>\n",
       "      <td>1.000000</td>\n",
       "      <td>165.000000</td>\n",
       "      <td>72.000000</td>\n",
       "      <td>120.000000</td>\n",
       "      <td>80.000000</td>\n",
       "      <td>1.000000</td>\n",
       "      <td>1.000000</td>\n",
       "      <td>0.000000</td>\n",
       "      <td>0.000000</td>\n",
       "      <td>1.000000</td>\n",
       "      <td>0.000000</td>\n",
       "    </tr>\n",
       "    <tr>\n",
       "      <th>75%</th>\n",
       "      <td>21327.000000</td>\n",
       "      <td>2.000000</td>\n",
       "      <td>170.000000</td>\n",
       "      <td>82.000000</td>\n",
       "      <td>140.000000</td>\n",
       "      <td>90.000000</td>\n",
       "      <td>2.000000</td>\n",
       "      <td>1.000000</td>\n",
       "      <td>0.000000</td>\n",
       "      <td>0.000000</td>\n",
       "      <td>1.000000</td>\n",
       "      <td>1.000000</td>\n",
       "    </tr>\n",
       "    <tr>\n",
       "      <th>max</th>\n",
       "      <td>23713.000000</td>\n",
       "      <td>2.000000</td>\n",
       "      <td>250.000000</td>\n",
       "      <td>200.000000</td>\n",
       "      <td>16020.000000</td>\n",
       "      <td>11000.000000</td>\n",
       "      <td>3.000000</td>\n",
       "      <td>3.000000</td>\n",
       "      <td>1.000000</td>\n",
       "      <td>1.000000</td>\n",
       "      <td>1.000000</td>\n",
       "      <td>1.000000</td>\n",
       "    </tr>\n",
       "  </tbody>\n",
       "</table>\n",
       "</div>"
      ],
      "text/plain": [
       "                age        gender        height        weight         ap_hi  \\\n",
       "count  69976.000000  69976.000000  69976.000000  69976.000000  69976.000000   \n",
       "mean   19468.950126      1.349648    164.359152     74.208519    128.820453   \n",
       "std     2467.374620      0.476862      8.211218     14.397211    154.037729   \n",
       "min    10798.000000      1.000000     55.000000     10.000000   -150.000000   \n",
       "25%    17664.000000      1.000000    159.000000     65.000000    120.000000   \n",
       "50%    19703.000000      1.000000    165.000000     72.000000    120.000000   \n",
       "75%    21327.000000      2.000000    170.000000     82.000000    140.000000   \n",
       "max    23713.000000      2.000000    250.000000    200.000000  16020.000000   \n",
       "\n",
       "              ap_lo   cholesterol          gluc         smoke          alco  \\\n",
       "count  69976.000000  69976.000000  69976.000000  69976.000000  69976.000000   \n",
       "mean      96.636261      1.366997      1.226535      0.088159      0.053790   \n",
       "std      188.504581      0.680333      0.572353      0.283528      0.225604   \n",
       "min      -70.000000      1.000000      1.000000      0.000000      0.000000   \n",
       "25%       80.000000      1.000000      1.000000      0.000000      0.000000   \n",
       "50%       80.000000      1.000000      1.000000      0.000000      0.000000   \n",
       "75%       90.000000      2.000000      1.000000      0.000000      0.000000   \n",
       "max    11000.000000      3.000000      3.000000      1.000000      1.000000   \n",
       "\n",
       "             active        cardio  \n",
       "count  69976.000000  69976.000000  \n",
       "mean       0.803718      0.499771  \n",
       "std        0.397187      0.500004  \n",
       "min        0.000000      0.000000  \n",
       "25%        1.000000      0.000000  \n",
       "50%        1.000000      0.000000  \n",
       "75%        1.000000      1.000000  \n",
       "max        1.000000      1.000000  "
      ]
     },
     "execution_count": 151,
     "metadata": {},
     "output_type": "execute_result"
    },
    {
     "data": {
      "image/png": "[encoded data removed]",
      "text/plain": [
       "<Figure size 1080x1080 with 1 Axes>"
      ]
     },
     "metadata": {},
     "output_type": "display_data"
    }
   ],
   "source": [
    "#are there any outliers in the dataset?\n",
    "\n",
    "#boxplot of all the variables\n",
    "plt.figure(figsize=(15, 15))\n",
    "ax = df.boxplot()\n",
    "ax.set_yscale('log')\n",
    "\n",
    "df.describe()"
   ]
  },
  {
   "cell_type": "markdown",
   "metadata": {},
   "source": [
    "From the simple statistical information and the boxplots above, we can easily see that there are some incorrect data points there. For example, the blood pressure has negative readings and the maximum readings for both Systolic blood pressure (ap_hi) and Diastolic blood pressure (ap_lo) are over 10,000, which are obviously mistakes. "
   ]
  },
  {
   "cell_type": "code",
   "execution_count": 152,
   "metadata": {},
   "outputs": [
    {
     "data": {
      "text/plain": [
       "(66169, 12)"
      ]
     },
     "execution_count": 152,
     "metadata": {},
     "output_type": "execute_result"
    }
   ],
   "source": [
    "#to only keep the entries between 97.5% quantile and 2.5% quantile for ap_hi and ap_lo\n",
    "df.drop(df[(df['ap_hi'] > df['ap_hi'].quantile(0.975)) | (df['ap_hi'] < df['ap_hi'].quantile(0.025))].index,inplace=True)\n",
    "df.drop(df[(df['ap_lo'] > df['ap_lo'].quantile(0.975)) | (df['ap_lo'] < df['ap_lo'].quantile(0.025))].index,inplace=True)\n",
    "df.shape"
   ]
  },
  {
   "cell_type": "markdown",
   "metadata": {},
   "source": [
    "We also notice that there are some abnormal values in column \"weight\" and \"height\". The minimum weight is 10 kg and maximum 200 kg. and the minimum height is 55 cm and maximum is 250 cm. Obviously these values are outliers as they don't represent the values for normal people. So, we decided to remove these by only keeping the values from 2.5 to 97.5 percentile range. "
   ]
  },
  {
   "cell_type": "code",
   "execution_count": 153,
   "metadata": {},
   "outputs": [],
   "source": [
    "df.drop(df[(df['weight'] > df['weight'].quantile(0.975)) | (df['weight'] < df['weight'].quantile(0.025))].index,inplace=True)\n",
    "df.drop(df[(df['height'] > df['height'].quantile(0.975)) | (df['height'] < df['height'].quantile(0.025))].index,inplace=True)"
   ]
  },
  {
   "cell_type": "markdown",
   "metadata": {},
   "source": [
    "From above statistics table we realized that age measured in days, for better description we decided to convert age variable to be in years."
   ]
  },
  {
   "cell_type": "code",
   "execution_count": 154,
   "metadata": {},
   "outputs": [],
   "source": [
    "df['years'] = (df['age'] / 365).round().astype('int')\n",
    "if 'age' in df:\n",
    "    del df['age']"
   ]
  },
  {
   "cell_type": "code",
   "execution_count": 155,
   "metadata": {},
   "outputs": [
    {
     "data": {
      "text/html": [
       "<div>\n",
       "<style scoped>\n",
       "    .dataframe tbody tr th:only-of-type {\n",
       "        vertical-align: middle;\n",
       "    }\n",
       "\n",
       "    .dataframe tbody tr th {\n",
       "        vertical-align: top;\n",
       "    }\n",
       "\n",
       "    .dataframe thead th {\n",
       "        text-align: right;\n",
       "    }\n",
       "</style>\n",
       "<table border=\"1\" class=\"dataframe\">\n",
       "  <thead>\n",
       "    <tr style=\"text-align: right;\">\n",
       "      <th></th>\n",
       "      <th>gender</th>\n",
       "      <th>height</th>\n",
       "      <th>weight</th>\n",
       "      <th>ap_hi</th>\n",
       "      <th>ap_lo</th>\n",
       "      <th>cholesterol</th>\n",
       "      <th>gluc</th>\n",
       "      <th>smoke</th>\n",
       "      <th>alco</th>\n",
       "      <th>active</th>\n",
       "      <th>cardio</th>\n",
       "      <th>years</th>\n",
       "    </tr>\n",
       "  </thead>\n",
       "  <tbody>\n",
       "    <tr>\n",
       "      <th>0</th>\n",
       "      <td>2</td>\n",
       "      <td>168</td>\n",
       "      <td>62.0</td>\n",
       "      <td>110</td>\n",
       "      <td>80</td>\n",
       "      <td>1</td>\n",
       "      <td>1</td>\n",
       "      <td>0</td>\n",
       "      <td>0</td>\n",
       "      <td>1</td>\n",
       "      <td>0</td>\n",
       "      <td>50</td>\n",
       "    </tr>\n",
       "    <tr>\n",
       "      <th>1</th>\n",
       "      <td>1</td>\n",
       "      <td>156</td>\n",
       "      <td>85.0</td>\n",
       "      <td>140</td>\n",
       "      <td>90</td>\n",
       "      <td>3</td>\n",
       "      <td>1</td>\n",
       "      <td>0</td>\n",
       "      <td>0</td>\n",
       "      <td>1</td>\n",
       "      <td>1</td>\n",
       "      <td>55</td>\n",
       "    </tr>\n",
       "    <tr>\n",
       "      <th>2</th>\n",
       "      <td>1</td>\n",
       "      <td>165</td>\n",
       "      <td>64.0</td>\n",
       "      <td>130</td>\n",
       "      <td>70</td>\n",
       "      <td>3</td>\n",
       "      <td>1</td>\n",
       "      <td>0</td>\n",
       "      <td>0</td>\n",
       "      <td>0</td>\n",
       "      <td>1</td>\n",
       "      <td>52</td>\n",
       "    </tr>\n",
       "    <tr>\n",
       "      <th>3</th>\n",
       "      <td>2</td>\n",
       "      <td>169</td>\n",
       "      <td>82.0</td>\n",
       "      <td>150</td>\n",
       "      <td>100</td>\n",
       "      <td>1</td>\n",
       "      <td>1</td>\n",
       "      <td>0</td>\n",
       "      <td>0</td>\n",
       "      <td>1</td>\n",
       "      <td>1</td>\n",
       "      <td>48</td>\n",
       "    </tr>\n",
       "    <tr>\n",
       "      <th>4</th>\n",
       "      <td>1</td>\n",
       "      <td>156</td>\n",
       "      <td>56.0</td>\n",
       "      <td>100</td>\n",
       "      <td>60</td>\n",
       "      <td>1</td>\n",
       "      <td>1</td>\n",
       "      <td>0</td>\n",
       "      <td>0</td>\n",
       "      <td>0</td>\n",
       "      <td>0</td>\n",
       "      <td>48</td>\n",
       "    </tr>\n",
       "  </tbody>\n",
       "</table>\n",
       "</div>"
      ],
      "text/plain": [
       "   gender  height  weight  ap_hi  ap_lo  cholesterol  gluc  smoke  alco  \\\n",
       "0       2     168    62.0    110     80            1     1      0     0   \n",
       "1       1     156    85.0    140     90            3     1      0     0   \n",
       "2       1     165    64.0    130     70            3     1      0     0   \n",
       "3       2     169    82.0    150    100            1     1      0     0   \n",
       "4       1     156    56.0    100     60            1     1      0     0   \n",
       "\n",
       "   active  cardio  years  \n",
       "0       1       0     50  \n",
       "1       1       1     55  \n",
       "2       0       1     52  \n",
       "3       1       1     48  \n",
       "4       0       0     48  "
      ]
     },
     "execution_count": 155,
     "metadata": {},
     "output_type": "execute_result"
    }
   ],
   "source": [
    "df.head()"
   ]
  },
  {
   "cell_type": "markdown",
   "metadata": {},
   "source": [
    "Body mass index (BMI) is commonly used in medical field. It is a key index for relating weight to height. BMI is a person's weight in kilograms (kg) divided by his or her height in meters squared."
   ]
  },
  {
   "cell_type": "code",
   "execution_count": 156,
   "metadata": {},
   "outputs": [],
   "source": [
    "#define BMI\n",
    "df['BMI'] = df['weight']/((df['height']/100)**2)\n",
    "# converting BMI range to categorical as 1 = underweight,2 = normal, 3 = overweight and 4 = obese\n",
    "df['BMI'] = df['BMI'].apply(lambda x: 1 if x<18.5 else(2 if x>=18.5 and x<25 else( 3 if x >= 25 and x < 30 else 4)))"
   ]
  },
  {
   "cell_type": "markdown",
   "metadata": {},
   "source": [
    "in CDV dataset gender shown as 1 for female and 2 for men. Since this is a binary feature showing these 2 categories as 1 and 2 does not make sense, so we are change the gender levels to be 0 for female and 1 for male."
   ]
  },
  {
   "cell_type": "code",
   "execution_count": 157,
   "metadata": {},
   "outputs": [],
   "source": [
    "#change gender levels: 1 to 0 (female) and 2 to 1 (male)\n",
    "df['gender'] = df['gender'].apply(lambda x:0 if x == 1 else(1))"
   ]
  },
  {
   "cell_type": "markdown",
   "metadata": {},
   "source": [
    "<a href=\"#top\">Back to Top</a>\n",
    "### Data Preparation Part 2<a id=\"Data_Preparation_Part_2\"></a>\n",
    "* Describe the final dataset that is used for classification/regression (include a description of any newly formed variables you created)."
   ]
  },
  {
   "cell_type": "markdown",
   "metadata": {},
   "source": [
    "Our final dataset includes 13 features and 60728 entries. "
   ]
  },
  {
   "cell_type": "code",
   "execution_count": 158,
   "metadata": {},
   "outputs": [
    {
     "name": "stdout",
     "output_type": "stream",
     "text": [
      "<class 'pandas.core.frame.DataFrame'>\n",
      "Int64Index: 60728 entries, 0 to 69999\n",
      "Data columns (total 13 columns):\n",
      "gender         60728 non-null int64\n",
      "height         60728 non-null int64\n",
      "weight         60728 non-null float64\n",
      "ap_hi          60728 non-null int64\n",
      "ap_lo          60728 non-null int64\n",
      "cholesterol    60728 non-null int64\n",
      "gluc           60728 non-null int64\n",
      "smoke          60728 non-null int64\n",
      "alco           60728 non-null int64\n",
      "active         60728 non-null int64\n",
      "cardio         60728 non-null int64\n",
      "years          60728 non-null int32\n",
      "BMI            60728 non-null int64\n",
      "dtypes: float64(1), int32(1), int64(11)\n",
      "memory usage: 6.3 MB\n"
     ]
    }
   ],
   "source": [
    "df.info()"
   ]
  },
  {
   "cell_type": "markdown",
   "metadata": {},
   "source": [
    "|Feature   |Variable Type   |Variable   |Value Type   |\n",
    "|:---------|:--------------|:---------------|:------------|\n",
    "| Years | Objective Feature | years | int (years) |\n",
    "| Height | Objective Feature | height | int (cm) |\n",
    "| Weight | Objective Feature | weight | float (kg) |\n",
    "| Gender | Objective Feature | gender | binary |\n",
    "| Systolic blood pressure | Examination Feature | ap_hi | int |\n",
    "| Diastolic blood pressure | Examination Feature | ap_lo | int |\n",
    "| Cholesterol | Examination Feature | cholesterol | 1: normal, 2: above normal, 3: well above normal |\n",
    "| Glucose | Examination Feature | gluc | 1: normal, 2: above normal, 3: well above normal |\n",
    "| Smoking | Subjective Feature | smoke | binary |\n",
    "| Alcohol intake | Subjective Feature | alco | binary |\n",
    "| Physical activity | Subjective Feature | active | binary |\n",
    "| Body Mass Index | Examination Feature | bmi | int |\n",
    "| Presence or absence of cardiovascular disease | Target Variable | cardio | binary |\n"
   ]
  },
  {
   "cell_type": "markdown",
   "metadata": {},
   "source": [
    "<a href=\"#top\">Back to Top</a>\n",
    "### Modeling and Evaluation 1<a id=\"Modeling_and_Evaluation_1\"></a>"
   ]
  },
  {
   "cell_type": "markdown",
   "metadata": {},
   "source": [
    "The purpose of this LAB was to determine which medical aspects had the most bearing on whether a patient would had CVD or not and also to classified cholesterol level each patient into normal and high cholesterol level.\n",
    "\n",
    "A receiver operating characteristic curve, ROC curve, is a graphical plot that illustrates the diagnostic ability of a binary classifier system as its discrimination threshold is varied which is created by plotting the true positive rate (TPR) against the false positive rate (FPR) at various threshold settings.\n",
    "A ROC curve can be used to select a threshold for a classifier which maximizes the true positives, while minimizing the false positives.\n",
    "\n",
    "The AUC represents a model’s ability to discriminate between positive and negative classes. An area of 1.0 represents a model that made all predictions perfectly. An area of 0.5 represents a model as good as random. Most classifiers have AUCs that fall somewhere between these two values. Therefore, the overall model performances can be compared by considering the AUC.\n",
    "\n",
    "In addition to ROC-AUC metric, we use the other classification metrics in our models too. \n",
    "\n",
    "1- Accuracy: Is the proportion of the total number of predictions that were correct over all kinds predictions made. Accuracy is a good measure when the target variable classes in the data are nearly balanced.\n",
    "\n",
    "Accuracy = (TP + TN)/(TP + FP + FN + TN)\n",
    "\n",
    "2- Precision: Which is also called Positive Predictive Value and is the proportion of positive cases that were correctly identified.\n",
    "\n",
    "Precision = (TP) / (TP + FP)\n",
    "\n",
    "3- Recall or Sensitivity: Is the proportion of actual positive cases which are correctly identified.\n",
    "\n",
    "Recall = (TP) / (TP + FN)\n",
    "\n",
    "Recall gives us information about a model performance with respect to false negatives (how many did we miss), while precision gives us information about its performance with respect to false positives (how many did we caught).\n",
    "\n",
    "So basically, if we want to focus more on minimizing False Negatives, we would want our Recall to be as close to 100% as possible without precision being too bad and if we want to minimize False positives, then our focus should be to make Precision as close to 100% as possible.\n"
   ]
  },
  {
   "cell_type": "markdown",
   "metadata": {},
   "source": [
    "<a href=\"#top\">Back to Top</a>\n",
    "### Modeling and Evaluation 2<a id=\"Modeling_and_Evaluation_2\"></a>"
   ]
  },
  {
   "cell_type": "markdown",
   "metadata": {},
   "source": [
    "Before carrying out the modeling, we have to decide which method we are going to choose for the cross validation. "
   ]
  },
  {
   "cell_type": "code",
   "execution_count": 159,
   "metadata": {},
   "outputs": [
    {
     "data": {
      "text/plain": [
       "0    50.801937\n",
       "1    49.198063\n",
       "Name: cardio, dtype: float64"
      ]
     },
     "execution_count": 159,
     "metadata": {},
     "output_type": "execute_result"
    }
   ],
   "source": [
    "#cardio percentage split\n",
    "(df['cardio'].value_counts()/len(df))*100"
   ]
  },
  {
   "cell_type": "code",
   "execution_count": 161,
   "metadata": {},
   "outputs": [
    {
     "data": {
      "text/plain": [
       "1    75.754183\n",
       "2    13.091161\n",
       "3    11.154657\n",
       "Name: cholesterol, dtype: float64"
      ]
     },
     "execution_count": 161,
     "metadata": {},
     "output_type": "execute_result"
    }
   ],
   "source": [
    "#cholesterol percentage split\n",
    "(df['cholesterol'].value_counts()/len(df))*100"
   ]
  },
  {
   "cell_type": "markdown",
   "metadata": {},
   "source": [
    "For this project, CVD dataset will be split into training and test sets as 80/20. For data training, a standard 10-fold cross validation technique are used, in this technique dataset will split into 10 equal sections, train on nine of the sections and score against the last section. This method will cycle through 10 times so that the each of the 10 sections is used as a holdout sample. We chose to shuffle the data during the cross validation to provide a higher confidence there was no grouping of schools that we did not notice.\n",
    "\n",
    "There is another option available called the Stratified k-fold technique which works to balance the ratio of labels used in each fold. Our dependent variable (cardio) has approximately a 49-51% split (see above), and with a large enough data set we can have a high level of confidence of a random split in the data without using Stratified techniques. In other hand for Cholesterol there is imbalanced distribution between classes (see above). The major class is patients with normal cholesterol level(75.7%) followed by above normal (13%) and well above normal (11%). Since the important thing is that to know if patient has normal cholesterol level or not we decided to combine both above normal classes (2 and 3) and use Modified synthetic minority oversampling technique (MSMOTE) which takes a subset of data from the minority class as an example and then new synthetic similar instances are created. These synthetic instances are then added to the original dataset. The new dataset is used as a sample to train the classification models.\n",
    "\n",
    "We chose a K fold (10 folds) validation algorithm, however a Shuffle Split may have performed just as well with this size data set. Where Shuffle Split is capable of creating n folds and fitting the data using n-1 to train and 1 to test against, there is a chance the same data will appear in the test set each time the data is sampled. We chose K fold to insure each value is used in the training set.\n",
    "\n",
    "With the 10-fold cross validation we will be using a grid search technique, which will test a number of different parameters to determine the best final model. Different classification algorithms will have different parameters that can be set, so these will be tested with the grid search method.\n",
    "\n",
    "Since CVD dataset does not have so many features (only 12) dimensionality reduction techniques are not used."
   ]
  },
  {
   "cell_type": "markdown",
   "metadata": {},
   "source": [
    "Our basic pipeline includes observation scaling and model classification steps. Observation scaling is a common step for all models. For this step the 'standardscaler' is used, which will scale our variables. This improves our prediction outcomes and makes later feature interpretation significantly easier, since all coefficients will be on the same scale.\n",
    "\n",
    "The same random seed of 101 is used for all models that take a random state seed to eliminate the variability of getting different results between running our models so that we are able to hold which model is going to be the best model, for later interpretation."
   ]
  },
  {
   "cell_type": "markdown",
   "metadata": {},
   "source": [
    "<a href=\"#top\">Back to Top</a>\n",
    "## Task 1<a id=\"Task_1\"></a>\n",
    "\n",
    "### 1.1 Modeling and Evaluation 3<a id=\"1.1_Modeling_and_Evaluation_3\"></a>"
   ]
  },
  {
   "cell_type": "markdown",
   "metadata": {},
   "source": [
    "For cardio prediction we tried 4 different algorithms to create a model which has superior prediction capabilities based on the ROC/AUC scoring parameter:\n",
    "\n",
    "* Decision Tree\n",
    "* K-Nearest Neighbor\n",
    "* Random Forest Classification\n",
    "\n",
    "The accurcy, Precision and Recall will be calculated for each model."
   ]
  },
  {
   "cell_type": "code",
   "execution_count": 162,
   "metadata": {},
   "outputs": [
    {
     "data": {
      "text/plain": [
       "(60728,)"
      ]
     },
     "execution_count": 162,
     "metadata": {},
     "output_type": "execute_result"
    }
   ],
   "source": [
    "#separating data into two parts X (features) and Y (target) as matrix\n",
    "features = [\"gender\", \"height\", \"weight\", \"ap_hi\", \"ap_lo\", \"cholesterol\", \"gluc\", \"smoke\", \"alco\", \"active\", \"years\", \"BMI\"]\n",
    "# Separating out the features\n",
    "X = df.loc[:, features].values\n",
    "\n",
    "#Separating out the target\n",
    "y = df.loc[:, ['cardio']].values.ravel()\n",
    "y.shape"
   ]
  },
  {
   "cell_type": "code",
   "execution_count": 163,
   "metadata": {},
   "outputs": [
    {
     "data": {
      "text/plain": [
       "(60728, 1)"
      ]
     },
     "execution_count": 163,
     "metadata": {},
     "output_type": "execute_result"
    }
   ],
   "source": [
    "#divide data into two parts X1(features) and y1(target) as data frames\n",
    "df_1 = df.copy()\n",
    "X1 = df_1[features].copy()\n",
    "\n",
    "y1= df_1[['cardio']].copy()\n",
    "y1.shape"
   ]
  },
  {
   "cell_type": "code",
   "execution_count": 20,
   "metadata": {},
   "outputs": [],
   "source": [
    "#the pipeline template where we will test for scaling, and classification.\n",
    "#k_fold = KFold(n_splits=10,shuffle=True)\n",
    "#pipe = Pipeline([ ('scale', StandardScaler()), \n",
    "#                  ('clf', GradientBoostingClassifier())])"
   ]
  },
  {
   "cell_type": "markdown",
   "metadata": {},
   "source": [
    "To perform a cross validation using the best parameters for the model which it is passed we use below code that borrowed form  Dr. Jake Drew's 2017HighlySegregatedHighSchoolCampuses Jupyter Notebook provided to the class."
   ]
  },
  {
   "cell_type": "code",
   "execution_count": 164,
   "metadata": {},
   "outputs": [],
   "source": [
    "#Classifier Evaluation\n",
    "from sklearn.model_selection import cross_validate\n",
    "\n",
    "def EvaluateClassifierEstimator(classifierEstimator, X, Y, cv):\n",
    "   \n",
    "    #Perform cross validation \n",
    "    scores = cross_validate(classifierEstimator, X, Y, scoring=['accuracy','precision','recall']\n",
    "                            , cv=cv, return_train_score=True)\n",
    "\n",
    "    Accavg = scores['test_accuracy'].mean()\n",
    "    Preavg = scores['test_precision'].mean()\n",
    "    Rreavg = scores['test_recall'].mean()\n",
    "    \n",
    "    print_str = \"The average accuracy for all cv folds is: \\t\\t\\t {Accavg:.5}\"\n",
    "    print_str2 = \"The average precision for all cv folds is: \\t\\t\\t {Preavg:.5}\"\n",
    "    print_str3 = \"The average Recall for all cv folds is: \\t\\t\\t {Rreavg:.5}\"\n",
    "\n",
    "    print(print_str.format(Accavg=Accavg))\n",
    "    print(print_str2.format(Preavg=Preavg))\n",
    "    print(print_str3.format(Rreavg=Rreavg))\n",
    "    print('*********************************************************')\n",
    "\n",
    "    print('Cross Validation Fold Mean Error Scores')\n",
    "    scoresResults = pd.DataFrame()\n",
    "    scoresResults['Accuracy'] = scores['test_accuracy']\n",
    "    scoresResults['Precision'] = scores['test_precision']\n",
    "    scoresResults['Recall'] = scores['test_recall']\n",
    "    print(scoresResults)\n",
    "    return scoresResults\n"
   ]
  },
  {
   "cell_type": "code",
   "execution_count": 165,
   "metadata": {},
   "outputs": [],
   "source": [
    "# Scaling training variables\n",
    "scl = StandardScaler()\n",
    "X_Scl = scl.fit_transform(X)\n",
    "\n",
    "# create cross validation iterator\n",
    "cv = StratifiedKFold(n_splits=10)\n",
    "\n",
    "#X_train, X_test, y_train, y_test = train_test_split(X, Y, test_size=.2)"
   ]
  },
  {
   "cell_type": "markdown",
   "metadata": {},
   "source": [
    "#### Model #1 Decision Tree Classifier"
   ]
  },
  {
   "cell_type": "code",
   "execution_count": 166,
   "metadata": {},
   "outputs": [
    {
     "name": "stdout",
     "output_type": "stream",
     "text": [
      "Fitting 10 folds for each of 5 candidates, totalling 50 fits\n"
     ]
    },
    {
     "name": "stderr",
     "output_type": "stream",
     "text": [
      "[Parallel(n_jobs=8)]: Using backend LokyBackend with 8 concurrent workers.\n",
      "[Parallel(n_jobs=8)]: Done  34 tasks      | elapsed:    7.0s\n",
      "[Parallel(n_jobs=8)]: Done  50 out of  50 | elapsed:    8.5s finished\n"
     ]
    },
    {
     "data": {
      "text/plain": [
       "GridSearchCV(cv=StratifiedKFold(n_splits=10, random_state=None, shuffle=False),\n",
       "             error_score='raise-deprecating',\n",
       "             estimator=DecisionTreeClassifier(class_weight=None,\n",
       "                                              criterion='gini', max_depth=None,\n",
       "                                              max_features=None,\n",
       "                                              max_leaf_nodes=None,\n",
       "                                              min_impurity_decrease=0.0,\n",
       "                                              min_impurity_split=None,\n",
       "                                              min_samples_leaf=1,\n",
       "                                              min_samples_split=2,\n",
       "                                              min_weight_fraction_leaf=0.0,\n",
       "                                              presort=False, random_state=None,\n",
       "                                              splitter='best'),\n",
       "             iid='warn', n_jobs=8,\n",
       "             param_grid=[{'max_depth': [5, 10, 15, 20, 30],\n",
       "                          'random_state': [101]}],\n",
       "             pre_dispatch='2*n_jobs', refit=True, return_train_score=False,\n",
       "             scoring='roc_auc', verbose=1)"
      ]
     },
     "execution_count": 166,
     "metadata": {},
     "output_type": "execute_result"
    }
   ],
   "source": [
    "#Decision Tree Classification 10-fold cross-validation\n",
    "ClsEstimator = DecisionTreeClassifier()\n",
    "\n",
    "\n",
    "param_grid = [\n",
    "    {\n",
    "         'max_depth': [5,10,15,20,30],\n",
    "         'random_state':[101] \n",
    "     }\n",
    "]\n",
    "\n",
    "DTGridSearch = GridSearchCV(estimator=ClsEstimator, param_grid=param_grid, cv=cv, n_jobs=8, verbose=1, scoring='roc_auc' )\n",
    "\n",
    "#Perform hyperparameter search to find the best combination of parameters for our data\n",
    "DTGridSearch.fit(X_Scl, y)"
   ]
  },
  {
   "cell_type": "code",
   "execution_count": 167,
   "metadata": {},
   "outputs": [
    {
     "data": {
      "text/plain": [
       "DecisionTreeClassifier(class_weight=None, criterion='gini', max_depth=5,\n",
       "                       max_features=None, max_leaf_nodes=None,\n",
       "                       min_impurity_decrease=0.0, min_impurity_split=None,\n",
       "                       min_samples_leaf=1, min_samples_split=2,\n",
       "                       min_weight_fraction_leaf=0.0, presort=False,\n",
       "                       random_state=101, splitter='best')"
      ]
     },
     "execution_count": 167,
     "metadata": {},
     "output_type": "execute_result"
    }
   ],
   "source": [
    "#Display the best estimator parameters\n",
    "DTGridSearch.best_estimator_"
   ]
  },
  {
   "cell_type": "code",
   "execution_count": 168,
   "metadata": {},
   "outputs": [
    {
     "name": "stdout",
     "output_type": "stream",
     "text": [
      "The average accuracy for all cv folds is: \t\t\t 0.72444\n",
      "The average precision for all cv folds is: \t\t\t 0.76704\n",
      "The average Recall for all cv folds is: \t\t\t 0.63333\n",
      "*********************************************************\n",
      "Cross Validation Fold Mean Error Scores\n",
      "   Accuracy  Precision    Recall\n",
      "0  0.724564   0.750858  0.658635\n",
      "1  0.725342   0.750000  0.662651\n",
      "2  0.727812   0.782480  0.618809\n",
      "3  0.732093   0.791935  0.617805\n",
      "4  0.716944   0.773374  0.600736\n",
      "5  0.722872   0.744108  0.665663\n",
      "6  0.722872   0.777070  0.612450\n",
      "7  0.726449   0.780220  0.618011\n",
      "8  0.726120   0.779325  0.618346\n",
      "9  0.719368   0.741075  0.660194\n",
      "Wall time: 1.63 s\n"
     ]
    }
   ],
   "source": [
    "%%time\n",
    "#Use the best parameters for our DT object\n",
    "classifierEst = DTGridSearch.best_estimator_\n",
    "\n",
    "#Evaluate the regression estimator above using our pre-defined cross validation and scoring metrics. \n",
    "DT_scores = EvaluateClassifierEstimator(classifierEst, X_Scl, y, cv)"
   ]
  },
  {
   "cell_type": "markdown",
   "metadata": {},
   "source": [
    "#### Model #2 KNN Classification Parameter Optimization with GridSearch\n",
    "\n",
    "K-Nearest Neighbor (KNN) classification is valid option for this dataset since the dataset has been preprocessed and it has no missing values.  Parameter selections are critical to the performance of KNN classifiers; therefore, substantial time and effort was put forth to fully investigate the optimal parameters. \n",
    "\n",
    "##### Parameter Analysis:\n",
    "\n",
    "*Algorithms:*  Algorithm used to compute the nearest neighbors can be ‘auto’matically determine the most appropriate algorithm to use for the given dataset/parameters, so it was left as default in our GridSearch\n",
    "\n",
    "##### GridSearch Parameters:\n",
    "\n",
    "*n_neighbors:* Number of neighbors to use in the analysis. Preliminary analyses were conducted to find a desired range of for number of neighbors. From these analyses, it was determined that the optimal number of neighbors is below 15. Above 15, the accuracy plateaus and start to decrease.\n",
    "\n",
    "*Leaf_size:* The leaf size was adjusted, using: 10, 30, and 100 as the parameters. While there is an over-head penalty with using smaller leaves, accuracy may increase, so we will use it in our Grid Search.\n",
    "\n",
    "*Metric:* How distance is measured between datapoints can be adjusted. The 2 options chosen were ‘minkowski’ and ‘euclidean’.\n",
    "\n",
    "*Weights:* Both uniform and distance were looked at. ‘Uniform’ weight-all neighboring points get equal weight. ‘Distance’ weights points by the inverse of their distance.\n",
    "\n",
    "*Predictor Variables:*  \n",
    "Many of the predictor variable have different scaling, so to ensure all variables were treated equally in the analysis, all predictor variables are scaled to have a mean of 0 and Standard deviation of 1."
   ]
  },
  {
   "cell_type": "code",
   "execution_count": 169,
   "metadata": {},
   "outputs": [
    {
     "name": "stdout",
     "output_type": "stream",
     "text": [
      "Fitting 10 folds for each of 32 candidates, totalling 320 fits\n"
     ]
    },
    {
     "name": "stderr",
     "output_type": "stream",
     "text": [
      "[Parallel(n_jobs=8)]: Using backend LokyBackend with 8 concurrent workers.\n",
      "[Parallel(n_jobs=8)]: Done  34 tasks      | elapsed:   46.9s\n",
      "[Parallel(n_jobs=8)]: Done 184 tasks      | elapsed:  4.2min\n",
      "[Parallel(n_jobs=8)]: Done 320 out of 320 | elapsed:  8.0min finished\n"
     ]
    },
    {
     "data": {
      "text/plain": [
       "GridSearchCV(cv=StratifiedKFold(n_splits=10, random_state=None, shuffle=False),\n",
       "             error_score='raise-deprecating',\n",
       "             estimator=KNeighborsClassifier(algorithm='auto', leaf_size=30,\n",
       "                                            metric='minkowski',\n",
       "                                            metric_params=None, n_jobs=None,\n",
       "                                            n_neighbors=5, p=2,\n",
       "                                            weights='uniform'),\n",
       "             iid='warn', n_jobs=8,\n",
       "             param_grid=[{'leaf_size': [10, 30],\n",
       "                          'metric': ['minkowski', 'euclidean'],\n",
       "                          'n_neighbors': [3, 5, 13, 15],\n",
       "                          'weights': ['uniform', 'distance']}],\n",
       "             pre_dispatch='2*n_jobs', refit=True, return_train_score=False,\n",
       "             scoring='roc_auc', verbose=1)"
      ]
     },
     "execution_count": 169,
     "metadata": {},
     "output_type": "execute_result"
    }
   ],
   "source": [
    "#KNN Classification 10-fold cross-validation\n",
    "ClsEstimator = KNeighborsClassifier()\n",
    "\n",
    "\n",
    "param_grid = [\n",
    "    {\n",
    "         'weights': ['uniform','distance'],\n",
    "         'leaf_size': [10,30],\n",
    "         'metric': ['minkowski','euclidean'],\n",
    "         'n_neighbors':[3,5,13,15],\n",
    "         \n",
    "    }\n",
    "]\n",
    "\n",
    "KNNGridSearch = GridSearchCV(estimator=ClsEstimator, param_grid=param_grid, cv=cv, n_jobs=8, verbose=1, scoring='roc_auc' )\n",
    "\n",
    "#Perform hyperparameter search to find the best combination of parameters for our data\n",
    "KNNGridSearch.fit(X_Scl, y)"
   ]
  },
  {
   "cell_type": "code",
   "execution_count": 170,
   "metadata": {},
   "outputs": [
    {
     "data": {
      "text/plain": [
       "KNeighborsClassifier(algorithm='auto', leaf_size=10, metric='minkowski',\n",
       "                     metric_params=None, n_jobs=None, n_neighbors=15, p=2,\n",
       "                     weights='uniform')"
      ]
     },
     "execution_count": 170,
     "metadata": {},
     "output_type": "execute_result"
    }
   ],
   "source": [
    "#Display the best estimator parameters\n",
    "KNNGridSearch.best_estimator_"
   ]
  },
  {
   "cell_type": "markdown",
   "metadata": {},
   "source": [
    "The GridSearch algorithm determined the following optimal parameters for K-Neighbors model.\n",
    "\n",
    "* Leaf-Size: 10  \n",
    "* Number of Neighbors: 15\n",
    "\n",
    "* Distance Matric: Minkowski  \n",
    "* Weights: Uniform"
   ]
  },
  {
   "cell_type": "code",
   "execution_count": 171,
   "metadata": {},
   "outputs": [
    {
     "name": "stdout",
     "output_type": "stream",
     "text": [
      "The average accuracy for all cv folds is: \t\t\t 0.71427\n",
      "The average precision for all cv folds is: \t\t\t 0.72597\n",
      "The average Recall for all cv folds is: \t\t\t 0.67349\n",
      "*********************************************************\n",
      "Cross Validation Fold Mean Error Scores\n",
      "   Accuracy  Precision    Recall\n",
      "0  0.708100   0.718604  0.668340\n",
      "1  0.714968   0.721693  0.684739\n",
      "2  0.717273   0.729174  0.676707\n",
      "3  0.716450   0.735491  0.661647\n",
      "4  0.706405   0.720293  0.659304\n",
      "5  0.722378   0.734679  0.682062\n",
      "6  0.712827   0.723741  0.673360\n",
      "7  0.719862   0.731461  0.680281\n",
      "8  0.710639   0.718085  0.677938\n",
      "9  0.713768   0.726514  0.670572\n",
      "Wall time: 13min 56s\n"
     ]
    }
   ],
   "source": [
    "%%time\n",
    "#Use the best parameters for our KNN object\n",
    "classifierEst = KNNGridSearch.best_estimator_\n",
    "\n",
    "#Evaluate the regression estimator above using our pre-defined cross validation and scoring metrics. \n",
    "KNN_scores = EvaluateClassifierEstimator(classifierEst, X_Scl, y, cv)"
   ]
  },
  {
   "cell_type": "markdown",
   "metadata": {},
   "source": [
    "#### Model #3 Random Forest\n",
    "\n",
    "One of the most commonly used classifier techniques is random forest, due to its very low bias and general stability when it comes to classification. One method of optimizing a random forest model is to try different parameters to increase performance. Another method of doing so is by utilizing grid search to let random forest decide which combination of hyperparameters would be best implemented in your model. We chose this route as it saves both time and sanity when comparing so many different parameters."
   ]
  },
  {
   "cell_type": "code",
   "execution_count": 37,
   "metadata": {},
   "outputs": [
    {
     "name": "stdout",
     "output_type": "stream",
     "text": [
      "Fitting 10 folds for each of 15 candidates, totalling 150 fits\n"
     ]
    },
    {
     "name": "stderr",
     "output_type": "stream",
     "text": [
      "[Parallel(n_jobs=8)]: Using backend LokyBackend with 8 concurrent workers.\n",
      "[Parallel(n_jobs=8)]: Done  34 tasks      | elapsed:  1.8min\n",
      "[Parallel(n_jobs=8)]: Done 150 out of 150 | elapsed: 13.8min finished\n"
     ]
    },
    {
     "data": {
      "text/plain": [
       "GridSearchCV(cv=StratifiedKFold(n_splits=10, random_state=None, shuffle=False),\n",
       "             error_score='raise-deprecating',\n",
       "             estimator=RandomForestClassifier(bootstrap=True, class_weight=None,\n",
       "                                              criterion='gini', max_depth=None,\n",
       "                                              max_features='auto',\n",
       "                                              max_leaf_nodes=None,\n",
       "                                              min_impurity_decrease=0.0,\n",
       "                                              min_impurity_split=None,\n",
       "                                              min_samples_leaf=1,\n",
       "                                              min_samples_split=2,\n",
       "                                              min_weight_fraction_leaf=0.0,\n",
       "                                              n_estimators='warn', n_jobs=None,\n",
       "                                              oob_score=False,\n",
       "                                              random_state=None, verbose=0,\n",
       "                                              warm_start=False),\n",
       "             iid='warn', n_jobs=8,\n",
       "             param_grid=[{'max_depth': [5, 10, 15, 20, 30],\n",
       "                          'n_estimators': [100, 200, 500],\n",
       "                          'random_state': [101]}],\n",
       "             pre_dispatch='2*n_jobs', refit=True, return_train_score=False,\n",
       "             scoring='roc_auc', verbose=1)"
      ]
     },
     "execution_count": 37,
     "metadata": {},
     "output_type": "execute_result"
    }
   ],
   "source": [
    "#Random Forest Classification 10-fold cross-validation\n",
    "from sklearn.ensemble import RandomForestClassifier\n",
    "\n",
    "ClsEstimator = RandomForestClassifier()\n",
    "\n",
    "param_grid = [\n",
    "    {\n",
    "         'n_estimators': [100, 200, 500], \n",
    "         'max_depth': [5,10,15,20,30],\n",
    "         'random_state':[101]\n",
    "     }\n",
    "]\n",
    "\n",
    "RFGridSearch = GridSearchCV(estimator=ClsEstimator, param_grid=param_grid, cv=cv, n_jobs=8, verbose=1, scoring='roc_auc' )\n",
    "\n",
    "#Perform hyperparameter search to find the best combination of parameters for our data\n",
    "RFGridSearch.fit(X_Scl, y)"
   ]
  },
  {
   "cell_type": "code",
   "execution_count": 38,
   "metadata": {},
   "outputs": [
    {
     "data": {
      "text/plain": [
       "RandomForestClassifier(bootstrap=True, class_weight=None, criterion='gini',\n",
       "                       max_depth=10, max_features='auto', max_leaf_nodes=None,\n",
       "                       min_impurity_decrease=0.0, min_impurity_split=None,\n",
       "                       min_samples_leaf=1, min_samples_split=2,\n",
       "                       min_weight_fraction_leaf=0.0, n_estimators=500,\n",
       "                       n_jobs=None, oob_score=False, random_state=101,\n",
       "                       verbose=0, warm_start=False)"
      ]
     },
     "execution_count": 38,
     "metadata": {},
     "output_type": "execute_result"
    }
   ],
   "source": [
    "#Display the best estimator parameters\n",
    "RFGridSearch.best_estimator_"
   ]
  },
  {
   "cell_type": "code",
   "execution_count": 39,
   "metadata": {},
   "outputs": [
    {
     "name": "stdout",
     "output_type": "stream",
     "text": [
      "The average accuracy for all cv folds is: \t\t\t 0.72897\n",
      "The average precision for all cv folds is: \t\t\t 0.75704\n",
      "The average Recall for all cv folds is: \t\t\t 0.66141\n",
      "*********************************************************\n",
      "Cross Validation Fold Mean Error Scores\n",
      "   Accuracy  Precision    Recall\n",
      "0  0.725716   0.753257  0.657965\n",
      "1  0.731270   0.757795  0.667001\n",
      "2  0.733246   0.763685  0.662985\n",
      "3  0.735057   0.769021  0.659639\n",
      "4  0.723201   0.749713  0.656627\n",
      "5  0.728470   0.754466  0.664324\n",
      "6  0.727976   0.756332  0.659639\n",
      "7  0.733202   0.761377  0.666555\n",
      "8  0.728755   0.754947  0.664212\n",
      "9  0.722826   0.749808  0.655172\n",
      "Wall time: 4min 29s\n"
     ]
    }
   ],
   "source": [
    "%%time\n",
    "#Use the best parameters for our random forest object\n",
    "classifierEst = RFGridSearch.best_estimator_\n",
    "\n",
    "#Evaluate the classification estimator above using our pre-defined cross validation and scoring metrics. \n",
    "Random_Forest_scores = EvaluateClassifierEstimator(classifierEst, X_Scl, y, cv)"
   ]
  },
  {
   "cell_type": "markdown",
   "metadata": {},
   "source": [
    "<a href=\"#top\">Back to Top</a>\n",
    "### 1.2 Modeling and Evaluation 4<a id=\"1.2_Modeling_and_Evaluation_4\"></a>"
   ]
  },
  {
   "cell_type": "markdown",
   "metadata": {},
   "source": [
    "To visualize the performance of different models, we plotted the ROC curves for each model.  "
   ]
  },
  {
   "cell_type": "code",
   "execution_count": 50,
   "metadata": {},
   "outputs": [],
   "source": [
    "import numpy as np\n",
    "from scipy import interp\n",
    "import matplotlib.pyplot as plt\n",
    "%matplotlib inline\n",
    "\n",
    "from sklearn.metrics import roc_curve, auc\n",
    "from sklearn.model_selection import StratifiedKFold\n",
    "cv = StratifiedKFold(n_splits=10)"
   ]
  },
  {
   "cell_type": "code",
   "execution_count": 61,
   "metadata": {},
   "outputs": [],
   "source": [
    "#define 3 functions to plot the ROC curve\n",
    "def calculate_probability(classifier, A, B, D):\n",
    "    probas_ = classifier.fit(A, B).predict_proba(D)\n",
    "    return probas_\n",
    "\n",
    "#def calculate_probability_based_on_confidence(classifier, A, B, D):\n",
    "#    probas_ = classifier.fit(A, B).decision_function(D)\n",
    "#    return probas_\n",
    "    \n",
    "def plotROCcurve(classifier, X, y, cv, calculate_probability, model):\n",
    "    # Run classifier with cross-validation and plot ROC curves\n",
    "    tprs = []\n",
    "    aucs = []\n",
    "\n",
    "    mean_fpr = np.linspace(0, 1, 100)\n",
    "    \n",
    "    i = 0\n",
    "    for train, test in cv.split(X, y):\n",
    "        probas_ = calculate_probability(classifier, X[train], y[train], X[test])\n",
    "        # Compute ROC curve and area the curve\n",
    "        fpr, tpr, thresholds = roc_curve(y[test], probas_[:, 1])\n",
    "        tprs.append(interp(mean_fpr, fpr, tpr))\n",
    "        tprs[-1][0] = 0.0\n",
    "        roc_auc = auc(fpr, tpr)\n",
    "        aucs.append(roc_auc)\n",
    "        plt.plot(fpr, tpr, lw=1, alpha=0.3,\n",
    "             label='ROC fold %d (AUC = %0.2f)' % (i, roc_auc))\n",
    "        i += 1\n",
    "        \n",
    "    plt.plot([0, 1], [0, 1], linestyle='--', lw=2, color='r',\n",
    "         label='Chance', alpha=.8)\n",
    "        \n",
    "    mean_tpr = np.mean(tprs, axis=0)\n",
    "    mean_tpr[-1] = 1.0\n",
    "    mean_auc = auc(mean_fpr, mean_tpr)\n",
    "    std_auc = np.std(aucs)\n",
    "    plt.plot(mean_fpr, mean_tpr, color='b',\n",
    "         label=r'Mean ROC (AUC = %0.2f $\\pm$ %0.2f)' % (mean_auc, std_auc),\n",
    "         lw=2, alpha=.8)\n",
    "        \n",
    "    std_tpr = np.std(tprs, axis=0)\n",
    "    tprs_upper = np.minimum(mean_tpr + std_tpr, 1)\n",
    "    tprs_lower = np.maximum(mean_tpr - std_tpr, 0)\n",
    "    plt.fill_between(mean_fpr, tprs_lower, tprs_upper, color='grey', alpha=.2,\n",
    "                 label=r'$\\pm$ 1 std. dev.')\n",
    "    \n",
    "    plt.xlim([-0.05, 1.05])\n",
    "    plt.ylim([-0.05, 1.05])\n",
    "    plt.xlabel('False Positive Rate')\n",
    "    plt.ylabel('True Positive Rate')\n",
    "    plt.title(f'Receiver operating characteristic--{model}')\n",
    "    plt.legend(loc=\"lower right\")\n",
    "    plt.show()\n",
    "    return mean_fpr, mean_tpr, mean_auc, std_auc"
   ]
  },
  {
   "cell_type": "code",
   "execution_count": 57,
   "metadata": {},
   "outputs": [
    {
     "data": {
      "image/png": "[encoded data removed]",
      "text/plain": [
       "<Figure size 432x288 with 1 Axes>"
      ]
     },
     "metadata": {
      "needs_background": "light"
     },
     "output_type": "display_data"
    }
   ],
   "source": [
    "%matplotlib inline\n",
    "#plot KNN ROC curves and AUC\n",
    "classifier = KNNGridSearch.best_estimator_\n",
    "#plotROCcurve(classifier, X_Scl, y, cv, model='KNN')\n",
    "mean_fpr_knn, mean_tpr_knn, mean_auc_knn, std_auc_knn = plotROCcurve(classifier, X_Scl, y, cv, calculate_probability, model='KNN')"
   ]
  },
  {
   "cell_type": "code",
   "execution_count": 58,
   "metadata": {},
   "outputs": [
    {
     "data": {
      "image/png": "[encoded data removed]",
      "text/plain": [
       "<Figure size 432x288 with 1 Axes>"
      ]
     },
     "metadata": {
      "needs_background": "light"
     },
     "output_type": "display_data"
    }
   ],
   "source": [
    "%matplotlib inline\n",
    "#plot random forest ROC curves and AUC\n",
    "classifier = RFGridSearch.best_estimator_\n",
    "\n",
    "mean_fpr_rf, mean_tpr_rf, mean_auc_rf, std_auc_rf = plotROCcurve(classifier, X_Scl, y, cv, calculate_probability, model='RandomForest')"
   ]
  },
  {
   "cell_type": "code",
   "execution_count": 68,
   "metadata": {},
   "outputs": [
    {
     "data": {
      "image/png": "[encoded data removed]",
      "text/plain": [
       "<Figure size 432x288 with 1 Axes>"
      ]
     },
     "metadata": {
      "needs_background": "light"
     },
     "output_type": "display_data"
    }
   ],
   "source": [
    "%matplotlib inline\n",
    "#plot Decision Tree ROC curves and AUC\n",
    "classifier = DTGridSearch.best_estimator_\n",
    "\n",
    "mean_fpr_dt, mean_tpr_dt, mean_auc_dt, std_auc_dt = plotROCcurve(classifier, X_Scl, y, cv, calculate_probability, model='DecisionTree')"
   ]
  },
  {
   "cell_type": "markdown",
   "metadata": {},
   "source": [
    "Here is the summary of the performance of 4 tested models:"
   ]
  },
  {
   "cell_type": "markdown",
   "metadata": {},
   "source": [
    "|Model   |AUC   |Accuracy(%)   |\n",
    "|:---------|:--------------|:---------------|\n",
    "| KNN | 0.77 | 71.4 |\n",
    "| Random Forest | 0.79 | 72.9 |\n",
    "| Decision Tree | 0.79 | 72.4 |"
   ]
  },
  {
   "cell_type": "markdown",
   "metadata": {},
   "source": [
    "The best model we found was Random Forest Classification, with a ROC/AUC score of ~.79 and an accuracy of 72.9%, both highest among 3 models tested. On the other hand, the computation time taken by each model was comparable between each other. This leads to the conclusion that the Random Forest Classification could be used to accurately predict the cardio disease outcome. To make this clearer, we also plotted all 3 ROC curves within one graph (see below). The shape of each ROC curve is quite similar to each other, represented by curves that bow up to the top left of the plot, suggesting all models have good skills at predicting the outcome. With Random Forest having the largest area under the curve, it means that Random Forest model is the most skillful model among 3 tested for the kind of dataset we have.  "
   ]
  },
  {
   "cell_type": "code",
   "execution_count": 70,
   "metadata": {},
   "outputs": [
    {
     "data": {
      "image/png": "[encoded data removed]",
      "text/plain": [
       "<Figure size 1152x648 with 1 Axes>"
      ]
     },
     "metadata": {
      "needs_background": "light"
     },
     "output_type": "display_data"
    }
   ],
   "source": [
    "#plot all average ROC curves in one graph\n",
    "import matplotlib.pyplot as plt\n",
    "%matplotlib inline\n",
    "\n",
    "plt.figure(figsize=(16,9))\n",
    "plt.plot([0, 1], [0, 1], linestyle='--', lw=2, color='r',\n",
    "         label='Chance', alpha=.8)\n",
    "\n",
    "plt.plot(mean_fpr_knn, mean_tpr_knn, color='tab:blue',\n",
    "         label=r'Mean KNN ROC (AUC = %0.2f $\\pm$ %0.2f)' % (mean_auc_knn, std_auc_knn),\n",
    "         lw=2, alpha=.8)\n",
    "\n",
    "plt.plot(mean_fpr_rf, mean_tpr_rf, color='tab:green',\n",
    "         label=r'Mean RF ROC (AUC = %0.2f $\\pm$ %0.2f)' % (mean_auc_rf, std_auc_rf),\n",
    "         lw=2, alpha=.8)\n",
    "\n",
    "plt.plot(mean_fpr_dt, mean_tpr_dt, color='tab:olive',\n",
    "         label=r'Mean DT ROC (AUC = %0.2f $\\pm$ %0.2f)' % (mean_auc_dt, std_auc_dt),\n",
    "         lw=2, alpha=.8)\n",
    "\n",
    "plt.xlim([-0.05, 1.05])\n",
    "plt.ylim([-0.05, 1.05])\n",
    "plt.xlabel('False Positive Rate')\n",
    "plt.ylabel('True Positive Rate')\n",
    "plt.title('Receiver operating characteristic')\n",
    "plt.legend(loc=\"lower right\")\n",
    "plt.show()"
   ]
  },
  {
   "cell_type": "markdown",
   "metadata": {},
   "source": [
    "<a href=\"#top\">Back to Top</a>\n",
    "### 1.3 Modeling and Evaluation 5<a id=\"1.3_Modeling_and_Evaluation_5\"></a>"
   ]
  },
  {
   "cell_type": "markdown",
   "metadata": {},
   "source": [
    "Models we implemented: \n",
    "\n",
    "1. **K-Nearest Neighbor**<br>\n",
    "        Advantage:\n",
    "            -Model does not need to be trained and incremental learning is done when new data is\n",
    "            fed in. \n",
    "        Disadvantage:\n",
    "            -Does not handle large number of dimensions.\n",
    "            -Weighing of attributes needs to be done. Additional work.\n",
    "            -memory intensive. \n",
    "            \n",
    "2. **Random Forest** <br>\n",
    "        Advantage: \n",
    "            -Robust to overfitting. \n",
    "            -Performs well with large number of features.\n",
    "        Disadvantage: \n",
    "            -Learning is slow and integration to improve generated models is not possible. \n",
    "            \n",
    "3. **Decision Tree** \n",
    "       Advantages:\n",
    "            -Compared to other algorithms decision trees requires less effort for data \n",
    "            preparation during pre-processing.\n",
    "            -A decision tree does not require normalization of data.\n",
    "            -A decision tree does not require scaling of data as well.\n",
    "            -Missing values in the data also does NOT affect the process of building decision \n",
    "            tree to any considerable extent.\n",
    "            -A Decision trees model is very intuitive and easy to explain to technical teams \n",
    "            as well as stakeholders.\n",
    "      Disadvantage:\n",
    "            -A small change in the data can cause a large change in the structure of the \n",
    "            decision tree causing instability.\n",
    "            -For a Decision tree sometimes calculation can go far more complex compared to \n",
    "            other algorithms.\n",
    "            -Decision tree often involves higher time to train the model.\n",
    "            -Decision tree training is relatively expensive as complexity and time taken is more.\n",
    "            -Decision Tree algorithm is inadequate for applying regression and predicting \n",
    "            continuous values.\n",
    "            \n",
    "            \n",
    "As we have discussed in the above section, the best model we found was Random Forest Classification, with highest AUC and accuracy among 3 models tested. "
   ]
  },
  {
   "cell_type": "markdown",
   "metadata": {},
   "source": [
    "### Statistical Comparison of Classifiers: "
   ]
  },
  {
   "cell_type": "code",
   "execution_count": 108,
   "metadata": {},
   "outputs": [
    {
     "name": "stdout",
     "output_type": "stream",
     "text": [
      "Wall time: 3min 5s\n"
     ]
    }
   ],
   "source": [
    "%%time\n",
    "from sklearn.model_selection import cross_val_score\n",
    "\n",
    "acc_KNN = cross_val_score(KNNGridSearch.best_estimator_, X_Scl, y, cv=cv)\n",
    "acc_RF = cross_val_score(RFGridSearch.best_estimator_, X_Scl, y, cv=cv)\n",
    "acc_DT = cross_val_score(DTGridSearch.best_estimator_, X_Scl, y, cv=cv)"
   ]
  },
  {
   "cell_type": "code",
   "execution_count": 109,
   "metadata": {},
   "outputs": [
    {
     "name": "stdout",
     "output_type": "stream",
     "text": [
      "Range of KNN_RF confidence interval:[0.010345,0.018439]\n",
      "Range of KNN_DT confidence interval:[0.005139,0.013666]\n",
      "Range of RF_DT confidence interval:[-0.006343,-0.003636]\n"
     ]
    }
   ],
   "source": [
    "t = 2.26 / np.sqrt(10)\n",
    "\n",
    "e_KNN_RF = (1-acc_KNN)-(1-acc_RF)\n",
    "e_KNN_DT = (1-acc_KNN)-(1-acc_DT)\n",
    "e_RF_DT = (1-acc_RF)-(1-acc_DT)\n",
    "\n",
    "stdtot_K_R = np.std(e_KNN_RF)\n",
    "stdtot_K_D = np.std(e_KNN_DT)\n",
    "stdtot_R_D = np.std(e_RF_DT)\n",
    "\n",
    "\n",
    "\n",
    "dbarKR = np.mean(e_KNN_RF)\n",
    "dbarKD = np.mean(e_KNN_DT)\n",
    "dbarRD = np.mean(e_RF_DT)\n",
    "\n",
    "print ('Range of KNN_RF confidence interval:[%0.6f,%0.6f]' % (dbarKR-t*stdtot_K_R,dbarKR+t*stdtot_K_R))\n",
    "print ('Range of KNN_DT confidence interval:[%0.6f,%0.6f]' % (dbarKD-t*stdtot_K_D,dbarKD+t*stdtot_K_D))\n",
    "print ('Range of RF_DT confidence interval:[%0.6f,%0.6f]' % (dbarRD-t*stdtot_R_D,dbarRD+t*stdtot_R_D))"
   ]
  },
  {
   "cell_type": "markdown",
   "metadata": {},
   "source": [
    "According to above confidence interval range for each two models comparison we found none of them contain 0 so, we are 95% confident that these 3 models are not the same."
   ]
  },
  {
   "cell_type": "markdown",
   "metadata": {},
   "source": [
    "<a href=\"#top\">Back to Top</a>\n",
    "### 1.4 Modeling and Evaluation 6<a id=\"1.4_Modeling_and_Evaluation_6\"></a>"
   ]
  },
  {
   "cell_type": "markdown",
   "metadata": {},
   "source": [
    "We have found out Random Forest classifier has the best performance on cardio in CVD dataset. Now, we proceed to find the Level of importance of each feature in this model.\n",
    "\n",
    "Whit this process we are trying to select those features that contribute most to the outcome we are trying to predict.    \n",
    "\n",
    "The benefits of feature selection include reduce overfitting, improving accuracy and minimizing computing time. \n",
    "\n",
    "* All features are scaled in the model.\n",
    "* The coefficient values indicate the level of feature influence on model performance, higher value means stronger influence and importance.\n",
    "* The influence values are sorted and top features with strongest influences are plotted."
   ]
  },
  {
   "cell_type": "code",
   "execution_count": 71,
   "metadata": {},
   "outputs": [],
   "source": [
    "#Create a classification estimator with best parameters for cross validation\n",
    "classifierEst = RFGridSearch.best_estimator_\n",
    "\n",
    "#Fit the model using all of the scaled training data\n",
    "classifierEst.fit(X_Scl,y)\n",
    "\n",
    "from sklearn.metrics import confusion_matrix"
   ]
  },
  {
   "cell_type": "code",
   "execution_count": 72,
   "metadata": {},
   "outputs": [
    {
     "name": "stdout",
     "output_type": "stream",
     "text": [
      "[0.00537068 0.02813086 0.04419266 0.44071874 0.20197101 0.09106903\n",
      " 0.01418782 0.00576254 0.00456829 0.00961302 0.13479627 0.01961907]\n",
      "['gender' 'height' 'weight' 'ap_hi' 'ap_lo' 'cholesterol' 'gluc' 'smoke'\n",
      " 'alco' 'active' 'years' 'BMI']\n"
     ]
    }
   ],
   "source": [
    "#Load the model's coefficient weights and feature names into a dataframe sorted by weights\n",
    "weights = classifierEst.feature_importances_.ravel()\n",
    "print(weights)\n",
    "feature_names = X1.columns.values\n",
    "print(feature_names)\n",
    "linreg_ft_imp_df = pd.DataFrame({'feature_names':feature_names, 'weights':weights, 'absolute_weights': np.abs(weights)})\n",
    "linreg_ft_imp_df.sort_values(by='absolute_weights', inplace=True, ascending=False )"
   ]
  },
  {
   "cell_type": "code",
   "execution_count": 73,
   "metadata": {},
   "outputs": [
    {
     "data": {
      "text/plain": [
       "Text(0.5,0,'Coefficient Magnitude\\n(z-score)')"
      ]
     },
     "execution_count": 73,
     "metadata": {},
     "output_type": "execute_result"
    },
    {
     "data": {
      "image/png": "[encoded data removed]",
      "text/plain": [
       "<Figure size 432x288 with 1 Axes>"
      ]
     },
     "metadata": {},
     "output_type": "display_data"
    }
   ],
   "source": [
    "# Examine variables of interest  \n",
    "import matplotlib.pyplot as plt\n",
    "import seaborn as sns\n",
    "%matplotlib inline\n",
    "\n",
    "plt.style.use('ggplot')\n",
    "\n",
    "ax = sns.barplot(x =linreg_ft_imp_df['weights'], y = linreg_ft_imp_df['feature_names'], orient= 'h')\n",
    "ax.set_title(\"Feature Correlations\")\n",
    "ax.set_xlabel(\"Coefficient Magnitude\\n(z-score)\")"
   ]
  },
  {
   "cell_type": "markdown",
   "metadata": {},
   "source": [
    "Based on the coefficient shown above, it appears that ap_hi is the most important feature, followed by ap_lo, years, cholesterol, weight, height and others. \n",
    "\n",
    "It is obvious that Systolic blood pressure (ap_hi) holds the most weight in our prediction, followed by Diastolic blood pressure (ap_lo). These make a lot of sense as people with high blood pressure will have a bigger burden on their hearts, which would lead to cardio diseases later on. The age of a patient was the third in the prediction of cardo. This would also make sense as the older a person is the more risky of developing cardiovascular problems. We found that the data showed a person in their mid-50’s and older was more at risk. Numerous scientific reports have suggested a positive correlation between cholecsterol level, overweight and cardio diseases. Obviously, our above data supported that. On the other hand, gender, active status and glucose situation appeared to not play significant role in terms of correlating with cardio status. This is understandable. For example, glucose situation should be more related to diabetes, not cardio-disease. Since cardio disease is not caused by genetics in general, the feature of gender should not play a significant role here.  "
   ]
  },
  {
   "cell_type": "markdown",
   "metadata": {},
   "source": [
    "#### Finding the most influential features by Recursive Feature Elimination method"
   ]
  },
  {
   "cell_type": "code",
   "execution_count": 74,
   "metadata": {},
   "outputs": [
    {
     "name": "stdout",
     "output_type": "stream",
     "text": [
      "Wall time: 23min 3s\n"
     ]
    },
    {
     "data": {
      "text/plain": [
       "RFECV(cv=StratifiedKFold(n_splits=10, random_state=None, shuffle=False),\n",
       "      estimator=RandomForestClassifier(bootstrap=True, class_weight=None,\n",
       "                                       criterion='gini', max_depth=10,\n",
       "                                       max_features='auto', max_leaf_nodes=None,\n",
       "                                       min_impurity_decrease=0.0,\n",
       "                                       min_impurity_split=None,\n",
       "                                       min_samples_leaf=1, min_samples_split=2,\n",
       "                                       min_weight_fraction_leaf=0.0,\n",
       "                                       n_estimators=500, n_jobs=None,\n",
       "                                       oob_score=False, random_state=101,\n",
       "                                       verbose=0, warm_start=False),\n",
       "      min_features_to_select=1, n_jobs=None, scoring='accuracy', step=1,\n",
       "      verbose=0)"
      ]
     },
     "execution_count": 74,
     "metadata": {},
     "output_type": "execute_result"
    }
   ],
   "source": [
    "%%time\n",
    "from sklearn.feature_selection import RFECV\n",
    "\n",
    "#Create a regression estimator with best parameters for cross validation\n",
    "classifierEst = RFGridSearch.best_estimator_\n",
    "\n",
    "rfecv = RFECV(estimator=classifierEst, step=1, cv=cv, scoring='accuracy')\n",
    "rfecv.fit(X_Scl, y)"
   ]
  },
  {
   "cell_type": "code",
   "execution_count": 75,
   "metadata": {},
   "outputs": [
    {
     "name": "stdout",
     "output_type": "stream",
     "text": [
      "Optimal number of features : 12\n"
     ]
    },
    {
     "data": {
      "image/png": "[encoded data removed]",
      "text/plain": [
       "<Figure size 432x288 with 1 Axes>"
      ]
     },
     "metadata": {
      "needs_background": "light"
     },
     "output_type": "display_data"
    }
   ],
   "source": [
    "# Examine categorical variables of interest  \n",
    "import matplotlib.pyplot as plt\n",
    "%matplotlib inline\n",
    "\n",
    "print(\"Optimal number of features : %d\" % rfecv.n_features_)\n",
    "\n",
    "# Plot number of features VS. cross-validation scores\n",
    "plt.figure()\n",
    "plt.xlabel(\"Number of features selected\")\n",
    "plt.ylabel(\"Cross validation score (nb of correct classifications)\")\n",
    "plt.plot(range(1, len(rfecv.grid_scores_) + 1), rfecv.grid_scores_)\n",
    "plt.show()"
   ]
  },
  {
   "cell_type": "code",
   "execution_count": 76,
   "metadata": {},
   "outputs": [
    {
     "name": "stdout",
     "output_type": "stream",
     "text": [
      "Eliminated features: []\n"
     ]
    }
   ],
   "source": [
    "#find which features were eliminated\n",
    "eliminated_fea =[]\n",
    "for i in range(len(rfecv.ranking_)):\n",
    "    if rfecv.support_[i] == False :\n",
    "        eliminated_fea.append(features[i])\n",
    "    \n",
    "    #i+1\n",
    "    \n",
    "print(f\"Eliminated features: {eliminated_fea}\")"
   ]
  },
  {
   "cell_type": "code",
   "execution_count": 77,
   "metadata": {},
   "outputs": [
    {
     "data": {
      "text/html": [
       "<div>\n",
       "<style scoped>\n",
       "    .dataframe tbody tr th:only-of-type {\n",
       "        vertical-align: middle;\n",
       "    }\n",
       "\n",
       "    .dataframe tbody tr th {\n",
       "        vertical-align: top;\n",
       "    }\n",
       "\n",
       "    .dataframe thead th {\n",
       "        text-align: right;\n",
       "    }\n",
       "</style>\n",
       "<table border=\"1\" class=\"dataframe\">\n",
       "  <thead>\n",
       "    <tr style=\"text-align: right;\">\n",
       "      <th></th>\n",
       "      <th>feature_names</th>\n",
       "      <th>weights</th>\n",
       "    </tr>\n",
       "  </thead>\n",
       "  <tbody>\n",
       "    <tr>\n",
       "      <th>11</th>\n",
       "      <td>BMI</td>\n",
       "      <td>0.728972</td>\n",
       "    </tr>\n",
       "    <tr>\n",
       "      <th>10</th>\n",
       "      <td>years</td>\n",
       "      <td>0.728906</td>\n",
       "    </tr>\n",
       "    <tr>\n",
       "      <th>9</th>\n",
       "      <td>active</td>\n",
       "      <td>0.728231</td>\n",
       "    </tr>\n",
       "    <tr>\n",
       "      <th>8</th>\n",
       "      <td>alco</td>\n",
       "      <td>0.727687</td>\n",
       "    </tr>\n",
       "    <tr>\n",
       "      <th>7</th>\n",
       "      <td>smoke</td>\n",
       "      <td>0.726304</td>\n",
       "    </tr>\n",
       "    <tr>\n",
       "      <th>5</th>\n",
       "      <td>cholesterol</td>\n",
       "      <td>0.725086</td>\n",
       "    </tr>\n",
       "    <tr>\n",
       "      <th>6</th>\n",
       "      <td>gluc</td>\n",
       "      <td>0.724723</td>\n",
       "    </tr>\n",
       "    <tr>\n",
       "      <th>4</th>\n",
       "      <td>ap_lo</td>\n",
       "      <td>0.724509</td>\n",
       "    </tr>\n",
       "    <tr>\n",
       "      <th>3</th>\n",
       "      <td>ap_hi</td>\n",
       "      <td>0.724394</td>\n",
       "    </tr>\n",
       "    <tr>\n",
       "      <th>2</th>\n",
       "      <td>weight</td>\n",
       "      <td>0.714991</td>\n",
       "    </tr>\n",
       "    <tr>\n",
       "      <th>0</th>\n",
       "      <td>gender</td>\n",
       "      <td>0.707235</td>\n",
       "    </tr>\n",
       "    <tr>\n",
       "      <th>1</th>\n",
       "      <td>height</td>\n",
       "      <td>0.706544</td>\n",
       "    </tr>\n",
       "  </tbody>\n",
       "</table>\n",
       "</div>"
      ],
      "text/plain": [
       "   feature_names   weights\n",
       "11           BMI  0.728972\n",
       "10         years  0.728906\n",
       "9         active  0.728231\n",
       "8           alco  0.727687\n",
       "7          smoke  0.726304\n",
       "5    cholesterol  0.725086\n",
       "6           gluc  0.724723\n",
       "4          ap_lo  0.724509\n",
       "3          ap_hi  0.724394\n",
       "2         weight  0.714991\n",
       "0         gender  0.707235\n",
       "1         height  0.706544"
      ]
     },
     "execution_count": 77,
     "metadata": {},
     "output_type": "execute_result"
    }
   ],
   "source": [
    "#Plot the RFE Rankings\n",
    "plt.style.use('ggplot')\n",
    "\n",
    "rfe_ft_imp_df = pd.DataFrame({'feature_names':X1.columns, 'weights':rfecv.grid_scores_})\n",
    "rfe_ft_imp_df.sort_values(by='weights', inplace=True, ascending=False )\n",
    "\n",
    "features_RF = rfe_ft_imp_df\n",
    "\n",
    "features_RF"
   ]
  },
  {
   "cell_type": "markdown",
   "metadata": {},
   "source": [
    "Results from the Recursive Feature Elimination method suggest that all the features should be included in the Random Forest modeling for a dataset like ours."
   ]
  },
  {
   "cell_type": "markdown",
   "metadata": {},
   "source": [
    "<a href=\"#top\">Back to Top</a>\n",
    "# Task 2<a id=\"Task_1\"></a>\n",
    "\n",
    "### 2.1 Modeling and Evaluation 3<a id=\"2.1_Modeling_and_Evaluation_3\"></a>"
   ]
  },
  {
   "cell_type": "markdown",
   "metadata": {},
   "source": [
    "Now we are using 3 different classifiers to predict if patient cholesterol is in normal level or above. As we mentioned previously there is imbalanced distribution in cholesterol classes and we can not use regular cross validation methods. We decided to combine 2 above normal classes together (as not normal cholesterol level, '1') and use SMOTE technique to generate new samples for minor class in order to solve imbalanced situation. This technique is followed to avoid overfitting which occurs when exact replicas of minority instances are added to the main dataset. In addition to SMOTE, there is another technique to deal with imbalanced distribution which called NearMiss. NearMiss is an under-sampling technique. Instead of resampling the Minority class, using a distance, this will make the majority class equal to minority class. For this task we used accuracy as a metric to evaluate 3 different models which are KNN , Random Forest and Logistic Regression."
   ]
  },
  {
   "cell_type": "code",
   "execution_count": 78,
   "metadata": {},
   "outputs": [
    {
     "data": {
      "text/plain": [
       "0    75.754183\n",
       "1    24.245817\n",
       "Name: cholesterol, dtype: float64"
      ]
     },
     "execution_count": 78,
     "metadata": {},
     "output_type": "execute_result"
    }
   ],
   "source": [
    "# combining 2 above normal classes\n",
    "df['cholesterol'] = df['cholesterol'].apply(lambda x:1 if x == 2 or x == 3 else(0))\n",
    "#cholesterol percentage split\n",
    "(df['cholesterol'].value_counts()/len(df))*100"
   ]
  },
  {
   "cell_type": "code",
   "execution_count": 79,
   "metadata": {},
   "outputs": [
    {
     "data": {
      "text/html": [
       "<div>\n",
       "<style scoped>\n",
       "    .dataframe tbody tr th:only-of-type {\n",
       "        vertical-align: middle;\n",
       "    }\n",
       "\n",
       "    .dataframe tbody tr th {\n",
       "        vertical-align: top;\n",
       "    }\n",
       "\n",
       "    .dataframe thead th {\n",
       "        text-align: right;\n",
       "    }\n",
       "</style>\n",
       "<table border=\"1\" class=\"dataframe\">\n",
       "  <thead>\n",
       "    <tr style=\"text-align: right;\">\n",
       "      <th></th>\n",
       "      <th>cholesterol</th>\n",
       "    </tr>\n",
       "  </thead>\n",
       "  <tbody>\n",
       "    <tr>\n",
       "      <th>0</th>\n",
       "      <td>0</td>\n",
       "    </tr>\n",
       "    <tr>\n",
       "      <th>1</th>\n",
       "      <td>1</td>\n",
       "    </tr>\n",
       "    <tr>\n",
       "      <th>2</th>\n",
       "      <td>1</td>\n",
       "    </tr>\n",
       "    <tr>\n",
       "      <th>3</th>\n",
       "      <td>0</td>\n",
       "    </tr>\n",
       "    <tr>\n",
       "      <th>4</th>\n",
       "      <td>0</td>\n",
       "    </tr>\n",
       "    <tr>\n",
       "      <th>5</th>\n",
       "      <td>1</td>\n",
       "    </tr>\n",
       "    <tr>\n",
       "      <th>6</th>\n",
       "      <td>1</td>\n",
       "    </tr>\n",
       "    <tr>\n",
       "      <th>7</th>\n",
       "      <td>1</td>\n",
       "    </tr>\n",
       "    <tr>\n",
       "      <th>8</th>\n",
       "      <td>0</td>\n",
       "    </tr>\n",
       "    <tr>\n",
       "      <th>9</th>\n",
       "      <td>0</td>\n",
       "    </tr>\n",
       "    <tr>\n",
       "      <th>10</th>\n",
       "      <td>0</td>\n",
       "    </tr>\n",
       "    <tr>\n",
       "      <th>11</th>\n",
       "      <td>0</td>\n",
       "    </tr>\n",
       "    <tr>\n",
       "      <th>12</th>\n",
       "      <td>0</td>\n",
       "    </tr>\n",
       "    <tr>\n",
       "      <th>13</th>\n",
       "      <td>0</td>\n",
       "    </tr>\n",
       "    <tr>\n",
       "      <th>16</th>\n",
       "      <td>0</td>\n",
       "    </tr>\n",
       "    <tr>\n",
       "      <th>17</th>\n",
       "      <td>0</td>\n",
       "    </tr>\n",
       "    <tr>\n",
       "      <th>18</th>\n",
       "      <td>0</td>\n",
       "    </tr>\n",
       "    <tr>\n",
       "      <th>19</th>\n",
       "      <td>0</td>\n",
       "    </tr>\n",
       "    <tr>\n",
       "      <th>20</th>\n",
       "      <td>0</td>\n",
       "    </tr>\n",
       "    <tr>\n",
       "      <th>21</th>\n",
       "      <td>0</td>\n",
       "    </tr>\n",
       "    <tr>\n",
       "      <th>22</th>\n",
       "      <td>1</td>\n",
       "    </tr>\n",
       "    <tr>\n",
       "      <th>24</th>\n",
       "      <td>1</td>\n",
       "    </tr>\n",
       "    <tr>\n",
       "      <th>25</th>\n",
       "      <td>1</td>\n",
       "    </tr>\n",
       "    <tr>\n",
       "      <th>26</th>\n",
       "      <td>0</td>\n",
       "    </tr>\n",
       "    <tr>\n",
       "      <th>27</th>\n",
       "      <td>0</td>\n",
       "    </tr>\n",
       "    <tr>\n",
       "      <th>28</th>\n",
       "      <td>0</td>\n",
       "    </tr>\n",
       "    <tr>\n",
       "      <th>29</th>\n",
       "      <td>0</td>\n",
       "    </tr>\n",
       "    <tr>\n",
       "      <th>30</th>\n",
       "      <td>1</td>\n",
       "    </tr>\n",
       "    <tr>\n",
       "      <th>31</th>\n",
       "      <td>1</td>\n",
       "    </tr>\n",
       "    <tr>\n",
       "      <th>32</th>\n",
       "      <td>0</td>\n",
       "    </tr>\n",
       "    <tr>\n",
       "      <th>...</th>\n",
       "      <td>...</td>\n",
       "    </tr>\n",
       "    <tr>\n",
       "      <th>69963</th>\n",
       "      <td>0</td>\n",
       "    </tr>\n",
       "    <tr>\n",
       "      <th>69964</th>\n",
       "      <td>0</td>\n",
       "    </tr>\n",
       "    <tr>\n",
       "      <th>69965</th>\n",
       "      <td>0</td>\n",
       "    </tr>\n",
       "    <tr>\n",
       "      <th>69966</th>\n",
       "      <td>1</td>\n",
       "    </tr>\n",
       "    <tr>\n",
       "      <th>69968</th>\n",
       "      <td>0</td>\n",
       "    </tr>\n",
       "    <tr>\n",
       "      <th>69969</th>\n",
       "      <td>0</td>\n",
       "    </tr>\n",
       "    <tr>\n",
       "      <th>69970</th>\n",
       "      <td>1</td>\n",
       "    </tr>\n",
       "    <tr>\n",
       "      <th>69971</th>\n",
       "      <td>0</td>\n",
       "    </tr>\n",
       "    <tr>\n",
       "      <th>69972</th>\n",
       "      <td>0</td>\n",
       "    </tr>\n",
       "    <tr>\n",
       "      <th>69973</th>\n",
       "      <td>0</td>\n",
       "    </tr>\n",
       "    <tr>\n",
       "      <th>69974</th>\n",
       "      <td>0</td>\n",
       "    </tr>\n",
       "    <tr>\n",
       "      <th>69976</th>\n",
       "      <td>1</td>\n",
       "    </tr>\n",
       "    <tr>\n",
       "      <th>69977</th>\n",
       "      <td>0</td>\n",
       "    </tr>\n",
       "    <tr>\n",
       "      <th>69979</th>\n",
       "      <td>1</td>\n",
       "    </tr>\n",
       "    <tr>\n",
       "      <th>69980</th>\n",
       "      <td>0</td>\n",
       "    </tr>\n",
       "    <tr>\n",
       "      <th>69982</th>\n",
       "      <td>0</td>\n",
       "    </tr>\n",
       "    <tr>\n",
       "      <th>69983</th>\n",
       "      <td>0</td>\n",
       "    </tr>\n",
       "    <tr>\n",
       "      <th>69984</th>\n",
       "      <td>0</td>\n",
       "    </tr>\n",
       "    <tr>\n",
       "      <th>69985</th>\n",
       "      <td>0</td>\n",
       "    </tr>\n",
       "    <tr>\n",
       "      <th>69986</th>\n",
       "      <td>0</td>\n",
       "    </tr>\n",
       "    <tr>\n",
       "      <th>69988</th>\n",
       "      <td>0</td>\n",
       "    </tr>\n",
       "    <tr>\n",
       "      <th>69989</th>\n",
       "      <td>0</td>\n",
       "    </tr>\n",
       "    <tr>\n",
       "      <th>69990</th>\n",
       "      <td>0</td>\n",
       "    </tr>\n",
       "    <tr>\n",
       "      <th>69991</th>\n",
       "      <td>1</td>\n",
       "    </tr>\n",
       "    <tr>\n",
       "      <th>69992</th>\n",
       "      <td>0</td>\n",
       "    </tr>\n",
       "    <tr>\n",
       "      <th>69993</th>\n",
       "      <td>0</td>\n",
       "    </tr>\n",
       "    <tr>\n",
       "      <th>69994</th>\n",
       "      <td>0</td>\n",
       "    </tr>\n",
       "    <tr>\n",
       "      <th>69995</th>\n",
       "      <td>0</td>\n",
       "    </tr>\n",
       "    <tr>\n",
       "      <th>69998</th>\n",
       "      <td>0</td>\n",
       "    </tr>\n",
       "    <tr>\n",
       "      <th>69999</th>\n",
       "      <td>1</td>\n",
       "    </tr>\n",
       "  </tbody>\n",
       "</table>\n",
       "<p>60728 rows × 1 columns</p>\n",
       "</div>"
      ],
      "text/plain": [
       "       cholesterol\n",
       "0                0\n",
       "1                1\n",
       "2                1\n",
       "3                0\n",
       "4                0\n",
       "5                1\n",
       "6                1\n",
       "7                1\n",
       "8                0\n",
       "9                0\n",
       "10               0\n",
       "11               0\n",
       "12               0\n",
       "13               0\n",
       "16               0\n",
       "17               0\n",
       "18               0\n",
       "19               0\n",
       "20               0\n",
       "21               0\n",
       "22               1\n",
       "24               1\n",
       "25               1\n",
       "26               0\n",
       "27               0\n",
       "28               0\n",
       "29               0\n",
       "30               1\n",
       "31               1\n",
       "32               0\n",
       "...            ...\n",
       "69963            0\n",
       "69964            0\n",
       "69965            0\n",
       "69966            1\n",
       "69968            0\n",
       "69969            0\n",
       "69970            1\n",
       "69971            0\n",
       "69972            0\n",
       "69973            0\n",
       "69974            0\n",
       "69976            1\n",
       "69977            0\n",
       "69979            1\n",
       "69980            0\n",
       "69982            0\n",
       "69983            0\n",
       "69984            0\n",
       "69985            0\n",
       "69986            0\n",
       "69988            0\n",
       "69989            0\n",
       "69990            0\n",
       "69991            1\n",
       "69992            0\n",
       "69993            0\n",
       "69994            0\n",
       "69995            0\n",
       "69998            0\n",
       "69999            1\n",
       "\n",
       "[60728 rows x 1 columns]"
      ]
     },
     "execution_count": 79,
     "metadata": {},
     "output_type": "execute_result"
    }
   ],
   "source": [
    "#separating input data into two parts X (features) and Y (target)\n",
    "features1 = [\"gender\", \"height\", \"weight\", \"ap_hi\", \"ap_lo\",\"cardio\", \"gluc\", \"smoke\", \"alco\", \"active\", \"years\", \"BMI\"]\n",
    "\n",
    "X2 = df[features1].copy()\n",
    "\n",
    "Y2= df[['cholesterol']].copy()\n",
    "Y2"
   ]
  },
  {
   "cell_type": "code",
   "execution_count": 110,
   "metadata": {},
   "outputs": [],
   "source": [
    "# Scaling training variables\n",
    "scl = StandardScaler()\n",
    "X2_Scl = scl.fit_transform(X2)\n",
    "\n",
    "# create cross validation iterator\n",
    "cv = StratifiedKFold(n_splits=10)"
   ]
  },
  {
   "cell_type": "code",
   "execution_count": 111,
   "metadata": {},
   "outputs": [
    {
     "name": "stdout",
     "output_type": "stream",
     "text": [
      "Before OverSampling, counts of label '1': 11761\n",
      "Before OverSampling, counts of label '0': 36821 \n",
      "\n",
      "After OverSampling, the shape of train_X: (73642, 12)\n",
      "After OverSampling, the shape of train_y: (73642,) \n",
      "\n",
      "After OverSampling, counts of label '1': 36821\n",
      "After OverSampling, counts of label '0': 36821\n"
     ]
    }
   ],
   "source": [
    "# train and test split before resampling\n",
    "X2_train, X2_test, y2_train, y2_test = train_test_split(X2_Scl, Y2, test_size = 0.2, random_state = 101) \n",
    "\n",
    "print(\"Before OverSampling, counts of label '1': {}\".format(sum(y2_train['cholesterol'] == 1)))\n",
    "print(\"Before OverSampling, counts of label '0': {} \\n\".format(sum(y2_train['cholesterol'] == 0))) \n",
    "  \n",
    "# import SMOTE module from imblearn library \n",
    "# pip install imblearn (if you don't have imblearn in your system) \n",
    "from imblearn.over_sampling import SMOTE \n",
    "sm = SMOTE(random_state = 2) \n",
    "X2_train_res, y2_train_res = sm.fit_sample(X2_train, y2_train) \n",
    "  \n",
    "print('After OverSampling, the shape of train_X: {}'.format(X2_train_res.shape)) \n",
    "print('After OverSampling, the shape of train_y: {} \\n'.format(y2_train_res.shape)) \n",
    "  \n",
    "print(\"After OverSampling, counts of label '1': {}\".format(sum(y2_train_res == 1))) \n",
    "print(\"After OverSampling, counts of label '0': {}\".format(sum(y2_train_res == 0))) \n"
   ]
  },
  {
   "cell_type": "markdown",
   "metadata": {},
   "source": [
    "#### Model 1: KNN Classification"
   ]
  },
  {
   "cell_type": "code",
   "execution_count": 112,
   "metadata": {},
   "outputs": [
    {
     "name": "stdout",
     "output_type": "stream",
     "text": [
      "Fitting 10 folds for each of 32 candidates, totalling 320 fits\n"
     ]
    },
    {
     "name": "stderr",
     "output_type": "stream",
     "text": [
      "[Parallel(n_jobs=8)]: Using backend LokyBackend with 8 concurrent workers.\n",
      "[Parallel(n_jobs=8)]: Done  34 tasks      | elapsed:   53.8s\n",
      "[Parallel(n_jobs=8)]: Done 184 tasks      | elapsed:  4.7min\n",
      "[Parallel(n_jobs=8)]: Done 320 out of 320 | elapsed:  8.5min finished\n"
     ]
    }
   ],
   "source": [
    "#KNN Classification 10-fold cross-validation\n",
    "cv = StratifiedKFold(n_splits=10)\n",
    "ClsEstimator = KNeighborsClassifier()\n",
    "\n",
    "\n",
    "param_grid = [\n",
    "    {\n",
    "         'weights': ['uniform','distance'],\n",
    "         'leaf_size': [10,30],\n",
    "         'metric': ['minkowski','euclidean'],\n",
    "         'n_neighbors':[3,5,13,15],\n",
    "         \n",
    "    }\n",
    "]\n",
    "\n",
    "KNNGridSearch_2 = GridSearchCV(estimator=ClsEstimator, param_grid=param_grid, cv=cv, n_jobs=8, verbose=1, scoring='accuracy' )\n",
    "\n",
    "#Perform hyperparameter search to find the best combination of parameters for our data\n",
    "KNNGridSearch_2.fit(X2_train_res, y2_train_res)\n",
    "\n",
    "y_KNN_score2 = KNNGridSearch_2.predict(X2_test)"
   ]
  },
  {
   "cell_type": "code",
   "execution_count": 113,
   "metadata": {},
   "outputs": [
    {
     "data": {
      "text/plain": [
       "KNeighborsClassifier(algorithm='auto', leaf_size=30, metric='minkowski',\n",
       "                     metric_params=None, n_jobs=None, n_neighbors=3, p=2,\n",
       "                     weights='distance')"
      ]
     },
     "execution_count": 113,
     "metadata": {},
     "output_type": "execute_result"
    }
   ],
   "source": [
    "KNNGridSearch_2.best_estimator_"
   ]
  },
  {
   "cell_type": "code",
   "execution_count": 114,
   "metadata": {},
   "outputs": [
    {
     "name": "stdout",
     "output_type": "stream",
     "text": [
      "The average accuracy for all cv folds is: \t\t\t 0.81493\n",
      "The average precision for all cv folds is: \t\t\t 0.76244\n",
      "The average Recall for all cv folds is: \t\t\t 0.91456\n",
      "*********************************************************\n",
      "Cross Validation Fold Mean Error Scores\n",
      "   Accuracy  Precision    Recall\n",
      "0  0.795276   0.758130  0.867228\n",
      "1  0.779196   0.740524  0.859587\n",
      "2  0.793319   0.749884  0.880228\n",
      "3  0.811244   0.757181  0.916350\n",
      "4  0.823058   0.763455  0.936176\n",
      "5  0.826181   0.766061  0.939163\n",
      "6  0.825502   0.768061  0.932645\n",
      "7  0.829576   0.771902  0.935633\n",
      "8  0.831070   0.771855  0.939978\n",
      "9  0.834872   0.777328  0.938620\n",
      "Wall time: 7min 6s\n"
     ]
    }
   ],
   "source": [
    "%%time\n",
    "#Use the best parameters for our KNN object\n",
    "classifierEst = KNNGridSearch_2.best_estimator_\n",
    "\n",
    "#Evaluate the regression estimator above using our pre-defined cross validation and scoring metrics. \n",
    "KNearest_scores2 = EvaluateClassifierEstimator(classifierEst, X2_train_res, y2_train_res, cv)"
   ]
  },
  {
   "cell_type": "code",
   "execution_count": 115,
   "metadata": {},
   "outputs": [
    {
     "data": {
      "text/plain": [
       "array([[6673, 2510],\n",
       "       [1312, 1651]], dtype=int64)"
      ]
     },
     "execution_count": 115,
     "metadata": {},
     "output_type": "execute_result"
    }
   ],
   "source": [
    "confusion_matrix(y2_test, y_KNN_score2)"
   ]
  },
  {
   "cell_type": "code",
   "execution_count": 116,
   "metadata": {},
   "outputs": [
    {
     "name": "stdout",
     "output_type": "stream",
     "text": [
      "Wall time: 21.1 s\n"
     ]
    },
    {
     "data": {
      "text/plain": [
       "0.7470194728346009"
      ]
     },
     "execution_count": 116,
     "metadata": {},
     "output_type": "execute_result"
    }
   ],
   "source": [
    "%%time\n",
    "#find the accuracy for the whole dataset\n",
    "from sklearn.model_selection import cross_val_score\n",
    "from sklearn.model_selection import StratifiedKFold\n",
    "cv=StratifiedKFold(n_splits=10,shuffle=True,random_state=101)\n",
    "KNN_accuracy = cross_val_score(KNNGridSearch_2.best_estimator_, X2_Scl, y=Y2, cv=cv)\n",
    "KNN_acc=KNN_accuracy.mean()\n",
    "KNN_acc"
   ]
  },
  {
   "cell_type": "code",
   "execution_count": 117,
   "metadata": {},
   "outputs": [
    {
     "data": {
      "text/plain": [
       "array([0.74613105, 0.74613105, 0.74366151, 0.75288113, 0.7414361 ,\n",
       "       0.75378788, 0.74769433, 0.74374177, 0.743083  , 0.7516469 ])"
      ]
     },
     "execution_count": 117,
     "metadata": {},
     "output_type": "execute_result"
    }
   ],
   "source": [
    "KNN_accuracy"
   ]
  },
  {
   "cell_type": "markdown",
   "metadata": {},
   "source": [
    "#### Model #2 Random Forest Classification"
   ]
  },
  {
   "cell_type": "code",
   "execution_count": 118,
   "metadata": {},
   "outputs": [
    {
     "name": "stdout",
     "output_type": "stream",
     "text": [
      "Fitting 10 folds for each of 20 candidates, totalling 200 fits\n"
     ]
    },
    {
     "name": "stderr",
     "output_type": "stream",
     "text": [
      "[Parallel(n_jobs=8)]: Using backend LokyBackend with 8 concurrent workers.\n",
      "[Parallel(n_jobs=8)]: Done  34 tasks      | elapsed:  2.1min\n",
      "[Parallel(n_jobs=8)]: Done 184 tasks      | elapsed: 17.9min\n",
      "[Parallel(n_jobs=8)]: Done 200 out of 200 | elapsed: 21.6min finished\n"
     ]
    }
   ],
   "source": [
    "#Random Forest Classification 10-fold cross-validation\n",
    "cv = StratifiedKFold(n_splits=10)\n",
    "ClsEstimator = RandomForestClassifier()\n",
    "\n",
    "param_grid = [\n",
    "    {\n",
    "         'n_estimators': [50, 100, 200, 500], \n",
    "         'max_depth': [5,10,15,20,30],\n",
    "         'random_state':[101]\n",
    "     }\n",
    "]\n",
    "\n",
    "RFGridSearch_2 = GridSearchCV(estimator=ClsEstimator, param_grid=param_grid, cv=cv, n_jobs=8, verbose=1, scoring='accuracy' )\n",
    "\n",
    "#Perform hyperparameter search to find the best combination of parameters for our data\n",
    "RFGridSearch_2.fit(X2_train_res, y2_train_res)\n",
    "\n",
    "y_RF_score2 = RFGridSearch_2.predict(X2_test)"
   ]
  },
  {
   "cell_type": "code",
   "execution_count": 119,
   "metadata": {},
   "outputs": [
    {
     "data": {
      "text/plain": [
       "RandomForestClassifier(bootstrap=True, class_weight=None, criterion='gini',\n",
       "                       max_depth=30, max_features='auto', max_leaf_nodes=None,\n",
       "                       min_impurity_decrease=0.0, min_impurity_split=None,\n",
       "                       min_samples_leaf=1, min_samples_split=2,\n",
       "                       min_weight_fraction_leaf=0.0, n_estimators=500,\n",
       "                       n_jobs=None, oob_score=False, random_state=101,\n",
       "                       verbose=0, warm_start=False)"
      ]
     },
     "execution_count": 119,
     "metadata": {},
     "output_type": "execute_result"
    }
   ],
   "source": [
    "RFGridSearch_2.best_estimator_"
   ]
  },
  {
   "cell_type": "code",
   "execution_count": 120,
   "metadata": {},
   "outputs": [
    {
     "name": "stdout",
     "output_type": "stream",
     "text": [
      "The average accuracy for all cv folds is: \t\t\t 0.85066\n",
      "The average precision for all cv folds is: \t\t\t 0.84897\n",
      "The average Recall for all cv folds is: \t\t\t 0.84789\n",
      "*********************************************************\n",
      "Cross Validation Fold Mean Error Scores\n",
      "   Accuracy  Precision    Recall\n",
      "0  0.733641   0.834435  0.582949\n",
      "1  0.723112   0.802356  0.592070\n",
      "2  0.733569   0.815712  0.603476\n",
      "3  0.870858   0.853299  0.895709\n",
      "4  0.905350   0.858860  0.970125\n",
      "5  0.902634   0.859743  0.962249\n",
      "6  0.910375   0.867998  0.967952\n",
      "7  0.912140   0.869311  0.970125\n",
      "8  0.907795   0.865240  0.966051\n",
      "9  0.907116   0.862778  0.968224\n",
      "Wall time: 12min 33s\n"
     ]
    }
   ],
   "source": [
    "%%time\n",
    "#Use the best parameters for our Random Forest object\n",
    "classifierEst = RFGridSearch_2.best_estimator_\n",
    "\n",
    "#Evaluate the regression estimator above using our pre-defined cross validation and scoring metrics. \n",
    "RF_scores2 = EvaluateClassifierEstimator(classifierEst, X2_train_res, y2_train_res, cv)"
   ]
  },
  {
   "cell_type": "code",
   "execution_count": 121,
   "metadata": {},
   "outputs": [
    {
     "data": {
      "text/plain": [
       "array([[7874, 1309],\n",
       "       [1598, 1365]], dtype=int64)"
      ]
     },
     "execution_count": 121,
     "metadata": {},
     "output_type": "execute_result"
    }
   ],
   "source": [
    "confusion_matrix(y2_test, y_RF_score2)"
   ]
  },
  {
   "cell_type": "code",
   "execution_count": 122,
   "metadata": {},
   "outputs": [
    {
     "name": "stdout",
     "output_type": "stream",
     "text": [
      "Wall time: 4min 39s\n"
     ]
    },
    {
     "data": {
      "text/plain": [
       "0.7805790344642688"
      ]
     },
     "execution_count": 122,
     "metadata": {},
     "output_type": "execute_result"
    }
   ],
   "source": [
    "%%time\n",
    "#find the accuracy for the whole dataset\n",
    "cv=StratifiedKFold(n_splits=10,shuffle=True,random_state=101)\n",
    "RF_accuracy = cross_val_score(RFGridSearch_2.best_estimator_, X2_Scl, y=Y2, cv=cv)\n",
    "RF_acc=RF_accuracy.mean()\n",
    "RF_acc"
   ]
  },
  {
   "cell_type": "code",
   "execution_count": 123,
   "metadata": {},
   "outputs": [
    {
     "data": {
      "text/plain": [
       "array([0.77576556, 0.77839974, 0.7764241 , 0.78992427, 0.77667984,\n",
       "       0.78277339, 0.78162055, 0.77783267, 0.77980896, 0.78656126])"
      ]
     },
     "execution_count": 123,
     "metadata": {},
     "output_type": "execute_result"
    }
   ],
   "source": [
    "RF_accuracy"
   ]
  },
  {
   "cell_type": "code",
   "execution_count": null,
   "metadata": {},
   "outputs": [],
   "source": []
  },
  {
   "cell_type": "markdown",
   "metadata": {},
   "source": [
    "#### Model #3 Logistic Regression"
   ]
  },
  {
   "cell_type": "code",
   "execution_count": 124,
   "metadata": {},
   "outputs": [
    {
     "name": "stdout",
     "output_type": "stream",
     "text": [
      "Fitting 10 folds for each of 28 candidates, totalling 280 fits\n"
     ]
    },
    {
     "name": "stderr",
     "output_type": "stream",
     "text": [
      "[Parallel(n_jobs=8)]: Using backend LokyBackend with 8 concurrent workers.\n",
      "[Parallel(n_jobs=8)]: Done  34 tasks      | elapsed:    5.9s\n",
      "[Parallel(n_jobs=8)]: Done 184 tasks      | elapsed:   14.2s\n",
      "[Parallel(n_jobs=8)]: Done 280 out of 280 | elapsed:   19.5s finished\n"
     ]
    }
   ],
   "source": [
    "#Logistic Regression Classification 10-fold cross-validation\n",
    "from sklearn.linear_model import LogisticRegression\n",
    "ClsEstimator = LogisticRegression()\n",
    "cv = StratifiedKFold(n_splits=10)\n",
    "\n",
    "parameters = { 'penalty':['l2']\n",
    "              ,'C': [0.001, 0.01, 0.1, 1, 10, 100, 1000]\n",
    "              ,'class_weight': ['balanced','none']\n",
    "              ,'random_state': [101]\n",
    "              ,'solver': ['lbfgs']\n",
    "              ,'max_iter':[1500,2000]\n",
    "             }\n",
    "\n",
    "\n",
    "LRGridSearch_2 = GridSearchCV(estimator=ClsEstimator, param_grid=parameters, cv=cv, n_jobs=8, verbose=1, scoring='accuracy' )\n",
    "\n",
    "#Perform hyperparameter search to find the best combination of parameters for our data\n",
    "LRGridSearch_2.fit(X2_train_res, y2_train_res)\n",
    "\n",
    "y_LR_score2 = LRGridSearch_2.predict(X2_test)\n"
   ]
  },
  {
   "cell_type": "code",
   "execution_count": 125,
   "metadata": {},
   "outputs": [
    {
     "data": {
      "text/plain": [
       "LogisticRegression(C=1, class_weight='balanced', dual=False, fit_intercept=True,\n",
       "                   intercept_scaling=1, l1_ratio=None, max_iter=1500,\n",
       "                   multi_class='warn', n_jobs=None, penalty='l2',\n",
       "                   random_state=101, solver='lbfgs', tol=0.0001, verbose=0,\n",
       "                   warm_start=False)"
      ]
     },
     "execution_count": 125,
     "metadata": {},
     "output_type": "execute_result"
    }
   ],
   "source": [
    "LRGridSearch_2.best_estimator_"
   ]
  },
  {
   "cell_type": "code",
   "execution_count": 126,
   "metadata": {},
   "outputs": [
    {
     "name": "stdout",
     "output_type": "stream",
     "text": [
      "The average accuracy for all cv folds is: \t\t\t 0.69477\n",
      "The average precision for all cv folds is: \t\t\t 0.71657\n",
      "The average Recall for all cv folds is: \t\t\t 0.64463\n",
      "*********************************************************\n",
      "Cross Validation Fold Mean Error Scores\n",
      "   Accuracy  Precision    Recall\n",
      "0  0.697665   0.719940  0.647027\n",
      "1  0.683324   0.700416  0.640684\n",
      "2  0.700163   0.719084  0.656980\n",
      "3  0.695003   0.716005  0.646388\n",
      "4  0.691200   0.706937  0.653178\n",
      "5  0.692151   0.713553  0.642042\n",
      "6  0.699212   0.726319  0.639326\n",
      "7  0.700163   0.725797  0.643400\n",
      "8  0.688485   0.711585  0.633895\n",
      "9  0.700299   0.726019  0.643400\n",
      "Wall time: 1.92 s\n"
     ]
    }
   ],
   "source": [
    "%%time\n",
    "#Use the best parameters for our Logistic Regression object\n",
    "classifierEst = LRGridSearch_2.best_estimator_\n",
    "\n",
    "#Evaluate the regression estimator above using our pre-defined cross validation and scoring metrics. \n",
    "LR_scores2 = EvaluateClassifierEstimator(classifierEst, X2_train_res, y2_train_res, cv)"
   ]
  },
  {
   "cell_type": "code",
   "execution_count": 127,
   "metadata": {},
   "outputs": [
    {
     "data": {
      "text/plain": [
       "array([[6894, 2289],\n",
       "       [1030, 1933]], dtype=int64)"
      ]
     },
     "execution_count": 127,
     "metadata": {},
     "output_type": "execute_result"
    }
   ],
   "source": [
    "confusion_matrix(y2_test, y_LR_score2)"
   ]
  },
  {
   "cell_type": "code",
   "execution_count": 128,
   "metadata": {},
   "outputs": [
    {
     "name": "stdout",
     "output_type": "stream",
     "text": [
      "Wall time: 1.04 s\n"
     ]
    },
    {
     "data": {
      "text/plain": [
       "0.7266990386029484"
      ]
     },
     "execution_count": 128,
     "metadata": {},
     "output_type": "execute_result"
    }
   ],
   "source": [
    "%%time\n",
    "#find the accuracy for the whole dataset\n",
    "cv=StratifiedKFold(n_splits=10,shuffle=True,random_state=101)\n",
    "LR_accuracy = cross_val_score(LRGridSearch_2.best_estimator_, X2_Scl, y=Y2, cv=cv)\n",
    "LR_acc=LR_accuracy.mean()\n",
    "LR_acc"
   ]
  },
  {
   "cell_type": "code",
   "execution_count": 129,
   "metadata": {},
   "outputs": [
    {
     "data": {
      "text/plain": [
       "array([0.73411261, 0.72884425, 0.72077708, 0.73345407, 0.72249671,\n",
       "       0.72809618, 0.72842556, 0.72101449, 0.72826087, 0.72150856])"
      ]
     },
     "execution_count": 129,
     "metadata": {},
     "output_type": "execute_result"
    }
   ],
   "source": [
    "LR_accuracy"
   ]
  },
  {
   "cell_type": "markdown",
   "metadata": {},
   "source": [
    "<a href=\"#top\">Back to Top</a>\n",
    "### 2.2 Modeling and Evaluation 4<a id=\"2.2_Modeling_and_Evaluation_4\"></a>"
   ]
  },
  {
   "cell_type": "markdown",
   "metadata": {},
   "source": [
    "The best model we found was Random Forest Classification, with a accuracy score of ~.78, followed by KNN and Logistic Regression. "
   ]
  },
  {
   "cell_type": "code",
   "execution_count": 130,
   "metadata": {},
   "outputs": [
    {
     "name": "stdout",
     "output_type": "stream",
     "text": [
      "accuracy for KNN classifier is : 0.7470194728346009\n",
      "accuracy for Random Forest classifier is : 0.7805790344642688\n",
      "accuracy for Logistic Regression classifier is : 0.7266990386029484\n"
     ]
    }
   ],
   "source": [
    "print ('accuracy for KNN classifier is :',KNN_acc)\n",
    "print ('accuracy for Random Forest classifier is :',RF_acc)\n",
    "print ('accuracy for Logistic Regression classifier is :',LR_acc)"
   ]
  },
  {
   "cell_type": "markdown",
   "metadata": {},
   "source": [
    "<a href=\"#top\">Back to Top</a>\n",
    "### 2.3 Modeling and Evaluation 5<a id=\"2.3_Modeling_and_Evaluation_5\"></a>"
   ]
  },
  {
   "cell_type": "markdown",
   "metadata": {},
   "source": [
    "The advantges and disadvantages of KNN and Random Forest have been discussed in the task 1. Here we only brielfy talk about about logistic regression (LR). The big advantage of LR is its speed. It only took 19.5 seconds for 280 rounds of grid search, while random forest took 21.6 minutes for 200 rounds and KNN 8.5 minutes for 320 rounds. Another advantage of LR is that the coefficients gnerated by this model is interpretable, which is quite essential in some caces. The disanvatage is its perforance is not as good as others, such as the random forest model. "
   ]
  },
  {
   "cell_type": "markdown",
   "metadata": {},
   "source": [
    "## Statistical Comparison of Classifiers: "
   ]
  },
  {
   "cell_type": "code",
   "execution_count": 131,
   "metadata": {},
   "outputs": [
    {
     "name": "stdout",
     "output_type": "stream",
     "text": [
      "Range of KNN_LR confidence interval:[-0.023892,-0.016749]\n",
      "Range of KNN_RF confidence interval:[0.031725,0.035394]\n",
      "Range of RF_LR confidence interval:[-0.057911,-0.049849]\n"
     ]
    }
   ],
   "source": [
    "t = 2.26 / np.sqrt(10)\n",
    "\n",
    "e_KNN_LR = (1-KNN_accuracy)-(1-LR_accuracy)\n",
    "e_KNN_RF = (1-KNN_accuracy)-(1-RF_accuracy)\n",
    "e_RF_LR = (1-RF_accuracy)-(1-LR_accuracy)\n",
    "\n",
    "\n",
    "stdtot_K_L = np.std(e_KNN_LR)\n",
    "stdtot_K_R = np.std(e_KNN_RF)\n",
    "stdtot_R_L = np.std(e_RF_LR)\n",
    "\n",
    "\n",
    "\n",
    "dbarKL = np.mean(e_KNN_LR)\n",
    "dbarKR = np.mean(e_KNN_RF)\n",
    "dbarRL = np.mean(e_RF_LR)\n",
    "\n",
    "\n",
    "\n",
    "print ('Range of KNN_LR confidence interval:[%0.6f,%0.6f]' % (dbarKL-t*stdtot_K_L,dbarKL+t*stdtot_K_L))\n",
    "print ('Range of KNN_RF confidence interval:[%0.6f,%0.6f]' % (dbarKR-t*stdtot_K_R,dbarKR+t*stdtot_K_R))\n",
    "print ('Range of RF_LR confidence interval:[%0.6f,%0.6f]' % (dbarRL-t*stdtot_R_L,dbarRL+t*stdtot_R_L))\n"
   ]
  },
  {
   "cell_type": "markdown",
   "metadata": {},
   "source": [
    "None of above confidence intervals contain 0 so we are 95% confident that the performances of all three models are not the same."
   ]
  },
  {
   "cell_type": "markdown",
   "metadata": {},
   "source": [
    "<a href=\"#top\">Back to Top</a>\n",
    "### 2.4 Modeling and Evaluation 6<a id=\"2.4_Modeling_and_Evaluation_6\"></a>"
   ]
  },
  {
   "cell_type": "markdown",
   "metadata": {},
   "source": [
    "We found out Random Forest classifier has the best performance on cholesterol in CVD dataset. Now, we proceed to find the level of importance of each feature in this model."
   ]
  },
  {
   "cell_type": "code",
   "execution_count": 132,
   "metadata": {},
   "outputs": [],
   "source": [
    "#Create a classification estimator with best parameters for cross validation\n",
    "classifierEst = RFGridSearch_2.best_estimator_\n",
    "\n",
    "#Fit the model using all of the scaled training data\n",
    "classifierEst.fit(X2_Scl,Y2)\n",
    "\n",
    "from sklearn.metrics import confusion_matrix"
   ]
  },
  {
   "cell_type": "code",
   "execution_count": 133,
   "metadata": {},
   "outputs": [
    {
     "name": "stdout",
     "output_type": "stream",
     "text": [
      "[0.01808296 0.19177175 0.21548902 0.09343373 0.05997359 0.02533953\n",
      " 0.14677755 0.01262587 0.01069897 0.02283488 0.18111254 0.0218596 ]\n",
      "['gender' 'height' 'weight' 'ap_hi' 'ap_lo' 'cardio' 'gluc' 'smoke' 'alco'\n",
      " 'active' 'years' 'BMI']\n"
     ]
    }
   ],
   "source": [
    "#Load the model's coefficient weights and feature names into a dataframe sorted by weights\n",
    "weights = classifierEst.feature_importances_.ravel()\n",
    "print(weights)\n",
    "feature_names = X2.columns.values\n",
    "print(feature_names)\n",
    "linreg_ft_imp_df = pd.DataFrame({'feature_names':feature_names, 'weights':weights, 'absolute_weights': np.abs(weights)})\n",
    "linreg_ft_imp_df.sort_values(by='absolute_weights', inplace=True, ascending=False )"
   ]
  },
  {
   "cell_type": "code",
   "execution_count": 134,
   "metadata": {},
   "outputs": [
    {
     "data": {
      "text/plain": [
       "Text(0.5,0,'Coefficient Magnitude\\n(z-score)')"
      ]
     },
     "execution_count": 134,
     "metadata": {},
     "output_type": "execute_result"
    },
    {
     "data": {
      "image/png": "[encoded data removed]",
      "text/plain": [
       "<Figure size 432x288 with 1 Axes>"
      ]
     },
     "metadata": {},
     "output_type": "display_data"
    }
   ],
   "source": [
    "# Examine variables of interest  \n",
    "import matplotlib.pyplot as plt\n",
    "import seaborn as sns\n",
    "%matplotlib inline\n",
    "\n",
    "plt.style.use('ggplot')\n",
    "\n",
    "ax = sns.barplot(x =linreg_ft_imp_df['weights'], y = linreg_ft_imp_df['feature_names'], orient= 'h')\n",
    "ax.set_title(\"Feature Correlations\")\n",
    "ax.set_xlabel(\"Coefficient Magnitude\\n(z-score)\")"
   ]
  },
  {
   "cell_type": "markdown",
   "metadata": {},
   "source": [
    "Based on the coefficient shown above, it appears that weight is the most important feature, followed by height, years, gluc, ap_hi, ap_lo and others. \n",
    "\n",
    "The overweight is often associated with higher cholesterol level for a patient. That's why we see the weight is the most important predictor here for cholecterol level. We don't know exactly why height is the second factor that is closely correlated with cholecterol level. Age is correlated with cholesterol level makes sense, as people get older, their cholesterol levels slowly but gradually increase. "
   ]
  },
  {
   "cell_type": "markdown",
   "metadata": {},
   "source": [
    "#### Finding the most influential features by Recursive Feature Elimination method"
   ]
  },
  {
   "cell_type": "code",
   "execution_count": 136,
   "metadata": {},
   "outputs": [
    {
     "name": "stdout",
     "output_type": "stream",
     "text": [
      "Wall time: 12min 46s\n"
     ]
    },
    {
     "data": {
      "text/plain": [
       "RFECV(cv=None,\n",
       "      estimator=RandomForestClassifier(bootstrap=True, class_weight=None,\n",
       "                                       criterion='gini', max_depth=30,\n",
       "                                       max_features='auto', max_leaf_nodes=None,\n",
       "                                       min_impurity_decrease=0.0,\n",
       "                                       min_impurity_split=None,\n",
       "                                       min_samples_leaf=1, min_samples_split=2,\n",
       "                                       min_weight_fraction_leaf=0.0,\n",
       "                                       n_estimators=500, n_jobs=None,\n",
       "                                       oob_score=False, random_state=101,\n",
       "                                       verbose=0, warm_start=False),\n",
       "      min_features_to_select=1, n_jobs=None, scoring='accuracy', step=1,\n",
       "      verbose=0)"
      ]
     },
     "execution_count": 136,
     "metadata": {},
     "output_type": "execute_result"
    }
   ],
   "source": [
    "%%time\n",
    "from sklearn.feature_selection import RFECV\n",
    "\n",
    "#Create a regression estimator with best parameters for cross validation\n",
    "classifierEst = RFGridSearch_2.best_estimator_\n",
    "\n",
    "rfecv = RFECV(estimator=classifierEst, step=1, cv=None, scoring='accuracy')\n",
    "rfecv.fit(X2_Scl, Y2)\n",
    "#the process would take multiple hours to finish if we use 10-fold CV. So we set cv=None. "
   ]
  },
  {
   "cell_type": "code",
   "execution_count": 137,
   "metadata": {},
   "outputs": [
    {
     "name": "stdout",
     "output_type": "stream",
     "text": [
      "Optimal number of features : 12\n"
     ]
    },
    {
     "data": {
      "image/png": "[encoded data removed]",
      "text/plain": [
       "<Figure size 432x288 with 1 Axes>"
      ]
     },
     "metadata": {
      "needs_background": "light"
     },
     "output_type": "display_data"
    }
   ],
   "source": [
    "# Examine categorical variables of interest  \n",
    "import matplotlib.pyplot as plt\n",
    "%matplotlib inline\n",
    "\n",
    "print(\"Optimal number of features : %d\" % rfecv.n_features_)\n",
    "\n",
    "# Plot number of features VS. cross-validation scores\n",
    "plt.figure()\n",
    "plt.xlabel(\"Number of features selected\")\n",
    "plt.ylabel(\"Cross validation score (nb of correct classifications)\")\n",
    "plt.plot(range(1, len(rfecv.grid_scores_) + 1), rfecv.grid_scores_)\n",
    "plt.show()"
   ]
  },
  {
   "cell_type": "code",
   "execution_count": 138,
   "metadata": {},
   "outputs": [
    {
     "name": "stdout",
     "output_type": "stream",
     "text": [
      "Eliminated features: []\n"
     ]
    }
   ],
   "source": [
    "#find which features were eliminated\n",
    "eliminated_fea =[]\n",
    "for i in range(len(rfecv.ranking_)):\n",
    "    if rfecv.support_[i] == False :\n",
    "        eliminated_fea.append(features[i])\n",
    "    \n",
    "    #i+1\n",
    "    \n",
    "print(f\"Eliminated features: {eliminated_fea}\")"
   ]
  },
  {
   "cell_type": "code",
   "execution_count": 139,
   "metadata": {},
   "outputs": [
    {
     "data": {
      "text/html": [
       "<div>\n",
       "<style scoped>\n",
       "    .dataframe tbody tr th:only-of-type {\n",
       "        vertical-align: middle;\n",
       "    }\n",
       "\n",
       "    .dataframe tbody tr th {\n",
       "        vertical-align: top;\n",
       "    }\n",
       "\n",
       "    .dataframe thead th {\n",
       "        text-align: right;\n",
       "    }\n",
       "</style>\n",
       "<table border=\"1\" class=\"dataframe\">\n",
       "  <thead>\n",
       "    <tr style=\"text-align: right;\">\n",
       "      <th></th>\n",
       "      <th>feature_names</th>\n",
       "      <th>weights</th>\n",
       "    </tr>\n",
       "  </thead>\n",
       "  <tbody>\n",
       "    <tr>\n",
       "      <th>11</th>\n",
       "      <td>BMI</td>\n",
       "      <td>0.780579</td>\n",
       "    </tr>\n",
       "    <tr>\n",
       "      <th>10</th>\n",
       "      <td>years</td>\n",
       "      <td>0.778554</td>\n",
       "    </tr>\n",
       "    <tr>\n",
       "      <th>9</th>\n",
       "      <td>active</td>\n",
       "      <td>0.777434</td>\n",
       "    </tr>\n",
       "    <tr>\n",
       "      <th>7</th>\n",
       "      <td>smoke</td>\n",
       "      <td>0.775968</td>\n",
       "    </tr>\n",
       "    <tr>\n",
       "      <th>8</th>\n",
       "      <td>alco</td>\n",
       "      <td>0.774289</td>\n",
       "    </tr>\n",
       "    <tr>\n",
       "      <th>6</th>\n",
       "      <td>gluc</td>\n",
       "      <td>0.772461</td>\n",
       "    </tr>\n",
       "    <tr>\n",
       "      <th>5</th>\n",
       "      <td>cardio</td>\n",
       "      <td>0.769167</td>\n",
       "    </tr>\n",
       "    <tr>\n",
       "      <th>4</th>\n",
       "      <td>ap_lo</td>\n",
       "      <td>0.762894</td>\n",
       "    </tr>\n",
       "    <tr>\n",
       "      <th>0</th>\n",
       "      <td>gender</td>\n",
       "      <td>0.757015</td>\n",
       "    </tr>\n",
       "    <tr>\n",
       "      <th>3</th>\n",
       "      <td>ap_hi</td>\n",
       "      <td>0.751844</td>\n",
       "    </tr>\n",
       "    <tr>\n",
       "      <th>1</th>\n",
       "      <td>height</td>\n",
       "      <td>0.747711</td>\n",
       "    </tr>\n",
       "    <tr>\n",
       "      <th>2</th>\n",
       "      <td>weight</td>\n",
       "      <td>0.703086</td>\n",
       "    </tr>\n",
       "  </tbody>\n",
       "</table>\n",
       "</div>"
      ],
      "text/plain": [
       "   feature_names   weights\n",
       "11           BMI  0.780579\n",
       "10         years  0.778554\n",
       "9         active  0.777434\n",
       "7          smoke  0.775968\n",
       "8           alco  0.774289\n",
       "6           gluc  0.772461\n",
       "5         cardio  0.769167\n",
       "4          ap_lo  0.762894\n",
       "0         gender  0.757015\n",
       "3          ap_hi  0.751844\n",
       "1         height  0.747711\n",
       "2         weight  0.703086"
      ]
     },
     "execution_count": 139,
     "metadata": {},
     "output_type": "execute_result"
    }
   ],
   "source": [
    "#Plot the RFE Rankings\n",
    "plt.style.use('ggplot')\n",
    "\n",
    "rfe_ft_imp_df = pd.DataFrame({'feature_names':X2.columns, 'weights':rfecv.grid_scores_})\n",
    "rfe_ft_imp_df.sort_values(by='weights', inplace=True, ascending=False )\n",
    "\n",
    "features_RF = rfe_ft_imp_df\n",
    "\n",
    "features_RF"
   ]
  },
  {
   "cell_type": "markdown",
   "metadata": {},
   "source": [
    "Results from the Recursive Feature Elimination method suggest that all the features should be included in the Random Forest modeling of cholesterol levels for a dataset like ours."
   ]
  },
  {
   "cell_type": "markdown",
   "metadata": {},
   "source": [
    "<a href=\"#top\">Back to Top</a>\n",
    "### Deployment<a id=\"Deployment\"></a>"
   ]
  },
  {
   "cell_type": "markdown",
   "metadata": {},
   "source": [
    "##### How useful is your model for interested parties (i.e., the companies or organizations that might want to use it for prediction)?\n",
    "\n",
    "* For our first task, targeting cardio-disease status, we expect multiple possibilities for application, mainly the hospitals and insurance companies. The hospitals can use this model, Random Forest model, to predict which customers may develop cardio-disease based on the medical records with them and may send reminders to those customers in risk. The insurance companies can use this model to rationally assign resources (e.g. family nurses) to those who really needs the care. By doing this, the insurance companies can reduce huge amount of cost of admitting patients to ER and staying in the hospital. \n",
    "\n",
    "* For our second task, targeting abnormal cholesterol level, our random forest model may be used by companies. Medical research has suggested that people who have high cholesterol level, the chance of getting heart disease is much higher. The companies that are specialized in developing and producing drugs to lower cholesterol level in human can use this model to target those who live in rural area and don’t have physical examination done regularly. Obviously, these companies have to collaborate with hospital or other agents, so that they can access the people’s medical record. Companies specialized in weight loss may also use this model. \n",
    "\n",
    "##### How would you measure the model's value if it was used by these parties?\n",
    "\n",
    "* Obviously, the value for the first model would be to save people lives and reduce medical cost. Cardio disease happens fast and people could die very quickly. Alerting those people in risk earlier and have them take preventive medicine is extremely helpful. Reducing the admissions of patients to ER due to cardio-disease will save a lot of money for medical insurance companies. \n",
    "\n",
    "* The value for the second model would be to make profit for pharmaceutical companies that are specialized in producing medicines reducing the cholesterol levels. Since weight is strongly correlated with cholesterol level based on our model, those companies which are specialized in reducing people’s weight can also make profit from this model.\n",
    "\n",
    "##### How would you deploy your model for interested parties?\n",
    "\n",
    "* For the models to be used by interested parties, the model needs to be made available in the software the team's analysts use. One potential way would be by creating a restful API in python, then using a lambda function hosted in AWS to trigger an EC2 instance.\n",
    "\n",
    "##### What other data should be collected?\n",
    "\n",
    "* The accuracy of the current models are both less than 80%. To further improve the accuracy, we think that family member medical history should be collected, such as a patient’s parents medical information. After all, the cardio disease status  and cholesterol level are more or less correlated with genetics.\n",
    "\n",
    "##### How often would the model need to be updated?\n",
    "\n",
    "* This model would need to be updated on yearly basis. This is because medical treatment is improving consistently and whole health care condition is getting better. People who may develop cardio disease in the past may not develop this disease now.\n"
   ]
  },
  {
   "cell_type": "markdown",
   "metadata": {},
   "source": [
    "<a href=\"#top\">Back to Top</a>\n",
    "### Exceptional Work<a id=\"Exceptional_Work\"></a>\n",
    "* You have free reign to provide additional analyses. One idea: grid search parameters in a parallelized fashion and visualize the performances across attributes. Which parameters are most significant for making a good model for each classification algorithm?"
   ]
  },
  {
   "cell_type": "markdown",
   "metadata": {},
   "source": [
    "We will be looking at a Voting Classifier. Voting is one of the easyest ways of combining the predictions from multiple machine learning algorithms. Voting classifier isn’t an actual classifier but it wraps up different ones that are trained and valuated in parallel in order to look at the different uniqueness of each system. We will use and ensemble of different algorithms then predict the final output.\n",
    "\n",
    "This output on a prediction is taken by majority vote according to two different strategies:\n",
    "\n",
    "* Hard voting / Majority voting: Hard voting is the simplest case of majority voting. In this case, the class that received the highest number of votes will be chosen.\n",
    "Or\n",
    "* Soft Voting / Average probability: The probability vector for each predicted class are summed and the average is collected. The winning class is the one with the highest value.\n",
    "\n",
    "We will use both hard and soft voting ."
   ]
  },
  {
   "cell_type": "markdown",
   "metadata": {},
   "source": [
    "### Hard Voting"
   ]
  },
  {
   "cell_type": "code",
   "execution_count": 40,
   "metadata": {},
   "outputs": [
    {
     "name": "stdout",
     "output_type": "stream",
     "text": [
      "Accuracy: 0.70 (+/- 0.02) [SVM]\n",
      "Accuracy: 0.70 (+/- 0.01) [KNN (k=13)]\n",
      "Accuracy: 0.73 (+/- 0.00) [Random Forest (depth=10)]\n",
      "Accuracy: 0.72 (+/- 0.00) [Decision Tree (depth=5)]\n",
      "Accuracy: 0.73 (+/- 0.01) [Ensemble]\n"
     ]
    }
   ],
   "source": [
    "from sklearn.ensemble import VotingClassifier\n",
    "from sklearn import model_selection\n",
    "from sklearn.model_selection import StratifiedKFold\n",
    "from mlxtend.plotting import plot_decision_regions\n",
    "import matplotlib.gridspec as gridspec\n",
    "import itertools\n",
    "\n",
    "# Training classifiers\n",
    "\n",
    "clf1 = SGDClassifier(alpha=0.01, average=False,\n",
    "                           class_weight='balanced', early_stopping=False,\n",
    "                           epsilon=0.1, eta0=0.0, fit_intercept=True,\n",
    "                           l1_ratio=0.15, learning_rate='optimal',\n",
    "                           loss='hinge', max_iter=1000, n_iter_no_change=5,\n",
    "                           n_jobs=None, penalty='l2')\n",
    "\n",
    "clf2 = KNeighborsClassifier(algorithm='auto', leaf_size=10, metric='minkowski', \n",
    "                                           metric_params=None, n_jobs=-1, n_neighbors=13, p=2,\n",
    "                                           weights='uniform')\n",
    "\n",
    "clf3 = RandomForestClassifier(bootstrap=True, class_weight=None,\n",
    "                                        criterion='gini', max_depth=10,\n",
    "                                        max_features='auto',\n",
    "                                        max_leaf_nodes=None,\n",
    "                                        min_impurity_split=None,\n",
    "                                        min_samples_leaf=1, min_samples_split=2,\n",
    "                                        min_weight_fraction_leaf=0.0,\n",
    "                                        n_estimators=500,random_state=101,\n",
    "                                        )\n",
    "\n",
    "clf4 = DecisionTreeClassifier(class_weight=None,criterion='gini',max_depth=5,splitter='best')\n",
    "\n",
    "eclf = VotingClassifier(estimators=[('SVM', clf1), ('KNN', clf2),\n",
    "                                    ('RF', clf3),('DT',clf4)],voting='hard',)\n",
    "\n",
    "labels = ['SVM', 'KNN (k=13)', 'Random Forest (depth=10)','Decision Tree (depth=5)','Ensemble']\n",
    "\n",
    "for clf, label in zip([clf1, clf2, clf3,clf4,eclf], labels):\n",
    "\n",
    "    scores = model_selection.cross_val_score(clf, X, Y, \n",
    "                                              cv=StratifiedKFold(n_splits=10, random_state=101), \n",
    "                                              scoring='accuracy')\n",
    "    print(\"Accuracy: %0.2f (+/- %0.2f) [%s]\" \n",
    "          % (scores.mean(), scores.std(), label))"
   ]
  },
  {
   "cell_type": "markdown",
   "metadata": {},
   "source": [
    "### Soft Voting"
   ]
  },
  {
   "cell_type": "code",
   "execution_count": 41,
   "metadata": {},
   "outputs": [
    {
     "name": "stdout",
     "output_type": "stream",
     "text": [
      "Accuracy: 0.67 (+/- 0.04) [SVM]\n",
      "Accuracy: 0.70 (+/- 0.01) [KNN (k=13)]\n",
      "Accuracy: 0.73 (+/- 0.00) [Random Forest (depth=10)]\n",
      "Accuracy: 0.72 (+/- 0.00) [Decision Tree (depth=5)]\n",
      "Accuracy: 0.72 (+/- 0.01) [Ensemble]\n"
     ]
    }
   ],
   "source": [
    "clf1_1 = SGDClassifier(alpha=0.01, average=False,\n",
    "                           class_weight='balanced', early_stopping=False,\n",
    "                           epsilon=0.1, eta0=0.0, fit_intercept=True,\n",
    "                           l1_ratio=0.15, learning_rate='optimal',\n",
    "                           loss='modified_huber', max_iter=1000, n_iter_no_change=5,\n",
    "                           n_jobs=None, penalty='l2')\n",
    "\n",
    "eclf_soft = VotingClassifier(estimators=[('SVM', clf1_1), ('KNN', clf2),\n",
    "                                    ('RF', clf3),('DT',clf4)],voting='soft',)\n",
    "\n",
    "labels = ['SVM', 'KNN (k=13)', 'Random Forest (depth=10)','Decision Tree (depth=5)','Ensemble']\n",
    "\n",
    "for clf, label in zip([clf1, clf2, clf3,clf4,eclf], labels):\n",
    "\n",
    "    scores = model_selection.cross_val_score(clf, X, Y, \n",
    "                                              cv=StratifiedKFold(n_splits=10, random_state=101), \n",
    "                                              scoring='accuracy')\n",
    "    print(\"Accuracy: %0.2f (+/- %0.2f) [%s]\" \n",
    "          % (scores.mean(), scores.std(), label))"
   ]
  },
  {
   "cell_type": "markdown",
   "metadata": {},
   "source": [
    "After reviewing both Hard and Soft voting we found that neither type produced better results than we already had."
   ]
  },
  {
   "cell_type": "code",
   "execution_count": null,
   "metadata": {},
   "outputs": [],
   "source": []
  }
 ],
 "metadata": {
  "@webio": {
   "lastCommId": null,
   "lastKernelId": null
  },
  "kernelspec": {
   "display_name": "Python 3",
   "language": "python",
   "name": "python3"
  },
  "language_info": {
   "codemirror_mode": {
    "name": "ipython",
    "version": 3
   },
   "file_extension": ".py",
   "mimetype": "text/x-python",
   "name": "python",
   "nbconvert_exporter": "python",
   "pygments_lexer": "ipython3",
   "version": "3.7.1"
  }
 },
 "nbformat": 4,
 "nbformat_minor": 2
}
