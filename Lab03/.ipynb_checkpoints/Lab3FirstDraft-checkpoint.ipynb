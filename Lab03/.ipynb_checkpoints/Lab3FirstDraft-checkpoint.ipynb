{
 "cells": [
  {
   "cell_type": "markdown",
   "metadata": {},
   "source": [
    "# Data Mining 7331 - Fall 2019\n",
    "## Lab 3 - Collaborative Filtering\n",
    "\n",
    "* **Allen Ansari**\n",
    "* **Chad Madding**\n",
    "* **Yongjun (Ian) Chu**"
   ]
  },
  {
   "cell_type": "markdown",
   "metadata": {},
   "source": [
    "## Introduction\n",
    "### Use collaborative filtering to build a custom recommendation system\n",
    "Different tasks will require different evaluation methods. Be as thorough as possible when analyzing the data you have chosen and use visualizations of the results to explain the performance and expected outcomes whenever possible. Guide the reader through your analysis with plenty of discussion of the results."
   ]
  },
  {
   "cell_type": "markdown",
   "metadata": {},
   "source": [
    "### Table of Contents<a id=\"top\"></a>\n",
    "* **[Business Understanding](#Business_Understanding)**\n",
    "    * **[10 points]** Describe the purpose of the data set you selected (i.e., why was this data collected in the first place?). How will you measure the effectiveness of a good algorithm? Why does your chosen validation method make sense for this specific dataset and the stakeholders needs?\n",
    "* **[Data Understanding - Description](#Data_Understanding_Description)**\n",
    "    * **[10 points]** Describe the meaning and type of data (scale, values, etc.) for each attribute in the data file. Verify data quality: Are there missing values? Duplicate data? Outliers? Are those mistakes? How do you deal with these problems?\n",
    "* **[Data Understanding - Visualization](#Data_Understanding_Visualization)**\n",
    "    * **[10 points]** Visualize any important attributes appropriately. Important: Provide an interpretation for any charts or graphs.\n",
    "* **[Modeling and Evaluation - Train & Adjust Parameters](#Modeling_and_Evaluation_Train_and_adjust_parameters)**\n",
    "    * **[10 points]** Create user-item matrices or item-item matrices using collaborative filtering.\n",
    "* **[Modeling and Evaluation - Evaluate & Compare](#Modeling_and_Evaluation_Evaluate_and_Compare)**\n",
    "    * **[10 points]** Determine performance of the recommendations using different performance measures and explain what each measure.\n",
    "* **[Modeling and Evaluation - Visualize Results](#Modeling_and_Evaluation_Visualize_Results)**\n",
    "    * **[10 points]** Use tables/visualization to discuss the found results. Explain each visualization in detail.\n",
    "* **[Modeling and Evaluation - Summarize The Ramifications](#Modeling_and_Evaluation_Summarize_The_Ramifications)**\n",
    "    * **[20 points]** Describe your results. What findings are the most interesting and why?\n",
    "* **[Deployment](#Deployment)**\n",
    "    * **[10 points]** Be critical of your performance and tell the reader how you current model might be usable by other parties. Did you achieve your goals? If not, can you reign in the utility of your modeling?\n",
    "        - How useful is your model for interested parties (i.e., the companies or organizations that might want to use it)?\n",
    "        - How would your deploy your model for interested parties?\n",
    "        - What other data should be collected?\n",
    "        - How often would the model need to be updated, etc.?\n",
    "* **[Exceptional Work](#Exceptional_Work)**\n",
    "    * **[10 points]** You have free reign to provide additional analyses or combine analyses."
   ]
  },
  {
   "cell_type": "markdown",
   "metadata": {},
   "source": [
    "<a href=\"#top\">Back to Top</a>\n",
    "### Business Understanding<a id=\"Business Understanding\"></a>\n",
    "* Describe the purpose of the data set you selected (i.e., why was this data collected in the first place?). How will you measure the effectiveness of a good algorithm? Why does your chosen validation method make sense for this specific dataset and the stakeholders needs?"
   ]
  },
  {
   "cell_type": "markdown",
   "metadata": {},
   "source": [
    "<a href=\"#top\">Back to Top</a>\n",
    "### Data Understanding - Description<a id=\"Data_Understanding_Description\"></a>\n",
    "* Describe the meaning and type of data (scale, values, etc.) for each attribute in the data file. Verify data quality: Are there missing values? Duplicate data? Outliers? Are those mistakes? How do you deal with these problems?\n",
    "\n",
    "This dataset (ml-20m) describes 5-star rating and free-text tagging activity from [MovieLens](http://movielens.org), a movie recommendation service. It contains 20000263 ratings and 465564 tag applications across 27278 movies. These data were created by 138493 users between January 09, 1995 and March 31, 2015. This dataset was generated on March 31, 2015, and updated on October 17, 2016 to update links.csv and add genome-* files.\n",
    "\n",
    "Users were selected at random for inclusion. All selected users had rated at least 20 movies. No demographic information is included. Each user is represented by an id, and no other information is provided.\n",
    "\n",
    "The data are contained in six files, `genome-scores.csv`, `genome-tags.csv`, `links.csv`, `movies.csv`, `ratings.csv` and `tags.csv`. More details about the contents and use of all these files follows.\n",
    "\n",
    "This and other GroupLens data sets are publicly available for download at <http://grouplens.org/datasets/>."
   ]
  },
  {
   "cell_type": "markdown",
   "metadata": {},
   "source": [
    "Formatting and Encoding\n",
    "-----------------------\n",
    "The dataset files are written as [comma-separated values](http://en.wikipedia.org/wiki/Comma-separated_values) files with a single header row. Columns that contain commas (`,`) are escaped using double-quotes (`\"`). These files are encoded as UTF-8. If accented characters in movie titles or tag values (e.g. Misérables, Les (1995)) display incorrectly, make sure that any program reading the data, such as a text editor, terminal, or script, is configured for UTF-8."
   ]
  },
  {
   "cell_type": "markdown",
   "metadata": {},
   "source": [
    "### Imports Of Libraries"
   ]
  },
  {
   "cell_type": "code",
   "execution_count": 1,
   "metadata": {
    "scrolled": true
   },
   "outputs": [],
   "source": [
    "import numpy as np \n",
    "import pandas as pd\n",
    "import matplotlib.pyplot as plt\n",
    "from scipy import spatial\n",
    "\n",
    "#enable inline plotting\n",
    "%matplotlib inline\n",
    "\n",
    "import warnings\n",
    "warnings.filterwarnings('ignore')\n",
    "\n",
    "import re\n",
    "import os"
   ]
  },
  {
   "cell_type": "markdown",
   "metadata": {},
   "source": [
    "### Imports Of Data"
   ]
  },
  {
   "cell_type": "code",
   "execution_count": 2,
   "metadata": {},
   "outputs": [
    {
     "name": "stdout",
     "output_type": "stream",
     "text": [
      "['genome-scores.csv', 'genome-tags.csv', 'graphlabDF.csv', 'links.csv', 'mergedDF.csv', 'movies.csv', 'ratings.csv', 'README.txt', 'tags.csv']\n"
     ]
    }
   ],
   "source": [
    "print(os.listdir(\"ml-20m\"))\n",
    "\n",
    "genomescores = pd.read_csv(\"ml-20m/genome-scores.csv\")\n",
    "genometags = pd.read_csv(\"ml-20m/genome-tags.csv\")\n",
    "links = pd.read_csv(\"ml-20m/links.csv\")\n",
    "movies = pd.read_csv(\"ml-20m/movies.csv\")\n",
    "ratings = pd.read_csv(\"ml-20m/ratings.csv\")\n",
    "tags = pd.read_csv(\"ml-20m/tags.csv\")"
   ]
  },
  {
   "cell_type": "markdown",
   "metadata": {},
   "source": [
    "Movie Ids\n",
    "---------\n",
    "Only movies with at least one rating or tag are included in the dataset. These movie ids are consistent with those used on the MovieLens web site (e.g., id `1` corresponds to the URL <https://movielens.org/movies/1>). Movie ids are consistent between `ratings.csv`, `tags.csv`, `movies.csv`, and `links.csv` (i.e., the same id refers to the same movie across these four data files)."
   ]
  },
  {
   "cell_type": "markdown",
   "metadata": {},
   "source": [
    "User Ids\n",
    "--------\n",
    "MovieLens users were selected at random for inclusion. Their ids have been anonymized. User ids are consistent between `ratings.csv` and `tags.csv` (i.e., the same id refers to the same user across the two files)."
   ]
  },
  {
   "cell_type": "markdown",
   "metadata": {},
   "source": [
    "Tag Genome (genome-scores.csv and genome-tags.csv)\n",
    "-------------------------------------------------\n",
    "This data set includes a current copy of the Tag Genome.\n",
    "\n",
    "[genome-paper]: http://files.grouplens.org/papers/tag_genome.pdf\n",
    "\n",
    "The tag genome is a data structure that contains tag relevance scores for movies.  The structure is a dense matrix: each movie in the genome has a value for *every* tag in the genome.\n",
    "\n",
    "As described in [this article][genome-paper], the tag genome encodes how strongly movies exhibit particular properties represented by tags (atmospheric, thought-provoking, realistic, etc.). The tag genome was computed using a machine learning algorithm on user-contributed content including tags, ratings, and textual reviews.\n",
    "\n",
    "The genome is split into two files.  The file `genome-scores.csv` contains movie-tag relevance data in the following format:\n",
    "\n",
    "    movieId,tagId,relevance\n",
    "\n",
    "The second file, `genome-tags.csv`, provides the tag descriptions for the tag IDs in the genome file, in the following format:\n",
    "\n",
    "    tagId,tag\n",
    "\n",
    "The `tagId` values are generated when the data set is exported, so they may vary from version to version of the MovieLens data sets."
   ]
  },
  {
   "cell_type": "code",
   "execution_count": 3,
   "metadata": {},
   "outputs": [
    {
     "name": "stdout",
     "output_type": "stream",
     "text": [
      "(11709768, 3)\n",
      "<class 'pandas.core.frame.DataFrame'>\n"
     ]
    },
    {
     "data": {
      "text/html": [
       "<div>\n",
       "<style scoped>\n",
       "    .dataframe tbody tr th:only-of-type {\n",
       "        vertical-align: middle;\n",
       "    }\n",
       "\n",
       "    .dataframe tbody tr th {\n",
       "        vertical-align: top;\n",
       "    }\n",
       "\n",
       "    .dataframe thead th {\n",
       "        text-align: right;\n",
       "    }\n",
       "</style>\n",
       "<table border=\"1\" class=\"dataframe\">\n",
       "  <thead>\n",
       "    <tr style=\"text-align: right;\">\n",
       "      <th></th>\n",
       "      <th>movieId</th>\n",
       "      <th>tagId</th>\n",
       "      <th>relevance</th>\n",
       "    </tr>\n",
       "  </thead>\n",
       "  <tbody>\n",
       "    <tr>\n",
       "      <th>0</th>\n",
       "      <td>1</td>\n",
       "      <td>1</td>\n",
       "      <td>0.02500</td>\n",
       "    </tr>\n",
       "    <tr>\n",
       "      <th>1</th>\n",
       "      <td>1</td>\n",
       "      <td>2</td>\n",
       "      <td>0.02500</td>\n",
       "    </tr>\n",
       "    <tr>\n",
       "      <th>2</th>\n",
       "      <td>1</td>\n",
       "      <td>3</td>\n",
       "      <td>0.05775</td>\n",
       "    </tr>\n",
       "    <tr>\n",
       "      <th>3</th>\n",
       "      <td>1</td>\n",
       "      <td>4</td>\n",
       "      <td>0.09675</td>\n",
       "    </tr>\n",
       "    <tr>\n",
       "      <th>4</th>\n",
       "      <td>1</td>\n",
       "      <td>5</td>\n",
       "      <td>0.14675</td>\n",
       "    </tr>\n",
       "  </tbody>\n",
       "</table>\n",
       "</div>"
      ],
      "text/plain": [
       "   movieId  tagId  relevance\n",
       "0        1      1    0.02500\n",
       "1        1      2    0.02500\n",
       "2        1      3    0.05775\n",
       "3        1      4    0.09675\n",
       "4        1      5    0.14675"
      ]
     },
     "execution_count": 3,
     "metadata": {},
     "output_type": "execute_result"
    }
   ],
   "source": [
    "# Show the dimension and the first 5 rows of the dataset\n",
    "print(genomescores.shape)\n",
    "print(type(genomescores))\n",
    "genomescores.head(5)"
   ]
  },
  {
   "cell_type": "code",
   "execution_count": 4,
   "metadata": {},
   "outputs": [
    {
     "name": "stdout",
     "output_type": "stream",
     "text": [
      "(1128, 2)\n"
     ]
    },
    {
     "data": {
      "text/html": [
       "<div>\n",
       "<style scoped>\n",
       "    .dataframe tbody tr th:only-of-type {\n",
       "        vertical-align: middle;\n",
       "    }\n",
       "\n",
       "    .dataframe tbody tr th {\n",
       "        vertical-align: top;\n",
       "    }\n",
       "\n",
       "    .dataframe thead th {\n",
       "        text-align: right;\n",
       "    }\n",
       "</style>\n",
       "<table border=\"1\" class=\"dataframe\">\n",
       "  <thead>\n",
       "    <tr style=\"text-align: right;\">\n",
       "      <th></th>\n",
       "      <th>tagId</th>\n",
       "      <th>tag</th>\n",
       "    </tr>\n",
       "  </thead>\n",
       "  <tbody>\n",
       "    <tr>\n",
       "      <th>0</th>\n",
       "      <td>1</td>\n",
       "      <td>007</td>\n",
       "    </tr>\n",
       "    <tr>\n",
       "      <th>1</th>\n",
       "      <td>2</td>\n",
       "      <td>007 (series)</td>\n",
       "    </tr>\n",
       "    <tr>\n",
       "      <th>2</th>\n",
       "      <td>3</td>\n",
       "      <td>18th century</td>\n",
       "    </tr>\n",
       "    <tr>\n",
       "      <th>3</th>\n",
       "      <td>4</td>\n",
       "      <td>1920s</td>\n",
       "    </tr>\n",
       "    <tr>\n",
       "      <th>4</th>\n",
       "      <td>5</td>\n",
       "      <td>1930s</td>\n",
       "    </tr>\n",
       "  </tbody>\n",
       "</table>\n",
       "</div>"
      ],
      "text/plain": [
       "   tagId           tag\n",
       "0      1           007\n",
       "1      2  007 (series)\n",
       "2      3  18th century\n",
       "3      4         1920s\n",
       "4      5         1930s"
      ]
     },
     "execution_count": 4,
     "metadata": {},
     "output_type": "execute_result"
    }
   ],
   "source": [
    "# Show the dimension and the first 5 rows of the dataset\n",
    "print(genometags.shape)\n",
    "genometags.head(5)"
   ]
  },
  {
   "cell_type": "markdown",
   "metadata": {},
   "source": [
    "Links Data File Structure (links.csv)\n",
    "---------------------------------------\n",
    "Identifiers that can be used to link to other sources of movie data are contained in the file `links.csv`. Each line of this file after the header row represents one movie, and has the following format:\n",
    "\n",
    "    movieId,imdbId,tmdbId\n",
    "\n",
    "movieId is an identifier for movies used by <https://movielens.org>. E.g., the movie Toy Story has the link <https://movielens.org/movies/1>.\n",
    "\n",
    "imdbId is an identifier for movies used by <http://www.imdb.com>. E.g., the movie Toy Story has the link <http://www.imdb.com/title/tt0114709/>.\n",
    "\n",
    "tmdbId is an identifier for movies used by <https://www.themoviedb.org>. E.g., the movie Toy Story has the link <https://www.themoviedb.org/movie/862>.\n",
    "\n",
    "Use of the resources listed above is subject to the terms of each provider."
   ]
  },
  {
   "cell_type": "code",
   "execution_count": 5,
   "metadata": {},
   "outputs": [
    {
     "name": "stdout",
     "output_type": "stream",
     "text": [
      "(27278, 3)\n"
     ]
    },
    {
     "data": {
      "text/html": [
       "<div>\n",
       "<style scoped>\n",
       "    .dataframe tbody tr th:only-of-type {\n",
       "        vertical-align: middle;\n",
       "    }\n",
       "\n",
       "    .dataframe tbody tr th {\n",
       "        vertical-align: top;\n",
       "    }\n",
       "\n",
       "    .dataframe thead th {\n",
       "        text-align: right;\n",
       "    }\n",
       "</style>\n",
       "<table border=\"1\" class=\"dataframe\">\n",
       "  <thead>\n",
       "    <tr style=\"text-align: right;\">\n",
       "      <th></th>\n",
       "      <th>movieId</th>\n",
       "      <th>imdbId</th>\n",
       "      <th>tmdbId</th>\n",
       "    </tr>\n",
       "  </thead>\n",
       "  <tbody>\n",
       "    <tr>\n",
       "      <th>0</th>\n",
       "      <td>1</td>\n",
       "      <td>114709</td>\n",
       "      <td>862.0</td>\n",
       "    </tr>\n",
       "    <tr>\n",
       "      <th>1</th>\n",
       "      <td>2</td>\n",
       "      <td>113497</td>\n",
       "      <td>8844.0</td>\n",
       "    </tr>\n",
       "    <tr>\n",
       "      <th>2</th>\n",
       "      <td>3</td>\n",
       "      <td>113228</td>\n",
       "      <td>15602.0</td>\n",
       "    </tr>\n",
       "    <tr>\n",
       "      <th>3</th>\n",
       "      <td>4</td>\n",
       "      <td>114885</td>\n",
       "      <td>31357.0</td>\n",
       "    </tr>\n",
       "    <tr>\n",
       "      <th>4</th>\n",
       "      <td>5</td>\n",
       "      <td>113041</td>\n",
       "      <td>11862.0</td>\n",
       "    </tr>\n",
       "  </tbody>\n",
       "</table>\n",
       "</div>"
      ],
      "text/plain": [
       "   movieId  imdbId   tmdbId\n",
       "0        1  114709    862.0\n",
       "1        2  113497   8844.0\n",
       "2        3  113228  15602.0\n",
       "3        4  114885  31357.0\n",
       "4        5  113041  11862.0"
      ]
     },
     "execution_count": 5,
     "metadata": {},
     "output_type": "execute_result"
    }
   ],
   "source": [
    "# Show the dimension and the first 5 rows of the dataset\n",
    "print(links.shape)\n",
    "links.head(5)"
   ]
  },
  {
   "cell_type": "markdown",
   "metadata": {},
   "source": [
    "Movies Data File Structure (movies.csv)\n",
    "---------------------------------------\n",
    "Movie information is contained in the file `movies.csv`. Each line of this file after the header row represents one movie, and has the following format:\n",
    "\n",
    "    movieId,title,genres\n",
    "\n",
    "Movie titles are entered manually or imported from <https://www.themoviedb.org/>, and include the year of release in parentheses. Errors and inconsistencies may exist in these titles.\n",
    "\n",
    "Genres are a pipe-separated list, and are selected from the following:\n",
    "\n",
    "* Action\n",
    "* Adventure\n",
    "* Animation\n",
    "* Children's\n",
    "* Comedy\n",
    "* Crime\n",
    "* Documentary\n",
    "* Drama\n",
    "* Fantasy\n",
    "* Film-Noir\n",
    "* Horror\n",
    "* Musical\n",
    "* Mystery\n",
    "* Romance\n",
    "* Sci-Fi\n",
    "* Thriller\n",
    "* War\n",
    "* Western\n",
    "* (no genres listed)"
   ]
  },
  {
   "cell_type": "code",
   "execution_count": 6,
   "metadata": {},
   "outputs": [
    {
     "name": "stdout",
     "output_type": "stream",
     "text": [
      "(27278, 3)\n"
     ]
    },
    {
     "data": {
      "text/html": [
       "<div>\n",
       "<style scoped>\n",
       "    .dataframe tbody tr th:only-of-type {\n",
       "        vertical-align: middle;\n",
       "    }\n",
       "\n",
       "    .dataframe tbody tr th {\n",
       "        vertical-align: top;\n",
       "    }\n",
       "\n",
       "    .dataframe thead th {\n",
       "        text-align: right;\n",
       "    }\n",
       "</style>\n",
       "<table border=\"1\" class=\"dataframe\">\n",
       "  <thead>\n",
       "    <tr style=\"text-align: right;\">\n",
       "      <th></th>\n",
       "      <th>movieId</th>\n",
       "      <th>title</th>\n",
       "      <th>genres</th>\n",
       "    </tr>\n",
       "  </thead>\n",
       "  <tbody>\n",
       "    <tr>\n",
       "      <th>0</th>\n",
       "      <td>1</td>\n",
       "      <td>Toy Story (1995)</td>\n",
       "      <td>Adventure|Animation|Children|Comedy|Fantasy</td>\n",
       "    </tr>\n",
       "    <tr>\n",
       "      <th>1</th>\n",
       "      <td>2</td>\n",
       "      <td>Jumanji (1995)</td>\n",
       "      <td>Adventure|Children|Fantasy</td>\n",
       "    </tr>\n",
       "    <tr>\n",
       "      <th>2</th>\n",
       "      <td>3</td>\n",
       "      <td>Grumpier Old Men (1995)</td>\n",
       "      <td>Comedy|Romance</td>\n",
       "    </tr>\n",
       "    <tr>\n",
       "      <th>3</th>\n",
       "      <td>4</td>\n",
       "      <td>Waiting to Exhale (1995)</td>\n",
       "      <td>Comedy|Drama|Romance</td>\n",
       "    </tr>\n",
       "    <tr>\n",
       "      <th>4</th>\n",
       "      <td>5</td>\n",
       "      <td>Father of the Bride Part II (1995)</td>\n",
       "      <td>Comedy</td>\n",
       "    </tr>\n",
       "  </tbody>\n",
       "</table>\n",
       "</div>"
      ],
      "text/plain": [
       "   movieId                               title  \\\n",
       "0        1                    Toy Story (1995)   \n",
       "1        2                      Jumanji (1995)   \n",
       "2        3             Grumpier Old Men (1995)   \n",
       "3        4            Waiting to Exhale (1995)   \n",
       "4        5  Father of the Bride Part II (1995)   \n",
       "\n",
       "                                        genres  \n",
       "0  Adventure|Animation|Children|Comedy|Fantasy  \n",
       "1                   Adventure|Children|Fantasy  \n",
       "2                               Comedy|Romance  \n",
       "3                         Comedy|Drama|Romance  \n",
       "4                                       Comedy  "
      ]
     },
     "execution_count": 6,
     "metadata": {},
     "output_type": "execute_result"
    }
   ],
   "source": [
    "# Show the dimension and the first 5 rows of the dataset\n",
    "print(movies.shape)\n",
    "movies.head(5)"
   ]
  },
  {
   "cell_type": "markdown",
   "metadata": {},
   "source": [
    "Ratings Data File Structure (ratings.csv)\n",
    "-----------------------------------------\n",
    "All ratings are contained in the file `ratings.csv`. Each line of this file after the header row represents one rating of one movie by one user, and has the following format:\n",
    "\n",
    "    userId,movieId,rating,timestamp\n",
    "\n",
    "The lines within this file are ordered first by userId, then, within user, by movieId.\n",
    "\n",
    "Ratings are made on a 5-star scale, with half-star increments (0.5 stars - 5.0 stars).\n",
    "\n",
    "Timestamps represent seconds since midnight Coordinated Universal Time (UTC) of January 1, 1970."
   ]
  },
  {
   "cell_type": "code",
   "execution_count": 7,
   "metadata": {},
   "outputs": [
    {
     "name": "stdout",
     "output_type": "stream",
     "text": [
      "(20000263, 4)\n"
     ]
    },
    {
     "data": {
      "text/html": [
       "<div>\n",
       "<style scoped>\n",
       "    .dataframe tbody tr th:only-of-type {\n",
       "        vertical-align: middle;\n",
       "    }\n",
       "\n",
       "    .dataframe tbody tr th {\n",
       "        vertical-align: top;\n",
       "    }\n",
       "\n",
       "    .dataframe thead th {\n",
       "        text-align: right;\n",
       "    }\n",
       "</style>\n",
       "<table border=\"1\" class=\"dataframe\">\n",
       "  <thead>\n",
       "    <tr style=\"text-align: right;\">\n",
       "      <th></th>\n",
       "      <th>userId</th>\n",
       "      <th>movieId</th>\n",
       "      <th>rating</th>\n",
       "      <th>timestamp</th>\n",
       "    </tr>\n",
       "  </thead>\n",
       "  <tbody>\n",
       "    <tr>\n",
       "      <th>0</th>\n",
       "      <td>1</td>\n",
       "      <td>2</td>\n",
       "      <td>3.5</td>\n",
       "      <td>1112486027</td>\n",
       "    </tr>\n",
       "    <tr>\n",
       "      <th>1</th>\n",
       "      <td>1</td>\n",
       "      <td>29</td>\n",
       "      <td>3.5</td>\n",
       "      <td>1112484676</td>\n",
       "    </tr>\n",
       "    <tr>\n",
       "      <th>2</th>\n",
       "      <td>1</td>\n",
       "      <td>32</td>\n",
       "      <td>3.5</td>\n",
       "      <td>1112484819</td>\n",
       "    </tr>\n",
       "    <tr>\n",
       "      <th>3</th>\n",
       "      <td>1</td>\n",
       "      <td>47</td>\n",
       "      <td>3.5</td>\n",
       "      <td>1112484727</td>\n",
       "    </tr>\n",
       "    <tr>\n",
       "      <th>4</th>\n",
       "      <td>1</td>\n",
       "      <td>50</td>\n",
       "      <td>3.5</td>\n",
       "      <td>1112484580</td>\n",
       "    </tr>\n",
       "  </tbody>\n",
       "</table>\n",
       "</div>"
      ],
      "text/plain": [
       "   userId  movieId  rating   timestamp\n",
       "0       1        2     3.5  1112486027\n",
       "1       1       29     3.5  1112484676\n",
       "2       1       32     3.5  1112484819\n",
       "3       1       47     3.5  1112484727\n",
       "4       1       50     3.5  1112484580"
      ]
     },
     "execution_count": 7,
     "metadata": {},
     "output_type": "execute_result"
    }
   ],
   "source": [
    "# Show the dimension and the first 5 rows of the dataset\n",
    "print(ratings.shape)\n",
    "ratings.head(5)"
   ]
  },
  {
   "cell_type": "markdown",
   "metadata": {},
   "source": [
    "Tags Data File Structure (tags.csv)\n",
    "-----------------------------------\n",
    "All tags are contained in the file `tags.csv`. Each line of this file after the header row represents one tag applied to one movie by one user, and has the following format:\n",
    "\n",
    "    userId,movieId,tag,timestamp\n",
    "\n",
    "The lines within this file are ordered first by userId, then, within user, by movieId.\n",
    "\n",
    "Tags are user-generated metadata about movies. Each tag is typically a single word or short phrase. The meaning, value, and purpose of a particular tag is determined by each user.\n",
    "\n",
    "Timestamps represent seconds since midnight Coordinated Universal Time (UTC) of January 1, 1970."
   ]
  },
  {
   "cell_type": "code",
   "execution_count": 8,
   "metadata": {},
   "outputs": [
    {
     "name": "stdout",
     "output_type": "stream",
     "text": [
      "(465564, 4)\n"
     ]
    },
    {
     "data": {
      "text/html": [
       "<div>\n",
       "<style scoped>\n",
       "    .dataframe tbody tr th:only-of-type {\n",
       "        vertical-align: middle;\n",
       "    }\n",
       "\n",
       "    .dataframe tbody tr th {\n",
       "        vertical-align: top;\n",
       "    }\n",
       "\n",
       "    .dataframe thead th {\n",
       "        text-align: right;\n",
       "    }\n",
       "</style>\n",
       "<table border=\"1\" class=\"dataframe\">\n",
       "  <thead>\n",
       "    <tr style=\"text-align: right;\">\n",
       "      <th></th>\n",
       "      <th>userId</th>\n",
       "      <th>movieId</th>\n",
       "      <th>tag</th>\n",
       "      <th>timestamp</th>\n",
       "    </tr>\n",
       "  </thead>\n",
       "  <tbody>\n",
       "    <tr>\n",
       "      <th>0</th>\n",
       "      <td>18</td>\n",
       "      <td>4141</td>\n",
       "      <td>Mark Waters</td>\n",
       "      <td>1240597180</td>\n",
       "    </tr>\n",
       "    <tr>\n",
       "      <th>1</th>\n",
       "      <td>65</td>\n",
       "      <td>208</td>\n",
       "      <td>dark hero</td>\n",
       "      <td>1368150078</td>\n",
       "    </tr>\n",
       "    <tr>\n",
       "      <th>2</th>\n",
       "      <td>65</td>\n",
       "      <td>353</td>\n",
       "      <td>dark hero</td>\n",
       "      <td>1368150079</td>\n",
       "    </tr>\n",
       "    <tr>\n",
       "      <th>3</th>\n",
       "      <td>65</td>\n",
       "      <td>521</td>\n",
       "      <td>noir thriller</td>\n",
       "      <td>1368149983</td>\n",
       "    </tr>\n",
       "    <tr>\n",
       "      <th>4</th>\n",
       "      <td>65</td>\n",
       "      <td>592</td>\n",
       "      <td>dark hero</td>\n",
       "      <td>1368150078</td>\n",
       "    </tr>\n",
       "  </tbody>\n",
       "</table>\n",
       "</div>"
      ],
      "text/plain": [
       "   userId  movieId            tag   timestamp\n",
       "0      18     4141    Mark Waters  1240597180\n",
       "1      65      208      dark hero  1368150078\n",
       "2      65      353      dark hero  1368150079\n",
       "3      65      521  noir thriller  1368149983\n",
       "4      65      592      dark hero  1368150078"
      ]
     },
     "execution_count": 8,
     "metadata": {},
     "output_type": "execute_result"
    }
   ],
   "source": [
    "# Show the dimension and the first 5 rows of the dataset\n",
    "print(tags.shape)\n",
    "tags.head(5)"
   ]
  },
  {
   "cell_type": "markdown",
   "metadata": {},
   "source": [
    "## Merge Movies, Tags and Ratings Dataframes into mergedDF"
   ]
  },
  {
   "cell_type": "markdown",
   "metadata": {},
   "source": [
    "##### Remove the timestamp data and create a year column"
   ]
  },
  {
   "cell_type": "code",
   "execution_count": 9,
   "metadata": {},
   "outputs": [
    {
     "data": {
      "text/html": [
       "<div>\n",
       "<style scoped>\n",
       "    .dataframe tbody tr th:only-of-type {\n",
       "        vertical-align: middle;\n",
       "    }\n",
       "\n",
       "    .dataframe tbody tr th {\n",
       "        vertical-align: top;\n",
       "    }\n",
       "\n",
       "    .dataframe thead th {\n",
       "        text-align: right;\n",
       "    }\n",
       "</style>\n",
       "<table border=\"1\" class=\"dataframe\">\n",
       "  <thead>\n",
       "    <tr style=\"text-align: right;\">\n",
       "      <th></th>\n",
       "      <th>movieId</th>\n",
       "      <th>title</th>\n",
       "      <th>genres</th>\n",
       "      <th>year</th>\n",
       "    </tr>\n",
       "  </thead>\n",
       "  <tbody>\n",
       "    <tr>\n",
       "      <th>0</th>\n",
       "      <td>1</td>\n",
       "      <td>Toy Story (1995)</td>\n",
       "      <td>Adventure|Animation|Children|Comedy|Fantasy</td>\n",
       "      <td>1995</td>\n",
       "    </tr>\n",
       "    <tr>\n",
       "      <th>1</th>\n",
       "      <td>2</td>\n",
       "      <td>Jumanji (1995)</td>\n",
       "      <td>Adventure|Children|Fantasy</td>\n",
       "      <td>1995</td>\n",
       "    </tr>\n",
       "    <tr>\n",
       "      <th>2</th>\n",
       "      <td>3</td>\n",
       "      <td>Grumpier Old Men (1995)</td>\n",
       "      <td>Comedy|Romance</td>\n",
       "      <td>1995</td>\n",
       "    </tr>\n",
       "    <tr>\n",
       "      <th>3</th>\n",
       "      <td>4</td>\n",
       "      <td>Waiting to Exhale (1995)</td>\n",
       "      <td>Comedy|Drama|Romance</td>\n",
       "      <td>1995</td>\n",
       "    </tr>\n",
       "    <tr>\n",
       "      <th>4</th>\n",
       "      <td>5</td>\n",
       "      <td>Father of the Bride Part II (1995)</td>\n",
       "      <td>Comedy</td>\n",
       "      <td>1995</td>\n",
       "    </tr>\n",
       "  </tbody>\n",
       "</table>\n",
       "</div>"
      ],
      "text/plain": [
       "   movieId                               title  \\\n",
       "0        1                    Toy Story (1995)   \n",
       "1        2                      Jumanji (1995)   \n",
       "2        3             Grumpier Old Men (1995)   \n",
       "3        4            Waiting to Exhale (1995)   \n",
       "4        5  Father of the Bride Part II (1995)   \n",
       "\n",
       "                                        genres  year  \n",
       "0  Adventure|Animation|Children|Comedy|Fantasy  1995  \n",
       "1                   Adventure|Children|Fantasy  1995  \n",
       "2                               Comedy|Romance  1995  \n",
       "3                         Comedy|Drama|Romance  1995  \n",
       "4                                       Comedy  1995  "
      ]
     },
     "execution_count": 9,
     "metadata": {},
     "output_type": "execute_result"
    }
   ],
   "source": [
    "#for this lab we will not be using the timestamp data\n",
    "del ratings['timestamp']\n",
    "del tags['timestamp']\n",
    "\n",
    "#create year column\n",
    "movies['year'] = movies['title'].str.extract('.*\\((.*)\\).*', expand=True)\n",
    "movies.head()"
   ]
  },
  {
   "cell_type": "markdown",
   "metadata": {},
   "source": [
    "##### Merge movies with tags to get a more full dataset"
   ]
  },
  {
   "cell_type": "code",
   "execution_count": 10,
   "metadata": {},
   "outputs": [
    {
     "data": {
      "text/html": [
       "<div>\n",
       "<style scoped>\n",
       "    .dataframe tbody tr th:only-of-type {\n",
       "        vertical-align: middle;\n",
       "    }\n",
       "\n",
       "    .dataframe tbody tr th {\n",
       "        vertical-align: top;\n",
       "    }\n",
       "\n",
       "    .dataframe thead th {\n",
       "        text-align: right;\n",
       "    }\n",
       "</style>\n",
       "<table border=\"1\" class=\"dataframe\">\n",
       "  <thead>\n",
       "    <tr style=\"text-align: right;\">\n",
       "      <th></th>\n",
       "      <th>movieId</th>\n",
       "      <th>title</th>\n",
       "      <th>genres</th>\n",
       "      <th>year</th>\n",
       "      <th>userId</th>\n",
       "      <th>tag</th>\n",
       "    </tr>\n",
       "  </thead>\n",
       "  <tbody>\n",
       "    <tr>\n",
       "      <th>0</th>\n",
       "      <td>1</td>\n",
       "      <td>Toy Story (1995)</td>\n",
       "      <td>Adventure|Animation|Children|Comedy|Fantasy</td>\n",
       "      <td>1995</td>\n",
       "      <td>1644</td>\n",
       "      <td>Watched</td>\n",
       "    </tr>\n",
       "    <tr>\n",
       "      <th>1</th>\n",
       "      <td>1</td>\n",
       "      <td>Toy Story (1995)</td>\n",
       "      <td>Adventure|Animation|Children|Comedy|Fantasy</td>\n",
       "      <td>1995</td>\n",
       "      <td>1741</td>\n",
       "      <td>computer animation</td>\n",
       "    </tr>\n",
       "    <tr>\n",
       "      <th>2</th>\n",
       "      <td>1</td>\n",
       "      <td>Toy Story (1995)</td>\n",
       "      <td>Adventure|Animation|Children|Comedy|Fantasy</td>\n",
       "      <td>1995</td>\n",
       "      <td>1741</td>\n",
       "      <td>Disney animated feature</td>\n",
       "    </tr>\n",
       "    <tr>\n",
       "      <th>3</th>\n",
       "      <td>1</td>\n",
       "      <td>Toy Story (1995)</td>\n",
       "      <td>Adventure|Animation|Children|Comedy|Fantasy</td>\n",
       "      <td>1995</td>\n",
       "      <td>1741</td>\n",
       "      <td>Pixar animation</td>\n",
       "    </tr>\n",
       "    <tr>\n",
       "      <th>4</th>\n",
       "      <td>1</td>\n",
       "      <td>Toy Story (1995)</td>\n",
       "      <td>Adventure|Animation|Children|Comedy|Fantasy</td>\n",
       "      <td>1995</td>\n",
       "      <td>1741</td>\n",
       "      <td>TÃ©a Leoni does not star in this movie</td>\n",
       "    </tr>\n",
       "  </tbody>\n",
       "</table>\n",
       "</div>"
      ],
      "text/plain": [
       "   movieId             title                                       genres  \\\n",
       "0        1  Toy Story (1995)  Adventure|Animation|Children|Comedy|Fantasy   \n",
       "1        1  Toy Story (1995)  Adventure|Animation|Children|Comedy|Fantasy   \n",
       "2        1  Toy Story (1995)  Adventure|Animation|Children|Comedy|Fantasy   \n",
       "3        1  Toy Story (1995)  Adventure|Animation|Children|Comedy|Fantasy   \n",
       "4        1  Toy Story (1995)  Adventure|Animation|Children|Comedy|Fantasy   \n",
       "\n",
       "   year  userId                                     tag  \n",
       "0  1995    1644                                 Watched  \n",
       "1  1995    1741                      computer animation  \n",
       "2  1995    1741                 Disney animated feature  \n",
       "3  1995    1741                         Pixar animation  \n",
       "4  1995    1741  TÃ©a Leoni does not star in this movie  "
      ]
     },
     "execution_count": 10,
     "metadata": {},
     "output_type": "execute_result"
    }
   ],
   "source": [
    "#merge movies with tags to get a more full dataset\n",
    "movies_tag = movies.merge(tags, on='movieId', how='inner')\n",
    "movies_tag.head()"
   ]
  },
  {
   "cell_type": "code",
   "execution_count": 11,
   "metadata": {
    "scrolled": true
   },
   "outputs": [
    {
     "data": {
      "text/html": [
       "<div>\n",
       "<style scoped>\n",
       "    .dataframe tbody tr th:only-of-type {\n",
       "        vertical-align: middle;\n",
       "    }\n",
       "\n",
       "    .dataframe tbody tr th {\n",
       "        vertical-align: top;\n",
       "    }\n",
       "\n",
       "    .dataframe thead th {\n",
       "        text-align: right;\n",
       "    }\n",
       "</style>\n",
       "<table border=\"1\" class=\"dataframe\">\n",
       "  <thead>\n",
       "    <tr style=\"text-align: right;\">\n",
       "      <th></th>\n",
       "      <th>movieId</th>\n",
       "      <th>title</th>\n",
       "      <th>genres</th>\n",
       "      <th>year</th>\n",
       "      <th>userId</th>\n",
       "      <th>tag</th>\n",
       "      <th>rating</th>\n",
       "    </tr>\n",
       "  </thead>\n",
       "  <tbody>\n",
       "    <tr>\n",
       "      <th>0</th>\n",
       "      <td>1</td>\n",
       "      <td>Toy Story (1995)</td>\n",
       "      <td>Adventure|Animation|Children|Comedy|Fantasy</td>\n",
       "      <td>1995</td>\n",
       "      <td>1644</td>\n",
       "      <td>Watched</td>\n",
       "      <td>3.5</td>\n",
       "    </tr>\n",
       "    <tr>\n",
       "      <th>1</th>\n",
       "      <td>1</td>\n",
       "      <td>Toy Story (1995)</td>\n",
       "      <td>Adventure|Animation|Children|Comedy|Fantasy</td>\n",
       "      <td>1995</td>\n",
       "      <td>1741</td>\n",
       "      <td>computer animation</td>\n",
       "      <td>4.0</td>\n",
       "    </tr>\n",
       "    <tr>\n",
       "      <th>2</th>\n",
       "      <td>1</td>\n",
       "      <td>Toy Story (1995)</td>\n",
       "      <td>Adventure|Animation|Children|Comedy|Fantasy</td>\n",
       "      <td>1995</td>\n",
       "      <td>1741</td>\n",
       "      <td>Disney animated feature</td>\n",
       "      <td>4.0</td>\n",
       "    </tr>\n",
       "    <tr>\n",
       "      <th>3</th>\n",
       "      <td>1</td>\n",
       "      <td>Toy Story (1995)</td>\n",
       "      <td>Adventure|Animation|Children|Comedy|Fantasy</td>\n",
       "      <td>1995</td>\n",
       "      <td>1741</td>\n",
       "      <td>Pixar animation</td>\n",
       "      <td>4.0</td>\n",
       "    </tr>\n",
       "    <tr>\n",
       "      <th>4</th>\n",
       "      <td>1</td>\n",
       "      <td>Toy Story (1995)</td>\n",
       "      <td>Adventure|Animation|Children|Comedy|Fantasy</td>\n",
       "      <td>1995</td>\n",
       "      <td>1741</td>\n",
       "      <td>TÃ©a Leoni does not star in this movie</td>\n",
       "      <td>4.0</td>\n",
       "    </tr>\n",
       "    <tr>\n",
       "      <th>5</th>\n",
       "      <td>1</td>\n",
       "      <td>Toy Story (1995)</td>\n",
       "      <td>Adventure|Animation|Children|Comedy|Fantasy</td>\n",
       "      <td>1995</td>\n",
       "      <td>2299</td>\n",
       "      <td>Pixar</td>\n",
       "      <td>3.0</td>\n",
       "    </tr>\n",
       "    <tr>\n",
       "      <th>6</th>\n",
       "      <td>1</td>\n",
       "      <td>Toy Story (1995)</td>\n",
       "      <td>Adventure|Animation|Children|Comedy|Fantasy</td>\n",
       "      <td>1995</td>\n",
       "      <td>3596</td>\n",
       "      <td>animation</td>\n",
       "      <td>1.0</td>\n",
       "    </tr>\n",
       "    <tr>\n",
       "      <th>7</th>\n",
       "      <td>1</td>\n",
       "      <td>Toy Story (1995)</td>\n",
       "      <td>Adventure|Animation|Children|Comedy|Fantasy</td>\n",
       "      <td>1995</td>\n",
       "      <td>3596</td>\n",
       "      <td>family</td>\n",
       "      <td>1.0</td>\n",
       "    </tr>\n",
       "    <tr>\n",
       "      <th>8</th>\n",
       "      <td>1</td>\n",
       "      <td>Toy Story (1995)</td>\n",
       "      <td>Adventure|Animation|Children|Comedy|Fantasy</td>\n",
       "      <td>1995</td>\n",
       "      <td>3596</td>\n",
       "      <td>Tom Hanks</td>\n",
       "      <td>1.0</td>\n",
       "    </tr>\n",
       "    <tr>\n",
       "      <th>9</th>\n",
       "      <td>1</td>\n",
       "      <td>Toy Story (1995)</td>\n",
       "      <td>Adventure|Animation|Children|Comedy|Fantasy</td>\n",
       "      <td>1995</td>\n",
       "      <td>6233</td>\n",
       "      <td>Pixar</td>\n",
       "      <td>4.5</td>\n",
       "    </tr>\n",
       "  </tbody>\n",
       "</table>\n",
       "</div>"
      ],
      "text/plain": [
       "   movieId             title                                       genres  \\\n",
       "0        1  Toy Story (1995)  Adventure|Animation|Children|Comedy|Fantasy   \n",
       "1        1  Toy Story (1995)  Adventure|Animation|Children|Comedy|Fantasy   \n",
       "2        1  Toy Story (1995)  Adventure|Animation|Children|Comedy|Fantasy   \n",
       "3        1  Toy Story (1995)  Adventure|Animation|Children|Comedy|Fantasy   \n",
       "4        1  Toy Story (1995)  Adventure|Animation|Children|Comedy|Fantasy   \n",
       "5        1  Toy Story (1995)  Adventure|Animation|Children|Comedy|Fantasy   \n",
       "6        1  Toy Story (1995)  Adventure|Animation|Children|Comedy|Fantasy   \n",
       "7        1  Toy Story (1995)  Adventure|Animation|Children|Comedy|Fantasy   \n",
       "8        1  Toy Story (1995)  Adventure|Animation|Children|Comedy|Fantasy   \n",
       "9        1  Toy Story (1995)  Adventure|Animation|Children|Comedy|Fantasy   \n",
       "\n",
       "   year  userId                                     tag  rating  \n",
       "0  1995    1644                                 Watched     3.5  \n",
       "1  1995    1741                      computer animation     4.0  \n",
       "2  1995    1741                 Disney animated feature     4.0  \n",
       "3  1995    1741                         Pixar animation     4.0  \n",
       "4  1995    1741  TÃ©a Leoni does not star in this movie     4.0  \n",
       "5  1995    2299                                   Pixar     3.0  \n",
       "6  1995    3596                               animation     1.0  \n",
       "7  1995    3596                                  family     1.0  \n",
       "8  1995    3596                               Tom Hanks     1.0  \n",
       "9  1995    6233                                   Pixar     4.5  "
      ]
     },
     "execution_count": 11,
     "metadata": {},
     "output_type": "execute_result"
    }
   ],
   "source": [
    "# then merge movies_tag and rating data\n",
    "mergedDF = pd.merge(movies_tag,ratings)\n",
    "# now lets look at our data\n",
    "mergedDF.head(10)"
   ]
  },
  {
   "cell_type": "code",
   "execution_count": 12,
   "metadata": {},
   "outputs": [],
   "source": [
    "#count the number of movies in each genres\n",
    "def count_word(df, ref_col, liste):\n",
    "    keyword_count = dict()\n",
    "    for s in liste: keyword_count[s] = 0\n",
    "    for liste_keywords in df[ref_col].str.split('|'):\n",
    "        if type(liste_keywords) == float and pd.isnull(liste_keywords): continue\n",
    "        for s in liste_keywords: \n",
    "            if pd.notnull(s): keyword_count[s] += 1\n",
    "    # convert the dictionary in a list to sort the keywords  by frequency\n",
    "    keyword_occurences = []\n",
    "    for k,v in keyword_count.items():\n",
    "        keyword_occurences.append([k,v])\n",
    "    keyword_occurences.sort(key = lambda x:x[1], reverse = True)\n",
    "    return keyword_occurences, keyword_count"
   ]
  },
  {
   "cell_type": "code",
   "execution_count": 13,
   "metadata": {},
   "outputs": [],
   "source": [
    "#we can see all of the genres\n",
    "genre_labels = set()\n",
    "for s in mergedDF['genres'].str.split('|').values:\n",
    "    genre_labels = genre_labels.union(set(s))"
   ]
  },
  {
   "cell_type": "code",
   "execution_count": 14,
   "metadata": {},
   "outputs": [
    {
     "data": {
      "text/plain": [
       "[['Drama', 200635],\n",
       " ['Comedy', 118912],\n",
       " ['Thriller', 115062],\n",
       " ['Action', 107325],\n",
       " ['Sci-Fi', 78375],\n",
       " ['Adventure', 77199],\n",
       " ['Romance', 68338],\n",
       " ['Crime', 68294],\n",
       " ['Fantasy', 46217],\n",
       " ['Mystery', 42494],\n",
       " ['Horror', 36259],\n",
       " ['IMAX', 24988],\n",
       " ['Animation', 23644],\n",
       " ['Children', 20552],\n",
       " ['War', 19584],\n",
       " ['Musical', 13097],\n",
       " ['Documentary', 9032],\n",
       " ['Film-Noir', 5888],\n",
       " ['Western', 5607],\n",
       " ['(no genres listed)', 46]]"
      ]
     },
     "execution_count": 14,
     "metadata": {},
     "output_type": "execute_result"
    }
   ],
   "source": [
    "#counting how many times each of genres occur:\n",
    "keyword_occurences, dum = count_word(mergedDF, 'genres', genre_labels)\n",
    "keyword_occurences"
   ]
  },
  {
   "cell_type": "code",
   "execution_count": 15,
   "metadata": {},
   "outputs": [
    {
     "data": {
      "text/html": [
       "<div>\n",
       "<style scoped>\n",
       "    .dataframe tbody tr th:only-of-type {\n",
       "        vertical-align: middle;\n",
       "    }\n",
       "\n",
       "    .dataframe tbody tr th {\n",
       "        vertical-align: top;\n",
       "    }\n",
       "\n",
       "    .dataframe thead th {\n",
       "        text-align: right;\n",
       "    }\n",
       "</style>\n",
       "<table border=\"1\" class=\"dataframe\">\n",
       "  <thead>\n",
       "    <tr style=\"text-align: right;\">\n",
       "      <th></th>\n",
       "      <th>movieId</th>\n",
       "      <th>title</th>\n",
       "      <th>genres</th>\n",
       "      <th>year</th>\n",
       "      <th>userId</th>\n",
       "      <th>tag</th>\n",
       "      <th>rating</th>\n",
       "      <th>Drama</th>\n",
       "      <th>Comedy</th>\n",
       "      <th>Thriller</th>\n",
       "      <th>...</th>\n",
       "      <th>Horror</th>\n",
       "      <th>IMAX</th>\n",
       "      <th>Animation</th>\n",
       "      <th>Children</th>\n",
       "      <th>War</th>\n",
       "      <th>Musical</th>\n",
       "      <th>Documentary</th>\n",
       "      <th>Film-Noir</th>\n",
       "      <th>Western</th>\n",
       "      <th>(no genres listed)</th>\n",
       "    </tr>\n",
       "  </thead>\n",
       "  <tbody>\n",
       "    <tr>\n",
       "      <th>0</th>\n",
       "      <td>1</td>\n",
       "      <td>Toy Story (1995)</td>\n",
       "      <td>Adventure|Animation|Children|Comedy|Fantasy</td>\n",
       "      <td>1995</td>\n",
       "      <td>1644</td>\n",
       "      <td>Watched</td>\n",
       "      <td>3.5</td>\n",
       "      <td>0.0</td>\n",
       "      <td>1.0</td>\n",
       "      <td>0.0</td>\n",
       "      <td>...</td>\n",
       "      <td>0.0</td>\n",
       "      <td>0.0</td>\n",
       "      <td>1.0</td>\n",
       "      <td>1.0</td>\n",
       "      <td>0.0</td>\n",
       "      <td>0.0</td>\n",
       "      <td>0.0</td>\n",
       "      <td>0.0</td>\n",
       "      <td>0.0</td>\n",
       "      <td>0.0</td>\n",
       "    </tr>\n",
       "    <tr>\n",
       "      <th>1</th>\n",
       "      <td>1</td>\n",
       "      <td>Toy Story (1995)</td>\n",
       "      <td>Adventure|Animation|Children|Comedy|Fantasy</td>\n",
       "      <td>1995</td>\n",
       "      <td>1741</td>\n",
       "      <td>computer animation</td>\n",
       "      <td>4.0</td>\n",
       "      <td>0.0</td>\n",
       "      <td>1.0</td>\n",
       "      <td>0.0</td>\n",
       "      <td>...</td>\n",
       "      <td>0.0</td>\n",
       "      <td>0.0</td>\n",
       "      <td>1.0</td>\n",
       "      <td>1.0</td>\n",
       "      <td>0.0</td>\n",
       "      <td>0.0</td>\n",
       "      <td>0.0</td>\n",
       "      <td>0.0</td>\n",
       "      <td>0.0</td>\n",
       "      <td>0.0</td>\n",
       "    </tr>\n",
       "    <tr>\n",
       "      <th>2</th>\n",
       "      <td>1</td>\n",
       "      <td>Toy Story (1995)</td>\n",
       "      <td>Adventure|Animation|Children|Comedy|Fantasy</td>\n",
       "      <td>1995</td>\n",
       "      <td>1741</td>\n",
       "      <td>Disney animated feature</td>\n",
       "      <td>4.0</td>\n",
       "      <td>0.0</td>\n",
       "      <td>1.0</td>\n",
       "      <td>0.0</td>\n",
       "      <td>...</td>\n",
       "      <td>0.0</td>\n",
       "      <td>0.0</td>\n",
       "      <td>1.0</td>\n",
       "      <td>1.0</td>\n",
       "      <td>0.0</td>\n",
       "      <td>0.0</td>\n",
       "      <td>0.0</td>\n",
       "      <td>0.0</td>\n",
       "      <td>0.0</td>\n",
       "      <td>0.0</td>\n",
       "    </tr>\n",
       "    <tr>\n",
       "      <th>3</th>\n",
       "      <td>1</td>\n",
       "      <td>Toy Story (1995)</td>\n",
       "      <td>Adventure|Animation|Children|Comedy|Fantasy</td>\n",
       "      <td>1995</td>\n",
       "      <td>1741</td>\n",
       "      <td>Pixar animation</td>\n",
       "      <td>4.0</td>\n",
       "      <td>0.0</td>\n",
       "      <td>1.0</td>\n",
       "      <td>0.0</td>\n",
       "      <td>...</td>\n",
       "      <td>0.0</td>\n",
       "      <td>0.0</td>\n",
       "      <td>1.0</td>\n",
       "      <td>1.0</td>\n",
       "      <td>0.0</td>\n",
       "      <td>0.0</td>\n",
       "      <td>0.0</td>\n",
       "      <td>0.0</td>\n",
       "      <td>0.0</td>\n",
       "      <td>0.0</td>\n",
       "    </tr>\n",
       "    <tr>\n",
       "      <th>4</th>\n",
       "      <td>1</td>\n",
       "      <td>Toy Story (1995)</td>\n",
       "      <td>Adventure|Animation|Children|Comedy|Fantasy</td>\n",
       "      <td>1995</td>\n",
       "      <td>1741</td>\n",
       "      <td>TÃ©a Leoni does not star in this movie</td>\n",
       "      <td>4.0</td>\n",
       "      <td>0.0</td>\n",
       "      <td>1.0</td>\n",
       "      <td>0.0</td>\n",
       "      <td>...</td>\n",
       "      <td>0.0</td>\n",
       "      <td>0.0</td>\n",
       "      <td>1.0</td>\n",
       "      <td>1.0</td>\n",
       "      <td>0.0</td>\n",
       "      <td>0.0</td>\n",
       "      <td>0.0</td>\n",
       "      <td>0.0</td>\n",
       "      <td>0.0</td>\n",
       "      <td>0.0</td>\n",
       "    </tr>\n",
       "  </tbody>\n",
       "</table>\n",
       "<p>5 rows × 27 columns</p>\n",
       "</div>"
      ],
      "text/plain": [
       "   movieId             title                                       genres  \\\n",
       "0        1  Toy Story (1995)  Adventure|Animation|Children|Comedy|Fantasy   \n",
       "1        1  Toy Story (1995)  Adventure|Animation|Children|Comedy|Fantasy   \n",
       "2        1  Toy Story (1995)  Adventure|Animation|Children|Comedy|Fantasy   \n",
       "3        1  Toy Story (1995)  Adventure|Animation|Children|Comedy|Fantasy   \n",
       "4        1  Toy Story (1995)  Adventure|Animation|Children|Comedy|Fantasy   \n",
       "\n",
       "   year  userId                                     tag  rating  Drama  \\\n",
       "0  1995    1644                                 Watched     3.5    0.0   \n",
       "1  1995    1741                      computer animation     4.0    0.0   \n",
       "2  1995    1741                 Disney animated feature     4.0    0.0   \n",
       "3  1995    1741                         Pixar animation     4.0    0.0   \n",
       "4  1995    1741  TÃ©a Leoni does not star in this movie     4.0    0.0   \n",
       "\n",
       "   Comedy  Thriller  ...  Horror  IMAX  Animation  Children  War  Musical  \\\n",
       "0     1.0       0.0  ...     0.0   0.0        1.0       1.0  0.0      0.0   \n",
       "1     1.0       0.0  ...     0.0   0.0        1.0       1.0  0.0      0.0   \n",
       "2     1.0       0.0  ...     0.0   0.0        1.0       1.0  0.0      0.0   \n",
       "3     1.0       0.0  ...     0.0   0.0        1.0       1.0  0.0      0.0   \n",
       "4     1.0       0.0  ...     0.0   0.0        1.0       1.0  0.0      0.0   \n",
       "\n",
       "   Documentary  Film-Noir  Western  (no genres listed)  \n",
       "0          0.0        0.0      0.0                 0.0  \n",
       "1          0.0        0.0      0.0                 0.0  \n",
       "2          0.0        0.0      0.0                 0.0  \n",
       "3          0.0        0.0      0.0                 0.0  \n",
       "4          0.0        0.0      0.0                 0.0  \n",
       "\n",
       "[5 rows x 27 columns]"
      ]
     },
     "execution_count": 15,
     "metadata": {},
     "output_type": "execute_result"
    }
   ],
   "source": [
    "# Now make a column for every genre\n",
    "# this will be a 1 or 0\n",
    "mergedDF = mergedDF\n",
    "for (key,cnt) in keyword_occurences:\n",
    "    mergedDF.loc[mergedDF['genres'].str.contains(key), key] = 1\n",
    "    mergedDF[key] = mergedDF[key].fillna(0)\n",
    "mergedDF.head()"
   ]
  },
  {
   "cell_type": "markdown",
   "metadata": {},
   "source": [
    "### Looking at what movies got the most ratings"
   ]
  },
  {
   "cell_type": "code",
   "execution_count": 16,
   "metadata": {},
   "outputs": [
    {
     "data": {
      "text/plain": [
       "title\n",
       "Pulp Fiction (1994)                             1953\n",
       "Fight Club (1999)                               1702\n",
       "Inception (2010)                                1525\n",
       "Matrix, The (1999)                              1406\n",
       "Shawshank Redemption, The (1994)                1302\n",
       "Eternal Sunshine of the Spotless Mind (2004)    1204\n",
       "Memento (2000)                                  1155\n",
       "Donnie Darko (2001)                             1144\n",
       "Silence of the Lambs, The (1991)                1069\n",
       "Forrest Gump (1994)                              978\n",
       "Name: rating, dtype: int64"
      ]
     },
     "execution_count": 16,
     "metadata": {},
     "output_type": "execute_result"
    }
   ],
   "source": [
    "#Group by the movir id and the ratings\n",
    "mergedDF.groupby('title')['rating'].count().sort_values(ascending=False).head(10)"
   ]
  },
  {
   "cell_type": "markdown",
   "metadata": {},
   "source": [
    "### Create a Pandas Profiling Report For The MovieLens Data Set"
   ]
  },
  {
   "cell_type": "code",
   "execution_count": 17,
   "metadata": {},
   "outputs": [],
   "source": [
    "#Import Pandas Profiling for the report\n",
    "#https://pypi.org/project/pandas-profiling/\n",
    "#import pandas_profiling\n",
    "#To display the Pandas Profiling Report\n",
    "# to install run:\n",
    "# pip install https://github.com/pandas-profiling/pandas-profiling/archive/master.zip\n",
    "#mergedDF.profile_report(title='Pandas Profiling Report For The MovieLens Data Set',style={'full_width':True})"
   ]
  },
  {
   "cell_type": "markdown",
   "metadata": {},
   "source": [
    "<a href=\"#top\">Back to Top</a>\n",
    "### Data Understanding - Visualization<a id=\"Data_Understanding_Visualization\"></a>\n",
    "* Visualize any important attributes appropriately. Important: Provide an interpretation for any charts or graphs."
   ]
  },
  {
   "cell_type": "code",
   "execution_count": 18,
   "metadata": {},
   "outputs": [
    {
     "data": {
      "text/plain": [
       "array([[<matplotlib.axes._subplots.AxesSubplot object at 0x000000000B1B7908>]],\n",
       "      dtype=object)"
      ]
     },
     "execution_count": 18,
     "metadata": {},
     "output_type": "execute_result"
    },
    {
     "data": {
      "image/png": "[encoded data removed]",
      "text/plain": [
       "<Figure size 720x360 with 1 Axes>"
      ]
     },
     "metadata": {
      "needs_background": "light"
     },
     "output_type": "display_data"
    }
   ],
   "source": [
    "#looking at the rating averages\n",
    "avg_ratings= mergedDF.groupby('movieId', as_index=False).mean()\n",
    "\n",
    "avg_ratings.hist(column='rating', figsize=(10,5))"
   ]
  },
  {
   "cell_type": "code",
   "execution_count": 19,
   "metadata": {},
   "outputs": [
    {
     "data": {
      "text/html": [
       "<div>\n",
       "<style scoped>\n",
       "    .dataframe tbody tr th:only-of-type {\n",
       "        vertical-align: middle;\n",
       "    }\n",
       "\n",
       "    .dataframe tbody tr th {\n",
       "        vertical-align: top;\n",
       "    }\n",
       "\n",
       "    .dataframe thead th {\n",
       "        text-align: right;\n",
       "    }\n",
       "</style>\n",
       "<table border=\"1\" class=\"dataframe\">\n",
       "  <thead>\n",
       "    <tr style=\"text-align: right;\">\n",
       "      <th></th>\n",
       "      <th>movieId</th>\n",
       "      <th>userId</th>\n",
       "      <th>rating</th>\n",
       "      <th>Drama</th>\n",
       "      <th>Comedy</th>\n",
       "      <th>Thriller</th>\n",
       "      <th>Action</th>\n",
       "      <th>Sci-Fi</th>\n",
       "      <th>Adventure</th>\n",
       "      <th>Romance</th>\n",
       "      <th>...</th>\n",
       "      <th>Horror</th>\n",
       "      <th>IMAX</th>\n",
       "      <th>Animation</th>\n",
       "      <th>Children</th>\n",
       "      <th>War</th>\n",
       "      <th>Musical</th>\n",
       "      <th>Documentary</th>\n",
       "      <th>Film-Noir</th>\n",
       "      <th>Western</th>\n",
       "      <th>(no genres listed)</th>\n",
       "    </tr>\n",
       "  </thead>\n",
       "  <tbody>\n",
       "    <tr>\n",
       "      <th>0</th>\n",
       "      <td>1</td>\n",
       "      <td>73557.278571</td>\n",
       "      <td>3.908333</td>\n",
       "      <td>0.0</td>\n",
       "      <td>1.0</td>\n",
       "      <td>0.0</td>\n",
       "      <td>0.0</td>\n",
       "      <td>0.0</td>\n",
       "      <td>1.0</td>\n",
       "      <td>0.0</td>\n",
       "      <td>...</td>\n",
       "      <td>0.0</td>\n",
       "      <td>0.0</td>\n",
       "      <td>1.0</td>\n",
       "      <td>1.0</td>\n",
       "      <td>0.0</td>\n",
       "      <td>0.0</td>\n",
       "      <td>0.0</td>\n",
       "      <td>0.0</td>\n",
       "      <td>0.0</td>\n",
       "      <td>0.0</td>\n",
       "    </tr>\n",
       "    <tr>\n",
       "      <th>1</th>\n",
       "      <td>2</td>\n",
       "      <td>74261.658333</td>\n",
       "      <td>3.562500</td>\n",
       "      <td>0.0</td>\n",
       "      <td>0.0</td>\n",
       "      <td>0.0</td>\n",
       "      <td>0.0</td>\n",
       "      <td>0.0</td>\n",
       "      <td>1.0</td>\n",
       "      <td>0.0</td>\n",
       "      <td>...</td>\n",
       "      <td>0.0</td>\n",
       "      <td>0.0</td>\n",
       "      <td>0.0</td>\n",
       "      <td>1.0</td>\n",
       "      <td>0.0</td>\n",
       "      <td>0.0</td>\n",
       "      <td>0.0</td>\n",
       "      <td>0.0</td>\n",
       "      <td>0.0</td>\n",
       "      <td>0.0</td>\n",
       "    </tr>\n",
       "    <tr>\n",
       "      <th>2</th>\n",
       "      <td>3</td>\n",
       "      <td>53358.642857</td>\n",
       "      <td>2.928571</td>\n",
       "      <td>0.0</td>\n",
       "      <td>1.0</td>\n",
       "      <td>0.0</td>\n",
       "      <td>0.0</td>\n",
       "      <td>0.0</td>\n",
       "      <td>0.0</td>\n",
       "      <td>1.0</td>\n",
       "      <td>...</td>\n",
       "      <td>0.0</td>\n",
       "      <td>0.0</td>\n",
       "      <td>0.0</td>\n",
       "      <td>0.0</td>\n",
       "      <td>0.0</td>\n",
       "      <td>0.0</td>\n",
       "      <td>0.0</td>\n",
       "      <td>0.0</td>\n",
       "      <td>0.0</td>\n",
       "      <td>0.0</td>\n",
       "    </tr>\n",
       "    <tr>\n",
       "      <th>3</th>\n",
       "      <td>4</td>\n",
       "      <td>41490.200000</td>\n",
       "      <td>2.800000</td>\n",
       "      <td>1.0</td>\n",
       "      <td>1.0</td>\n",
       "      <td>0.0</td>\n",
       "      <td>0.0</td>\n",
       "      <td>0.0</td>\n",
       "      <td>0.0</td>\n",
       "      <td>1.0</td>\n",
       "      <td>...</td>\n",
       "      <td>0.0</td>\n",
       "      <td>0.0</td>\n",
       "      <td>0.0</td>\n",
       "      <td>0.0</td>\n",
       "      <td>0.0</td>\n",
       "      <td>0.0</td>\n",
       "      <td>0.0</td>\n",
       "      <td>0.0</td>\n",
       "      <td>0.0</td>\n",
       "      <td>0.0</td>\n",
       "    </tr>\n",
       "    <tr>\n",
       "      <th>4</th>\n",
       "      <td>5</td>\n",
       "      <td>59464.428571</td>\n",
       "      <td>2.761905</td>\n",
       "      <td>0.0</td>\n",
       "      <td>1.0</td>\n",
       "      <td>0.0</td>\n",
       "      <td>0.0</td>\n",
       "      <td>0.0</td>\n",
       "      <td>0.0</td>\n",
       "      <td>0.0</td>\n",
       "      <td>...</td>\n",
       "      <td>0.0</td>\n",
       "      <td>0.0</td>\n",
       "      <td>0.0</td>\n",
       "      <td>0.0</td>\n",
       "      <td>0.0</td>\n",
       "      <td>0.0</td>\n",
       "      <td>0.0</td>\n",
       "      <td>0.0</td>\n",
       "      <td>0.0</td>\n",
       "      <td>0.0</td>\n",
       "    </tr>\n",
       "  </tbody>\n",
       "</table>\n",
       "<p>5 rows × 23 columns</p>\n",
       "</div>"
      ],
      "text/plain": [
       "   movieId        userId    rating  Drama  Comedy  Thriller  Action  Sci-Fi  \\\n",
       "0        1  73557.278571  3.908333    0.0     1.0       0.0     0.0     0.0   \n",
       "1        2  74261.658333  3.562500    0.0     0.0       0.0     0.0     0.0   \n",
       "2        3  53358.642857  2.928571    0.0     1.0       0.0     0.0     0.0   \n",
       "3        4  41490.200000  2.800000    1.0     1.0       0.0     0.0     0.0   \n",
       "4        5  59464.428571  2.761905    0.0     1.0       0.0     0.0     0.0   \n",
       "\n",
       "   Adventure  Romance  ...  Horror  IMAX  Animation  Children  War  Musical  \\\n",
       "0        1.0      0.0  ...     0.0   0.0        1.0       1.0  0.0      0.0   \n",
       "1        1.0      0.0  ...     0.0   0.0        0.0       1.0  0.0      0.0   \n",
       "2        0.0      1.0  ...     0.0   0.0        0.0       0.0  0.0      0.0   \n",
       "3        0.0      1.0  ...     0.0   0.0        0.0       0.0  0.0      0.0   \n",
       "4        0.0      0.0  ...     0.0   0.0        0.0       0.0  0.0      0.0   \n",
       "\n",
       "   Documentary  Film-Noir  Western  (no genres listed)  \n",
       "0          0.0        0.0      0.0                 0.0  \n",
       "1          0.0        0.0      0.0                 0.0  \n",
       "2          0.0        0.0      0.0                 0.0  \n",
       "3          0.0        0.0      0.0                 0.0  \n",
       "4          0.0        0.0      0.0                 0.0  \n",
       "\n",
       "[5 rows x 23 columns]"
      ]
     },
     "execution_count": 19,
     "metadata": {},
     "output_type": "execute_result"
    }
   ],
   "source": [
    "avg_ratings.head()"
   ]
  },
  {
   "cell_type": "code",
   "execution_count": 20,
   "metadata": {},
   "outputs": [
    {
     "data": {
      "text/plain": [
       "array([[<matplotlib.axes._subplots.AxesSubplot object at 0x000000000AFBB508>]],\n",
       "      dtype=object)"
      ]
     },
     "execution_count": 20,
     "metadata": {},
     "output_type": "execute_result"
    },
    {
     "data": {
      "image/png": "[encoded data removed]",
      "text/plain": [
       "<Figure size 720x360 with 1 Axes>"
      ]
     },
     "metadata": {
      "needs_background": "light"
     },
     "output_type": "display_data"
    }
   ],
   "source": [
    "#looking at the distribution of the ratings\n",
    "mergedDF.hist(column='rating', figsize=(10,5))"
   ]
  },
  {
   "cell_type": "code",
   "execution_count": 21,
   "metadata": {},
   "outputs": [
    {
     "data": {
      "text/plain": [
       "<matplotlib.axes._subplots.AxesSubplot at 0xb423188>"
      ]
     },
     "execution_count": 21,
     "metadata": {},
     "output_type": "execute_result"
    },
    {
     "data": {
      "image/png": "[encoded data removed]",
      "text/plain": [
       "<Figure size 720x360 with 1 Axes>"
      ]
     },
     "metadata": {
      "needs_background": "light"
     },
     "output_type": "display_data"
    }
   ],
   "source": [
    "#looking at the top 10 tags\n",
    "tag_counts = mergedDF['tag'].value_counts()\n",
    "tag_counts[:10].plot(kind='bar', figsize=(10,5))"
   ]
  },
  {
   "cell_type": "code",
   "execution_count": 22,
   "metadata": {},
   "outputs": [
    {
     "data": {
      "image/png": "[encoded data removed]",
      "text/plain": [
       "<Figure size 1296x936 with 1 Axes>"
      ]
     },
     "metadata": {
      "needs_background": "light"
     },
     "output_type": "display_data"
    }
   ],
   "source": [
    "#Graph the Genres vs Occurrences\n",
    "#https://github.com/nareshkumar66675/MovieLens/blob/master/notebooks/MovieLens.ipynb\n",
    "fig = plt.figure(1, figsize=(18,13))\n",
    "ax2 = fig.add_subplot(2,1,2)\n",
    "y_axis = [i[1] for i in keyword_occurences]\n",
    "x_axis = [k for k,i in enumerate(keyword_occurences)]\n",
    "x_label = [i[0] for i in keyword_occurences]\n",
    "plt.xticks(rotation=85, fontsize = 15)\n",
    "plt.yticks(fontsize = 15)\n",
    "plt.xticks(x_axis, x_label)\n",
    "plt.ylabel(\"No. of occurences\", fontsize = 24, labelpad = 0)\n",
    "ax2.bar(x_axis, y_axis, align = 'center')\n",
    "plt.title(\"Popularity of Genres\",bbox={'facecolor':'k', 'pad':5},color='w',fontsize = 25)\n",
    "plt.show()"
   ]
  },
  {
   "cell_type": "code",
   "execution_count": null,
   "metadata": {},
   "outputs": [],
   "source": []
  },
  {
   "cell_type": "markdown",
   "metadata": {},
   "source": [
    "<a href=\"#top\">Back to Top</a>\n",
    "### Modeling and Evaluation - Train & Adjust Parameters<a id=\"Modeling_and_Evaluation_Train_and_adjust_parameters\"></a>\n",
    "* Create user-item matrices or item-item matrices using collaborative filtering.\n",
    "\n",
    "We will be using a user-item matrices for our recommendation system. The utility matrices will be sparce due to the fact that every user did not review every movie. So in the data we are more likely to see mostly null values. We will be using matrix factorization with a single value decomposition. In Sci-Kit Learn this is called the truncated SVD (Singular Value Decomposition) algorithm. SVD is a dimensionality reduction similar to PCA (Principal Component Analysis)."
   ]
  },
  {
   "cell_type": "markdown",
   "metadata": {},
   "source": [
    "## A user-item recommendation system with GraphLab\n",
    "This example will build a recommendation system for movie ratings given the following dataset of users and movie ratings. This example hides much of the functionality and fine tuning possible, but works nicely for starting out with."
   ]
  },
  {
   "cell_type": "code",
   "execution_count": 23,
   "metadata": {},
   "outputs": [],
   "source": [
    "import graphlab\n",
    "#Only needed once to install graphlab extra files\n",
    "#graphlab.get_dependencies()"
   ]
  },
  {
   "cell_type": "code",
   "execution_count": 24,
   "metadata": {},
   "outputs": [],
   "source": [
    "#Import graphlab\n",
    "import graphlab as gl"
   ]
  },
  {
   "cell_type": "code",
   "execution_count": 25,
   "metadata": {},
   "outputs": [],
   "source": [
    "#The year information is not needed for graphlab\n",
    "del mergedDF['year']"
   ]
  },
  {
   "cell_type": "code",
   "execution_count": 26,
   "metadata": {},
   "outputs": [],
   "source": [
    "#Export our data set to use for GraphLab\n",
    "mergedDF.to_csv(r'ml-20m\\graphlabDF.csv', index = None, header=True)"
   ]
  },
  {
   "cell_type": "code",
   "execution_count": 27,
   "metadata": {
    "scrolled": false
   },
   "outputs": [
    {
     "name": "stderr",
     "output_type": "stream",
     "text": [
      "[INFO] graphlab.cython.cy_server: GraphLab Create v2.1 started. Logging: C:\\Users\\04616598\\AppData\\Local\\Temp\\graphlab_server_1574452446.log.0\n"
     ]
    },
    {
     "name": "stdout",
     "output_type": "stream",
     "text": [
      "This non-commercial license of GraphLab Create for academic use is assigned to cmadding@smu.edu and will expire on November 18, 2020.\n"
     ]
    },
    {
     "data": {
      "text/html": [
       "<pre>Finished parsing file C:\\Users\\04616598\\BSync\\Box Sync\\Documents\\Data Sciance\\msds_7331MachineLearningI\\MSDS7331\\Lab03\\ml-20m\\graphlabDF.csv</pre>"
      ],
      "text/plain": [
       "Finished parsing file C:\\Users\\04616598\\BSync\\Box Sync\\Documents\\Data Sciance\\msds_7331MachineLearningI\\MSDS7331\\Lab03\\ml-20m\\graphlabDF.csv"
      ]
     },
     "metadata": {},
     "output_type": "display_data"
    },
    {
     "data": {
      "text/html": [
       "<pre>Parsing completed. Parsed 100 lines in 0.583454 secs.</pre>"
      ],
      "text/plain": [
       "Parsing completed. Parsed 100 lines in 0.583454 secs."
      ]
     },
     "metadata": {},
     "output_type": "display_data"
    },
    {
     "data": {
      "text/html": [
       "<pre>Read 335534 lines. Lines per second: 442080</pre>"
      ],
      "text/plain": [
       "Read 335534 lines. Lines per second: 442080"
      ]
     },
     "metadata": {},
     "output_type": "display_data"
    },
    {
     "data": {
      "text/html": [
       "<pre>Finished parsing file C:\\Users\\04616598\\BSync\\Box Sync\\Documents\\Data Sciance\\msds_7331MachineLearningI\\MSDS7331\\Lab03\\ml-20m\\graphlabDF.csv</pre>"
      ],
      "text/plain": [
       "Finished parsing file C:\\Users\\04616598\\BSync\\Box Sync\\Documents\\Data Sciance\\msds_7331MachineLearningI\\MSDS7331\\Lab03\\ml-20m\\graphlabDF.csv"
      ]
     },
     "metadata": {},
     "output_type": "display_data"
    },
    {
     "data": {
      "text/html": [
       "<pre>Parsing completed. Parsed 391445 lines in 1.09821 secs.</pre>"
      ],
      "text/plain": [
       "Parsing completed. Parsed 391445 lines in 1.09821 secs."
      ]
     },
     "metadata": {},
     "output_type": "display_data"
    }
   ],
   "source": [
    "#bring the data in for parsing\n",
    "data = gl.SFrame.read_csv(\"ml-20m\\graphlabDF.csv\", column_type_hints={\"rating\":int})"
   ]
  },
  {
   "cell_type": "code",
   "execution_count": 28,
   "metadata": {},
   "outputs": [
    {
     "data": {
      "text/html": [
       "<pre>Recsys training: model = ranking_factorization_recommender</pre>"
      ],
      "text/plain": [
       "Recsys training: model = ranking_factorization_recommender"
      ]
     },
     "metadata": {},
     "output_type": "display_data"
    },
    {
     "data": {
      "text/html": [
       "<pre>Preparing data set.</pre>"
      ],
      "text/plain": [
       "Preparing data set."
      ]
     },
     "metadata": {},
     "output_type": "display_data"
    },
    {
     "data": {
      "text/html": [
       "<pre>    Data has 391445 observations with 7159 users and 13390 items.</pre>"
      ],
      "text/plain": [
       "    Data has 391445 observations with 7159 users and 13390 items."
      ]
     },
     "metadata": {},
     "output_type": "display_data"
    },
    {
     "data": {
      "text/html": [
       "<pre>    Data prepared in: 1.0552s</pre>"
      ],
      "text/plain": [
       "    Data prepared in: 1.0552s"
      ]
     },
     "metadata": {},
     "output_type": "display_data"
    },
    {
     "data": {
      "text/html": [
       "<pre>Training ranking_factorization_recommender for recommendations.</pre>"
      ],
      "text/plain": [
       "Training ranking_factorization_recommender for recommendations."
      ]
     },
     "metadata": {},
     "output_type": "display_data"
    },
    {
     "data": {
      "text/html": [
       "<pre>+--------------------------------+--------------------------------------------------+----------+</pre>"
      ],
      "text/plain": [
       "+--------------------------------+--------------------------------------------------+----------+"
      ]
     },
     "metadata": {},
     "output_type": "display_data"
    },
    {
     "data": {
      "text/html": [
       "<pre>| Parameter                      | Description                                      | Value    |</pre>"
      ],
      "text/plain": [
       "| Parameter                      | Description                                      | Value    |"
      ]
     },
     "metadata": {},
     "output_type": "display_data"
    },
    {
     "data": {
      "text/html": [
       "<pre>+--------------------------------+--------------------------------------------------+----------+</pre>"
      ],
      "text/plain": [
       "+--------------------------------+--------------------------------------------------+----------+"
      ]
     },
     "metadata": {},
     "output_type": "display_data"
    },
    {
     "data": {
      "text/html": [
       "<pre>| num_factors                    | Factor Dimension                                 | 32       |</pre>"
      ],
      "text/plain": [
       "| num_factors                    | Factor Dimension                                 | 32       |"
      ]
     },
     "metadata": {},
     "output_type": "display_data"
    },
    {
     "data": {
      "text/html": [
       "<pre>| regularization                 | L2 Regularization on Factors                     | 1e-009   |</pre>"
      ],
      "text/plain": [
       "| regularization                 | L2 Regularization on Factors                     | 1e-009   |"
      ]
     },
     "metadata": {},
     "output_type": "display_data"
    },
    {
     "data": {
      "text/html": [
       "<pre>| solver                         | Solver used for training                         | adagrad  |</pre>"
      ],
      "text/plain": [
       "| solver                         | Solver used for training                         | adagrad  |"
      ]
     },
     "metadata": {},
     "output_type": "display_data"
    },
    {
     "data": {
      "text/html": [
       "<pre>| linear_regularization          | L2 Regularization on Linear Coefficients         | 1e-009   |</pre>"
      ],
      "text/plain": [
       "| linear_regularization          | L2 Regularization on Linear Coefficients         | 1e-009   |"
      ]
     },
     "metadata": {},
     "output_type": "display_data"
    },
    {
     "data": {
      "text/html": [
       "<pre>| ranking_regularization         | Rank-based Regularization Weight                 | 0.25     |</pre>"
      ],
      "text/plain": [
       "| ranking_regularization         | Rank-based Regularization Weight                 | 0.25     |"
      ]
     },
     "metadata": {},
     "output_type": "display_data"
    },
    {
     "data": {
      "text/html": [
       "<pre>| max_iterations                 | Maximum Number of Iterations                     | 25       |</pre>"
      ],
      "text/plain": [
       "| max_iterations                 | Maximum Number of Iterations                     | 25       |"
      ]
     },
     "metadata": {},
     "output_type": "display_data"
    },
    {
     "data": {
      "text/html": [
       "<pre>+--------------------------------+--------------------------------------------------+----------+</pre>"
      ],
      "text/plain": [
       "+--------------------------------+--------------------------------------------------+----------+"
      ]
     },
     "metadata": {},
     "output_type": "display_data"
    },
    {
     "data": {
      "text/html": [
       "<pre>  Optimizing model using SGD; tuning step size.</pre>"
      ],
      "text/plain": [
       "  Optimizing model using SGD; tuning step size."
      ]
     },
     "metadata": {},
     "output_type": "display_data"
    },
    {
     "data": {
      "text/html": [
       "<pre>  Using 48930 / 391445 points for tuning the step size.</pre>"
      ],
      "text/plain": [
       "  Using 48930 / 391445 points for tuning the step size."
      ]
     },
     "metadata": {},
     "output_type": "display_data"
    },
    {
     "data": {
      "text/html": [
       "<pre>+---------+-------------------+------------------------------------------+</pre>"
      ],
      "text/plain": [
       "+---------+-------------------+------------------------------------------+"
      ]
     },
     "metadata": {},
     "output_type": "display_data"
    },
    {
     "data": {
      "text/html": [
       "<pre>| Attempt | Initial Step Size | Estimated Objective Value                |</pre>"
      ],
      "text/plain": [
       "| Attempt | Initial Step Size | Estimated Objective Value                |"
      ]
     },
     "metadata": {},
     "output_type": "display_data"
    },
    {
     "data": {
      "text/html": [
       "<pre>+---------+-------------------+------------------------------------------+</pre>"
      ],
      "text/plain": [
       "+---------+-------------------+------------------------------------------+"
      ]
     },
     "metadata": {},
     "output_type": "display_data"
    },
    {
     "data": {
      "text/html": [
       "<pre>| 0       | 2                 | Not Viable                               |</pre>"
      ],
      "text/plain": [
       "| 0       | 2                 | Not Viable                               |"
      ]
     },
     "metadata": {},
     "output_type": "display_data"
    },
    {
     "data": {
      "text/html": [
       "<pre>| 1       | 0.5               | Not Viable                               |</pre>"
      ],
      "text/plain": [
       "| 1       | 0.5               | Not Viable                               |"
      ]
     },
     "metadata": {},
     "output_type": "display_data"
    },
    {
     "data": {
      "text/html": [
       "<pre>| 2       | 0.125             | 0.881751                                 |</pre>"
      ],
      "text/plain": [
       "| 2       | 0.125             | 0.881751                                 |"
      ]
     },
     "metadata": {},
     "output_type": "display_data"
    },
    {
     "data": {
      "text/html": [
       "<pre>| 3       | 0.0625            | 0.608126                                 |</pre>"
      ],
      "text/plain": [
       "| 3       | 0.0625            | 0.608126                                 |"
      ]
     },
     "metadata": {},
     "output_type": "display_data"
    },
    {
     "data": {
      "text/html": [
       "<pre>| 4       | 0.03125           | 0.720685                                 |</pre>"
      ],
      "text/plain": [
       "| 4       | 0.03125           | 0.720685                                 |"
      ]
     },
     "metadata": {},
     "output_type": "display_data"
    },
    {
     "data": {
      "text/html": [
       "<pre>| 5       | 0.015625          | 1.13972                                  |</pre>"
      ],
      "text/plain": [
       "| 5       | 0.015625          | 1.13972                                  |"
      ]
     },
     "metadata": {},
     "output_type": "display_data"
    },
    {
     "data": {
      "text/html": [
       "<pre>| 6       | 0.0078125         | 1.96553                                  |</pre>"
      ],
      "text/plain": [
       "| 6       | 0.0078125         | 1.96553                                  |"
      ]
     },
     "metadata": {},
     "output_type": "display_data"
    },
    {
     "data": {
      "text/html": [
       "<pre>+---------+-------------------+------------------------------------------+</pre>"
      ],
      "text/plain": [
       "+---------+-------------------+------------------------------------------+"
      ]
     },
     "metadata": {},
     "output_type": "display_data"
    },
    {
     "data": {
      "text/html": [
       "<pre>| Final   | 0.0625            | 0.608126                                 |</pre>"
      ],
      "text/plain": [
       "| Final   | 0.0625            | 0.608126                                 |"
      ]
     },
     "metadata": {},
     "output_type": "display_data"
    },
    {
     "data": {
      "text/html": [
       "<pre>+---------+-------------------+------------------------------------------+</pre>"
      ],
      "text/plain": [
       "+---------+-------------------+------------------------------------------+"
      ]
     },
     "metadata": {},
     "output_type": "display_data"
    },
    {
     "data": {
      "text/html": [
       "<pre>Starting Optimization.</pre>"
      ],
      "text/plain": [
       "Starting Optimization."
      ]
     },
     "metadata": {},
     "output_type": "display_data"
    },
    {
     "data": {
      "text/html": [
       "<pre>+---------+--------------+-------------------+-----------------------+-------------+</pre>"
      ],
      "text/plain": [
       "+---------+--------------+-------------------+-----------------------+-------------+"
      ]
     },
     "metadata": {},
     "output_type": "display_data"
    },
    {
     "data": {
      "text/html": [
       "<pre>| Iter.   | Elapsed Time | Approx. Objective | Approx. Training RMSE | Step Size   |</pre>"
      ],
      "text/plain": [
       "| Iter.   | Elapsed Time | Approx. Objective | Approx. Training RMSE | Step Size   |"
      ]
     },
     "metadata": {},
     "output_type": "display_data"
    },
    {
     "data": {
      "text/html": [
       "<pre>+---------+--------------+-------------------+-----------------------+-------------+</pre>"
      ],
      "text/plain": [
       "+---------+--------------+-------------------+-----------------------+-------------+"
      ]
     },
     "metadata": {},
     "output_type": "display_data"
    },
    {
     "data": {
      "text/html": [
       "<pre>| Initial | 0us          | 2.32513           | 1.08895               |             |</pre>"
      ],
      "text/plain": [
       "| Initial | 0us          | 2.32513           | 1.08895               |             |"
      ]
     },
     "metadata": {},
     "output_type": "display_data"
    },
    {
     "data": {
      "text/html": [
       "<pre>+---------+--------------+-------------------+-----------------------+-------------+</pre>"
      ],
      "text/plain": [
       "+---------+--------------+-------------------+-----------------------+-------------+"
      ]
     },
     "metadata": {},
     "output_type": "display_data"
    },
    {
     "data": {
      "text/html": [
       "<pre>| 1       | 1.73s        | 1.06321           | 0.836196              | 0.0625      |</pre>"
      ],
      "text/plain": [
       "| 1       | 1.73s        | 1.06321           | 0.836196              | 0.0625      |"
      ]
     },
     "metadata": {},
     "output_type": "display_data"
    },
    {
     "data": {
      "text/html": [
       "<pre>| 2       | 3.34s        | 0.570119          | 0.609938              | 0.0625      |</pre>"
      ],
      "text/plain": [
       "| 2       | 3.34s        | 0.570119          | 0.609938              | 0.0625      |"
      ]
     },
     "metadata": {},
     "output_type": "display_data"
    },
    {
     "data": {
      "text/html": [
       "<pre>| 3       | 4.68s        | 0.593712          | 0.662093              | 0.0625      |</pre>"
      ],
      "text/plain": [
       "| 3       | 4.68s        | 0.593712          | 0.662093              | 0.0625      |"
      ]
     },
     "metadata": {},
     "output_type": "display_data"
    },
    {
     "data": {
      "text/html": [
       "<pre>| 4       | 6.10s        | 0.362962          | 0.520614              | 0.0625      |</pre>"
      ],
      "text/plain": [
       "| 4       | 6.10s        | 0.362962          | 0.520614              | 0.0625      |"
      ]
     },
     "metadata": {},
     "output_type": "display_data"
    },
    {
     "data": {
      "text/html": [
       "<pre>| 5       | 7.37s        | 0.276379          | 0.446275              | 0.0625      |</pre>"
      ],
      "text/plain": [
       "| 5       | 7.37s        | 0.276379          | 0.446275              | 0.0625      |"
      ]
     },
     "metadata": {},
     "output_type": "display_data"
    },
    {
     "data": {
      "text/html": [
       "<pre>| 6       | 8.72s        | 0.386991          | 0.481144              | 0.0625      |</pre>"
      ],
      "text/plain": [
       "| 6       | 8.72s        | 0.386991          | 0.481144              | 0.0625      |"
      ]
     },
     "metadata": {},
     "output_type": "display_data"
    },
    {
     "data": {
      "text/html": [
       "<pre>| 7       | 10.11s       | 0.357569          | 0.461955              | 0.0625      |</pre>"
      ],
      "text/plain": [
       "| 7       | 10.11s       | 0.357569          | 0.461955              | 0.0625      |"
      ]
     },
     "metadata": {},
     "output_type": "display_data"
    },
    {
     "data": {
      "text/html": [
       "<pre>| 8       | 11.51s       | 0.300596          | 0.425718              | 0.0625      |</pre>"
      ],
      "text/plain": [
       "| 8       | 11.51s       | 0.300596          | 0.425718              | 0.0625      |"
      ]
     },
     "metadata": {},
     "output_type": "display_data"
    },
    {
     "data": {
      "text/html": [
       "<pre>| 9       | 12.83s       | 0.271165          | 0.408449              | 0.0625      |</pre>"
      ],
      "text/plain": [
       "| 9       | 12.83s       | 0.271165          | 0.408449              | 0.0625      |"
      ]
     },
     "metadata": {},
     "output_type": "display_data"
    },
    {
     "data": {
      "text/html": [
       "<pre>| 10      | 14.14s       | 0.232432          | 0.385192              | 0.0625      |</pre>"
      ],
      "text/plain": [
       "| 10      | 14.14s       | 0.232432          | 0.385192              | 0.0625      |"
      ]
     },
     "metadata": {},
     "output_type": "display_data"
    },
    {
     "data": {
      "text/html": [
       "<pre>| 11      | 15.46s       | 0.210412          | 0.367489              | 0.0625      |</pre>"
      ],
      "text/plain": [
       "| 11      | 15.46s       | 0.210412          | 0.367489              | 0.0625      |"
      ]
     },
     "metadata": {},
     "output_type": "display_data"
    },
    {
     "data": {
      "text/html": [
       "<pre>| 12      | 16.73s       | 0.194825          | 0.353447              | 0.0625      |</pre>"
      ],
      "text/plain": [
       "| 12      | 16.73s       | 0.194825          | 0.353447              | 0.0625      |"
      ]
     },
     "metadata": {},
     "output_type": "display_data"
    },
    {
     "data": {
      "text/html": [
       "<pre>| 13      | 18.03s       | 0.183647          | 0.344044              | 0.0625      |</pre>"
      ],
      "text/plain": [
       "| 13      | 18.03s       | 0.183647          | 0.344044              | 0.0625      |"
      ]
     },
     "metadata": {},
     "output_type": "display_data"
    },
    {
     "data": {
      "text/html": [
       "<pre>| 14      | 19.29s       | 0.177493          | 0.338621              | 0.0625      |</pre>"
      ],
      "text/plain": [
       "| 14      | 19.29s       | 0.177493          | 0.338621              | 0.0625      |"
      ]
     },
     "metadata": {},
     "output_type": "display_data"
    },
    {
     "data": {
      "text/html": [
       "<pre>| 15      | 20.51s       | 0.504438          | 0.613745              | 0.0625      |</pre>"
      ],
      "text/plain": [
       "| 15      | 20.51s       | 0.504438          | 0.613745              | 0.0625      |"
      ]
     },
     "metadata": {},
     "output_type": "display_data"
    },
    {
     "data": {
      "text/html": [
       "<pre>| 16      | 21.66s       | 0.536506          | 0.641009              | 0.0625      |</pre>"
      ],
      "text/plain": [
       "| 16      | 21.66s       | 0.536506          | 0.641009              | 0.0625      |"
      ]
     },
     "metadata": {},
     "output_type": "display_data"
    },
    {
     "data": {
      "text/html": [
       "<pre>| 17      | 22.87s       | 0.325413          | 0.484146              | 0.0625      |</pre>"
      ],
      "text/plain": [
       "| 17      | 22.87s       | 0.325413          | 0.484146              | 0.0625      |"
      ]
     },
     "metadata": {},
     "output_type": "display_data"
    },
    {
     "data": {
      "text/html": [
       "<pre>| 18      | 24.02s       | 0.247219          | 0.417726              | 0.0625      |</pre>"
      ],
      "text/plain": [
       "| 18      | 24.02s       | 0.247219          | 0.417726              | 0.0625      |"
      ]
     },
     "metadata": {},
     "output_type": "display_data"
    },
    {
     "data": {
      "text/html": [
       "<pre>| 19      | 25.20s       | 0.22184           | 0.393718              | 0.0625      |</pre>"
      ],
      "text/plain": [
       "| 19      | 25.20s       | 0.22184           | 0.393718              | 0.0625      |"
      ]
     },
     "metadata": {},
     "output_type": "display_data"
    },
    {
     "data": {
      "text/html": [
       "<pre>| 20      | 26.51s       | 0.204103          | 0.37766               | 0.0625      |</pre>"
      ],
      "text/plain": [
       "| 20      | 26.51s       | 0.204103          | 0.37766               | 0.0625      |"
      ]
     },
     "metadata": {},
     "output_type": "display_data"
    },
    {
     "data": {
      "text/html": [
       "<pre>| 21      | 27.81s       | 0.194269          | 0.36742               | 0.0625      |</pre>"
      ],
      "text/plain": [
       "| 21      | 27.81s       | 0.194269          | 0.36742               | 0.0625      |"
      ]
     },
     "metadata": {},
     "output_type": "display_data"
    },
    {
     "data": {
      "text/html": [
       "<pre>| 22      | 28.95s       | 0.182828          | 0.356823              | 0.0625      |</pre>"
      ],
      "text/plain": [
       "| 22      | 28.95s       | 0.182828          | 0.356823              | 0.0625      |"
      ]
     },
     "metadata": {},
     "output_type": "display_data"
    },
    {
     "data": {
      "text/html": [
       "<pre>| 23      | 30.08s       | 0.180642          | 0.354291              | 0.0625      |</pre>"
      ],
      "text/plain": [
       "| 23      | 30.08s       | 0.180642          | 0.354291              | 0.0625      |"
      ]
     },
     "metadata": {},
     "output_type": "display_data"
    },
    {
     "data": {
      "text/html": [
       "<pre>| 24      | 31.28s       | 0.177831          | 0.350663              | 0.0625      |</pre>"
      ],
      "text/plain": [
       "| 24      | 31.28s       | 0.177831          | 0.350663              | 0.0625      |"
      ]
     },
     "metadata": {},
     "output_type": "display_data"
    },
    {
     "data": {
      "text/html": [
       "<pre>| 25      | 32.47s       | 0.178417          | 0.349726              | 0.0625      |</pre>"
      ],
      "text/plain": [
       "| 25      | 32.47s       | 0.178417          | 0.349726              | 0.0625      |"
      ]
     },
     "metadata": {},
     "output_type": "display_data"
    },
    {
     "data": {
      "text/html": [
       "<pre>+---------+--------------+-------------------+-----------------------+-------------+</pre>"
      ],
      "text/plain": [
       "+---------+--------------+-------------------+-----------------------+-------------+"
      ]
     },
     "metadata": {},
     "output_type": "display_data"
    },
    {
     "data": {
      "text/html": [
       "<pre>Optimization Complete: Maximum number of passes through the data reached.</pre>"
      ],
      "text/plain": [
       "Optimization Complete: Maximum number of passes through the data reached."
      ]
     },
     "metadata": {},
     "output_type": "display_data"
    },
    {
     "data": {
      "text/html": [
       "<pre>Computing final objective value and training RMSE.</pre>"
      ],
      "text/plain": [
       "Computing final objective value and training RMSE."
      ]
     },
     "metadata": {},
     "output_type": "display_data"
    },
    {
     "data": {
      "text/html": [
       "<pre>       Final objective value: 0.179878</pre>"
      ],
      "text/plain": [
       "       Final objective value: 0.179878"
      ]
     },
     "metadata": {},
     "output_type": "display_data"
    },
    {
     "data": {
      "text/html": [
       "<pre>       Final training RMSE: 0.350557</pre>"
      ],
      "text/plain": [
       "       Final training RMSE: 0.350557"
      ]
     },
     "metadata": {},
     "output_type": "display_data"
    },
    {
     "data": {
      "text/html": [
       "<pre>recommendations finished on 1000/7159 queries. users per second: 3581.03</pre>"
      ],
      "text/plain": [
       "recommendations finished on 1000/7159 queries. users per second: 3581.03"
      ]
     },
     "metadata": {},
     "output_type": "display_data"
    },
    {
     "data": {
      "text/html": [
       "<pre>recommendations finished on 2000/7159 queries. users per second: 3561.89</pre>"
      ],
      "text/plain": [
       "recommendations finished on 2000/7159 queries. users per second: 3561.89"
      ]
     },
     "metadata": {},
     "output_type": "display_data"
    },
    {
     "data": {
      "text/html": [
       "<pre>recommendations finished on 3000/7159 queries. users per second: 3509.91</pre>"
      ],
      "text/plain": [
       "recommendations finished on 3000/7159 queries. users per second: 3509.91"
      ]
     },
     "metadata": {},
     "output_type": "display_data"
    },
    {
     "data": {
      "text/html": [
       "<pre>recommendations finished on 4000/7159 queries. users per second: 3505.8</pre>"
      ],
      "text/plain": [
       "recommendations finished on 4000/7159 queries. users per second: 3505.8"
      ]
     },
     "metadata": {},
     "output_type": "display_data"
    },
    {
     "data": {
      "text/html": [
       "<pre>recommendations finished on 5000/7159 queries. users per second: 3547.98</pre>"
      ],
      "text/plain": [
       "recommendations finished on 5000/7159 queries. users per second: 3547.98"
      ]
     },
     "metadata": {},
     "output_type": "display_data"
    },
    {
     "data": {
      "text/html": [
       "<pre>recommendations finished on 6000/7159 queries. users per second: 3522.21</pre>"
      ],
      "text/plain": [
       "recommendations finished on 6000/7159 queries. users per second: 3522.21"
      ]
     },
     "metadata": {},
     "output_type": "display_data"
    },
    {
     "data": {
      "text/html": [
       "<pre>recommendations finished on 7000/7159 queries. users per second: 3374.32</pre>"
      ],
      "text/plain": [
       "recommendations finished on 7000/7159 queries. users per second: 3374.32"
      ]
     },
     "metadata": {},
     "output_type": "display_data"
    }
   ],
   "source": [
    "#Running our model through the recommender in GraphLab\n",
    "model = gl.recommender.create(data, user_id=\"userId\", item_id=\"title\", target=\"rating\")\n",
    "results = model.recommend(users=None, k=5)\n",
    "model.save(\"my_model\")"
   ]
  },
  {
   "cell_type": "code",
   "execution_count": 29,
   "metadata": {},
   "outputs": [
    {
     "data": {
      "text/html": [
       "<div style=\"max-height:1000px;max-width:1500px;overflow:auto;\"><table frame=\"box\" rules=\"cols\">\n",
       "    <tr>\n",
       "        <th style=\"padding-left: 1em; padding-right: 1em; text-align: center\">userId</th>\n",
       "        <th style=\"padding-left: 1em; padding-right: 1em; text-align: center\">title</th>\n",
       "        <th style=\"padding-left: 1em; padding-right: 1em; text-align: center\">score</th>\n",
       "        <th style=\"padding-left: 1em; padding-right: 1em; text-align: center\">rank</th>\n",
       "    </tr>\n",
       "    <tr>\n",
       "        <td style=\"padding-left: 1em; padding-right: 1em; text-align: center; vertical-align: top\">1644</td>\n",
       "        <td style=\"padding-left: 1em; padding-right: 1em; text-align: center; vertical-align: top\">Sleepy Hollow (1999)</td>\n",
       "        <td style=\"padding-left: 1em; padding-right: 1em; text-align: center; vertical-align: top\">4.60115750522</td>\n",
       "        <td style=\"padding-left: 1em; padding-right: 1em; text-align: center; vertical-align: top\">1</td>\n",
       "    </tr>\n",
       "    <tr>\n",
       "        <td style=\"padding-left: 1em; padding-right: 1em; text-align: center; vertical-align: top\">1644</td>\n",
       "        <td style=\"padding-left: 1em; padding-right: 1em; text-align: center; vertical-align: top\">Expendables, The (2010)</td>\n",
       "        <td style=\"padding-left: 1em; padding-right: 1em; text-align: center; vertical-align: top\">4.27834718317</td>\n",
       "        <td style=\"padding-left: 1em; padding-right: 1em; text-align: center; vertical-align: top\">2</td>\n",
       "    </tr>\n",
       "    <tr>\n",
       "        <td style=\"padding-left: 1em; padding-right: 1em; text-align: center; vertical-align: top\">1644</td>\n",
       "        <td style=\"padding-left: 1em; padding-right: 1em; text-align: center; vertical-align: top\">12 Angry Men (1957)</td>\n",
       "        <td style=\"padding-left: 1em; padding-right: 1em; text-align: center; vertical-align: top\">4.27389306218</td>\n",
       "        <td style=\"padding-left: 1em; padding-right: 1em; text-align: center; vertical-align: top\">3</td>\n",
       "    </tr>\n",
       "    <tr>\n",
       "        <td style=\"padding-left: 1em; padding-right: 1em; text-align: center; vertical-align: top\">1644</td>\n",
       "        <td style=\"padding-left: 1em; padding-right: 1em; text-align: center; vertical-align: top\">Angel Heart (1987)</td>\n",
       "        <td style=\"padding-left: 1em; padding-right: 1em; text-align: center; vertical-align: top\">4.12935530037</td>\n",
       "        <td style=\"padding-left: 1em; padding-right: 1em; text-align: center; vertical-align: top\">4</td>\n",
       "    </tr>\n",
       "    <tr>\n",
       "        <td style=\"padding-left: 1em; padding-right: 1em; text-align: center; vertical-align: top\">1644</td>\n",
       "        <td style=\"padding-left: 1em; padding-right: 1em; text-align: center; vertical-align: top\">Jungle Book, The (1967)</td>\n",
       "        <td style=\"padding-left: 1em; padding-right: 1em; text-align: center; vertical-align: top\">4.1168682912</td>\n",
       "        <td style=\"padding-left: 1em; padding-right: 1em; text-align: center; vertical-align: top\">5</td>\n",
       "    </tr>\n",
       "    <tr>\n",
       "        <td style=\"padding-left: 1em; padding-right: 1em; text-align: center; vertical-align: top\">1741</td>\n",
       "        <td style=\"padding-left: 1em; padding-right: 1em; text-align: center; vertical-align: top\">8 Women (2002)</td>\n",
       "        <td style=\"padding-left: 1em; padding-right: 1em; text-align: center; vertical-align: top\">5.16912514359</td>\n",
       "        <td style=\"padding-left: 1em; padding-right: 1em; text-align: center; vertical-align: top\">1</td>\n",
       "    </tr>\n",
       "    <tr>\n",
       "        <td style=\"padding-left: 1em; padding-right: 1em; text-align: center; vertical-align: top\">1741</td>\n",
       "        <td style=\"padding-left: 1em; padding-right: 1em; text-align: center; vertical-align: top\">Little Mermaid, The<br>(1989) ...</td>\n",
       "        <td style=\"padding-left: 1em; padding-right: 1em; text-align: center; vertical-align: top\">5.0918908605</td>\n",
       "        <td style=\"padding-left: 1em; padding-right: 1em; text-align: center; vertical-align: top\">2</td>\n",
       "    </tr>\n",
       "    <tr>\n",
       "        <td style=\"padding-left: 1em; padding-right: 1em; text-align: center; vertical-align: top\">1741</td>\n",
       "        <td style=\"padding-left: 1em; padding-right: 1em; text-align: center; vertical-align: top\">In Time (2011)</td>\n",
       "        <td style=\"padding-left: 1em; padding-right: 1em; text-align: center; vertical-align: top\">5.01476176471</td>\n",
       "        <td style=\"padding-left: 1em; padding-right: 1em; text-align: center; vertical-align: top\">3</td>\n",
       "    </tr>\n",
       "    <tr>\n",
       "        <td style=\"padding-left: 1em; padding-right: 1em; text-align: center; vertical-align: top\">1741</td>\n",
       "        <td style=\"padding-left: 1em; padding-right: 1em; text-align: center; vertical-align: top\">Polar Express, The (2004)</td>\n",
       "        <td style=\"padding-left: 1em; padding-right: 1em; text-align: center; vertical-align: top\">4.85250282675</td>\n",
       "        <td style=\"padding-left: 1em; padding-right: 1em; text-align: center; vertical-align: top\">4</td>\n",
       "    </tr>\n",
       "    <tr>\n",
       "        <td style=\"padding-left: 1em; padding-right: 1em; text-align: center; vertical-align: top\">1741</td>\n",
       "        <td style=\"padding-left: 1em; padding-right: 1em; text-align: center; vertical-align: top\">Machinist, The<br>(Maquinista, El) (2004) ...</td>\n",
       "        <td style=\"padding-left: 1em; padding-right: 1em; text-align: center; vertical-align: top\">4.72065256924</td>\n",
       "        <td style=\"padding-left: 1em; padding-right: 1em; text-align: center; vertical-align: top\">5</td>\n",
       "    </tr>\n",
       "</table>\n",
       "[35795 rows x 4 columns]<br/>Note: Only the head of the SFrame is printed.<br/>You can use print_rows(num_rows=m, num_columns=n) to print more rows and columns.\n",
       "</div>"
      ],
      "text/plain": [
       "Columns:\n",
       "\tuserId\tint\n",
       "\ttitle\tstr\n",
       "\tscore\tfloat\n",
       "\trank\tint\n",
       "\n",
       "Rows: 35795\n",
       "\n",
       "Data:\n",
       "+--------+-------------------------------+---------------+------+\n",
       "| userId |             title             |     score     | rank |\n",
       "+--------+-------------------------------+---------------+------+\n",
       "|  1644  |      Sleepy Hollow (1999)     | 4.60115750522 |  1   |\n",
       "|  1644  |    Expendables, The (2010)    | 4.27834718317 |  2   |\n",
       "|  1644  |      12 Angry Men (1957)      | 4.27389306218 |  3   |\n",
       "|  1644  |       Angel Heart (1987)      | 4.12935530037 |  4   |\n",
       "|  1644  |    Jungle Book, The (1967)    |  4.1168682912 |  5   |\n",
       "|  1741  |         8 Women (2002)        | 5.16912514359 |  1   |\n",
       "|  1741  |   Little Mermaid, The (1989)  |  5.0918908605 |  2   |\n",
       "|  1741  |         In Time (2011)        | 5.01476176471 |  3   |\n",
       "|  1741  |   Polar Express, The (2004)   | 4.85250282675 |  4   |\n",
       "|  1741  | Machinist, The (Maquinista... | 4.72065256924 |  5   |\n",
       "+--------+-------------------------------+---------------+------+\n",
       "[35795 rows x 4 columns]\n",
       "Note: Only the head of the SFrame is printed.\n",
       "You can use print_rows(num_rows=m, num_columns=n) to print more rows and columns."
      ]
     },
     "execution_count": 29,
     "metadata": {},
     "output_type": "execute_result"
    }
   ],
   "source": [
    "results # the recommendation output"
   ]
  },
  {
   "cell_type": "markdown",
   "metadata": {},
   "source": [
    "## The item-item recommendation system\n",
    "Now let's look at creating the item-item similarity matrix. That is, for each item, what are the top closest items based upon user ratings."
   ]
  },
  {
   "cell_type": "code",
   "execution_count": 30,
   "metadata": {},
   "outputs": [
    {
     "data": {
      "text/html": [
       "<pre>Recsys training: model = item_similarity</pre>"
      ],
      "text/plain": [
       "Recsys training: model = item_similarity"
      ]
     },
     "metadata": {},
     "output_type": "display_data"
    },
    {
     "data": {
      "text/html": [
       "<pre>Warning: Ignoring columns movieId, genres, tag, Drama, Comedy, Thriller, Action, Sci-Fi, Adventure, Romance, Crime, Fantasy, Mystery, Horror, IMAX, Animation, Children, War, Musical, Documentary, Film-Noir, Western, (no genres listed);</pre>"
      ],
      "text/plain": [
       "Warning: Ignoring columns movieId, genres, tag, Drama, Comedy, Thriller, Action, Sci-Fi, Adventure, Romance, Crime, Fantasy, Mystery, Horror, IMAX, Animation, Children, War, Musical, Documentary, Film-Noir, Western, (no genres listed);"
      ]
     },
     "metadata": {},
     "output_type": "display_data"
    },
    {
     "data": {
      "text/html": [
       "<pre>    To use these columns in scoring predictions, use a model that allows the use of additional features.</pre>"
      ],
      "text/plain": [
       "    To use these columns in scoring predictions, use a model that allows the use of additional features."
      ]
     },
     "metadata": {},
     "output_type": "display_data"
    },
    {
     "data": {
      "text/html": [
       "<pre>Preparing data set.</pre>"
      ],
      "text/plain": [
       "Preparing data set."
      ]
     },
     "metadata": {},
     "output_type": "display_data"
    },
    {
     "data": {
      "text/html": [
       "<pre>    Data has 391445 observations with 7159 users and 13390 items.</pre>"
      ],
      "text/plain": [
       "    Data has 391445 observations with 7159 users and 13390 items."
      ]
     },
     "metadata": {},
     "output_type": "display_data"
    },
    {
     "data": {
      "text/html": [
       "<pre>    Data prepared in: 0.249339s</pre>"
      ],
      "text/plain": [
       "    Data prepared in: 0.249339s"
      ]
     },
     "metadata": {},
     "output_type": "display_data"
    },
    {
     "data": {
      "text/html": [
       "<pre>Training model from provided data.</pre>"
      ],
      "text/plain": [
       "Training model from provided data."
      ]
     },
     "metadata": {},
     "output_type": "display_data"
    },
    {
     "data": {
      "text/html": [
       "<pre>Gathering per-item and per-user statistics.</pre>"
      ],
      "text/plain": [
       "Gathering per-item and per-user statistics."
      ]
     },
     "metadata": {},
     "output_type": "display_data"
    },
    {
     "data": {
      "text/html": [
       "<pre>+--------------------------------+------------+</pre>"
      ],
      "text/plain": [
       "+--------------------------------+------------+"
      ]
     },
     "metadata": {},
     "output_type": "display_data"
    },
    {
     "data": {
      "text/html": [
       "<pre>| Elapsed Time (Item Statistics) | % Complete |</pre>"
      ],
      "text/plain": [
       "| Elapsed Time (Item Statistics) | % Complete |"
      ]
     },
     "metadata": {},
     "output_type": "display_data"
    },
    {
     "data": {
      "text/html": [
       "<pre>+--------------------------------+------------+</pre>"
      ],
      "text/plain": [
       "+--------------------------------+------------+"
      ]
     },
     "metadata": {},
     "output_type": "display_data"
    },
    {
     "data": {
      "text/html": [
       "<pre>| 0us                            | 13.75      |</pre>"
      ],
      "text/plain": [
       "| 0us                            | 13.75      |"
      ]
     },
     "metadata": {},
     "output_type": "display_data"
    },
    {
     "data": {
      "text/html": [
       "<pre>| 1ms                            | 100        |</pre>"
      ],
      "text/plain": [
       "| 1ms                            | 100        |"
      ]
     },
     "metadata": {},
     "output_type": "display_data"
    },
    {
     "data": {
      "text/html": [
       "<pre>+--------------------------------+------------+</pre>"
      ],
      "text/plain": [
       "+--------------------------------+------------+"
      ]
     },
     "metadata": {},
     "output_type": "display_data"
    },
    {
     "data": {
      "text/html": [
       "<pre>Setting up lookup tables.</pre>"
      ],
      "text/plain": [
       "Setting up lookup tables."
      ]
     },
     "metadata": {},
     "output_type": "display_data"
    },
    {
     "data": {
      "text/html": [
       "<pre>Processing data in one pass using dense lookup tables.</pre>"
      ],
      "text/plain": [
       "Processing data in one pass using dense lookup tables."
      ]
     },
     "metadata": {},
     "output_type": "display_data"
    },
    {
     "data": {
      "text/html": [
       "<pre>+-------------------------------------+------------------+-----------------+</pre>"
      ],
      "text/plain": [
       "+-------------------------------------+------------------+-----------------+"
      ]
     },
     "metadata": {},
     "output_type": "display_data"
    },
    {
     "data": {
      "text/html": [
       "<pre>| Elapsed Time (Constructing Lookups) | Total % Complete | Items Processed |</pre>"
      ],
      "text/plain": [
       "| Elapsed Time (Constructing Lookups) | Total % Complete | Items Processed |"
      ]
     },
     "metadata": {},
     "output_type": "display_data"
    },
    {
     "data": {
      "text/html": [
       "<pre>+-------------------------------------+------------------+-----------------+</pre>"
      ],
      "text/plain": [
       "+-------------------------------------+------------------+-----------------+"
      ]
     },
     "metadata": {},
     "output_type": "display_data"
    },
    {
     "data": {
      "text/html": [
       "<pre>| 250.512ms                           | 0                | 7               |</pre>"
      ],
      "text/plain": [
       "| 250.512ms                           | 0                | 7               |"
      ]
     },
     "metadata": {},
     "output_type": "display_data"
    },
    {
     "data": {
      "text/html": [
       "<pre>| 830.972ms                           | 100              | 13390           |</pre>"
      ],
      "text/plain": [
       "| 830.972ms                           | 100              | 13390           |"
      ]
     },
     "metadata": {},
     "output_type": "display_data"
    },
    {
     "data": {
      "text/html": [
       "<pre>+-------------------------------------+------------------+-----------------+</pre>"
      ],
      "text/plain": [
       "+-------------------------------------+------------------+-----------------+"
      ]
     },
     "metadata": {},
     "output_type": "display_data"
    },
    {
     "data": {
      "text/html": [
       "<pre>Finalizing lookup tables.</pre>"
      ],
      "text/plain": [
       "Finalizing lookup tables."
      ]
     },
     "metadata": {},
     "output_type": "display_data"
    },
    {
     "data": {
      "text/html": [
       "<pre>Generating candidate set for working with new users.</pre>"
      ],
      "text/plain": [
       "Generating candidate set for working with new users."
      ]
     },
     "metadata": {},
     "output_type": "display_data"
    },
    {
     "data": {
      "text/html": [
       "<pre>Finished training in 0.843938s</pre>"
      ],
      "text/plain": [
       "Finished training in 0.843938s"
      ]
     },
     "metadata": {},
     "output_type": "display_data"
    },
    {
     "data": {
      "text/html": [
       "<div style=\"max-height:1000px;max-width:1500px;overflow:auto;\"><table frame=\"box\" rules=\"cols\">\n",
       "    <tr>\n",
       "        <th style=\"padding-left: 1em; padding-right: 1em; text-align: center\">title</th>\n",
       "        <th style=\"padding-left: 1em; padding-right: 1em; text-align: center\">similar</th>\n",
       "        <th style=\"padding-left: 1em; padding-right: 1em; text-align: center\">score</th>\n",
       "        <th style=\"padding-left: 1em; padding-right: 1em; text-align: center\">rank</th>\n",
       "    </tr>\n",
       "    <tr>\n",
       "        <td style=\"padding-left: 1em; padding-right: 1em; text-align: center; vertical-align: top\">Toy Story (1995)</td>\n",
       "        <td style=\"padding-left: 1em; padding-right: 1em; text-align: center; vertical-align: top\">Toy Story 2 (1999)</td>\n",
       "        <td style=\"padding-left: 1em; padding-right: 1em; text-align: center; vertical-align: top\">0.446182549</td>\n",
       "        <td style=\"padding-left: 1em; padding-right: 1em; text-align: center; vertical-align: top\">1</td>\n",
       "    </tr>\n",
       "    <tr>\n",
       "        <td style=\"padding-left: 1em; padding-right: 1em; text-align: center; vertical-align: top\">Toy Story (1995)</td>\n",
       "        <td style=\"padding-left: 1em; padding-right: 1em; text-align: center; vertical-align: top\">Finding Nemo (2003)</td>\n",
       "        <td style=\"padding-left: 1em; padding-right: 1em; text-align: center; vertical-align: top\">0.415969967842</td>\n",
       "        <td style=\"padding-left: 1em; padding-right: 1em; text-align: center; vertical-align: top\">2</td>\n",
       "    </tr>\n",
       "    <tr>\n",
       "        <td style=\"padding-left: 1em; padding-right: 1em; text-align: center; vertical-align: top\">Toy Story (1995)</td>\n",
       "        <td style=\"padding-left: 1em; padding-right: 1em; text-align: center; vertical-align: top\">Monsters, Inc. (2001)</td>\n",
       "        <td style=\"padding-left: 1em; padding-right: 1em; text-align: center; vertical-align: top\">0.370331585407</td>\n",
       "        <td style=\"padding-left: 1em; padding-right: 1em; text-align: center; vertical-align: top\">3</td>\n",
       "    </tr>\n",
       "    <tr>\n",
       "        <td style=\"padding-left: 1em; padding-right: 1em; text-align: center; vertical-align: top\">Jumanji (1995)</td>\n",
       "        <td style=\"padding-left: 1em; padding-right: 1em; text-align: center; vertical-align: top\">Ace Ventura: Pet<br>Detective (1994) ...</td>\n",
       "        <td style=\"padding-left: 1em; padding-right: 1em; text-align: center; vertical-align: top\">0.337409377098</td>\n",
       "        <td style=\"padding-left: 1em; padding-right: 1em; text-align: center; vertical-align: top\">1</td>\n",
       "    </tr>\n",
       "    <tr>\n",
       "        <td style=\"padding-left: 1em; padding-right: 1em; text-align: center; vertical-align: top\">Jumanji (1995)</td>\n",
       "        <td style=\"padding-left: 1em; padding-right: 1em; text-align: center; vertical-align: top\">Ace Ventura: When Nature<br>Calls (1995) ...</td>\n",
       "        <td style=\"padding-left: 1em; padding-right: 1em; text-align: center; vertical-align: top\">0.328680574894</td>\n",
       "        <td style=\"padding-left: 1em; padding-right: 1em; text-align: center; vertical-align: top\">2</td>\n",
       "    </tr>\n",
       "    <tr>\n",
       "        <td style=\"padding-left: 1em; padding-right: 1em; text-align: center; vertical-align: top\">Jumanji (1995)</td>\n",
       "        <td style=\"padding-left: 1em; padding-right: 1em; text-align: center; vertical-align: top\">Monkeybone (2001)</td>\n",
       "        <td style=\"padding-left: 1em; padding-right: 1em; text-align: center; vertical-align: top\">0.311046302319</td>\n",
       "        <td style=\"padding-left: 1em; padding-right: 1em; text-align: center; vertical-align: top\">3</td>\n",
       "    </tr>\n",
       "    <tr>\n",
       "        <td style=\"padding-left: 1em; padding-right: 1em; text-align: center; vertical-align: top\">Grumpier Old Men (1995)</td>\n",
       "        <td style=\"padding-left: 1em; padding-right: 1em; text-align: center; vertical-align: top\">Once Upon a Time in China<br>III (Wong Fei-hung tsi ...</td>\n",
       "        <td style=\"padding-left: 1em; padding-right: 1em; text-align: center; vertical-align: top\">0.494832217693</td>\n",
       "        <td style=\"padding-left: 1em; padding-right: 1em; text-align: center; vertical-align: top\">1</td>\n",
       "    </tr>\n",
       "    <tr>\n",
       "        <td style=\"padding-left: 1em; padding-right: 1em; text-align: center; vertical-align: top\">Grumpier Old Men (1995)</td>\n",
       "        <td style=\"padding-left: 1em; padding-right: 1em; text-align: center; vertical-align: top\">Carpool (1996)</td>\n",
       "        <td style=\"padding-left: 1em; padding-right: 1em; text-align: center; vertical-align: top\">0.48708820343</td>\n",
       "        <td style=\"padding-left: 1em; padding-right: 1em; text-align: center; vertical-align: top\">2</td>\n",
       "    </tr>\n",
       "    <tr>\n",
       "        <td style=\"padding-left: 1em; padding-right: 1em; text-align: center; vertical-align: top\">Grumpier Old Men (1995)</td>\n",
       "        <td style=\"padding-left: 1em; padding-right: 1em; text-align: center; vertical-align: top\">Grumpy Old Men (1993)</td>\n",
       "        <td style=\"padding-left: 1em; padding-right: 1em; text-align: center; vertical-align: top\">0.482764482498</td>\n",
       "        <td style=\"padding-left: 1em; padding-right: 1em; text-align: center; vertical-align: top\">3</td>\n",
       "    </tr>\n",
       "    <tr>\n",
       "        <td style=\"padding-left: 1em; padding-right: 1em; text-align: center; vertical-align: top\">Waiting to Exhale (1995)</td>\n",
       "        <td style=\"padding-left: 1em; padding-right: 1em; text-align: center; vertical-align: top\">Georgia (1995)</td>\n",
       "        <td style=\"padding-left: 1em; padding-right: 1em; text-align: center; vertical-align: top\">0.688247203827</td>\n",
       "        <td style=\"padding-left: 1em; padding-right: 1em; text-align: center; vertical-align: top\">1</td>\n",
       "    </tr>\n",
       "</table>\n",
       "[10 rows x 4 columns]<br/>\n",
       "</div>"
      ],
      "text/plain": [
       "Columns:\n",
       "\ttitle\tstr\n",
       "\tsimilar\tstr\n",
       "\tscore\tfloat\n",
       "\trank\tint\n",
       "\n",
       "Rows: 10\n",
       "\n",
       "Data:\n",
       "+--------------------------+-------------------------------+----------------+------+\n",
       "|          title           |            similar            |     score      | rank |\n",
       "+--------------------------+-------------------------------+----------------+------+\n",
       "|     Toy Story (1995)     |       Toy Story 2 (1999)      |  0.446182549   |  1   |\n",
       "|     Toy Story (1995)     |      Finding Nemo (2003)      | 0.415969967842 |  2   |\n",
       "|     Toy Story (1995)     |     Monsters, Inc. (2001)     | 0.370331585407 |  3   |\n",
       "|      Jumanji (1995)      | Ace Ventura: Pet Detective... | 0.337409377098 |  1   |\n",
       "|      Jumanji (1995)      | Ace Ventura: When Nature C... | 0.328680574894 |  2   |\n",
       "|      Jumanji (1995)      |       Monkeybone (2001)       | 0.311046302319 |  3   |\n",
       "| Grumpier Old Men (1995)  | Once Upon a Time in China ... | 0.494832217693 |  1   |\n",
       "| Grumpier Old Men (1995)  |         Carpool (1996)        | 0.48708820343  |  2   |\n",
       "| Grumpier Old Men (1995)  |     Grumpy Old Men (1993)     | 0.482764482498 |  3   |\n",
       "| Waiting to Exhale (1995) |         Georgia (1995)        | 0.688247203827 |  1   |\n",
       "+--------------------------+-------------------------------+----------------+------+\n",
       "[10 rows x 4 columns]"
      ]
     },
     "execution_count": 30,
     "metadata": {},
     "output_type": "execute_result"
    }
   ],
   "source": [
    "# from graphlab.recommender import item_similarity_recommender\n",
    "\n",
    "item_item = gl.recommender.item_similarity_recommender.create(data, \n",
    "                                  user_id=\"userId\", \n",
    "                                  item_id=\"title\", \n",
    "                                  target=\"rating\",\n",
    "                                  only_top_k=3,\n",
    "                                  similarity_type=\"cosine\")\n",
    "\n",
    "results = item_item.get_similar_items(k=3)\n",
    "results.head()"
   ]
  },
  {
   "cell_type": "markdown",
   "metadata": {},
   "source": [
    "So let's now create a holdout set and see if we can judge the RMSE on a per-user and per-item basis:"
   ]
  },
  {
   "cell_type": "code",
   "execution_count": 31,
   "metadata": {},
   "outputs": [],
   "source": [
    "train, test = gl.recommender.util.random_split_by_user(data,\n",
    "                                                    user_id=\"userId\", item_id=\"title\",\n",
    "                                                    max_num_users=100, item_test_proportion=0.2)"
   ]
  },
  {
   "cell_type": "code",
   "execution_count": 32,
   "metadata": {},
   "outputs": [],
   "source": [
    "from IPython.display import display\n",
    "from IPython.display import Image"
   ]
  },
  {
   "cell_type": "code",
   "execution_count": 33,
   "metadata": {},
   "outputs": [],
   "source": [
    "#To get this to work we must downgrade tornado\n",
    "#https://stackoverflow.com/questions/48090119/jupyter-notebook-typeerror-init-got-an-unexpected-keyword-argument-io-l\n",
    " \n",
    "#run from the command line\n",
    "#pip install tornado==4.5.3\n",
    "\n",
    "#Then reinstall the extra dependents:\n",
    "#pip install certifi==2015.04.28\n",
    "#pip install decorator==4.0.9\n",
    "#pip install jsonschema==2.5.1\n",
    "#pip install tornado==4.3\n",
    "\n",
    "gl.canvas.set_target('ipynb')"
   ]
  },
  {
   "cell_type": "code",
   "execution_count": 34,
   "metadata": {},
   "outputs": [
    {
     "data": {
      "text/html": [
       "<pre>Recsys training: model = item_similarity</pre>"
      ],
      "text/plain": [
       "Recsys training: model = item_similarity"
      ]
     },
     "metadata": {},
     "output_type": "display_data"
    },
    {
     "data": {
      "text/html": [
       "<pre>Warning: Ignoring columns movieId, genres, tag, Drama, Comedy, Thriller, Action, Sci-Fi, Adventure, Romance, Crime, Fantasy, Mystery, Horror, IMAX, Animation, Children, War, Musical, Documentary, Film-Noir, Western, (no genres listed);</pre>"
      ],
      "text/plain": [
       "Warning: Ignoring columns movieId, genres, tag, Drama, Comedy, Thriller, Action, Sci-Fi, Adventure, Romance, Crime, Fantasy, Mystery, Horror, IMAX, Animation, Children, War, Musical, Documentary, Film-Noir, Western, (no genres listed);"
      ]
     },
     "metadata": {},
     "output_type": "display_data"
    },
    {
     "data": {
      "text/html": [
       "<pre>    To use these columns in scoring predictions, use a model that allows the use of additional features.</pre>"
      ],
      "text/plain": [
       "    To use these columns in scoring predictions, use a model that allows the use of additional features."
      ]
     },
     "metadata": {},
     "output_type": "display_data"
    },
    {
     "data": {
      "text/html": [
       "<pre>Preparing data set.</pre>"
      ],
      "text/plain": [
       "Preparing data set."
      ]
     },
     "metadata": {},
     "output_type": "display_data"
    },
    {
     "data": {
      "text/html": [
       "<pre>    Data has 390671 observations with 7154 users and 13387 items.</pre>"
      ],
      "text/plain": [
       "    Data has 390671 observations with 7154 users and 13387 items."
      ]
     },
     "metadata": {},
     "output_type": "display_data"
    },
    {
     "data": {
      "text/html": [
       "<pre>    Data prepared in: 0.231387s</pre>"
      ],
      "text/plain": [
       "    Data prepared in: 0.231387s"
      ]
     },
     "metadata": {},
     "output_type": "display_data"
    },
    {
     "data": {
      "text/html": [
       "<pre>Training model from provided data.</pre>"
      ],
      "text/plain": [
       "Training model from provided data."
      ]
     },
     "metadata": {},
     "output_type": "display_data"
    },
    {
     "data": {
      "text/html": [
       "<pre>Gathering per-item and per-user statistics.</pre>"
      ],
      "text/plain": [
       "Gathering per-item and per-user statistics."
      ]
     },
     "metadata": {},
     "output_type": "display_data"
    },
    {
     "data": {
      "text/html": [
       "<pre>+--------------------------------+------------+</pre>"
      ],
      "text/plain": [
       "+--------------------------------+------------+"
      ]
     },
     "metadata": {},
     "output_type": "display_data"
    },
    {
     "data": {
      "text/html": [
       "<pre>| Elapsed Time (Item Statistics) | % Complete |</pre>"
      ],
      "text/plain": [
       "| Elapsed Time (Item Statistics) | % Complete |"
      ]
     },
     "metadata": {},
     "output_type": "display_data"
    },
    {
     "data": {
      "text/html": [
       "<pre>+--------------------------------+------------+</pre>"
      ],
      "text/plain": [
       "+--------------------------------+------------+"
      ]
     },
     "metadata": {},
     "output_type": "display_data"
    },
    {
     "data": {
      "text/html": [
       "<pre>| 997us                          | 13.75      |</pre>"
      ],
      "text/plain": [
       "| 997us                          | 13.75      |"
      ]
     },
     "metadata": {},
     "output_type": "display_data"
    },
    {
     "data": {
      "text/html": [
       "<pre>| 1.995ms                        | 100        |</pre>"
      ],
      "text/plain": [
       "| 1.995ms                        | 100        |"
      ]
     },
     "metadata": {},
     "output_type": "display_data"
    },
    {
     "data": {
      "text/html": [
       "<pre>+--------------------------------+------------+</pre>"
      ],
      "text/plain": [
       "+--------------------------------+------------+"
      ]
     },
     "metadata": {},
     "output_type": "display_data"
    },
    {
     "data": {
      "text/html": [
       "<pre>Setting up lookup tables.</pre>"
      ],
      "text/plain": [
       "Setting up lookup tables."
      ]
     },
     "metadata": {},
     "output_type": "display_data"
    },
    {
     "data": {
      "text/html": [
       "<pre>Processing data in one pass using dense lookup tables.</pre>"
      ],
      "text/plain": [
       "Processing data in one pass using dense lookup tables."
      ]
     },
     "metadata": {},
     "output_type": "display_data"
    },
    {
     "data": {
      "text/html": [
       "<pre>+-------------------------------------+------------------+-----------------+</pre>"
      ],
      "text/plain": [
       "+-------------------------------------+------------------+-----------------+"
      ]
     },
     "metadata": {},
     "output_type": "display_data"
    },
    {
     "data": {
      "text/html": [
       "<pre>| Elapsed Time (Constructing Lookups) | Total % Complete | Items Processed |</pre>"
      ],
      "text/plain": [
       "| Elapsed Time (Constructing Lookups) | Total % Complete | Items Processed |"
      ]
     },
     "metadata": {},
     "output_type": "display_data"
    },
    {
     "data": {
      "text/html": [
       "<pre>+-------------------------------------+------------------+-----------------+</pre>"
      ],
      "text/plain": [
       "+-------------------------------------+------------------+-----------------+"
      ]
     },
     "metadata": {},
     "output_type": "display_data"
    },
    {
     "data": {
      "text/html": [
       "<pre>| 259.313ms                           | 0                | 0               |</pre>"
      ],
      "text/plain": [
       "| 259.313ms                           | 0                | 0               |"
      ]
     },
     "metadata": {},
     "output_type": "display_data"
    },
    {
     "data": {
      "text/html": [
       "<pre>| 863.711ms                           | 100              | 13387           |</pre>"
      ],
      "text/plain": [
       "| 863.711ms                           | 100              | 13387           |"
      ]
     },
     "metadata": {},
     "output_type": "display_data"
    },
    {
     "data": {
      "text/html": [
       "<pre>+-------------------------------------+------------------+-----------------+</pre>"
      ],
      "text/plain": [
       "+-------------------------------------+------------------+-----------------+"
      ]
     },
     "metadata": {},
     "output_type": "display_data"
    },
    {
     "data": {
      "text/html": [
       "<pre>Finalizing lookup tables.</pre>"
      ],
      "text/plain": [
       "Finalizing lookup tables."
      ]
     },
     "metadata": {},
     "output_type": "display_data"
    },
    {
     "data": {
      "text/html": [
       "<pre>Generating candidate set for working with new users.</pre>"
      ],
      "text/plain": [
       "Generating candidate set for working with new users."
      ]
     },
     "metadata": {},
     "output_type": "display_data"
    },
    {
     "data": {
      "text/html": [
       "<pre>Finished training in 0.877676s</pre>"
      ],
      "text/plain": [
       "Finished training in 0.877676s"
      ]
     },
     "metadata": {},
     "output_type": "display_data"
    },
    {
     "name": "stdout",
     "output_type": "stream",
     "text": [
      "\n",
      "Precision and recall summary statistics by cutoff\n",
      "+--------+------------------+------------------+\n",
      "| cutoff |  mean_precision  |   mean_recall    |\n",
      "+--------+------------------+------------------+\n",
      "|   1    |       0.0        |       0.0        |\n",
      "|   2    |       0.0        |       0.0        |\n",
      "|   3    |       0.0        |       0.0        |\n",
      "|   4    |       0.0        |       0.0        |\n",
      "|   5    | 0.00350877192982 | 0.00194931773879 |\n",
      "|   6    | 0.00292397660819 | 0.00194931773879 |\n",
      "|   7    | 0.00250626566416 | 0.00194931773879 |\n",
      "|   8    | 0.00657894736842 | 0.00790692007797 |\n",
      "|   9    | 0.00584795321637 | 0.00790692007797 |\n",
      "|   10   | 0.00526315789474 | 0.00790692007797 |\n",
      "+--------+------------------+------------------+\n",
      "[10 rows x 3 columns]\n",
      "\n",
      "('\\nOverall RMSE: ', 3.7887230684281237)\n",
      "\n",
      "Per User RMSE (best)\n",
      "+--------+-------+------+\n",
      "| userId | count | rmse |\n",
      "+--------+-------+------+\n",
      "| 80920  |   1   | 1.5  |\n",
      "+--------+-------+------+\n",
      "[1 rows x 3 columns]\n",
      "\n",
      "\n",
      "Per User RMSE (worst)\n",
      "+--------+-------+------+\n",
      "| userId | count | rmse |\n",
      "+--------+-------+------+\n",
      "| 23946  |   1   | 5.0  |\n",
      "+--------+-------+------+\n",
      "[1 rows x 3 columns]\n",
      "\n",
      "\n",
      "Per Item RMSE (best)\n",
      "+------------------+-------+------+\n",
      "|      title       | count | rmse |\n",
      "+------------------+-------+------+\n",
      "| King Kong (2005) |   1   | 0.0  |\n",
      "+------------------+-------+------+\n",
      "[1 rows x 3 columns]\n",
      "\n",
      "\n",
      "Per Item RMSE (worst)\n",
      "+-------------------------+-------+------+\n",
      "|          title          | count | rmse |\n",
      "+-------------------------+-------+------+\n",
      "| Dark Knight, The (2008) |   1   | 5.0  |\n",
      "+-------------------------+-------+------+\n",
      "[1 rows x 3 columns]\n",
      "\n"
     ]
    }
   ],
   "source": [
    "item_item = gl.recommender.item_similarity_recommender.create(train, \n",
    "                                  user_id=\"userId\", \n",
    "                                  item_id=\"title\", \n",
    "                                  target=\"rating\",\n",
    "                                  only_top_k=5,\n",
    "                                  similarity_type=\"cosine\")\n",
    "\n",
    "rmse_results = item_item.evaluate(test)"
   ]
  },
  {
   "cell_type": "code",
   "execution_count": 35,
   "metadata": {},
   "outputs": [
    {
     "name": "stdout",
     "output_type": "stream",
     "text": [
      "dict_keys(['rmse_by_user', 'precision_recall_overall', 'rmse_by_item', 'precision_recall_by_user', 'rmse_overall'])\n"
     ]
    }
   ],
   "source": [
    "print rmse_results.viewkeys()\n",
    "# print rmse_results['rmse_by_item']"
   ]
  },
  {
   "cell_type": "code",
   "execution_count": 36,
   "metadata": {},
   "outputs": [
    {
     "data": {
      "text/html": [
       "<div style=\"max-height:1000px;max-width:1500px;overflow:auto;\"><table frame=\"box\" rules=\"cols\">\n",
       "    <tr>\n",
       "        <th style=\"padding-left: 1em; padding-right: 1em; text-align: center\">userId</th>\n",
       "        <th style=\"padding-left: 1em; padding-right: 1em; text-align: center\">count</th>\n",
       "        <th style=\"padding-left: 1em; padding-right: 1em; text-align: center\">rmse</th>\n",
       "    </tr>\n",
       "    <tr>\n",
       "        <td style=\"padding-left: 1em; padding-right: 1em; text-align: center; vertical-align: top\">94326</td>\n",
       "        <td style=\"padding-left: 1em; padding-right: 1em; text-align: center; vertical-align: top\">1</td>\n",
       "        <td style=\"padding-left: 1em; padding-right: 1em; text-align: center; vertical-align: top\">4.0</td>\n",
       "    </tr>\n",
       "    <tr>\n",
       "        <td style=\"padding-left: 1em; padding-right: 1em; text-align: center; vertical-align: top\">137105</td>\n",
       "        <td style=\"padding-left: 1em; padding-right: 1em; text-align: center; vertical-align: top\">2</td>\n",
       "        <td style=\"padding-left: 1em; padding-right: 1em; text-align: center; vertical-align: top\">3.0</td>\n",
       "    </tr>\n",
       "    <tr>\n",
       "        <td style=\"padding-left: 1em; padding-right: 1em; text-align: center; vertical-align: top\">75145</td>\n",
       "        <td style=\"padding-left: 1em; padding-right: 1em; text-align: center; vertical-align: top\">6</td>\n",
       "        <td style=\"padding-left: 1em; padding-right: 1em; text-align: center; vertical-align: top\">1.94950787957</td>\n",
       "    </tr>\n",
       "    <tr>\n",
       "        <td style=\"padding-left: 1em; padding-right: 1em; text-align: center; vertical-align: top\">90550</td>\n",
       "        <td style=\"padding-left: 1em; padding-right: 1em; text-align: center; vertical-align: top\">1</td>\n",
       "        <td style=\"padding-left: 1em; padding-right: 1em; text-align: center; vertical-align: top\">3.0</td>\n",
       "    </tr>\n",
       "    <tr>\n",
       "        <td style=\"padding-left: 1em; padding-right: 1em; text-align: center; vertical-align: top\">35705</td>\n",
       "        <td style=\"padding-left: 1em; padding-right: 1em; text-align: center; vertical-align: top\">41</td>\n",
       "        <td style=\"padding-left: 1em; padding-right: 1em; text-align: center; vertical-align: top\">3.50261115612</td>\n",
       "    </tr>\n",
       "    <tr>\n",
       "        <td style=\"padding-left: 1em; padding-right: 1em; text-align: center; vertical-align: top\">16745</td>\n",
       "        <td style=\"padding-left: 1em; padding-right: 1em; text-align: center; vertical-align: top\">9</td>\n",
       "        <td style=\"padding-left: 1em; padding-right: 1em; text-align: center; vertical-align: top\">4.32187724928</td>\n",
       "    </tr>\n",
       "    <tr>\n",
       "        <td style=\"padding-left: 1em; padding-right: 1em; text-align: center; vertical-align: top\">23946</td>\n",
       "        <td style=\"padding-left: 1em; padding-right: 1em; text-align: center; vertical-align: top\">1</td>\n",
       "        <td style=\"padding-left: 1em; padding-right: 1em; text-align: center; vertical-align: top\">5.0</td>\n",
       "    </tr>\n",
       "    <tr>\n",
       "        <td style=\"padding-left: 1em; padding-right: 1em; text-align: center; vertical-align: top\">86768</td>\n",
       "        <td style=\"padding-left: 1em; padding-right: 1em; text-align: center; vertical-align: top\">160</td>\n",
       "        <td style=\"padding-left: 1em; padding-right: 1em; text-align: center; vertical-align: top\">3.85314729538</td>\n",
       "    </tr>\n",
       "    <tr>\n",
       "        <td style=\"padding-left: 1em; padding-right: 1em; text-align: center; vertical-align: top\">93433</td>\n",
       "        <td style=\"padding-left: 1em; padding-right: 1em; text-align: center; vertical-align: top\">15</td>\n",
       "        <td style=\"padding-left: 1em; padding-right: 1em; text-align: center; vertical-align: top\">3.90188516987</td>\n",
       "    </tr>\n",
       "    <tr>\n",
       "        <td style=\"padding-left: 1em; padding-right: 1em; text-align: center; vertical-align: top\">101085</td>\n",
       "        <td style=\"padding-left: 1em; padding-right: 1em; text-align: center; vertical-align: top\">1</td>\n",
       "        <td style=\"padding-left: 1em; padding-right: 1em; text-align: center; vertical-align: top\">5.0</td>\n",
       "    </tr>\n",
       "</table>\n",
       "[57 rows x 3 columns]<br/>Note: Only the head of the SFrame is printed.<br/>You can use print_rows(num_rows=m, num_columns=n) to print more rows and columns.\n",
       "</div>"
      ],
      "text/plain": [
       "Columns:\n",
       "\tuserId\tint\n",
       "\tcount\tint\n",
       "\trmse\tfloat\n",
       "\n",
       "Rows: 57\n",
       "\n",
       "Data:\n",
       "+--------+-------+---------------+\n",
       "| userId | count |      rmse     |\n",
       "+--------+-------+---------------+\n",
       "| 94326  |   1   |      4.0      |\n",
       "| 137105 |   2   |      3.0      |\n",
       "| 75145  |   6   | 1.94950787957 |\n",
       "| 90550  |   1   |      3.0      |\n",
       "| 35705  |   41  | 3.50261115612 |\n",
       "| 16745  |   9   | 4.32187724928 |\n",
       "| 23946  |   1   |      5.0      |\n",
       "| 86768  |  160  | 3.85314729538 |\n",
       "| 93433  |   15  | 3.90188516987 |\n",
       "| 101085 |   1   |      5.0      |\n",
       "+--------+-------+---------------+\n",
       "[57 rows x 3 columns]\n",
       "Note: Only the head of the SFrame is printed.\n",
       "You can use print_rows(num_rows=m, num_columns=n) to print more rows and columns."
      ]
     },
     "execution_count": 36,
     "metadata": {},
     "output_type": "execute_result"
    }
   ],
   "source": [
    "rmse_results['rmse_by_user']"
   ]
  },
  {
   "cell_type": "code",
   "execution_count": 37,
   "metadata": {},
   "outputs": [
    {
     "data": {
      "image/png": "[encoded data removed]",
      "text/plain": [
       "<Figure size 432x288 with 1 Axes>"
      ]
     },
     "metadata": {},
     "output_type": "display_data"
    }
   ],
   "source": [
    "from matplotlib import pyplot as plt\n",
    "%matplotlib inline\n",
    "plt.style.use('ggplot')\n",
    "\n",
    "rmsevals = rmse_results['rmse_by_user']['rmse']\n",
    "rmsevals = rmsevals[rmse_results['rmse_by_user']['count']>5]\n",
    "\n",
    "plt.hist(rmsevals,bins=20)\n",
    "plt.title('RMSE by User')\n",
    "plt.show()"
   ]
  },
  {
   "cell_type": "code",
   "execution_count": null,
   "metadata": {},
   "outputs": [],
   "source": []
  },
  {
   "cell_type": "code",
   "execution_count": 38,
   "metadata": {},
   "outputs": [
    {
     "data": {
      "text/html": [
       "<div style=\"max-height:1000px;max-width:1500px;overflow:auto;\"><table frame=\"box\" rules=\"cols\">\n",
       "    <tr>\n",
       "        <th style=\"padding-left: 1em; padding-right: 1em; text-align: center\">userId</th>\n",
       "        <th style=\"padding-left: 1em; padding-right: 1em; text-align: center\">cutoff</th>\n",
       "        <th style=\"padding-left: 1em; padding-right: 1em; text-align: center\">precision</th>\n",
       "        <th style=\"padding-left: 1em; padding-right: 1em; text-align: center\">recall</th>\n",
       "        <th style=\"padding-left: 1em; padding-right: 1em; text-align: center\">count</th>\n",
       "    </tr>\n",
       "    <tr>\n",
       "        <td style=\"padding-left: 1em; padding-right: 1em; text-align: center; vertical-align: top\">3171</td>\n",
       "        <td style=\"padding-left: 1em; padding-right: 1em; text-align: center; vertical-align: top\">1</td>\n",
       "        <td style=\"padding-left: 1em; padding-right: 1em; text-align: center; vertical-align: top\">0.0</td>\n",
       "        <td style=\"padding-left: 1em; padding-right: 1em; text-align: center; vertical-align: top\">0.0</td>\n",
       "        <td style=\"padding-left: 1em; padding-right: 1em; text-align: center; vertical-align: top\">1</td>\n",
       "    </tr>\n",
       "    <tr>\n",
       "        <td style=\"padding-left: 1em; padding-right: 1em; text-align: center; vertical-align: top\">3171</td>\n",
       "        <td style=\"padding-left: 1em; padding-right: 1em; text-align: center; vertical-align: top\">2</td>\n",
       "        <td style=\"padding-left: 1em; padding-right: 1em; text-align: center; vertical-align: top\">0.0</td>\n",
       "        <td style=\"padding-left: 1em; padding-right: 1em; text-align: center; vertical-align: top\">0.0</td>\n",
       "        <td style=\"padding-left: 1em; padding-right: 1em; text-align: center; vertical-align: top\">1</td>\n",
       "    </tr>\n",
       "    <tr>\n",
       "        <td style=\"padding-left: 1em; padding-right: 1em; text-align: center; vertical-align: top\">3171</td>\n",
       "        <td style=\"padding-left: 1em; padding-right: 1em; text-align: center; vertical-align: top\">3</td>\n",
       "        <td style=\"padding-left: 1em; padding-right: 1em; text-align: center; vertical-align: top\">0.0</td>\n",
       "        <td style=\"padding-left: 1em; padding-right: 1em; text-align: center; vertical-align: top\">0.0</td>\n",
       "        <td style=\"padding-left: 1em; padding-right: 1em; text-align: center; vertical-align: top\">1</td>\n",
       "    </tr>\n",
       "    <tr>\n",
       "        <td style=\"padding-left: 1em; padding-right: 1em; text-align: center; vertical-align: top\">3171</td>\n",
       "        <td style=\"padding-left: 1em; padding-right: 1em; text-align: center; vertical-align: top\">4</td>\n",
       "        <td style=\"padding-left: 1em; padding-right: 1em; text-align: center; vertical-align: top\">0.0</td>\n",
       "        <td style=\"padding-left: 1em; padding-right: 1em; text-align: center; vertical-align: top\">0.0</td>\n",
       "        <td style=\"padding-left: 1em; padding-right: 1em; text-align: center; vertical-align: top\">1</td>\n",
       "    </tr>\n",
       "    <tr>\n",
       "        <td style=\"padding-left: 1em; padding-right: 1em; text-align: center; vertical-align: top\">3171</td>\n",
       "        <td style=\"padding-left: 1em; padding-right: 1em; text-align: center; vertical-align: top\">5</td>\n",
       "        <td style=\"padding-left: 1em; padding-right: 1em; text-align: center; vertical-align: top\">0.0</td>\n",
       "        <td style=\"padding-left: 1em; padding-right: 1em; text-align: center; vertical-align: top\">0.0</td>\n",
       "        <td style=\"padding-left: 1em; padding-right: 1em; text-align: center; vertical-align: top\">1</td>\n",
       "    </tr>\n",
       "    <tr>\n",
       "        <td style=\"padding-left: 1em; padding-right: 1em; text-align: center; vertical-align: top\">3171</td>\n",
       "        <td style=\"padding-left: 1em; padding-right: 1em; text-align: center; vertical-align: top\">6</td>\n",
       "        <td style=\"padding-left: 1em; padding-right: 1em; text-align: center; vertical-align: top\">0.0</td>\n",
       "        <td style=\"padding-left: 1em; padding-right: 1em; text-align: center; vertical-align: top\">0.0</td>\n",
       "        <td style=\"padding-left: 1em; padding-right: 1em; text-align: center; vertical-align: top\">1</td>\n",
       "    </tr>\n",
       "    <tr>\n",
       "        <td style=\"padding-left: 1em; padding-right: 1em; text-align: center; vertical-align: top\">3171</td>\n",
       "        <td style=\"padding-left: 1em; padding-right: 1em; text-align: center; vertical-align: top\">7</td>\n",
       "        <td style=\"padding-left: 1em; padding-right: 1em; text-align: center; vertical-align: top\">0.0</td>\n",
       "        <td style=\"padding-left: 1em; padding-right: 1em; text-align: center; vertical-align: top\">0.0</td>\n",
       "        <td style=\"padding-left: 1em; padding-right: 1em; text-align: center; vertical-align: top\">1</td>\n",
       "    </tr>\n",
       "    <tr>\n",
       "        <td style=\"padding-left: 1em; padding-right: 1em; text-align: center; vertical-align: top\">3171</td>\n",
       "        <td style=\"padding-left: 1em; padding-right: 1em; text-align: center; vertical-align: top\">8</td>\n",
       "        <td style=\"padding-left: 1em; padding-right: 1em; text-align: center; vertical-align: top\">0.0</td>\n",
       "        <td style=\"padding-left: 1em; padding-right: 1em; text-align: center; vertical-align: top\">0.0</td>\n",
       "        <td style=\"padding-left: 1em; padding-right: 1em; text-align: center; vertical-align: top\">1</td>\n",
       "    </tr>\n",
       "    <tr>\n",
       "        <td style=\"padding-left: 1em; padding-right: 1em; text-align: center; vertical-align: top\">3171</td>\n",
       "        <td style=\"padding-left: 1em; padding-right: 1em; text-align: center; vertical-align: top\">9</td>\n",
       "        <td style=\"padding-left: 1em; padding-right: 1em; text-align: center; vertical-align: top\">0.0</td>\n",
       "        <td style=\"padding-left: 1em; padding-right: 1em; text-align: center; vertical-align: top\">0.0</td>\n",
       "        <td style=\"padding-left: 1em; padding-right: 1em; text-align: center; vertical-align: top\">1</td>\n",
       "    </tr>\n",
       "    <tr>\n",
       "        <td style=\"padding-left: 1em; padding-right: 1em; text-align: center; vertical-align: top\">3171</td>\n",
       "        <td style=\"padding-left: 1em; padding-right: 1em; text-align: center; vertical-align: top\">10</td>\n",
       "        <td style=\"padding-left: 1em; padding-right: 1em; text-align: center; vertical-align: top\">0.0</td>\n",
       "        <td style=\"padding-left: 1em; padding-right: 1em; text-align: center; vertical-align: top\">0.0</td>\n",
       "        <td style=\"padding-left: 1em; padding-right: 1em; text-align: center; vertical-align: top\">1</td>\n",
       "    </tr>\n",
       "</table>\n",
       "[1026 rows x 5 columns]<br/>Note: Only the head of the SFrame is printed.<br/>You can use print_rows(num_rows=m, num_columns=n) to print more rows and columns.\n",
       "</div>"
      ],
      "text/plain": [
       "Columns:\n",
       "\tuserId\tint\n",
       "\tcutoff\tint\n",
       "\tprecision\tfloat\n",
       "\trecall\tfloat\n",
       "\tcount\tint\n",
       "\n",
       "Rows: 1026\n",
       "\n",
       "Data:\n",
       "+--------+--------+-----------+--------+-------+\n",
       "| userId | cutoff | precision | recall | count |\n",
       "+--------+--------+-----------+--------+-------+\n",
       "|  3171  |   1    |    0.0    |  0.0   |   1   |\n",
       "|  3171  |   2    |    0.0    |  0.0   |   1   |\n",
       "|  3171  |   3    |    0.0    |  0.0   |   1   |\n",
       "|  3171  |   4    |    0.0    |  0.0   |   1   |\n",
       "|  3171  |   5    |    0.0    |  0.0   |   1   |\n",
       "|  3171  |   6    |    0.0    |  0.0   |   1   |\n",
       "|  3171  |   7    |    0.0    |  0.0   |   1   |\n",
       "|  3171  |   8    |    0.0    |  0.0   |   1   |\n",
       "|  3171  |   9    |    0.0    |  0.0   |   1   |\n",
       "|  3171  |   10   |    0.0    |  0.0   |   1   |\n",
       "+--------+--------+-----------+--------+-------+\n",
       "[1026 rows x 5 columns]\n",
       "Note: Only the head of the SFrame is printed.\n",
       "You can use print_rows(num_rows=m, num_columns=n) to print more rows and columns."
      ]
     },
     "execution_count": 38,
     "metadata": {},
     "output_type": "execute_result"
    }
   ],
   "source": [
    "rmse_results['precision_recall_by_user']"
   ]
  },
  {
   "cell_type": "code",
   "execution_count": 39,
   "metadata": {},
   "outputs": [
    {
     "data": {
      "text/html": [
       "<div style=\"max-height:1000px;max-width:1500px;overflow:auto;\"><table frame=\"box\" rules=\"cols\">\n",
       "    <tr>\n",
       "        <th style=\"padding-left: 1em; padding-right: 1em; text-align: center\">cutoff</th>\n",
       "        <th style=\"padding-left: 1em; padding-right: 1em; text-align: center\">Avg of precision</th>\n",
       "        <th style=\"padding-left: 1em; padding-right: 1em; text-align: center\">Stdv of precision</th>\n",
       "        <th style=\"padding-left: 1em; padding-right: 1em; text-align: center\">Avg of recall</th>\n",
       "        <th style=\"padding-left: 1em; padding-right: 1em; text-align: center\">Stdv of recall</th>\n",
       "    </tr>\n",
       "    <tr>\n",
       "        <td style=\"padding-left: 1em; padding-right: 1em; text-align: center; vertical-align: top\">16</td>\n",
       "        <td style=\"padding-left: 1em; padding-right: 1em; text-align: center; vertical-align: top\">0.00438596491228</td>\n",
       "        <td style=\"padding-left: 1em; padding-right: 1em; text-align: center; vertical-align: top\">0.015965153266</td>\n",
       "        <td style=\"padding-left: 1em; padding-right: 1em; text-align: center; vertical-align: top\">0.00816117891347</td>\n",
       "        <td style=\"padding-left: 1em; padding-right: 1em; text-align: center; vertical-align: top\">0.0458658257865</td>\n",
       "    </tr>\n",
       "    <tr>\n",
       "        <td style=\"padding-left: 1em; padding-right: 1em; text-align: center; vertical-align: top\">10</td>\n",
       "        <td style=\"padding-left: 1em; padding-right: 1em; text-align: center; vertical-align: top\">0.00526315789474</td>\n",
       "        <td style=\"padding-left: 1em; padding-right: 1em; text-align: center; vertical-align: top\">0.0223296878269</td>\n",
       "        <td style=\"padding-left: 1em; padding-right: 1em; text-align: center; vertical-align: top\">0.00790692007797</td>\n",
       "        <td style=\"padding-left: 1em; padding-right: 1em; text-align: center; vertical-align: top\">0.0458701920702</td>\n",
       "    </tr>\n",
       "    <tr>\n",
       "        <td style=\"padding-left: 1em; padding-right: 1em; text-align: center; vertical-align: top\">36</td>\n",
       "        <td style=\"padding-left: 1em; padding-right: 1em; text-align: center; vertical-align: top\">0.00292397660819</td>\n",
       "        <td style=\"padding-left: 1em; padding-right: 1em; text-align: center; vertical-align: top\">0.008524783472</td>\n",
       "        <td style=\"padding-left: 1em; padding-right: 1em; text-align: center; vertical-align: top\">0.0286290151708</td>\n",
       "        <td style=\"padding-left: 1em; padding-right: 1em; text-align: center; vertical-align: top\">0.139218703451</td>\n",
       "    </tr>\n",
       "    <tr>\n",
       "        <td style=\"padding-left: 1em; padding-right: 1em; text-align: center; vertical-align: top\">26</td>\n",
       "        <td style=\"padding-left: 1em; padding-right: 1em; text-align: center; vertical-align: top\">0.00404858299595</td>\n",
       "        <td style=\"padding-left: 1em; padding-right: 1em; text-align: center; vertical-align: top\">0.0118035463458</td>\n",
       "        <td style=\"padding-left: 1em; padding-right: 1em; text-align: center; vertical-align: top\">0.0286290151708</td>\n",
       "        <td style=\"padding-left: 1em; padding-right: 1em; text-align: center; vertical-align: top\">0.139218703451</td>\n",
       "    </tr>\n",
       "    <tr>\n",
       "        <td style=\"padding-left: 1em; padding-right: 1em; text-align: center; vertical-align: top\">41</td>\n",
       "        <td style=\"padding-left: 1em; padding-right: 1em; text-align: center; vertical-align: top\">0.00256739409499</td>\n",
       "        <td style=\"padding-left: 1em; padding-right: 1em; text-align: center; vertical-align: top\">0.00748517573151</td>\n",
       "        <td style=\"padding-left: 1em; padding-right: 1em; text-align: center; vertical-align: top\">0.0286290151708</td>\n",
       "        <td style=\"padding-left: 1em; padding-right: 1em; text-align: center; vertical-align: top\">0.139218703451</td>\n",
       "    </tr>\n",
       "    <tr>\n",
       "        <td style=\"padding-left: 1em; padding-right: 1em; text-align: center; vertical-align: top\">3</td>\n",
       "        <td style=\"padding-left: 1em; padding-right: 1em; text-align: center; vertical-align: top\">0.0</td>\n",
       "        <td style=\"padding-left: 1em; padding-right: 1em; text-align: center; vertical-align: top\">0.0</td>\n",
       "        <td style=\"padding-left: 1em; padding-right: 1em; text-align: center; vertical-align: top\">0.0</td>\n",
       "        <td style=\"padding-left: 1em; padding-right: 1em; text-align: center; vertical-align: top\">0.0</td>\n",
       "    </tr>\n",
       "    <tr>\n",
       "        <td style=\"padding-left: 1em; padding-right: 1em; text-align: center; vertical-align: top\">1</td>\n",
       "        <td style=\"padding-left: 1em; padding-right: 1em; text-align: center; vertical-align: top\">0.0</td>\n",
       "        <td style=\"padding-left: 1em; padding-right: 1em; text-align: center; vertical-align: top\">0.0</td>\n",
       "        <td style=\"padding-left: 1em; padding-right: 1em; text-align: center; vertical-align: top\">0.0</td>\n",
       "        <td style=\"padding-left: 1em; padding-right: 1em; text-align: center; vertical-align: top\">0.0</td>\n",
       "    </tr>\n",
       "    <tr>\n",
       "        <td style=\"padding-left: 1em; padding-right: 1em; text-align: center; vertical-align: top\">6</td>\n",
       "        <td style=\"padding-left: 1em; padding-right: 1em; text-align: center; vertical-align: top\">0.00292397660819</td>\n",
       "        <td style=\"padding-left: 1em; padding-right: 1em; text-align: center; vertical-align: top\">0.0218810373496</td>\n",
       "        <td style=\"padding-left: 1em; padding-right: 1em; text-align: center; vertical-align: top\">0.00194931773879</td>\n",
       "        <td style=\"padding-left: 1em; padding-right: 1em; text-align: center; vertical-align: top\">0.014587358233</td>\n",
       "    </tr>\n",
       "    <tr>\n",
       "        <td style=\"padding-left: 1em; padding-right: 1em; text-align: center; vertical-align: top\">11</td>\n",
       "        <td style=\"padding-left: 1em; padding-right: 1em; text-align: center; vertical-align: top\">0.00637958532695</td>\n",
       "        <td style=\"padding-left: 1em; padding-right: 1em; text-align: center; vertical-align: top\">0.0232220411141</td>\n",
       "        <td style=\"padding-left: 1em; padding-right: 1em; text-align: center; vertical-align: top\">0.00816117891347</td>\n",
       "        <td style=\"padding-left: 1em; padding-right: 1em; text-align: center; vertical-align: top\">0.0458658257865</td>\n",
       "    </tr>\n",
       "    <tr>\n",
       "        <td style=\"padding-left: 1em; padding-right: 1em; text-align: center; vertical-align: top\">2</td>\n",
       "        <td style=\"padding-left: 1em; padding-right: 1em; text-align: center; vertical-align: top\">0.0</td>\n",
       "        <td style=\"padding-left: 1em; padding-right: 1em; text-align: center; vertical-align: top\">0.0</td>\n",
       "        <td style=\"padding-left: 1em; padding-right: 1em; text-align: center; vertical-align: top\">0.0</td>\n",
       "        <td style=\"padding-left: 1em; padding-right: 1em; text-align: center; vertical-align: top\">0.0</td>\n",
       "    </tr>\n",
       "</table>\n",
       "[18 rows x 5 columns]<br/>Note: Only the head of the SFrame is printed.<br/>You can use print_rows(num_rows=m, num_columns=n) to print more rows and columns.\n",
       "</div>"
      ],
      "text/plain": [
       "Columns:\n",
       "\tcutoff\tint\n",
       "\tAvg of precision\tfloat\n",
       "\tStdv of precision\tfloat\n",
       "\tAvg of recall\tfloat\n",
       "\tStdv of recall\tfloat\n",
       "\n",
       "Rows: 18\n",
       "\n",
       "Data:\n",
       "+--------+------------------+-------------------+------------------+\n",
       "| cutoff | Avg of precision | Stdv of precision |  Avg of recall   |\n",
       "+--------+------------------+-------------------+------------------+\n",
       "|   16   | 0.00438596491228 |   0.015965153266  | 0.00816117891347 |\n",
       "|   10   | 0.00526315789474 |  0.0223296878269  | 0.00790692007797 |\n",
       "|   36   | 0.00292397660819 |   0.008524783472  | 0.0286290151708  |\n",
       "|   26   | 0.00404858299595 |  0.0118035463458  | 0.0286290151708  |\n",
       "|   41   | 0.00256739409499 |  0.00748517573151 | 0.0286290151708  |\n",
       "|   3    |       0.0        |        0.0        |       0.0        |\n",
       "|   1    |       0.0        |        0.0        |       0.0        |\n",
       "|   6    | 0.00292397660819 |  0.0218810373496  | 0.00194931773879 |\n",
       "|   11   | 0.00637958532695 |  0.0232220411141  | 0.00816117891347 |\n",
       "|   2    |       0.0        |        0.0        |       0.0        |\n",
       "+--------+------------------+-------------------+------------------+\n",
       "+-----------------+\n",
       "|  Stdv of recall |\n",
       "+-----------------+\n",
       "| 0.0458658257865 |\n",
       "| 0.0458701920702 |\n",
       "|  0.139218703451 |\n",
       "|  0.139218703451 |\n",
       "|  0.139218703451 |\n",
       "|       0.0       |\n",
       "|       0.0       |\n",
       "|  0.014587358233 |\n",
       "| 0.0458658257865 |\n",
       "|       0.0       |\n",
       "+-----------------+\n",
       "[18 rows x 5 columns]\n",
       "Note: Only the head of the SFrame is printed.\n",
       "You can use print_rows(num_rows=m, num_columns=n) to print more rows and columns."
      ]
     },
     "execution_count": 39,
     "metadata": {},
     "output_type": "execute_result"
    }
   ],
   "source": [
    "import graphlab.aggregate as agg\n",
    "\n",
    "# we will be using these aggregations\n",
    "agg_list = [agg.AVG('precision'),agg.STD('precision'),agg.AVG('recall'),agg.STD('recall')]\n",
    "\n",
    "# apply these functions to each group (we will group the results by 'k' which is the cutoff)\n",
    "# the cutoff is the number of top items to look for see the following URL for the actual equation\n",
    "# https://dato.com/products/create/docs/generated/graphlab.recommender.util.precision_recall_by_user.html#graphlab.recommender.util.precision_recall_by_user\n",
    "rmse_results['precision_recall_by_user'].groupby('cutoff',agg_list)\n",
    "\n",
    "# the groups are not sorted"
   ]
  },
  {
   "cell_type": "markdown",
   "metadata": {},
   "source": [
    "___\n",
    "## Cross Validated Collaborative Filtering"
   ]
  },
  {
   "cell_type": "code",
   "execution_count": 40,
   "metadata": {
    "scrolled": false
   },
   "outputs": [
    {
     "data": {
      "text/html": [
       "<pre>Recsys training: model = ranking_factorization_recommender</pre>"
      ],
      "text/plain": [
       "Recsys training: model = ranking_factorization_recommender"
      ]
     },
     "metadata": {},
     "output_type": "display_data"
    },
    {
     "data": {
      "text/html": [
       "<pre>Preparing data set.</pre>"
      ],
      "text/plain": [
       "Preparing data set."
      ]
     },
     "metadata": {},
     "output_type": "display_data"
    },
    {
     "data": {
      "text/html": [
       "<pre>    Data has 390671 observations with 7154 users and 13387 items.</pre>"
      ],
      "text/plain": [
       "    Data has 390671 observations with 7154 users and 13387 items."
      ]
     },
     "metadata": {},
     "output_type": "display_data"
    },
    {
     "data": {
      "text/html": [
       "<pre>    Data prepared in: 0.99436s</pre>"
      ],
      "text/plain": [
       "    Data prepared in: 0.99436s"
      ]
     },
     "metadata": {},
     "output_type": "display_data"
    },
    {
     "data": {
      "text/html": [
       "<pre>Training ranking_factorization_recommender for recommendations.</pre>"
      ],
      "text/plain": [
       "Training ranking_factorization_recommender for recommendations."
      ]
     },
     "metadata": {},
     "output_type": "display_data"
    },
    {
     "data": {
      "text/html": [
       "<pre>+--------------------------------+--------------------------------------------------+----------+</pre>"
      ],
      "text/plain": [
       "+--------------------------------+--------------------------------------------------+----------+"
      ]
     },
     "metadata": {},
     "output_type": "display_data"
    },
    {
     "data": {
      "text/html": [
       "<pre>| Parameter                      | Description                                      | Value    |</pre>"
      ],
      "text/plain": [
       "| Parameter                      | Description                                      | Value    |"
      ]
     },
     "metadata": {},
     "output_type": "display_data"
    },
    {
     "data": {
      "text/html": [
       "<pre>+--------------------------------+--------------------------------------------------+----------+</pre>"
      ],
      "text/plain": [
       "+--------------------------------+--------------------------------------------------+----------+"
      ]
     },
     "metadata": {},
     "output_type": "display_data"
    },
    {
     "data": {
      "text/html": [
       "<pre>| num_factors                    | Factor Dimension                                 | 32       |</pre>"
      ],
      "text/plain": [
       "| num_factors                    | Factor Dimension                                 | 32       |"
      ]
     },
     "metadata": {},
     "output_type": "display_data"
    },
    {
     "data": {
      "text/html": [
       "<pre>| regularization                 | L2 Regularization on Factors                     | 1e-009   |</pre>"
      ],
      "text/plain": [
       "| regularization                 | L2 Regularization on Factors                     | 1e-009   |"
      ]
     },
     "metadata": {},
     "output_type": "display_data"
    },
    {
     "data": {
      "text/html": [
       "<pre>| solver                         | Solver used for training                         | adagrad  |</pre>"
      ],
      "text/plain": [
       "| solver                         | Solver used for training                         | adagrad  |"
      ]
     },
     "metadata": {},
     "output_type": "display_data"
    },
    {
     "data": {
      "text/html": [
       "<pre>| linear_regularization          | L2 Regularization on Linear Coefficients         | 1e-009   |</pre>"
      ],
      "text/plain": [
       "| linear_regularization          | L2 Regularization on Linear Coefficients         | 1e-009   |"
      ]
     },
     "metadata": {},
     "output_type": "display_data"
    },
    {
     "data": {
      "text/html": [
       "<pre>| ranking_regularization         | Rank-based Regularization Weight                 | 0.25     |</pre>"
      ],
      "text/plain": [
       "| ranking_regularization         | Rank-based Regularization Weight                 | 0.25     |"
      ]
     },
     "metadata": {},
     "output_type": "display_data"
    },
    {
     "data": {
      "text/html": [
       "<pre>| max_iterations                 | Maximum Number of Iterations                     | 25       |</pre>"
      ],
      "text/plain": [
       "| max_iterations                 | Maximum Number of Iterations                     | 25       |"
      ]
     },
     "metadata": {},
     "output_type": "display_data"
    },
    {
     "data": {
      "text/html": [
       "<pre>+--------------------------------+--------------------------------------------------+----------+</pre>"
      ],
      "text/plain": [
       "+--------------------------------+--------------------------------------------------+----------+"
      ]
     },
     "metadata": {},
     "output_type": "display_data"
    },
    {
     "data": {
      "text/html": [
       "<pre>  Optimizing model using SGD; tuning step size.</pre>"
      ],
      "text/plain": [
       "  Optimizing model using SGD; tuning step size."
      ]
     },
     "metadata": {},
     "output_type": "display_data"
    },
    {
     "data": {
      "text/html": [
       "<pre>  Using 48833 / 390671 points for tuning the step size.</pre>"
      ],
      "text/plain": [
       "  Using 48833 / 390671 points for tuning the step size."
      ]
     },
     "metadata": {},
     "output_type": "display_data"
    },
    {
     "data": {
      "text/html": [
       "<pre>+---------+-------------------+------------------------------------------+</pre>"
      ],
      "text/plain": [
       "+---------+-------------------+------------------------------------------+"
      ]
     },
     "metadata": {},
     "output_type": "display_data"
    },
    {
     "data": {
      "text/html": [
       "<pre>| Attempt | Initial Step Size | Estimated Objective Value                |</pre>"
      ],
      "text/plain": [
       "| Attempt | Initial Step Size | Estimated Objective Value                |"
      ]
     },
     "metadata": {},
     "output_type": "display_data"
    },
    {
     "data": {
      "text/html": [
       "<pre>+---------+-------------------+------------------------------------------+</pre>"
      ],
      "text/plain": [
       "+---------+-------------------+------------------------------------------+"
      ]
     },
     "metadata": {},
     "output_type": "display_data"
    },
    {
     "data": {
      "text/html": [
       "<pre>| 0       | 2                 | Not Viable                               |</pre>"
      ],
      "text/plain": [
       "| 0       | 2                 | Not Viable                               |"
      ]
     },
     "metadata": {},
     "output_type": "display_data"
    },
    {
     "data": {
      "text/html": [
       "<pre>| 1       | 0.5               | Not Viable                               |</pre>"
      ],
      "text/plain": [
       "| 1       | 0.5               | Not Viable                               |"
      ]
     },
     "metadata": {},
     "output_type": "display_data"
    },
    {
     "data": {
      "text/html": [
       "<pre>| 2       | 0.125             | 0.276755                                 |</pre>"
      ],
      "text/plain": [
       "| 2       | 0.125             | 0.276755                                 |"
      ]
     },
     "metadata": {},
     "output_type": "display_data"
    },
    {
     "data": {
      "text/html": [
       "<pre>| 3       | 0.0625            | 0.634244                                 |</pre>"
      ],
      "text/plain": [
       "| 3       | 0.0625            | 0.634244                                 |"
      ]
     },
     "metadata": {},
     "output_type": "display_data"
    },
    {
     "data": {
      "text/html": [
       "<pre>+---------+-------------------+------------------------------------------+</pre>"
      ],
      "text/plain": [
       "+---------+-------------------+------------------------------------------+"
      ]
     },
     "metadata": {},
     "output_type": "display_data"
    },
    {
     "data": {
      "text/html": [
       "<pre>| Final   | 0.125             | 0.276755                                 |</pre>"
      ],
      "text/plain": [
       "| Final   | 0.125             | 0.276755                                 |"
      ]
     },
     "metadata": {},
     "output_type": "display_data"
    },
    {
     "data": {
      "text/html": [
       "<pre>+---------+-------------------+------------------------------------------+</pre>"
      ],
      "text/plain": [
       "+---------+-------------------+------------------------------------------+"
      ]
     },
     "metadata": {},
     "output_type": "display_data"
    },
    {
     "data": {
      "text/html": [
       "<pre>Starting Optimization.</pre>"
      ],
      "text/plain": [
       "Starting Optimization."
      ]
     },
     "metadata": {},
     "output_type": "display_data"
    },
    {
     "data": {
      "text/html": [
       "<pre>+---------+--------------+-------------------+-----------------------+-------------+</pre>"
      ],
      "text/plain": [
       "+---------+--------------+-------------------+-----------------------+-------------+"
      ]
     },
     "metadata": {},
     "output_type": "display_data"
    },
    {
     "data": {
      "text/html": [
       "<pre>| Iter.   | Elapsed Time | Approx. Objective | Approx. Training RMSE | Step Size   |</pre>"
      ],
      "text/plain": [
       "| Iter.   | Elapsed Time | Approx. Objective | Approx. Training RMSE | Step Size   |"
      ]
     },
     "metadata": {},
     "output_type": "display_data"
    },
    {
     "data": {
      "text/html": [
       "<pre>+---------+--------------+-------------------+-----------------------+-------------+</pre>"
      ],
      "text/plain": [
       "+---------+--------------+-------------------+-----------------------+-------------+"
      ]
     },
     "metadata": {},
     "output_type": "display_data"
    },
    {
     "data": {
      "text/html": [
       "<pre>| Initial | 0us          | 2.32527           | 1.08899               |             |</pre>"
      ],
      "text/plain": [
       "| Initial | 0us          | 2.32527           | 1.08899               |             |"
      ]
     },
     "metadata": {},
     "output_type": "display_data"
    },
    {
     "data": {
      "text/html": [
       "<pre>+---------+--------------+-------------------+-----------------------+-------------+</pre>"
      ],
      "text/plain": [
       "+---------+--------------+-------------------+-----------------------+-------------+"
      ]
     },
     "metadata": {},
     "output_type": "display_data"
    },
    {
     "data": {
      "text/html": [
       "<pre>| 1       | 1.71s        | 1.16115           | 0.88624               | 0.125       |</pre>"
      ],
      "text/plain": [
       "| 1       | 1.71s        | 1.16115           | 0.88624               | 0.125       |"
      ]
     },
     "metadata": {},
     "output_type": "display_data"
    },
    {
     "data": {
      "text/html": [
       "<pre>| 2       | 3.33s        | 0.571692          | 0.622372              | 0.125       |</pre>"
      ],
      "text/plain": [
       "| 2       | 3.33s        | 0.571692          | 0.622372              | 0.125       |"
      ]
     },
     "metadata": {},
     "output_type": "display_data"
    },
    {
     "data": {
      "text/html": [
       "<pre>| 3       | 4.77s        | 0.369323          | 0.495465              | 0.125       |</pre>"
      ],
      "text/plain": [
       "| 3       | 4.77s        | 0.369323          | 0.495465              | 0.125       |"
      ]
     },
     "metadata": {},
     "output_type": "display_data"
    },
    {
     "data": {
      "text/html": [
       "<pre>| 4       | 6.07s        | 0.426144          | 0.562158              | 0.125       |</pre>"
      ],
      "text/plain": [
       "| 4       | 6.07s        | 0.426144          | 0.562158              | 0.125       |"
      ]
     },
     "metadata": {},
     "output_type": "display_data"
    },
    {
     "data": {
      "text/html": [
       "<pre>| 5       | 7.43s        | 0.384723          | 0.500942              | 0.125       |</pre>"
      ],
      "text/plain": [
       "| 5       | 7.43s        | 0.384723          | 0.500942              | 0.125       |"
      ]
     },
     "metadata": {},
     "output_type": "display_data"
    },
    {
     "data": {
      "text/html": [
       "<pre>| 6       | 8.77s        | 0.262272          | 0.421215              | 0.125       |</pre>"
      ],
      "text/plain": [
       "| 6       | 8.77s        | 0.262272          | 0.421215              | 0.125       |"
      ]
     },
     "metadata": {},
     "output_type": "display_data"
    },
    {
     "data": {
      "text/html": [
       "<pre>| 7       | 10.09s       | 0.232192          | 0.394164              | 0.125       |</pre>"
      ],
      "text/plain": [
       "| 7       | 10.09s       | 0.232192          | 0.394164              | 0.125       |"
      ]
     },
     "metadata": {},
     "output_type": "display_data"
    },
    {
     "data": {
      "text/html": [
       "<pre>| 8       | 11.40s       | 0.208307          | 0.380562              | 0.125       |</pre>"
      ],
      "text/plain": [
       "| 8       | 11.40s       | 0.208307          | 0.380562              | 0.125       |"
      ]
     },
     "metadata": {},
     "output_type": "display_data"
    },
    {
     "data": {
      "text/html": [
       "<pre>| 9       | 12.65s       | 0.319941          | 0.484622              | 0.125       |</pre>"
      ],
      "text/plain": [
       "| 9       | 12.65s       | 0.319941          | 0.484622              | 0.125       |"
      ]
     },
     "metadata": {},
     "output_type": "display_data"
    },
    {
     "data": {
      "text/html": [
       "<pre>| 10      | 13.92s       | 0.230611          | 0.414602              | 0.125       |</pre>"
      ],
      "text/plain": [
       "| 10      | 13.92s       | 0.230611          | 0.414602              | 0.125       |"
      ]
     },
     "metadata": {},
     "output_type": "display_data"
    },
    {
     "data": {
      "text/html": [
       "<pre>| 11      | 15.17s       | 0.18091           | 0.365691              | 0.125       |</pre>"
      ],
      "text/plain": [
       "| 11      | 15.17s       | 0.18091           | 0.365691              | 0.125       |"
      ]
     },
     "metadata": {},
     "output_type": "display_data"
    },
    {
     "data": {
      "text/html": [
       "<pre>| 12      | 16.39s       | 0.159542          | 0.343373              | 0.125       |</pre>"
      ],
      "text/plain": [
       "| 12      | 16.39s       | 0.159542          | 0.343373              | 0.125       |"
      ]
     },
     "metadata": {},
     "output_type": "display_data"
    },
    {
     "data": {
      "text/html": [
       "<pre>| 13      | 17.57s       | 0.146545          | 0.328788              | 0.125       |</pre>"
      ],
      "text/plain": [
       "| 13      | 17.57s       | 0.146545          | 0.328788              | 0.125       |"
      ]
     },
     "metadata": {},
     "output_type": "display_data"
    },
    {
     "data": {
      "text/html": [
       "<pre>| 14      | 18.75s       | 0.138319          | 0.318884              | 0.125       |</pre>"
      ],
      "text/plain": [
       "| 14      | 18.75s       | 0.138319          | 0.318884              | 0.125       |"
      ]
     },
     "metadata": {},
     "output_type": "display_data"
    },
    {
     "data": {
      "text/html": [
       "<pre>| 15      | 19.99s       | 0.130771          | 0.3109                | 0.125       |</pre>"
      ],
      "text/plain": [
       "| 15      | 19.99s       | 0.130771          | 0.3109                | 0.125       |"
      ]
     },
     "metadata": {},
     "output_type": "display_data"
    },
    {
     "data": {
      "text/html": [
       "<pre>| 16      | 21.21s       | 0.12304           | 0.30147               | 0.125       |</pre>"
      ],
      "text/plain": [
       "| 16      | 21.21s       | 0.12304           | 0.30147               | 0.125       |"
      ]
     },
     "metadata": {},
     "output_type": "display_data"
    },
    {
     "data": {
      "text/html": [
       "<pre>| 17      | 22.42s       | 0.118903          | 0.295893              | 0.125       |</pre>"
      ],
      "text/plain": [
       "| 17      | 22.42s       | 0.118903          | 0.295893              | 0.125       |"
      ]
     },
     "metadata": {},
     "output_type": "display_data"
    },
    {
     "data": {
      "text/html": [
       "<pre>| 18      | 23.64s       | 0.113196          | 0.287441              | 0.125       |</pre>"
      ],
      "text/plain": [
       "| 18      | 23.64s       | 0.113196          | 0.287441              | 0.125       |"
      ]
     },
     "metadata": {},
     "output_type": "display_data"
    },
    {
     "data": {
      "text/html": [
       "<pre>| 19      | 24.82s       | 0.109312          | 0.283248              | 0.125       |</pre>"
      ],
      "text/plain": [
       "| 19      | 24.82s       | 0.109312          | 0.283248              | 0.125       |"
      ]
     },
     "metadata": {},
     "output_type": "display_data"
    },
    {
     "data": {
      "text/html": [
       "<pre>| 20      | 26.02s       | 0.10625           | 0.278541              | 0.125       |</pre>"
      ],
      "text/plain": [
       "| 20      | 26.02s       | 0.10625           | 0.278541              | 0.125       |"
      ]
     },
     "metadata": {},
     "output_type": "display_data"
    },
    {
     "data": {
      "text/html": [
       "<pre>| 21      | 27.17s       | 0.102515          | 0.273756              | 0.125       |</pre>"
      ],
      "text/plain": [
       "| 21      | 27.17s       | 0.102515          | 0.273756              | 0.125       |"
      ]
     },
     "metadata": {},
     "output_type": "display_data"
    },
    {
     "data": {
      "text/html": [
       "<pre>| 22      | 28.38s       | 0.100357          | 0.270304              | 0.125       |</pre>"
      ],
      "text/plain": [
       "| 22      | 28.38s       | 0.100357          | 0.270304              | 0.125       |"
      ]
     },
     "metadata": {},
     "output_type": "display_data"
    },
    {
     "data": {
      "text/html": [
       "<pre>| 23      | 29.52s       | 0.0978528         | 0.26606               | 0.125       |</pre>"
      ],
      "text/plain": [
       "| 23      | 29.52s       | 0.0978528         | 0.26606               | 0.125       |"
      ]
     },
     "metadata": {},
     "output_type": "display_data"
    },
    {
     "data": {
      "text/html": [
       "<pre>| 24      | 30.65s       | 0.11387           | 0.286997              | 0.125       |</pre>"
      ],
      "text/plain": [
       "| 24      | 30.65s       | 0.11387           | 0.286997              | 0.125       |"
      ]
     },
     "metadata": {},
     "output_type": "display_data"
    },
    {
     "data": {
      "text/html": [
       "<pre>| 25      | 31.93s       | 0.222383          | 0.384139              | 0.125       |</pre>"
      ],
      "text/plain": [
       "| 25      | 31.93s       | 0.222383          | 0.384139              | 0.125       |"
      ]
     },
     "metadata": {},
     "output_type": "display_data"
    },
    {
     "data": {
      "text/html": [
       "<pre>+---------+--------------+-------------------+-----------------------+-------------+</pre>"
      ],
      "text/plain": [
       "+---------+--------------+-------------------+-----------------------+-------------+"
      ]
     },
     "metadata": {},
     "output_type": "display_data"
    },
    {
     "data": {
      "text/html": [
       "<pre>Optimization Complete: Maximum number of passes through the data reached.</pre>"
      ],
      "text/plain": [
       "Optimization Complete: Maximum number of passes through the data reached."
      ]
     },
     "metadata": {},
     "output_type": "display_data"
    },
    {
     "data": {
      "text/html": [
       "<pre>Computing final objective value and training RMSE.</pre>"
      ],
      "text/plain": [
       "Computing final objective value and training RMSE."
      ]
     },
     "metadata": {},
     "output_type": "display_data"
    },
    {
     "data": {
      "text/html": [
       "<pre>       Final objective value: 0.242427</pre>"
      ],
      "text/plain": [
       "       Final objective value: 0.242427"
      ]
     },
     "metadata": {},
     "output_type": "display_data"
    },
    {
     "data": {
      "text/html": [
       "<pre>       Final training RMSE: 0.420071</pre>"
      ],
      "text/plain": [
       "       Final training RMSE: 0.420071"
      ]
     },
     "metadata": {},
     "output_type": "display_data"
    },
    {
     "name": "stdout",
     "output_type": "stream",
     "text": [
      "\n",
      "Precision and recall summary statistics by cutoff\n",
      "+--------+------------------+-------------------+\n",
      "| cutoff |  mean_precision  |    mean_recall    |\n",
      "+--------+------------------+-------------------+\n",
      "|   1    |       0.0        |        0.0        |\n",
      "|   2    |       0.0        |        0.0        |\n",
      "|   3    |       0.0        |        0.0        |\n",
      "|   4    |       0.0        |        0.0        |\n",
      "|   5    |       0.0        |        0.0        |\n",
      "|   6    |       0.0        |        0.0        |\n",
      "|   7    |       0.0        |        0.0        |\n",
      "|   8    | 0.00219298245614 | 0.000254258835495 |\n",
      "|   9    | 0.00194931773879 | 0.000254258835495 |\n",
      "|   10   | 0.00175438596491 | 0.000254258835495 |\n",
      "+--------+------------------+-------------------+\n",
      "[10 rows x 3 columns]\n",
      "\n",
      "('\\nOverall RMSE: ', 0.7057641452803001)\n",
      "\n",
      "Per User RMSE (best)\n",
      "+--------+-------+-----------------+\n",
      "| userId | count |       rmse      |\n",
      "+--------+-------+-----------------+\n",
      "| 95273  |   2   | 0.0812373851075 |\n",
      "+--------+-------+-----------------+\n",
      "[1 rows x 3 columns]\n",
      "\n",
      "\n",
      "Per User RMSE (worst)\n",
      "+--------+-------+---------------+\n",
      "| userId | count |      rmse     |\n",
      "+--------+-------+---------------+\n",
      "| 101085 |   1   | 2.94337389669 |\n",
      "+--------+-------+---------------+\n",
      "[1 rows x 3 columns]\n",
      "\n",
      "\n",
      "Per Item RMSE (best)\n",
      "+--------------------+-------+------------------+\n",
      "|       title        | count |       rmse       |\n",
      "+--------------------+-------+------------------+\n",
      "| Spice World (1997) |   1   | 0.00487402497117 |\n",
      "+--------------------+-------+------------------+\n",
      "[1 rows x 3 columns]\n",
      "\n",
      "\n",
      "Per Item RMSE (worst)\n",
      "+-------------------------------+-------+---------------+\n",
      "|             title             | count |      rmse     |\n",
      "+-------------------------------+-------+---------------+\n",
      "| You Don't Mess with the Zo... |   1   | 3.50312809657 |\n",
      "+-------------------------------+-------+---------------+\n",
      "[1 rows x 3 columns]\n",
      "\n"
     ]
    }
   ],
   "source": [
    "rec1 = gl.recommender.ranking_factorization_recommender.create(train, \n",
    "                                  user_id=\"userId\", \n",
    "                                  item_id=\"title\", \n",
    "                                  target=\"rating\")\n",
    "\n",
    "rmse_results = rec1.evaluate(test)"
   ]
  },
  {
   "cell_type": "code",
   "execution_count": 50,
   "metadata": {
    "scrolled": false
   },
   "outputs": [
    {
     "data": {
      "text/html": [
       "<div style=\"max-height:1000px;max-width:1500px;overflow:auto;\"><table frame=\"box\" rules=\"cols\">\n",
       "    <tr>\n",
       "        <th style=\"padding-left: 1em; padding-right: 1em; text-align: center\">cutoff</th>\n",
       "        <th style=\"padding-left: 1em; padding-right: 1em; text-align: center\">Avg of precision</th>\n",
       "        <th style=\"padding-left: 1em; padding-right: 1em; text-align: center\">Stdv of precision</th>\n",
       "        <th style=\"padding-left: 1em; padding-right: 1em; text-align: center\">Avg of recall</th>\n",
       "        <th style=\"padding-left: 1em; padding-right: 1em; text-align: center\">Stdv of recall</th>\n",
       "    </tr>\n",
       "    <tr>\n",
       "        <td style=\"padding-left: 1em; padding-right: 1em; text-align: center; vertical-align: top\">16</td>\n",
       "        <td style=\"padding-left: 1em; padding-right: 1em; text-align: center; vertical-align: top\">0.00219298245614</td>\n",
       "        <td style=\"padding-left: 1em; padding-right: 1em; text-align: center; vertical-align: top\">0.0115000970194</td>\n",
       "        <td style=\"padding-left: 1em; padding-right: 1em; text-align: center; vertical-align: top\">0.00610221205187</td>\n",
       "        <td style=\"padding-left: 1em; padding-right: 1em; text-align: center; vertical-align: top\">0.0437694603294</td>\n",
       "    </tr>\n",
       "    <tr>\n",
       "        <td style=\"padding-left: 1em; padding-right: 1em; text-align: center; vertical-align: top\">10</td>\n",
       "        <td style=\"padding-left: 1em; padding-right: 1em; text-align: center; vertical-align: top\">0.00175438596491</td>\n",
       "        <td style=\"padding-left: 1em; padding-right: 1em; text-align: center; vertical-align: top\">0.0131286224097</td>\n",
       "        <td style=\"padding-left: 1em; padding-right: 1em; text-align: center; vertical-align: top\">0.000254258835495</td>\n",
       "        <td style=\"padding-left: 1em; padding-right: 1em; text-align: center; vertical-align: top\">0.00190269889996</td>\n",
       "    </tr>\n",
       "    <tr>\n",
       "        <td style=\"padding-left: 1em; padding-right: 1em; text-align: center; vertical-align: top\">36</td>\n",
       "        <td style=\"padding-left: 1em; padding-right: 1em; text-align: center; vertical-align: top\">0.000974658869396</td>\n",
       "        <td style=\"padding-left: 1em; padding-right: 1em; text-align: center; vertical-align: top\">0.00511115423085</td>\n",
       "        <td style=\"padding-left: 1em; padding-right: 1em; text-align: center; vertical-align: top\">0.00610221205187</td>\n",
       "        <td style=\"padding-left: 1em; padding-right: 1em; text-align: center; vertical-align: top\">0.0437694603294</td>\n",
       "    </tr>\n",
       "    <tr>\n",
       "        <td style=\"padding-left: 1em; padding-right: 1em; text-align: center; vertical-align: top\">26</td>\n",
       "        <td style=\"padding-left: 1em; padding-right: 1em; text-align: center; vertical-align: top\">0.00134952766532</td>\n",
       "        <td style=\"padding-left: 1em; padding-right: 1em; text-align: center; vertical-align: top\">0.00707698278118</td>\n",
       "        <td style=\"padding-left: 1em; padding-right: 1em; text-align: center; vertical-align: top\">0.00610221205187</td>\n",
       "        <td style=\"padding-left: 1em; padding-right: 1em; text-align: center; vertical-align: top\">0.0437694603294</td>\n",
       "    </tr>\n",
       "    <tr>\n",
       "        <td style=\"padding-left: 1em; padding-right: 1em; text-align: center; vertical-align: top\">41</td>\n",
       "        <td style=\"padding-left: 1em; padding-right: 1em; text-align: center; vertical-align: top\">0.0012836970475</td>\n",
       "        <td style=\"padding-left: 1em; padding-right: 1em; text-align: center; vertical-align: top\">0.00544626532364</td>\n",
       "        <td style=\"padding-left: 1em; padding-right: 1em; text-align: center; vertical-align: top\">0.023646071701</td>\n",
       "        <td style=\"padding-left: 1em; padding-right: 1em; text-align: center; vertical-align: top\">0.137614409099</td>\n",
       "    </tr>\n",
       "    <tr>\n",
       "        <td style=\"padding-left: 1em; padding-right: 1em; text-align: center; vertical-align: top\">3</td>\n",
       "        <td style=\"padding-left: 1em; padding-right: 1em; text-align: center; vertical-align: top\">0.0</td>\n",
       "        <td style=\"padding-left: 1em; padding-right: 1em; text-align: center; vertical-align: top\">0.0</td>\n",
       "        <td style=\"padding-left: 1em; padding-right: 1em; text-align: center; vertical-align: top\">0.0</td>\n",
       "        <td style=\"padding-left: 1em; padding-right: 1em; text-align: center; vertical-align: top\">0.0</td>\n",
       "    </tr>\n",
       "    <tr>\n",
       "        <td style=\"padding-left: 1em; padding-right: 1em; text-align: center; vertical-align: top\">1</td>\n",
       "        <td style=\"padding-left: 1em; padding-right: 1em; text-align: center; vertical-align: top\">0.0</td>\n",
       "        <td style=\"padding-left: 1em; padding-right: 1em; text-align: center; vertical-align: top\">0.0</td>\n",
       "        <td style=\"padding-left: 1em; padding-right: 1em; text-align: center; vertical-align: top\">0.0</td>\n",
       "        <td style=\"padding-left: 1em; padding-right: 1em; text-align: center; vertical-align: top\">0.0</td>\n",
       "    </tr>\n",
       "    <tr>\n",
       "        <td style=\"padding-left: 1em; padding-right: 1em; text-align: center; vertical-align: top\">6</td>\n",
       "        <td style=\"padding-left: 1em; padding-right: 1em; text-align: center; vertical-align: top\">0.0</td>\n",
       "        <td style=\"padding-left: 1em; padding-right: 1em; text-align: center; vertical-align: top\">0.0</td>\n",
       "        <td style=\"padding-left: 1em; padding-right: 1em; text-align: center; vertical-align: top\">0.0</td>\n",
       "        <td style=\"padding-left: 1em; padding-right: 1em; text-align: center; vertical-align: top\">0.0</td>\n",
       "    </tr>\n",
       "    <tr>\n",
       "        <td style=\"padding-left: 1em; padding-right: 1em; text-align: center; vertical-align: top\">11</td>\n",
       "        <td style=\"padding-left: 1em; padding-right: 1em; text-align: center; vertical-align: top\">0.00159489633174</td>\n",
       "        <td style=\"padding-left: 1em; padding-right: 1em; text-align: center; vertical-align: top\">0.0119351112816</td>\n",
       "        <td style=\"padding-left: 1em; padding-right: 1em; text-align: center; vertical-align: top\">0.000254258835495</td>\n",
       "        <td style=\"padding-left: 1em; padding-right: 1em; text-align: center; vertical-align: top\">0.00190269889996</td>\n",
       "    </tr>\n",
       "    <tr>\n",
       "        <td style=\"padding-left: 1em; padding-right: 1em; text-align: center; vertical-align: top\">2</td>\n",
       "        <td style=\"padding-left: 1em; padding-right: 1em; text-align: center; vertical-align: top\">0.0</td>\n",
       "        <td style=\"padding-left: 1em; padding-right: 1em; text-align: center; vertical-align: top\">0.0</td>\n",
       "        <td style=\"padding-left: 1em; padding-right: 1em; text-align: center; vertical-align: top\">0.0</td>\n",
       "        <td style=\"padding-left: 1em; padding-right: 1em; text-align: center; vertical-align: top\">0.0</td>\n",
       "    </tr>\n",
       "</table>\n",
       "[18 rows x 5 columns]<br/>Note: Only the head of the SFrame is printed.<br/>You can use print_rows(num_rows=m, num_columns=n) to print more rows and columns.\n",
       "</div>"
      ],
      "text/plain": [
       "Columns:\n",
       "\tcutoff\tint\n",
       "\tAvg of precision\tfloat\n",
       "\tStdv of precision\tfloat\n",
       "\tAvg of recall\tfloat\n",
       "\tStdv of recall\tfloat\n",
       "\n",
       "Rows: 18\n",
       "\n",
       "Data:\n",
       "+--------+-------------------+-------------------+-------------------+\n",
       "| cutoff |  Avg of precision | Stdv of precision |   Avg of recall   |\n",
       "+--------+-------------------+-------------------+-------------------+\n",
       "|   16   |  0.00219298245614 |  0.0115000970194  |  0.00610221205187 |\n",
       "|   10   |  0.00175438596491 |  0.0131286224097  | 0.000254258835495 |\n",
       "|   36   | 0.000974658869396 |  0.00511115423085 |  0.00610221205187 |\n",
       "|   26   |  0.00134952766532 |  0.00707698278118 |  0.00610221205187 |\n",
       "|   41   |  0.0012836970475  |  0.00544626532364 |   0.023646071701  |\n",
       "|   3    |        0.0        |        0.0        |        0.0        |\n",
       "|   1    |        0.0        |        0.0        |        0.0        |\n",
       "|   6    |        0.0        |        0.0        |        0.0        |\n",
       "|   11   |  0.00159489633174 |  0.0119351112816  | 0.000254258835495 |\n",
       "|   2    |        0.0        |        0.0        |        0.0        |\n",
       "+--------+-------------------+-------------------+-------------------+\n",
       "+------------------+\n",
       "|  Stdv of recall  |\n",
       "+------------------+\n",
       "| 0.0437694603294  |\n",
       "| 0.00190269889996 |\n",
       "| 0.0437694603294  |\n",
       "| 0.0437694603294  |\n",
       "|  0.137614409099  |\n",
       "|       0.0        |\n",
       "|       0.0        |\n",
       "|       0.0        |\n",
       "| 0.00190269889996 |\n",
       "|       0.0        |\n",
       "+------------------+\n",
       "[18 rows x 5 columns]\n",
       "Note: Only the head of the SFrame is printed.\n",
       "You can use print_rows(num_rows=m, num_columns=n) to print more rows and columns."
      ]
     },
     "execution_count": 50,
     "metadata": {},
     "output_type": "execute_result"
    }
   ],
   "source": [
    "rmse_results['precision_recall_by_user'].groupby('cutoff',[agg.AVG('precision'),agg.STD('precision'),agg.AVG('recall'),agg.STD('recall')])"
   ]
  },
  {
   "cell_type": "markdown",
   "metadata": {},
   "source": [
    "<a href=\"#top\">Back to Top</a>\n",
    "### Modeling and Evaluation - Evaluate & Compare<a id=\"Modeling_and_Evaluation_Evaluate_and_Compare\"></a>\n",
    "* Determine performance of the recommendations using different performance measures and explain what each measure."
   ]
  },
  {
   "cell_type": "markdown",
   "metadata": {},
   "source": [
    "FROM CLASS:\n",
    "\n",
    "Okay, so we are getting better, but might need to tweak the results of the classifier by regularizing...\n",
    "Remember that we need to come up with a good estimate of the latent factors and we need that matrix to be a good estimate of the given ratings. We can control some of the parameters using regularization constants and increasing or decreasing the number of latent factors."
   ]
  },
  {
   "cell_type": "code",
   "execution_count": 53,
   "metadata": {
    "scrolled": false
   },
   "outputs": [
    {
     "data": {
      "text/html": [
       "<pre>Recsys training: model = ranking_factorization_recommender</pre>"
      ],
      "text/plain": [
       "Recsys training: model = ranking_factorization_recommender"
      ]
     },
     "metadata": {},
     "output_type": "display_data"
    },
    {
     "data": {
      "text/html": [
       "<pre>Preparing data set.</pre>"
      ],
      "text/plain": [
       "Preparing data set."
      ]
     },
     "metadata": {},
     "output_type": "display_data"
    },
    {
     "data": {
      "text/html": [
       "<pre>    Data has 390671 observations with 7154 users and 13387 items.</pre>"
      ],
      "text/plain": [
       "    Data has 390671 observations with 7154 users and 13387 items."
      ]
     },
     "metadata": {},
     "output_type": "display_data"
    },
    {
     "data": {
      "text/html": [
       "<pre>    Data prepared in: 0.987346s</pre>"
      ],
      "text/plain": [
       "    Data prepared in: 0.987346s"
      ]
     },
     "metadata": {},
     "output_type": "display_data"
    },
    {
     "data": {
      "text/html": [
       "<pre>Training ranking_factorization_recommender for recommendations.</pre>"
      ],
      "text/plain": [
       "Training ranking_factorization_recommender for recommendations."
      ]
     },
     "metadata": {},
     "output_type": "display_data"
    },
    {
     "data": {
      "text/html": [
       "<pre>+--------------------------------+--------------------------------------------------+----------+</pre>"
      ],
      "text/plain": [
       "+--------------------------------+--------------------------------------------------+----------+"
      ]
     },
     "metadata": {},
     "output_type": "display_data"
    },
    {
     "data": {
      "text/html": [
       "<pre>| Parameter                      | Description                                      | Value    |</pre>"
      ],
      "text/plain": [
       "| Parameter                      | Description                                      | Value    |"
      ]
     },
     "metadata": {},
     "output_type": "display_data"
    },
    {
     "data": {
      "text/html": [
       "<pre>+--------------------------------+--------------------------------------------------+----------+</pre>"
      ],
      "text/plain": [
       "+--------------------------------+--------------------------------------------------+----------+"
      ]
     },
     "metadata": {},
     "output_type": "display_data"
    },
    {
     "data": {
      "text/html": [
       "<pre>| num_factors                    | Factor Dimension                                 | 16       |</pre>"
      ],
      "text/plain": [
       "| num_factors                    | Factor Dimension                                 | 16       |"
      ]
     },
     "metadata": {},
     "output_type": "display_data"
    },
    {
     "data": {
      "text/html": [
       "<pre>| regularization                 | L2 Regularization on Factors                     | 0.01     |</pre>"
      ],
      "text/plain": [
       "| regularization                 | L2 Regularization on Factors                     | 0.01     |"
      ]
     },
     "metadata": {},
     "output_type": "display_data"
    },
    {
     "data": {
      "text/html": [
       "<pre>| solver                         | Solver used for training                         | adagrad  |</pre>"
      ],
      "text/plain": [
       "| solver                         | Solver used for training                         | adagrad  |"
      ]
     },
     "metadata": {},
     "output_type": "display_data"
    },
    {
     "data": {
      "text/html": [
       "<pre>| linear_regularization          | L2 Regularization on Linear Coefficients         | 0.001    |</pre>"
      ],
      "text/plain": [
       "| linear_regularization          | L2 Regularization on Linear Coefficients         | 0.001    |"
      ]
     },
     "metadata": {},
     "output_type": "display_data"
    },
    {
     "data": {
      "text/html": [
       "<pre>| ranking_regularization         | Rank-based Regularization Weight                 | 0.25     |</pre>"
      ],
      "text/plain": [
       "| ranking_regularization         | Rank-based Regularization Weight                 | 0.25     |"
      ]
     },
     "metadata": {},
     "output_type": "display_data"
    },
    {
     "data": {
      "text/html": [
       "<pre>| max_iterations                 | Maximum Number of Iterations                     | 25       |</pre>"
      ],
      "text/plain": [
       "| max_iterations                 | Maximum Number of Iterations                     | 25       |"
      ]
     },
     "metadata": {},
     "output_type": "display_data"
    },
    {
     "data": {
      "text/html": [
       "<pre>+--------------------------------+--------------------------------------------------+----------+</pre>"
      ],
      "text/plain": [
       "+--------------------------------+--------------------------------------------------+----------+"
      ]
     },
     "metadata": {},
     "output_type": "display_data"
    },
    {
     "data": {
      "text/html": [
       "<pre>  Optimizing model using SGD; tuning step size.</pre>"
      ],
      "text/plain": [
       "  Optimizing model using SGD; tuning step size."
      ]
     },
     "metadata": {},
     "output_type": "display_data"
    },
    {
     "data": {
      "text/html": [
       "<pre>  Using 48833 / 390671 points for tuning the step size.</pre>"
      ],
      "text/plain": [
       "  Using 48833 / 390671 points for tuning the step size."
      ]
     },
     "metadata": {},
     "output_type": "display_data"
    },
    {
     "data": {
      "text/html": [
       "<pre>+---------+-------------------+------------------------------------------+</pre>"
      ],
      "text/plain": [
       "+---------+-------------------+------------------------------------------+"
      ]
     },
     "metadata": {},
     "output_type": "display_data"
    },
    {
     "data": {
      "text/html": [
       "<pre>| Attempt | Initial Step Size | Estimated Objective Value                |</pre>"
      ],
      "text/plain": [
       "| Attempt | Initial Step Size | Estimated Objective Value                |"
      ]
     },
     "metadata": {},
     "output_type": "display_data"
    },
    {
     "data": {
      "text/html": [
       "<pre>+---------+-------------------+------------------------------------------+</pre>"
      ],
      "text/plain": [
       "+---------+-------------------+------------------------------------------+"
      ]
     },
     "metadata": {},
     "output_type": "display_data"
    },
    {
     "data": {
      "text/html": [
       "<pre>| 0       | 0.0188588         | 1.90227                                  |</pre>"
      ],
      "text/plain": [
       "| 0       | 0.0188588         | 1.90227                                  |"
      ]
     },
     "metadata": {},
     "output_type": "display_data"
    },
    {
     "data": {
      "text/html": [
       "<pre>| 1       | 0.00942939        | 1.93602                                  |</pre>"
      ],
      "text/plain": [
       "| 1       | 0.00942939        | 1.93602                                  |"
      ]
     },
     "metadata": {},
     "output_type": "display_data"
    },
    {
     "data": {
      "text/html": [
       "<pre>| 2       | 0.00471469        | 2.00907                                  |</pre>"
      ],
      "text/plain": [
       "| 2       | 0.00471469        | 2.00907                                  |"
      ]
     },
     "metadata": {},
     "output_type": "display_data"
    },
    {
     "data": {
      "text/html": [
       "<pre>| 3       | 0.00235735        | 2.10222                                  |</pre>"
      ],
      "text/plain": [
       "| 3       | 0.00235735        | 2.10222                                  |"
      ]
     },
     "metadata": {},
     "output_type": "display_data"
    },
    {
     "data": {
      "text/html": [
       "<pre>+---------+-------------------+------------------------------------------+</pre>"
      ],
      "text/plain": [
       "+---------+-------------------+------------------------------------------+"
      ]
     },
     "metadata": {},
     "output_type": "display_data"
    },
    {
     "data": {
      "text/html": [
       "<pre>| Final   | 0.0188588         | 1.90227                                  |</pre>"
      ],
      "text/plain": [
       "| Final   | 0.0188588         | 1.90227                                  |"
      ]
     },
     "metadata": {},
     "output_type": "display_data"
    },
    {
     "data": {
      "text/html": [
       "<pre>+---------+-------------------+------------------------------------------+</pre>"
      ],
      "text/plain": [
       "+---------+-------------------+------------------------------------------+"
      ]
     },
     "metadata": {},
     "output_type": "display_data"
    },
    {
     "data": {
      "text/html": [
       "<pre>Starting Optimization.</pre>"
      ],
      "text/plain": [
       "Starting Optimization."
      ]
     },
     "metadata": {},
     "output_type": "display_data"
    },
    {
     "data": {
      "text/html": [
       "<pre>+---------+--------------+-------------------+-----------------------+-------------+</pre>"
      ],
      "text/plain": [
       "+---------+--------------+-------------------+-----------------------+-------------+"
      ]
     },
     "metadata": {},
     "output_type": "display_data"
    },
    {
     "data": {
      "text/html": [
       "<pre>| Iter.   | Elapsed Time | Approx. Objective | Approx. Training RMSE | Step Size   |</pre>"
      ],
      "text/plain": [
       "| Iter.   | Elapsed Time | Approx. Objective | Approx. Training RMSE | Step Size   |"
      ]
     },
     "metadata": {},
     "output_type": "display_data"
    },
    {
     "data": {
      "text/html": [
       "<pre>+---------+--------------+-------------------+-----------------------+-------------+</pre>"
      ],
      "text/plain": [
       "+---------+--------------+-------------------+-----------------------+-------------+"
      ]
     },
     "metadata": {},
     "output_type": "display_data"
    },
    {
     "data": {
      "text/html": [
       "<pre>| Initial | 0us          | 2.32525           | 1.08899               |             |</pre>"
      ],
      "text/plain": [
       "| Initial | 0us          | 2.32525           | 1.08899               |             |"
      ]
     },
     "metadata": {},
     "output_type": "display_data"
    },
    {
     "data": {
      "text/html": [
       "<pre>+---------+--------------+-------------------+-----------------------+-------------+</pre>"
      ],
      "text/plain": [
       "+---------+--------------+-------------------+-----------------------+-------------+"
      ]
     },
     "metadata": {},
     "output_type": "display_data"
    },
    {
     "data": {
      "text/html": [
       "<pre>| 1       | 1.24s        | 2.13297           | 1.01024               | 0.0188588   |</pre>"
      ],
      "text/plain": [
       "| 1       | 1.24s        | 2.13297           | 1.01024               | 0.0188588   |"
      ]
     },
     "metadata": {},
     "output_type": "display_data"
    },
    {
     "data": {
      "text/html": [
       "<pre>| 2       | 2.51s        | 1.9915            | 1.02648               | 0.0188588   |</pre>"
      ],
      "text/plain": [
       "| 2       | 2.51s        | 1.9915            | 1.02648               | 0.0188588   |"
      ]
     },
     "metadata": {},
     "output_type": "display_data"
    },
    {
     "data": {
      "text/html": [
       "<pre>| 3       | 3.77s        | 1.90795           | 1.00685               | 0.0188588   |</pre>"
      ],
      "text/plain": [
       "| 3       | 3.77s        | 1.90795           | 1.00685               | 0.0188588   |"
      ]
     },
     "metadata": {},
     "output_type": "display_data"
    },
    {
     "data": {
      "text/html": [
       "<pre>| 4       | 7.41s        | 1.88494           | 0.999906              | 0.0188588   |</pre>"
      ],
      "text/plain": [
       "| 4       | 7.41s        | 1.88494           | 0.999906              | 0.0188588   |"
      ]
     },
     "metadata": {},
     "output_type": "display_data"
    },
    {
     "data": {
      "text/html": [
       "<pre>| 5       | 8.51s        | 1.87794           | 0.991361              | 0.0188588   |</pre>"
      ],
      "text/plain": [
       "| 5       | 8.51s        | 1.87794           | 0.991361              | 0.0188588   |"
      ]
     },
     "metadata": {},
     "output_type": "display_data"
    },
    {
     "data": {
      "text/html": [
       "<pre>| 6       | 9.72s        | 1.87206           | 0.988773              | 0.0188588   |</pre>"
      ],
      "text/plain": [
       "| 6       | 9.72s        | 1.87206           | 0.988773              | 0.0188588   |"
      ]
     },
     "metadata": {},
     "output_type": "display_data"
    },
    {
     "data": {
      "text/html": [
       "<pre>| 7       | 10.90s       | 1.86673           | 0.985771              | 0.0188588   |</pre>"
      ],
      "text/plain": [
       "| 7       | 10.90s       | 1.86673           | 0.985771              | 0.0188588   |"
      ]
     },
     "metadata": {},
     "output_type": "display_data"
    },
    {
     "data": {
      "text/html": [
       "<pre>| 8       | 12.02s       | 1.86457           | 0.983181              | 0.0188588   |</pre>"
      ],
      "text/plain": [
       "| 8       | 12.02s       | 1.86457           | 0.983181              | 0.0188588   |"
      ]
     },
     "metadata": {},
     "output_type": "display_data"
    },
    {
     "data": {
      "text/html": [
       "<pre>| 9       | 13.19s       | 1.86134           | 0.983085              | 0.0188588   |</pre>"
      ],
      "text/plain": [
       "| 9       | 13.19s       | 1.86134           | 0.983085              | 0.0188588   |"
      ]
     },
     "metadata": {},
     "output_type": "display_data"
    },
    {
     "data": {
      "text/html": [
       "<pre>| 10      | 14.33s       | 1.85936           | 0.980575              | 0.0188588   |</pre>"
      ],
      "text/plain": [
       "| 10      | 14.33s       | 1.85936           | 0.980575              | 0.0188588   |"
      ]
     },
     "metadata": {},
     "output_type": "display_data"
    },
    {
     "data": {
      "text/html": [
       "<pre>| 11      | 15.48s       | 1.85737           | 0.980199              | 0.0188588   |</pre>"
      ],
      "text/plain": [
       "| 11      | 15.48s       | 1.85737           | 0.980199              | 0.0188588   |"
      ]
     },
     "metadata": {},
     "output_type": "display_data"
    },
    {
     "data": {
      "text/html": [
       "<pre>| 12      | 16.62s       | 1.85626           | 0.978689              | 0.0188588   |</pre>"
      ],
      "text/plain": [
       "| 12      | 16.62s       | 1.85626           | 0.978689              | 0.0188588   |"
      ]
     },
     "metadata": {},
     "output_type": "display_data"
    },
    {
     "data": {
      "text/html": [
       "<pre>| 13      | 17.75s       | 1.85275           | 0.978702              | 0.0188588   |</pre>"
      ],
      "text/plain": [
       "| 13      | 17.75s       | 1.85275           | 0.978702              | 0.0188588   |"
      ]
     },
     "metadata": {},
     "output_type": "display_data"
    },
    {
     "data": {
      "text/html": [
       "<pre>| 14      | 18.89s       | 1.852             | 0.977598              | 0.0188588   |</pre>"
      ],
      "text/plain": [
       "| 14      | 18.89s       | 1.852             | 0.977598              | 0.0188588   |"
      ]
     },
     "metadata": {},
     "output_type": "display_data"
    },
    {
     "data": {
      "text/html": [
       "<pre>| 15      | 20.05s       | 1.85055           | 0.976613              | 0.0188588   |</pre>"
      ],
      "text/plain": [
       "| 15      | 20.05s       | 1.85055           | 0.976613              | 0.0188588   |"
      ]
     },
     "metadata": {},
     "output_type": "display_data"
    },
    {
     "data": {
      "text/html": [
       "<pre>| 16      | 21.20s       | 1.84939           | 0.977017              | 0.0188588   |</pre>"
      ],
      "text/plain": [
       "| 16      | 21.20s       | 1.84939           | 0.977017              | 0.0188588   |"
      ]
     },
     "metadata": {},
     "output_type": "display_data"
    },
    {
     "data": {
      "text/html": [
       "<pre>| 17      | 22.30s       | 1.84718           | 0.976736              | 0.0188588   |</pre>"
      ],
      "text/plain": [
       "| 17      | 22.30s       | 1.84718           | 0.976736              | 0.0188588   |"
      ]
     },
     "metadata": {},
     "output_type": "display_data"
    },
    {
     "data": {
      "text/html": [
       "<pre>| 18      | 23.55s       | 1.84697           | 0.975457              | 0.0188588   |</pre>"
      ],
      "text/plain": [
       "| 18      | 23.55s       | 1.84697           | 0.975457              | 0.0188588   |"
      ]
     },
     "metadata": {},
     "output_type": "display_data"
    },
    {
     "data": {
      "text/html": [
       "<pre>| 19      | 24.72s       | 1.8455            | 0.975062              | 0.0188588   |</pre>"
      ],
      "text/plain": [
       "| 19      | 24.72s       | 1.8455            | 0.975062              | 0.0188588   |"
      ]
     },
     "metadata": {},
     "output_type": "display_data"
    },
    {
     "data": {
      "text/html": [
       "<pre>| 20      | 25.88s       | 1.84418           | 0.975247              | 0.0188588   |</pre>"
      ],
      "text/plain": [
       "| 20      | 25.88s       | 1.84418           | 0.975247              | 0.0188588   |"
      ]
     },
     "metadata": {},
     "output_type": "display_data"
    },
    {
     "data": {
      "text/html": [
       "<pre>| 21      | 27.12s       | 1.84395           | 0.974526              | 0.0188588   |</pre>"
      ],
      "text/plain": [
       "| 21      | 27.12s       | 1.84395           | 0.974526              | 0.0188588   |"
      ]
     },
     "metadata": {},
     "output_type": "display_data"
    },
    {
     "data": {
      "text/html": [
       "<pre>| 22      | 28.34s       | 1.84225           | 0.974353              | 0.0188588   |</pre>"
      ],
      "text/plain": [
       "| 22      | 28.34s       | 1.84225           | 0.974353              | 0.0188588   |"
      ]
     },
     "metadata": {},
     "output_type": "display_data"
    },
    {
     "data": {
      "text/html": [
       "<pre>| 23      | 29.51s       | 1.84159           | 0.974158              | 0.0188588   |</pre>"
      ],
      "text/plain": [
       "| 23      | 29.51s       | 1.84159           | 0.974158              | 0.0188588   |"
      ]
     },
     "metadata": {},
     "output_type": "display_data"
    },
    {
     "data": {
      "text/html": [
       "<pre>| 24      | 30.77s       | 1.8412            | 0.973886              | 0.0188588   |</pre>"
      ],
      "text/plain": [
       "| 24      | 30.77s       | 1.8412            | 0.973886              | 0.0188588   |"
      ]
     },
     "metadata": {},
     "output_type": "display_data"
    },
    {
     "data": {
      "text/html": [
       "<pre>| 25      | 32.03s       | 1.84049           | 0.97317               | 0.0188588   |</pre>"
      ],
      "text/plain": [
       "| 25      | 32.03s       | 1.84049           | 0.97317               | 0.0188588   |"
      ]
     },
     "metadata": {},
     "output_type": "display_data"
    },
    {
     "data": {
      "text/html": [
       "<pre>+---------+--------------+-------------------+-----------------------+-------------+</pre>"
      ],
      "text/plain": [
       "+---------+--------------+-------------------+-----------------------+-------------+"
      ]
     },
     "metadata": {},
     "output_type": "display_data"
    },
    {
     "data": {
      "text/html": [
       "<pre>Optimization Complete: Maximum number of passes through the data reached.</pre>"
      ],
      "text/plain": [
       "Optimization Complete: Maximum number of passes through the data reached."
      ]
     },
     "metadata": {},
     "output_type": "display_data"
    },
    {
     "data": {
      "text/html": [
       "<pre>Computing final objective value and training RMSE.</pre>"
      ],
      "text/plain": [
       "Computing final objective value and training RMSE."
      ]
     },
     "metadata": {},
     "output_type": "display_data"
    },
    {
     "data": {
      "text/html": [
       "<pre>       Final objective value: 1.87477</pre>"
      ],
      "text/plain": [
       "       Final objective value: 1.87477"
      ]
     },
     "metadata": {},
     "output_type": "display_data"
    },
    {
     "data": {
      "text/html": [
       "<pre>       Final training RMSE: 0.973099</pre>"
      ],
      "text/plain": [
       "       Final training RMSE: 0.973099"
      ]
     },
     "metadata": {},
     "output_type": "display_data"
    },
    {
     "name": "stdout",
     "output_type": "stream",
     "text": [
      "\n",
      "Precision and recall summary statistics by cutoff\n",
      "+--------+------------------+------------------+\n",
      "| cutoff |  mean_precision  |   mean_recall    |\n",
      "+--------+------------------+------------------+\n",
      "|   1    |       0.0        |       0.0        |\n",
      "|   2    |       0.0        |       0.0        |\n",
      "|   3    |       0.0        |       0.0        |\n",
      "|   4    |       0.0        |       0.0        |\n",
      "|   5    |       0.0        |       0.0        |\n",
      "|   6    | 0.00292397660819 | 0.00292397660819 |\n",
      "|   7    | 0.00250626566416 | 0.00292397660819 |\n",
      "|   8    | 0.00438596491228 | 0.00487329434698 |\n",
      "|   9    | 0.00389863547758 | 0.00487329434698 |\n",
      "|   10   | 0.00526315789474 | 0.0107212475634  |\n",
      "+--------+------------------+------------------+\n",
      "[10 rows x 3 columns]\n",
      "\n",
      "('\\nOverall RMSE: ', 1.0189918222573173)\n",
      "\n",
      "Per User RMSE (best)\n",
      "+--------+-------+-----------------+\n",
      "| userId | count |       rmse      |\n",
      "+--------+-------+-----------------+\n",
      "| 51639  |   1   | 0.0155728516916 |\n",
      "+--------+-------+-----------------+\n",
      "[1 rows x 3 columns]\n",
      "\n",
      "\n",
      "Per User RMSE (worst)\n",
      "+--------+-------+---------------+\n",
      "| userId | count |      rmse     |\n",
      "+--------+-------+---------------+\n",
      "|  5525  |   2   | 1.96409871472 |\n",
      "+--------+-------+---------------+\n",
      "[1 rows x 3 columns]\n",
      "\n",
      "\n",
      "Per Item RMSE (best)\n",
      "+-------------------+-------+------------------+\n",
      "|       title       | count |       rmse       |\n",
      "+-------------------+-------+------------------+\n",
      "| Iron Man 2 (2010) |   1   | 0.00419139485662 |\n",
      "+-------------------+-------+------------------+\n",
      "[1 rows x 3 columns]\n",
      "\n",
      "\n",
      "Per Item RMSE (worst)\n",
      "+-------------------------------+-------+---------------+\n",
      "|             title             | count |      rmse     |\n",
      "+-------------------------------+-------+---------------+\n",
      "| Let the Right One In (Låt ... |   1   | 3.53342058126 |\n",
      "+-------------------------------+-------+---------------+\n",
      "[1 rows x 3 columns]\n",
      "\n"
     ]
    }
   ],
   "source": [
    "rec1 = gl.recommender.ranking_factorization_recommender.create(train, \n",
    "                                  user_id=\"userId\", \n",
    "                                  item_id=\"title\", \n",
    "                                  target=\"rating\",\n",
    "                                  num_factors=16,                 # override the default value\n",
    "                                  regularization=1e-02,           # override the default value\n",
    "                                  linear_regularization = 1e-3)   # override the default value\n",
    "\n",
    "rmse_results = rec1.evaluate(test)"
   ]
  },
  {
   "cell_type": "markdown",
   "metadata": {},
   "source": [
    "Comparing if better than the item item matrix?"
   ]
  },
  {
   "cell_type": "code",
   "execution_count": 54,
   "metadata": {
    "scrolled": false
   },
   "outputs": [
    {
     "name": "stdout",
     "output_type": "stream",
     "text": [
      "PROGRESS: Evaluate model M0\n",
      "\n",
      "Precision and recall summary statistics by cutoff\n",
      "+--------+------------------+------------------+\n",
      "| cutoff |  mean_precision  |   mean_recall    |\n",
      "+--------+------------------+------------------+\n",
      "|   1    |       0.0        |       0.0        |\n",
      "|   2    |       0.0        |       0.0        |\n",
      "|   3    |       0.0        |       0.0        |\n",
      "|   4    |       0.0        |       0.0        |\n",
      "|   5    | 0.00350877192982 | 0.00194931773879 |\n",
      "|   6    | 0.00292397660819 | 0.00194931773879 |\n",
      "|   7    | 0.00250626566416 | 0.00194931773879 |\n",
      "|   8    | 0.00657894736842 | 0.00790692007797 |\n",
      "|   9    | 0.00584795321637 | 0.00790692007797 |\n",
      "|   10   | 0.00526315789474 | 0.00790692007797 |\n",
      "+--------+------------------+------------------+\n",
      "[10 rows x 3 columns]\n",
      "\n",
      "('\\nOverall RMSE: ', 3.7887230684281237)\n",
      "\n",
      "Per User RMSE (best)\n",
      "+--------+-------+------+\n",
      "| userId | count | rmse |\n",
      "+--------+-------+------+\n",
      "| 80920  |   1   | 1.5  |\n",
      "+--------+-------+------+\n",
      "[1 rows x 3 columns]\n",
      "\n",
      "\n",
      "Per User RMSE (worst)\n",
      "+--------+-------+------+\n",
      "| userId | count | rmse |\n",
      "+--------+-------+------+\n",
      "| 23946  |   1   | 5.0  |\n",
      "+--------+-------+------+\n",
      "[1 rows x 3 columns]\n",
      "\n",
      "\n",
      "Per Item RMSE (best)\n",
      "+------------------+-------+------+\n",
      "|      title       | count | rmse |\n",
      "+------------------+-------+------+\n",
      "| King Kong (2005) |   1   | 0.0  |\n",
      "+------------------+-------+------+\n",
      "[1 rows x 3 columns]\n",
      "\n",
      "\n",
      "Per Item RMSE (worst)\n",
      "+-------------------------+-------+------+\n",
      "|          title          | count | rmse |\n",
      "+-------------------------+-------+------+\n",
      "| Dark Knight, The (2008) |   1   | 5.0  |\n",
      "+-------------------------+-------+------+\n",
      "[1 rows x 3 columns]\n",
      "\n",
      "PROGRESS: Evaluate model M1\n",
      "\n",
      "Precision and recall summary statistics by cutoff\n",
      "+--------+------------------+------------------+\n",
      "| cutoff |  mean_precision  |   mean_recall    |\n",
      "+--------+------------------+------------------+\n",
      "|   1    |       0.0        |       0.0        |\n",
      "|   2    |       0.0        |       0.0        |\n",
      "|   3    |       0.0        |       0.0        |\n",
      "|   4    |       0.0        |       0.0        |\n",
      "|   5    |       0.0        |       0.0        |\n",
      "|   6    | 0.00292397660819 | 0.00292397660819 |\n",
      "|   7    | 0.00250626566416 | 0.00292397660819 |\n",
      "|   8    | 0.00438596491228 | 0.00487329434698 |\n",
      "|   9    | 0.00389863547758 | 0.00487329434698 |\n",
      "|   10   | 0.00526315789474 | 0.0107212475634  |\n",
      "+--------+------------------+------------------+\n",
      "[10 rows x 3 columns]\n",
      "\n",
      "('\\nOverall RMSE: ', 1.0189918222573173)\n",
      "\n",
      "Per User RMSE (best)\n",
      "+--------+-------+-----------------+\n",
      "| userId | count |       rmse      |\n",
      "+--------+-------+-----------------+\n",
      "| 51639  |   1   | 0.0155728516916 |\n",
      "+--------+-------+-----------------+\n",
      "[1 rows x 3 columns]\n",
      "\n",
      "\n",
      "Per User RMSE (worst)\n",
      "+--------+-------+---------------+\n",
      "| userId | count |      rmse     |\n",
      "+--------+-------+---------------+\n",
      "|  5525  |   2   | 1.96409871472 |\n",
      "+--------+-------+---------------+\n",
      "[1 rows x 3 columns]\n",
      "\n",
      "\n",
      "Per Item RMSE (best)\n",
      "+-------------------+-------+------------------+\n",
      "|       title       | count |       rmse       |\n",
      "+-------------------+-------+------------------+\n",
      "| Iron Man 2 (2010) |   1   | 0.00419139485662 |\n",
      "+-------------------+-------+------------------+\n",
      "[1 rows x 3 columns]\n",
      "\n",
      "\n",
      "Per Item RMSE (worst)\n",
      "+-------------------------------+-------+---------------+\n",
      "|             title             | count |      rmse     |\n",
      "+-------------------------------+-------+---------------+\n",
      "| Let the Right One In (Låt ... |   1   | 3.53342058126 |\n",
      "+-------------------------------+-------+---------------+\n",
      "[1 rows x 3 columns]\n",
      "\n"
     ]
    }
   ],
   "source": [
    "comparison = gl.recommender.util.compare_models(test, [item_item, rec1])"
   ]
  },
  {
   "cell_type": "code",
   "execution_count": 55,
   "metadata": {},
   "outputs": [
    {
     "name": "stdout",
     "output_type": "stream",
     "text": [
      "PROGRESS: Evaluate model M0\n",
      "\n",
      "Precision and recall summary statistics by cutoff\n",
      "+--------+------------------+------------------+\n",
      "| cutoff |  mean_precision  |   mean_recall    |\n",
      "+--------+------------------+------------------+\n",
      "|   1    |       0.0        |       0.0        |\n",
      "|   2    |       0.0        |       0.0        |\n",
      "|   3    |       0.0        |       0.0        |\n",
      "|   4    |       0.0        |       0.0        |\n",
      "|   5    | 0.00350877192982 | 0.00194931773879 |\n",
      "|   6    | 0.00292397660819 | 0.00194931773879 |\n",
      "|   7    | 0.00250626566416 | 0.00194931773879 |\n",
      "|   8    | 0.00657894736842 | 0.00790692007797 |\n",
      "|   9    | 0.00584795321637 | 0.00790692007797 |\n",
      "|   10   | 0.00526315789474 | 0.00790692007797 |\n",
      "+--------+------------------+------------------+\n",
      "[10 rows x 3 columns]\n",
      "\n",
      "PROGRESS: Evaluate model M1\n",
      "\n",
      "Precision and recall summary statistics by cutoff\n",
      "+--------+------------------+------------------+\n",
      "| cutoff |  mean_precision  |   mean_recall    |\n",
      "+--------+------------------+------------------+\n",
      "|   1    |       0.0        |       0.0        |\n",
      "|   2    |       0.0        |       0.0        |\n",
      "|   3    |       0.0        |       0.0        |\n",
      "|   4    |       0.0        |       0.0        |\n",
      "|   5    |       0.0        |       0.0        |\n",
      "|   6    | 0.00292397660819 | 0.00292397660819 |\n",
      "|   7    | 0.00250626566416 | 0.00292397660819 |\n",
      "|   8    | 0.00438596491228 | 0.00487329434698 |\n",
      "|   9    | 0.00389863547758 | 0.00487329434698 |\n",
      "|   10   | 0.00526315789474 | 0.0107212475634  |\n",
      "+--------+------------------+------------------+\n",
      "[10 rows x 3 columns]\n",
      "\n",
      "Model compare metric: precision_recall\n"
     ]
    }
   ],
   "source": [
    "comparisonstruct = gl.compare(test,[item_item, rec1])"
   ]
  },
  {
   "cell_type": "markdown",
   "metadata": {},
   "source": [
    "<a href=\"#top\">Back to Top</a>\n",
    "### Modeling and Evaluation - Visualize Results<a id=\"Modeling_and_Evaluation_Visualize_Results\"></a>\n",
    "* Use tables/visualization to discuss the found results. Explain each visualization in detail."
   ]
  },
  {
   "cell_type": "code",
   "execution_count": 56,
   "metadata": {
    "scrolled": true
   },
   "outputs": [
    {
     "data": {
      "application/javascript": [
       "$(\"head\").append($(\"<link/>\").attr({\n",
       "  rel:  \"stylesheet\",\n",
       "  type: \"text/css\",\n",
       "  href: \"//cdnjs.cloudflare.com/ajax/libs/font-awesome/4.1.0/css/font-awesome.min.css\"\n",
       "}));\n",
       "$(\"head\").append($(\"<link/>\").attr({\n",
       "  rel:  \"stylesheet\",\n",
       "  type: \"text/css\",\n",
       "  href: \"https://static.turi.com/products/graphlab-create/2.1/canvas/css/canvas.css\"\n",
       "}));\n",
       "\n",
       "            (function(){\n",
       "\n",
       "                var e = null;\n",
       "                if (typeof element == 'undefined') {\n",
       "                    var scripts = document.getElementsByTagName('script');\n",
       "                    var thisScriptTag = scripts[scripts.length-1];\n",
       "                    var parentDiv = thisScriptTag.parentNode;\n",
       "                    e = document.createElement('div');\n",
       "                    parentDiv.appendChild(e);\n",
       "                } else {\n",
       "                    e = element[0];\n",
       "                }\n",
       "\n",
       "                if (typeof requirejs !== 'undefined') {\n",
       "                    // disable load timeout; ipython_app.js is large and can take a while to load.\n",
       "                    requirejs.config({waitSeconds: 0});\n",
       "                }\n",
       "\n",
       "                require(['https://static.turi.com/products/graphlab-create/2.1/canvas/js/ipython_app.js'], function(IPythonApp){\n",
       "                    var app = new IPythonApp();\n",
       "                    app.attachView('model','Comparison', {\"comparison\": {\"dataset_label\": \"test\", \"evaluations\": {\"rec1\": {\"precision_recall\": [{\"cutoff\": 1, \"precision\": 0.0, \"recall\": 0.0}, {\"cutoff\": 2, \"precision\": 0.0, \"recall\": 0.0}, {\"cutoff\": 3, \"precision\": 0.0, \"recall\": 0.0}, {\"cutoff\": 4, \"precision\": 0.0, \"recall\": 0.0}, {\"cutoff\": 5, \"precision\": 0.0, \"recall\": 0.0}, {\"cutoff\": 6, \"precision\": 0.0029239766081871343, \"recall\": 0.0029239766081871343}, {\"cutoff\": 7, \"precision\": 0.0025062656641604013, \"recall\": 0.0029239766081871343}, {\"cutoff\": 8, \"precision\": 0.0043859649122807015, \"recall\": 0.004873294346978557}, {\"cutoff\": 9, \"precision\": 0.003898635477582845, \"recall\": 0.004873294346978557}, {\"cutoff\": 10, \"precision\": 0.005263157894736843, \"recall\": 0.010721247563352828}, {\"cutoff\": 11, \"precision\": 0.004784688995215311, \"recall\": 0.010721247563352828}, {\"cutoff\": 16, \"precision\": 0.0043859649122807015, \"recall\": 0.01123724343538585}, {\"cutoff\": 21, \"precision\": 0.005012531328320804, \"recall\": 0.01719484577456714}, {\"cutoff\": 26, \"precision\": 0.004723346828609987, \"recall\": 0.017622744790399405}, {\"cutoff\": 31, \"precision\": 0.004527447651386531, \"recall\": 0.0351666044395222}, {\"cutoff\": 36, \"precision\": 0.0038986354775828467, \"recall\": 0.0351666044395222}, {\"cutoff\": 41, \"precision\": 0.003423192126658109, \"recall\": 0.0351666044395222}, {\"cutoff\": 46, \"precision\": 0.0030511060259344014, \"recall\": 0.0351666044395222}]}, \"item_item\": {\"precision_recall\": [{\"cutoff\": 1, \"precision\": 0.0, \"recall\": 0.0}, {\"cutoff\": 2, \"precision\": 0.0, \"recall\": 0.0}, {\"cutoff\": 3, \"precision\": 0.0, \"recall\": 0.0}, {\"cutoff\": 4, \"precision\": 0.0, \"recall\": 0.0}, {\"cutoff\": 5, \"precision\": 0.0035087719298245615, \"recall\": 0.0019493177387914225}, {\"cutoff\": 6, \"precision\": 0.0029239766081871343, \"recall\": 0.0019493177387914225}, {\"cutoff\": 7, \"precision\": 0.002506265664160401, \"recall\": 0.0019493177387914225}, {\"cutoff\": 8, \"precision\": 0.006578947368421053, \"recall\": 0.007906920077972711}, {\"cutoff\": 9, \"precision\": 0.005847953216374269, \"recall\": 0.007906920077972711}, {\"cutoff\": 10, \"precision\": 0.005263157894736842, \"recall\": 0.007906920077972711}, {\"cutoff\": 11, \"precision\": 0.006379585326953748, \"recall\": 0.008161178913467243}, {\"cutoff\": 16, \"precision\": 0.004385964912280702, \"recall\": 0.008161178913467243}, {\"cutoff\": 21, \"precision\": 0.0050125313283208035, \"recall\": 0.028629015170777178}, {\"cutoff\": 26, \"precision\": 0.004048582995951417, \"recall\": 0.028629015170777178}, {\"cutoff\": 31, \"precision\": 0.003395585738539898, \"recall\": 0.028629015170777178}, {\"cutoff\": 36, \"precision\": 0.002923976608187135, \"recall\": 0.028629015170777178}, {\"cutoff\": 41, \"precision\": 0.0025673940949935818, \"recall\": 0.028629015170777178}, {\"cutoff\": 46, \"precision\": 0.0022883295194508, \"recall\": 0.028629015170777178}]}}}, \"selected_variable\": {\"comparison\": {\"dataset_label\": \"test\", \"evaluations\": {\"rec1\": {\"precision_recall\": [{\"cutoff\": 1, \"precision\": 0.0, \"recall\": 0.0}, {\"cutoff\": 2, \"precision\": 0.0, \"recall\": 0.0}, {\"cutoff\": 3, \"precision\": 0.0, \"recall\": 0.0}, {\"cutoff\": 4, \"precision\": 0.0, \"recall\": 0.0}, {\"cutoff\": 5, \"precision\": 0.0, \"recall\": 0.0}, {\"cutoff\": 6, \"precision\": 0.0029239766081871343, \"recall\": 0.0029239766081871343}, {\"cutoff\": 7, \"precision\": 0.0025062656641604013, \"recall\": 0.0029239766081871343}, {\"cutoff\": 8, \"precision\": 0.0043859649122807015, \"recall\": 0.004873294346978557}, {\"cutoff\": 9, \"precision\": 0.003898635477582845, \"recall\": 0.004873294346978557}, {\"cutoff\": 10, \"precision\": 0.005263157894736843, \"recall\": 0.010721247563352828}, {\"cutoff\": 11, \"precision\": 0.004784688995215311, \"recall\": 0.010721247563352828}, {\"cutoff\": 16, \"precision\": 0.0043859649122807015, \"recall\": 0.01123724343538585}, {\"cutoff\": 21, \"precision\": 0.005012531328320804, \"recall\": 0.01719484577456714}, {\"cutoff\": 26, \"precision\": 0.004723346828609987, \"recall\": 0.017622744790399405}, {\"cutoff\": 31, \"precision\": 0.004527447651386531, \"recall\": 0.0351666044395222}, {\"cutoff\": 36, \"precision\": 0.0038986354775828467, \"recall\": 0.0351666044395222}, {\"cutoff\": 41, \"precision\": 0.003423192126658109, \"recall\": 0.0351666044395222}, {\"cutoff\": 46, \"precision\": 0.0030511060259344014, \"recall\": 0.0351666044395222}]}, \"item_item\": {\"precision_recall\": [{\"cutoff\": 1, \"precision\": 0.0, \"recall\": 0.0}, {\"cutoff\": 2, \"precision\": 0.0, \"recall\": 0.0}, {\"cutoff\": 3, \"precision\": 0.0, \"recall\": 0.0}, {\"cutoff\": 4, \"precision\": 0.0, \"recall\": 0.0}, {\"cutoff\": 5, \"precision\": 0.0035087719298245615, \"recall\": 0.0019493177387914225}, {\"cutoff\": 6, \"precision\": 0.0029239766081871343, \"recall\": 0.0019493177387914225}, {\"cutoff\": 7, \"precision\": 0.002506265664160401, \"recall\": 0.0019493177387914225}, {\"cutoff\": 8, \"precision\": 0.006578947368421053, \"recall\": 0.007906920077972711}, {\"cutoff\": 9, \"precision\": 0.005847953216374269, \"recall\": 0.007906920077972711}, {\"cutoff\": 10, \"precision\": 0.005263157894736842, \"recall\": 0.007906920077972711}, {\"cutoff\": 11, \"precision\": 0.006379585326953748, \"recall\": 0.008161178913467243}, {\"cutoff\": 16, \"precision\": 0.004385964912280702, \"recall\": 0.008161178913467243}, {\"cutoff\": 21, \"precision\": 0.0050125313283208035, \"recall\": 0.028629015170777178}, {\"cutoff\": 26, \"precision\": 0.004048582995951417, \"recall\": 0.028629015170777178}, {\"cutoff\": 31, \"precision\": 0.003395585738539898, \"recall\": 0.028629015170777178}, {\"cutoff\": 36, \"precision\": 0.002923976608187135, \"recall\": 0.028629015170777178}, {\"cutoff\": 41, \"precision\": 0.0025673940949935818, \"recall\": 0.028629015170777178}, {\"cutoff\": 46, \"precision\": 0.0022883295194508, \"recall\": 0.028629015170777178}]}}}, \"name\": [\"item_item\"], \"view_file\": \"model\", \"view_component\": \"Comparison\", \"view_params\": {\"model_type\": \"recommender\", \"view\": \"Comparison\"}, \"view_components\": [\"Summary\", \"Evaluation\", \"Comparison\"], \"model_type\": \"recommender\", \"attributes\": {\"section_titles\": [\"Schema\", \"Statistics\", \"Training summary\", \"Model Parameters\", \"Other Settings\"], \"sections\": [[[\"User ID\", \"userId\"], [\"Item ID\", \"title\"], [\"Target\", \"rating\"], [\"Additional observation features\", 0], [\"User side features\", []], [\"Item side features\", []]], [[\"Number of observations\", 390671], [\"Number of users\", 7154], [\"Number of items\", 13387]], [[\"Training time\", 0.8777]], [[\"Model class\", \"ItemSimilarityRecommender\"], [\"threshold\", 0.001], [\"similarity_type\", \"cosine\"], [\"training_method\", \"auto\"]], [[\"degree_approximation_threshold\", 4096], [\"sparse_density_estimation_sample_size\", 4096], [\"max_data_passes\", 4096], [\"target_memory_usage\", 8589934592], [\"seed_item_set_size\", 50], [\"nearest_neighbors_interaction_proportion_threshold\", 0.05], [\"max_item_neighborhood_size\", 5]]]}, \"evaluations\": [[\"dataset\", {\"precision_recall_overall\": [{\"cutoff\": 1, \"precision\": 0.0, \"recall\": 0.0}, {\"cutoff\": 2, \"precision\": 0.0, \"recall\": 0.0}, {\"cutoff\": 3, \"precision\": 0.0, \"recall\": 0.0}, {\"cutoff\": 4, \"precision\": 0.0, \"recall\": 0.0}, {\"cutoff\": 5, \"precision\": 0.0035087719298245615, \"recall\": 0.0019493177387914225}, {\"cutoff\": 6, \"precision\": 0.0029239766081871343, \"recall\": 0.0019493177387914225}, {\"cutoff\": 7, \"precision\": 0.002506265664160401, \"recall\": 0.0019493177387914225}, {\"cutoff\": 8, \"precision\": 0.006578947368421053, \"recall\": 0.007906920077972711}, {\"cutoff\": 9, \"precision\": 0.005847953216374269, \"recall\": 0.007906920077972711}, {\"cutoff\": 10, \"precision\": 0.005263157894736842, \"recall\": 0.007906920077972711}, {\"cutoff\": 11, \"precision\": 0.006379585326953748, \"recall\": 0.008161178913467243}, {\"cutoff\": 16, \"precision\": 0.004385964912280702, \"recall\": 0.008161178913467243}, {\"cutoff\": 21, \"precision\": 0.0050125313283208035, \"recall\": 0.028629015170777178}, {\"cutoff\": 26, \"precision\": 0.004048582995951417, \"recall\": 0.028629015170777178}, {\"cutoff\": 31, \"precision\": 0.003395585738539898, \"recall\": 0.028629015170777178}, {\"cutoff\": 36, \"precision\": 0.002923976608187135, \"recall\": 0.028629015170777178}, {\"cutoff\": 41, \"precision\": 0.0025673940949935818, \"recall\": 0.028629015170777178}, {\"cutoff\": 46, \"precision\": 0.0022883295194508, \"recall\": 0.028629015170777178}], \"precision_recall_by_user\": [{\"count\": 1, \"cutoff\": 1, \"userId\": 3171, \"precision\": 0.0, \"recall\": 0.0}, {\"count\": 1, \"cutoff\": 2, \"userId\": 3171, \"precision\": 0.0, \"recall\": 0.0}, {\"count\": 1, \"cutoff\": 3, \"userId\": 3171, \"precision\": 0.0, \"recall\": 0.0}, {\"count\": 1, \"cutoff\": 4, \"userId\": 3171, \"precision\": 0.0, \"recall\": 0.0}, {\"count\": 1, \"cutoff\": 5, \"userId\": 3171, \"precision\": 0.0, \"recall\": 0.0}, {\"count\": 1, \"cutoff\": 6, \"userId\": 3171, \"precision\": 0.0, \"recall\": 0.0}, {\"count\": 1, \"cutoff\": 7, \"userId\": 3171, \"precision\": 0.0, \"recall\": 0.0}, {\"count\": 1, \"cutoff\": 8, \"userId\": 3171, \"precision\": 0.0, \"recall\": 0.0}, {\"count\": 1, \"cutoff\": 9, \"userId\": 3171, \"precision\": 0.0, \"recall\": 0.0}, {\"count\": 1, \"cutoff\": 10, \"userId\": 3171, \"precision\": 0.0, \"recall\": 0.0}, {\"count\": 1, \"cutoff\": 11, \"userId\": 3171, \"precision\": 0.0, \"recall\": 0.0}, {\"count\": 1, \"cutoff\": 16, \"userId\": 3171, \"precision\": 0.0, \"recall\": 0.0}, {\"count\": 1, \"cutoff\": 21, \"userId\": 3171, \"precision\": 0.0, \"recall\": 0.0}, {\"count\": 1, \"cutoff\": 26, \"userId\": 3171, \"precision\": 0.0, \"recall\": 0.0}, {\"count\": 1, \"cutoff\": 31, \"userId\": 3171, \"precision\": 0.0, \"recall\": 0.0}, {\"count\": 1, \"cutoff\": 36, \"userId\": 3171, \"precision\": 0.0, \"recall\": 0.0}, {\"count\": 1, \"cutoff\": 41, \"userId\": 3171, \"precision\": 0.0, \"recall\": 0.0}, {\"count\": 1, \"cutoff\": 46, \"userId\": 3171, \"precision\": 0.0, \"recall\": 0.0}, {\"count\": 2, \"cutoff\": 1, \"userId\": 5525, \"precision\": 0.0, \"recall\": 0.0}, {\"count\": 2, \"cutoff\": 2, \"userId\": 5525, \"precision\": 0.0, \"recall\": 0.0}, {\"count\": 2, \"cutoff\": 3, \"userId\": 5525, \"precision\": 0.0, \"recall\": 0.0}, {\"count\": 2, \"cutoff\": 4, \"userId\": 5525, \"precision\": 0.0, \"recall\": 0.0}, {\"count\": 2, \"cutoff\": 5, \"userId\": 5525, \"precision\": 0.0, \"recall\": 0.0}, {\"count\": 2, \"cutoff\": 6, \"userId\": 5525, \"precision\": 0.0, \"recall\": 0.0}, {\"count\": 2, \"cutoff\": 7, \"userId\": 5525, \"precision\": 0.0, \"recall\": 0.0}, {\"count\": 2, \"cutoff\": 8, \"userId\": 5525, \"precision\": 0.0, \"recall\": 0.0}, {\"count\": 2, \"cutoff\": 9, \"userId\": 5525, \"precision\": 0.0, \"recall\": 0.0}, {\"count\": 2, \"cutoff\": 10, \"userId\": 5525, \"precision\": 0.0, \"recall\": 0.0}, {\"count\": 2, \"cutoff\": 11, \"userId\": 5525, \"precision\": 0.0, \"recall\": 0.0}, {\"count\": 2, \"cutoff\": 16, \"userId\": 5525, \"precision\": 0.0, \"recall\": 0.0}, {\"count\": 2, \"cutoff\": 21, \"userId\": 5525, \"precision\": 0.0, \"recall\": 0.0}, {\"count\": 2, \"cutoff\": 26, \"userId\": 5525, \"precision\": 0.0, \"recall\": 0.0}, {\"count\": 2, \"cutoff\": 31, \"userId\": 5525, \"precision\": 0.0, \"recall\": 0.0}, {\"count\": 2, \"cutoff\": 36, \"userId\": 5525, \"precision\": 0.0, \"recall\": 0.0}, {\"count\": 2, \"cutoff\": 41, \"userId\": 5525, \"precision\": 0.0, \"recall\": 0.0}, {\"count\": 2, \"cutoff\": 46, \"userId\": 5525, \"precision\": 0.0, \"recall\": 0.0}, {\"count\": 2, \"cutoff\": 1, \"userId\": 7421, \"precision\": 0.0, \"recall\": 0.0}, {\"count\": 2, \"cutoff\": 2, \"userId\": 7421, \"precision\": 0.0, \"recall\": 0.0}, {\"count\": 2, \"cutoff\": 3, \"userId\": 7421, \"precision\": 0.0, \"recall\": 0.0}, {\"count\": 2, \"cutoff\": 4, \"userId\": 7421, \"precision\": 0.0, \"recall\": 0.0}, {\"count\": 2, \"cutoff\": 5, \"userId\": 7421, \"precision\": 0.0, \"recall\": 0.0}, {\"count\": 2, \"cutoff\": 6, \"userId\": 7421, \"precision\": 0.0, \"recall\": 0.0}, {\"count\": 2, \"cutoff\": 7, \"userId\": 7421, \"precision\": 0.0, \"recall\": 0.0}, {\"count\": 2, \"cutoff\": 8, \"userId\": 7421, \"precision\": 0.0, \"recall\": 0.0}, {\"count\": 2, \"cutoff\": 9, \"userId\": 7421, \"precision\": 0.0, \"recall\": 0.0}, {\"count\": 2, \"cutoff\": 10, \"userId\": 7421, \"precision\": 0.0, \"recall\": 0.0}, {\"count\": 2, \"cutoff\": 11, \"userId\": 7421, \"precision\": 0.0, \"recall\": 0.0}, {\"count\": 2, \"cutoff\": 16, \"userId\": 7421, \"precision\": 0.0, \"recall\": 0.0}, {\"count\": 2, \"cutoff\": 21, \"userId\": 7421, \"precision\": 0.0, \"recall\": 0.0}, {\"count\": 2, \"cutoff\": 26, \"userId\": 7421, \"precision\": 0.0, \"recall\": 0.0}, {\"count\": 2, \"cutoff\": 31, \"userId\": 7421, \"precision\": 0.0, \"recall\": 0.0}, {\"count\": 2, \"cutoff\": 36, \"userId\": 7421, \"precision\": 0.0, \"recall\": 0.0}, {\"count\": 2, \"cutoff\": 41, \"userId\": 7421, \"precision\": 0.0, \"recall\": 0.0}, {\"count\": 2, \"cutoff\": 46, \"userId\": 7421, \"precision\": 0.0, \"recall\": 0.0}, {\"count\": 1, \"cutoff\": 1, \"userId\": 12550, \"precision\": 0.0, \"recall\": 0.0}, {\"count\": 1, \"cutoff\": 2, \"userId\": 12550, \"precision\": 0.0, \"recall\": 0.0}, {\"count\": 1, \"cutoff\": 3, \"userId\": 12550, \"precision\": 0.0, \"recall\": 0.0}, {\"count\": 1, \"cutoff\": 4, \"userId\": 12550, \"precision\": 0.0, \"recall\": 0.0}, {\"count\": 1, \"cutoff\": 5, \"userId\": 12550, \"precision\": 0.0, \"recall\": 0.0}, {\"count\": 1, \"cutoff\": 6, \"userId\": 12550, \"precision\": 0.0, \"recall\": 0.0}, {\"count\": 1, \"cutoff\": 7, \"userId\": 12550, \"precision\": 0.0, \"recall\": 0.0}, {\"count\": 1, \"cutoff\": 8, \"userId\": 12550, \"precision\": 0.0, \"recall\": 0.0}, {\"count\": 1, \"cutoff\": 9, \"userId\": 12550, \"precision\": 0.0, \"recall\": 0.0}, {\"count\": 1, \"cutoff\": 10, \"userId\": 12550, \"precision\": 0.0, \"recall\": 0.0}, {\"count\": 1, \"cutoff\": 11, \"userId\": 12550, \"precision\": 0.0, \"recall\": 0.0}, {\"count\": 1, \"cutoff\": 16, \"userId\": 12550, \"precision\": 0.0, \"recall\": 0.0}, {\"count\": 1, \"cutoff\": 21, \"userId\": 12550, \"precision\": 0.0, \"recall\": 0.0}, {\"count\": 1, \"cutoff\": 26, \"userId\": 12550, \"precision\": 0.0, \"recall\": 0.0}, {\"count\": 1, \"cutoff\": 31, \"userId\": 12550, \"precision\": 0.0, \"recall\": 0.0}, {\"count\": 1, \"cutoff\": 36, \"userId\": 12550, \"precision\": 0.0, \"recall\": 0.0}, {\"count\": 1, \"cutoff\": 41, \"userId\": 12550, \"precision\": 0.0, \"recall\": 0.0}, {\"count\": 1, \"cutoff\": 46, \"userId\": 12550, \"precision\": 0.0, \"recall\": 0.0}, {\"count\": 2, \"cutoff\": 1, \"userId\": 14031, \"precision\": 0.0, \"recall\": 0.0}, {\"count\": 2, \"cutoff\": 2, \"userId\": 14031, \"precision\": 0.0, \"recall\": 0.0}, {\"count\": 2, \"cutoff\": 3, \"userId\": 14031, \"precision\": 0.0, \"recall\": 0.0}, {\"count\": 2, \"cutoff\": 4, \"userId\": 14031, \"precision\": 0.0, \"recall\": 0.0}, {\"count\": 2, \"cutoff\": 5, \"userId\": 14031, \"precision\": 0.0, \"recall\": 0.0}, {\"count\": 2, \"cutoff\": 6, \"userId\": 14031, \"precision\": 0.0, \"recall\": 0.0}, {\"count\": 2, \"cutoff\": 7, \"userId\": 14031, \"precision\": 0.0, \"recall\": 0.0}, {\"count\": 2, \"cutoff\": 8, \"userId\": 14031, \"precision\": 0.0, \"recall\": 0.0}, {\"count\": 2, \"cutoff\": 9, \"userId\": 14031, \"precision\": 0.0, \"recall\": 0.0}, {\"count\": 2, \"cutoff\": 10, \"userId\": 14031, \"precision\": 0.0, \"recall\": 0.0}, {\"count\": 2, \"cutoff\": 11, \"userId\": 14031, \"precision\": 0.0, \"recall\": 0.0}, {\"count\": 2, \"cutoff\": 16, \"userId\": 14031, \"precision\": 0.0, \"recall\": 0.0}, {\"count\": 2, \"cutoff\": 21, \"userId\": 14031, \"precision\": 0.0, \"recall\": 0.0}, {\"count\": 2, \"cutoff\": 26, \"userId\": 14031, \"precision\": 0.0, \"recall\": 0.0}, {\"count\": 2, \"cutoff\": 31, \"userId\": 14031, \"precision\": 0.0, \"recall\": 0.0}, {\"count\": 2, \"cutoff\": 36, \"userId\": 14031, \"precision\": 0.0, \"recall\": 0.0}, {\"count\": 2, \"cutoff\": 41, \"userId\": 14031, \"precision\": 0.0, \"recall\": 0.0}, {\"count\": 2, \"cutoff\": 46, \"userId\": 14031, \"precision\": 0.0, \"recall\": 0.0}, {\"count\": 34, \"cutoff\": 1, \"userId\": 16555, \"precision\": 0.0, \"recall\": 0.0}, {\"count\": 34, \"cutoff\": 2, \"userId\": 16555, \"precision\": 0.0, \"recall\": 0.0}, {\"count\": 34, \"cutoff\": 3, \"userId\": 16555, \"precision\": 0.0, \"recall\": 0.0}, {\"count\": 34, \"cutoff\": 4, \"userId\": 16555, \"precision\": 0.0, \"recall\": 0.0}, {\"count\": 34, \"cutoff\": 5, \"userId\": 16555, \"precision\": 0.0, \"recall\": 0.0}, {\"count\": 34, \"cutoff\": 6, \"userId\": 16555, \"precision\": 0.0, \"recall\": 0.0}, {\"count\": 34, \"cutoff\": 7, \"userId\": 16555, \"precision\": 0.0, \"recall\": 0.0}, {\"count\": 34, \"cutoff\": 8, \"userId\": 16555, \"precision\": 0.0, \"recall\": 0.0}, {\"count\": 34, \"cutoff\": 9, \"userId\": 16555, \"precision\": 0.0, \"recall\": 0.0}, {\"count\": 34, \"cutoff\": 10, \"userId\": 16555, \"precision\": 0.0, \"recall\": 0.0}, {\"count\": 34, \"cutoff\": 11, \"userId\": 16555, \"precision\": 0.0, \"recall\": 0.0}, {\"count\": 34, \"cutoff\": 16, \"userId\": 16555, \"precision\": 0.0, \"recall\": 0.0}, {\"count\": 34, \"cutoff\": 21, \"userId\": 16555, \"precision\": 0.0, \"recall\": 0.0}, {\"count\": 34, \"cutoff\": 26, \"userId\": 16555, \"precision\": 0.0, \"recall\": 0.0}, {\"count\": 34, \"cutoff\": 31, \"userId\": 16555, \"precision\": 0.0, \"recall\": 0.0}, {\"count\": 34, \"cutoff\": 36, \"userId\": 16555, \"precision\": 0.0, \"recall\": 0.0}, {\"count\": 34, \"cutoff\": 41, \"userId\": 16555, \"precision\": 0.0, \"recall\": 0.0}, {\"count\": 34, \"cutoff\": 46, \"userId\": 16555, \"precision\": 0.0, \"recall\": 0.0}, {\"count\": 9, \"cutoff\": 1, \"userId\": 16745, \"precision\": 0.0, \"recall\": 0.0}, {\"count\": 9, \"cutoff\": 2, \"userId\": 16745, \"precision\": 0.0, \"recall\": 0.0}, {\"count\": 9, \"cutoff\": 3, \"userId\": 16745, \"precision\": 0.0, \"recall\": 0.0}, {\"count\": 9, \"cutoff\": 4, \"userId\": 16745, \"precision\": 0.0, \"recall\": 0.0}, {\"count\": 9, \"cutoff\": 5, \"userId\": 16745, \"precision\": 0.0, \"recall\": 0.0}, {\"count\": 9, \"cutoff\": 6, \"userId\": 16745, \"precision\": 0.0, \"recall\": 0.0}, {\"count\": 9, \"cutoff\": 7, \"userId\": 16745, \"precision\": 0.0, \"recall\": 0.0}, {\"count\": 9, \"cutoff\": 8, \"userId\": 16745, \"precision\": 0.0, \"recall\": 0.0}, {\"count\": 9, \"cutoff\": 9, \"userId\": 16745, \"precision\": 0.0, \"recall\": 0.0}, {\"count\": 9, \"cutoff\": 10, \"userId\": 16745, \"precision\": 0.0, \"recall\": 0.0}, {\"count\": 9, \"cutoff\": 11, \"userId\": 16745, \"precision\": 0.0, \"recall\": 0.0}, {\"count\": 9, \"cutoff\": 16, \"userId\": 16745, \"precision\": 0.0, \"recall\": 0.0}, {\"count\": 9, \"cutoff\": 21, \"userId\": 16745, \"precision\": 0.0, \"recall\": 0.0}, {\"count\": 9, \"cutoff\": 26, \"userId\": 16745, \"precision\": 0.0, \"recall\": 0.0}, {\"count\": 9, \"cutoff\": 31, \"userId\": 16745, \"precision\": 0.0, \"recall\": 0.0}, {\"count\": 9, \"cutoff\": 36, \"userId\": 16745, \"precision\": 0.0, \"recall\": 0.0}, {\"count\": 9, \"cutoff\": 41, \"userId\": 16745, \"precision\": 0.0, \"recall\": 0.0}, {\"count\": 9, \"cutoff\": 46, \"userId\": 16745, \"precision\": 0.0, \"recall\": 0.0}, {\"count\": 1, \"cutoff\": 1, \"userId\": 21672, \"precision\": 0.0, \"recall\": 0.0}, {\"count\": 1, \"cutoff\": 2, \"userId\": 21672, \"precision\": 0.0, \"recall\": 0.0}, {\"count\": 1, \"cutoff\": 3, \"userId\": 21672, \"precision\": 0.0, \"recall\": 0.0}, {\"count\": 1, \"cutoff\": 4, \"userId\": 21672, \"precision\": 0.0, \"recall\": 0.0}, {\"count\": 1, \"cutoff\": 5, \"userId\": 21672, \"precision\": 0.0, \"recall\": 0.0}, {\"count\": 1, \"cutoff\": 6, \"userId\": 21672, \"precision\": 0.0, \"recall\": 0.0}, {\"count\": 1, \"cutoff\": 7, \"userId\": 21672, \"precision\": 0.0, \"recall\": 0.0}, {\"count\": 1, \"cutoff\": 8, \"userId\": 21672, \"precision\": 0.0, \"recall\": 0.0}, {\"count\": 1, \"cutoff\": 9, \"userId\": 21672, \"precision\": 0.0, \"recall\": 0.0}, {\"count\": 1, \"cutoff\": 10, \"userId\": 21672, \"precision\": 0.0, \"recall\": 0.0}, {\"count\": 1, \"cutoff\": 11, \"userId\": 21672, \"precision\": 0.0, \"recall\": 0.0}, {\"count\": 1, \"cutoff\": 16, \"userId\": 21672, \"precision\": 0.0, \"recall\": 0.0}, {\"count\": 1, \"cutoff\": 21, \"userId\": 21672, \"precision\": 0.0, \"recall\": 0.0}, {\"count\": 1, \"cutoff\": 26, \"userId\": 21672, \"precision\": 0.0, \"recall\": 0.0}, {\"count\": 1, \"cutoff\": 31, \"userId\": 21672, \"precision\": 0.0, \"recall\": 0.0}, {\"count\": 1, \"cutoff\": 36, \"userId\": 21672, \"precision\": 0.0, \"recall\": 0.0}, {\"count\": 1, \"cutoff\": 41, \"userId\": 21672, \"precision\": 0.0, \"recall\": 0.0}, {\"count\": 1, \"cutoff\": 46, \"userId\": 21672, \"precision\": 0.0, \"recall\": 0.0}, {\"count\": 3, \"cutoff\": 1, \"userId\": 23921, \"precision\": 0.0, \"recall\": 0.0}, {\"count\": 3, \"cutoff\": 2, \"userId\": 23921, \"precision\": 0.0, \"recall\": 0.0}, {\"count\": 3, \"cutoff\": 3, \"userId\": 23921, \"precision\": 0.0, \"recall\": 0.0}, {\"count\": 3, \"cutoff\": 4, \"userId\": 23921, \"precision\": 0.0, \"recall\": 0.0}, {\"count\": 3, \"cutoff\": 5, \"userId\": 23921, \"precision\": 0.0, \"recall\": 0.0}, {\"count\": 3, \"cutoff\": 6, \"userId\": 23921, \"precision\": 0.0, \"recall\": 0.0}, {\"count\": 3, \"cutoff\": 7, \"userId\": 23921, \"precision\": 0.0, \"recall\": 0.0}, {\"count\": 3, \"cutoff\": 8, \"userId\": 23921, \"precision\": 0.125, \"recall\": 0.3333333333333333}, {\"count\": 3, \"cutoff\": 9, \"userId\": 23921, \"precision\": 0.1111111111111111, \"recall\": 0.3333333333333333}, {\"count\": 3, \"cutoff\": 10, \"userId\": 23921, \"precision\": 0.1, \"recall\": 0.3333333333333333}, {\"count\": 3, \"cutoff\": 11, \"userId\": 23921, \"precision\": 0.09090909090909091, \"recall\": 0.3333333333333333}, {\"count\": 3, \"cutoff\": 16, \"userId\": 23921, \"precision\": 0.0625, \"recall\": 0.3333333333333333}, {\"count\": 3, \"cutoff\": 21, \"userId\": 23921, \"precision\": 0.047619047619047616, \"recall\": 0.3333333333333333}, {\"count\": 3, \"cutoff\": 26, \"userId\": 23921, \"precision\": 0.038461538461538464, \"recall\": 0.3333333333333333}, {\"count\": 3, \"cutoff\": 31, \"userId\": 23921, \"precision\": 0.03225806451612903, \"recall\": 0.3333333333333333}, {\"count\": 3, \"cutoff\": 36, \"userId\": 23921, \"precision\": 0.027777777777777776, \"recall\": 0.3333333333333333}, {\"count\": 3, \"cutoff\": 41, \"userId\": 23921, \"precision\": 0.024390243902439025, \"recall\": 0.3333333333333333}, {\"count\": 3, \"cutoff\": 46, \"userId\": 23921, \"precision\": 0.021739130434782608, \"recall\": 0.3333333333333333}, {\"count\": 1, \"cutoff\": 1, \"userId\": 23946, \"precision\": 0.0, \"recall\": 0.0}, {\"count\": 1, \"cutoff\": 2, \"userId\": 23946, \"precision\": 0.0, \"recall\": 0.0}, {\"count\": 1, \"cutoff\": 3, \"userId\": 23946, \"precision\": 0.0, \"recall\": 0.0}, {\"count\": 1, \"cutoff\": 4, \"userId\": 23946, \"precision\": 0.0, \"recall\": 0.0}, {\"count\": 1, \"cutoff\": 5, \"userId\": 23946, \"precision\": 0.0, \"recall\": 0.0}, {\"count\": 1, \"cutoff\": 6, \"userId\": 23946, \"precision\": 0.0, \"recall\": 0.0}, {\"count\": 1, \"cutoff\": 7, \"userId\": 23946, \"precision\": 0.0, \"recall\": 0.0}, {\"count\": 1, \"cutoff\": 8, \"userId\": 23946, \"precision\": 0.0, \"recall\": 0.0}, {\"count\": 1, \"cutoff\": 9, \"userId\": 23946, \"precision\": 0.0, \"recall\": 0.0}, {\"count\": 1, \"cutoff\": 10, \"userId\": 23946, \"precision\": 0.0, \"recall\": 0.0}, {\"count\": 1, \"cutoff\": 11, \"userId\": 23946, \"precision\": 0.0, \"recall\": 0.0}, {\"count\": 1, \"cutoff\": 16, \"userId\": 23946, \"precision\": 0.0, \"recall\": 0.0}, {\"count\": 1, \"cutoff\": 21, \"userId\": 23946, \"precision\": 0.0, \"recall\": 0.0}, {\"count\": 1, \"cutoff\": 26, \"userId\": 23946, \"precision\": 0.0, \"recall\": 0.0}, {\"count\": 1, \"cutoff\": 31, \"userId\": 23946, \"precision\": 0.0, \"recall\": 0.0}, {\"count\": 1, \"cutoff\": 36, \"userId\": 23946, \"precision\": 0.0, \"recall\": 0.0}, {\"count\": 1, \"cutoff\": 41, \"userId\": 23946, \"precision\": 0.0, \"recall\": 0.0}, {\"count\": 1, \"cutoff\": 46, \"userId\": 23946, \"precision\": 0.0, \"recall\": 0.0}, {\"count\": 5, \"cutoff\": 1, \"userId\": 24902, \"precision\": 0.0, \"recall\": 0.0}, {\"count\": 5, \"cutoff\": 2, \"userId\": 24902, \"precision\": 0.0, \"recall\": 0.0}, {\"count\": 5, \"cutoff\": 3, \"userId\": 24902, \"precision\": 0.0, \"recall\": 0.0}, {\"count\": 5, \"cutoff\": 4, \"userId\": 24902, \"precision\": 0.0, \"recall\": 0.0}, {\"count\": 5, \"cutoff\": 5, \"userId\": 24902, \"precision\": 0.0, \"recall\": 0.0}, {\"count\": 5, \"cutoff\": 6, \"userId\": 24902, \"precision\": 0.0, \"recall\": 0.0}, {\"count\": 5, \"cutoff\": 7, \"userId\": 24902, \"precision\": 0.0, \"recall\": 0.0}, {\"count\": 5, \"cutoff\": 8, \"userId\": 24902, \"precision\": 0.0, \"recall\": 0.0}, {\"count\": 5, \"cutoff\": 9, \"userId\": 24902, \"precision\": 0.0, \"recall\": 0.0}, {\"count\": 5, \"cutoff\": 10, \"userId\": 24902, \"precision\": 0.0, \"recall\": 0.0}, {\"count\": 5, \"cutoff\": 11, \"userId\": 24902, \"precision\": 0.0, \"recall\": 0.0}, {\"count\": 5, \"cutoff\": 16, \"userId\": 24902, \"precision\": 0.0, \"recall\": 0.0}, {\"count\": 5, \"cutoff\": 21, \"userId\": 24902, \"precision\": 0.0, \"recall\": 0.0}, {\"count\": 5, \"cutoff\": 26, \"userId\": 24902, \"precision\": 0.0, \"recall\": 0.0}, {\"count\": 5, \"cutoff\": 31, \"userId\": 24902, \"precision\": 0.0, \"recall\": 0.0}, {\"count\": 5, \"cutoff\": 36, \"userId\": 24902, \"precision\": 0.0, \"recall\": 0.0}, {\"count\": 5, \"cutoff\": 41, \"userId\": 24902, \"precision\": 0.0, \"recall\": 0.0}, {\"count\": 5, \"cutoff\": 46, \"userId\": 24902, \"precision\": 0.0, \"recall\": 0.0}, {\"count\": 2, \"cutoff\": 1, \"userId\": 28050, \"precision\": 0.0, \"recall\": 0.0}, {\"count\": 2, \"cutoff\": 2, \"userId\": 28050, \"precision\": 0.0, \"recall\": 0.0}, {\"count\": 2, \"cutoff\": 3, \"userId\": 28050, \"precision\": 0.0, \"recall\": 0.0}, {\"count\": 2, \"cutoff\": 4, \"userId\": 28050, \"precision\": 0.0, \"recall\": 0.0}, {\"count\": 2, \"cutoff\": 5, \"userId\": 28050, \"precision\": 0.0, \"recall\": 0.0}, {\"count\": 2, \"cutoff\": 6, \"userId\": 28050, \"precision\": 0.0, \"recall\": 0.0}, {\"count\": 2, \"cutoff\": 7, \"userId\": 28050, \"precision\": 0.0, \"recall\": 0.0}, {\"count\": 2, \"cutoff\": 8, \"userId\": 28050, \"precision\": 0.0, \"recall\": 0.0}, {\"count\": 2, \"cutoff\": 9, \"userId\": 28050, \"precision\": 0.0, \"recall\": 0.0}, {\"count\": 2, \"cutoff\": 10, \"userId\": 28050, \"precision\": 0.0, \"recall\": 0.0}, {\"count\": 2, \"cutoff\": 11, \"userId\": 28050, \"precision\": 0.0, \"recall\": 0.0}, {\"count\": 2, \"cutoff\": 16, \"userId\": 28050, \"precision\": 0.0, \"recall\": 0.0}, {\"count\": 2, \"cutoff\": 21, \"userId\": 28050, \"precision\": 0.0, \"recall\": 0.0}, {\"count\": 2, \"cutoff\": 26, \"userId\": 28050, \"precision\": 0.0, \"recall\": 0.0}, {\"count\": 2, \"cutoff\": 31, \"userId\": 28050, \"precision\": 0.0, \"recall\": 0.0}, {\"count\": 2, \"cutoff\": 36, \"userId\": 28050, \"precision\": 0.0, \"recall\": 0.0}, {\"count\": 2, \"cutoff\": 41, \"userId\": 28050, \"precision\": 0.0, \"recall\": 0.0}, {\"count\": 2, \"cutoff\": 46, \"userId\": 28050, \"precision\": 0.0, \"recall\": 0.0}, {\"count\": 59, \"cutoff\": 1, \"userId\": 28599, \"precision\": 0.0, \"recall\": 0.0}, {\"count\": 59, \"cutoff\": 2, \"userId\": 28599, \"precision\": 0.0, \"recall\": 0.0}, {\"count\": 59, \"cutoff\": 3, \"userId\": 28599, \"precision\": 0.0, \"recall\": 0.0}, {\"count\": 59, \"cutoff\": 4, \"userId\": 28599, \"precision\": 0.0, \"recall\": 0.0}, {\"count\": 59, \"cutoff\": 5, \"userId\": 28599, \"precision\": 0.0, \"recall\": 0.0}, {\"count\": 59, \"cutoff\": 6, \"userId\": 28599, \"precision\": 0.0, \"recall\": 0.0}, {\"count\": 59, \"cutoff\": 7, \"userId\": 28599, \"precision\": 0.0, \"recall\": 0.0}, {\"count\": 59, \"cutoff\": 8, \"userId\": 28599, \"precision\": 0.0, \"recall\": 0.0}, {\"count\": 59, \"cutoff\": 9, \"userId\": 28599, \"precision\": 0.0, \"recall\": 0.0}, {\"count\": 59, \"cutoff\": 10, \"userId\": 28599, \"precision\": 0.0, \"recall\": 0.0}, {\"count\": 59, \"cutoff\": 11, \"userId\": 28599, \"precision\": 0.0, \"recall\": 0.0}, {\"count\": 59, \"cutoff\": 16, \"userId\": 28599, \"precision\": 0.0, \"recall\": 0.0}, {\"count\": 59, \"cutoff\": 21, \"userId\": 28599, \"precision\": 0.0, \"recall\": 0.0}, {\"count\": 59, \"cutoff\": 26, \"userId\": 28599, \"precision\": 0.0, \"recall\": 0.0}, {\"count\": 59, \"cutoff\": 31, \"userId\": 28599, \"precision\": 0.0, \"recall\": 0.0}, {\"count\": 59, \"cutoff\": 36, \"userId\": 28599, \"precision\": 0.0, \"recall\": 0.0}, {\"count\": 59, \"cutoff\": 41, \"userId\": 28599, \"precision\": 0.0, \"recall\": 0.0}, {\"count\": 59, \"cutoff\": 46, \"userId\": 28599, \"precision\": 0.0, \"recall\": 0.0}, {\"count\": 8, \"cutoff\": 1, \"userId\": 28744, \"precision\": 0.0, \"recall\": 0.0}, {\"count\": 8, \"cutoff\": 2, \"userId\": 28744, \"precision\": 0.0, \"recall\": 0.0}, {\"count\": 8, \"cutoff\": 3, \"userId\": 28744, \"precision\": 0.0, \"recall\": 0.0}, {\"count\": 8, \"cutoff\": 4, \"userId\": 28744, \"precision\": 0.0, \"recall\": 0.0}, {\"count\": 8, \"cutoff\": 5, \"userId\": 28744, \"precision\": 0.0, \"recall\": 0.0}, {\"count\": 8, \"cutoff\": 6, \"userId\": 28744, \"precision\": 0.0, \"recall\": 0.0}, {\"count\": 8, \"cutoff\": 7, \"userId\": 28744, \"precision\": 0.0, \"recall\": 0.0}, {\"count\": 8, \"cutoff\": 8, \"userId\": 28744, \"precision\": 0.0, \"recall\": 0.0}, {\"count\": 8, \"cutoff\": 9, \"userId\": 28744, \"precision\": 0.0, \"recall\": 0.0}, {\"count\": 8, \"cutoff\": 10, \"userId\": 28744, \"precision\": 0.0, \"recall\": 0.0}, {\"count\": 8, \"cutoff\": 11, \"userId\": 28744, \"precision\": 0.0, \"recall\": 0.0}, {\"count\": 8, \"cutoff\": 16, \"userId\": 28744, \"precision\": 0.0, \"recall\": 0.0}, {\"count\": 8, \"cutoff\": 21, \"userId\": 28744, \"precision\": 0.0, \"recall\": 0.0}, {\"count\": 8, \"cutoff\": 26, \"userId\": 28744, \"precision\": 0.0, \"recall\": 0.0}, {\"count\": 8, \"cutoff\": 31, \"userId\": 28744, \"precision\": 0.0, \"recall\": 0.0}, {\"count\": 8, \"cutoff\": 36, \"userId\": 28744, \"precision\": 0.0, \"recall\": 0.0}, {\"count\": 8, \"cutoff\": 41, \"userId\": 28744, \"precision\": 0.0, \"recall\": 0.0}, {\"count\": 8, \"cutoff\": 46, \"userId\": 28744, \"precision\": 0.0, \"recall\": 0.0}, {\"count\": 1, \"cutoff\": 1, \"userId\": 31647, \"precision\": 0.0, \"recall\": 0.0}, {\"count\": 1, \"cutoff\": 2, \"userId\": 31647, \"precision\": 0.0, \"recall\": 0.0}, {\"count\": 1, \"cutoff\": 3, \"userId\": 31647, \"precision\": 0.0, \"recall\": 0.0}, {\"count\": 1, \"cutoff\": 4, \"userId\": 31647, \"precision\": 0.0, \"recall\": 0.0}, {\"count\": 1, \"cutoff\": 5, \"userId\": 31647, \"precision\": 0.0, \"recall\": 0.0}, {\"count\": 1, \"cutoff\": 6, \"userId\": 31647, \"precision\": 0.0, \"recall\": 0.0}, {\"count\": 1, \"cutoff\": 7, \"userId\": 31647, \"precision\": 0.0, \"recall\": 0.0}, {\"count\": 1, \"cutoff\": 8, \"userId\": 31647, \"precision\": 0.0, \"recall\": 0.0}, {\"count\": 1, \"cutoff\": 9, \"userId\": 31647, \"precision\": 0.0, \"recall\": 0.0}, {\"count\": 1, \"cutoff\": 10, \"userId\": 31647, \"precision\": 0.0, \"recall\": 0.0}, {\"count\": 1, \"cutoff\": 11, \"userId\": 31647, \"precision\": 0.0, \"recall\": 0.0}, {\"count\": 1, \"cutoff\": 16, \"userId\": 31647, \"precision\": 0.0, \"recall\": 0.0}, {\"count\": 1, \"cutoff\": 21, \"userId\": 31647, \"precision\": 0.0, \"recall\": 0.0}, {\"count\": 1, \"cutoff\": 26, \"userId\": 31647, \"precision\": 0.0, \"recall\": 0.0}, {\"count\": 1, \"cutoff\": 31, \"userId\": 31647, \"precision\": 0.0, \"recall\": 0.0}, {\"count\": 1, \"cutoff\": 36, \"userId\": 31647, \"precision\": 0.0, \"recall\": 0.0}, {\"count\": 1, \"cutoff\": 41, \"userId\": 31647, \"precision\": 0.0, \"recall\": 0.0}, {\"count\": 1, \"cutoff\": 46, \"userId\": 31647, \"precision\": 0.0, \"recall\": 0.0}, {\"count\": 20, \"cutoff\": 1, \"userId\": 33775, \"precision\": 0.0, \"recall\": 0.0}, {\"count\": 20, \"cutoff\": 2, \"userId\": 33775, \"precision\": 0.0, \"recall\": 0.0}, {\"count\": 20, \"cutoff\": 3, \"userId\": 33775, \"precision\": 0.0, \"recall\": 0.0}, {\"count\": 20, \"cutoff\": 4, \"userId\": 33775, \"precision\": 0.0, \"recall\": 0.0}, {\"count\": 20, \"cutoff\": 5, \"userId\": 33775, \"precision\": 0.0, \"recall\": 0.0}, {\"count\": 20, \"cutoff\": 6, \"userId\": 33775, \"precision\": 0.0, \"recall\": 0.0}, {\"count\": 20, \"cutoff\": 7, \"userId\": 33775, \"precision\": 0.0, \"recall\": 0.0}, {\"count\": 20, \"cutoff\": 8, \"userId\": 33775, \"precision\": 0.0, \"recall\": 0.0}, {\"count\": 20, \"cutoff\": 9, \"userId\": 33775, \"precision\": 0.0, \"recall\": 0.0}, {\"count\": 20, \"cutoff\": 10, \"userId\": 33775, \"precision\": 0.0, \"recall\": 0.0}, {\"count\": 20, \"cutoff\": 11, \"userId\": 33775, \"precision\": 0.0, \"recall\": 0.0}, {\"count\": 20, \"cutoff\": 16, \"userId\": 33775, \"precision\": 0.0, \"recall\": 0.0}, {\"count\": 20, \"cutoff\": 21, \"userId\": 33775, \"precision\": 0.0, \"recall\": 0.0}, {\"count\": 20, \"cutoff\": 26, \"userId\": 33775, \"precision\": 0.0, \"recall\": 0.0}, {\"count\": 20, \"cutoff\": 31, \"userId\": 33775, \"precision\": 0.0, \"recall\": 0.0}, {\"count\": 20, \"cutoff\": 36, \"userId\": 33775, \"precision\": 0.0, \"recall\": 0.0}, {\"count\": 20, \"cutoff\": 41, \"userId\": 33775, \"precision\": 0.0, \"recall\": 0.0}, {\"count\": 20, \"cutoff\": 46, \"userId\": 33775, \"precision\": 0.0, \"recall\": 0.0}, {\"count\": 62, \"cutoff\": 1, \"userId\": 35050, \"precision\": 0.0, \"recall\": 0.0}, {\"count\": 62, \"cutoff\": 2, \"userId\": 35050, \"precision\": 0.0, \"recall\": 0.0}, {\"count\": 62, \"cutoff\": 3, \"userId\": 35050, \"precision\": 0.0, \"recall\": 0.0}, {\"count\": 62, \"cutoff\": 4, \"userId\": 35050, \"precision\": 0.0, \"recall\": 0.0}, {\"count\": 62, \"cutoff\": 5, \"userId\": 35050, \"precision\": 0.0, \"recall\": 0.0}, {\"count\": 62, \"cutoff\": 6, \"userId\": 35050, \"precision\": 0.0, \"recall\": 0.0}, {\"count\": 62, \"cutoff\": 7, \"userId\": 35050, \"precision\": 0.0, \"recall\": 0.0}, {\"count\": 62, \"cutoff\": 8, \"userId\": 35050, \"precision\": 0.0, \"recall\": 0.0}, {\"count\": 62, \"cutoff\": 9, \"userId\": 35050, \"precision\": 0.0, \"recall\": 0.0}, {\"count\": 62, \"cutoff\": 10, \"userId\": 35050, \"precision\": 0.0, \"recall\": 0.0}, {\"count\": 62, \"cutoff\": 11, \"userId\": 35050, \"precision\": 0.0, \"recall\": 0.0}, {\"count\": 62, \"cutoff\": 16, \"userId\": 35050, \"precision\": 0.0, \"recall\": 0.0}, {\"count\": 62, \"cutoff\": 21, \"userId\": 35050, \"precision\": 0.0, \"recall\": 0.0}, {\"count\": 62, \"cutoff\": 26, \"userId\": 35050, \"precision\": 0.0, \"recall\": 0.0}, {\"count\": 62, \"cutoff\": 31, \"userId\": 35050, \"precision\": 0.0, \"recall\": 0.0}, {\"count\": 62, \"cutoff\": 36, \"userId\": 35050, \"precision\": 0.0, \"recall\": 0.0}, {\"count\": 62, \"cutoff\": 41, \"userId\": 35050, \"precision\": 0.0, \"recall\": 0.0}, {\"count\": 62, \"cutoff\": 46, \"userId\": 35050, \"precision\": 0.0, \"recall\": 0.0}, {\"count\": 41, \"cutoff\": 1, \"userId\": 35705, \"precision\": 0.0, \"recall\": 0.0}, {\"count\": 41, \"cutoff\": 2, \"userId\": 35705, \"precision\": 0.0, \"recall\": 0.0}, {\"count\": 41, \"cutoff\": 3, \"userId\": 35705, \"precision\": 0.0, \"recall\": 0.0}, {\"count\": 41, \"cutoff\": 4, \"userId\": 35705, \"precision\": 0.0, \"recall\": 0.0}, {\"count\": 41, \"cutoff\": 5, \"userId\": 35705, \"precision\": 0.0, \"recall\": 0.0}, {\"count\": 41, \"cutoff\": 6, \"userId\": 35705, \"precision\": 0.0, \"recall\": 0.0}, {\"count\": 41, \"cutoff\": 7, \"userId\": 35705, \"precision\": 0.0, \"recall\": 0.0}, {\"count\": 41, \"cutoff\": 8, \"userId\": 35705, \"precision\": 0.0, \"recall\": 0.0}, {\"count\": 41, \"cutoff\": 9, \"userId\": 35705, \"precision\": 0.0, \"recall\": 0.0}, {\"count\": 41, \"cutoff\": 10, \"userId\": 35705, \"precision\": 0.0, \"recall\": 0.0}, {\"count\": 41, \"cutoff\": 11, \"userId\": 35705, \"precision\": 0.0, \"recall\": 0.0}, {\"count\": 41, \"cutoff\": 16, \"userId\": 35705, \"precision\": 0.0, \"recall\": 0.0}, {\"count\": 41, \"cutoff\": 21, \"userId\": 35705, \"precision\": 0.0, \"recall\": 0.0}, {\"count\": 41, \"cutoff\": 26, \"userId\": 35705, \"precision\": 0.0, \"recall\": 0.0}, {\"count\": 41, \"cutoff\": 31, \"userId\": 35705, \"precision\": 0.0, \"recall\": 0.0}, {\"count\": 41, \"cutoff\": 36, \"userId\": 35705, \"precision\": 0.0, \"recall\": 0.0}, {\"count\": 41, \"cutoff\": 41, \"userId\": 35705, \"precision\": 0.0, \"recall\": 0.0}, {\"count\": 41, \"cutoff\": 46, \"userId\": 35705, \"precision\": 0.0, \"recall\": 0.0}, {\"count\": 10, \"cutoff\": 1, \"userId\": 36320, \"precision\": 0.0, \"recall\": 0.0}, {\"count\": 10, \"cutoff\": 2, \"userId\": 36320, \"precision\": 0.0, \"recall\": 0.0}, {\"count\": 10, \"cutoff\": 3, \"userId\": 36320, \"precision\": 0.0, \"recall\": 0.0}, {\"count\": 10, \"cutoff\": 4, \"userId\": 36320, \"precision\": 0.0, \"recall\": 0.0}, {\"count\": 10, \"cutoff\": 5, \"userId\": 36320, \"precision\": 0.0, \"recall\": 0.0}, {\"count\": 10, \"cutoff\": 6, \"userId\": 36320, \"precision\": 0.0, \"recall\": 0.0}, {\"count\": 10, \"cutoff\": 7, \"userId\": 36320, \"precision\": 0.0, \"recall\": 0.0}, {\"count\": 10, \"cutoff\": 8, \"userId\": 36320, \"precision\": 0.0, \"recall\": 0.0}, {\"count\": 10, \"cutoff\": 9, \"userId\": 36320, \"precision\": 0.0, \"recall\": 0.0}, {\"count\": 10, \"cutoff\": 10, \"userId\": 36320, \"precision\": 0.0, \"recall\": 0.0}, {\"count\": 10, \"cutoff\": 11, \"userId\": 36320, \"precision\": 0.0, \"recall\": 0.0}, {\"count\": 10, \"cutoff\": 16, \"userId\": 36320, \"precision\": 0.0, \"recall\": 0.0}, {\"count\": 10, \"cutoff\": 21, \"userId\": 36320, \"precision\": 0.0, \"recall\": 0.0}, {\"count\": 10, \"cutoff\": 26, \"userId\": 36320, \"precision\": 0.0, \"recall\": 0.0}, {\"count\": 10, \"cutoff\": 31, \"userId\": 36320, \"precision\": 0.0, \"recall\": 0.0}, {\"count\": 10, \"cutoff\": 36, \"userId\": 36320, \"precision\": 0.0, \"recall\": 0.0}, {\"count\": 10, \"cutoff\": 41, \"userId\": 36320, \"precision\": 0.0, \"recall\": 0.0}, {\"count\": 10, \"cutoff\": 46, \"userId\": 36320, \"precision\": 0.0, \"recall\": 0.0}, {\"count\": 2, \"cutoff\": 1, \"userId\": 40335, \"precision\": 0.0, \"recall\": 0.0}, {\"count\": 2, \"cutoff\": 2, \"userId\": 40335, \"precision\": 0.0, \"recall\": 0.0}, {\"count\": 2, \"cutoff\": 3, \"userId\": 40335, \"precision\": 0.0, \"recall\": 0.0}, {\"count\": 2, \"cutoff\": 4, \"userId\": 40335, \"precision\": 0.0, \"recall\": 0.0}, {\"count\": 2, \"cutoff\": 5, \"userId\": 40335, \"precision\": 0.0, \"recall\": 0.0}, {\"count\": 2, \"cutoff\": 6, \"userId\": 40335, \"precision\": 0.0, \"recall\": 0.0}, {\"count\": 2, \"cutoff\": 7, \"userId\": 40335, \"precision\": 0.0, \"recall\": 0.0}, {\"count\": 2, \"cutoff\": 8, \"userId\": 40335, \"precision\": 0.0, \"recall\": 0.0}, {\"count\": 2, \"cutoff\": 9, \"userId\": 40335, \"precision\": 0.0, \"recall\": 0.0}, {\"count\": 2, \"cutoff\": 10, \"userId\": 40335, \"precision\": 0.0, \"recall\": 0.0}, {\"count\": 2, \"cutoff\": 11, \"userId\": 40335, \"precision\": 0.0, \"recall\": 0.0}, {\"count\": 2, \"cutoff\": 16, \"userId\": 40335, \"precision\": 0.0, \"recall\": 0.0}, {\"count\": 2, \"cutoff\": 21, \"userId\": 40335, \"precision\": 0.0, \"recall\": 0.0}, {\"count\": 2, \"cutoff\": 26, \"userId\": 40335, \"precision\": 0.0, \"recall\": 0.0}, {\"count\": 2, \"cutoff\": 31, \"userId\": 40335, \"precision\": 0.0, \"recall\": 0.0}, {\"count\": 2, \"cutoff\": 36, \"userId\": 40335, \"precision\": 0.0, \"recall\": 0.0}, {\"count\": 2, \"cutoff\": 41, \"userId\": 40335, \"precision\": 0.0, \"recall\": 0.0}, {\"count\": 2, \"cutoff\": 46, \"userId\": 40335, \"precision\": 0.0, \"recall\": 0.0}, {\"count\": 30, \"cutoff\": 1, \"userId\": 41160, \"precision\": 0.0, \"recall\": 0.0}, {\"count\": 30, \"cutoff\": 2, \"userId\": 41160, \"precision\": 0.0, \"recall\": 0.0}, {\"count\": 30, \"cutoff\": 3, \"userId\": 41160, \"precision\": 0.0, \"recall\": 0.0}, {\"count\": 30, \"cutoff\": 4, \"userId\": 41160, \"precision\": 0.0, \"recall\": 0.0}, {\"count\": 30, \"cutoff\": 5, \"userId\": 41160, \"precision\": 0.0, \"recall\": 0.0}, {\"count\": 30, \"cutoff\": 6, \"userId\": 41160, \"precision\": 0.0, \"recall\": 0.0}, {\"count\": 30, \"cutoff\": 7, \"userId\": 41160, \"precision\": 0.0, \"recall\": 0.0}, {\"count\": 30, \"cutoff\": 8, \"userId\": 41160, \"precision\": 0.0, \"recall\": 0.0}, {\"count\": 30, \"cutoff\": 9, \"userId\": 41160, \"precision\": 0.0, \"recall\": 0.0}, {\"count\": 30, \"cutoff\": 10, \"userId\": 41160, \"precision\": 0.0, \"recall\": 0.0}, {\"count\": 30, \"cutoff\": 11, \"userId\": 41160, \"precision\": 0.0, \"recall\": 0.0}, {\"count\": 30, \"cutoff\": 16, \"userId\": 41160, \"precision\": 0.0, \"recall\": 0.0}, {\"count\": 30, \"cutoff\": 21, \"userId\": 41160, \"precision\": 0.0, \"recall\": 0.0}, {\"count\": 30, \"cutoff\": 26, \"userId\": 41160, \"precision\": 0.0, \"recall\": 0.0}, {\"count\": 30, \"cutoff\": 31, \"userId\": 41160, \"precision\": 0.0, \"recall\": 0.0}, {\"count\": 30, \"cutoff\": 36, \"userId\": 41160, \"precision\": 0.0, \"recall\": 0.0}, {\"count\": 30, \"cutoff\": 41, \"userId\": 41160, \"precision\": 0.0, \"recall\": 0.0}, {\"count\": 30, \"cutoff\": 46, \"userId\": 41160, \"precision\": 0.0, \"recall\": 0.0}, {\"count\": 1, \"cutoff\": 1, \"userId\": 49928, \"precision\": 0.0, \"recall\": 0.0}, {\"count\": 1, \"cutoff\": 2, \"userId\": 49928, \"precision\": 0.0, \"recall\": 0.0}, {\"count\": 1, \"cutoff\": 3, \"userId\": 49928, \"precision\": 0.0, \"recall\": 0.0}, {\"count\": 1, \"cutoff\": 4, \"userId\": 49928, \"precision\": 0.0, \"recall\": 0.0}, {\"count\": 1, \"cutoff\": 5, \"userId\": 49928, \"precision\": 0.0, \"recall\": 0.0}, {\"count\": 1, \"cutoff\": 6, \"userId\": 49928, \"precision\": 0.0, \"recall\": 0.0}, {\"count\": 1, \"cutoff\": 7, \"userId\": 49928, \"precision\": 0.0, \"recall\": 0.0}, {\"count\": 1, \"cutoff\": 8, \"userId\": 49928, \"precision\": 0.0, \"recall\": 0.0}, {\"count\": 1, \"cutoff\": 9, \"userId\": 49928, \"precision\": 0.0, \"recall\": 0.0}, {\"count\": 1, \"cutoff\": 10, \"userId\": 49928, \"precision\": 0.0, \"recall\": 0.0}, {\"count\": 1, \"cutoff\": 11, \"userId\": 49928, \"precision\": 0.0, \"recall\": 0.0}, {\"count\": 1, \"cutoff\": 16, \"userId\": 49928, \"precision\": 0.0, \"recall\": 0.0}, {\"count\": 1, \"cutoff\": 21, \"userId\": 49928, \"precision\": 0.0, \"recall\": 0.0}, {\"count\": 1, \"cutoff\": 26, \"userId\": 49928, \"precision\": 0.0, \"recall\": 0.0}, {\"count\": 1, \"cutoff\": 31, \"userId\": 49928, \"precision\": 0.0, \"recall\": 0.0}, {\"count\": 1, \"cutoff\": 36, \"userId\": 49928, \"precision\": 0.0, \"recall\": 0.0}, {\"count\": 1, \"cutoff\": 41, \"userId\": 49928, \"precision\": 0.0, \"recall\": 0.0}, {\"count\": 1, \"cutoff\": 46, \"userId\": 49928, \"precision\": 0.0, \"recall\": 0.0}, {\"count\": 1, \"cutoff\": 1, \"userId\": 51639, \"precision\": 0.0, \"recall\": 0.0}, {\"count\": 1, \"cutoff\": 2, \"userId\": 51639, \"precision\": 0.0, \"recall\": 0.0}, {\"count\": 1, \"cutoff\": 3, \"userId\": 51639, \"precision\": 0.0, \"recall\": 0.0}, {\"count\": 1, \"cutoff\": 4, \"userId\": 51639, \"precision\": 0.0, \"recall\": 0.0}, {\"count\": 1, \"cutoff\": 5, \"userId\": 51639, \"precision\": 0.0, \"recall\": 0.0}, {\"count\": 1, \"cutoff\": 6, \"userId\": 51639, \"precision\": 0.0, \"recall\": 0.0}, {\"count\": 1, \"cutoff\": 7, \"userId\": 51639, \"precision\": 0.0, \"recall\": 0.0}, {\"count\": 1, \"cutoff\": 8, \"userId\": 51639, \"precision\": 0.0, \"recall\": 0.0}, {\"count\": 1, \"cutoff\": 9, \"userId\": 51639, \"precision\": 0.0, \"recall\": 0.0}, {\"count\": 1, \"cutoff\": 10, \"userId\": 51639, \"precision\": 0.0, \"recall\": 0.0}, {\"count\": 1, \"cutoff\": 11, \"userId\": 51639, \"precision\": 0.0, \"recall\": 0.0}, {\"count\": 1, \"cutoff\": 16, \"userId\": 51639, \"precision\": 0.0, \"recall\": 0.0}, {\"count\": 1, \"cutoff\": 21, \"userId\": 51639, \"precision\": 0.047619047619047616, \"recall\": 1.0}, {\"count\": 1, \"cutoff\": 26, \"userId\": 51639, \"precision\": 0.038461538461538464, \"recall\": 1.0}, {\"count\": 1, \"cutoff\": 31, \"userId\": 51639, \"precision\": 0.03225806451612903, \"recall\": 1.0}, {\"count\": 1, \"cutoff\": 36, \"userId\": 51639, \"precision\": 0.027777777777777776, \"recall\": 1.0}, {\"count\": 1, \"cutoff\": 41, \"userId\": 51639, \"precision\": 0.024390243902439025, \"recall\": 1.0}, {\"count\": 1, \"cutoff\": 46, \"userId\": 51639, \"precision\": 0.021739130434782608, \"recall\": 1.0}, {\"count\": 30, \"cutoff\": 1, \"userId\": 55704, \"precision\": 0.0, \"recall\": 0.0}, {\"count\": 30, \"cutoff\": 2, \"userId\": 55704, \"precision\": 0.0, \"recall\": 0.0}, {\"count\": 30, \"cutoff\": 3, \"userId\": 55704, \"precision\": 0.0, \"recall\": 0.0}, {\"count\": 30, \"cutoff\": 4, \"userId\": 55704, \"precision\": 0.0, \"recall\": 0.0}, {\"count\": 30, \"cutoff\": 5, \"userId\": 55704, \"precision\": 0.0, \"recall\": 0.0}, {\"count\": 30, \"cutoff\": 6, \"userId\": 55704, \"precision\": 0.0, \"recall\": 0.0}, {\"count\": 30, \"cutoff\": 7, \"userId\": 55704, \"precision\": 0.0, \"recall\": 0.0}, {\"count\": 30, \"cutoff\": 8, \"userId\": 55704, \"precision\": 0.0, \"recall\": 0.0}, {\"count\": 30, \"cutoff\": 9, \"userId\": 55704, \"precision\": 0.0, \"recall\": 0.0}, {\"count\": 30, \"cutoff\": 10, \"userId\": 55704, \"precision\": 0.0, \"recall\": 0.0}, {\"count\": 30, \"cutoff\": 11, \"userId\": 55704, \"precision\": 0.0, \"recall\": 0.0}, {\"count\": 30, \"cutoff\": 16, \"userId\": 55704, \"precision\": 0.0, \"recall\": 0.0}, {\"count\": 30, \"cutoff\": 21, \"userId\": 55704, \"precision\": 0.0, \"recall\": 0.0}, {\"count\": 30, \"cutoff\": 26, \"userId\": 55704, \"precision\": 0.0, \"recall\": 0.0}, {\"count\": 30, \"cutoff\": 31, \"userId\": 55704, \"precision\": 0.0, \"recall\": 0.0}, {\"count\": 30, \"cutoff\": 36, \"userId\": 55704, \"precision\": 0.0, \"recall\": 0.0}, {\"count\": 30, \"cutoff\": 41, \"userId\": 55704, \"precision\": 0.0, \"recall\": 0.0}, {\"count\": 30, \"cutoff\": 46, \"userId\": 55704, \"precision\": 0.0, \"recall\": 0.0}, {\"count\": 2, \"cutoff\": 1, \"userId\": 57387, \"precision\": 0.0, \"recall\": 0.0}, {\"count\": 2, \"cutoff\": 2, \"userId\": 57387, \"precision\": 0.0, \"recall\": 0.0}, {\"count\": 2, \"cutoff\": 3, \"userId\": 57387, \"precision\": 0.0, \"recall\": 0.0}, {\"count\": 2, \"cutoff\": 4, \"userId\": 57387, \"precision\": 0.0, \"recall\": 0.0}, {\"count\": 2, \"cutoff\": 5, \"userId\": 57387, \"precision\": 0.0, \"recall\": 0.0}, {\"count\": 2, \"cutoff\": 6, \"userId\": 57387, \"precision\": 0.0, \"recall\": 0.0}, {\"count\": 2, \"cutoff\": 7, \"userId\": 57387, \"precision\": 0.0, \"recall\": 0.0}, {\"count\": 2, \"cutoff\": 8, \"userId\": 57387, \"precision\": 0.0, \"recall\": 0.0}, {\"count\": 2, \"cutoff\": 9, \"userId\": 57387, \"precision\": 0.0, \"recall\": 0.0}, {\"count\": 2, \"cutoff\": 10, \"userId\": 57387, \"precision\": 0.0, \"recall\": 0.0}, {\"count\": 2, \"cutoff\": 11, \"userId\": 57387, \"precision\": 0.0, \"recall\": 0.0}, {\"count\": 2, \"cutoff\": 16, \"userId\": 57387, \"precision\": 0.0, \"recall\": 0.0}, {\"count\": 2, \"cutoff\": 21, \"userId\": 57387, \"precision\": 0.0, \"recall\": 0.0}, {\"count\": 2, \"cutoff\": 26, \"userId\": 57387, \"precision\": 0.0, \"recall\": 0.0}, {\"count\": 2, \"cutoff\": 31, \"userId\": 57387, \"precision\": 0.0, \"recall\": 0.0}, {\"count\": 2, \"cutoff\": 36, \"userId\": 57387, \"precision\": 0.0, \"recall\": 0.0}, {\"count\": 2, \"cutoff\": 41, \"userId\": 57387, \"precision\": 0.0, \"recall\": 0.0}, {\"count\": 2, \"cutoff\": 46, \"userId\": 57387, \"precision\": 0.0, \"recall\": 0.0}, {\"count\": 22, \"cutoff\": 1, \"userId\": 57499, \"precision\": 0.0, \"recall\": 0.0}, {\"count\": 22, \"cutoff\": 2, \"userId\": 57499, \"precision\": 0.0, \"recall\": 0.0}, {\"count\": 22, \"cutoff\": 3, \"userId\": 57499, \"precision\": 0.0, \"recall\": 0.0}, {\"count\": 22, \"cutoff\": 4, \"userId\": 57499, \"precision\": 0.0, \"recall\": 0.0}, {\"count\": 22, \"cutoff\": 5, \"userId\": 57499, \"precision\": 0.0, \"recall\": 0.0}, {\"count\": 22, \"cutoff\": 6, \"userId\": 57499, \"precision\": 0.0, \"recall\": 0.0}, {\"count\": 22, \"cutoff\": 7, \"userId\": 57499, \"precision\": 0.0, \"recall\": 0.0}, {\"count\": 22, \"cutoff\": 8, \"userId\": 57499, \"precision\": 0.0, \"recall\": 0.0}, {\"count\": 22, \"cutoff\": 9, \"userId\": 57499, \"precision\": 0.0, \"recall\": 0.0}, {\"count\": 22, \"cutoff\": 10, \"userId\": 57499, \"precision\": 0.0, \"recall\": 0.0}, {\"count\": 22, \"cutoff\": 11, \"userId\": 57499, \"precision\": 0.0, \"recall\": 0.0}, {\"count\": 22, \"cutoff\": 16, \"userId\": 57499, \"precision\": 0.0, \"recall\": 0.0}, {\"count\": 22, \"cutoff\": 21, \"userId\": 57499, \"precision\": 0.0, \"recall\": 0.0}, {\"count\": 22, \"cutoff\": 26, \"userId\": 57499, \"precision\": 0.0, \"recall\": 0.0}, {\"count\": 22, \"cutoff\": 31, \"userId\": 57499, \"precision\": 0.0, \"recall\": 0.0}, {\"count\": 22, \"cutoff\": 36, \"userId\": 57499, \"precision\": 0.0, \"recall\": 0.0}, {\"count\": 22, \"cutoff\": 41, \"userId\": 57499, \"precision\": 0.0, \"recall\": 0.0}, {\"count\": 22, \"cutoff\": 46, \"userId\": 57499, \"precision\": 0.0, \"recall\": 0.0}, {\"count\": 12, \"cutoff\": 1, \"userId\": 57763, \"precision\": 0.0, \"recall\": 0.0}, {\"count\": 12, \"cutoff\": 2, \"userId\": 57763, \"precision\": 0.0, \"recall\": 0.0}, {\"count\": 12, \"cutoff\": 3, \"userId\": 57763, \"precision\": 0.0, \"recall\": 0.0}, {\"count\": 12, \"cutoff\": 4, \"userId\": 57763, \"precision\": 0.0, \"recall\": 0.0}, {\"count\": 12, \"cutoff\": 5, \"userId\": 57763, \"precision\": 0.0, \"recall\": 0.0}, {\"count\": 12, \"cutoff\": 6, \"userId\": 57763, \"precision\": 0.0, \"recall\": 0.0}, {\"count\": 12, \"cutoff\": 7, \"userId\": 57763, \"precision\": 0.0, \"recall\": 0.0}, {\"count\": 12, \"cutoff\": 8, \"userId\": 57763, \"precision\": 0.0, \"recall\": 0.0}, {\"count\": 12, \"cutoff\": 9, \"userId\": 57763, \"precision\": 0.0, \"recall\": 0.0}, {\"count\": 12, \"cutoff\": 10, \"userId\": 57763, \"precision\": 0.0, \"recall\": 0.0}, {\"count\": 12, \"cutoff\": 11, \"userId\": 57763, \"precision\": 0.0, \"recall\": 0.0}, {\"count\": 12, \"cutoff\": 16, \"userId\": 57763, \"precision\": 0.0, \"recall\": 0.0}, {\"count\": 12, \"cutoff\": 21, \"userId\": 57763, \"precision\": 0.0, \"recall\": 0.0}, {\"count\": 12, \"cutoff\": 26, \"userId\": 57763, \"precision\": 0.0, \"recall\": 0.0}, {\"count\": 12, \"cutoff\": 31, \"userId\": 57763, \"precision\": 0.0, \"recall\": 0.0}, {\"count\": 12, \"cutoff\": 36, \"userId\": 57763, \"precision\": 0.0, \"recall\": 0.0}, {\"count\": 12, \"cutoff\": 41, \"userId\": 57763, \"precision\": 0.0, \"recall\": 0.0}, {\"count\": 12, \"cutoff\": 46, \"userId\": 57763, \"precision\": 0.0, \"recall\": 0.0}, {\"count\": 2, \"cutoff\": 1, \"userId\": 58397, \"precision\": 0.0, \"recall\": 0.0}, {\"count\": 2, \"cutoff\": 2, \"userId\": 58397, \"precision\": 0.0, \"recall\": 0.0}, {\"count\": 2, \"cutoff\": 3, \"userId\": 58397, \"precision\": 0.0, \"recall\": 0.0}, {\"count\": 2, \"cutoff\": 4, \"userId\": 58397, \"precision\": 0.0, \"recall\": 0.0}, {\"count\": 2, \"cutoff\": 5, \"userId\": 58397, \"precision\": 0.0, \"recall\": 0.0}, {\"count\": 2, \"cutoff\": 6, \"userId\": 58397, \"precision\": 0.0, \"recall\": 0.0}, {\"count\": 2, \"cutoff\": 7, \"userId\": 58397, \"precision\": 0.0, \"recall\": 0.0}, {\"count\": 2, \"cutoff\": 8, \"userId\": 58397, \"precision\": 0.0, \"recall\": 0.0}, {\"count\": 2, \"cutoff\": 9, \"userId\": 58397, \"precision\": 0.0, \"recall\": 0.0}, {\"count\": 2, \"cutoff\": 10, \"userId\": 58397, \"precision\": 0.0, \"recall\": 0.0}, {\"count\": 2, \"cutoff\": 11, \"userId\": 58397, \"precision\": 0.0, \"recall\": 0.0}, {\"count\": 2, \"cutoff\": 16, \"userId\": 58397, \"precision\": 0.0, \"recall\": 0.0}, {\"count\": 2, \"cutoff\": 21, \"userId\": 58397, \"precision\": 0.0, \"recall\": 0.0}, {\"count\": 2, \"cutoff\": 26, \"userId\": 58397, \"precision\": 0.0, \"recall\": 0.0}, {\"count\": 2, \"cutoff\": 31, \"userId\": 58397, \"precision\": 0.0, \"recall\": 0.0}, {\"count\": 2, \"cutoff\": 36, \"userId\": 58397, \"precision\": 0.0, \"recall\": 0.0}, {\"count\": 2, \"cutoff\": 41, \"userId\": 58397, \"precision\": 0.0, \"recall\": 0.0}, {\"count\": 2, \"cutoff\": 46, \"userId\": 58397, \"precision\": 0.0, \"recall\": 0.0}, {\"count\": 6, \"cutoff\": 1, \"userId\": 61152, \"precision\": 0.0, \"recall\": 0.0}, {\"count\": 6, \"cutoff\": 2, \"userId\": 61152, \"precision\": 0.0, \"recall\": 0.0}, {\"count\": 6, \"cutoff\": 3, \"userId\": 61152, \"precision\": 0.0, \"recall\": 0.0}, {\"count\": 6, \"cutoff\": 4, \"userId\": 61152, \"precision\": 0.0, \"recall\": 0.0}, {\"count\": 6, \"cutoff\": 5, \"userId\": 61152, \"precision\": 0.0, \"recall\": 0.0}, {\"count\": 6, \"cutoff\": 6, \"userId\": 61152, \"precision\": 0.0, \"recall\": 0.0}, {\"count\": 6, \"cutoff\": 7, \"userId\": 61152, \"precision\": 0.0, \"recall\": 0.0}, {\"count\": 6, \"cutoff\": 8, \"userId\": 61152, \"precision\": 0.0, \"recall\": 0.0}, {\"count\": 6, \"cutoff\": 9, \"userId\": 61152, \"precision\": 0.0, \"recall\": 0.0}, {\"count\": 6, \"cutoff\": 10, \"userId\": 61152, \"precision\": 0.0, \"recall\": 0.0}, {\"count\": 6, \"cutoff\": 11, \"userId\": 61152, \"precision\": 0.0, \"recall\": 0.0}, {\"count\": 6, \"cutoff\": 16, \"userId\": 61152, \"precision\": 0.0, \"recall\": 0.0}, {\"count\": 6, \"cutoff\": 21, \"userId\": 61152, \"precision\": 0.047619047619047616, \"recall\": 0.16666666666666666}, {\"count\": 6, \"cutoff\": 26, \"userId\": 61152, \"precision\": 0.038461538461538464, \"recall\": 0.16666666666666666}, {\"count\": 6, \"cutoff\": 31, \"userId\": 61152, \"precision\": 0.03225806451612903, \"recall\": 0.16666666666666666}, {\"count\": 6, \"cutoff\": 36, \"userId\": 61152, \"precision\": 0.027777777777777776, \"recall\": 0.16666666666666666}, {\"count\": 6, \"cutoff\": 41, \"userId\": 61152, \"precision\": 0.024390243902439025, \"recall\": 0.16666666666666666}, {\"count\": 6, \"cutoff\": 46, \"userId\": 61152, \"precision\": 0.021739130434782608, \"recall\": 0.16666666666666666}, {\"count\": 1, \"cutoff\": 1, \"userId\": 61343, \"precision\": 0.0, \"recall\": 0.0}, {\"count\": 1, \"cutoff\": 2, \"userId\": 61343, \"precision\": 0.0, \"recall\": 0.0}, {\"count\": 1, \"cutoff\": 3, \"userId\": 61343, \"precision\": 0.0, \"recall\": 0.0}, {\"count\": 1, \"cutoff\": 4, \"userId\": 61343, \"precision\": 0.0, \"recall\": 0.0}, {\"count\": 1, \"cutoff\": 5, \"userId\": 61343, \"precision\": 0.0, \"recall\": 0.0}, {\"count\": 1, \"cutoff\": 6, \"userId\": 61343, \"precision\": 0.0, \"recall\": 0.0}, {\"count\": 1, \"cutoff\": 7, \"userId\": 61343, \"precision\": 0.0, \"recall\": 0.0}, {\"count\": 1, \"cutoff\": 8, \"userId\": 61343, \"precision\": 0.0, \"recall\": 0.0}, {\"count\": 1, \"cutoff\": 9, \"userId\": 61343, \"precision\": 0.0, \"recall\": 0.0}, {\"count\": 1, \"cutoff\": 10, \"userId\": 61343, \"precision\": 0.0, \"recall\": 0.0}, {\"count\": 1, \"cutoff\": 11, \"userId\": 61343, \"precision\": 0.0, \"recall\": 0.0}, {\"count\": 1, \"cutoff\": 16, \"userId\": 61343, \"precision\": 0.0, \"recall\": 0.0}, {\"count\": 1, \"cutoff\": 21, \"userId\": 61343, \"precision\": 0.0, \"recall\": 0.0}, {\"count\": 1, \"cutoff\": 26, \"userId\": 61343, \"precision\": 0.0, \"recall\": 0.0}, {\"count\": 1, \"cutoff\": 31, \"userId\": 61343, \"precision\": 0.0, \"recall\": 0.0}, {\"count\": 1, \"cutoff\": 36, \"userId\": 61343, \"precision\": 0.0, \"recall\": 0.0}, {\"count\": 1, \"cutoff\": 41, \"userId\": 61343, \"precision\": 0.0, \"recall\": 0.0}, {\"count\": 1, \"cutoff\": 46, \"userId\": 61343, \"precision\": 0.0, \"recall\": 0.0}, {\"count\": 2, \"cutoff\": 1, \"userId\": 63697, \"precision\": 0.0, \"recall\": 0.0}, {\"count\": 2, \"cutoff\": 2, \"userId\": 63697, \"precision\": 0.0, \"recall\": 0.0}, {\"count\": 2, \"cutoff\": 3, \"userId\": 63697, \"precision\": 0.0, \"recall\": 0.0}, {\"count\": 2, \"cutoff\": 4, \"userId\": 63697, \"precision\": 0.0, \"recall\": 0.0}, {\"count\": 2, \"cutoff\": 5, \"userId\": 63697, \"precision\": 0.0, \"recall\": 0.0}, {\"count\": 2, \"cutoff\": 6, \"userId\": 63697, \"precision\": 0.0, \"recall\": 0.0}, {\"count\": 2, \"cutoff\": 7, \"userId\": 63697, \"precision\": 0.0, \"recall\": 0.0}, {\"count\": 2, \"cutoff\": 8, \"userId\": 63697, \"precision\": 0.0, \"recall\": 0.0}, {\"count\": 2, \"cutoff\": 9, \"userId\": 63697, \"precision\": 0.0, \"recall\": 0.0}, {\"count\": 2, \"cutoff\": 10, \"userId\": 63697, \"precision\": 0.0, \"recall\": 0.0}, {\"count\": 2, \"cutoff\": 11, \"userId\": 63697, \"precision\": 0.0, \"recall\": 0.0}, {\"count\": 2, \"cutoff\": 16, \"userId\": 63697, \"precision\": 0.0, \"recall\": 0.0}, {\"count\": 2, \"cutoff\": 21, \"userId\": 63697, \"precision\": 0.0, \"recall\": 0.0}, {\"count\": 2, \"cutoff\": 26, \"userId\": 63697, \"precision\": 0.0, \"recall\": 0.0}, {\"count\": 2, \"cutoff\": 31, \"userId\": 63697, \"precision\": 0.0, \"recall\": 0.0}, {\"count\": 2, \"cutoff\": 36, \"userId\": 63697, \"precision\": 0.0, \"recall\": 0.0}, {\"count\": 2, \"cutoff\": 41, \"userId\": 63697, \"precision\": 0.0, \"recall\": 0.0}, {\"count\": 2, \"cutoff\": 46, \"userId\": 63697, \"precision\": 0.0, \"recall\": 0.0}, {\"count\": 12, \"cutoff\": 1, \"userId\": 64150, \"precision\": 0.0, \"recall\": 0.0}, {\"count\": 12, \"cutoff\": 2, \"userId\": 64150, \"precision\": 0.0, \"recall\": 0.0}, {\"count\": 12, \"cutoff\": 3, \"userId\": 64150, \"precision\": 0.0, \"recall\": 0.0}, {\"count\": 12, \"cutoff\": 4, \"userId\": 64150, \"precision\": 0.0, \"recall\": 0.0}, {\"count\": 12, \"cutoff\": 5, \"userId\": 64150, \"precision\": 0.0, \"recall\": 0.0}, {\"count\": 12, \"cutoff\": 6, \"userId\": 64150, \"precision\": 0.0, \"recall\": 0.0}, {\"count\": 12, \"cutoff\": 7, \"userId\": 64150, \"precision\": 0.0, \"recall\": 0.0}, {\"count\": 12, \"cutoff\": 8, \"userId\": 64150, \"precision\": 0.0, \"recall\": 0.0}, {\"count\": 12, \"cutoff\": 9, \"userId\": 64150, \"precision\": 0.0, \"recall\": 0.0}, {\"count\": 12, \"cutoff\": 10, \"userId\": 64150, \"precision\": 0.0, \"recall\": 0.0}, {\"count\": 12, \"cutoff\": 11, \"userId\": 64150, \"precision\": 0.0, \"recall\": 0.0}, {\"count\": 12, \"cutoff\": 16, \"userId\": 64150, \"precision\": 0.0, \"recall\": 0.0}, {\"count\": 12, \"cutoff\": 21, \"userId\": 64150, \"precision\": 0.0, \"recall\": 0.0}, {\"count\": 12, \"cutoff\": 26, \"userId\": 64150, \"precision\": 0.0, \"recall\": 0.0}, {\"count\": 12, \"cutoff\": 31, \"userId\": 64150, \"precision\": 0.0, \"recall\": 0.0}, {\"count\": 12, \"cutoff\": 36, \"userId\": 64150, \"precision\": 0.0, \"recall\": 0.0}, {\"count\": 12, \"cutoff\": 41, \"userId\": 64150, \"precision\": 0.0, \"recall\": 0.0}, {\"count\": 12, \"cutoff\": 46, \"userId\": 64150, \"precision\": 0.0, \"recall\": 0.0}, {\"count\": 1, \"cutoff\": 1, \"userId\": 70192, \"precision\": 0.0, \"recall\": 0.0}, {\"count\": 1, \"cutoff\": 2, \"userId\": 70192, \"precision\": 0.0, \"recall\": 0.0}, {\"count\": 1, \"cutoff\": 3, \"userId\": 70192, \"precision\": 0.0, \"recall\": 0.0}, {\"count\": 1, \"cutoff\": 4, \"userId\": 70192, \"precision\": 0.0, \"recall\": 0.0}, {\"count\": 1, \"cutoff\": 5, \"userId\": 70192, \"precision\": 0.0, \"recall\": 0.0}, {\"count\": 1, \"cutoff\": 6, \"userId\": 70192, \"precision\": 0.0, \"recall\": 0.0}, {\"count\": 1, \"cutoff\": 7, \"userId\": 70192, \"precision\": 0.0, \"recall\": 0.0}, {\"count\": 1, \"cutoff\": 8, \"userId\": 70192, \"precision\": 0.0, \"recall\": 0.0}, {\"count\": 1, \"cutoff\": 9, \"userId\": 70192, \"precision\": 0.0, \"recall\": 0.0}, {\"count\": 1, \"cutoff\": 10, \"userId\": 70192, \"precision\": 0.0, \"recall\": 0.0}, {\"count\": 1, \"cutoff\": 11, \"userId\": 70192, \"precision\": 0.0, \"recall\": 0.0}, {\"count\": 1, \"cutoff\": 16, \"userId\": 70192, \"precision\": 0.0, \"recall\": 0.0}, {\"count\": 1, \"cutoff\": 21, \"userId\": 70192, \"precision\": 0.0, \"recall\": 0.0}, {\"count\": 1, \"cutoff\": 26, \"userId\": 70192, \"precision\": 0.0, \"recall\": 0.0}, {\"count\": 1, \"cutoff\": 31, \"userId\": 70192, \"precision\": 0.0, \"recall\": 0.0}, {\"count\": 1, \"cutoff\": 36, \"userId\": 70192, \"precision\": 0.0, \"recall\": 0.0}, {\"count\": 1, \"cutoff\": 41, \"userId\": 70192, \"precision\": 0.0, \"recall\": 0.0}, {\"count\": 1, \"cutoff\": 46, \"userId\": 70192, \"precision\": 0.0, \"recall\": 0.0}, {\"count\": 5, \"cutoff\": 1, \"userId\": 70706, \"precision\": 0.0, \"recall\": 0.0}, {\"count\": 5, \"cutoff\": 2, \"userId\": 70706, \"precision\": 0.0, \"recall\": 0.0}, {\"count\": 5, \"cutoff\": 3, \"userId\": 70706, \"precision\": 0.0, \"recall\": 0.0}, {\"count\": 5, \"cutoff\": 4, \"userId\": 70706, \"precision\": 0.0, \"recall\": 0.0}, {\"count\": 5, \"cutoff\": 5, \"userId\": 70706, \"precision\": 0.0, \"recall\": 0.0}, {\"count\": 5, \"cutoff\": 6, \"userId\": 70706, \"precision\": 0.0, \"recall\": 0.0}, {\"count\": 5, \"cutoff\": 7, \"userId\": 70706, \"precision\": 0.0, \"recall\": 0.0}, {\"count\": 5, \"cutoff\": 8, \"userId\": 70706, \"precision\": 0.0, \"recall\": 0.0}, {\"count\": 5, \"cutoff\": 9, \"userId\": 70706, \"precision\": 0.0, \"recall\": 0.0}, {\"count\": 5, \"cutoff\": 10, \"userId\": 70706, \"precision\": 0.0, \"recall\": 0.0}, {\"count\": 5, \"cutoff\": 11, \"userId\": 70706, \"precision\": 0.0, \"recall\": 0.0}, {\"count\": 5, \"cutoff\": 16, \"userId\": 70706, \"precision\": 0.0, \"recall\": 0.0}, {\"count\": 5, \"cutoff\": 21, \"userId\": 70706, \"precision\": 0.0, \"recall\": 0.0}, {\"count\": 5, \"cutoff\": 26, \"userId\": 70706, \"precision\": 0.0, \"recall\": 0.0}, {\"count\": 5, \"cutoff\": 31, \"userId\": 70706, \"precision\": 0.0, \"recall\": 0.0}, {\"count\": 5, \"cutoff\": 36, \"userId\": 70706, \"precision\": 0.0, \"recall\": 0.0}, {\"count\": 5, \"cutoff\": 41, \"userId\": 70706, \"precision\": 0.0, \"recall\": 0.0}, {\"count\": 5, \"cutoff\": 46, \"userId\": 70706, \"precision\": 0.0, \"recall\": 0.0}, {\"count\": 10, \"cutoff\": 1, \"userId\": 71115, \"precision\": 0.0, \"recall\": 0.0}, {\"count\": 10, \"cutoff\": 2, \"userId\": 71115, \"precision\": 0.0, \"recall\": 0.0}, {\"count\": 10, \"cutoff\": 3, \"userId\": 71115, \"precision\": 0.0, \"recall\": 0.0}, {\"count\": 10, \"cutoff\": 4, \"userId\": 71115, \"precision\": 0.0, \"recall\": 0.0}, {\"count\": 10, \"cutoff\": 5, \"userId\": 71115, \"precision\": 0.0, \"recall\": 0.0}, {\"count\": 10, \"cutoff\": 6, \"userId\": 71115, \"precision\": 0.0, \"recall\": 0.0}, {\"count\": 10, \"cutoff\": 7, \"userId\": 71115, \"precision\": 0.0, \"recall\": 0.0}, {\"count\": 10, \"cutoff\": 8, \"userId\": 71115, \"precision\": 0.0, \"recall\": 0.0}, {\"count\": 10, \"cutoff\": 9, \"userId\": 71115, \"precision\": 0.0, \"recall\": 0.0}, {\"count\": 10, \"cutoff\": 10, \"userId\": 71115, \"precision\": 0.0, \"recall\": 0.0}, {\"count\": 10, \"cutoff\": 11, \"userId\": 71115, \"precision\": 0.0, \"recall\": 0.0}, {\"count\": 10, \"cutoff\": 16, \"userId\": 71115, \"precision\": 0.0, \"recall\": 0.0}, {\"count\": 10, \"cutoff\": 21, \"userId\": 71115, \"precision\": 0.0, \"recall\": 0.0}, {\"count\": 10, \"cutoff\": 26, \"userId\": 71115, \"precision\": 0.0, \"recall\": 0.0}, {\"count\": 10, \"cutoff\": 31, \"userId\": 71115, \"precision\": 0.0, \"recall\": 0.0}, {\"count\": 10, \"cutoff\": 36, \"userId\": 71115, \"precision\": 0.0, \"recall\": 0.0}, {\"count\": 10, \"cutoff\": 41, \"userId\": 71115, \"precision\": 0.0, \"recall\": 0.0}, {\"count\": 10, \"cutoff\": 46, \"userId\": 71115, \"precision\": 0.0, \"recall\": 0.0}, {\"count\": 6, \"cutoff\": 1, \"userId\": 75145, \"precision\": 0.0, \"recall\": 0.0}, {\"count\": 6, \"cutoff\": 2, \"userId\": 75145, \"precision\": 0.0, \"recall\": 0.0}, {\"count\": 6, \"cutoff\": 3, \"userId\": 75145, \"precision\": 0.0, \"recall\": 0.0}, {\"count\": 6, \"cutoff\": 4, \"userId\": 75145, \"precision\": 0.0, \"recall\": 0.0}, {\"count\": 6, \"cutoff\": 5, \"userId\": 75145, \"precision\": 0.0, \"recall\": 0.0}, {\"count\": 6, \"cutoff\": 6, \"userId\": 75145, \"precision\": 0.0, \"recall\": 0.0}, {\"count\": 6, \"cutoff\": 7, \"userId\": 75145, \"precision\": 0.0, \"recall\": 0.0}, {\"count\": 6, \"cutoff\": 8, \"userId\": 75145, \"precision\": 0.0, \"recall\": 0.0}, {\"count\": 6, \"cutoff\": 9, \"userId\": 75145, \"precision\": 0.0, \"recall\": 0.0}, {\"count\": 6, \"cutoff\": 10, \"userId\": 75145, \"precision\": 0.0, \"recall\": 0.0}, {\"count\": 6, \"cutoff\": 11, \"userId\": 75145, \"precision\": 0.0, \"recall\": 0.0}, {\"count\": 6, \"cutoff\": 16, \"userId\": 75145, \"precision\": 0.0, \"recall\": 0.0}, {\"count\": 6, \"cutoff\": 21, \"userId\": 75145, \"precision\": 0.0, \"recall\": 0.0}, {\"count\": 6, \"cutoff\": 26, \"userId\": 75145, \"precision\": 0.0, \"recall\": 0.0}, {\"count\": 6, \"cutoff\": 31, \"userId\": 75145, \"precision\": 0.0, \"recall\": 0.0}, {\"count\": 6, \"cutoff\": 36, \"userId\": 75145, \"precision\": 0.0, \"recall\": 0.0}, {\"count\": 6, \"cutoff\": 41, \"userId\": 75145, \"precision\": 0.0, \"recall\": 0.0}, {\"count\": 6, \"cutoff\": 46, \"userId\": 75145, \"precision\": 0.0, \"recall\": 0.0}, {\"count\": 69, \"cutoff\": 1, \"userId\": 78917, \"precision\": 0.0, \"recall\": 0.0}, {\"count\": 69, \"cutoff\": 2, \"userId\": 78917, \"precision\": 0.0, \"recall\": 0.0}, {\"count\": 69, \"cutoff\": 3, \"userId\": 78917, \"precision\": 0.0, \"recall\": 0.0}, {\"count\": 69, \"cutoff\": 4, \"userId\": 78917, \"precision\": 0.0, \"recall\": 0.0}, {\"count\": 69, \"cutoff\": 5, \"userId\": 78917, \"precision\": 0.0, \"recall\": 0.0}, {\"count\": 69, \"cutoff\": 6, \"userId\": 78917, \"precision\": 0.0, \"recall\": 0.0}, {\"count\": 69, \"cutoff\": 7, \"userId\": 78917, \"precision\": 0.0, \"recall\": 0.0}, {\"count\": 69, \"cutoff\": 8, \"userId\": 78917, \"precision\": 0.0, \"recall\": 0.0}, {\"count\": 69, \"cutoff\": 9, \"userId\": 78917, \"precision\": 0.0, \"recall\": 0.0}, {\"count\": 69, \"cutoff\": 10, \"userId\": 78917, \"precision\": 0.0, \"recall\": 0.0}, {\"count\": 69, \"cutoff\": 11, \"userId\": 78917, \"precision\": 0.09090909090909091, \"recall\": 0.014492753623188406}, {\"count\": 69, \"cutoff\": 16, \"userId\": 78917, \"precision\": 0.0625, \"recall\": 0.014492753623188406}, {\"count\": 69, \"cutoff\": 21, \"userId\": 78917, \"precision\": 0.047619047619047616, \"recall\": 0.014492753623188406}, {\"count\": 69, \"cutoff\": 26, \"userId\": 78917, \"precision\": 0.038461538461538464, \"recall\": 0.014492753623188406}, {\"count\": 69, \"cutoff\": 31, \"userId\": 78917, \"precision\": 0.03225806451612903, \"recall\": 0.014492753623188406}, {\"count\": 69, \"cutoff\": 36, \"userId\": 78917, \"precision\": 0.027777777777777776, \"recall\": 0.014492753623188406}, {\"count\": 69, \"cutoff\": 41, \"userId\": 78917, \"precision\": 0.024390243902439025, \"recall\": 0.014492753623188406}, {\"count\": 69, \"cutoff\": 46, \"userId\": 78917, \"precision\": 0.021739130434782608, \"recall\": 0.014492753623188406}, {\"count\": 1, \"cutoff\": 1, \"userId\": 80070, \"precision\": 0.0, \"recall\": 0.0}, {\"count\": 1, \"cutoff\": 2, \"userId\": 80070, \"precision\": 0.0, \"recall\": 0.0}, {\"count\": 1, \"cutoff\": 3, \"userId\": 80070, \"precision\": 0.0, \"recall\": 0.0}, {\"count\": 1, \"cutoff\": 4, \"userId\": 80070, \"precision\": 0.0, \"recall\": 0.0}, {\"count\": 1, \"cutoff\": 5, \"userId\": 80070, \"precision\": 0.0, \"recall\": 0.0}, {\"count\": 1, \"cutoff\": 6, \"userId\": 80070, \"precision\": 0.0, \"recall\": 0.0}, {\"count\": 1, \"cutoff\": 7, \"userId\": 80070, \"precision\": 0.0, \"recall\": 0.0}, {\"count\": 1, \"cutoff\": 8, \"userId\": 80070, \"precision\": 0.0, \"recall\": 0.0}, {\"count\": 1, \"cutoff\": 9, \"userId\": 80070, \"precision\": 0.0, \"recall\": 0.0}, {\"count\": 1, \"cutoff\": 10, \"userId\": 80070, \"precision\": 0.0, \"recall\": 0.0}, {\"count\": 1, \"cutoff\": 11, \"userId\": 80070, \"precision\": 0.0, \"recall\": 0.0}, {\"count\": 1, \"cutoff\": 16, \"userId\": 80070, \"precision\": 0.0, \"recall\": 0.0}, {\"count\": 1, \"cutoff\": 21, \"userId\": 80070, \"precision\": 0.0, \"recall\": 0.0}, {\"count\": 1, \"cutoff\": 26, \"userId\": 80070, \"precision\": 0.0, \"recall\": 0.0}, {\"count\": 1, \"cutoff\": 31, \"userId\": 80070, \"precision\": 0.0, \"recall\": 0.0}, {\"count\": 1, \"cutoff\": 36, \"userId\": 80070, \"precision\": 0.0, \"recall\": 0.0}, {\"count\": 1, \"cutoff\": 41, \"userId\": 80070, \"precision\": 0.0, \"recall\": 0.0}, {\"count\": 1, \"cutoff\": 46, \"userId\": 80070, \"precision\": 0.0, \"recall\": 0.0}, {\"count\": 1, \"cutoff\": 1, \"userId\": 80920, \"precision\": 0.0, \"recall\": 0.0}, {\"count\": 1, \"cutoff\": 2, \"userId\": 80920, \"precision\": 0.0, \"recall\": 0.0}, {\"count\": 1, \"cutoff\": 3, \"userId\": 80920, \"precision\": 0.0, \"recall\": 0.0}, {\"count\": 1, \"cutoff\": 4, \"userId\": 80920, \"precision\": 0.0, \"recall\": 0.0}, {\"count\": 1, \"cutoff\": 5, \"userId\": 80920, \"precision\": 0.0, \"recall\": 0.0}, {\"count\": 1, \"cutoff\": 6, \"userId\": 80920, \"precision\": 0.0, \"recall\": 0.0}, {\"count\": 1, \"cutoff\": 7, \"userId\": 80920, \"precision\": 0.0, \"recall\": 0.0}, {\"count\": 1, \"cutoff\": 8, \"userId\": 80920, \"precision\": 0.0, \"recall\": 0.0}, {\"count\": 1, \"cutoff\": 9, \"userId\": 80920, \"precision\": 0.0, \"recall\": 0.0}, {\"count\": 1, \"cutoff\": 10, \"userId\": 80920, \"precision\": 0.0, \"recall\": 0.0}, {\"count\": 1, \"cutoff\": 11, \"userId\": 80920, \"precision\": 0.0, \"recall\": 0.0}, {\"count\": 1, \"cutoff\": 16, \"userId\": 80920, \"precision\": 0.0, \"recall\": 0.0}, {\"count\": 1, \"cutoff\": 21, \"userId\": 80920, \"precision\": 0.0, \"recall\": 0.0}, {\"count\": 1, \"cutoff\": 26, \"userId\": 80920, \"precision\": 0.0, \"recall\": 0.0}, {\"count\": 1, \"cutoff\": 31, \"userId\": 80920, \"precision\": 0.0, \"recall\": 0.0}, {\"count\": 1, \"cutoff\": 36, \"userId\": 80920, \"precision\": 0.0, \"recall\": 0.0}, {\"count\": 1, \"cutoff\": 41, \"userId\": 80920, \"precision\": 0.0, \"recall\": 0.0}, {\"count\": 1, \"cutoff\": 46, \"userId\": 80920, \"precision\": 0.0, \"recall\": 0.0}, {\"count\": 13, \"cutoff\": 1, \"userId\": 84430, \"precision\": 0.0, \"recall\": 0.0}, {\"count\": 13, \"cutoff\": 2, \"userId\": 84430, \"precision\": 0.0, \"recall\": 0.0}, {\"count\": 13, \"cutoff\": 3, \"userId\": 84430, \"precision\": 0.0, \"recall\": 0.0}, {\"count\": 13, \"cutoff\": 4, \"userId\": 84430, \"precision\": 0.0, \"recall\": 0.0}, {\"count\": 13, \"cutoff\": 5, \"userId\": 84430, \"precision\": 0.0, \"recall\": 0.0}, {\"count\": 13, \"cutoff\": 6, \"userId\": 84430, \"precision\": 0.0, \"recall\": 0.0}, {\"count\": 13, \"cutoff\": 7, \"userId\": 84430, \"precision\": 0.0, \"recall\": 0.0}, {\"count\": 13, \"cutoff\": 8, \"userId\": 84430, \"precision\": 0.0, \"recall\": 0.0}, {\"count\": 13, \"cutoff\": 9, \"userId\": 84430, \"precision\": 0.0, \"recall\": 0.0}, {\"count\": 13, \"cutoff\": 10, \"userId\": 84430, \"precision\": 0.0, \"recall\": 0.0}, {\"count\": 13, \"cutoff\": 11, \"userId\": 84430, \"precision\": 0.0, \"recall\": 0.0}, {\"count\": 13, \"cutoff\": 16, \"userId\": 84430, \"precision\": 0.0, \"recall\": 0.0}, {\"count\": 13, \"cutoff\": 21, \"userId\": 84430, \"precision\": 0.0, \"recall\": 0.0}, {\"count\": 13, \"cutoff\": 26, \"userId\": 84430, \"precision\": 0.0, \"recall\": 0.0}, {\"count\": 13, \"cutoff\": 31, \"userId\": 84430, \"precision\": 0.0, \"recall\": 0.0}, {\"count\": 13, \"cutoff\": 36, \"userId\": 84430, \"precision\": 0.0, \"recall\": 0.0}, {\"count\": 13, \"cutoff\": 41, \"userId\": 84430, \"precision\": 0.0, \"recall\": 0.0}, {\"count\": 13, \"cutoff\": 46, \"userId\": 84430, \"precision\": 0.0, \"recall\": 0.0}, {\"count\": 160, \"cutoff\": 1, \"userId\": 86768, \"precision\": 0.0, \"recall\": 0.0}, {\"count\": 160, \"cutoff\": 2, \"userId\": 86768, \"precision\": 0.0, \"recall\": 0.0}, {\"count\": 160, \"cutoff\": 3, \"userId\": 86768, \"precision\": 0.0, \"recall\": 0.0}, {\"count\": 160, \"cutoff\": 4, \"userId\": 86768, \"precision\": 0.0, \"recall\": 0.0}, {\"count\": 160, \"cutoff\": 5, \"userId\": 86768, \"precision\": 0.0, \"recall\": 0.0}, {\"count\": 160, \"cutoff\": 6, \"userId\": 86768, \"precision\": 0.0, \"recall\": 0.0}, {\"count\": 160, \"cutoff\": 7, \"userId\": 86768, \"precision\": 0.0, \"recall\": 0.0}, {\"count\": 160, \"cutoff\": 8, \"userId\": 86768, \"precision\": 0.125, \"recall\": 0.00625}, {\"count\": 160, \"cutoff\": 9, \"userId\": 86768, \"precision\": 0.1111111111111111, \"recall\": 0.00625}, {\"count\": 160, \"cutoff\": 10, \"userId\": 86768, \"precision\": 0.1, \"recall\": 0.00625}, {\"count\": 160, \"cutoff\": 11, \"userId\": 86768, \"precision\": 0.09090909090909091, \"recall\": 0.00625}, {\"count\": 160, \"cutoff\": 16, \"userId\": 86768, \"precision\": 0.0625, \"recall\": 0.00625}, {\"count\": 160, \"cutoff\": 21, \"userId\": 86768, \"precision\": 0.047619047619047616, \"recall\": 0.00625}, {\"count\": 160, \"cutoff\": 26, \"userId\": 86768, \"precision\": 0.038461538461538464, \"recall\": 0.00625}, {\"count\": 160, \"cutoff\": 31, \"userId\": 86768, \"precision\": 0.03225806451612903, \"recall\": 0.00625}, {\"count\": 160, \"cutoff\": 36, \"userId\": 86768, \"precision\": 0.027777777777777776, \"recall\": 0.00625}, {\"count\": 160, \"cutoff\": 41, \"userId\": 86768, \"precision\": 0.024390243902439025, \"recall\": 0.00625}, {\"count\": 160, \"cutoff\": 46, \"userId\": 86768, \"precision\": 0.021739130434782608, \"recall\": 0.00625}, {\"count\": 3, \"cutoff\": 1, \"userId\": 89115, \"precision\": 0.0, \"recall\": 0.0}, {\"count\": 3, \"cutoff\": 2, \"userId\": 89115, \"precision\": 0.0, \"recall\": 0.0}, {\"count\": 3, \"cutoff\": 3, \"userId\": 89115, \"precision\": 0.0, \"recall\": 0.0}, {\"count\": 3, \"cutoff\": 4, \"userId\": 89115, \"precision\": 0.0, \"recall\": 0.0}, {\"count\": 3, \"cutoff\": 5, \"userId\": 89115, \"precision\": 0.0, \"recall\": 0.0}, {\"count\": 3, \"cutoff\": 6, \"userId\": 89115, \"precision\": 0.0, \"recall\": 0.0}, {\"count\": 3, \"cutoff\": 7, \"userId\": 89115, \"precision\": 0.0, \"recall\": 0.0}, {\"count\": 3, \"cutoff\": 8, \"userId\": 89115, \"precision\": 0.0, \"recall\": 0.0}, {\"count\": 3, \"cutoff\": 9, \"userId\": 89115, \"precision\": 0.0, \"recall\": 0.0}, {\"count\": 3, \"cutoff\": 10, \"userId\": 89115, \"precision\": 0.0, \"recall\": 0.0}, {\"count\": 3, \"cutoff\": 11, \"userId\": 89115, \"precision\": 0.0, \"recall\": 0.0}, {\"count\": 3, \"cutoff\": 16, \"userId\": 89115, \"precision\": 0.0, \"recall\": 0.0}, {\"count\": 3, \"cutoff\": 21, \"userId\": 89115, \"precision\": 0.0, \"recall\": 0.0}, {\"count\": 3, \"cutoff\": 26, \"userId\": 89115, \"precision\": 0.0, \"recall\": 0.0}, {\"count\": 3, \"cutoff\": 31, \"userId\": 89115, \"precision\": 0.0, \"recall\": 0.0}, {\"count\": 3, \"cutoff\": 36, \"userId\": 89115, \"precision\": 0.0, \"recall\": 0.0}, {\"count\": 3, \"cutoff\": 41, \"userId\": 89115, \"precision\": 0.0, \"recall\": 0.0}, {\"count\": 3, \"cutoff\": 46, \"userId\": 89115, \"precision\": 0.0, \"recall\": 0.0}, {\"count\": 1, \"cutoff\": 1, \"userId\": 90550, \"precision\": 0.0, \"recall\": 0.0}, {\"count\": 1, \"cutoff\": 2, \"userId\": 90550, \"precision\": 0.0, \"recall\": 0.0}, {\"count\": 1, \"cutoff\": 3, \"userId\": 90550, \"precision\": 0.0, \"recall\": 0.0}, {\"count\": 1, \"cutoff\": 4, \"userId\": 90550, \"precision\": 0.0, \"recall\": 0.0}, {\"count\": 1, \"cutoff\": 5, \"userId\": 90550, \"precision\": 0.0, \"recall\": 0.0}, {\"count\": 1, \"cutoff\": 6, \"userId\": 90550, \"precision\": 0.0, \"recall\": 0.0}, {\"count\": 1, \"cutoff\": 7, \"userId\": 90550, \"precision\": 0.0, \"recall\": 0.0}, {\"count\": 1, \"cutoff\": 8, \"userId\": 90550, \"precision\": 0.0, \"recall\": 0.0}, {\"count\": 1, \"cutoff\": 9, \"userId\": 90550, \"precision\": 0.0, \"recall\": 0.0}, {\"count\": 1, \"cutoff\": 10, \"userId\": 90550, \"precision\": 0.0, \"recall\": 0.0}, {\"count\": 1, \"cutoff\": 11, \"userId\": 90550, \"precision\": 0.0, \"recall\": 0.0}, {\"count\": 1, \"cutoff\": 16, \"userId\": 90550, \"precision\": 0.0, \"recall\": 0.0}, {\"count\": 1, \"cutoff\": 21, \"userId\": 90550, \"precision\": 0.0, \"recall\": 0.0}, {\"count\": 1, \"cutoff\": 26, \"userId\": 90550, \"precision\": 0.0, \"recall\": 0.0}, {\"count\": 1, \"cutoff\": 31, \"userId\": 90550, \"precision\": 0.0, \"recall\": 0.0}, {\"count\": 1, \"cutoff\": 36, \"userId\": 90550, \"precision\": 0.0, \"recall\": 0.0}, {\"count\": 1, \"cutoff\": 41, \"userId\": 90550, \"precision\": 0.0, \"recall\": 0.0}, {\"count\": 1, \"cutoff\": 46, \"userId\": 90550, \"precision\": 0.0, \"recall\": 0.0}, {\"count\": 15, \"cutoff\": 1, \"userId\": 93433, \"precision\": 0.0, \"recall\": 0.0}, {\"count\": 15, \"cutoff\": 2, \"userId\": 93433, \"precision\": 0.0, \"recall\": 0.0}, {\"count\": 15, \"cutoff\": 3, \"userId\": 93433, \"precision\": 0.0, \"recall\": 0.0}, {\"count\": 15, \"cutoff\": 4, \"userId\": 93433, \"precision\": 0.0, \"recall\": 0.0}, {\"count\": 15, \"cutoff\": 5, \"userId\": 93433, \"precision\": 0.0, \"recall\": 0.0}, {\"count\": 15, \"cutoff\": 6, \"userId\": 93433, \"precision\": 0.0, \"recall\": 0.0}, {\"count\": 15, \"cutoff\": 7, \"userId\": 93433, \"precision\": 0.0, \"recall\": 0.0}, {\"count\": 15, \"cutoff\": 8, \"userId\": 93433, \"precision\": 0.0, \"recall\": 0.0}, {\"count\": 15, \"cutoff\": 9, \"userId\": 93433, \"precision\": 0.0, \"recall\": 0.0}, {\"count\": 15, \"cutoff\": 10, \"userId\": 93433, \"precision\": 0.0, \"recall\": 0.0}, {\"count\": 15, \"cutoff\": 11, \"userId\": 93433, \"precision\": 0.0, \"recall\": 0.0}, {\"count\": 15, \"cutoff\": 16, \"userId\": 93433, \"precision\": 0.0, \"recall\": 0.0}, {\"count\": 15, \"cutoff\": 21, \"userId\": 93433, \"precision\": 0.0, \"recall\": 0.0}, {\"count\": 15, \"cutoff\": 26, \"userId\": 93433, \"precision\": 0.0, \"recall\": 0.0}, {\"count\": 15, \"cutoff\": 31, \"userId\": 93433, \"precision\": 0.0, \"recall\": 0.0}, {\"count\": 15, \"cutoff\": 36, \"userId\": 93433, \"precision\": 0.0, \"recall\": 0.0}, {\"count\": 15, \"cutoff\": 41, \"userId\": 93433, \"precision\": 0.0, \"recall\": 0.0}, {\"count\": 15, \"cutoff\": 46, \"userId\": 93433, \"precision\": 0.0, \"recall\": 0.0}, {\"count\": 1, \"cutoff\": 1, \"userId\": 94326, \"precision\": 0.0, \"recall\": 0.0}, {\"count\": 1, \"cutoff\": 2, \"userId\": 94326, \"precision\": 0.0, \"recall\": 0.0}, {\"count\": 1, \"cutoff\": 3, \"userId\": 94326, \"precision\": 0.0, \"recall\": 0.0}, {\"count\": 1, \"cutoff\": 4, \"userId\": 94326, \"precision\": 0.0, \"recall\": 0.0}, {\"count\": 1, \"cutoff\": 5, \"userId\": 94326, \"precision\": 0.0, \"recall\": 0.0}, {\"count\": 1, \"cutoff\": 6, \"userId\": 94326, \"precision\": 0.0, \"recall\": 0.0}, {\"count\": 1, \"cutoff\": 7, \"userId\": 94326, \"precision\": 0.0, \"recall\": 0.0}, {\"count\": 1, \"cutoff\": 8, \"userId\": 94326, \"precision\": 0.0, \"recall\": 0.0}, {\"count\": 1, \"cutoff\": 9, \"userId\": 94326, \"precision\": 0.0, \"recall\": 0.0}, {\"count\": 1, \"cutoff\": 10, \"userId\": 94326, \"precision\": 0.0, \"recall\": 0.0}, {\"count\": 1, \"cutoff\": 11, \"userId\": 94326, \"precision\": 0.0, \"recall\": 0.0}, {\"count\": 1, \"cutoff\": 16, \"userId\": 94326, \"precision\": 0.0, \"recall\": 0.0}, {\"count\": 1, \"cutoff\": 21, \"userId\": 94326, \"precision\": 0.0, \"recall\": 0.0}, {\"count\": 1, \"cutoff\": 26, \"userId\": 94326, \"precision\": 0.0, \"recall\": 0.0}, {\"count\": 1, \"cutoff\": 31, \"userId\": 94326, \"precision\": 0.0, \"recall\": 0.0}, {\"count\": 1, \"cutoff\": 36, \"userId\": 94326, \"precision\": 0.0, \"recall\": 0.0}, {\"count\": 1, \"cutoff\": 41, \"userId\": 94326, \"precision\": 0.0, \"recall\": 0.0}, {\"count\": 1, \"cutoff\": 46, \"userId\": 94326, \"precision\": 0.0, \"recall\": 0.0}, {\"count\": 2, \"cutoff\": 1, \"userId\": 95273, \"precision\": 0.0, \"recall\": 0.0}, {\"count\": 2, \"cutoff\": 2, \"userId\": 95273, \"precision\": 0.0, \"recall\": 0.0}, {\"count\": 2, \"cutoff\": 3, \"userId\": 95273, \"precision\": 0.0, \"recall\": 0.0}, {\"count\": 2, \"cutoff\": 4, \"userId\": 95273, \"precision\": 0.0, \"recall\": 0.0}, {\"count\": 2, \"cutoff\": 5, \"userId\": 95273, \"precision\": 0.0, \"recall\": 0.0}, {\"count\": 2, \"cutoff\": 6, \"userId\": 95273, \"precision\": 0.0, \"recall\": 0.0}, {\"count\": 2, \"cutoff\": 7, \"userId\": 95273, \"precision\": 0.0, \"recall\": 0.0}, {\"count\": 2, \"cutoff\": 8, \"userId\": 95273, \"precision\": 0.0, \"recall\": 0.0}, {\"count\": 2, \"cutoff\": 9, \"userId\": 95273, \"precision\": 0.0, \"recall\": 0.0}, {\"count\": 2, \"cutoff\": 10, \"userId\": 95273, \"precision\": 0.0, \"recall\": 0.0}, {\"count\": 2, \"cutoff\": 11, \"userId\": 95273, \"precision\": 0.0, \"recall\": 0.0}, {\"count\": 2, \"cutoff\": 16, \"userId\": 95273, \"precision\": 0.0, \"recall\": 0.0}, {\"count\": 2, \"cutoff\": 21, \"userId\": 95273, \"precision\": 0.0, \"recall\": 0.0}, {\"count\": 2, \"cutoff\": 26, \"userId\": 95273, \"precision\": 0.0, \"recall\": 0.0}, {\"count\": 2, \"cutoff\": 31, \"userId\": 95273, \"precision\": 0.0, \"recall\": 0.0}, {\"count\": 2, \"cutoff\": 36, \"userId\": 95273, \"precision\": 0.0, \"recall\": 0.0}, {\"count\": 2, \"cutoff\": 41, \"userId\": 95273, \"precision\": 0.0, \"recall\": 0.0}, {\"count\": 2, \"cutoff\": 46, \"userId\": 95273, \"precision\": 0.0, \"recall\": 0.0}, {\"count\": 23, \"cutoff\": 1, \"userId\": 95924, \"precision\": 0.0, \"recall\": 0.0}, {\"count\": 23, \"cutoff\": 2, \"userId\": 95924, \"precision\": 0.0, \"recall\": 0.0}, {\"count\": 23, \"cutoff\": 3, \"userId\": 95924, \"precision\": 0.0, \"recall\": 0.0}, {\"count\": 23, \"cutoff\": 4, \"userId\": 95924, \"precision\": 0.0, \"recall\": 0.0}, {\"count\": 23, \"cutoff\": 5, \"userId\": 95924, \"precision\": 0.0, \"recall\": 0.0}, {\"count\": 23, \"cutoff\": 6, \"userId\": 95924, \"precision\": 0.0, \"recall\": 0.0}, {\"count\": 23, \"cutoff\": 7, \"userId\": 95924, \"precision\": 0.0, \"recall\": 0.0}, {\"count\": 23, \"cutoff\": 8, \"userId\": 95924, \"precision\": 0.0, \"recall\": 0.0}, {\"count\": 23, \"cutoff\": 9, \"userId\": 95924, \"precision\": 0.0, \"recall\": 0.0}, {\"count\": 23, \"cutoff\": 10, \"userId\": 95924, \"precision\": 0.0, \"recall\": 0.0}, {\"count\": 23, \"cutoff\": 11, \"userId\": 95924, \"precision\": 0.0, \"recall\": 0.0}, {\"count\": 23, \"cutoff\": 16, \"userId\": 95924, \"precision\": 0.0, \"recall\": 0.0}, {\"count\": 23, \"cutoff\": 21, \"userId\": 95924, \"precision\": 0.0, \"recall\": 0.0}, {\"count\": 23, \"cutoff\": 26, \"userId\": 95924, \"precision\": 0.0, \"recall\": 0.0}, {\"count\": 23, \"cutoff\": 31, \"userId\": 95924, \"precision\": 0.0, \"recall\": 0.0}, {\"count\": 23, \"cutoff\": 36, \"userId\": 95924, \"precision\": 0.0, \"recall\": 0.0}, {\"count\": 23, \"cutoff\": 41, \"userId\": 95924, \"precision\": 0.0, \"recall\": 0.0}, {\"count\": 23, \"cutoff\": 46, \"userId\": 95924, \"precision\": 0.0, \"recall\": 0.0}, {\"count\": 5, \"cutoff\": 1, \"userId\": 97195, \"precision\": 0.0, \"recall\": 0.0}, {\"count\": 5, \"cutoff\": 2, \"userId\": 97195, \"precision\": 0.0, \"recall\": 0.0}, {\"count\": 5, \"cutoff\": 3, \"userId\": 97195, \"precision\": 0.0, \"recall\": 0.0}, {\"count\": 5, \"cutoff\": 4, \"userId\": 97195, \"precision\": 0.0, \"recall\": 0.0}, {\"count\": 5, \"cutoff\": 5, \"userId\": 97195, \"precision\": 0.0, \"recall\": 0.0}, {\"count\": 5, \"cutoff\": 6, \"userId\": 97195, \"precision\": 0.0, \"recall\": 0.0}, {\"count\": 5, \"cutoff\": 7, \"userId\": 97195, \"precision\": 0.0, \"recall\": 0.0}, {\"count\": 5, \"cutoff\": 8, \"userId\": 97195, \"precision\": 0.0, \"recall\": 0.0}, {\"count\": 5, \"cutoff\": 9, \"userId\": 97195, \"precision\": 0.0, \"recall\": 0.0}, {\"count\": 5, \"cutoff\": 10, \"userId\": 97195, \"precision\": 0.0, \"recall\": 0.0}, {\"count\": 5, \"cutoff\": 11, \"userId\": 97195, \"precision\": 0.0, \"recall\": 0.0}, {\"count\": 5, \"cutoff\": 16, \"userId\": 97195, \"precision\": 0.0, \"recall\": 0.0}, {\"count\": 5, \"cutoff\": 21, \"userId\": 97195, \"precision\": 0.0, \"recall\": 0.0}, {\"count\": 5, \"cutoff\": 26, \"userId\": 97195, \"precision\": 0.0, \"recall\": 0.0}, {\"count\": 5, \"cutoff\": 31, \"userId\": 97195, \"precision\": 0.0, \"recall\": 0.0}, {\"count\": 5, \"cutoff\": 36, \"userId\": 97195, \"precision\": 0.0, \"recall\": 0.0}, {\"count\": 5, \"cutoff\": 41, \"userId\": 97195, \"precision\": 0.0, \"recall\": 0.0}, {\"count\": 5, \"cutoff\": 46, \"userId\": 97195, \"precision\": 0.0, \"recall\": 0.0}, {\"count\": 1, \"cutoff\": 1, \"userId\": 101085, \"precision\": 0.0, \"recall\": 0.0}, {\"count\": 1, \"cutoff\": 2, \"userId\": 101085, \"precision\": 0.0, \"recall\": 0.0}, {\"count\": 1, \"cutoff\": 3, \"userId\": 101085, \"precision\": 0.0, \"recall\": 0.0}, {\"count\": 1, \"cutoff\": 4, \"userId\": 101085, \"precision\": 0.0, \"recall\": 0.0}, {\"count\": 1, \"cutoff\": 5, \"userId\": 101085, \"precision\": 0.0, \"recall\": 0.0}, {\"count\": 1, \"cutoff\": 6, \"userId\": 101085, \"precision\": 0.0, \"recall\": 0.0}, {\"count\": 1, \"cutoff\": 7, \"userId\": 101085, \"precision\": 0.0, \"recall\": 0.0}, {\"count\": 1, \"cutoff\": 8, \"userId\": 101085, \"precision\": 0.0, \"recall\": 0.0}, {\"count\": 1, \"cutoff\": 9, \"userId\": 101085, \"precision\": 0.0, \"recall\": 0.0}, {\"count\": 1, \"cutoff\": 10, \"userId\": 101085, \"precision\": 0.0, \"recall\": 0.0}, {\"count\": 1, \"cutoff\": 11, \"userId\": 101085, \"precision\": 0.0, \"recall\": 0.0}, {\"count\": 1, \"cutoff\": 16, \"userId\": 101085, \"precision\": 0.0, \"recall\": 0.0}, {\"count\": 1, \"cutoff\": 21, \"userId\": 101085, \"precision\": 0.0, \"recall\": 0.0}, {\"count\": 1, \"cutoff\": 26, \"userId\": 101085, \"precision\": 0.0, \"recall\": 0.0}, {\"count\": 1, \"cutoff\": 31, \"userId\": 101085, \"precision\": 0.0, \"recall\": 0.0}, {\"count\": 1, \"cutoff\": 36, \"userId\": 101085, \"precision\": 0.0, \"recall\": 0.0}, {\"count\": 1, \"cutoff\": 41, \"userId\": 101085, \"precision\": 0.0, \"recall\": 0.0}, {\"count\": 1, \"cutoff\": 46, \"userId\": 101085, \"precision\": 0.0, \"recall\": 0.0}, {\"count\": 1, \"cutoff\": 1, \"userId\": 101555, \"precision\": 0.0, \"recall\": 0.0}, {\"count\": 1, \"cutoff\": 2, \"userId\": 101555, \"precision\": 0.0, \"recall\": 0.0}, {\"count\": 1, \"cutoff\": 3, \"userId\": 101555, \"precision\": 0.0, \"recall\": 0.0}, {\"count\": 1, \"cutoff\": 4, \"userId\": 101555, \"precision\": 0.0, \"recall\": 0.0}, {\"count\": 1, \"cutoff\": 5, \"userId\": 101555, \"precision\": 0.0, \"recall\": 0.0}, {\"count\": 1, \"cutoff\": 6, \"userId\": 101555, \"precision\": 0.0, \"recall\": 0.0}, {\"count\": 1, \"cutoff\": 7, \"userId\": 101555, \"precision\": 0.0, \"recall\": 0.0}, {\"count\": 1, \"cutoff\": 8, \"userId\": 101555, \"precision\": 0.0, \"recall\": 0.0}, {\"count\": 1, \"cutoff\": 9, \"userId\": 101555, \"precision\": 0.0, \"recall\": 0.0}, {\"count\": 1, \"cutoff\": 10, \"userId\": 101555, \"precision\": 0.0, \"recall\": 0.0}, {\"count\": 1, \"cutoff\": 11, \"userId\": 101555, \"precision\": 0.0, \"recall\": 0.0}, {\"count\": 1, \"cutoff\": 16, \"userId\": 101555, \"precision\": 0.0, \"recall\": 0.0}, {\"count\": 1, \"cutoff\": 21, \"userId\": 101555, \"precision\": 0.0, \"recall\": 0.0}, {\"count\": 1, \"cutoff\": 26, \"userId\": 101555, \"precision\": 0.0, \"recall\": 0.0}, {\"count\": 1, \"cutoff\": 31, \"userId\": 101555, \"precision\": 0.0, \"recall\": 0.0}, {\"count\": 1, \"cutoff\": 36, \"userId\": 101555, \"precision\": 0.0, \"recall\": 0.0}, {\"count\": 1, \"cutoff\": 41, \"userId\": 101555, \"precision\": 0.0, \"recall\": 0.0}, {\"count\": 1, \"cutoff\": 46, \"userId\": 101555, \"precision\": 0.0, \"recall\": 0.0}, {\"count\": 2, \"cutoff\": 1, \"userId\": 105371, \"precision\": 0.0, \"recall\": 0.0}, {\"count\": 2, \"cutoff\": 2, \"userId\": 105371, \"precision\": 0.0, \"recall\": 0.0}, {\"count\": 2, \"cutoff\": 3, \"userId\": 105371, \"precision\": 0.0, \"recall\": 0.0}, {\"count\": 2, \"cutoff\": 4, \"userId\": 105371, \"precision\": 0.0, \"recall\": 0.0}, {\"count\": 2, \"cutoff\": 5, \"userId\": 105371, \"precision\": 0.0, \"recall\": 0.0}, {\"count\": 2, \"cutoff\": 6, \"userId\": 105371, \"precision\": 0.0, \"recall\": 0.0}, {\"count\": 2, \"cutoff\": 7, \"userId\": 105371, \"precision\": 0.0, \"recall\": 0.0}, {\"count\": 2, \"cutoff\": 8, \"userId\": 105371, \"precision\": 0.0, \"recall\": 0.0}, {\"count\": 2, \"cutoff\": 9, \"userId\": 105371, \"precision\": 0.0, \"recall\": 0.0}, {\"count\": 2, \"cutoff\": 10, \"userId\": 105371, \"precision\": 0.0, \"recall\": 0.0}, {\"count\": 2, \"cutoff\": 11, \"userId\": 105371, \"precision\": 0.0, \"recall\": 0.0}, {\"count\": 2, \"cutoff\": 16, \"userId\": 105371, \"precision\": 0.0, \"recall\": 0.0}, {\"count\": 2, \"cutoff\": 21, \"userId\": 105371, \"precision\": 0.0, \"recall\": 0.0}, {\"count\": 2, \"cutoff\": 26, \"userId\": 105371, \"precision\": 0.0, \"recall\": 0.0}, {\"count\": 2, \"cutoff\": 31, \"userId\": 105371, \"precision\": 0.0, \"recall\": 0.0}, {\"count\": 2, \"cutoff\": 36, \"userId\": 105371, \"precision\": 0.0, \"recall\": 0.0}, {\"count\": 2, \"cutoff\": 41, \"userId\": 105371, \"precision\": 0.0, \"recall\": 0.0}, {\"count\": 2, \"cutoff\": 46, \"userId\": 105371, \"precision\": 0.0, \"recall\": 0.0}, {\"count\": 9, \"cutoff\": 1, \"userId\": 115222, \"precision\": 0.0, \"recall\": 0.0}, {\"count\": 9, \"cutoff\": 2, \"userId\": 115222, \"precision\": 0.0, \"recall\": 0.0}, {\"count\": 9, \"cutoff\": 3, \"userId\": 115222, \"precision\": 0.0, \"recall\": 0.0}, {\"count\": 9, \"cutoff\": 4, \"userId\": 115222, \"precision\": 0.0, \"recall\": 0.0}, {\"count\": 9, \"cutoff\": 5, \"userId\": 115222, \"precision\": 0.2, \"recall\": 0.1111111111111111}, {\"count\": 9, \"cutoff\": 6, \"userId\": 115222, \"precision\": 0.16666666666666666, \"recall\": 0.1111111111111111}, {\"count\": 9, \"cutoff\": 7, \"userId\": 115222, \"precision\": 0.14285714285714285, \"recall\": 0.1111111111111111}, {\"count\": 9, \"cutoff\": 8, \"userId\": 115222, \"precision\": 0.125, \"recall\": 0.1111111111111111}, {\"count\": 9, \"cutoff\": 9, \"userId\": 115222, \"precision\": 0.1111111111111111, \"recall\": 0.1111111111111111}, {\"count\": 9, \"cutoff\": 10, \"userId\": 115222, \"precision\": 0.1, \"recall\": 0.1111111111111111}, {\"count\": 9, \"cutoff\": 11, \"userId\": 115222, \"precision\": 0.09090909090909091, \"recall\": 0.1111111111111111}, {\"count\": 9, \"cutoff\": 16, \"userId\": 115222, \"precision\": 0.0625, \"recall\": 0.1111111111111111}, {\"count\": 9, \"cutoff\": 21, \"userId\": 115222, \"precision\": 0.047619047619047616, \"recall\": 0.1111111111111111}, {\"count\": 9, \"cutoff\": 26, \"userId\": 115222, \"precision\": 0.038461538461538464, \"recall\": 0.1111111111111111}, {\"count\": 9, \"cutoff\": 31, \"userId\": 115222, \"precision\": 0.03225806451612903, \"recall\": 0.1111111111111111}, {\"count\": 9, \"cutoff\": 36, \"userId\": 115222, \"precision\": 0.027777777777777776, \"recall\": 0.1111111111111111}, {\"count\": 9, \"cutoff\": 41, \"userId\": 115222, \"precision\": 0.024390243902439025, \"recall\": 0.1111111111111111}, {\"count\": 9, \"cutoff\": 46, \"userId\": 115222, \"precision\": 0.021739130434782608, \"recall\": 0.1111111111111111}, {\"count\": 2, \"cutoff\": 1, \"userId\": 116303, \"precision\": 0.0, \"recall\": 0.0}, {\"count\": 2, \"cutoff\": 2, \"userId\": 116303, \"precision\": 0.0, \"recall\": 0.0}, {\"count\": 2, \"cutoff\": 3, \"userId\": 116303, \"precision\": 0.0, \"recall\": 0.0}, {\"count\": 2, \"cutoff\": 4, \"userId\": 116303, \"precision\": 0.0, \"recall\": 0.0}, {\"count\": 2, \"cutoff\": 5, \"userId\": 116303, \"precision\": 0.0, \"recall\": 0.0}, {\"count\": 2, \"cutoff\": 6, \"userId\": 116303, \"precision\": 0.0, \"recall\": 0.0}, {\"count\": 2, \"cutoff\": 7, \"userId\": 116303, \"precision\": 0.0, \"recall\": 0.0}, {\"count\": 2, \"cutoff\": 8, \"userId\": 116303, \"precision\": 0.0, \"recall\": 0.0}, {\"count\": 2, \"cutoff\": 9, \"userId\": 116303, \"precision\": 0.0, \"recall\": 0.0}, {\"count\": 2, \"cutoff\": 10, \"userId\": 116303, \"precision\": 0.0, \"recall\": 0.0}, {\"count\": 2, \"cutoff\": 11, \"userId\": 116303, \"precision\": 0.0, \"recall\": 0.0}, {\"count\": 2, \"cutoff\": 16, \"userId\": 116303, \"precision\": 0.0, \"recall\": 0.0}, {\"count\": 2, \"cutoff\": 21, \"userId\": 116303, \"precision\": 0.0, \"recall\": 0.0}, {\"count\": 2, \"cutoff\": 26, \"userId\": 116303, \"precision\": 0.0, \"recall\": 0.0}, {\"count\": 2, \"cutoff\": 31, \"userId\": 116303, \"precision\": 0.0, \"recall\": 0.0}, {\"count\": 2, \"cutoff\": 36, \"userId\": 116303, \"precision\": 0.0, \"recall\": 0.0}, {\"count\": 2, \"cutoff\": 41, \"userId\": 116303, \"precision\": 0.0, \"recall\": 0.0}, {\"count\": 2, \"cutoff\": 46, \"userId\": 116303, \"precision\": 0.0, \"recall\": 0.0}, {\"count\": 51, \"cutoff\": 1, \"userId\": 126994, \"precision\": 0.0, \"recall\": 0.0}, {\"count\": 51, \"cutoff\": 2, \"userId\": 126994, \"precision\": 0.0, \"recall\": 0.0}, {\"count\": 51, \"cutoff\": 3, \"userId\": 126994, \"precision\": 0.0, \"recall\": 0.0}, {\"count\": 51, \"cutoff\": 4, \"userId\": 126994, \"precision\": 0.0, \"recall\": 0.0}, {\"count\": 51, \"cutoff\": 5, \"userId\": 126994, \"precision\": 0.0, \"recall\": 0.0}, {\"count\": 51, \"cutoff\": 6, \"userId\": 126994, \"precision\": 0.0, \"recall\": 0.0}, {\"count\": 51, \"cutoff\": 7, \"userId\": 126994, \"precision\": 0.0, \"recall\": 0.0}, {\"count\": 51, \"cutoff\": 8, \"userId\": 126994, \"precision\": 0.0, \"recall\": 0.0}, {\"count\": 51, \"cutoff\": 9, \"userId\": 126994, \"precision\": 0.0, \"recall\": 0.0}, {\"count\": 51, \"cutoff\": 10, \"userId\": 126994, \"precision\": 0.0, \"recall\": 0.0}, {\"count\": 51, \"cutoff\": 11, \"userId\": 126994, \"precision\": 0.0, \"recall\": 0.0}, {\"count\": 51, \"cutoff\": 16, \"userId\": 126994, \"precision\": 0.0, \"recall\": 0.0}, {\"count\": 51, \"cutoff\": 21, \"userId\": 126994, \"precision\": 0.0, \"recall\": 0.0}, {\"count\": 51, \"cutoff\": 26, \"userId\": 126994, \"precision\": 0.0, \"recall\": 0.0}, {\"count\": 51, \"cutoff\": 31, \"userId\": 126994, \"precision\": 0.0, \"recall\": 0.0}, {\"count\": 51, \"cutoff\": 36, \"userId\": 126994, \"precision\": 0.0, \"recall\": 0.0}, {\"count\": 51, \"cutoff\": 41, \"userId\": 126994, \"precision\": 0.0, \"recall\": 0.0}, {\"count\": 51, \"cutoff\": 46, \"userId\": 126994, \"precision\": 0.0, \"recall\": 0.0}, {\"count\": 2, \"cutoff\": 1, \"userId\": 129008, \"precision\": 0.0, \"recall\": 0.0}, {\"count\": 2, \"cutoff\": 2, \"userId\": 129008, \"precision\": 0.0, \"recall\": 0.0}, {\"count\": 2, \"cutoff\": 3, \"userId\": 129008, \"precision\": 0.0, \"recall\": 0.0}, {\"count\": 2, \"cutoff\": 4, \"userId\": 129008, \"precision\": 0.0, \"recall\": 0.0}, {\"count\": 2, \"cutoff\": 5, \"userId\": 129008, \"precision\": 0.0, \"recall\": 0.0}, {\"count\": 2, \"cutoff\": 6, \"userId\": 129008, \"precision\": 0.0, \"recall\": 0.0}, {\"count\": 2, \"cutoff\": 7, \"userId\": 129008, \"precision\": 0.0, \"recall\": 0.0}, {\"count\": 2, \"cutoff\": 8, \"userId\": 129008, \"precision\": 0.0, \"recall\": 0.0}, {\"count\": 2, \"cutoff\": 9, \"userId\": 129008, \"precision\": 0.0, \"recall\": 0.0}, {\"count\": 2, \"cutoff\": 10, \"userId\": 129008, \"precision\": 0.0, \"recall\": 0.0}, {\"count\": 2, \"cutoff\": 11, \"userId\": 129008, \"precision\": 0.0, \"recall\": 0.0}, {\"count\": 2, \"cutoff\": 16, \"userId\": 129008, \"precision\": 0.0, \"recall\": 0.0}, {\"count\": 2, \"cutoff\": 21, \"userId\": 129008, \"precision\": 0.0, \"recall\": 0.0}, {\"count\": 2, \"cutoff\": 26, \"userId\": 129008, \"precision\": 0.0, \"recall\": 0.0}, {\"count\": 2, \"cutoff\": 31, \"userId\": 129008, \"precision\": 0.0, \"recall\": 0.0}, {\"count\": 2, \"cutoff\": 36, \"userId\": 129008, \"precision\": 0.0, \"recall\": 0.0}, {\"count\": 2, \"cutoff\": 41, \"userId\": 129008, \"precision\": 0.0, \"recall\": 0.0}, {\"count\": 2, \"cutoff\": 46, \"userId\": 129008, \"precision\": 0.0, \"recall\": 0.0}, {\"count\": 1, \"cutoff\": 1, \"userId\": 129354, \"precision\": 0.0, \"recall\": 0.0}, {\"count\": 1, \"cutoff\": 2, \"userId\": 129354, \"precision\": 0.0, \"recall\": 0.0}, {\"count\": 1, \"cutoff\": 3, \"userId\": 129354, \"precision\": 0.0, \"recall\": 0.0}, {\"count\": 1, \"cutoff\": 4, \"userId\": 129354, \"precision\": 0.0, \"recall\": 0.0}, {\"count\": 1, \"cutoff\": 5, \"userId\": 129354, \"precision\": 0.0, \"recall\": 0.0}, {\"count\": 1, \"cutoff\": 6, \"userId\": 129354, \"precision\": 0.0, \"recall\": 0.0}, {\"count\": 1, \"cutoff\": 7, \"userId\": 129354, \"precision\": 0.0, \"recall\": 0.0}, {\"count\": 1, \"cutoff\": 8, \"userId\": 129354, \"precision\": 0.0, \"recall\": 0.0}, {\"count\": 1, \"cutoff\": 9, \"userId\": 129354, \"precision\": 0.0, \"recall\": 0.0}, {\"count\": 1, \"cutoff\": 10, \"userId\": 129354, \"precision\": 0.0, \"recall\": 0.0}, {\"count\": 1, \"cutoff\": 11, \"userId\": 129354, \"precision\": 0.0, \"recall\": 0.0}, {\"count\": 1, \"cutoff\": 16, \"userId\": 129354, \"precision\": 0.0, \"recall\": 0.0}, {\"count\": 1, \"cutoff\": 21, \"userId\": 129354, \"precision\": 0.0, \"recall\": 0.0}, {\"count\": 1, \"cutoff\": 26, \"userId\": 129354, \"precision\": 0.0, \"recall\": 0.0}, {\"count\": 1, \"cutoff\": 31, \"userId\": 129354, \"precision\": 0.0, \"recall\": 0.0}, {\"count\": 1, \"cutoff\": 36, \"userId\": 129354, \"precision\": 0.0, \"recall\": 0.0}, {\"count\": 1, \"cutoff\": 41, \"userId\": 129354, \"precision\": 0.0, \"recall\": 0.0}, {\"count\": 1, \"cutoff\": 46, \"userId\": 129354, \"precision\": 0.0, \"recall\": 0.0}, {\"count\": 2, \"cutoff\": 1, \"userId\": 137105, \"precision\": 0.0, \"recall\": 0.0}, {\"count\": 2, \"cutoff\": 2, \"userId\": 137105, \"precision\": 0.0, \"recall\": 0.0}, {\"count\": 2, \"cutoff\": 3, \"userId\": 137105, \"precision\": 0.0, \"recall\": 0.0}, {\"count\": 2, \"cutoff\": 4, \"userId\": 137105, \"precision\": 0.0, \"recall\": 0.0}, {\"count\": 2, \"cutoff\": 5, \"userId\": 137105, \"precision\": 0.0, \"recall\": 0.0}, {\"count\": 2, \"cutoff\": 6, \"userId\": 137105, \"precision\": 0.0, \"recall\": 0.0}, {\"count\": 2, \"cutoff\": 7, \"userId\": 137105, \"precision\": 0.0, \"recall\": 0.0}, {\"count\": 2, \"cutoff\": 8, \"userId\": 137105, \"precision\": 0.0, \"recall\": 0.0}, {\"count\": 2, \"cutoff\": 9, \"userId\": 137105, \"precision\": 0.0, \"recall\": 0.0}, {\"count\": 2, \"cutoff\": 10, \"userId\": 137105, \"precision\": 0.0, \"recall\": 0.0}, {\"count\": 2, \"cutoff\": 11, \"userId\": 137105, \"precision\": 0.0, \"recall\": 0.0}, {\"count\": 2, \"cutoff\": 16, \"userId\": 137105, \"precision\": 0.0, \"recall\": 0.0}, {\"count\": 2, \"cutoff\": 21, \"userId\": 137105, \"precision\": 0.0, \"recall\": 0.0}, {\"count\": 2, \"cutoff\": 26, \"userId\": 137105, \"precision\": 0.0, \"recall\": 0.0}, {\"count\": 2, \"cutoff\": 31, \"userId\": 137105, \"precision\": 0.0, \"recall\": 0.0}, {\"count\": 2, \"cutoff\": 36, \"userId\": 137105, \"precision\": 0.0, \"recall\": 0.0}, {\"count\": 2, \"cutoff\": 41, \"userId\": 137105, \"precision\": 0.0, \"recall\": 0.0}, {\"count\": 2, \"cutoff\": 46, \"userId\": 137105, \"precision\": 0.0, \"recall\": 0.0}]}]], \"type\": \"Model\"}, \"ipython\": true, \"view_params\": {\"model_type\": \"recommender\", \"view\": \"Comparison\"}, \"model_type\": \"recommender\", \"attributes\": {\"section_titles\": [\"Schema\", \"Statistics\", \"Training summary\", \"Model Parameters\", \"Other Settings\"], \"sections\": [[[\"User ID\", \"userId\"], [\"Item ID\", \"title\"], [\"Target\", \"rating\"], [\"Additional observation features\", 0], [\"User side features\", []], [\"Item side features\", []]], [[\"Number of observations\", 390671], [\"Number of users\", 7154], [\"Number of items\", 13387]], [[\"Training time\", 0.8777]], [[\"Model class\", \"ItemSimilarityRecommender\"], [\"threshold\", 0.001], [\"similarity_type\", \"cosine\"], [\"training_method\", \"auto\"]], [[\"degree_approximation_threshold\", 4096], [\"sparse_density_estimation_sample_size\", 4096], [\"max_data_passes\", 4096], [\"target_memory_usage\", 8589934592], [\"seed_item_set_size\", 50], [\"nearest_neighbors_interaction_proportion_threshold\", 0.05], [\"max_item_neighborhood_size\", 5]]]}, \"evaluations\": [[\"dataset\", {\"precision_recall_overall\": [{\"cutoff\": 1, \"precision\": 0.0, \"recall\": 0.0}, {\"cutoff\": 2, \"precision\": 0.0, \"recall\": 0.0}, {\"cutoff\": 3, \"precision\": 0.0, \"recall\": 0.0}, {\"cutoff\": 4, \"precision\": 0.0, \"recall\": 0.0}, {\"cutoff\": 5, \"precision\": 0.0035087719298245615, \"recall\": 0.0019493177387914225}, {\"cutoff\": 6, \"precision\": 0.0029239766081871343, \"recall\": 0.0019493177387914225}, {\"cutoff\": 7, \"precision\": 0.002506265664160401, \"recall\": 0.0019493177387914225}, {\"cutoff\": 8, \"precision\": 0.006578947368421053, \"recall\": 0.007906920077972711}, {\"cutoff\": 9, \"precision\": 0.005847953216374269, \"recall\": 0.007906920077972711}, {\"cutoff\": 10, \"precision\": 0.005263157894736842, \"recall\": 0.007906920077972711}, {\"cutoff\": 11, \"precision\": 0.006379585326953748, \"recall\": 0.008161178913467243}, {\"cutoff\": 16, \"precision\": 0.004385964912280702, \"recall\": 0.008161178913467243}, {\"cutoff\": 21, \"precision\": 0.0050125313283208035, \"recall\": 0.028629015170777178}, {\"cutoff\": 26, \"precision\": 0.004048582995951417, \"recall\": 0.028629015170777178}, {\"cutoff\": 31, \"precision\": 0.003395585738539898, \"recall\": 0.028629015170777178}, {\"cutoff\": 36, \"precision\": 0.002923976608187135, \"recall\": 0.028629015170777178}, {\"cutoff\": 41, \"precision\": 0.0025673940949935818, \"recall\": 0.028629015170777178}, {\"cutoff\": 46, \"precision\": 0.0022883295194508, \"recall\": 0.028629015170777178}], \"precision_recall_by_user\": [{\"count\": 1, \"cutoff\": 1, \"userId\": 3171, \"precision\": 0.0, \"recall\": 0.0}, {\"count\": 1, \"cutoff\": 2, \"userId\": 3171, \"precision\": 0.0, \"recall\": 0.0}, {\"count\": 1, \"cutoff\": 3, \"userId\": 3171, \"precision\": 0.0, \"recall\": 0.0}, {\"count\": 1, \"cutoff\": 4, \"userId\": 3171, \"precision\": 0.0, \"recall\": 0.0}, {\"count\": 1, \"cutoff\": 5, \"userId\": 3171, \"precision\": 0.0, \"recall\": 0.0}, {\"count\": 1, \"cutoff\": 6, \"userId\": 3171, \"precision\": 0.0, \"recall\": 0.0}, {\"count\": 1, \"cutoff\": 7, \"userId\": 3171, \"precision\": 0.0, \"recall\": 0.0}, {\"count\": 1, \"cutoff\": 8, \"userId\": 3171, \"precision\": 0.0, \"recall\": 0.0}, {\"count\": 1, \"cutoff\": 9, \"userId\": 3171, \"precision\": 0.0, \"recall\": 0.0}, {\"count\": 1, \"cutoff\": 10, \"userId\": 3171, \"precision\": 0.0, \"recall\": 0.0}, {\"count\": 1, \"cutoff\": 11, \"userId\": 3171, \"precision\": 0.0, \"recall\": 0.0}, {\"count\": 1, \"cutoff\": 16, \"userId\": 3171, \"precision\": 0.0, \"recall\": 0.0}, {\"count\": 1, \"cutoff\": 21, \"userId\": 3171, \"precision\": 0.0, \"recall\": 0.0}, {\"count\": 1, \"cutoff\": 26, \"userId\": 3171, \"precision\": 0.0, \"recall\": 0.0}, {\"count\": 1, \"cutoff\": 31, \"userId\": 3171, \"precision\": 0.0, \"recall\": 0.0}, {\"count\": 1, \"cutoff\": 36, \"userId\": 3171, \"precision\": 0.0, \"recall\": 0.0}, {\"count\": 1, \"cutoff\": 41, \"userId\": 3171, \"precision\": 0.0, \"recall\": 0.0}, {\"count\": 1, \"cutoff\": 46, \"userId\": 3171, \"precision\": 0.0, \"recall\": 0.0}, {\"count\": 2, \"cutoff\": 1, \"userId\": 5525, \"precision\": 0.0, \"recall\": 0.0}, {\"count\": 2, \"cutoff\": 2, \"userId\": 5525, \"precision\": 0.0, \"recall\": 0.0}, {\"count\": 2, \"cutoff\": 3, \"userId\": 5525, \"precision\": 0.0, \"recall\": 0.0}, {\"count\": 2, \"cutoff\": 4, \"userId\": 5525, \"precision\": 0.0, \"recall\": 0.0}, {\"count\": 2, \"cutoff\": 5, \"userId\": 5525, \"precision\": 0.0, \"recall\": 0.0}, {\"count\": 2, \"cutoff\": 6, \"userId\": 5525, \"precision\": 0.0, \"recall\": 0.0}, {\"count\": 2, \"cutoff\": 7, \"userId\": 5525, \"precision\": 0.0, \"recall\": 0.0}, {\"count\": 2, \"cutoff\": 8, \"userId\": 5525, \"precision\": 0.0, \"recall\": 0.0}, {\"count\": 2, \"cutoff\": 9, \"userId\": 5525, \"precision\": 0.0, \"recall\": 0.0}, {\"count\": 2, \"cutoff\": 10, \"userId\": 5525, \"precision\": 0.0, \"recall\": 0.0}, {\"count\": 2, \"cutoff\": 11, \"userId\": 5525, \"precision\": 0.0, \"recall\": 0.0}, {\"count\": 2, \"cutoff\": 16, \"userId\": 5525, \"precision\": 0.0, \"recall\": 0.0}, {\"count\": 2, \"cutoff\": 21, \"userId\": 5525, \"precision\": 0.0, \"recall\": 0.0}, {\"count\": 2, \"cutoff\": 26, \"userId\": 5525, \"precision\": 0.0, \"recall\": 0.0}, {\"count\": 2, \"cutoff\": 31, \"userId\": 5525, \"precision\": 0.0, \"recall\": 0.0}, {\"count\": 2, \"cutoff\": 36, \"userId\": 5525, \"precision\": 0.0, \"recall\": 0.0}, {\"count\": 2, \"cutoff\": 41, \"userId\": 5525, \"precision\": 0.0, \"recall\": 0.0}, {\"count\": 2, \"cutoff\": 46, \"userId\": 5525, \"precision\": 0.0, \"recall\": 0.0}, {\"count\": 2, \"cutoff\": 1, \"userId\": 7421, \"precision\": 0.0, \"recall\": 0.0}, {\"count\": 2, \"cutoff\": 2, \"userId\": 7421, \"precision\": 0.0, \"recall\": 0.0}, {\"count\": 2, \"cutoff\": 3, \"userId\": 7421, \"precision\": 0.0, \"recall\": 0.0}, {\"count\": 2, \"cutoff\": 4, \"userId\": 7421, \"precision\": 0.0, \"recall\": 0.0}, {\"count\": 2, \"cutoff\": 5, \"userId\": 7421, \"precision\": 0.0, \"recall\": 0.0}, {\"count\": 2, \"cutoff\": 6, \"userId\": 7421, \"precision\": 0.0, \"recall\": 0.0}, {\"count\": 2, \"cutoff\": 7, \"userId\": 7421, \"precision\": 0.0, \"recall\": 0.0}, {\"count\": 2, \"cutoff\": 8, \"userId\": 7421, \"precision\": 0.0, \"recall\": 0.0}, {\"count\": 2, \"cutoff\": 9, \"userId\": 7421, \"precision\": 0.0, \"recall\": 0.0}, {\"count\": 2, \"cutoff\": 10, \"userId\": 7421, \"precision\": 0.0, \"recall\": 0.0}, {\"count\": 2, \"cutoff\": 11, \"userId\": 7421, \"precision\": 0.0, \"recall\": 0.0}, {\"count\": 2, \"cutoff\": 16, \"userId\": 7421, \"precision\": 0.0, \"recall\": 0.0}, {\"count\": 2, \"cutoff\": 21, \"userId\": 7421, \"precision\": 0.0, \"recall\": 0.0}, {\"count\": 2, \"cutoff\": 26, \"userId\": 7421, \"precision\": 0.0, \"recall\": 0.0}, {\"count\": 2, \"cutoff\": 31, \"userId\": 7421, \"precision\": 0.0, \"recall\": 0.0}, {\"count\": 2, \"cutoff\": 36, \"userId\": 7421, \"precision\": 0.0, \"recall\": 0.0}, {\"count\": 2, \"cutoff\": 41, \"userId\": 7421, \"precision\": 0.0, \"recall\": 0.0}, {\"count\": 2, \"cutoff\": 46, \"userId\": 7421, \"precision\": 0.0, \"recall\": 0.0}, {\"count\": 1, \"cutoff\": 1, \"userId\": 12550, \"precision\": 0.0, \"recall\": 0.0}, {\"count\": 1, \"cutoff\": 2, \"userId\": 12550, \"precision\": 0.0, \"recall\": 0.0}, {\"count\": 1, \"cutoff\": 3, \"userId\": 12550, \"precision\": 0.0, \"recall\": 0.0}, {\"count\": 1, \"cutoff\": 4, \"userId\": 12550, \"precision\": 0.0, \"recall\": 0.0}, {\"count\": 1, \"cutoff\": 5, \"userId\": 12550, \"precision\": 0.0, \"recall\": 0.0}, {\"count\": 1, \"cutoff\": 6, \"userId\": 12550, \"precision\": 0.0, \"recall\": 0.0}, {\"count\": 1, \"cutoff\": 7, \"userId\": 12550, \"precision\": 0.0, \"recall\": 0.0}, {\"count\": 1, \"cutoff\": 8, \"userId\": 12550, \"precision\": 0.0, \"recall\": 0.0}, {\"count\": 1, \"cutoff\": 9, \"userId\": 12550, \"precision\": 0.0, \"recall\": 0.0}, {\"count\": 1, \"cutoff\": 10, \"userId\": 12550, \"precision\": 0.0, \"recall\": 0.0}, {\"count\": 1, \"cutoff\": 11, \"userId\": 12550, \"precision\": 0.0, \"recall\": 0.0}, {\"count\": 1, \"cutoff\": 16, \"userId\": 12550, \"precision\": 0.0, \"recall\": 0.0}, {\"count\": 1, \"cutoff\": 21, \"userId\": 12550, \"precision\": 0.0, \"recall\": 0.0}, {\"count\": 1, \"cutoff\": 26, \"userId\": 12550, \"precision\": 0.0, \"recall\": 0.0}, {\"count\": 1, \"cutoff\": 31, \"userId\": 12550, \"precision\": 0.0, \"recall\": 0.0}, {\"count\": 1, \"cutoff\": 36, \"userId\": 12550, \"precision\": 0.0, \"recall\": 0.0}, {\"count\": 1, \"cutoff\": 41, \"userId\": 12550, \"precision\": 0.0, \"recall\": 0.0}, {\"count\": 1, \"cutoff\": 46, \"userId\": 12550, \"precision\": 0.0, \"recall\": 0.0}, {\"count\": 2, \"cutoff\": 1, \"userId\": 14031, \"precision\": 0.0, \"recall\": 0.0}, {\"count\": 2, \"cutoff\": 2, \"userId\": 14031, \"precision\": 0.0, \"recall\": 0.0}, {\"count\": 2, \"cutoff\": 3, \"userId\": 14031, \"precision\": 0.0, \"recall\": 0.0}, {\"count\": 2, \"cutoff\": 4, \"userId\": 14031, \"precision\": 0.0, \"recall\": 0.0}, {\"count\": 2, \"cutoff\": 5, \"userId\": 14031, \"precision\": 0.0, \"recall\": 0.0}, {\"count\": 2, \"cutoff\": 6, \"userId\": 14031, \"precision\": 0.0, \"recall\": 0.0}, {\"count\": 2, \"cutoff\": 7, \"userId\": 14031, \"precision\": 0.0, \"recall\": 0.0}, {\"count\": 2, \"cutoff\": 8, \"userId\": 14031, \"precision\": 0.0, \"recall\": 0.0}, {\"count\": 2, \"cutoff\": 9, \"userId\": 14031, \"precision\": 0.0, \"recall\": 0.0}, {\"count\": 2, \"cutoff\": 10, \"userId\": 14031, \"precision\": 0.0, \"recall\": 0.0}, {\"count\": 2, \"cutoff\": 11, \"userId\": 14031, \"precision\": 0.0, \"recall\": 0.0}, {\"count\": 2, \"cutoff\": 16, \"userId\": 14031, \"precision\": 0.0, \"recall\": 0.0}, {\"count\": 2, \"cutoff\": 21, \"userId\": 14031, \"precision\": 0.0, \"recall\": 0.0}, {\"count\": 2, \"cutoff\": 26, \"userId\": 14031, \"precision\": 0.0, \"recall\": 0.0}, {\"count\": 2, \"cutoff\": 31, \"userId\": 14031, \"precision\": 0.0, \"recall\": 0.0}, {\"count\": 2, \"cutoff\": 36, \"userId\": 14031, \"precision\": 0.0, \"recall\": 0.0}, {\"count\": 2, \"cutoff\": 41, \"userId\": 14031, \"precision\": 0.0, \"recall\": 0.0}, {\"count\": 2, \"cutoff\": 46, \"userId\": 14031, \"precision\": 0.0, \"recall\": 0.0}, {\"count\": 34, \"cutoff\": 1, \"userId\": 16555, \"precision\": 0.0, \"recall\": 0.0}, {\"count\": 34, \"cutoff\": 2, \"userId\": 16555, \"precision\": 0.0, \"recall\": 0.0}, {\"count\": 34, \"cutoff\": 3, \"userId\": 16555, \"precision\": 0.0, \"recall\": 0.0}, {\"count\": 34, \"cutoff\": 4, \"userId\": 16555, \"precision\": 0.0, \"recall\": 0.0}, {\"count\": 34, \"cutoff\": 5, \"userId\": 16555, \"precision\": 0.0, \"recall\": 0.0}, {\"count\": 34, \"cutoff\": 6, \"userId\": 16555, \"precision\": 0.0, \"recall\": 0.0}, {\"count\": 34, \"cutoff\": 7, \"userId\": 16555, \"precision\": 0.0, \"recall\": 0.0}, {\"count\": 34, \"cutoff\": 8, \"userId\": 16555, \"precision\": 0.0, \"recall\": 0.0}, {\"count\": 34, \"cutoff\": 9, \"userId\": 16555, \"precision\": 0.0, \"recall\": 0.0}, {\"count\": 34, \"cutoff\": 10, \"userId\": 16555, \"precision\": 0.0, \"recall\": 0.0}, {\"count\": 34, \"cutoff\": 11, \"userId\": 16555, \"precision\": 0.0, \"recall\": 0.0}, {\"count\": 34, \"cutoff\": 16, \"userId\": 16555, \"precision\": 0.0, \"recall\": 0.0}, {\"count\": 34, \"cutoff\": 21, \"userId\": 16555, \"precision\": 0.0, \"recall\": 0.0}, {\"count\": 34, \"cutoff\": 26, \"userId\": 16555, \"precision\": 0.0, \"recall\": 0.0}, {\"count\": 34, \"cutoff\": 31, \"userId\": 16555, \"precision\": 0.0, \"recall\": 0.0}, {\"count\": 34, \"cutoff\": 36, \"userId\": 16555, \"precision\": 0.0, \"recall\": 0.0}, {\"count\": 34, \"cutoff\": 41, \"userId\": 16555, \"precision\": 0.0, \"recall\": 0.0}, {\"count\": 34, \"cutoff\": 46, \"userId\": 16555, \"precision\": 0.0, \"recall\": 0.0}, {\"count\": 9, \"cutoff\": 1, \"userId\": 16745, \"precision\": 0.0, \"recall\": 0.0}, {\"count\": 9, \"cutoff\": 2, \"userId\": 16745, \"precision\": 0.0, \"recall\": 0.0}, {\"count\": 9, \"cutoff\": 3, \"userId\": 16745, \"precision\": 0.0, \"recall\": 0.0}, {\"count\": 9, \"cutoff\": 4, \"userId\": 16745, \"precision\": 0.0, \"recall\": 0.0}, {\"count\": 9, \"cutoff\": 5, \"userId\": 16745, \"precision\": 0.0, \"recall\": 0.0}, {\"count\": 9, \"cutoff\": 6, \"userId\": 16745, \"precision\": 0.0, \"recall\": 0.0}, {\"count\": 9, \"cutoff\": 7, \"userId\": 16745, \"precision\": 0.0, \"recall\": 0.0}, {\"count\": 9, \"cutoff\": 8, \"userId\": 16745, \"precision\": 0.0, \"recall\": 0.0}, {\"count\": 9, \"cutoff\": 9, \"userId\": 16745, \"precision\": 0.0, \"recall\": 0.0}, {\"count\": 9, \"cutoff\": 10, \"userId\": 16745, \"precision\": 0.0, \"recall\": 0.0}, {\"count\": 9, \"cutoff\": 11, \"userId\": 16745, \"precision\": 0.0, \"recall\": 0.0}, {\"count\": 9, \"cutoff\": 16, \"userId\": 16745, \"precision\": 0.0, \"recall\": 0.0}, {\"count\": 9, \"cutoff\": 21, \"userId\": 16745, \"precision\": 0.0, \"recall\": 0.0}, {\"count\": 9, \"cutoff\": 26, \"userId\": 16745, \"precision\": 0.0, \"recall\": 0.0}, {\"count\": 9, \"cutoff\": 31, \"userId\": 16745, \"precision\": 0.0, \"recall\": 0.0}, {\"count\": 9, \"cutoff\": 36, \"userId\": 16745, \"precision\": 0.0, \"recall\": 0.0}, {\"count\": 9, \"cutoff\": 41, \"userId\": 16745, \"precision\": 0.0, \"recall\": 0.0}, {\"count\": 9, \"cutoff\": 46, \"userId\": 16745, \"precision\": 0.0, \"recall\": 0.0}, {\"count\": 1, \"cutoff\": 1, \"userId\": 21672, \"precision\": 0.0, \"recall\": 0.0}, {\"count\": 1, \"cutoff\": 2, \"userId\": 21672, \"precision\": 0.0, \"recall\": 0.0}, {\"count\": 1, \"cutoff\": 3, \"userId\": 21672, \"precision\": 0.0, \"recall\": 0.0}, {\"count\": 1, \"cutoff\": 4, \"userId\": 21672, \"precision\": 0.0, \"recall\": 0.0}, {\"count\": 1, \"cutoff\": 5, \"userId\": 21672, \"precision\": 0.0, \"recall\": 0.0}, {\"count\": 1, \"cutoff\": 6, \"userId\": 21672, \"precision\": 0.0, \"recall\": 0.0}, {\"count\": 1, \"cutoff\": 7, \"userId\": 21672, \"precision\": 0.0, \"recall\": 0.0}, {\"count\": 1, \"cutoff\": 8, \"userId\": 21672, \"precision\": 0.0, \"recall\": 0.0}, {\"count\": 1, \"cutoff\": 9, \"userId\": 21672, \"precision\": 0.0, \"recall\": 0.0}, {\"count\": 1, \"cutoff\": 10, \"userId\": 21672, \"precision\": 0.0, \"recall\": 0.0}, {\"count\": 1, \"cutoff\": 11, \"userId\": 21672, \"precision\": 0.0, \"recall\": 0.0}, {\"count\": 1, \"cutoff\": 16, \"userId\": 21672, \"precision\": 0.0, \"recall\": 0.0}, {\"count\": 1, \"cutoff\": 21, \"userId\": 21672, \"precision\": 0.0, \"recall\": 0.0}, {\"count\": 1, \"cutoff\": 26, \"userId\": 21672, \"precision\": 0.0, \"recall\": 0.0}, {\"count\": 1, \"cutoff\": 31, \"userId\": 21672, \"precision\": 0.0, \"recall\": 0.0}, {\"count\": 1, \"cutoff\": 36, \"userId\": 21672, \"precision\": 0.0, \"recall\": 0.0}, {\"count\": 1, \"cutoff\": 41, \"userId\": 21672, \"precision\": 0.0, \"recall\": 0.0}, {\"count\": 1, \"cutoff\": 46, \"userId\": 21672, \"precision\": 0.0, \"recall\": 0.0}, {\"count\": 3, \"cutoff\": 1, \"userId\": 23921, \"precision\": 0.0, \"recall\": 0.0}, {\"count\": 3, \"cutoff\": 2, \"userId\": 23921, \"precision\": 0.0, \"recall\": 0.0}, {\"count\": 3, \"cutoff\": 3, \"userId\": 23921, \"precision\": 0.0, \"recall\": 0.0}, {\"count\": 3, \"cutoff\": 4, \"userId\": 23921, \"precision\": 0.0, \"recall\": 0.0}, {\"count\": 3, \"cutoff\": 5, \"userId\": 23921, \"precision\": 0.0, \"recall\": 0.0}, {\"count\": 3, \"cutoff\": 6, \"userId\": 23921, \"precision\": 0.0, \"recall\": 0.0}, {\"count\": 3, \"cutoff\": 7, \"userId\": 23921, \"precision\": 0.0, \"recall\": 0.0}, {\"count\": 3, \"cutoff\": 8, \"userId\": 23921, \"precision\": 0.125, \"recall\": 0.3333333333333333}, {\"count\": 3, \"cutoff\": 9, \"userId\": 23921, \"precision\": 0.1111111111111111, \"recall\": 0.3333333333333333}, {\"count\": 3, \"cutoff\": 10, \"userId\": 23921, \"precision\": 0.1, \"recall\": 0.3333333333333333}, {\"count\": 3, \"cutoff\": 11, \"userId\": 23921, \"precision\": 0.09090909090909091, \"recall\": 0.3333333333333333}, {\"count\": 3, \"cutoff\": 16, \"userId\": 23921, \"precision\": 0.0625, \"recall\": 0.3333333333333333}, {\"count\": 3, \"cutoff\": 21, \"userId\": 23921, \"precision\": 0.047619047619047616, \"recall\": 0.3333333333333333}, {\"count\": 3, \"cutoff\": 26, \"userId\": 23921, \"precision\": 0.038461538461538464, \"recall\": 0.3333333333333333}, {\"count\": 3, \"cutoff\": 31, \"userId\": 23921, \"precision\": 0.03225806451612903, \"recall\": 0.3333333333333333}, {\"count\": 3, \"cutoff\": 36, \"userId\": 23921, \"precision\": 0.027777777777777776, \"recall\": 0.3333333333333333}, {\"count\": 3, \"cutoff\": 41, \"userId\": 23921, \"precision\": 0.024390243902439025, \"recall\": 0.3333333333333333}, {\"count\": 3, \"cutoff\": 46, \"userId\": 23921, \"precision\": 0.021739130434782608, \"recall\": 0.3333333333333333}, {\"count\": 1, \"cutoff\": 1, \"userId\": 23946, \"precision\": 0.0, \"recall\": 0.0}, {\"count\": 1, \"cutoff\": 2, \"userId\": 23946, \"precision\": 0.0, \"recall\": 0.0}, {\"count\": 1, \"cutoff\": 3, \"userId\": 23946, \"precision\": 0.0, \"recall\": 0.0}, {\"count\": 1, \"cutoff\": 4, \"userId\": 23946, \"precision\": 0.0, \"recall\": 0.0}, {\"count\": 1, \"cutoff\": 5, \"userId\": 23946, \"precision\": 0.0, \"recall\": 0.0}, {\"count\": 1, \"cutoff\": 6, \"userId\": 23946, \"precision\": 0.0, \"recall\": 0.0}, {\"count\": 1, \"cutoff\": 7, \"userId\": 23946, \"precision\": 0.0, \"recall\": 0.0}, {\"count\": 1, \"cutoff\": 8, \"userId\": 23946, \"precision\": 0.0, \"recall\": 0.0}, {\"count\": 1, \"cutoff\": 9, \"userId\": 23946, \"precision\": 0.0, \"recall\": 0.0}, {\"count\": 1, \"cutoff\": 10, \"userId\": 23946, \"precision\": 0.0, \"recall\": 0.0}, {\"count\": 1, \"cutoff\": 11, \"userId\": 23946, \"precision\": 0.0, \"recall\": 0.0}, {\"count\": 1, \"cutoff\": 16, \"userId\": 23946, \"precision\": 0.0, \"recall\": 0.0}, {\"count\": 1, \"cutoff\": 21, \"userId\": 23946, \"precision\": 0.0, \"recall\": 0.0}, {\"count\": 1, \"cutoff\": 26, \"userId\": 23946, \"precision\": 0.0, \"recall\": 0.0}, {\"count\": 1, \"cutoff\": 31, \"userId\": 23946, \"precision\": 0.0, \"recall\": 0.0}, {\"count\": 1, \"cutoff\": 36, \"userId\": 23946, \"precision\": 0.0, \"recall\": 0.0}, {\"count\": 1, \"cutoff\": 41, \"userId\": 23946, \"precision\": 0.0, \"recall\": 0.0}, {\"count\": 1, \"cutoff\": 46, \"userId\": 23946, \"precision\": 0.0, \"recall\": 0.0}, {\"count\": 5, \"cutoff\": 1, \"userId\": 24902, \"precision\": 0.0, \"recall\": 0.0}, {\"count\": 5, \"cutoff\": 2, \"userId\": 24902, \"precision\": 0.0, \"recall\": 0.0}, {\"count\": 5, \"cutoff\": 3, \"userId\": 24902, \"precision\": 0.0, \"recall\": 0.0}, {\"count\": 5, \"cutoff\": 4, \"userId\": 24902, \"precision\": 0.0, \"recall\": 0.0}, {\"count\": 5, \"cutoff\": 5, \"userId\": 24902, \"precision\": 0.0, \"recall\": 0.0}, {\"count\": 5, \"cutoff\": 6, \"userId\": 24902, \"precision\": 0.0, \"recall\": 0.0}, {\"count\": 5, \"cutoff\": 7, \"userId\": 24902, \"precision\": 0.0, \"recall\": 0.0}, {\"count\": 5, \"cutoff\": 8, \"userId\": 24902, \"precision\": 0.0, \"recall\": 0.0}, {\"count\": 5, \"cutoff\": 9, \"userId\": 24902, \"precision\": 0.0, \"recall\": 0.0}, {\"count\": 5, \"cutoff\": 10, \"userId\": 24902, \"precision\": 0.0, \"recall\": 0.0}, {\"count\": 5, \"cutoff\": 11, \"userId\": 24902, \"precision\": 0.0, \"recall\": 0.0}, {\"count\": 5, \"cutoff\": 16, \"userId\": 24902, \"precision\": 0.0, \"recall\": 0.0}, {\"count\": 5, \"cutoff\": 21, \"userId\": 24902, \"precision\": 0.0, \"recall\": 0.0}, {\"count\": 5, \"cutoff\": 26, \"userId\": 24902, \"precision\": 0.0, \"recall\": 0.0}, {\"count\": 5, \"cutoff\": 31, \"userId\": 24902, \"precision\": 0.0, \"recall\": 0.0}, {\"count\": 5, \"cutoff\": 36, \"userId\": 24902, \"precision\": 0.0, \"recall\": 0.0}, {\"count\": 5, \"cutoff\": 41, \"userId\": 24902, \"precision\": 0.0, \"recall\": 0.0}, {\"count\": 5, \"cutoff\": 46, \"userId\": 24902, \"precision\": 0.0, \"recall\": 0.0}, {\"count\": 2, \"cutoff\": 1, \"userId\": 28050, \"precision\": 0.0, \"recall\": 0.0}, {\"count\": 2, \"cutoff\": 2, \"userId\": 28050, \"precision\": 0.0, \"recall\": 0.0}, {\"count\": 2, \"cutoff\": 3, \"userId\": 28050, \"precision\": 0.0, \"recall\": 0.0}, {\"count\": 2, \"cutoff\": 4, \"userId\": 28050, \"precision\": 0.0, \"recall\": 0.0}, {\"count\": 2, \"cutoff\": 5, \"userId\": 28050, \"precision\": 0.0, \"recall\": 0.0}, {\"count\": 2, \"cutoff\": 6, \"userId\": 28050, \"precision\": 0.0, \"recall\": 0.0}, {\"count\": 2, \"cutoff\": 7, \"userId\": 28050, \"precision\": 0.0, \"recall\": 0.0}, {\"count\": 2, \"cutoff\": 8, \"userId\": 28050, \"precision\": 0.0, \"recall\": 0.0}, {\"count\": 2, \"cutoff\": 9, \"userId\": 28050, \"precision\": 0.0, \"recall\": 0.0}, {\"count\": 2, \"cutoff\": 10, \"userId\": 28050, \"precision\": 0.0, \"recall\": 0.0}, {\"count\": 2, \"cutoff\": 11, \"userId\": 28050, \"precision\": 0.0, \"recall\": 0.0}, {\"count\": 2, \"cutoff\": 16, \"userId\": 28050, \"precision\": 0.0, \"recall\": 0.0}, {\"count\": 2, \"cutoff\": 21, \"userId\": 28050, \"precision\": 0.0, \"recall\": 0.0}, {\"count\": 2, \"cutoff\": 26, \"userId\": 28050, \"precision\": 0.0, \"recall\": 0.0}, {\"count\": 2, \"cutoff\": 31, \"userId\": 28050, \"precision\": 0.0, \"recall\": 0.0}, {\"count\": 2, \"cutoff\": 36, \"userId\": 28050, \"precision\": 0.0, \"recall\": 0.0}, {\"count\": 2, \"cutoff\": 41, \"userId\": 28050, \"precision\": 0.0, \"recall\": 0.0}, {\"count\": 2, \"cutoff\": 46, \"userId\": 28050, \"precision\": 0.0, \"recall\": 0.0}, {\"count\": 59, \"cutoff\": 1, \"userId\": 28599, \"precision\": 0.0, \"recall\": 0.0}, {\"count\": 59, \"cutoff\": 2, \"userId\": 28599, \"precision\": 0.0, \"recall\": 0.0}, {\"count\": 59, \"cutoff\": 3, \"userId\": 28599, \"precision\": 0.0, \"recall\": 0.0}, {\"count\": 59, \"cutoff\": 4, \"userId\": 28599, \"precision\": 0.0, \"recall\": 0.0}, {\"count\": 59, \"cutoff\": 5, \"userId\": 28599, \"precision\": 0.0, \"recall\": 0.0}, {\"count\": 59, \"cutoff\": 6, \"userId\": 28599, \"precision\": 0.0, \"recall\": 0.0}, {\"count\": 59, \"cutoff\": 7, \"userId\": 28599, \"precision\": 0.0, \"recall\": 0.0}, {\"count\": 59, \"cutoff\": 8, \"userId\": 28599, \"precision\": 0.0, \"recall\": 0.0}, {\"count\": 59, \"cutoff\": 9, \"userId\": 28599, \"precision\": 0.0, \"recall\": 0.0}, {\"count\": 59, \"cutoff\": 10, \"userId\": 28599, \"precision\": 0.0, \"recall\": 0.0}, {\"count\": 59, \"cutoff\": 11, \"userId\": 28599, \"precision\": 0.0, \"recall\": 0.0}, {\"count\": 59, \"cutoff\": 16, \"userId\": 28599, \"precision\": 0.0, \"recall\": 0.0}, {\"count\": 59, \"cutoff\": 21, \"userId\": 28599, \"precision\": 0.0, \"recall\": 0.0}, {\"count\": 59, \"cutoff\": 26, \"userId\": 28599, \"precision\": 0.0, \"recall\": 0.0}, {\"count\": 59, \"cutoff\": 31, \"userId\": 28599, \"precision\": 0.0, \"recall\": 0.0}, {\"count\": 59, \"cutoff\": 36, \"userId\": 28599, \"precision\": 0.0, \"recall\": 0.0}, {\"count\": 59, \"cutoff\": 41, \"userId\": 28599, \"precision\": 0.0, \"recall\": 0.0}, {\"count\": 59, \"cutoff\": 46, \"userId\": 28599, \"precision\": 0.0, \"recall\": 0.0}, {\"count\": 8, \"cutoff\": 1, \"userId\": 28744, \"precision\": 0.0, \"recall\": 0.0}, {\"count\": 8, \"cutoff\": 2, \"userId\": 28744, \"precision\": 0.0, \"recall\": 0.0}, {\"count\": 8, \"cutoff\": 3, \"userId\": 28744, \"precision\": 0.0, \"recall\": 0.0}, {\"count\": 8, \"cutoff\": 4, \"userId\": 28744, \"precision\": 0.0, \"recall\": 0.0}, {\"count\": 8, \"cutoff\": 5, \"userId\": 28744, \"precision\": 0.0, \"recall\": 0.0}, {\"count\": 8, \"cutoff\": 6, \"userId\": 28744, \"precision\": 0.0, \"recall\": 0.0}, {\"count\": 8, \"cutoff\": 7, \"userId\": 28744, \"precision\": 0.0, \"recall\": 0.0}, {\"count\": 8, \"cutoff\": 8, \"userId\": 28744, \"precision\": 0.0, \"recall\": 0.0}, {\"count\": 8, \"cutoff\": 9, \"userId\": 28744, \"precision\": 0.0, \"recall\": 0.0}, {\"count\": 8, \"cutoff\": 10, \"userId\": 28744, \"precision\": 0.0, \"recall\": 0.0}, {\"count\": 8, \"cutoff\": 11, \"userId\": 28744, \"precision\": 0.0, \"recall\": 0.0}, {\"count\": 8, \"cutoff\": 16, \"userId\": 28744, \"precision\": 0.0, \"recall\": 0.0}, {\"count\": 8, \"cutoff\": 21, \"userId\": 28744, \"precision\": 0.0, \"recall\": 0.0}, {\"count\": 8, \"cutoff\": 26, \"userId\": 28744, \"precision\": 0.0, \"recall\": 0.0}, {\"count\": 8, \"cutoff\": 31, \"userId\": 28744, \"precision\": 0.0, \"recall\": 0.0}, {\"count\": 8, \"cutoff\": 36, \"userId\": 28744, \"precision\": 0.0, \"recall\": 0.0}, {\"count\": 8, \"cutoff\": 41, \"userId\": 28744, \"precision\": 0.0, \"recall\": 0.0}, {\"count\": 8, \"cutoff\": 46, \"userId\": 28744, \"precision\": 0.0, \"recall\": 0.0}, {\"count\": 1, \"cutoff\": 1, \"userId\": 31647, \"precision\": 0.0, \"recall\": 0.0}, {\"count\": 1, \"cutoff\": 2, \"userId\": 31647, \"precision\": 0.0, \"recall\": 0.0}, {\"count\": 1, \"cutoff\": 3, \"userId\": 31647, \"precision\": 0.0, \"recall\": 0.0}, {\"count\": 1, \"cutoff\": 4, \"userId\": 31647, \"precision\": 0.0, \"recall\": 0.0}, {\"count\": 1, \"cutoff\": 5, \"userId\": 31647, \"precision\": 0.0, \"recall\": 0.0}, {\"count\": 1, \"cutoff\": 6, \"userId\": 31647, \"precision\": 0.0, \"recall\": 0.0}, {\"count\": 1, \"cutoff\": 7, \"userId\": 31647, \"precision\": 0.0, \"recall\": 0.0}, {\"count\": 1, \"cutoff\": 8, \"userId\": 31647, \"precision\": 0.0, \"recall\": 0.0}, {\"count\": 1, \"cutoff\": 9, \"userId\": 31647, \"precision\": 0.0, \"recall\": 0.0}, {\"count\": 1, \"cutoff\": 10, \"userId\": 31647, \"precision\": 0.0, \"recall\": 0.0}, {\"count\": 1, \"cutoff\": 11, \"userId\": 31647, \"precision\": 0.0, \"recall\": 0.0}, {\"count\": 1, \"cutoff\": 16, \"userId\": 31647, \"precision\": 0.0, \"recall\": 0.0}, {\"count\": 1, \"cutoff\": 21, \"userId\": 31647, \"precision\": 0.0, \"recall\": 0.0}, {\"count\": 1, \"cutoff\": 26, \"userId\": 31647, \"precision\": 0.0, \"recall\": 0.0}, {\"count\": 1, \"cutoff\": 31, \"userId\": 31647, \"precision\": 0.0, \"recall\": 0.0}, {\"count\": 1, \"cutoff\": 36, \"userId\": 31647, \"precision\": 0.0, \"recall\": 0.0}, {\"count\": 1, \"cutoff\": 41, \"userId\": 31647, \"precision\": 0.0, \"recall\": 0.0}, {\"count\": 1, \"cutoff\": 46, \"userId\": 31647, \"precision\": 0.0, \"recall\": 0.0}, {\"count\": 20, \"cutoff\": 1, \"userId\": 33775, \"precision\": 0.0, \"recall\": 0.0}, {\"count\": 20, \"cutoff\": 2, \"userId\": 33775, \"precision\": 0.0, \"recall\": 0.0}, {\"count\": 20, \"cutoff\": 3, \"userId\": 33775, \"precision\": 0.0, \"recall\": 0.0}, {\"count\": 20, \"cutoff\": 4, \"userId\": 33775, \"precision\": 0.0, \"recall\": 0.0}, {\"count\": 20, \"cutoff\": 5, \"userId\": 33775, \"precision\": 0.0, \"recall\": 0.0}, {\"count\": 20, \"cutoff\": 6, \"userId\": 33775, \"precision\": 0.0, \"recall\": 0.0}, {\"count\": 20, \"cutoff\": 7, \"userId\": 33775, \"precision\": 0.0, \"recall\": 0.0}, {\"count\": 20, \"cutoff\": 8, \"userId\": 33775, \"precision\": 0.0, \"recall\": 0.0}, {\"count\": 20, \"cutoff\": 9, \"userId\": 33775, \"precision\": 0.0, \"recall\": 0.0}, {\"count\": 20, \"cutoff\": 10, \"userId\": 33775, \"precision\": 0.0, \"recall\": 0.0}, {\"count\": 20, \"cutoff\": 11, \"userId\": 33775, \"precision\": 0.0, \"recall\": 0.0}, {\"count\": 20, \"cutoff\": 16, \"userId\": 33775, \"precision\": 0.0, \"recall\": 0.0}, {\"count\": 20, \"cutoff\": 21, \"userId\": 33775, \"precision\": 0.0, \"recall\": 0.0}, {\"count\": 20, \"cutoff\": 26, \"userId\": 33775, \"precision\": 0.0, \"recall\": 0.0}, {\"count\": 20, \"cutoff\": 31, \"userId\": 33775, \"precision\": 0.0, \"recall\": 0.0}, {\"count\": 20, \"cutoff\": 36, \"userId\": 33775, \"precision\": 0.0, \"recall\": 0.0}, {\"count\": 20, \"cutoff\": 41, \"userId\": 33775, \"precision\": 0.0, \"recall\": 0.0}, {\"count\": 20, \"cutoff\": 46, \"userId\": 33775, \"precision\": 0.0, \"recall\": 0.0}, {\"count\": 62, \"cutoff\": 1, \"userId\": 35050, \"precision\": 0.0, \"recall\": 0.0}, {\"count\": 62, \"cutoff\": 2, \"userId\": 35050, \"precision\": 0.0, \"recall\": 0.0}, {\"count\": 62, \"cutoff\": 3, \"userId\": 35050, \"precision\": 0.0, \"recall\": 0.0}, {\"count\": 62, \"cutoff\": 4, \"userId\": 35050, \"precision\": 0.0, \"recall\": 0.0}, {\"count\": 62, \"cutoff\": 5, \"userId\": 35050, \"precision\": 0.0, \"recall\": 0.0}, {\"count\": 62, \"cutoff\": 6, \"userId\": 35050, \"precision\": 0.0, \"recall\": 0.0}, {\"count\": 62, \"cutoff\": 7, \"userId\": 35050, \"precision\": 0.0, \"recall\": 0.0}, {\"count\": 62, \"cutoff\": 8, \"userId\": 35050, \"precision\": 0.0, \"recall\": 0.0}, {\"count\": 62, \"cutoff\": 9, \"userId\": 35050, \"precision\": 0.0, \"recall\": 0.0}, {\"count\": 62, \"cutoff\": 10, \"userId\": 35050, \"precision\": 0.0, \"recall\": 0.0}, {\"count\": 62, \"cutoff\": 11, \"userId\": 35050, \"precision\": 0.0, \"recall\": 0.0}, {\"count\": 62, \"cutoff\": 16, \"userId\": 35050, \"precision\": 0.0, \"recall\": 0.0}, {\"count\": 62, \"cutoff\": 21, \"userId\": 35050, \"precision\": 0.0, \"recall\": 0.0}, {\"count\": 62, \"cutoff\": 26, \"userId\": 35050, \"precision\": 0.0, \"recall\": 0.0}, {\"count\": 62, \"cutoff\": 31, \"userId\": 35050, \"precision\": 0.0, \"recall\": 0.0}, {\"count\": 62, \"cutoff\": 36, \"userId\": 35050, \"precision\": 0.0, \"recall\": 0.0}, {\"count\": 62, \"cutoff\": 41, \"userId\": 35050, \"precision\": 0.0, \"recall\": 0.0}, {\"count\": 62, \"cutoff\": 46, \"userId\": 35050, \"precision\": 0.0, \"recall\": 0.0}, {\"count\": 41, \"cutoff\": 1, \"userId\": 35705, \"precision\": 0.0, \"recall\": 0.0}, {\"count\": 41, \"cutoff\": 2, \"userId\": 35705, \"precision\": 0.0, \"recall\": 0.0}, {\"count\": 41, \"cutoff\": 3, \"userId\": 35705, \"precision\": 0.0, \"recall\": 0.0}, {\"count\": 41, \"cutoff\": 4, \"userId\": 35705, \"precision\": 0.0, \"recall\": 0.0}, {\"count\": 41, \"cutoff\": 5, \"userId\": 35705, \"precision\": 0.0, \"recall\": 0.0}, {\"count\": 41, \"cutoff\": 6, \"userId\": 35705, \"precision\": 0.0, \"recall\": 0.0}, {\"count\": 41, \"cutoff\": 7, \"userId\": 35705, \"precision\": 0.0, \"recall\": 0.0}, {\"count\": 41, \"cutoff\": 8, \"userId\": 35705, \"precision\": 0.0, \"recall\": 0.0}, {\"count\": 41, \"cutoff\": 9, \"userId\": 35705, \"precision\": 0.0, \"recall\": 0.0}, {\"count\": 41, \"cutoff\": 10, \"userId\": 35705, \"precision\": 0.0, \"recall\": 0.0}, {\"count\": 41, \"cutoff\": 11, \"userId\": 35705, \"precision\": 0.0, \"recall\": 0.0}, {\"count\": 41, \"cutoff\": 16, \"userId\": 35705, \"precision\": 0.0, \"recall\": 0.0}, {\"count\": 41, \"cutoff\": 21, \"userId\": 35705, \"precision\": 0.0, \"recall\": 0.0}, {\"count\": 41, \"cutoff\": 26, \"userId\": 35705, \"precision\": 0.0, \"recall\": 0.0}, {\"count\": 41, \"cutoff\": 31, \"userId\": 35705, \"precision\": 0.0, \"recall\": 0.0}, {\"count\": 41, \"cutoff\": 36, \"userId\": 35705, \"precision\": 0.0, \"recall\": 0.0}, {\"count\": 41, \"cutoff\": 41, \"userId\": 35705, \"precision\": 0.0, \"recall\": 0.0}, {\"count\": 41, \"cutoff\": 46, \"userId\": 35705, \"precision\": 0.0, \"recall\": 0.0}, {\"count\": 10, \"cutoff\": 1, \"userId\": 36320, \"precision\": 0.0, \"recall\": 0.0}, {\"count\": 10, \"cutoff\": 2, \"userId\": 36320, \"precision\": 0.0, \"recall\": 0.0}, {\"count\": 10, \"cutoff\": 3, \"userId\": 36320, \"precision\": 0.0, \"recall\": 0.0}, {\"count\": 10, \"cutoff\": 4, \"userId\": 36320, \"precision\": 0.0, \"recall\": 0.0}, {\"count\": 10, \"cutoff\": 5, \"userId\": 36320, \"precision\": 0.0, \"recall\": 0.0}, {\"count\": 10, \"cutoff\": 6, \"userId\": 36320, \"precision\": 0.0, \"recall\": 0.0}, {\"count\": 10, \"cutoff\": 7, \"userId\": 36320, \"precision\": 0.0, \"recall\": 0.0}, {\"count\": 10, \"cutoff\": 8, \"userId\": 36320, \"precision\": 0.0, \"recall\": 0.0}, {\"count\": 10, \"cutoff\": 9, \"userId\": 36320, \"precision\": 0.0, \"recall\": 0.0}, {\"count\": 10, \"cutoff\": 10, \"userId\": 36320, \"precision\": 0.0, \"recall\": 0.0}, {\"count\": 10, \"cutoff\": 11, \"userId\": 36320, \"precision\": 0.0, \"recall\": 0.0}, {\"count\": 10, \"cutoff\": 16, \"userId\": 36320, \"precision\": 0.0, \"recall\": 0.0}, {\"count\": 10, \"cutoff\": 21, \"userId\": 36320, \"precision\": 0.0, \"recall\": 0.0}, {\"count\": 10, \"cutoff\": 26, \"userId\": 36320, \"precision\": 0.0, \"recall\": 0.0}, {\"count\": 10, \"cutoff\": 31, \"userId\": 36320, \"precision\": 0.0, \"recall\": 0.0}, {\"count\": 10, \"cutoff\": 36, \"userId\": 36320, \"precision\": 0.0, \"recall\": 0.0}, {\"count\": 10, \"cutoff\": 41, \"userId\": 36320, \"precision\": 0.0, \"recall\": 0.0}, {\"count\": 10, \"cutoff\": 46, \"userId\": 36320, \"precision\": 0.0, \"recall\": 0.0}, {\"count\": 2, \"cutoff\": 1, \"userId\": 40335, \"precision\": 0.0, \"recall\": 0.0}, {\"count\": 2, \"cutoff\": 2, \"userId\": 40335, \"precision\": 0.0, \"recall\": 0.0}, {\"count\": 2, \"cutoff\": 3, \"userId\": 40335, \"precision\": 0.0, \"recall\": 0.0}, {\"count\": 2, \"cutoff\": 4, \"userId\": 40335, \"precision\": 0.0, \"recall\": 0.0}, {\"count\": 2, \"cutoff\": 5, \"userId\": 40335, \"precision\": 0.0, \"recall\": 0.0}, {\"count\": 2, \"cutoff\": 6, \"userId\": 40335, \"precision\": 0.0, \"recall\": 0.0}, {\"count\": 2, \"cutoff\": 7, \"userId\": 40335, \"precision\": 0.0, \"recall\": 0.0}, {\"count\": 2, \"cutoff\": 8, \"userId\": 40335, \"precision\": 0.0, \"recall\": 0.0}, {\"count\": 2, \"cutoff\": 9, \"userId\": 40335, \"precision\": 0.0, \"recall\": 0.0}, {\"count\": 2, \"cutoff\": 10, \"userId\": 40335, \"precision\": 0.0, \"recall\": 0.0}, {\"count\": 2, \"cutoff\": 11, \"userId\": 40335, \"precision\": 0.0, \"recall\": 0.0}, {\"count\": 2, \"cutoff\": 16, \"userId\": 40335, \"precision\": 0.0, \"recall\": 0.0}, {\"count\": 2, \"cutoff\": 21, \"userId\": 40335, \"precision\": 0.0, \"recall\": 0.0}, {\"count\": 2, \"cutoff\": 26, \"userId\": 40335, \"precision\": 0.0, \"recall\": 0.0}, {\"count\": 2, \"cutoff\": 31, \"userId\": 40335, \"precision\": 0.0, \"recall\": 0.0}, {\"count\": 2, \"cutoff\": 36, \"userId\": 40335, \"precision\": 0.0, \"recall\": 0.0}, {\"count\": 2, \"cutoff\": 41, \"userId\": 40335, \"precision\": 0.0, \"recall\": 0.0}, {\"count\": 2, \"cutoff\": 46, \"userId\": 40335, \"precision\": 0.0, \"recall\": 0.0}, {\"count\": 30, \"cutoff\": 1, \"userId\": 41160, \"precision\": 0.0, \"recall\": 0.0}, {\"count\": 30, \"cutoff\": 2, \"userId\": 41160, \"precision\": 0.0, \"recall\": 0.0}, {\"count\": 30, \"cutoff\": 3, \"userId\": 41160, \"precision\": 0.0, \"recall\": 0.0}, {\"count\": 30, \"cutoff\": 4, \"userId\": 41160, \"precision\": 0.0, \"recall\": 0.0}, {\"count\": 30, \"cutoff\": 5, \"userId\": 41160, \"precision\": 0.0, \"recall\": 0.0}, {\"count\": 30, \"cutoff\": 6, \"userId\": 41160, \"precision\": 0.0, \"recall\": 0.0}, {\"count\": 30, \"cutoff\": 7, \"userId\": 41160, \"precision\": 0.0, \"recall\": 0.0}, {\"count\": 30, \"cutoff\": 8, \"userId\": 41160, \"precision\": 0.0, \"recall\": 0.0}, {\"count\": 30, \"cutoff\": 9, \"userId\": 41160, \"precision\": 0.0, \"recall\": 0.0}, {\"count\": 30, \"cutoff\": 10, \"userId\": 41160, \"precision\": 0.0, \"recall\": 0.0}, {\"count\": 30, \"cutoff\": 11, \"userId\": 41160, \"precision\": 0.0, \"recall\": 0.0}, {\"count\": 30, \"cutoff\": 16, \"userId\": 41160, \"precision\": 0.0, \"recall\": 0.0}, {\"count\": 30, \"cutoff\": 21, \"userId\": 41160, \"precision\": 0.0, \"recall\": 0.0}, {\"count\": 30, \"cutoff\": 26, \"userId\": 41160, \"precision\": 0.0, \"recall\": 0.0}, {\"count\": 30, \"cutoff\": 31, \"userId\": 41160, \"precision\": 0.0, \"recall\": 0.0}, {\"count\": 30, \"cutoff\": 36, \"userId\": 41160, \"precision\": 0.0, \"recall\": 0.0}, {\"count\": 30, \"cutoff\": 41, \"userId\": 41160, \"precision\": 0.0, \"recall\": 0.0}, {\"count\": 30, \"cutoff\": 46, \"userId\": 41160, \"precision\": 0.0, \"recall\": 0.0}, {\"count\": 1, \"cutoff\": 1, \"userId\": 49928, \"precision\": 0.0, \"recall\": 0.0}, {\"count\": 1, \"cutoff\": 2, \"userId\": 49928, \"precision\": 0.0, \"recall\": 0.0}, {\"count\": 1, \"cutoff\": 3, \"userId\": 49928, \"precision\": 0.0, \"recall\": 0.0}, {\"count\": 1, \"cutoff\": 4, \"userId\": 49928, \"precision\": 0.0, \"recall\": 0.0}, {\"count\": 1, \"cutoff\": 5, \"userId\": 49928, \"precision\": 0.0, \"recall\": 0.0}, {\"count\": 1, \"cutoff\": 6, \"userId\": 49928, \"precision\": 0.0, \"recall\": 0.0}, {\"count\": 1, \"cutoff\": 7, \"userId\": 49928, \"precision\": 0.0, \"recall\": 0.0}, {\"count\": 1, \"cutoff\": 8, \"userId\": 49928, \"precision\": 0.0, \"recall\": 0.0}, {\"count\": 1, \"cutoff\": 9, \"userId\": 49928, \"precision\": 0.0, \"recall\": 0.0}, {\"count\": 1, \"cutoff\": 10, \"userId\": 49928, \"precision\": 0.0, \"recall\": 0.0}, {\"count\": 1, \"cutoff\": 11, \"userId\": 49928, \"precision\": 0.0, \"recall\": 0.0}, {\"count\": 1, \"cutoff\": 16, \"userId\": 49928, \"precision\": 0.0, \"recall\": 0.0}, {\"count\": 1, \"cutoff\": 21, \"userId\": 49928, \"precision\": 0.0, \"recall\": 0.0}, {\"count\": 1, \"cutoff\": 26, \"userId\": 49928, \"precision\": 0.0, \"recall\": 0.0}, {\"count\": 1, \"cutoff\": 31, \"userId\": 49928, \"precision\": 0.0, \"recall\": 0.0}, {\"count\": 1, \"cutoff\": 36, \"userId\": 49928, \"precision\": 0.0, \"recall\": 0.0}, {\"count\": 1, \"cutoff\": 41, \"userId\": 49928, \"precision\": 0.0, \"recall\": 0.0}, {\"count\": 1, \"cutoff\": 46, \"userId\": 49928, \"precision\": 0.0, \"recall\": 0.0}, {\"count\": 1, \"cutoff\": 1, \"userId\": 51639, \"precision\": 0.0, \"recall\": 0.0}, {\"count\": 1, \"cutoff\": 2, \"userId\": 51639, \"precision\": 0.0, \"recall\": 0.0}, {\"count\": 1, \"cutoff\": 3, \"userId\": 51639, \"precision\": 0.0, \"recall\": 0.0}, {\"count\": 1, \"cutoff\": 4, \"userId\": 51639, \"precision\": 0.0, \"recall\": 0.0}, {\"count\": 1, \"cutoff\": 5, \"userId\": 51639, \"precision\": 0.0, \"recall\": 0.0}, {\"count\": 1, \"cutoff\": 6, \"userId\": 51639, \"precision\": 0.0, \"recall\": 0.0}, {\"count\": 1, \"cutoff\": 7, \"userId\": 51639, \"precision\": 0.0, \"recall\": 0.0}, {\"count\": 1, \"cutoff\": 8, \"userId\": 51639, \"precision\": 0.0, \"recall\": 0.0}, {\"count\": 1, \"cutoff\": 9, \"userId\": 51639, \"precision\": 0.0, \"recall\": 0.0}, {\"count\": 1, \"cutoff\": 10, \"userId\": 51639, \"precision\": 0.0, \"recall\": 0.0}, {\"count\": 1, \"cutoff\": 11, \"userId\": 51639, \"precision\": 0.0, \"recall\": 0.0}, {\"count\": 1, \"cutoff\": 16, \"userId\": 51639, \"precision\": 0.0, \"recall\": 0.0}, {\"count\": 1, \"cutoff\": 21, \"userId\": 51639, \"precision\": 0.047619047619047616, \"recall\": 1.0}, {\"count\": 1, \"cutoff\": 26, \"userId\": 51639, \"precision\": 0.038461538461538464, \"recall\": 1.0}, {\"count\": 1, \"cutoff\": 31, \"userId\": 51639, \"precision\": 0.03225806451612903, \"recall\": 1.0}, {\"count\": 1, \"cutoff\": 36, \"userId\": 51639, \"precision\": 0.027777777777777776, \"recall\": 1.0}, {\"count\": 1, \"cutoff\": 41, \"userId\": 51639, \"precision\": 0.024390243902439025, \"recall\": 1.0}, {\"count\": 1, \"cutoff\": 46, \"userId\": 51639, \"precision\": 0.021739130434782608, \"recall\": 1.0}, {\"count\": 30, \"cutoff\": 1, \"userId\": 55704, \"precision\": 0.0, \"recall\": 0.0}, {\"count\": 30, \"cutoff\": 2, \"userId\": 55704, \"precision\": 0.0, \"recall\": 0.0}, {\"count\": 30, \"cutoff\": 3, \"userId\": 55704, \"precision\": 0.0, \"recall\": 0.0}, {\"count\": 30, \"cutoff\": 4, \"userId\": 55704, \"precision\": 0.0, \"recall\": 0.0}, {\"count\": 30, \"cutoff\": 5, \"userId\": 55704, \"precision\": 0.0, \"recall\": 0.0}, {\"count\": 30, \"cutoff\": 6, \"userId\": 55704, \"precision\": 0.0, \"recall\": 0.0}, {\"count\": 30, \"cutoff\": 7, \"userId\": 55704, \"precision\": 0.0, \"recall\": 0.0}, {\"count\": 30, \"cutoff\": 8, \"userId\": 55704, \"precision\": 0.0, \"recall\": 0.0}, {\"count\": 30, \"cutoff\": 9, \"userId\": 55704, \"precision\": 0.0, \"recall\": 0.0}, {\"count\": 30, \"cutoff\": 10, \"userId\": 55704, \"precision\": 0.0, \"recall\": 0.0}, {\"count\": 30, \"cutoff\": 11, \"userId\": 55704, \"precision\": 0.0, \"recall\": 0.0}, {\"count\": 30, \"cutoff\": 16, \"userId\": 55704, \"precision\": 0.0, \"recall\": 0.0}, {\"count\": 30, \"cutoff\": 21, \"userId\": 55704, \"precision\": 0.0, \"recall\": 0.0}, {\"count\": 30, \"cutoff\": 26, \"userId\": 55704, \"precision\": 0.0, \"recall\": 0.0}, {\"count\": 30, \"cutoff\": 31, \"userId\": 55704, \"precision\": 0.0, \"recall\": 0.0}, {\"count\": 30, \"cutoff\": 36, \"userId\": 55704, \"precision\": 0.0, \"recall\": 0.0}, {\"count\": 30, \"cutoff\": 41, \"userId\": 55704, \"precision\": 0.0, \"recall\": 0.0}, {\"count\": 30, \"cutoff\": 46, \"userId\": 55704, \"precision\": 0.0, \"recall\": 0.0}, {\"count\": 2, \"cutoff\": 1, \"userId\": 57387, \"precision\": 0.0, \"recall\": 0.0}, {\"count\": 2, \"cutoff\": 2, \"userId\": 57387, \"precision\": 0.0, \"recall\": 0.0}, {\"count\": 2, \"cutoff\": 3, \"userId\": 57387, \"precision\": 0.0, \"recall\": 0.0}, {\"count\": 2, \"cutoff\": 4, \"userId\": 57387, \"precision\": 0.0, \"recall\": 0.0}, {\"count\": 2, \"cutoff\": 5, \"userId\": 57387, \"precision\": 0.0, \"recall\": 0.0}, {\"count\": 2, \"cutoff\": 6, \"userId\": 57387, \"precision\": 0.0, \"recall\": 0.0}, {\"count\": 2, \"cutoff\": 7, \"userId\": 57387, \"precision\": 0.0, \"recall\": 0.0}, {\"count\": 2, \"cutoff\": 8, \"userId\": 57387, \"precision\": 0.0, \"recall\": 0.0}, {\"count\": 2, \"cutoff\": 9, \"userId\": 57387, \"precision\": 0.0, \"recall\": 0.0}, {\"count\": 2, \"cutoff\": 10, \"userId\": 57387, \"precision\": 0.0, \"recall\": 0.0}, {\"count\": 2, \"cutoff\": 11, \"userId\": 57387, \"precision\": 0.0, \"recall\": 0.0}, {\"count\": 2, \"cutoff\": 16, \"userId\": 57387, \"precision\": 0.0, \"recall\": 0.0}, {\"count\": 2, \"cutoff\": 21, \"userId\": 57387, \"precision\": 0.0, \"recall\": 0.0}, {\"count\": 2, \"cutoff\": 26, \"userId\": 57387, \"precision\": 0.0, \"recall\": 0.0}, {\"count\": 2, \"cutoff\": 31, \"userId\": 57387, \"precision\": 0.0, \"recall\": 0.0}, {\"count\": 2, \"cutoff\": 36, \"userId\": 57387, \"precision\": 0.0, \"recall\": 0.0}, {\"count\": 2, \"cutoff\": 41, \"userId\": 57387, \"precision\": 0.0, \"recall\": 0.0}, {\"count\": 2, \"cutoff\": 46, \"userId\": 57387, \"precision\": 0.0, \"recall\": 0.0}, {\"count\": 22, \"cutoff\": 1, \"userId\": 57499, \"precision\": 0.0, \"recall\": 0.0}, {\"count\": 22, \"cutoff\": 2, \"userId\": 57499, \"precision\": 0.0, \"recall\": 0.0}, {\"count\": 22, \"cutoff\": 3, \"userId\": 57499, \"precision\": 0.0, \"recall\": 0.0}, {\"count\": 22, \"cutoff\": 4, \"userId\": 57499, \"precision\": 0.0, \"recall\": 0.0}, {\"count\": 22, \"cutoff\": 5, \"userId\": 57499, \"precision\": 0.0, \"recall\": 0.0}, {\"count\": 22, \"cutoff\": 6, \"userId\": 57499, \"precision\": 0.0, \"recall\": 0.0}, {\"count\": 22, \"cutoff\": 7, \"userId\": 57499, \"precision\": 0.0, \"recall\": 0.0}, {\"count\": 22, \"cutoff\": 8, \"userId\": 57499, \"precision\": 0.0, \"recall\": 0.0}, {\"count\": 22, \"cutoff\": 9, \"userId\": 57499, \"precision\": 0.0, \"recall\": 0.0}, {\"count\": 22, \"cutoff\": 10, \"userId\": 57499, \"precision\": 0.0, \"recall\": 0.0}, {\"count\": 22, \"cutoff\": 11, \"userId\": 57499, \"precision\": 0.0, \"recall\": 0.0}, {\"count\": 22, \"cutoff\": 16, \"userId\": 57499, \"precision\": 0.0, \"recall\": 0.0}, {\"count\": 22, \"cutoff\": 21, \"userId\": 57499, \"precision\": 0.0, \"recall\": 0.0}, {\"count\": 22, \"cutoff\": 26, \"userId\": 57499, \"precision\": 0.0, \"recall\": 0.0}, {\"count\": 22, \"cutoff\": 31, \"userId\": 57499, \"precision\": 0.0, \"recall\": 0.0}, {\"count\": 22, \"cutoff\": 36, \"userId\": 57499, \"precision\": 0.0, \"recall\": 0.0}, {\"count\": 22, \"cutoff\": 41, \"userId\": 57499, \"precision\": 0.0, \"recall\": 0.0}, {\"count\": 22, \"cutoff\": 46, \"userId\": 57499, \"precision\": 0.0, \"recall\": 0.0}, {\"count\": 12, \"cutoff\": 1, \"userId\": 57763, \"precision\": 0.0, \"recall\": 0.0}, {\"count\": 12, \"cutoff\": 2, \"userId\": 57763, \"precision\": 0.0, \"recall\": 0.0}, {\"count\": 12, \"cutoff\": 3, \"userId\": 57763, \"precision\": 0.0, \"recall\": 0.0}, {\"count\": 12, \"cutoff\": 4, \"userId\": 57763, \"precision\": 0.0, \"recall\": 0.0}, {\"count\": 12, \"cutoff\": 5, \"userId\": 57763, \"precision\": 0.0, \"recall\": 0.0}, {\"count\": 12, \"cutoff\": 6, \"userId\": 57763, \"precision\": 0.0, \"recall\": 0.0}, {\"count\": 12, \"cutoff\": 7, \"userId\": 57763, \"precision\": 0.0, \"recall\": 0.0}, {\"count\": 12, \"cutoff\": 8, \"userId\": 57763, \"precision\": 0.0, \"recall\": 0.0}, {\"count\": 12, \"cutoff\": 9, \"userId\": 57763, \"precision\": 0.0, \"recall\": 0.0}, {\"count\": 12, \"cutoff\": 10, \"userId\": 57763, \"precision\": 0.0, \"recall\": 0.0}, {\"count\": 12, \"cutoff\": 11, \"userId\": 57763, \"precision\": 0.0, \"recall\": 0.0}, {\"count\": 12, \"cutoff\": 16, \"userId\": 57763, \"precision\": 0.0, \"recall\": 0.0}, {\"count\": 12, \"cutoff\": 21, \"userId\": 57763, \"precision\": 0.0, \"recall\": 0.0}, {\"count\": 12, \"cutoff\": 26, \"userId\": 57763, \"precision\": 0.0, \"recall\": 0.0}, {\"count\": 12, \"cutoff\": 31, \"userId\": 57763, \"precision\": 0.0, \"recall\": 0.0}, {\"count\": 12, \"cutoff\": 36, \"userId\": 57763, \"precision\": 0.0, \"recall\": 0.0}, {\"count\": 12, \"cutoff\": 41, \"userId\": 57763, \"precision\": 0.0, \"recall\": 0.0}, {\"count\": 12, \"cutoff\": 46, \"userId\": 57763, \"precision\": 0.0, \"recall\": 0.0}, {\"count\": 2, \"cutoff\": 1, \"userId\": 58397, \"precision\": 0.0, \"recall\": 0.0}, {\"count\": 2, \"cutoff\": 2, \"userId\": 58397, \"precision\": 0.0, \"recall\": 0.0}, {\"count\": 2, \"cutoff\": 3, \"userId\": 58397, \"precision\": 0.0, \"recall\": 0.0}, {\"count\": 2, \"cutoff\": 4, \"userId\": 58397, \"precision\": 0.0, \"recall\": 0.0}, {\"count\": 2, \"cutoff\": 5, \"userId\": 58397, \"precision\": 0.0, \"recall\": 0.0}, {\"count\": 2, \"cutoff\": 6, \"userId\": 58397, \"precision\": 0.0, \"recall\": 0.0}, {\"count\": 2, \"cutoff\": 7, \"userId\": 58397, \"precision\": 0.0, \"recall\": 0.0}, {\"count\": 2, \"cutoff\": 8, \"userId\": 58397, \"precision\": 0.0, \"recall\": 0.0}, {\"count\": 2, \"cutoff\": 9, \"userId\": 58397, \"precision\": 0.0, \"recall\": 0.0}, {\"count\": 2, \"cutoff\": 10, \"userId\": 58397, \"precision\": 0.0, \"recall\": 0.0}, {\"count\": 2, \"cutoff\": 11, \"userId\": 58397, \"precision\": 0.0, \"recall\": 0.0}, {\"count\": 2, \"cutoff\": 16, \"userId\": 58397, \"precision\": 0.0, \"recall\": 0.0}, {\"count\": 2, \"cutoff\": 21, \"userId\": 58397, \"precision\": 0.0, \"recall\": 0.0}, {\"count\": 2, \"cutoff\": 26, \"userId\": 58397, \"precision\": 0.0, \"recall\": 0.0}, {\"count\": 2, \"cutoff\": 31, \"userId\": 58397, \"precision\": 0.0, \"recall\": 0.0}, {\"count\": 2, \"cutoff\": 36, \"userId\": 58397, \"precision\": 0.0, \"recall\": 0.0}, {\"count\": 2, \"cutoff\": 41, \"userId\": 58397, \"precision\": 0.0, \"recall\": 0.0}, {\"count\": 2, \"cutoff\": 46, \"userId\": 58397, \"precision\": 0.0, \"recall\": 0.0}, {\"count\": 6, \"cutoff\": 1, \"userId\": 61152, \"precision\": 0.0, \"recall\": 0.0}, {\"count\": 6, \"cutoff\": 2, \"userId\": 61152, \"precision\": 0.0, \"recall\": 0.0}, {\"count\": 6, \"cutoff\": 3, \"userId\": 61152, \"precision\": 0.0, \"recall\": 0.0}, {\"count\": 6, \"cutoff\": 4, \"userId\": 61152, \"precision\": 0.0, \"recall\": 0.0}, {\"count\": 6, \"cutoff\": 5, \"userId\": 61152, \"precision\": 0.0, \"recall\": 0.0}, {\"count\": 6, \"cutoff\": 6, \"userId\": 61152, \"precision\": 0.0, \"recall\": 0.0}, {\"count\": 6, \"cutoff\": 7, \"userId\": 61152, \"precision\": 0.0, \"recall\": 0.0}, {\"count\": 6, \"cutoff\": 8, \"userId\": 61152, \"precision\": 0.0, \"recall\": 0.0}, {\"count\": 6, \"cutoff\": 9, \"userId\": 61152, \"precision\": 0.0, \"recall\": 0.0}, {\"count\": 6, \"cutoff\": 10, \"userId\": 61152, \"precision\": 0.0, \"recall\": 0.0}, {\"count\": 6, \"cutoff\": 11, \"userId\": 61152, \"precision\": 0.0, \"recall\": 0.0}, {\"count\": 6, \"cutoff\": 16, \"userId\": 61152, \"precision\": 0.0, \"recall\": 0.0}, {\"count\": 6, \"cutoff\": 21, \"userId\": 61152, \"precision\": 0.047619047619047616, \"recall\": 0.16666666666666666}, {\"count\": 6, \"cutoff\": 26, \"userId\": 61152, \"precision\": 0.038461538461538464, \"recall\": 0.16666666666666666}, {\"count\": 6, \"cutoff\": 31, \"userId\": 61152, \"precision\": 0.03225806451612903, \"recall\": 0.16666666666666666}, {\"count\": 6, \"cutoff\": 36, \"userId\": 61152, \"precision\": 0.027777777777777776, \"recall\": 0.16666666666666666}, {\"count\": 6, \"cutoff\": 41, \"userId\": 61152, \"precision\": 0.024390243902439025, \"recall\": 0.16666666666666666}, {\"count\": 6, \"cutoff\": 46, \"userId\": 61152, \"precision\": 0.021739130434782608, \"recall\": 0.16666666666666666}, {\"count\": 1, \"cutoff\": 1, \"userId\": 61343, \"precision\": 0.0, \"recall\": 0.0}, {\"count\": 1, \"cutoff\": 2, \"userId\": 61343, \"precision\": 0.0, \"recall\": 0.0}, {\"count\": 1, \"cutoff\": 3, \"userId\": 61343, \"precision\": 0.0, \"recall\": 0.0}, {\"count\": 1, \"cutoff\": 4, \"userId\": 61343, \"precision\": 0.0, \"recall\": 0.0}, {\"count\": 1, \"cutoff\": 5, \"userId\": 61343, \"precision\": 0.0, \"recall\": 0.0}, {\"count\": 1, \"cutoff\": 6, \"userId\": 61343, \"precision\": 0.0, \"recall\": 0.0}, {\"count\": 1, \"cutoff\": 7, \"userId\": 61343, \"precision\": 0.0, \"recall\": 0.0}, {\"count\": 1, \"cutoff\": 8, \"userId\": 61343, \"precision\": 0.0, \"recall\": 0.0}, {\"count\": 1, \"cutoff\": 9, \"userId\": 61343, \"precision\": 0.0, \"recall\": 0.0}, {\"count\": 1, \"cutoff\": 10, \"userId\": 61343, \"precision\": 0.0, \"recall\": 0.0}, {\"count\": 1, \"cutoff\": 11, \"userId\": 61343, \"precision\": 0.0, \"recall\": 0.0}, {\"count\": 1, \"cutoff\": 16, \"userId\": 61343, \"precision\": 0.0, \"recall\": 0.0}, {\"count\": 1, \"cutoff\": 21, \"userId\": 61343, \"precision\": 0.0, \"recall\": 0.0}, {\"count\": 1, \"cutoff\": 26, \"userId\": 61343, \"precision\": 0.0, \"recall\": 0.0}, {\"count\": 1, \"cutoff\": 31, \"userId\": 61343, \"precision\": 0.0, \"recall\": 0.0}, {\"count\": 1, \"cutoff\": 36, \"userId\": 61343, \"precision\": 0.0, \"recall\": 0.0}, {\"count\": 1, \"cutoff\": 41, \"userId\": 61343, \"precision\": 0.0, \"recall\": 0.0}, {\"count\": 1, \"cutoff\": 46, \"userId\": 61343, \"precision\": 0.0, \"recall\": 0.0}, {\"count\": 2, \"cutoff\": 1, \"userId\": 63697, \"precision\": 0.0, \"recall\": 0.0}, {\"count\": 2, \"cutoff\": 2, \"userId\": 63697, \"precision\": 0.0, \"recall\": 0.0}, {\"count\": 2, \"cutoff\": 3, \"userId\": 63697, \"precision\": 0.0, \"recall\": 0.0}, {\"count\": 2, \"cutoff\": 4, \"userId\": 63697, \"precision\": 0.0, \"recall\": 0.0}, {\"count\": 2, \"cutoff\": 5, \"userId\": 63697, \"precision\": 0.0, \"recall\": 0.0}, {\"count\": 2, \"cutoff\": 6, \"userId\": 63697, \"precision\": 0.0, \"recall\": 0.0}, {\"count\": 2, \"cutoff\": 7, \"userId\": 63697, \"precision\": 0.0, \"recall\": 0.0}, {\"count\": 2, \"cutoff\": 8, \"userId\": 63697, \"precision\": 0.0, \"recall\": 0.0}, {\"count\": 2, \"cutoff\": 9, \"userId\": 63697, \"precision\": 0.0, \"recall\": 0.0}, {\"count\": 2, \"cutoff\": 10, \"userId\": 63697, \"precision\": 0.0, \"recall\": 0.0}, {\"count\": 2, \"cutoff\": 11, \"userId\": 63697, \"precision\": 0.0, \"recall\": 0.0}, {\"count\": 2, \"cutoff\": 16, \"userId\": 63697, \"precision\": 0.0, \"recall\": 0.0}, {\"count\": 2, \"cutoff\": 21, \"userId\": 63697, \"precision\": 0.0, \"recall\": 0.0}, {\"count\": 2, \"cutoff\": 26, \"userId\": 63697, \"precision\": 0.0, \"recall\": 0.0}, {\"count\": 2, \"cutoff\": 31, \"userId\": 63697, \"precision\": 0.0, \"recall\": 0.0}, {\"count\": 2, \"cutoff\": 36, \"userId\": 63697, \"precision\": 0.0, \"recall\": 0.0}, {\"count\": 2, \"cutoff\": 41, \"userId\": 63697, \"precision\": 0.0, \"recall\": 0.0}, {\"count\": 2, \"cutoff\": 46, \"userId\": 63697, \"precision\": 0.0, \"recall\": 0.0}, {\"count\": 12, \"cutoff\": 1, \"userId\": 64150, \"precision\": 0.0, \"recall\": 0.0}, {\"count\": 12, \"cutoff\": 2, \"userId\": 64150, \"precision\": 0.0, \"recall\": 0.0}, {\"count\": 12, \"cutoff\": 3, \"userId\": 64150, \"precision\": 0.0, \"recall\": 0.0}, {\"count\": 12, \"cutoff\": 4, \"userId\": 64150, \"precision\": 0.0, \"recall\": 0.0}, {\"count\": 12, \"cutoff\": 5, \"userId\": 64150, \"precision\": 0.0, \"recall\": 0.0}, {\"count\": 12, \"cutoff\": 6, \"userId\": 64150, \"precision\": 0.0, \"recall\": 0.0}, {\"count\": 12, \"cutoff\": 7, \"userId\": 64150, \"precision\": 0.0, \"recall\": 0.0}, {\"count\": 12, \"cutoff\": 8, \"userId\": 64150, \"precision\": 0.0, \"recall\": 0.0}, {\"count\": 12, \"cutoff\": 9, \"userId\": 64150, \"precision\": 0.0, \"recall\": 0.0}, {\"count\": 12, \"cutoff\": 10, \"userId\": 64150, \"precision\": 0.0, \"recall\": 0.0}, {\"count\": 12, \"cutoff\": 11, \"userId\": 64150, \"precision\": 0.0, \"recall\": 0.0}, {\"count\": 12, \"cutoff\": 16, \"userId\": 64150, \"precision\": 0.0, \"recall\": 0.0}, {\"count\": 12, \"cutoff\": 21, \"userId\": 64150, \"precision\": 0.0, \"recall\": 0.0}, {\"count\": 12, \"cutoff\": 26, \"userId\": 64150, \"precision\": 0.0, \"recall\": 0.0}, {\"count\": 12, \"cutoff\": 31, \"userId\": 64150, \"precision\": 0.0, \"recall\": 0.0}, {\"count\": 12, \"cutoff\": 36, \"userId\": 64150, \"precision\": 0.0, \"recall\": 0.0}, {\"count\": 12, \"cutoff\": 41, \"userId\": 64150, \"precision\": 0.0, \"recall\": 0.0}, {\"count\": 12, \"cutoff\": 46, \"userId\": 64150, \"precision\": 0.0, \"recall\": 0.0}, {\"count\": 1, \"cutoff\": 1, \"userId\": 70192, \"precision\": 0.0, \"recall\": 0.0}, {\"count\": 1, \"cutoff\": 2, \"userId\": 70192, \"precision\": 0.0, \"recall\": 0.0}, {\"count\": 1, \"cutoff\": 3, \"userId\": 70192, \"precision\": 0.0, \"recall\": 0.0}, {\"count\": 1, \"cutoff\": 4, \"userId\": 70192, \"precision\": 0.0, \"recall\": 0.0}, {\"count\": 1, \"cutoff\": 5, \"userId\": 70192, \"precision\": 0.0, \"recall\": 0.0}, {\"count\": 1, \"cutoff\": 6, \"userId\": 70192, \"precision\": 0.0, \"recall\": 0.0}, {\"count\": 1, \"cutoff\": 7, \"userId\": 70192, \"precision\": 0.0, \"recall\": 0.0}, {\"count\": 1, \"cutoff\": 8, \"userId\": 70192, \"precision\": 0.0, \"recall\": 0.0}, {\"count\": 1, \"cutoff\": 9, \"userId\": 70192, \"precision\": 0.0, \"recall\": 0.0}, {\"count\": 1, \"cutoff\": 10, \"userId\": 70192, \"precision\": 0.0, \"recall\": 0.0}, {\"count\": 1, \"cutoff\": 11, \"userId\": 70192, \"precision\": 0.0, \"recall\": 0.0}, {\"count\": 1, \"cutoff\": 16, \"userId\": 70192, \"precision\": 0.0, \"recall\": 0.0}, {\"count\": 1, \"cutoff\": 21, \"userId\": 70192, \"precision\": 0.0, \"recall\": 0.0}, {\"count\": 1, \"cutoff\": 26, \"userId\": 70192, \"precision\": 0.0, \"recall\": 0.0}, {\"count\": 1, \"cutoff\": 31, \"userId\": 70192, \"precision\": 0.0, \"recall\": 0.0}, {\"count\": 1, \"cutoff\": 36, \"userId\": 70192, \"precision\": 0.0, \"recall\": 0.0}, {\"count\": 1, \"cutoff\": 41, \"userId\": 70192, \"precision\": 0.0, \"recall\": 0.0}, {\"count\": 1, \"cutoff\": 46, \"userId\": 70192, \"precision\": 0.0, \"recall\": 0.0}, {\"count\": 5, \"cutoff\": 1, \"userId\": 70706, \"precision\": 0.0, \"recall\": 0.0}, {\"count\": 5, \"cutoff\": 2, \"userId\": 70706, \"precision\": 0.0, \"recall\": 0.0}, {\"count\": 5, \"cutoff\": 3, \"userId\": 70706, \"precision\": 0.0, \"recall\": 0.0}, {\"count\": 5, \"cutoff\": 4, \"userId\": 70706, \"precision\": 0.0, \"recall\": 0.0}, {\"count\": 5, \"cutoff\": 5, \"userId\": 70706, \"precision\": 0.0, \"recall\": 0.0}, {\"count\": 5, \"cutoff\": 6, \"userId\": 70706, \"precision\": 0.0, \"recall\": 0.0}, {\"count\": 5, \"cutoff\": 7, \"userId\": 70706, \"precision\": 0.0, \"recall\": 0.0}, {\"count\": 5, \"cutoff\": 8, \"userId\": 70706, \"precision\": 0.0, \"recall\": 0.0}, {\"count\": 5, \"cutoff\": 9, \"userId\": 70706, \"precision\": 0.0, \"recall\": 0.0}, {\"count\": 5, \"cutoff\": 10, \"userId\": 70706, \"precision\": 0.0, \"recall\": 0.0}, {\"count\": 5, \"cutoff\": 11, \"userId\": 70706, \"precision\": 0.0, \"recall\": 0.0}, {\"count\": 5, \"cutoff\": 16, \"userId\": 70706, \"precision\": 0.0, \"recall\": 0.0}, {\"count\": 5, \"cutoff\": 21, \"userId\": 70706, \"precision\": 0.0, \"recall\": 0.0}, {\"count\": 5, \"cutoff\": 26, \"userId\": 70706, \"precision\": 0.0, \"recall\": 0.0}, {\"count\": 5, \"cutoff\": 31, \"userId\": 70706, \"precision\": 0.0, \"recall\": 0.0}, {\"count\": 5, \"cutoff\": 36, \"userId\": 70706, \"precision\": 0.0, \"recall\": 0.0}, {\"count\": 5, \"cutoff\": 41, \"userId\": 70706, \"precision\": 0.0, \"recall\": 0.0}, {\"count\": 5, \"cutoff\": 46, \"userId\": 70706, \"precision\": 0.0, \"recall\": 0.0}, {\"count\": 10, \"cutoff\": 1, \"userId\": 71115, \"precision\": 0.0, \"recall\": 0.0}, {\"count\": 10, \"cutoff\": 2, \"userId\": 71115, \"precision\": 0.0, \"recall\": 0.0}, {\"count\": 10, \"cutoff\": 3, \"userId\": 71115, \"precision\": 0.0, \"recall\": 0.0}, {\"count\": 10, \"cutoff\": 4, \"userId\": 71115, \"precision\": 0.0, \"recall\": 0.0}, {\"count\": 10, \"cutoff\": 5, \"userId\": 71115, \"precision\": 0.0, \"recall\": 0.0}, {\"count\": 10, \"cutoff\": 6, \"userId\": 71115, \"precision\": 0.0, \"recall\": 0.0}, {\"count\": 10, \"cutoff\": 7, \"userId\": 71115, \"precision\": 0.0, \"recall\": 0.0}, {\"count\": 10, \"cutoff\": 8, \"userId\": 71115, \"precision\": 0.0, \"recall\": 0.0}, {\"count\": 10, \"cutoff\": 9, \"userId\": 71115, \"precision\": 0.0, \"recall\": 0.0}, {\"count\": 10, \"cutoff\": 10, \"userId\": 71115, \"precision\": 0.0, \"recall\": 0.0}, {\"count\": 10, \"cutoff\": 11, \"userId\": 71115, \"precision\": 0.0, \"recall\": 0.0}, {\"count\": 10, \"cutoff\": 16, \"userId\": 71115, \"precision\": 0.0, \"recall\": 0.0}, {\"count\": 10, \"cutoff\": 21, \"userId\": 71115, \"precision\": 0.0, \"recall\": 0.0}, {\"count\": 10, \"cutoff\": 26, \"userId\": 71115, \"precision\": 0.0, \"recall\": 0.0}, {\"count\": 10, \"cutoff\": 31, \"userId\": 71115, \"precision\": 0.0, \"recall\": 0.0}, {\"count\": 10, \"cutoff\": 36, \"userId\": 71115, \"precision\": 0.0, \"recall\": 0.0}, {\"count\": 10, \"cutoff\": 41, \"userId\": 71115, \"precision\": 0.0, \"recall\": 0.0}, {\"count\": 10, \"cutoff\": 46, \"userId\": 71115, \"precision\": 0.0, \"recall\": 0.0}, {\"count\": 6, \"cutoff\": 1, \"userId\": 75145, \"precision\": 0.0, \"recall\": 0.0}, {\"count\": 6, \"cutoff\": 2, \"userId\": 75145, \"precision\": 0.0, \"recall\": 0.0}, {\"count\": 6, \"cutoff\": 3, \"userId\": 75145, \"precision\": 0.0, \"recall\": 0.0}, {\"count\": 6, \"cutoff\": 4, \"userId\": 75145, \"precision\": 0.0, \"recall\": 0.0}, {\"count\": 6, \"cutoff\": 5, \"userId\": 75145, \"precision\": 0.0, \"recall\": 0.0}, {\"count\": 6, \"cutoff\": 6, \"userId\": 75145, \"precision\": 0.0, \"recall\": 0.0}, {\"count\": 6, \"cutoff\": 7, \"userId\": 75145, \"precision\": 0.0, \"recall\": 0.0}, {\"count\": 6, \"cutoff\": 8, \"userId\": 75145, \"precision\": 0.0, \"recall\": 0.0}, {\"count\": 6, \"cutoff\": 9, \"userId\": 75145, \"precision\": 0.0, \"recall\": 0.0}, {\"count\": 6, \"cutoff\": 10, \"userId\": 75145, \"precision\": 0.0, \"recall\": 0.0}, {\"count\": 6, \"cutoff\": 11, \"userId\": 75145, \"precision\": 0.0, \"recall\": 0.0}, {\"count\": 6, \"cutoff\": 16, \"userId\": 75145, \"precision\": 0.0, \"recall\": 0.0}, {\"count\": 6, \"cutoff\": 21, \"userId\": 75145, \"precision\": 0.0, \"recall\": 0.0}, {\"count\": 6, \"cutoff\": 26, \"userId\": 75145, \"precision\": 0.0, \"recall\": 0.0}, {\"count\": 6, \"cutoff\": 31, \"userId\": 75145, \"precision\": 0.0, \"recall\": 0.0}, {\"count\": 6, \"cutoff\": 36, \"userId\": 75145, \"precision\": 0.0, \"recall\": 0.0}, {\"count\": 6, \"cutoff\": 41, \"userId\": 75145, \"precision\": 0.0, \"recall\": 0.0}, {\"count\": 6, \"cutoff\": 46, \"userId\": 75145, \"precision\": 0.0, \"recall\": 0.0}, {\"count\": 69, \"cutoff\": 1, \"userId\": 78917, \"precision\": 0.0, \"recall\": 0.0}, {\"count\": 69, \"cutoff\": 2, \"userId\": 78917, \"precision\": 0.0, \"recall\": 0.0}, {\"count\": 69, \"cutoff\": 3, \"userId\": 78917, \"precision\": 0.0, \"recall\": 0.0}, {\"count\": 69, \"cutoff\": 4, \"userId\": 78917, \"precision\": 0.0, \"recall\": 0.0}, {\"count\": 69, \"cutoff\": 5, \"userId\": 78917, \"precision\": 0.0, \"recall\": 0.0}, {\"count\": 69, \"cutoff\": 6, \"userId\": 78917, \"precision\": 0.0, \"recall\": 0.0}, {\"count\": 69, \"cutoff\": 7, \"userId\": 78917, \"precision\": 0.0, \"recall\": 0.0}, {\"count\": 69, \"cutoff\": 8, \"userId\": 78917, \"precision\": 0.0, \"recall\": 0.0}, {\"count\": 69, \"cutoff\": 9, \"userId\": 78917, \"precision\": 0.0, \"recall\": 0.0}, {\"count\": 69, \"cutoff\": 10, \"userId\": 78917, \"precision\": 0.0, \"recall\": 0.0}, {\"count\": 69, \"cutoff\": 11, \"userId\": 78917, \"precision\": 0.09090909090909091, \"recall\": 0.014492753623188406}, {\"count\": 69, \"cutoff\": 16, \"userId\": 78917, \"precision\": 0.0625, \"recall\": 0.014492753623188406}, {\"count\": 69, \"cutoff\": 21, \"userId\": 78917, \"precision\": 0.047619047619047616, \"recall\": 0.014492753623188406}, {\"count\": 69, \"cutoff\": 26, \"userId\": 78917, \"precision\": 0.038461538461538464, \"recall\": 0.014492753623188406}, {\"count\": 69, \"cutoff\": 31, \"userId\": 78917, \"precision\": 0.03225806451612903, \"recall\": 0.014492753623188406}, {\"count\": 69, \"cutoff\": 36, \"userId\": 78917, \"precision\": 0.027777777777777776, \"recall\": 0.014492753623188406}, {\"count\": 69, \"cutoff\": 41, \"userId\": 78917, \"precision\": 0.024390243902439025, \"recall\": 0.014492753623188406}, {\"count\": 69, \"cutoff\": 46, \"userId\": 78917, \"precision\": 0.021739130434782608, \"recall\": 0.014492753623188406}, {\"count\": 1, \"cutoff\": 1, \"userId\": 80070, \"precision\": 0.0, \"recall\": 0.0}, {\"count\": 1, \"cutoff\": 2, \"userId\": 80070, \"precision\": 0.0, \"recall\": 0.0}, {\"count\": 1, \"cutoff\": 3, \"userId\": 80070, \"precision\": 0.0, \"recall\": 0.0}, {\"count\": 1, \"cutoff\": 4, \"userId\": 80070, \"precision\": 0.0, \"recall\": 0.0}, {\"count\": 1, \"cutoff\": 5, \"userId\": 80070, \"precision\": 0.0, \"recall\": 0.0}, {\"count\": 1, \"cutoff\": 6, \"userId\": 80070, \"precision\": 0.0, \"recall\": 0.0}, {\"count\": 1, \"cutoff\": 7, \"userId\": 80070, \"precision\": 0.0, \"recall\": 0.0}, {\"count\": 1, \"cutoff\": 8, \"userId\": 80070, \"precision\": 0.0, \"recall\": 0.0}, {\"count\": 1, \"cutoff\": 9, \"userId\": 80070, \"precision\": 0.0, \"recall\": 0.0}, {\"count\": 1, \"cutoff\": 10, \"userId\": 80070, \"precision\": 0.0, \"recall\": 0.0}, {\"count\": 1, \"cutoff\": 11, \"userId\": 80070, \"precision\": 0.0, \"recall\": 0.0}, {\"count\": 1, \"cutoff\": 16, \"userId\": 80070, \"precision\": 0.0, \"recall\": 0.0}, {\"count\": 1, \"cutoff\": 21, \"userId\": 80070, \"precision\": 0.0, \"recall\": 0.0}, {\"count\": 1, \"cutoff\": 26, \"userId\": 80070, \"precision\": 0.0, \"recall\": 0.0}, {\"count\": 1, \"cutoff\": 31, \"userId\": 80070, \"precision\": 0.0, \"recall\": 0.0}, {\"count\": 1, \"cutoff\": 36, \"userId\": 80070, \"precision\": 0.0, \"recall\": 0.0}, {\"count\": 1, \"cutoff\": 41, \"userId\": 80070, \"precision\": 0.0, \"recall\": 0.0}, {\"count\": 1, \"cutoff\": 46, \"userId\": 80070, \"precision\": 0.0, \"recall\": 0.0}, {\"count\": 1, \"cutoff\": 1, \"userId\": 80920, \"precision\": 0.0, \"recall\": 0.0}, {\"count\": 1, \"cutoff\": 2, \"userId\": 80920, \"precision\": 0.0, \"recall\": 0.0}, {\"count\": 1, \"cutoff\": 3, \"userId\": 80920, \"precision\": 0.0, \"recall\": 0.0}, {\"count\": 1, \"cutoff\": 4, \"userId\": 80920, \"precision\": 0.0, \"recall\": 0.0}, {\"count\": 1, \"cutoff\": 5, \"userId\": 80920, \"precision\": 0.0, \"recall\": 0.0}, {\"count\": 1, \"cutoff\": 6, \"userId\": 80920, \"precision\": 0.0, \"recall\": 0.0}, {\"count\": 1, \"cutoff\": 7, \"userId\": 80920, \"precision\": 0.0, \"recall\": 0.0}, {\"count\": 1, \"cutoff\": 8, \"userId\": 80920, \"precision\": 0.0, \"recall\": 0.0}, {\"count\": 1, \"cutoff\": 9, \"userId\": 80920, \"precision\": 0.0, \"recall\": 0.0}, {\"count\": 1, \"cutoff\": 10, \"userId\": 80920, \"precision\": 0.0, \"recall\": 0.0}, {\"count\": 1, \"cutoff\": 11, \"userId\": 80920, \"precision\": 0.0, \"recall\": 0.0}, {\"count\": 1, \"cutoff\": 16, \"userId\": 80920, \"precision\": 0.0, \"recall\": 0.0}, {\"count\": 1, \"cutoff\": 21, \"userId\": 80920, \"precision\": 0.0, \"recall\": 0.0}, {\"count\": 1, \"cutoff\": 26, \"userId\": 80920, \"precision\": 0.0, \"recall\": 0.0}, {\"count\": 1, \"cutoff\": 31, \"userId\": 80920, \"precision\": 0.0, \"recall\": 0.0}, {\"count\": 1, \"cutoff\": 36, \"userId\": 80920, \"precision\": 0.0, \"recall\": 0.0}, {\"count\": 1, \"cutoff\": 41, \"userId\": 80920, \"precision\": 0.0, \"recall\": 0.0}, {\"count\": 1, \"cutoff\": 46, \"userId\": 80920, \"precision\": 0.0, \"recall\": 0.0}, {\"count\": 13, \"cutoff\": 1, \"userId\": 84430, \"precision\": 0.0, \"recall\": 0.0}, {\"count\": 13, \"cutoff\": 2, \"userId\": 84430, \"precision\": 0.0, \"recall\": 0.0}, {\"count\": 13, \"cutoff\": 3, \"userId\": 84430, \"precision\": 0.0, \"recall\": 0.0}, {\"count\": 13, \"cutoff\": 4, \"userId\": 84430, \"precision\": 0.0, \"recall\": 0.0}, {\"count\": 13, \"cutoff\": 5, \"userId\": 84430, \"precision\": 0.0, \"recall\": 0.0}, {\"count\": 13, \"cutoff\": 6, \"userId\": 84430, \"precision\": 0.0, \"recall\": 0.0}, {\"count\": 13, \"cutoff\": 7, \"userId\": 84430, \"precision\": 0.0, \"recall\": 0.0}, {\"count\": 13, \"cutoff\": 8, \"userId\": 84430, \"precision\": 0.0, \"recall\": 0.0}, {\"count\": 13, \"cutoff\": 9, \"userId\": 84430, \"precision\": 0.0, \"recall\": 0.0}, {\"count\": 13, \"cutoff\": 10, \"userId\": 84430, \"precision\": 0.0, \"recall\": 0.0}, {\"count\": 13, \"cutoff\": 11, \"userId\": 84430, \"precision\": 0.0, \"recall\": 0.0}, {\"count\": 13, \"cutoff\": 16, \"userId\": 84430, \"precision\": 0.0, \"recall\": 0.0}, {\"count\": 13, \"cutoff\": 21, \"userId\": 84430, \"precision\": 0.0, \"recall\": 0.0}, {\"count\": 13, \"cutoff\": 26, \"userId\": 84430, \"precision\": 0.0, \"recall\": 0.0}, {\"count\": 13, \"cutoff\": 31, \"userId\": 84430, \"precision\": 0.0, \"recall\": 0.0}, {\"count\": 13, \"cutoff\": 36, \"userId\": 84430, \"precision\": 0.0, \"recall\": 0.0}, {\"count\": 13, \"cutoff\": 41, \"userId\": 84430, \"precision\": 0.0, \"recall\": 0.0}, {\"count\": 13, \"cutoff\": 46, \"userId\": 84430, \"precision\": 0.0, \"recall\": 0.0}, {\"count\": 160, \"cutoff\": 1, \"userId\": 86768, \"precision\": 0.0, \"recall\": 0.0}, {\"count\": 160, \"cutoff\": 2, \"userId\": 86768, \"precision\": 0.0, \"recall\": 0.0}, {\"count\": 160, \"cutoff\": 3, \"userId\": 86768, \"precision\": 0.0, \"recall\": 0.0}, {\"count\": 160, \"cutoff\": 4, \"userId\": 86768, \"precision\": 0.0, \"recall\": 0.0}, {\"count\": 160, \"cutoff\": 5, \"userId\": 86768, \"precision\": 0.0, \"recall\": 0.0}, {\"count\": 160, \"cutoff\": 6, \"userId\": 86768, \"precision\": 0.0, \"recall\": 0.0}, {\"count\": 160, \"cutoff\": 7, \"userId\": 86768, \"precision\": 0.0, \"recall\": 0.0}, {\"count\": 160, \"cutoff\": 8, \"userId\": 86768, \"precision\": 0.125, \"recall\": 0.00625}, {\"count\": 160, \"cutoff\": 9, \"userId\": 86768, \"precision\": 0.1111111111111111, \"recall\": 0.00625}, {\"count\": 160, \"cutoff\": 10, \"userId\": 86768, \"precision\": 0.1, \"recall\": 0.00625}, {\"count\": 160, \"cutoff\": 11, \"userId\": 86768, \"precision\": 0.09090909090909091, \"recall\": 0.00625}, {\"count\": 160, \"cutoff\": 16, \"userId\": 86768, \"precision\": 0.0625, \"recall\": 0.00625}, {\"count\": 160, \"cutoff\": 21, \"userId\": 86768, \"precision\": 0.047619047619047616, \"recall\": 0.00625}, {\"count\": 160, \"cutoff\": 26, \"userId\": 86768, \"precision\": 0.038461538461538464, \"recall\": 0.00625}, {\"count\": 160, \"cutoff\": 31, \"userId\": 86768, \"precision\": 0.03225806451612903, \"recall\": 0.00625}, {\"count\": 160, \"cutoff\": 36, \"userId\": 86768, \"precision\": 0.027777777777777776, \"recall\": 0.00625}, {\"count\": 160, \"cutoff\": 41, \"userId\": 86768, \"precision\": 0.024390243902439025, \"recall\": 0.00625}, {\"count\": 160, \"cutoff\": 46, \"userId\": 86768, \"precision\": 0.021739130434782608, \"recall\": 0.00625}, {\"count\": 3, \"cutoff\": 1, \"userId\": 89115, \"precision\": 0.0, \"recall\": 0.0}, {\"count\": 3, \"cutoff\": 2, \"userId\": 89115, \"precision\": 0.0, \"recall\": 0.0}, {\"count\": 3, \"cutoff\": 3, \"userId\": 89115, \"precision\": 0.0, \"recall\": 0.0}, {\"count\": 3, \"cutoff\": 4, \"userId\": 89115, \"precision\": 0.0, \"recall\": 0.0}, {\"count\": 3, \"cutoff\": 5, \"userId\": 89115, \"precision\": 0.0, \"recall\": 0.0}, {\"count\": 3, \"cutoff\": 6, \"userId\": 89115, \"precision\": 0.0, \"recall\": 0.0}, {\"count\": 3, \"cutoff\": 7, \"userId\": 89115, \"precision\": 0.0, \"recall\": 0.0}, {\"count\": 3, \"cutoff\": 8, \"userId\": 89115, \"precision\": 0.0, \"recall\": 0.0}, {\"count\": 3, \"cutoff\": 9, \"userId\": 89115, \"precision\": 0.0, \"recall\": 0.0}, {\"count\": 3, \"cutoff\": 10, \"userId\": 89115, \"precision\": 0.0, \"recall\": 0.0}, {\"count\": 3, \"cutoff\": 11, \"userId\": 89115, \"precision\": 0.0, \"recall\": 0.0}, {\"count\": 3, \"cutoff\": 16, \"userId\": 89115, \"precision\": 0.0, \"recall\": 0.0}, {\"count\": 3, \"cutoff\": 21, \"userId\": 89115, \"precision\": 0.0, \"recall\": 0.0}, {\"count\": 3, \"cutoff\": 26, \"userId\": 89115, \"precision\": 0.0, \"recall\": 0.0}, {\"count\": 3, \"cutoff\": 31, \"userId\": 89115, \"precision\": 0.0, \"recall\": 0.0}, {\"count\": 3, \"cutoff\": 36, \"userId\": 89115, \"precision\": 0.0, \"recall\": 0.0}, {\"count\": 3, \"cutoff\": 41, \"userId\": 89115, \"precision\": 0.0, \"recall\": 0.0}, {\"count\": 3, \"cutoff\": 46, \"userId\": 89115, \"precision\": 0.0, \"recall\": 0.0}, {\"count\": 1, \"cutoff\": 1, \"userId\": 90550, \"precision\": 0.0, \"recall\": 0.0}, {\"count\": 1, \"cutoff\": 2, \"userId\": 90550, \"precision\": 0.0, \"recall\": 0.0}, {\"count\": 1, \"cutoff\": 3, \"userId\": 90550, \"precision\": 0.0, \"recall\": 0.0}, {\"count\": 1, \"cutoff\": 4, \"userId\": 90550, \"precision\": 0.0, \"recall\": 0.0}, {\"count\": 1, \"cutoff\": 5, \"userId\": 90550, \"precision\": 0.0, \"recall\": 0.0}, {\"count\": 1, \"cutoff\": 6, \"userId\": 90550, \"precision\": 0.0, \"recall\": 0.0}, {\"count\": 1, \"cutoff\": 7, \"userId\": 90550, \"precision\": 0.0, \"recall\": 0.0}, {\"count\": 1, \"cutoff\": 8, \"userId\": 90550, \"precision\": 0.0, \"recall\": 0.0}, {\"count\": 1, \"cutoff\": 9, \"userId\": 90550, \"precision\": 0.0, \"recall\": 0.0}, {\"count\": 1, \"cutoff\": 10, \"userId\": 90550, \"precision\": 0.0, \"recall\": 0.0}, {\"count\": 1, \"cutoff\": 11, \"userId\": 90550, \"precision\": 0.0, \"recall\": 0.0}, {\"count\": 1, \"cutoff\": 16, \"userId\": 90550, \"precision\": 0.0, \"recall\": 0.0}, {\"count\": 1, \"cutoff\": 21, \"userId\": 90550, \"precision\": 0.0, \"recall\": 0.0}, {\"count\": 1, \"cutoff\": 26, \"userId\": 90550, \"precision\": 0.0, \"recall\": 0.0}, {\"count\": 1, \"cutoff\": 31, \"userId\": 90550, \"precision\": 0.0, \"recall\": 0.0}, {\"count\": 1, \"cutoff\": 36, \"userId\": 90550, \"precision\": 0.0, \"recall\": 0.0}, {\"count\": 1, \"cutoff\": 41, \"userId\": 90550, \"precision\": 0.0, \"recall\": 0.0}, {\"count\": 1, \"cutoff\": 46, \"userId\": 90550, \"precision\": 0.0, \"recall\": 0.0}, {\"count\": 15, \"cutoff\": 1, \"userId\": 93433, \"precision\": 0.0, \"recall\": 0.0}, {\"count\": 15, \"cutoff\": 2, \"userId\": 93433, \"precision\": 0.0, \"recall\": 0.0}, {\"count\": 15, \"cutoff\": 3, \"userId\": 93433, \"precision\": 0.0, \"recall\": 0.0}, {\"count\": 15, \"cutoff\": 4, \"userId\": 93433, \"precision\": 0.0, \"recall\": 0.0}, {\"count\": 15, \"cutoff\": 5, \"userId\": 93433, \"precision\": 0.0, \"recall\": 0.0}, {\"count\": 15, \"cutoff\": 6, \"userId\": 93433, \"precision\": 0.0, \"recall\": 0.0}, {\"count\": 15, \"cutoff\": 7, \"userId\": 93433, \"precision\": 0.0, \"recall\": 0.0}, {\"count\": 15, \"cutoff\": 8, \"userId\": 93433, \"precision\": 0.0, \"recall\": 0.0}, {\"count\": 15, \"cutoff\": 9, \"userId\": 93433, \"precision\": 0.0, \"recall\": 0.0}, {\"count\": 15, \"cutoff\": 10, \"userId\": 93433, \"precision\": 0.0, \"recall\": 0.0}, {\"count\": 15, \"cutoff\": 11, \"userId\": 93433, \"precision\": 0.0, \"recall\": 0.0}, {\"count\": 15, \"cutoff\": 16, \"userId\": 93433, \"precision\": 0.0, \"recall\": 0.0}, {\"count\": 15, \"cutoff\": 21, \"userId\": 93433, \"precision\": 0.0, \"recall\": 0.0}, {\"count\": 15, \"cutoff\": 26, \"userId\": 93433, \"precision\": 0.0, \"recall\": 0.0}, {\"count\": 15, \"cutoff\": 31, \"userId\": 93433, \"precision\": 0.0, \"recall\": 0.0}, {\"count\": 15, \"cutoff\": 36, \"userId\": 93433, \"precision\": 0.0, \"recall\": 0.0}, {\"count\": 15, \"cutoff\": 41, \"userId\": 93433, \"precision\": 0.0, \"recall\": 0.0}, {\"count\": 15, \"cutoff\": 46, \"userId\": 93433, \"precision\": 0.0, \"recall\": 0.0}, {\"count\": 1, \"cutoff\": 1, \"userId\": 94326, \"precision\": 0.0, \"recall\": 0.0}, {\"count\": 1, \"cutoff\": 2, \"userId\": 94326, \"precision\": 0.0, \"recall\": 0.0}, {\"count\": 1, \"cutoff\": 3, \"userId\": 94326, \"precision\": 0.0, \"recall\": 0.0}, {\"count\": 1, \"cutoff\": 4, \"userId\": 94326, \"precision\": 0.0, \"recall\": 0.0}, {\"count\": 1, \"cutoff\": 5, \"userId\": 94326, \"precision\": 0.0, \"recall\": 0.0}, {\"count\": 1, \"cutoff\": 6, \"userId\": 94326, \"precision\": 0.0, \"recall\": 0.0}, {\"count\": 1, \"cutoff\": 7, \"userId\": 94326, \"precision\": 0.0, \"recall\": 0.0}, {\"count\": 1, \"cutoff\": 8, \"userId\": 94326, \"precision\": 0.0, \"recall\": 0.0}, {\"count\": 1, \"cutoff\": 9, \"userId\": 94326, \"precision\": 0.0, \"recall\": 0.0}, {\"count\": 1, \"cutoff\": 10, \"userId\": 94326, \"precision\": 0.0, \"recall\": 0.0}, {\"count\": 1, \"cutoff\": 11, \"userId\": 94326, \"precision\": 0.0, \"recall\": 0.0}, {\"count\": 1, \"cutoff\": 16, \"userId\": 94326, \"precision\": 0.0, \"recall\": 0.0}, {\"count\": 1, \"cutoff\": 21, \"userId\": 94326, \"precision\": 0.0, \"recall\": 0.0}, {\"count\": 1, \"cutoff\": 26, \"userId\": 94326, \"precision\": 0.0, \"recall\": 0.0}, {\"count\": 1, \"cutoff\": 31, \"userId\": 94326, \"precision\": 0.0, \"recall\": 0.0}, {\"count\": 1, \"cutoff\": 36, \"userId\": 94326, \"precision\": 0.0, \"recall\": 0.0}, {\"count\": 1, \"cutoff\": 41, \"userId\": 94326, \"precision\": 0.0, \"recall\": 0.0}, {\"count\": 1, \"cutoff\": 46, \"userId\": 94326, \"precision\": 0.0, \"recall\": 0.0}, {\"count\": 2, \"cutoff\": 1, \"userId\": 95273, \"precision\": 0.0, \"recall\": 0.0}, {\"count\": 2, \"cutoff\": 2, \"userId\": 95273, \"precision\": 0.0, \"recall\": 0.0}, {\"count\": 2, \"cutoff\": 3, \"userId\": 95273, \"precision\": 0.0, \"recall\": 0.0}, {\"count\": 2, \"cutoff\": 4, \"userId\": 95273, \"precision\": 0.0, \"recall\": 0.0}, {\"count\": 2, \"cutoff\": 5, \"userId\": 95273, \"precision\": 0.0, \"recall\": 0.0}, {\"count\": 2, \"cutoff\": 6, \"userId\": 95273, \"precision\": 0.0, \"recall\": 0.0}, {\"count\": 2, \"cutoff\": 7, \"userId\": 95273, \"precision\": 0.0, \"recall\": 0.0}, {\"count\": 2, \"cutoff\": 8, \"userId\": 95273, \"precision\": 0.0, \"recall\": 0.0}, {\"count\": 2, \"cutoff\": 9, \"userId\": 95273, \"precision\": 0.0, \"recall\": 0.0}, {\"count\": 2, \"cutoff\": 10, \"userId\": 95273, \"precision\": 0.0, \"recall\": 0.0}, {\"count\": 2, \"cutoff\": 11, \"userId\": 95273, \"precision\": 0.0, \"recall\": 0.0}, {\"count\": 2, \"cutoff\": 16, \"userId\": 95273, \"precision\": 0.0, \"recall\": 0.0}, {\"count\": 2, \"cutoff\": 21, \"userId\": 95273, \"precision\": 0.0, \"recall\": 0.0}, {\"count\": 2, \"cutoff\": 26, \"userId\": 95273, \"precision\": 0.0, \"recall\": 0.0}, {\"count\": 2, \"cutoff\": 31, \"userId\": 95273, \"precision\": 0.0, \"recall\": 0.0}, {\"count\": 2, \"cutoff\": 36, \"userId\": 95273, \"precision\": 0.0, \"recall\": 0.0}, {\"count\": 2, \"cutoff\": 41, \"userId\": 95273, \"precision\": 0.0, \"recall\": 0.0}, {\"count\": 2, \"cutoff\": 46, \"userId\": 95273, \"precision\": 0.0, \"recall\": 0.0}, {\"count\": 23, \"cutoff\": 1, \"userId\": 95924, \"precision\": 0.0, \"recall\": 0.0}, {\"count\": 23, \"cutoff\": 2, \"userId\": 95924, \"precision\": 0.0, \"recall\": 0.0}, {\"count\": 23, \"cutoff\": 3, \"userId\": 95924, \"precision\": 0.0, \"recall\": 0.0}, {\"count\": 23, \"cutoff\": 4, \"userId\": 95924, \"precision\": 0.0, \"recall\": 0.0}, {\"count\": 23, \"cutoff\": 5, \"userId\": 95924, \"precision\": 0.0, \"recall\": 0.0}, {\"count\": 23, \"cutoff\": 6, \"userId\": 95924, \"precision\": 0.0, \"recall\": 0.0}, {\"count\": 23, \"cutoff\": 7, \"userId\": 95924, \"precision\": 0.0, \"recall\": 0.0}, {\"count\": 23, \"cutoff\": 8, \"userId\": 95924, \"precision\": 0.0, \"recall\": 0.0}, {\"count\": 23, \"cutoff\": 9, \"userId\": 95924, \"precision\": 0.0, \"recall\": 0.0}, {\"count\": 23, \"cutoff\": 10, \"userId\": 95924, \"precision\": 0.0, \"recall\": 0.0}, {\"count\": 23, \"cutoff\": 11, \"userId\": 95924, \"precision\": 0.0, \"recall\": 0.0}, {\"count\": 23, \"cutoff\": 16, \"userId\": 95924, \"precision\": 0.0, \"recall\": 0.0}, {\"count\": 23, \"cutoff\": 21, \"userId\": 95924, \"precision\": 0.0, \"recall\": 0.0}, {\"count\": 23, \"cutoff\": 26, \"userId\": 95924, \"precision\": 0.0, \"recall\": 0.0}, {\"count\": 23, \"cutoff\": 31, \"userId\": 95924, \"precision\": 0.0, \"recall\": 0.0}, {\"count\": 23, \"cutoff\": 36, \"userId\": 95924, \"precision\": 0.0, \"recall\": 0.0}, {\"count\": 23, \"cutoff\": 41, \"userId\": 95924, \"precision\": 0.0, \"recall\": 0.0}, {\"count\": 23, \"cutoff\": 46, \"userId\": 95924, \"precision\": 0.0, \"recall\": 0.0}, {\"count\": 5, \"cutoff\": 1, \"userId\": 97195, \"precision\": 0.0, \"recall\": 0.0}, {\"count\": 5, \"cutoff\": 2, \"userId\": 97195, \"precision\": 0.0, \"recall\": 0.0}, {\"count\": 5, \"cutoff\": 3, \"userId\": 97195, \"precision\": 0.0, \"recall\": 0.0}, {\"count\": 5, \"cutoff\": 4, \"userId\": 97195, \"precision\": 0.0, \"recall\": 0.0}, {\"count\": 5, \"cutoff\": 5, \"userId\": 97195, \"precision\": 0.0, \"recall\": 0.0}, {\"count\": 5, \"cutoff\": 6, \"userId\": 97195, \"precision\": 0.0, \"recall\": 0.0}, {\"count\": 5, \"cutoff\": 7, \"userId\": 97195, \"precision\": 0.0, \"recall\": 0.0}, {\"count\": 5, \"cutoff\": 8, \"userId\": 97195, \"precision\": 0.0, \"recall\": 0.0}, {\"count\": 5, \"cutoff\": 9, \"userId\": 97195, \"precision\": 0.0, \"recall\": 0.0}, {\"count\": 5, \"cutoff\": 10, \"userId\": 97195, \"precision\": 0.0, \"recall\": 0.0}, {\"count\": 5, \"cutoff\": 11, \"userId\": 97195, \"precision\": 0.0, \"recall\": 0.0}, {\"count\": 5, \"cutoff\": 16, \"userId\": 97195, \"precision\": 0.0, \"recall\": 0.0}, {\"count\": 5, \"cutoff\": 21, \"userId\": 97195, \"precision\": 0.0, \"recall\": 0.0}, {\"count\": 5, \"cutoff\": 26, \"userId\": 97195, \"precision\": 0.0, \"recall\": 0.0}, {\"count\": 5, \"cutoff\": 31, \"userId\": 97195, \"precision\": 0.0, \"recall\": 0.0}, {\"count\": 5, \"cutoff\": 36, \"userId\": 97195, \"precision\": 0.0, \"recall\": 0.0}, {\"count\": 5, \"cutoff\": 41, \"userId\": 97195, \"precision\": 0.0, \"recall\": 0.0}, {\"count\": 5, \"cutoff\": 46, \"userId\": 97195, \"precision\": 0.0, \"recall\": 0.0}, {\"count\": 1, \"cutoff\": 1, \"userId\": 101085, \"precision\": 0.0, \"recall\": 0.0}, {\"count\": 1, \"cutoff\": 2, \"userId\": 101085, \"precision\": 0.0, \"recall\": 0.0}, {\"count\": 1, \"cutoff\": 3, \"userId\": 101085, \"precision\": 0.0, \"recall\": 0.0}, {\"count\": 1, \"cutoff\": 4, \"userId\": 101085, \"precision\": 0.0, \"recall\": 0.0}, {\"count\": 1, \"cutoff\": 5, \"userId\": 101085, \"precision\": 0.0, \"recall\": 0.0}, {\"count\": 1, \"cutoff\": 6, \"userId\": 101085, \"precision\": 0.0, \"recall\": 0.0}, {\"count\": 1, \"cutoff\": 7, \"userId\": 101085, \"precision\": 0.0, \"recall\": 0.0}, {\"count\": 1, \"cutoff\": 8, \"userId\": 101085, \"precision\": 0.0, \"recall\": 0.0}, {\"count\": 1, \"cutoff\": 9, \"userId\": 101085, \"precision\": 0.0, \"recall\": 0.0}, {\"count\": 1, \"cutoff\": 10, \"userId\": 101085, \"precision\": 0.0, \"recall\": 0.0}, {\"count\": 1, \"cutoff\": 11, \"userId\": 101085, \"precision\": 0.0, \"recall\": 0.0}, {\"count\": 1, \"cutoff\": 16, \"userId\": 101085, \"precision\": 0.0, \"recall\": 0.0}, {\"count\": 1, \"cutoff\": 21, \"userId\": 101085, \"precision\": 0.0, \"recall\": 0.0}, {\"count\": 1, \"cutoff\": 26, \"userId\": 101085, \"precision\": 0.0, \"recall\": 0.0}, {\"count\": 1, \"cutoff\": 31, \"userId\": 101085, \"precision\": 0.0, \"recall\": 0.0}, {\"count\": 1, \"cutoff\": 36, \"userId\": 101085, \"precision\": 0.0, \"recall\": 0.0}, {\"count\": 1, \"cutoff\": 41, \"userId\": 101085, \"precision\": 0.0, \"recall\": 0.0}, {\"count\": 1, \"cutoff\": 46, \"userId\": 101085, \"precision\": 0.0, \"recall\": 0.0}, {\"count\": 1, \"cutoff\": 1, \"userId\": 101555, \"precision\": 0.0, \"recall\": 0.0}, {\"count\": 1, \"cutoff\": 2, \"userId\": 101555, \"precision\": 0.0, \"recall\": 0.0}, {\"count\": 1, \"cutoff\": 3, \"userId\": 101555, \"precision\": 0.0, \"recall\": 0.0}, {\"count\": 1, \"cutoff\": 4, \"userId\": 101555, \"precision\": 0.0, \"recall\": 0.0}, {\"count\": 1, \"cutoff\": 5, \"userId\": 101555, \"precision\": 0.0, \"recall\": 0.0}, {\"count\": 1, \"cutoff\": 6, \"userId\": 101555, \"precision\": 0.0, \"recall\": 0.0}, {\"count\": 1, \"cutoff\": 7, \"userId\": 101555, \"precision\": 0.0, \"recall\": 0.0}, {\"count\": 1, \"cutoff\": 8, \"userId\": 101555, \"precision\": 0.0, \"recall\": 0.0}, {\"count\": 1, \"cutoff\": 9, \"userId\": 101555, \"precision\": 0.0, \"recall\": 0.0}, {\"count\": 1, \"cutoff\": 10, \"userId\": 101555, \"precision\": 0.0, \"recall\": 0.0}, {\"count\": 1, \"cutoff\": 11, \"userId\": 101555, \"precision\": 0.0, \"recall\": 0.0}, {\"count\": 1, \"cutoff\": 16, \"userId\": 101555, \"precision\": 0.0, \"recall\": 0.0}, {\"count\": 1, \"cutoff\": 21, \"userId\": 101555, \"precision\": 0.0, \"recall\": 0.0}, {\"count\": 1, \"cutoff\": 26, \"userId\": 101555, \"precision\": 0.0, \"recall\": 0.0}, {\"count\": 1, \"cutoff\": 31, \"userId\": 101555, \"precision\": 0.0, \"recall\": 0.0}, {\"count\": 1, \"cutoff\": 36, \"userId\": 101555, \"precision\": 0.0, \"recall\": 0.0}, {\"count\": 1, \"cutoff\": 41, \"userId\": 101555, \"precision\": 0.0, \"recall\": 0.0}, {\"count\": 1, \"cutoff\": 46, \"userId\": 101555, \"precision\": 0.0, \"recall\": 0.0}, {\"count\": 2, \"cutoff\": 1, \"userId\": 105371, \"precision\": 0.0, \"recall\": 0.0}, {\"count\": 2, \"cutoff\": 2, \"userId\": 105371, \"precision\": 0.0, \"recall\": 0.0}, {\"count\": 2, \"cutoff\": 3, \"userId\": 105371, \"precision\": 0.0, \"recall\": 0.0}, {\"count\": 2, \"cutoff\": 4, \"userId\": 105371, \"precision\": 0.0, \"recall\": 0.0}, {\"count\": 2, \"cutoff\": 5, \"userId\": 105371, \"precision\": 0.0, \"recall\": 0.0}, {\"count\": 2, \"cutoff\": 6, \"userId\": 105371, \"precision\": 0.0, \"recall\": 0.0}, {\"count\": 2, \"cutoff\": 7, \"userId\": 105371, \"precision\": 0.0, \"recall\": 0.0}, {\"count\": 2, \"cutoff\": 8, \"userId\": 105371, \"precision\": 0.0, \"recall\": 0.0}, {\"count\": 2, \"cutoff\": 9, \"userId\": 105371, \"precision\": 0.0, \"recall\": 0.0}, {\"count\": 2, \"cutoff\": 10, \"userId\": 105371, \"precision\": 0.0, \"recall\": 0.0}, {\"count\": 2, \"cutoff\": 11, \"userId\": 105371, \"precision\": 0.0, \"recall\": 0.0}, {\"count\": 2, \"cutoff\": 16, \"userId\": 105371, \"precision\": 0.0, \"recall\": 0.0}, {\"count\": 2, \"cutoff\": 21, \"userId\": 105371, \"precision\": 0.0, \"recall\": 0.0}, {\"count\": 2, \"cutoff\": 26, \"userId\": 105371, \"precision\": 0.0, \"recall\": 0.0}, {\"count\": 2, \"cutoff\": 31, \"userId\": 105371, \"precision\": 0.0, \"recall\": 0.0}, {\"count\": 2, \"cutoff\": 36, \"userId\": 105371, \"precision\": 0.0, \"recall\": 0.0}, {\"count\": 2, \"cutoff\": 41, \"userId\": 105371, \"precision\": 0.0, \"recall\": 0.0}, {\"count\": 2, \"cutoff\": 46, \"userId\": 105371, \"precision\": 0.0, \"recall\": 0.0}, {\"count\": 9, \"cutoff\": 1, \"userId\": 115222, \"precision\": 0.0, \"recall\": 0.0}, {\"count\": 9, \"cutoff\": 2, \"userId\": 115222, \"precision\": 0.0, \"recall\": 0.0}, {\"count\": 9, \"cutoff\": 3, \"userId\": 115222, \"precision\": 0.0, \"recall\": 0.0}, {\"count\": 9, \"cutoff\": 4, \"userId\": 115222, \"precision\": 0.0, \"recall\": 0.0}, {\"count\": 9, \"cutoff\": 5, \"userId\": 115222, \"precision\": 0.2, \"recall\": 0.1111111111111111}, {\"count\": 9, \"cutoff\": 6, \"userId\": 115222, \"precision\": 0.16666666666666666, \"recall\": 0.1111111111111111}, {\"count\": 9, \"cutoff\": 7, \"userId\": 115222, \"precision\": 0.14285714285714285, \"recall\": 0.1111111111111111}, {\"count\": 9, \"cutoff\": 8, \"userId\": 115222, \"precision\": 0.125, \"recall\": 0.1111111111111111}, {\"count\": 9, \"cutoff\": 9, \"userId\": 115222, \"precision\": 0.1111111111111111, \"recall\": 0.1111111111111111}, {\"count\": 9, \"cutoff\": 10, \"userId\": 115222, \"precision\": 0.1, \"recall\": 0.1111111111111111}, {\"count\": 9, \"cutoff\": 11, \"userId\": 115222, \"precision\": 0.09090909090909091, \"recall\": 0.1111111111111111}, {\"count\": 9, \"cutoff\": 16, \"userId\": 115222, \"precision\": 0.0625, \"recall\": 0.1111111111111111}, {\"count\": 9, \"cutoff\": 21, \"userId\": 115222, \"precision\": 0.047619047619047616, \"recall\": 0.1111111111111111}, {\"count\": 9, \"cutoff\": 26, \"userId\": 115222, \"precision\": 0.038461538461538464, \"recall\": 0.1111111111111111}, {\"count\": 9, \"cutoff\": 31, \"userId\": 115222, \"precision\": 0.03225806451612903, \"recall\": 0.1111111111111111}, {\"count\": 9, \"cutoff\": 36, \"userId\": 115222, \"precision\": 0.027777777777777776, \"recall\": 0.1111111111111111}, {\"count\": 9, \"cutoff\": 41, \"userId\": 115222, \"precision\": 0.024390243902439025, \"recall\": 0.1111111111111111}, {\"count\": 9, \"cutoff\": 46, \"userId\": 115222, \"precision\": 0.021739130434782608, \"recall\": 0.1111111111111111}, {\"count\": 2, \"cutoff\": 1, \"userId\": 116303, \"precision\": 0.0, \"recall\": 0.0}, {\"count\": 2, \"cutoff\": 2, \"userId\": 116303, \"precision\": 0.0, \"recall\": 0.0}, {\"count\": 2, \"cutoff\": 3, \"userId\": 116303, \"precision\": 0.0, \"recall\": 0.0}, {\"count\": 2, \"cutoff\": 4, \"userId\": 116303, \"precision\": 0.0, \"recall\": 0.0}, {\"count\": 2, \"cutoff\": 5, \"userId\": 116303, \"precision\": 0.0, \"recall\": 0.0}, {\"count\": 2, \"cutoff\": 6, \"userId\": 116303, \"precision\": 0.0, \"recall\": 0.0}, {\"count\": 2, \"cutoff\": 7, \"userId\": 116303, \"precision\": 0.0, \"recall\": 0.0}, {\"count\": 2, \"cutoff\": 8, \"userId\": 116303, \"precision\": 0.0, \"recall\": 0.0}, {\"count\": 2, \"cutoff\": 9, \"userId\": 116303, \"precision\": 0.0, \"recall\": 0.0}, {\"count\": 2, \"cutoff\": 10, \"userId\": 116303, \"precision\": 0.0, \"recall\": 0.0}, {\"count\": 2, \"cutoff\": 11, \"userId\": 116303, \"precision\": 0.0, \"recall\": 0.0}, {\"count\": 2, \"cutoff\": 16, \"userId\": 116303, \"precision\": 0.0, \"recall\": 0.0}, {\"count\": 2, \"cutoff\": 21, \"userId\": 116303, \"precision\": 0.0, \"recall\": 0.0}, {\"count\": 2, \"cutoff\": 26, \"userId\": 116303, \"precision\": 0.0, \"recall\": 0.0}, {\"count\": 2, \"cutoff\": 31, \"userId\": 116303, \"precision\": 0.0, \"recall\": 0.0}, {\"count\": 2, \"cutoff\": 36, \"userId\": 116303, \"precision\": 0.0, \"recall\": 0.0}, {\"count\": 2, \"cutoff\": 41, \"userId\": 116303, \"precision\": 0.0, \"recall\": 0.0}, {\"count\": 2, \"cutoff\": 46, \"userId\": 116303, \"precision\": 0.0, \"recall\": 0.0}, {\"count\": 51, \"cutoff\": 1, \"userId\": 126994, \"precision\": 0.0, \"recall\": 0.0}, {\"count\": 51, \"cutoff\": 2, \"userId\": 126994, \"precision\": 0.0, \"recall\": 0.0}, {\"count\": 51, \"cutoff\": 3, \"userId\": 126994, \"precision\": 0.0, \"recall\": 0.0}, {\"count\": 51, \"cutoff\": 4, \"userId\": 126994, \"precision\": 0.0, \"recall\": 0.0}, {\"count\": 51, \"cutoff\": 5, \"userId\": 126994, \"precision\": 0.0, \"recall\": 0.0}, {\"count\": 51, \"cutoff\": 6, \"userId\": 126994, \"precision\": 0.0, \"recall\": 0.0}, {\"count\": 51, \"cutoff\": 7, \"userId\": 126994, \"precision\": 0.0, \"recall\": 0.0}, {\"count\": 51, \"cutoff\": 8, \"userId\": 126994, \"precision\": 0.0, \"recall\": 0.0}, {\"count\": 51, \"cutoff\": 9, \"userId\": 126994, \"precision\": 0.0, \"recall\": 0.0}, {\"count\": 51, \"cutoff\": 10, \"userId\": 126994, \"precision\": 0.0, \"recall\": 0.0}, {\"count\": 51, \"cutoff\": 11, \"userId\": 126994, \"precision\": 0.0, \"recall\": 0.0}, {\"count\": 51, \"cutoff\": 16, \"userId\": 126994, \"precision\": 0.0, \"recall\": 0.0}, {\"count\": 51, \"cutoff\": 21, \"userId\": 126994, \"precision\": 0.0, \"recall\": 0.0}, {\"count\": 51, \"cutoff\": 26, \"userId\": 126994, \"precision\": 0.0, \"recall\": 0.0}, {\"count\": 51, \"cutoff\": 31, \"userId\": 126994, \"precision\": 0.0, \"recall\": 0.0}, {\"count\": 51, \"cutoff\": 36, \"userId\": 126994, \"precision\": 0.0, \"recall\": 0.0}, {\"count\": 51, \"cutoff\": 41, \"userId\": 126994, \"precision\": 0.0, \"recall\": 0.0}, {\"count\": 51, \"cutoff\": 46, \"userId\": 126994, \"precision\": 0.0, \"recall\": 0.0}, {\"count\": 2, \"cutoff\": 1, \"userId\": 129008, \"precision\": 0.0, \"recall\": 0.0}, {\"count\": 2, \"cutoff\": 2, \"userId\": 129008, \"precision\": 0.0, \"recall\": 0.0}, {\"count\": 2, \"cutoff\": 3, \"userId\": 129008, \"precision\": 0.0, \"recall\": 0.0}, {\"count\": 2, \"cutoff\": 4, \"userId\": 129008, \"precision\": 0.0, \"recall\": 0.0}, {\"count\": 2, \"cutoff\": 5, \"userId\": 129008, \"precision\": 0.0, \"recall\": 0.0}, {\"count\": 2, \"cutoff\": 6, \"userId\": 129008, \"precision\": 0.0, \"recall\": 0.0}, {\"count\": 2, \"cutoff\": 7, \"userId\": 129008, \"precision\": 0.0, \"recall\": 0.0}, {\"count\": 2, \"cutoff\": 8, \"userId\": 129008, \"precision\": 0.0, \"recall\": 0.0}, {\"count\": 2, \"cutoff\": 9, \"userId\": 129008, \"precision\": 0.0, \"recall\": 0.0}, {\"count\": 2, \"cutoff\": 10, \"userId\": 129008, \"precision\": 0.0, \"recall\": 0.0}, {\"count\": 2, \"cutoff\": 11, \"userId\": 129008, \"precision\": 0.0, \"recall\": 0.0}, {\"count\": 2, \"cutoff\": 16, \"userId\": 129008, \"precision\": 0.0, \"recall\": 0.0}, {\"count\": 2, \"cutoff\": 21, \"userId\": 129008, \"precision\": 0.0, \"recall\": 0.0}, {\"count\": 2, \"cutoff\": 26, \"userId\": 129008, \"precision\": 0.0, \"recall\": 0.0}, {\"count\": 2, \"cutoff\": 31, \"userId\": 129008, \"precision\": 0.0, \"recall\": 0.0}, {\"count\": 2, \"cutoff\": 36, \"userId\": 129008, \"precision\": 0.0, \"recall\": 0.0}, {\"count\": 2, \"cutoff\": 41, \"userId\": 129008, \"precision\": 0.0, \"recall\": 0.0}, {\"count\": 2, \"cutoff\": 46, \"userId\": 129008, \"precision\": 0.0, \"recall\": 0.0}, {\"count\": 1, \"cutoff\": 1, \"userId\": 129354, \"precision\": 0.0, \"recall\": 0.0}, {\"count\": 1, \"cutoff\": 2, \"userId\": 129354, \"precision\": 0.0, \"recall\": 0.0}, {\"count\": 1, \"cutoff\": 3, \"userId\": 129354, \"precision\": 0.0, \"recall\": 0.0}, {\"count\": 1, \"cutoff\": 4, \"userId\": 129354, \"precision\": 0.0, \"recall\": 0.0}, {\"count\": 1, \"cutoff\": 5, \"userId\": 129354, \"precision\": 0.0, \"recall\": 0.0}, {\"count\": 1, \"cutoff\": 6, \"userId\": 129354, \"precision\": 0.0, \"recall\": 0.0}, {\"count\": 1, \"cutoff\": 7, \"userId\": 129354, \"precision\": 0.0, \"recall\": 0.0}, {\"count\": 1, \"cutoff\": 8, \"userId\": 129354, \"precision\": 0.0, \"recall\": 0.0}, {\"count\": 1, \"cutoff\": 9, \"userId\": 129354, \"precision\": 0.0, \"recall\": 0.0}, {\"count\": 1, \"cutoff\": 10, \"userId\": 129354, \"precision\": 0.0, \"recall\": 0.0}, {\"count\": 1, \"cutoff\": 11, \"userId\": 129354, \"precision\": 0.0, \"recall\": 0.0}, {\"count\": 1, \"cutoff\": 16, \"userId\": 129354, \"precision\": 0.0, \"recall\": 0.0}, {\"count\": 1, \"cutoff\": 21, \"userId\": 129354, \"precision\": 0.0, \"recall\": 0.0}, {\"count\": 1, \"cutoff\": 26, \"userId\": 129354, \"precision\": 0.0, \"recall\": 0.0}, {\"count\": 1, \"cutoff\": 31, \"userId\": 129354, \"precision\": 0.0, \"recall\": 0.0}, {\"count\": 1, \"cutoff\": 36, \"userId\": 129354, \"precision\": 0.0, \"recall\": 0.0}, {\"count\": 1, \"cutoff\": 41, \"userId\": 129354, \"precision\": 0.0, \"recall\": 0.0}, {\"count\": 1, \"cutoff\": 46, \"userId\": 129354, \"precision\": 0.0, \"recall\": 0.0}, {\"count\": 2, \"cutoff\": 1, \"userId\": 137105, \"precision\": 0.0, \"recall\": 0.0}, {\"count\": 2, \"cutoff\": 2, \"userId\": 137105, \"precision\": 0.0, \"recall\": 0.0}, {\"count\": 2, \"cutoff\": 3, \"userId\": 137105, \"precision\": 0.0, \"recall\": 0.0}, {\"count\": 2, \"cutoff\": 4, \"userId\": 137105, \"precision\": 0.0, \"recall\": 0.0}, {\"count\": 2, \"cutoff\": 5, \"userId\": 137105, \"precision\": 0.0, \"recall\": 0.0}, {\"count\": 2, \"cutoff\": 6, \"userId\": 137105, \"precision\": 0.0, \"recall\": 0.0}, {\"count\": 2, \"cutoff\": 7, \"userId\": 137105, \"precision\": 0.0, \"recall\": 0.0}, {\"count\": 2, \"cutoff\": 8, \"userId\": 137105, \"precision\": 0.0, \"recall\": 0.0}, {\"count\": 2, \"cutoff\": 9, \"userId\": 137105, \"precision\": 0.0, \"recall\": 0.0}, {\"count\": 2, \"cutoff\": 10, \"userId\": 137105, \"precision\": 0.0, \"recall\": 0.0}, {\"count\": 2, \"cutoff\": 11, \"userId\": 137105, \"precision\": 0.0, \"recall\": 0.0}, {\"count\": 2, \"cutoff\": 16, \"userId\": 137105, \"precision\": 0.0, \"recall\": 0.0}, {\"count\": 2, \"cutoff\": 21, \"userId\": 137105, \"precision\": 0.0, \"recall\": 0.0}, {\"count\": 2, \"cutoff\": 26, \"userId\": 137105, \"precision\": 0.0, \"recall\": 0.0}, {\"count\": 2, \"cutoff\": 31, \"userId\": 137105, \"precision\": 0.0, \"recall\": 0.0}, {\"count\": 2, \"cutoff\": 36, \"userId\": 137105, \"precision\": 0.0, \"recall\": 0.0}, {\"count\": 2, \"cutoff\": 41, \"userId\": 137105, \"precision\": 0.0, \"recall\": 0.0}, {\"count\": 2, \"cutoff\": 46, \"userId\": 137105, \"precision\": 0.0, \"recall\": 0.0}]}]]}, e);\n",
       "                });\n",
       "            })();\n",
       "        "
      ]
     },
     "metadata": {},
     "output_type": "display_data"
    }
   ],
   "source": [
    "gl.show_comparison(comparisonstruct,[item_item, rec1])"
   ]
  },
  {
   "cell_type": "markdown",
   "metadata": {},
   "source": [
    "## Parameters, Parameters\n",
    "There are so many parameters to search through here. It would be great if there as something we could do to change the parameters automatically and search through the best ones..."
   ]
  },
  {
   "cell_type": "code",
   "execution_count": 58,
   "metadata": {},
   "outputs": [
    {
     "name": "stderr",
     "output_type": "stream",
     "text": [
      "[INFO] graphlab.deploy.job: Validating job.\n",
      "[INFO] graphlab.deploy.map_job: Validation complete. Job: 'Model-Parameter-Search-Nov-22-2019-14-20-3900000' ready for execution\n",
      "[INFO] graphlab.deploy.map_job: Job: 'Model-Parameter-Search-Nov-22-2019-14-20-3900000' scheduled.\n",
      "[INFO] graphlab.deploy.job: Validating job.\n",
      "[INFO] graphlab.deploy.map_job: A job with name 'Model-Parameter-Search-Nov-22-2019-14-20-3900000' already exists. Renaming the job to 'Model-Parameter-Search-Nov-22-2019-14-20-3900000-9f50d'.\n",
      "[INFO] graphlab.deploy.map_job: Validation complete. Job: 'Model-Parameter-Search-Nov-22-2019-14-20-3900000-9f50d' ready for execution\n",
      "[INFO] graphlab.deploy.map_job: Job: 'Model-Parameter-Search-Nov-22-2019-14-20-3900000-9f50d' scheduled.\n"
     ]
    }
   ],
   "source": [
    "params = {'user_id': 'userId', \n",
    "          'item_id': 'title', \n",
    "          'target': 'rating',\n",
    "          'num_factors': [8, 12, 16, 24, 32], \n",
    "          'regularization':[0.001] ,\n",
    "          'linear_regularization': [0.001]}\n",
    "\n",
    "job = gl.model_parameter_search.create( (train,test),\n",
    "        gl.recommender.ranking_factorization_recommender.create,\n",
    "        params,\n",
    "        max_models=5,\n",
    "        environment=None)\n",
    "\n",
    "# also note thatthis evaluator also supports sklearn\n",
    "# https://dato.com/products/create/docs/generated/graphlab.toolkits.model_parameter_search.create.html?highlight=model_parameter_search"
   ]
  },
  {
   "cell_type": "code",
   "execution_count": 59,
   "metadata": {},
   "outputs": [
    {
     "data": {
      "text/plain": [
       "{'Canceled': 0, 'Completed': 0, 'Failed': 0, 'Pending': 0, 'Running': 5}"
      ]
     },
     "execution_count": 59,
     "metadata": {},
     "output_type": "execute_result"
    }
   ],
   "source": [
    "job.get_status()"
   ]
  },
  {
   "cell_type": "code",
   "execution_count": 60,
   "metadata": {},
   "outputs": [
    {
     "data": {
      "text/html": [
       "<div style=\"max-height:1000px;max-width:1500px;overflow:auto;\"><table frame=\"box\" rules=\"cols\">\n",
       "    <tr>\n",
       "        <th style=\"padding-left: 1em; padding-right: 1em; text-align: center\">model_id</th>\n",
       "        <th style=\"padding-left: 1em; padding-right: 1em; text-align: center\">item_id</th>\n",
       "        <th style=\"padding-left: 1em; padding-right: 1em; text-align: center\">linear_regularization</th>\n",
       "        <th style=\"padding-left: 1em; padding-right: 1em; text-align: center\">max_iterations</th>\n",
       "        <th style=\"padding-left: 1em; padding-right: 1em; text-align: center\">num_factors</th>\n",
       "        <th style=\"padding-left: 1em; padding-right: 1em; text-align: center\">num_sampled_negative_exam<br>ples ...</th>\n",
       "        <th style=\"padding-left: 1em; padding-right: 1em; text-align: center\">ranking_regularization</th>\n",
       "    </tr>\n",
       "    <tr>\n",
       "        <td style=\"padding-left: 1em; padding-right: 1em; text-align: center; vertical-align: top\">1</td>\n",
       "        <td style=\"padding-left: 1em; padding-right: 1em; text-align: center; vertical-align: top\">title</td>\n",
       "        <td style=\"padding-left: 1em; padding-right: 1em; text-align: center; vertical-align: top\">0.001</td>\n",
       "        <td style=\"padding-left: 1em; padding-right: 1em; text-align: center; vertical-align: top\">25</td>\n",
       "        <td style=\"padding-left: 1em; padding-right: 1em; text-align: center; vertical-align: top\">8</td>\n",
       "        <td style=\"padding-left: 1em; padding-right: 1em; text-align: center; vertical-align: top\">8</td>\n",
       "        <td style=\"padding-left: 1em; padding-right: 1em; text-align: center; vertical-align: top\">0.1</td>\n",
       "    </tr>\n",
       "    <tr>\n",
       "        <td style=\"padding-left: 1em; padding-right: 1em; text-align: center; vertical-align: top\">0</td>\n",
       "        <td style=\"padding-left: 1em; padding-right: 1em; text-align: center; vertical-align: top\">title</td>\n",
       "        <td style=\"padding-left: 1em; padding-right: 1em; text-align: center; vertical-align: top\">0.001</td>\n",
       "        <td style=\"padding-left: 1em; padding-right: 1em; text-align: center; vertical-align: top\">50</td>\n",
       "        <td style=\"padding-left: 1em; padding-right: 1em; text-align: center; vertical-align: top\">24</td>\n",
       "        <td style=\"padding-left: 1em; padding-right: 1em; text-align: center; vertical-align: top\">4</td>\n",
       "        <td style=\"padding-left: 1em; padding-right: 1em; text-align: center; vertical-align: top\">0.25</td>\n",
       "    </tr>\n",
       "    <tr>\n",
       "        <td style=\"padding-left: 1em; padding-right: 1em; text-align: center; vertical-align: top\">3</td>\n",
       "        <td style=\"padding-left: 1em; padding-right: 1em; text-align: center; vertical-align: top\">title</td>\n",
       "        <td style=\"padding-left: 1em; padding-right: 1em; text-align: center; vertical-align: top\">0.001</td>\n",
       "        <td style=\"padding-left: 1em; padding-right: 1em; text-align: center; vertical-align: top\">25</td>\n",
       "        <td style=\"padding-left: 1em; padding-right: 1em; text-align: center; vertical-align: top\">12</td>\n",
       "        <td style=\"padding-left: 1em; padding-right: 1em; text-align: center; vertical-align: top\">4</td>\n",
       "        <td style=\"padding-left: 1em; padding-right: 1em; text-align: center; vertical-align: top\">0.5</td>\n",
       "    </tr>\n",
       "    <tr>\n",
       "        <td style=\"padding-left: 1em; padding-right: 1em; text-align: center; vertical-align: top\">2</td>\n",
       "        <td style=\"padding-left: 1em; padding-right: 1em; text-align: center; vertical-align: top\">title</td>\n",
       "        <td style=\"padding-left: 1em; padding-right: 1em; text-align: center; vertical-align: top\">0.001</td>\n",
       "        <td style=\"padding-left: 1em; padding-right: 1em; text-align: center; vertical-align: top\">50</td>\n",
       "        <td style=\"padding-left: 1em; padding-right: 1em; text-align: center; vertical-align: top\">16</td>\n",
       "        <td style=\"padding-left: 1em; padding-right: 1em; text-align: center; vertical-align: top\">8</td>\n",
       "        <td style=\"padding-left: 1em; padding-right: 1em; text-align: center; vertical-align: top\">0.25</td>\n",
       "    </tr>\n",
       "    <tr>\n",
       "        <td style=\"padding-left: 1em; padding-right: 1em; text-align: center; vertical-align: top\">4</td>\n",
       "        <td style=\"padding-left: 1em; padding-right: 1em; text-align: center; vertical-align: top\">title</td>\n",
       "        <td style=\"padding-left: 1em; padding-right: 1em; text-align: center; vertical-align: top\">0.001</td>\n",
       "        <td style=\"padding-left: 1em; padding-right: 1em; text-align: center; vertical-align: top\">50</td>\n",
       "        <td style=\"padding-left: 1em; padding-right: 1em; text-align: center; vertical-align: top\">24</td>\n",
       "        <td style=\"padding-left: 1em; padding-right: 1em; text-align: center; vertical-align: top\">4</td>\n",
       "        <td style=\"padding-left: 1em; padding-right: 1em; text-align: center; vertical-align: top\">0.25</td>\n",
       "    </tr>\n",
       "</table>\n",
       "<table frame=\"box\" rules=\"cols\">\n",
       "    <tr>\n",
       "        <th style=\"padding-left: 1em; padding-right: 1em; text-align: center\">regularization</th>\n",
       "        <th style=\"padding-left: 1em; padding-right: 1em; text-align: center\">target</th>\n",
       "        <th style=\"padding-left: 1em; padding-right: 1em; text-align: center\">user_id</th>\n",
       "        <th style=\"padding-left: 1em; padding-right: 1em; text-align: center\">training_precision@5</th>\n",
       "        <th style=\"padding-left: 1em; padding-right: 1em; text-align: center\">training_recall@5</th>\n",
       "        <th style=\"padding-left: 1em; padding-right: 1em; text-align: center\">training_rmse</th>\n",
       "        <th style=\"padding-left: 1em; padding-right: 1em; text-align: center\">validation_precision@5</th>\n",
       "    </tr>\n",
       "    <tr>\n",
       "        <td style=\"padding-left: 1em; padding-right: 1em; text-align: center; vertical-align: top\">0.001</td>\n",
       "        <td style=\"padding-left: 1em; padding-right: 1em; text-align: center; vertical-align: top\">rating</td>\n",
       "        <td style=\"padding-left: 1em; padding-right: 1em; text-align: center; vertical-align: top\">userId</td>\n",
       "        <td style=\"padding-left: 1em; padding-right: 1em; text-align: center; vertical-align: top\">0.042745317305</td>\n",
       "        <td style=\"padding-left: 1em; padding-right: 1em; text-align: center; vertical-align: top\">0.0123885086943</td>\n",
       "        <td style=\"padding-left: 1em; padding-right: 1em; text-align: center; vertical-align: top\">0.89921999937</td>\n",
       "        <td style=\"padding-left: 1em; padding-right: 1em; text-align: center; vertical-align: top\">0.0</td>\n",
       "    </tr>\n",
       "    <tr>\n",
       "        <td style=\"padding-left: 1em; padding-right: 1em; text-align: center; vertical-align: top\">0.001</td>\n",
       "        <td style=\"padding-left: 1em; padding-right: 1em; text-align: center; vertical-align: top\">rating</td>\n",
       "        <td style=\"padding-left: 1em; padding-right: 1em; text-align: center; vertical-align: top\">userId</td>\n",
       "        <td style=\"padding-left: 1em; padding-right: 1em; text-align: center; vertical-align: top\">0.0309197651663</td>\n",
       "        <td style=\"padding-left: 1em; padding-right: 1em; text-align: center; vertical-align: top\">0.00621858291145</td>\n",
       "        <td style=\"padding-left: 1em; padding-right: 1em; text-align: center; vertical-align: top\">0.906290583199</td>\n",
       "        <td style=\"padding-left: 1em; padding-right: 1em; text-align: center; vertical-align: top\">0.00350877192982</td>\n",
       "    </tr>\n",
       "    <tr>\n",
       "        <td style=\"padding-left: 1em; padding-right: 1em; text-align: center; vertical-align: top\">0.001</td>\n",
       "        <td style=\"padding-left: 1em; padding-right: 1em; text-align: center; vertical-align: top\">rating</td>\n",
       "        <td style=\"padding-left: 1em; padding-right: 1em; text-align: center; vertical-align: top\">userId</td>\n",
       "        <td style=\"padding-left: 1em; padding-right: 1em; text-align: center; vertical-align: top\">0.0449818283478</td>\n",
       "        <td style=\"padding-left: 1em; padding-right: 1em; text-align: center; vertical-align: top\">0.0133504122104</td>\n",
       "        <td style=\"padding-left: 1em; padding-right: 1em; text-align: center; vertical-align: top\">1.02488822857</td>\n",
       "        <td style=\"padding-left: 1em; padding-right: 1em; text-align: center; vertical-align: top\">0.0105263157895</td>\n",
       "    </tr>\n",
       "    <tr>\n",
       "        <td style=\"padding-left: 1em; padding-right: 1em; text-align: center; vertical-align: top\">0.001</td>\n",
       "        <td style=\"padding-left: 1em; padding-right: 1em; text-align: center; vertical-align: top\">rating</td>\n",
       "        <td style=\"padding-left: 1em; padding-right: 1em; text-align: center; vertical-align: top\">userId</td>\n",
       "        <td style=\"padding-left: 1em; padding-right: 1em; text-align: center; vertical-align: top\">0.03228962818</td>\n",
       "        <td style=\"padding-left: 1em; padding-right: 1em; text-align: center; vertical-align: top\">0.00555438594769</td>\n",
       "        <td style=\"padding-left: 1em; padding-right: 1em; text-align: center; vertical-align: top\">0.92364646176</td>\n",
       "        <td style=\"padding-left: 1em; padding-right: 1em; text-align: center; vertical-align: top\">0.00350877192982</td>\n",
       "    </tr>\n",
       "    <tr>\n",
       "        <td style=\"padding-left: 1em; padding-right: 1em; text-align: center; vertical-align: top\">0.001</td>\n",
       "        <td style=\"padding-left: 1em; padding-right: 1em; text-align: center; vertical-align: top\">rating</td>\n",
       "        <td style=\"padding-left: 1em; padding-right: 1em; text-align: center; vertical-align: top\">userId</td>\n",
       "        <td style=\"padding-left: 1em; padding-right: 1em; text-align: center; vertical-align: top\">0.0312552418228</td>\n",
       "        <td style=\"padding-left: 1em; padding-right: 1em; text-align: center; vertical-align: top\">0.00516264770599</td>\n",
       "        <td style=\"padding-left: 1em; padding-right: 1em; text-align: center; vertical-align: top\">0.924637942223</td>\n",
       "        <td style=\"padding-left: 1em; padding-right: 1em; text-align: center; vertical-align: top\">0.00350877192982</td>\n",
       "    </tr>\n",
       "</table>\n",
       "<table frame=\"box\" rules=\"cols\">\n",
       "    <tr>\n",
       "        <th style=\"padding-left: 1em; padding-right: 1em; text-align: center\">validation_recall@5</th>\n",
       "        <th style=\"padding-left: 1em; padding-right: 1em; text-align: center\">validation_rmse</th>\n",
       "    </tr>\n",
       "    <tr>\n",
       "        <td style=\"padding-left: 1em; padding-right: 1em; text-align: center; vertical-align: top\">0.0</td>\n",
       "        <td style=\"padding-left: 1em; padding-right: 1em; text-align: center; vertical-align: top\">0.953238900787</td>\n",
       "    </tr>\n",
       "    <tr>\n",
       "        <td style=\"padding-left: 1em; padding-right: 1em; text-align: center; vertical-align: top\">0.000109649122807</td>\n",
       "        <td style=\"padding-left: 1em; padding-right: 1em; text-align: center; vertical-align: top\">0.985033867955</td>\n",
       "    </tr>\n",
       "    <tr>\n",
       "        <td style=\"padding-left: 1em; padding-right: 1em; text-align: center; vertical-align: top\">0.0136452241715</td>\n",
       "        <td style=\"padding-left: 1em; padding-right: 1em; text-align: center; vertical-align: top\">1.0798191985</td>\n",
       "    </tr>\n",
       "    <tr>\n",
       "        <td style=\"padding-left: 1em; padding-right: 1em; text-align: center; vertical-align: top\">0.000109649122807</td>\n",
       "        <td style=\"padding-left: 1em; padding-right: 1em; text-align: center; vertical-align: top\">1.0001824643</td>\n",
       "    </tr>\n",
       "    <tr>\n",
       "        <td style=\"padding-left: 1em; padding-right: 1em; text-align: center; vertical-align: top\">0.000109649122807</td>\n",
       "        <td style=\"padding-left: 1em; padding-right: 1em; text-align: center; vertical-align: top\">1.00431301201</td>\n",
       "    </tr>\n",
       "</table>\n",
       "[5 rows x 16 columns]<br/>\n",
       "</div>"
      ],
      "text/plain": [
       "Columns:\n",
       "\tmodel_id\tint\n",
       "\titem_id\tstr\n",
       "\tlinear_regularization\tfloat\n",
       "\tmax_iterations\tint\n",
       "\tnum_factors\tint\n",
       "\tnum_sampled_negative_examples\tint\n",
       "\tranking_regularization\tfloat\n",
       "\tregularization\tfloat\n",
       "\ttarget\tstr\n",
       "\tuser_id\tstr\n",
       "\ttraining_precision@5\tfloat\n",
       "\ttraining_recall@5\tfloat\n",
       "\ttraining_rmse\tfloat\n",
       "\tvalidation_precision@5\tfloat\n",
       "\tvalidation_recall@5\tfloat\n",
       "\tvalidation_rmse\tfloat\n",
       "\n",
       "Rows: 5\n",
       "\n",
       "Data:\n",
       "+----------+---------+-----------------------+----------------+-------------+-------------------------------+\n",
       "| model_id | item_id | linear_regularization | max_iterations | num_factors | num_sampled_negative_examples |\n",
       "+----------+---------+-----------------------+----------------+-------------+-------------------------------+\n",
       "|    1     |  title  |         0.001         |       25       |      8      |               8               |\n",
       "|    0     |  title  |         0.001         |       50       |      24     |               4               |\n",
       "|    3     |  title  |         0.001         |       25       |      12     |               4               |\n",
       "|    2     |  title  |         0.001         |       50       |      16     |               8               |\n",
       "|    4     |  title  |         0.001         |       50       |      24     |               4               |\n",
       "+----------+---------+-----------------------+----------------+-------------+-------------------------------+\n",
       "+------------------------+----------------+--------+---------+----------------------+\n",
       "| ranking_regularization | regularization | target | user_id | training_precision@5 |\n",
       "+------------------------+----------------+--------+---------+----------------------+\n",
       "|          0.1           |     0.001      | rating |  userId |    0.042745317305    |\n",
       "|          0.25          |     0.001      | rating |  userId |   0.0309197651663    |\n",
       "|          0.5           |     0.001      | rating |  userId |   0.0449818283478    |\n",
       "|          0.25          |     0.001      | rating |  userId |    0.03228962818     |\n",
       "|          0.25          |     0.001      | rating |  userId |   0.0312552418228    |\n",
       "+------------------------+----------------+--------+---------+----------------------+\n",
       "+-------------------+----------------+------------------------+\n",
       "| training_recall@5 | training_rmse  | validation_precision@5 |\n",
       "+-------------------+----------------+------------------------+\n",
       "|  0.0123885086943  | 0.89921999937  |          0.0           |\n",
       "|  0.00621858291145 | 0.906290583199 |    0.00350877192982    |\n",
       "|  0.0133504122104  | 1.02488822857  |    0.0105263157895     |\n",
       "|  0.00555438594769 | 0.92364646176  |    0.00350877192982    |\n",
       "|  0.00516264770599 | 0.924637942223 |    0.00350877192982    |\n",
       "+-------------------+----------------+------------------------+\n",
       "+---------------------+-----------------+\n",
       "| validation_recall@5 | validation_rmse |\n",
       "+---------------------+-----------------+\n",
       "|         0.0         |  0.953238900787 |\n",
       "|  0.000109649122807  |  0.985033867955 |\n",
       "|   0.0136452241715   |   1.0798191985  |\n",
       "|  0.000109649122807  |   1.0001824643  |\n",
       "|  0.000109649122807  |  1.00431301201  |\n",
       "+---------------------+-----------------+\n",
       "[5 rows x 16 columns]"
      ]
     },
     "execution_count": 60,
     "metadata": {},
     "output_type": "execute_result"
    }
   ],
   "source": [
    "job_result = job.get_results()\n",
    "\n",
    "job_result.head()"
   ]
  },
  {
   "cell_type": "code",
   "execution_count": 61,
   "metadata": {},
   "outputs": [
    {
     "data": {
      "text/plain": [
       "{'item_id': 'title',\n",
       " 'linear_regularization': 0.001,\n",
       " 'max_iterations': 25,\n",
       " 'num_factors': 8,\n",
       " 'num_sampled_negative_examples': 8,\n",
       " 'ranking_regularization': 0.1,\n",
       " 'regularization': 0.001,\n",
       " 'target': 'rating',\n",
       " 'user_id': 'userId'}"
      ]
     },
     "execution_count": 61,
     "metadata": {},
     "output_type": "execute_result"
    }
   ],
   "source": [
    "bst_prms = job.get_best_params()\n",
    "bst_prms"
   ]
  },
  {
   "cell_type": "code",
   "execution_count": 62,
   "metadata": {},
   "outputs": [
    {
     "data": {
      "text/plain": [
       "[Class                            : RankingFactorizationRecommender\n",
       " \n",
       " Schema\n",
       " ------\n",
       " User ID                          : userId\n",
       " Item ID                          : title\n",
       " Target                           : rating\n",
       " Additional observation features  : 23\n",
       " User side features               : []\n",
       " Item side features               : []\n",
       " \n",
       " Statistics\n",
       " ----------\n",
       " Number of observations           : 390671\n",
       " Number of users                  : 7154\n",
       " Number of items                  : 13387\n",
       " \n",
       " Training summary\n",
       " ----------------\n",
       " Training time                    : 83.9016\n",
       " \n",
       " Model Parameters\n",
       " ----------------\n",
       " Model class                      : RankingFactorizationRecommender\n",
       " num_factors                      : 24\n",
       " binary_target                    : 0\n",
       " side_data_factorization          : 1\n",
       " solver                           : auto\n",
       " nmf                              : 0\n",
       " max_iterations                   : 50\n",
       " \n",
       " Regularization Settings\n",
       " -----------------------\n",
       " regularization                   : 0.001\n",
       " regularization_type              : normal\n",
       " linear_regularization            : 0.001\n",
       " ranking_regularization           : 0.25\n",
       " unobserved_rating_value          : -1.79769313486e+308\n",
       " num_sampled_negative_examples    : 4\n",
       " ials_confidence_scaling_type     : auto\n",
       " ials_confidence_scaling_factor   : 1\n",
       " \n",
       " Optimization Settings\n",
       " ---------------------\n",
       " init_random_sigma                : 0.01\n",
       " sgd_convergence_interval         : 4\n",
       " sgd_convergence_threshold        : 0.0\n",
       " sgd_max_trial_iterations         : 5\n",
       " sgd_sampling_block_size          : 131072\n",
       " sgd_step_adjustment_interval     : 4\n",
       " sgd_step_size                    : 0.0\n",
       " sgd_trial_sample_minimum_size    : 10000\n",
       " sgd_trial_sample_proportion      : 0.125\n",
       " step_size_decrease_rate          : 0.75\n",
       " additional_iterations_if_unhealthy : 5\n",
       " adagrad_momentum_weighting       : 0.9\n",
       " num_tempering_iterations         : 4\n",
       " tempering_regularization_start_value : 0.0\n",
       " track_exact_loss                 : 0,\n",
       " Class                            : RankingFactorizationRecommender\n",
       " \n",
       " Schema\n",
       " ------\n",
       " User ID                          : userId\n",
       " Item ID                          : title\n",
       " Target                           : rating\n",
       " Additional observation features  : 23\n",
       " User side features               : []\n",
       " Item side features               : []\n",
       " \n",
       " Statistics\n",
       " ----------\n",
       " Number of observations           : 390671\n",
       " Number of users                  : 7154\n",
       " Number of items                  : 13387\n",
       " \n",
       " Training summary\n",
       " ----------------\n",
       " Training time                    : 27.4157\n",
       " \n",
       " Model Parameters\n",
       " ----------------\n",
       " Model class                      : RankingFactorizationRecommender\n",
       " num_factors                      : 8\n",
       " binary_target                    : 0\n",
       " side_data_factorization          : 1\n",
       " solver                           : auto\n",
       " nmf                              : 0\n",
       " max_iterations                   : 25\n",
       " \n",
       " Regularization Settings\n",
       " -----------------------\n",
       " regularization                   : 0.001\n",
       " regularization_type              : normal\n",
       " linear_regularization            : 0.001\n",
       " ranking_regularization           : 0.1\n",
       " unobserved_rating_value          : -1.79769313486e+308\n",
       " num_sampled_negative_examples    : 8\n",
       " ials_confidence_scaling_type     : auto\n",
       " ials_confidence_scaling_factor   : 1\n",
       " \n",
       " Optimization Settings\n",
       " ---------------------\n",
       " init_random_sigma                : 0.01\n",
       " sgd_convergence_interval         : 4\n",
       " sgd_convergence_threshold        : 0.0\n",
       " sgd_max_trial_iterations         : 5\n",
       " sgd_sampling_block_size          : 131072\n",
       " sgd_step_adjustment_interval     : 4\n",
       " sgd_step_size                    : 0.0\n",
       " sgd_trial_sample_minimum_size    : 10000\n",
       " sgd_trial_sample_proportion      : 0.125\n",
       " step_size_decrease_rate          : 0.75\n",
       " additional_iterations_if_unhealthy : 5\n",
       " adagrad_momentum_weighting       : 0.9\n",
       " num_tempering_iterations         : 4\n",
       " tempering_regularization_start_value : 0.0\n",
       " track_exact_loss                 : 0,\n",
       " Class                            : RankingFactorizationRecommender\n",
       " \n",
       " Schema\n",
       " ------\n",
       " User ID                          : userId\n",
       " Item ID                          : title\n",
       " Target                           : rating\n",
       " Additional observation features  : 23\n",
       " User side features               : []\n",
       " Item side features               : []\n",
       " \n",
       " Statistics\n",
       " ----------\n",
       " Number of observations           : 390671\n",
       " Number of users                  : 7154\n",
       " Number of items                  : 13387\n",
       " \n",
       " Training summary\n",
       " ----------------\n",
       " Training time                    : 83.4677\n",
       " \n",
       " Model Parameters\n",
       " ----------------\n",
       " Model class                      : RankingFactorizationRecommender\n",
       " num_factors                      : 16\n",
       " binary_target                    : 0\n",
       " side_data_factorization          : 1\n",
       " solver                           : auto\n",
       " nmf                              : 0\n",
       " max_iterations                   : 50\n",
       " \n",
       " Regularization Settings\n",
       " -----------------------\n",
       " regularization                   : 0.001\n",
       " regularization_type              : normal\n",
       " linear_regularization            : 0.001\n",
       " ranking_regularization           : 0.25\n",
       " unobserved_rating_value          : -1.79769313486e+308\n",
       " num_sampled_negative_examples    : 8\n",
       " ials_confidence_scaling_type     : auto\n",
       " ials_confidence_scaling_factor   : 1\n",
       " \n",
       " Optimization Settings\n",
       " ---------------------\n",
       " init_random_sigma                : 0.01\n",
       " sgd_convergence_interval         : 4\n",
       " sgd_convergence_threshold        : 0.0\n",
       " sgd_max_trial_iterations         : 5\n",
       " sgd_sampling_block_size          : 131072\n",
       " sgd_step_adjustment_interval     : 4\n",
       " sgd_step_size                    : 0.0\n",
       " sgd_trial_sample_minimum_size    : 10000\n",
       " sgd_trial_sample_proportion      : 0.125\n",
       " step_size_decrease_rate          : 0.75\n",
       " additional_iterations_if_unhealthy : 5\n",
       " adagrad_momentum_weighting       : 0.9\n",
       " num_tempering_iterations         : 4\n",
       " tempering_regularization_start_value : 0.0\n",
       " track_exact_loss                 : 0,\n",
       " Class                            : RankingFactorizationRecommender\n",
       " \n",
       " Schema\n",
       " ------\n",
       " User ID                          : userId\n",
       " Item ID                          : title\n",
       " Target                           : rating\n",
       " Additional observation features  : 23\n",
       " User side features               : []\n",
       " Item side features               : []\n",
       " \n",
       " Statistics\n",
       " ----------\n",
       " Number of observations           : 390671\n",
       " Number of users                  : 7154\n",
       " Number of items                  : 13387\n",
       " \n",
       " Training summary\n",
       " ----------------\n",
       " Training time                    : 33.5594\n",
       " \n",
       " Model Parameters\n",
       " ----------------\n",
       " Model class                      : RankingFactorizationRecommender\n",
       " num_factors                      : 12\n",
       " binary_target                    : 0\n",
       " side_data_factorization          : 1\n",
       " solver                           : auto\n",
       " nmf                              : 0\n",
       " max_iterations                   : 25\n",
       " \n",
       " Regularization Settings\n",
       " -----------------------\n",
       " regularization                   : 0.001\n",
       " regularization_type              : normal\n",
       " linear_regularization            : 0.001\n",
       " ranking_regularization           : 0.5\n",
       " unobserved_rating_value          : -1.79769313486e+308\n",
       " num_sampled_negative_examples    : 4\n",
       " ials_confidence_scaling_type     : auto\n",
       " ials_confidence_scaling_factor   : 1\n",
       " \n",
       " Optimization Settings\n",
       " ---------------------\n",
       " init_random_sigma                : 0.01\n",
       " sgd_convergence_interval         : 4\n",
       " sgd_convergence_threshold        : 0.0\n",
       " sgd_max_trial_iterations         : 5\n",
       " sgd_sampling_block_size          : 131072\n",
       " sgd_step_adjustment_interval     : 4\n",
       " sgd_step_size                    : 0.0\n",
       " sgd_trial_sample_minimum_size    : 10000\n",
       " sgd_trial_sample_proportion      : 0.125\n",
       " step_size_decrease_rate          : 0.75\n",
       " additional_iterations_if_unhealthy : 5\n",
       " adagrad_momentum_weighting       : 0.9\n",
       " num_tempering_iterations         : 4\n",
       " tempering_regularization_start_value : 0.0\n",
       " track_exact_loss                 : 0,\n",
       " Class                            : RankingFactorizationRecommender\n",
       " \n",
       " Schema\n",
       " ------\n",
       " User ID                          : userId\n",
       " Item ID                          : title\n",
       " Target                           : rating\n",
       " Additional observation features  : 23\n",
       " User side features               : []\n",
       " Item side features               : []\n",
       " \n",
       " Statistics\n",
       " ----------\n",
       " Number of observations           : 390671\n",
       " Number of users                  : 7154\n",
       " Number of items                  : 13387\n",
       " \n",
       " Training summary\n",
       " ----------------\n",
       " Training time                    : 82.4606\n",
       " \n",
       " Model Parameters\n",
       " ----------------\n",
       " Model class                      : RankingFactorizationRecommender\n",
       " num_factors                      : 24\n",
       " binary_target                    : 0\n",
       " side_data_factorization          : 1\n",
       " solver                           : auto\n",
       " nmf                              : 0\n",
       " max_iterations                   : 50\n",
       " \n",
       " Regularization Settings\n",
       " -----------------------\n",
       " regularization                   : 0.001\n",
       " regularization_type              : normal\n",
       " linear_regularization            : 0.001\n",
       " ranking_regularization           : 0.25\n",
       " unobserved_rating_value          : -1.79769313486e+308\n",
       " num_sampled_negative_examples    : 4\n",
       " ials_confidence_scaling_type     : auto\n",
       " ials_confidence_scaling_factor   : 1\n",
       " \n",
       " Optimization Settings\n",
       " ---------------------\n",
       " init_random_sigma                : 0.01\n",
       " sgd_convergence_interval         : 4\n",
       " sgd_convergence_threshold        : 0.0\n",
       " sgd_max_trial_iterations         : 5\n",
       " sgd_sampling_block_size          : 131072\n",
       " sgd_step_adjustment_interval     : 4\n",
       " sgd_step_size                    : 0.0\n",
       " sgd_trial_sample_minimum_size    : 10000\n",
       " sgd_trial_sample_proportion      : 0.125\n",
       " step_size_decrease_rate          : 0.75\n",
       " additional_iterations_if_unhealthy : 5\n",
       " adagrad_momentum_weighting       : 0.9\n",
       " num_tempering_iterations         : 4\n",
       " tempering_regularization_start_value : 0.0\n",
       " track_exact_loss                 : 0]"
      ]
     },
     "execution_count": 62,
     "metadata": {},
     "output_type": "execute_result"
    }
   ],
   "source": [
    "models = job.get_models()\n",
    "models"
   ]
  },
  {
   "cell_type": "code",
   "execution_count": 63,
   "metadata": {},
   "outputs": [
    {
     "name": "stdout",
     "output_type": "stream",
     "text": [
      "PROGRESS: Evaluate model M0\n",
      "\n",
      "Precision and recall summary statistics by cutoff\n",
      "+--------+------------------+-------------------+\n",
      "| cutoff |  mean_precision  |    mean_recall    |\n",
      "+--------+------------------+-------------------+\n",
      "|   1    |       0.0        |        0.0        |\n",
      "|   2    |       0.0        |        0.0        |\n",
      "|   3    |       0.0        |        0.0        |\n",
      "|   4    | 0.00438596491228 | 0.000109649122807 |\n",
      "|   5    | 0.00350877192982 | 0.000109649122807 |\n",
      "|   6    | 0.00292397660819 | 0.000109649122807 |\n",
      "|   7    | 0.00250626566416 | 0.000109649122807 |\n",
      "|   8    | 0.00219298245614 | 0.000109649122807 |\n",
      "|   9    | 0.00194931773879 | 0.000109649122807 |\n",
      "|   10   | 0.00175438596491 | 0.000109649122807 |\n",
      "+--------+------------------+-------------------+\n",
      "[10 rows x 3 columns]\n",
      "\n",
      "PROGRESS: Evaluate model M1\n",
      "\n",
      "Precision and recall summary statistics by cutoff\n",
      "+--------+------------------+------------------+\n",
      "| cutoff |  mean_precision  |   mean_recall    |\n",
      "+--------+------------------+------------------+\n",
      "|   1    |       0.0        |       0.0        |\n",
      "|   2    |       0.0        |       0.0        |\n",
      "|   3    |       0.0        |       0.0        |\n",
      "|   4    |       0.0        |       0.0        |\n",
      "|   5    |       0.0        |       0.0        |\n",
      "|   6    | 0.00584795321637 | 0.00303362573099 |\n",
      "|   7    | 0.00501253132832 | 0.00303362573099 |\n",
      "|   8    | 0.00438596491228 | 0.00303362573099 |\n",
      "|   9    | 0.00389863547758 | 0.00303362573099 |\n",
      "|   10   | 0.00350877192982 | 0.00303362573099 |\n",
      "+--------+------------------+------------------+\n",
      "[10 rows x 3 columns]\n",
      "\n",
      "PROGRESS: Evaluate model M2\n",
      "\n",
      "Precision and recall summary statistics by cutoff\n",
      "+--------+------------------+-------------------+\n",
      "| cutoff |  mean_precision  |    mean_recall    |\n",
      "+--------+------------------+-------------------+\n",
      "|   1    |       0.0        |        0.0        |\n",
      "|   2    |       0.0        |        0.0        |\n",
      "|   3    |       0.0        |        0.0        |\n",
      "|   4    |       0.0        |        0.0        |\n",
      "|   5    | 0.00350877192982 | 0.000109649122807 |\n",
      "|   6    | 0.00292397660819 | 0.000109649122807 |\n",
      "|   7    | 0.00250626566416 | 0.000109649122807 |\n",
      "|   8    | 0.00219298245614 | 0.000109649122807 |\n",
      "|   9    | 0.00194931773879 | 0.000109649122807 |\n",
      "|   10   | 0.00175438596491 | 0.000109649122807 |\n",
      "+--------+------------------+-------------------+\n",
      "[10 rows x 3 columns]\n",
      "\n",
      "PROGRESS: Evaluate model M3\n",
      "\n",
      "Precision and recall summary statistics by cutoff\n",
      "+--------+------------------+------------------+\n",
      "| cutoff |  mean_precision  |   mean_recall    |\n",
      "+--------+------------------+------------------+\n",
      "|   1    | 0.0350877192982  | 0.00779727095517 |\n",
      "|   2    | 0.0175438596491  | 0.00779727095517 |\n",
      "|   3    | 0.0116959064327  | 0.00779727095517 |\n",
      "|   4    | 0.00877192982456 | 0.00779727095517 |\n",
      "|   5    | 0.0105263157895  | 0.0136452241715  |\n",
      "|   6    | 0.00877192982456 | 0.0136452241715  |\n",
      "|   7    | 0.00751879699248 | 0.0136452241715  |\n",
      "|   8    | 0.00657894736842 | 0.0136452241715  |\n",
      "|   9    | 0.00584795321637 | 0.0136452241715  |\n",
      "|   10   | 0.00701754385965 | 0.0137548732943  |\n",
      "+--------+------------------+------------------+\n",
      "[10 rows x 3 columns]\n",
      "\n",
      "PROGRESS: Evaluate model M4\n",
      "\n",
      "Precision and recall summary statistics by cutoff\n",
      "+--------+------------------+-------------------+\n",
      "| cutoff |  mean_precision  |    mean_recall    |\n",
      "+--------+------------------+-------------------+\n",
      "|   1    |       0.0        |        0.0        |\n",
      "|   2    |       0.0        |        0.0        |\n",
      "|   3    | 0.00584795321637 | 0.000109649122807 |\n",
      "|   4    | 0.00438596491228 | 0.000109649122807 |\n",
      "|   5    | 0.00350877192982 | 0.000109649122807 |\n",
      "|   6    | 0.00292397660819 | 0.000109649122807 |\n",
      "|   7    | 0.00250626566416 | 0.000109649122807 |\n",
      "|   8    | 0.00219298245614 | 0.000109649122807 |\n",
      "|   9    | 0.00194931773879 | 0.000109649122807 |\n",
      "|   10   | 0.00175438596491 | 0.000109649122807 |\n",
      "+--------+------------------+-------------------+\n",
      "[10 rows x 3 columns]\n",
      "\n",
      "Model compare metric: precision_recall\n"
     ]
    },
    {
     "data": {
      "application/javascript": [
       "$(\"head\").append($(\"<link/>\").attr({\n",
       "  rel:  \"stylesheet\",\n",
       "  type: \"text/css\",\n",
       "  href: \"//cdnjs.cloudflare.com/ajax/libs/font-awesome/4.1.0/css/font-awesome.min.css\"\n",
       "}));\n",
       "$(\"head\").append($(\"<link/>\").attr({\n",
       "  rel:  \"stylesheet\",\n",
       "  type: \"text/css\",\n",
       "  href: \"https://static.turi.com/products/graphlab-create/2.1/canvas/css/canvas.css\"\n",
       "}));\n",
       "\n",
       "            (function(){\n",
       "\n",
       "                var e = null;\n",
       "                if (typeof element == 'undefined') {\n",
       "                    var scripts = document.getElementsByTagName('script');\n",
       "                    var thisScriptTag = scripts[scripts.length-1];\n",
       "                    var parentDiv = thisScriptTag.parentNode;\n",
       "                    e = document.createElement('div');\n",
       "                    parentDiv.appendChild(e);\n",
       "                } else {\n",
       "                    e = element[0];\n",
       "                }\n",
       "\n",
       "                if (typeof requirejs !== 'undefined') {\n",
       "                    // disable load timeout; ipython_app.js is large and can take a while to load.\n",
       "                    requirejs.config({waitSeconds: 0});\n",
       "                }\n",
       "\n",
       "                require(['https://static.turi.com/products/graphlab-create/2.1/canvas/js/ipython_app.js'], function(IPythonApp){\n",
       "                    var app = new IPythonApp();\n",
       "                    app.attachView('model','Comparison', {\"comparison\": {\"dataset_label\": \"test\", \"evaluations\": {\"Model_1\": {\"precision_recall\": [{\"cutoff\": 1, \"precision\": 0.0, \"recall\": 0.0}, {\"cutoff\": 2, \"precision\": 0.0, \"recall\": 0.0}, {\"cutoff\": 3, \"precision\": 0.0, \"recall\": 0.0}, {\"cutoff\": 4, \"precision\": 0.0, \"recall\": 0.0}, {\"cutoff\": 5, \"precision\": 0.0, \"recall\": 0.0}, {\"cutoff\": 6, \"precision\": 0.005847953216374269, \"recall\": 0.0030336257309941514}, {\"cutoff\": 7, \"precision\": 0.005012531328320803, \"recall\": 0.0030336257309941514}, {\"cutoff\": 8, \"precision\": 0.004385964912280702, \"recall\": 0.0030336257309941514}, {\"cutoff\": 9, \"precision\": 0.003898635477582845, \"recall\": 0.0030336257309941514}, {\"cutoff\": 10, \"precision\": 0.003508771929824561, \"recall\": 0.0030336257309941522}, {\"cutoff\": 11, \"precision\": 0.003189792663476874, \"recall\": 0.0030336257309941522}, {\"cutoff\": 16, \"precision\": 0.0032894736842105274, \"recall\": 0.004982943469785576}, {\"cutoff\": 21, \"precision\": 0.0041771094402673365, \"recall\": 0.011346892558192864}, {\"cutoff\": 26, \"precision\": 0.0033738191632928464, \"recall\": 0.011346892558192864}, {\"cutoff\": 31, \"precision\": 0.0028296547821165816, \"recall\": 0.011346892558192864}, {\"cutoff\": 36, \"precision\": 0.002436647173489279, \"recall\": 0.011346892558192864}, {\"cutoff\": 41, \"precision\": 0.003423192126658109, \"recall\": 0.020546721398586536}, {\"cutoff\": 46, \"precision\": 0.0030511060259344005, \"recall\": 0.020546721398586536}]}, \"Model_0\": {\"precision_recall\": [{\"cutoff\": 1, \"precision\": 0.0, \"recall\": 0.0}, {\"cutoff\": 2, \"precision\": 0.0, \"recall\": 0.0}, {\"cutoff\": 3, \"precision\": 0.0, \"recall\": 0.0}, {\"cutoff\": 4, \"precision\": 0.004385964912280702, \"recall\": 0.00010964912280701753}, {\"cutoff\": 5, \"precision\": 0.003508771929824561, \"recall\": 0.00010964912280701753}, {\"cutoff\": 6, \"precision\": 0.0029239766081871348, \"recall\": 0.00010964912280701753}, {\"cutoff\": 7, \"precision\": 0.0025062656641604013, \"recall\": 0.00010964912280701753}, {\"cutoff\": 8, \"precision\": 0.002192982456140351, \"recall\": 0.00010964912280701753}, {\"cutoff\": 9, \"precision\": 0.0019493177387914225, \"recall\": 0.00010964912280701753}, {\"cutoff\": 10, \"precision\": 0.0017543859649122805, \"recall\": 0.00010964912280701753}, {\"cutoff\": 11, \"precision\": 0.001594896331738437, \"recall\": 0.00010964912280701753}, {\"cutoff\": 16, \"precision\": 0.0010964912280701754, \"recall\": 0.00010964912280701753}, {\"cutoff\": 21, \"precision\": 0.0016708437761069343, \"recall\": 0.0006944444444444448}, {\"cutoff\": 26, \"precision\": 0.003373819163292847, \"recall\": 0.0028630604288499024}, {\"cutoff\": 31, \"precision\": 0.003395585738539897, \"recall\": 0.0032909594446821656}, {\"cutoff\": 36, \"precision\": 0.003411306042884991, \"recall\": 0.006214936052869302}, {\"cutoff\": 41, \"precision\": 0.003851091142490373, \"recall\": 0.012490788285075834}, {\"cutoff\": 46, \"precision\": 0.0034324942791762016, \"recall\": 0.012490788285075834}]}, \"Model_3\": {\"precision_recall\": [{\"cutoff\": 1, \"precision\": 0.03508771929824562, \"recall\": 0.007797270955165693}, {\"cutoff\": 2, \"precision\": 0.01754385964912281, \"recall\": 0.007797270955165693}, {\"cutoff\": 3, \"precision\": 0.01169590643274854, \"recall\": 0.007797270955165693}, {\"cutoff\": 4, \"precision\": 0.008771929824561405, \"recall\": 0.007797270955165693}, {\"cutoff\": 5, \"precision\": 0.010526315789473684, \"recall\": 0.013645224171539967}, {\"cutoff\": 6, \"precision\": 0.008771929824561405, \"recall\": 0.013645224171539967}, {\"cutoff\": 7, \"precision\": 0.007518796992481202, \"recall\": 0.013645224171539967}, {\"cutoff\": 8, \"precision\": 0.006578947368421055, \"recall\": 0.013645224171539967}, {\"cutoff\": 9, \"precision\": 0.005847953216374269, \"recall\": 0.013645224171539967}, {\"cutoff\": 10, \"precision\": 0.007017543859649123, \"recall\": 0.013754873294346985}, {\"cutoff\": 11, \"precision\": 0.006379585326953748, \"recall\": 0.013754873294346985}, {\"cutoff\": 16, \"precision\": 0.005482456140350878, \"recall\": 0.013864522417153994}, {\"cutoff\": 21, \"precision\": 0.004177109440267337, \"recall\": 0.013864522417153994}, {\"cutoff\": 26, \"precision\": 0.003373819163292847, \"recall\": 0.013864522417153994}, {\"cutoff\": 31, \"precision\": 0.003961516694963214, \"recall\": 0.034332358674463936}, {\"cutoff\": 36, \"precision\": 0.004385964912280701, \"recall\": 0.035026803118908385}, {\"cutoff\": 41, \"precision\": 0.003851091142490372, \"recall\": 0.035026803118908385}, {\"cutoff\": 46, \"precision\": 0.0038138825324180005, \"recall\": 0.03545470213474065}]}, \"Model_2\": {\"precision_recall\": [{\"cutoff\": 1, \"precision\": 0.0, \"recall\": 0.0}, {\"cutoff\": 2, \"precision\": 0.0, \"recall\": 0.0}, {\"cutoff\": 3, \"precision\": 0.0, \"recall\": 0.0}, {\"cutoff\": 4, \"precision\": 0.0, \"recall\": 0.0}, {\"cutoff\": 5, \"precision\": 0.003508771929824561, \"recall\": 0.00010964912280701753}, {\"cutoff\": 6, \"precision\": 0.0029239766081871343, \"recall\": 0.00010964912280701753}, {\"cutoff\": 7, \"precision\": 0.0025062656641604013, \"recall\": 0.00010964912280701753}, {\"cutoff\": 8, \"precision\": 0.0021929824561403508, \"recall\": 0.00010964912280701753}, {\"cutoff\": 9, \"precision\": 0.001949317738791422, \"recall\": 0.00010964912280701753}, {\"cutoff\": 10, \"precision\": 0.0017543859649122805, \"recall\": 0.00010964912280701753}, {\"cutoff\": 11, \"precision\": 0.001594896331738437, \"recall\": 0.00010964912280701753}, {\"cutoff\": 16, \"precision\": 0.005482456140350877, \"recall\": 0.008126218323586747}, {\"cutoff\": 21, \"precision\": 0.005012531328320804, \"recall\": 0.008711013645224171}, {\"cutoff\": 26, \"precision\": 0.005398110661268556, \"recall\": 0.0095668116768887}, {\"cutoff\": 31, \"precision\": 0.004527447651386532, \"recall\": 0.0095668116768887}, {\"cutoff\": 36, \"precision\": 0.003898635477582846, \"recall\": 0.0095668116768887}, {\"cutoff\": 41, \"precision\": 0.003851091142490373, \"recall\": 0.012490788285075835}, {\"cutoff\": 46, \"precision\": 0.0034324942791762007, \"recall\": 0.012490788285075835}]}, \"Model_4\": {\"precision_recall\": [{\"cutoff\": 1, \"precision\": 0.0, \"recall\": 0.0}, {\"cutoff\": 2, \"precision\": 0.0, \"recall\": 0.0}, {\"cutoff\": 3, \"precision\": 0.005847953216374269, \"recall\": 0.00010964912280701753}, {\"cutoff\": 4, \"precision\": 0.0043859649122807015, \"recall\": 0.00010964912280701753}, {\"cutoff\": 5, \"precision\": 0.003508771929824561, \"recall\": 0.00010964912280701753}, {\"cutoff\": 6, \"precision\": 0.0029239766081871343, \"recall\": 0.00010964912280701753}, {\"cutoff\": 7, \"precision\": 0.0025062656641604013, \"recall\": 0.00010964912280701753}, {\"cutoff\": 8, \"precision\": 0.0021929824561403508, \"recall\": 0.00010964912280701753}, {\"cutoff\": 9, \"precision\": 0.001949317738791423, \"recall\": 0.00010964912280701753}, {\"cutoff\": 10, \"precision\": 0.0017543859649122805, \"recall\": 0.00010964912280701753}, {\"cutoff\": 11, \"precision\": 0.0015948963317384368, \"recall\": 0.00010964912280701753}, {\"cutoff\": 16, \"precision\": 0.005482456140350878, \"recall\": 0.0013416417058907427}, {\"cutoff\": 21, \"precision\": 0.005012531328320803, \"recall\": 0.0032909594446821656}, {\"cutoff\": 26, \"precision\": 0.004723346828609986, \"recall\": 0.009138912661056434}, {\"cutoff\": 31, \"precision\": 0.003961516694963214, \"recall\": 0.009138912661056434}, {\"cutoff\": 36, \"precision\": 0.004385964912280702, \"recall\": 0.012490788285075837}, {\"cutoff\": 41, \"precision\": 0.003851091142490373, \"recall\": 0.012490788285075837}, {\"cutoff\": 46, \"precision\": 0.003432494279176201, \"recall\": 0.012490788285075837}]}}}, \"selected_variable\": {\"comparison\": {\"dataset_label\": \"test\", \"evaluations\": {\"Model_1\": {\"precision_recall\": [{\"cutoff\": 1, \"precision\": 0.0, \"recall\": 0.0}, {\"cutoff\": 2, \"precision\": 0.0, \"recall\": 0.0}, {\"cutoff\": 3, \"precision\": 0.0, \"recall\": 0.0}, {\"cutoff\": 4, \"precision\": 0.0, \"recall\": 0.0}, {\"cutoff\": 5, \"precision\": 0.0, \"recall\": 0.0}, {\"cutoff\": 6, \"precision\": 0.005847953216374269, \"recall\": 0.0030336257309941514}, {\"cutoff\": 7, \"precision\": 0.005012531328320803, \"recall\": 0.0030336257309941514}, {\"cutoff\": 8, \"precision\": 0.004385964912280702, \"recall\": 0.0030336257309941514}, {\"cutoff\": 9, \"precision\": 0.003898635477582845, \"recall\": 0.0030336257309941514}, {\"cutoff\": 10, \"precision\": 0.003508771929824561, \"recall\": 0.0030336257309941522}, {\"cutoff\": 11, \"precision\": 0.003189792663476874, \"recall\": 0.0030336257309941522}, {\"cutoff\": 16, \"precision\": 0.0032894736842105274, \"recall\": 0.004982943469785576}, {\"cutoff\": 21, \"precision\": 0.0041771094402673365, \"recall\": 0.011346892558192864}, {\"cutoff\": 26, \"precision\": 0.0033738191632928464, \"recall\": 0.011346892558192864}, {\"cutoff\": 31, \"precision\": 0.0028296547821165816, \"recall\": 0.011346892558192864}, {\"cutoff\": 36, \"precision\": 0.002436647173489279, \"recall\": 0.011346892558192864}, {\"cutoff\": 41, \"precision\": 0.003423192126658109, \"recall\": 0.020546721398586536}, {\"cutoff\": 46, \"precision\": 0.0030511060259344005, \"recall\": 0.020546721398586536}]}, \"Model_0\": {\"precision_recall\": [{\"cutoff\": 1, \"precision\": 0.0, \"recall\": 0.0}, {\"cutoff\": 2, \"precision\": 0.0, \"recall\": 0.0}, {\"cutoff\": 3, \"precision\": 0.0, \"recall\": 0.0}, {\"cutoff\": 4, \"precision\": 0.004385964912280702, \"recall\": 0.00010964912280701753}, {\"cutoff\": 5, \"precision\": 0.003508771929824561, \"recall\": 0.00010964912280701753}, {\"cutoff\": 6, \"precision\": 0.0029239766081871348, \"recall\": 0.00010964912280701753}, {\"cutoff\": 7, \"precision\": 0.0025062656641604013, \"recall\": 0.00010964912280701753}, {\"cutoff\": 8, \"precision\": 0.002192982456140351, \"recall\": 0.00010964912280701753}, {\"cutoff\": 9, \"precision\": 0.0019493177387914225, \"recall\": 0.00010964912280701753}, {\"cutoff\": 10, \"precision\": 0.0017543859649122805, \"recall\": 0.00010964912280701753}, {\"cutoff\": 11, \"precision\": 0.001594896331738437, \"recall\": 0.00010964912280701753}, {\"cutoff\": 16, \"precision\": 0.0010964912280701754, \"recall\": 0.00010964912280701753}, {\"cutoff\": 21, \"precision\": 0.0016708437761069343, \"recall\": 0.0006944444444444448}, {\"cutoff\": 26, \"precision\": 0.003373819163292847, \"recall\": 0.0028630604288499024}, {\"cutoff\": 31, \"precision\": 0.003395585738539897, \"recall\": 0.0032909594446821656}, {\"cutoff\": 36, \"precision\": 0.003411306042884991, \"recall\": 0.006214936052869302}, {\"cutoff\": 41, \"precision\": 0.003851091142490373, \"recall\": 0.012490788285075834}, {\"cutoff\": 46, \"precision\": 0.0034324942791762016, \"recall\": 0.012490788285075834}]}, \"Model_3\": {\"precision_recall\": [{\"cutoff\": 1, \"precision\": 0.03508771929824562, \"recall\": 0.007797270955165693}, {\"cutoff\": 2, \"precision\": 0.01754385964912281, \"recall\": 0.007797270955165693}, {\"cutoff\": 3, \"precision\": 0.01169590643274854, \"recall\": 0.007797270955165693}, {\"cutoff\": 4, \"precision\": 0.008771929824561405, \"recall\": 0.007797270955165693}, {\"cutoff\": 5, \"precision\": 0.010526315789473684, \"recall\": 0.013645224171539967}, {\"cutoff\": 6, \"precision\": 0.008771929824561405, \"recall\": 0.013645224171539967}, {\"cutoff\": 7, \"precision\": 0.007518796992481202, \"recall\": 0.013645224171539967}, {\"cutoff\": 8, \"precision\": 0.006578947368421055, \"recall\": 0.013645224171539967}, {\"cutoff\": 9, \"precision\": 0.005847953216374269, \"recall\": 0.013645224171539967}, {\"cutoff\": 10, \"precision\": 0.007017543859649123, \"recall\": 0.013754873294346985}, {\"cutoff\": 11, \"precision\": 0.006379585326953748, \"recall\": 0.013754873294346985}, {\"cutoff\": 16, \"precision\": 0.005482456140350878, \"recall\": 0.013864522417153994}, {\"cutoff\": 21, \"precision\": 0.004177109440267337, \"recall\": 0.013864522417153994}, {\"cutoff\": 26, \"precision\": 0.003373819163292847, \"recall\": 0.013864522417153994}, {\"cutoff\": 31, \"precision\": 0.003961516694963214, \"recall\": 0.034332358674463936}, {\"cutoff\": 36, \"precision\": 0.004385964912280701, \"recall\": 0.035026803118908385}, {\"cutoff\": 41, \"precision\": 0.003851091142490372, \"recall\": 0.035026803118908385}, {\"cutoff\": 46, \"precision\": 0.0038138825324180005, \"recall\": 0.03545470213474065}]}, \"Model_2\": {\"precision_recall\": [{\"cutoff\": 1, \"precision\": 0.0, \"recall\": 0.0}, {\"cutoff\": 2, \"precision\": 0.0, \"recall\": 0.0}, {\"cutoff\": 3, \"precision\": 0.0, \"recall\": 0.0}, {\"cutoff\": 4, \"precision\": 0.0, \"recall\": 0.0}, {\"cutoff\": 5, \"precision\": 0.003508771929824561, \"recall\": 0.00010964912280701753}, {\"cutoff\": 6, \"precision\": 0.0029239766081871343, \"recall\": 0.00010964912280701753}, {\"cutoff\": 7, \"precision\": 0.0025062656641604013, \"recall\": 0.00010964912280701753}, {\"cutoff\": 8, \"precision\": 0.0021929824561403508, \"recall\": 0.00010964912280701753}, {\"cutoff\": 9, \"precision\": 0.001949317738791422, \"recall\": 0.00010964912280701753}, {\"cutoff\": 10, \"precision\": 0.0017543859649122805, \"recall\": 0.00010964912280701753}, {\"cutoff\": 11, \"precision\": 0.001594896331738437, \"recall\": 0.00010964912280701753}, {\"cutoff\": 16, \"precision\": 0.005482456140350877, \"recall\": 0.008126218323586747}, {\"cutoff\": 21, \"precision\": 0.005012531328320804, \"recall\": 0.008711013645224171}, {\"cutoff\": 26, \"precision\": 0.005398110661268556, \"recall\": 0.0095668116768887}, {\"cutoff\": 31, \"precision\": 0.004527447651386532, \"recall\": 0.0095668116768887}, {\"cutoff\": 36, \"precision\": 0.003898635477582846, \"recall\": 0.0095668116768887}, {\"cutoff\": 41, \"precision\": 0.003851091142490373, \"recall\": 0.012490788285075835}, {\"cutoff\": 46, \"precision\": 0.0034324942791762007, \"recall\": 0.012490788285075835}]}, \"Model_4\": {\"precision_recall\": [{\"cutoff\": 1, \"precision\": 0.0, \"recall\": 0.0}, {\"cutoff\": 2, \"precision\": 0.0, \"recall\": 0.0}, {\"cutoff\": 3, \"precision\": 0.005847953216374269, \"recall\": 0.00010964912280701753}, {\"cutoff\": 4, \"precision\": 0.0043859649122807015, \"recall\": 0.00010964912280701753}, {\"cutoff\": 5, \"precision\": 0.003508771929824561, \"recall\": 0.00010964912280701753}, {\"cutoff\": 6, \"precision\": 0.0029239766081871343, \"recall\": 0.00010964912280701753}, {\"cutoff\": 7, \"precision\": 0.0025062656641604013, \"recall\": 0.00010964912280701753}, {\"cutoff\": 8, \"precision\": 0.0021929824561403508, \"recall\": 0.00010964912280701753}, {\"cutoff\": 9, \"precision\": 0.001949317738791423, \"recall\": 0.00010964912280701753}, {\"cutoff\": 10, \"precision\": 0.0017543859649122805, \"recall\": 0.00010964912280701753}, {\"cutoff\": 11, \"precision\": 0.0015948963317384368, \"recall\": 0.00010964912280701753}, {\"cutoff\": 16, \"precision\": 0.005482456140350878, \"recall\": 0.0013416417058907427}, {\"cutoff\": 21, \"precision\": 0.005012531328320803, \"recall\": 0.0032909594446821656}, {\"cutoff\": 26, \"precision\": 0.004723346828609986, \"recall\": 0.009138912661056434}, {\"cutoff\": 31, \"precision\": 0.003961516694963214, \"recall\": 0.009138912661056434}, {\"cutoff\": 36, \"precision\": 0.004385964912280702, \"recall\": 0.012490788285075837}, {\"cutoff\": 41, \"precision\": 0.003851091142490373, \"recall\": 0.012490788285075837}, {\"cutoff\": 46, \"precision\": 0.003432494279176201, \"recall\": 0.012490788285075837}]}}}, \"name\": [\"<RankingFactorizationRecommender>\"], \"view_file\": \"model\", \"view_component\": \"Comparison\", \"view_params\": {\"model_type\": \"recommender\", \"view\": \"Comparison\"}, \"view_components\": [\"Summary\", \"Evaluation\", \"Comparison\"], \"model_type\": \"recommender\", \"attributes\": {\"section_titles\": [\"Schema\", \"Statistics\", \"Training summary\", \"Model Parameters\", \"Regularization Settings\", \"Optimization Settings\"], \"sections\": [[[\"User ID\", \"userId\"], [\"Item ID\", \"title\"], [\"Target\", \"rating\"], [\"Additional observation features\", 23], [\"User side features\", []], [\"Item side features\", []]], [[\"Number of observations\", 390671], [\"Number of users\", 7154], [\"Number of items\", 13387]], [[\"Training time\", 83.9016]], [[\"Model class\", \"RankingFactorizationRecommender\"], [\"num_factors\", 24], [\"binary_target\", 0], [\"side_data_factorization\", 1], [\"solver\", \"auto\"], [\"nmf\", 0], [\"max_iterations\", 50]], [[\"regularization\", 0.001], [\"regularization_type\", \"normal\"], [\"linear_regularization\", 0.001], [\"ranking_regularization\", 0.25], [\"unobserved_rating_value\", -1.7976931348623157e+308], [\"num_sampled_negative_examples\", 4], [\"ials_confidence_scaling_type\", \"auto\"], [\"ials_confidence_scaling_factor\", 1]], [[\"init_random_sigma\", 0.01], [\"sgd_convergence_interval\", 4], [\"sgd_convergence_threshold\", 0.0], [\"sgd_max_trial_iterations\", 5], [\"sgd_sampling_block_size\", 131072], [\"sgd_step_adjustment_interval\", 4], [\"sgd_step_size\", 0.0], [\"sgd_trial_sample_minimum_size\", 10000], [\"sgd_trial_sample_proportion\", 0.125], [\"step_size_decrease_rate\", 0.75], [\"additional_iterations_if_unhealthy\", 5], [\"adagrad_momentum_weighting\", 0.9], [\"num_tempering_iterations\", 4], [\"tempering_regularization_start_value\", 0.0], [\"track_exact_loss\", 0]]]}, \"evaluations\": [[\"dataset\", {\"precision_recall_overall\": [{\"cutoff\": 1, \"precision\": 0.0, \"recall\": 0.0}, {\"cutoff\": 2, \"precision\": 0.0, \"recall\": 0.0}, {\"cutoff\": 3, \"precision\": 0.0, \"recall\": 0.0}, {\"cutoff\": 4, \"precision\": 0.004385964912280702, \"recall\": 0.00010964912280701753}, {\"cutoff\": 5, \"precision\": 0.003508771929824561, \"recall\": 0.00010964912280701753}, {\"cutoff\": 6, \"precision\": 0.0029239766081871348, \"recall\": 0.00010964912280701753}, {\"cutoff\": 7, \"precision\": 0.0025062656641604013, \"recall\": 0.00010964912280701753}, {\"cutoff\": 8, \"precision\": 0.002192982456140351, \"recall\": 0.00010964912280701753}, {\"cutoff\": 9, \"precision\": 0.0019493177387914225, \"recall\": 0.00010964912280701753}, {\"cutoff\": 10, \"precision\": 0.0017543859649122805, \"recall\": 0.00010964912280701753}, {\"cutoff\": 11, \"precision\": 0.001594896331738437, \"recall\": 0.00010964912280701753}, {\"cutoff\": 16, \"precision\": 0.0010964912280701754, \"recall\": 0.00010964912280701753}, {\"cutoff\": 21, \"precision\": 0.0016708437761069343, \"recall\": 0.0006944444444444448}, {\"cutoff\": 26, \"precision\": 0.003373819163292847, \"recall\": 0.0028630604288499024}, {\"cutoff\": 31, \"precision\": 0.003395585738539897, \"recall\": 0.0032909594446821656}, {\"cutoff\": 36, \"precision\": 0.003411306042884991, \"recall\": 0.006214936052869302}, {\"cutoff\": 41, \"precision\": 0.003851091142490373, \"recall\": 0.012490788285075834}, {\"cutoff\": 46, \"precision\": 0.0034324942791762016, \"recall\": 0.012490788285075834}], \"precision_recall_by_user\": [{\"count\": 1, \"cutoff\": 1, \"userId\": 3171, \"precision\": 0.0, \"recall\": 0.0}, {\"count\": 1, \"cutoff\": 2, \"userId\": 3171, \"precision\": 0.0, \"recall\": 0.0}, {\"count\": 1, \"cutoff\": 3, \"userId\": 3171, \"precision\": 0.0, \"recall\": 0.0}, {\"count\": 1, \"cutoff\": 4, \"userId\": 3171, \"precision\": 0.0, \"recall\": 0.0}, {\"count\": 1, \"cutoff\": 5, \"userId\": 3171, \"precision\": 0.0, \"recall\": 0.0}, {\"count\": 1, \"cutoff\": 6, \"userId\": 3171, \"precision\": 0.0, \"recall\": 0.0}, {\"count\": 1, \"cutoff\": 7, \"userId\": 3171, \"precision\": 0.0, \"recall\": 0.0}, {\"count\": 1, \"cutoff\": 8, \"userId\": 3171, \"precision\": 0.0, \"recall\": 0.0}, {\"count\": 1, \"cutoff\": 9, \"userId\": 3171, \"precision\": 0.0, \"recall\": 0.0}, {\"count\": 1, \"cutoff\": 10, \"userId\": 3171, \"precision\": 0.0, \"recall\": 0.0}, {\"count\": 1, \"cutoff\": 11, \"userId\": 3171, \"precision\": 0.0, \"recall\": 0.0}, {\"count\": 1, \"cutoff\": 16, \"userId\": 3171, \"precision\": 0.0, \"recall\": 0.0}, {\"count\": 1, \"cutoff\": 21, \"userId\": 3171, \"precision\": 0.0, \"recall\": 0.0}, {\"count\": 1, \"cutoff\": 26, \"userId\": 3171, \"precision\": 0.0, \"recall\": 0.0}, {\"count\": 1, \"cutoff\": 31, \"userId\": 3171, \"precision\": 0.0, \"recall\": 0.0}, {\"count\": 1, \"cutoff\": 36, \"userId\": 3171, \"precision\": 0.0, \"recall\": 0.0}, {\"count\": 1, \"cutoff\": 41, \"userId\": 3171, \"precision\": 0.0, \"recall\": 0.0}, {\"count\": 1, \"cutoff\": 46, \"userId\": 3171, \"precision\": 0.0, \"recall\": 0.0}, {\"count\": 2, \"cutoff\": 1, \"userId\": 5525, \"precision\": 0.0, \"recall\": 0.0}, {\"count\": 2, \"cutoff\": 2, \"userId\": 5525, \"precision\": 0.0, \"recall\": 0.0}, {\"count\": 2, \"cutoff\": 3, \"userId\": 5525, \"precision\": 0.0, \"recall\": 0.0}, {\"count\": 2, \"cutoff\": 4, \"userId\": 5525, \"precision\": 0.0, \"recall\": 0.0}, {\"count\": 2, \"cutoff\": 5, \"userId\": 5525, \"precision\": 0.0, \"recall\": 0.0}, {\"count\": 2, \"cutoff\": 6, \"userId\": 5525, \"precision\": 0.0, \"recall\": 0.0}, {\"count\": 2, \"cutoff\": 7, \"userId\": 5525, \"precision\": 0.0, \"recall\": 0.0}, {\"count\": 2, \"cutoff\": 8, \"userId\": 5525, \"precision\": 0.0, \"recall\": 0.0}, {\"count\": 2, \"cutoff\": 9, \"userId\": 5525, \"precision\": 0.0, \"recall\": 0.0}, {\"count\": 2, \"cutoff\": 10, \"userId\": 5525, \"precision\": 0.0, \"recall\": 0.0}, {\"count\": 2, \"cutoff\": 11, \"userId\": 5525, \"precision\": 0.0, \"recall\": 0.0}, {\"count\": 2, \"cutoff\": 16, \"userId\": 5525, \"precision\": 0.0, \"recall\": 0.0}, {\"count\": 2, \"cutoff\": 21, \"userId\": 5525, \"precision\": 0.0, \"recall\": 0.0}, {\"count\": 2, \"cutoff\": 26, \"userId\": 5525, \"precision\": 0.0, \"recall\": 0.0}, {\"count\": 2, \"cutoff\": 31, \"userId\": 5525, \"precision\": 0.0, \"recall\": 0.0}, {\"count\": 2, \"cutoff\": 36, \"userId\": 5525, \"precision\": 0.0, \"recall\": 0.0}, {\"count\": 2, \"cutoff\": 41, \"userId\": 5525, \"precision\": 0.0, \"recall\": 0.0}, {\"count\": 2, \"cutoff\": 46, \"userId\": 5525, \"precision\": 0.0, \"recall\": 0.0}, {\"count\": 2, \"cutoff\": 1, \"userId\": 7421, \"precision\": 0.0, \"recall\": 0.0}, {\"count\": 2, \"cutoff\": 2, \"userId\": 7421, \"precision\": 0.0, \"recall\": 0.0}, {\"count\": 2, \"cutoff\": 3, \"userId\": 7421, \"precision\": 0.0, \"recall\": 0.0}, {\"count\": 2, \"cutoff\": 4, \"userId\": 7421, \"precision\": 0.0, \"recall\": 0.0}, {\"count\": 2, \"cutoff\": 5, \"userId\": 7421, \"precision\": 0.0, \"recall\": 0.0}, {\"count\": 2, \"cutoff\": 6, \"userId\": 7421, \"precision\": 0.0, \"recall\": 0.0}, {\"count\": 2, \"cutoff\": 7, \"userId\": 7421, \"precision\": 0.0, \"recall\": 0.0}, {\"count\": 2, \"cutoff\": 8, \"userId\": 7421, \"precision\": 0.0, \"recall\": 0.0}, {\"count\": 2, \"cutoff\": 9, \"userId\": 7421, \"precision\": 0.0, \"recall\": 0.0}, {\"count\": 2, \"cutoff\": 10, \"userId\": 7421, \"precision\": 0.0, \"recall\": 0.0}, {\"count\": 2, \"cutoff\": 11, \"userId\": 7421, \"precision\": 0.0, \"recall\": 0.0}, {\"count\": 2, \"cutoff\": 16, \"userId\": 7421, \"precision\": 0.0, \"recall\": 0.0}, {\"count\": 2, \"cutoff\": 21, \"userId\": 7421, \"precision\": 0.0, \"recall\": 0.0}, {\"count\": 2, \"cutoff\": 26, \"userId\": 7421, \"precision\": 0.0, \"recall\": 0.0}, {\"count\": 2, \"cutoff\": 31, \"userId\": 7421, \"precision\": 0.0, \"recall\": 0.0}, {\"count\": 2, \"cutoff\": 36, \"userId\": 7421, \"precision\": 0.0, \"recall\": 0.0}, {\"count\": 2, \"cutoff\": 41, \"userId\": 7421, \"precision\": 0.0, \"recall\": 0.0}, {\"count\": 2, \"cutoff\": 46, \"userId\": 7421, \"precision\": 0.0, \"recall\": 0.0}, {\"count\": 1, \"cutoff\": 1, \"userId\": 12550, \"precision\": 0.0, \"recall\": 0.0}, {\"count\": 1, \"cutoff\": 2, \"userId\": 12550, \"precision\": 0.0, \"recall\": 0.0}, {\"count\": 1, \"cutoff\": 3, \"userId\": 12550, \"precision\": 0.0, \"recall\": 0.0}, {\"count\": 1, \"cutoff\": 4, \"userId\": 12550, \"precision\": 0.0, \"recall\": 0.0}, {\"count\": 1, \"cutoff\": 5, \"userId\": 12550, \"precision\": 0.0, \"recall\": 0.0}, {\"count\": 1, \"cutoff\": 6, \"userId\": 12550, \"precision\": 0.0, \"recall\": 0.0}, {\"count\": 1, \"cutoff\": 7, \"userId\": 12550, \"precision\": 0.0, \"recall\": 0.0}, {\"count\": 1, \"cutoff\": 8, \"userId\": 12550, \"precision\": 0.0, \"recall\": 0.0}, {\"count\": 1, \"cutoff\": 9, \"userId\": 12550, \"precision\": 0.0, \"recall\": 0.0}, {\"count\": 1, \"cutoff\": 10, \"userId\": 12550, \"precision\": 0.0, \"recall\": 0.0}, {\"count\": 1, \"cutoff\": 11, \"userId\": 12550, \"precision\": 0.0, \"recall\": 0.0}, {\"count\": 1, \"cutoff\": 16, \"userId\": 12550, \"precision\": 0.0, \"recall\": 0.0}, {\"count\": 1, \"cutoff\": 21, \"userId\": 12550, \"precision\": 0.0, \"recall\": 0.0}, {\"count\": 1, \"cutoff\": 26, \"userId\": 12550, \"precision\": 0.0, \"recall\": 0.0}, {\"count\": 1, \"cutoff\": 31, \"userId\": 12550, \"precision\": 0.0, \"recall\": 0.0}, {\"count\": 1, \"cutoff\": 36, \"userId\": 12550, \"precision\": 0.0, \"recall\": 0.0}, {\"count\": 1, \"cutoff\": 41, \"userId\": 12550, \"precision\": 0.0, \"recall\": 0.0}, {\"count\": 1, \"cutoff\": 46, \"userId\": 12550, \"precision\": 0.0, \"recall\": 0.0}, {\"count\": 2, \"cutoff\": 1, \"userId\": 14031, \"precision\": 0.0, \"recall\": 0.0}, {\"count\": 2, \"cutoff\": 2, \"userId\": 14031, \"precision\": 0.0, \"recall\": 0.0}, {\"count\": 2, \"cutoff\": 3, \"userId\": 14031, \"precision\": 0.0, \"recall\": 0.0}, {\"count\": 2, \"cutoff\": 4, \"userId\": 14031, \"precision\": 0.0, \"recall\": 0.0}, {\"count\": 2, \"cutoff\": 5, \"userId\": 14031, \"precision\": 0.0, \"recall\": 0.0}, {\"count\": 2, \"cutoff\": 6, \"userId\": 14031, \"precision\": 0.0, \"recall\": 0.0}, {\"count\": 2, \"cutoff\": 7, \"userId\": 14031, \"precision\": 0.0, \"recall\": 0.0}, {\"count\": 2, \"cutoff\": 8, \"userId\": 14031, \"precision\": 0.0, \"recall\": 0.0}, {\"count\": 2, \"cutoff\": 9, \"userId\": 14031, \"precision\": 0.0, \"recall\": 0.0}, {\"count\": 2, \"cutoff\": 10, \"userId\": 14031, \"precision\": 0.0, \"recall\": 0.0}, {\"count\": 2, \"cutoff\": 11, \"userId\": 14031, \"precision\": 0.0, \"recall\": 0.0}, {\"count\": 2, \"cutoff\": 16, \"userId\": 14031, \"precision\": 0.0, \"recall\": 0.0}, {\"count\": 2, \"cutoff\": 21, \"userId\": 14031, \"precision\": 0.0, \"recall\": 0.0}, {\"count\": 2, \"cutoff\": 26, \"userId\": 14031, \"precision\": 0.0, \"recall\": 0.0}, {\"count\": 2, \"cutoff\": 31, \"userId\": 14031, \"precision\": 0.0, \"recall\": 0.0}, {\"count\": 2, \"cutoff\": 36, \"userId\": 14031, \"precision\": 0.0, \"recall\": 0.0}, {\"count\": 2, \"cutoff\": 41, \"userId\": 14031, \"precision\": 0.0, \"recall\": 0.0}, {\"count\": 2, \"cutoff\": 46, \"userId\": 14031, \"precision\": 0.0, \"recall\": 0.0}, {\"count\": 34, \"cutoff\": 1, \"userId\": 16555, \"precision\": 0.0, \"recall\": 0.0}, {\"count\": 34, \"cutoff\": 2, \"userId\": 16555, \"precision\": 0.0, \"recall\": 0.0}, {\"count\": 34, \"cutoff\": 3, \"userId\": 16555, \"precision\": 0.0, \"recall\": 0.0}, {\"count\": 34, \"cutoff\": 4, \"userId\": 16555, \"precision\": 0.0, \"recall\": 0.0}, {\"count\": 34, \"cutoff\": 5, \"userId\": 16555, \"precision\": 0.0, \"recall\": 0.0}, {\"count\": 34, \"cutoff\": 6, \"userId\": 16555, \"precision\": 0.0, \"recall\": 0.0}, {\"count\": 34, \"cutoff\": 7, \"userId\": 16555, \"precision\": 0.0, \"recall\": 0.0}, {\"count\": 34, \"cutoff\": 8, \"userId\": 16555, \"precision\": 0.0, \"recall\": 0.0}, {\"count\": 34, \"cutoff\": 9, \"userId\": 16555, \"precision\": 0.0, \"recall\": 0.0}, {\"count\": 34, \"cutoff\": 10, \"userId\": 16555, \"precision\": 0.0, \"recall\": 0.0}, {\"count\": 34, \"cutoff\": 11, \"userId\": 16555, \"precision\": 0.0, \"recall\": 0.0}, {\"count\": 34, \"cutoff\": 16, \"userId\": 16555, \"precision\": 0.0, \"recall\": 0.0}, {\"count\": 34, \"cutoff\": 21, \"userId\": 16555, \"precision\": 0.0, \"recall\": 0.0}, {\"count\": 34, \"cutoff\": 26, \"userId\": 16555, \"precision\": 0.0, \"recall\": 0.0}, {\"count\": 34, \"cutoff\": 31, \"userId\": 16555, \"precision\": 0.0, \"recall\": 0.0}, {\"count\": 34, \"cutoff\": 36, \"userId\": 16555, \"precision\": 0.0, \"recall\": 0.0}, {\"count\": 34, \"cutoff\": 41, \"userId\": 16555, \"precision\": 0.0, \"recall\": 0.0}, {\"count\": 34, \"cutoff\": 46, \"userId\": 16555, \"precision\": 0.0, \"recall\": 0.0}, {\"count\": 9, \"cutoff\": 1, \"userId\": 16745, \"precision\": 0.0, \"recall\": 0.0}, {\"count\": 9, \"cutoff\": 2, \"userId\": 16745, \"precision\": 0.0, \"recall\": 0.0}, {\"count\": 9, \"cutoff\": 3, \"userId\": 16745, \"precision\": 0.0, \"recall\": 0.0}, {\"count\": 9, \"cutoff\": 4, \"userId\": 16745, \"precision\": 0.0, \"recall\": 0.0}, {\"count\": 9, \"cutoff\": 5, \"userId\": 16745, \"precision\": 0.0, \"recall\": 0.0}, {\"count\": 9, \"cutoff\": 6, \"userId\": 16745, \"precision\": 0.0, \"recall\": 0.0}, {\"count\": 9, \"cutoff\": 7, \"userId\": 16745, \"precision\": 0.0, \"recall\": 0.0}, {\"count\": 9, \"cutoff\": 8, \"userId\": 16745, \"precision\": 0.0, \"recall\": 0.0}, {\"count\": 9, \"cutoff\": 9, \"userId\": 16745, \"precision\": 0.0, \"recall\": 0.0}, {\"count\": 9, \"cutoff\": 10, \"userId\": 16745, \"precision\": 0.0, \"recall\": 0.0}, {\"count\": 9, \"cutoff\": 11, \"userId\": 16745, \"precision\": 0.0, \"recall\": 0.0}, {\"count\": 9, \"cutoff\": 16, \"userId\": 16745, \"precision\": 0.0, \"recall\": 0.0}, {\"count\": 9, \"cutoff\": 21, \"userId\": 16745, \"precision\": 0.0, \"recall\": 0.0}, {\"count\": 9, \"cutoff\": 26, \"userId\": 16745, \"precision\": 0.0, \"recall\": 0.0}, {\"count\": 9, \"cutoff\": 31, \"userId\": 16745, \"precision\": 0.0, \"recall\": 0.0}, {\"count\": 9, \"cutoff\": 36, \"userId\": 16745, \"precision\": 0.0, \"recall\": 0.0}, {\"count\": 9, \"cutoff\": 41, \"userId\": 16745, \"precision\": 0.0, \"recall\": 0.0}, {\"count\": 9, \"cutoff\": 46, \"userId\": 16745, \"precision\": 0.0, \"recall\": 0.0}, {\"count\": 1, \"cutoff\": 1, \"userId\": 21672, \"precision\": 0.0, \"recall\": 0.0}, {\"count\": 1, \"cutoff\": 2, \"userId\": 21672, \"precision\": 0.0, \"recall\": 0.0}, {\"count\": 1, \"cutoff\": 3, \"userId\": 21672, \"precision\": 0.0, \"recall\": 0.0}, {\"count\": 1, \"cutoff\": 4, \"userId\": 21672, \"precision\": 0.0, \"recall\": 0.0}, {\"count\": 1, \"cutoff\": 5, \"userId\": 21672, \"precision\": 0.0, \"recall\": 0.0}, {\"count\": 1, \"cutoff\": 6, \"userId\": 21672, \"precision\": 0.0, \"recall\": 0.0}, {\"count\": 1, \"cutoff\": 7, \"userId\": 21672, \"precision\": 0.0, \"recall\": 0.0}, {\"count\": 1, \"cutoff\": 8, \"userId\": 21672, \"precision\": 0.0, \"recall\": 0.0}, {\"count\": 1, \"cutoff\": 9, \"userId\": 21672, \"precision\": 0.0, \"recall\": 0.0}, {\"count\": 1, \"cutoff\": 10, \"userId\": 21672, \"precision\": 0.0, \"recall\": 0.0}, {\"count\": 1, \"cutoff\": 11, \"userId\": 21672, \"precision\": 0.0, \"recall\": 0.0}, {\"count\": 1, \"cutoff\": 16, \"userId\": 21672, \"precision\": 0.0, \"recall\": 0.0}, {\"count\": 1, \"cutoff\": 21, \"userId\": 21672, \"precision\": 0.0, \"recall\": 0.0}, {\"count\": 1, \"cutoff\": 26, \"userId\": 21672, \"precision\": 0.0, \"recall\": 0.0}, {\"count\": 1, \"cutoff\": 31, \"userId\": 21672, \"precision\": 0.0, \"recall\": 0.0}, {\"count\": 1, \"cutoff\": 36, \"userId\": 21672, \"precision\": 0.0, \"recall\": 0.0}, {\"count\": 1, \"cutoff\": 41, \"userId\": 21672, \"precision\": 0.0, \"recall\": 0.0}, {\"count\": 1, \"cutoff\": 46, \"userId\": 21672, \"precision\": 0.0, \"recall\": 0.0}, {\"count\": 3, \"cutoff\": 1, \"userId\": 23921, \"precision\": 0.0, \"recall\": 0.0}, {\"count\": 3, \"cutoff\": 2, \"userId\": 23921, \"precision\": 0.0, \"recall\": 0.0}, {\"count\": 3, \"cutoff\": 3, \"userId\": 23921, \"precision\": 0.0, \"recall\": 0.0}, {\"count\": 3, \"cutoff\": 4, \"userId\": 23921, \"precision\": 0.0, \"recall\": 0.0}, {\"count\": 3, \"cutoff\": 5, \"userId\": 23921, \"precision\": 0.0, \"recall\": 0.0}, {\"count\": 3, \"cutoff\": 6, \"userId\": 23921, \"precision\": 0.0, \"recall\": 0.0}, {\"count\": 3, \"cutoff\": 7, \"userId\": 23921, \"precision\": 0.0, \"recall\": 0.0}, {\"count\": 3, \"cutoff\": 8, \"userId\": 23921, \"precision\": 0.0, \"recall\": 0.0}, {\"count\": 3, \"cutoff\": 9, \"userId\": 23921, \"precision\": 0.0, \"recall\": 0.0}, {\"count\": 3, \"cutoff\": 10, \"userId\": 23921, \"precision\": 0.0, \"recall\": 0.0}, {\"count\": 3, \"cutoff\": 11, \"userId\": 23921, \"precision\": 0.0, \"recall\": 0.0}, {\"count\": 3, \"cutoff\": 16, \"userId\": 23921, \"precision\": 0.0, \"recall\": 0.0}, {\"count\": 3, \"cutoff\": 21, \"userId\": 23921, \"precision\": 0.0, \"recall\": 0.0}, {\"count\": 3, \"cutoff\": 26, \"userId\": 23921, \"precision\": 0.0, \"recall\": 0.0}, {\"count\": 3, \"cutoff\": 31, \"userId\": 23921, \"precision\": 0.0, \"recall\": 0.0}, {\"count\": 3, \"cutoff\": 36, \"userId\": 23921, \"precision\": 0.0, \"recall\": 0.0}, {\"count\": 3, \"cutoff\": 41, \"userId\": 23921, \"precision\": 0.024390243902439025, \"recall\": 0.3333333333333333}, {\"count\": 3, \"cutoff\": 46, \"userId\": 23921, \"precision\": 0.021739130434782608, \"recall\": 0.3333333333333333}, {\"count\": 1, \"cutoff\": 1, \"userId\": 23946, \"precision\": 0.0, \"recall\": 0.0}, {\"count\": 1, \"cutoff\": 2, \"userId\": 23946, \"precision\": 0.0, \"recall\": 0.0}, {\"count\": 1, \"cutoff\": 3, \"userId\": 23946, \"precision\": 0.0, \"recall\": 0.0}, {\"count\": 1, \"cutoff\": 4, \"userId\": 23946, \"precision\": 0.0, \"recall\": 0.0}, {\"count\": 1, \"cutoff\": 5, \"userId\": 23946, \"precision\": 0.0, \"recall\": 0.0}, {\"count\": 1, \"cutoff\": 6, \"userId\": 23946, \"precision\": 0.0, \"recall\": 0.0}, {\"count\": 1, \"cutoff\": 7, \"userId\": 23946, \"precision\": 0.0, \"recall\": 0.0}, {\"count\": 1, \"cutoff\": 8, \"userId\": 23946, \"precision\": 0.0, \"recall\": 0.0}, {\"count\": 1, \"cutoff\": 9, \"userId\": 23946, \"precision\": 0.0, \"recall\": 0.0}, {\"count\": 1, \"cutoff\": 10, \"userId\": 23946, \"precision\": 0.0, \"recall\": 0.0}, {\"count\": 1, \"cutoff\": 11, \"userId\": 23946, \"precision\": 0.0, \"recall\": 0.0}, {\"count\": 1, \"cutoff\": 16, \"userId\": 23946, \"precision\": 0.0, \"recall\": 0.0}, {\"count\": 1, \"cutoff\": 21, \"userId\": 23946, \"precision\": 0.0, \"recall\": 0.0}, {\"count\": 1, \"cutoff\": 26, \"userId\": 23946, \"precision\": 0.0, \"recall\": 0.0}, {\"count\": 1, \"cutoff\": 31, \"userId\": 23946, \"precision\": 0.0, \"recall\": 0.0}, {\"count\": 1, \"cutoff\": 36, \"userId\": 23946, \"precision\": 0.0, \"recall\": 0.0}, {\"count\": 1, \"cutoff\": 41, \"userId\": 23946, \"precision\": 0.0, \"recall\": 0.0}, {\"count\": 1, \"cutoff\": 46, \"userId\": 23946, \"precision\": 0.0, \"recall\": 0.0}, {\"count\": 5, \"cutoff\": 1, \"userId\": 24902, \"precision\": 0.0, \"recall\": 0.0}, {\"count\": 5, \"cutoff\": 2, \"userId\": 24902, \"precision\": 0.0, \"recall\": 0.0}, {\"count\": 5, \"cutoff\": 3, \"userId\": 24902, \"precision\": 0.0, \"recall\": 0.0}, {\"count\": 5, \"cutoff\": 4, \"userId\": 24902, \"precision\": 0.0, \"recall\": 0.0}, {\"count\": 5, \"cutoff\": 5, \"userId\": 24902, \"precision\": 0.0, \"recall\": 0.0}, {\"count\": 5, \"cutoff\": 6, \"userId\": 24902, \"precision\": 0.0, \"recall\": 0.0}, {\"count\": 5, \"cutoff\": 7, \"userId\": 24902, \"precision\": 0.0, \"recall\": 0.0}, {\"count\": 5, \"cutoff\": 8, \"userId\": 24902, \"precision\": 0.0, \"recall\": 0.0}, {\"count\": 5, \"cutoff\": 9, \"userId\": 24902, \"precision\": 0.0, \"recall\": 0.0}, {\"count\": 5, \"cutoff\": 10, \"userId\": 24902, \"precision\": 0.0, \"recall\": 0.0}, {\"count\": 5, \"cutoff\": 11, \"userId\": 24902, \"precision\": 0.0, \"recall\": 0.0}, {\"count\": 5, \"cutoff\": 16, \"userId\": 24902, \"precision\": 0.0, \"recall\": 0.0}, {\"count\": 5, \"cutoff\": 21, \"userId\": 24902, \"precision\": 0.0, \"recall\": 0.0}, {\"count\": 5, \"cutoff\": 26, \"userId\": 24902, \"precision\": 0.0, \"recall\": 0.0}, {\"count\": 5, \"cutoff\": 31, \"userId\": 24902, \"precision\": 0.0, \"recall\": 0.0}, {\"count\": 5, \"cutoff\": 36, \"userId\": 24902, \"precision\": 0.0, \"recall\": 0.0}, {\"count\": 5, \"cutoff\": 41, \"userId\": 24902, \"precision\": 0.0, \"recall\": 0.0}, {\"count\": 5, \"cutoff\": 46, \"userId\": 24902, \"precision\": 0.0, \"recall\": 0.0}, {\"count\": 2, \"cutoff\": 1, \"userId\": 28050, \"precision\": 0.0, \"recall\": 0.0}, {\"count\": 2, \"cutoff\": 2, \"userId\": 28050, \"precision\": 0.0, \"recall\": 0.0}, {\"count\": 2, \"cutoff\": 3, \"userId\": 28050, \"precision\": 0.0, \"recall\": 0.0}, {\"count\": 2, \"cutoff\": 4, \"userId\": 28050, \"precision\": 0.0, \"recall\": 0.0}, {\"count\": 2, \"cutoff\": 5, \"userId\": 28050, \"precision\": 0.0, \"recall\": 0.0}, {\"count\": 2, \"cutoff\": 6, \"userId\": 28050, \"precision\": 0.0, \"recall\": 0.0}, {\"count\": 2, \"cutoff\": 7, \"userId\": 28050, \"precision\": 0.0, \"recall\": 0.0}, {\"count\": 2, \"cutoff\": 8, \"userId\": 28050, \"precision\": 0.0, \"recall\": 0.0}, {\"count\": 2, \"cutoff\": 9, \"userId\": 28050, \"precision\": 0.0, \"recall\": 0.0}, {\"count\": 2, \"cutoff\": 10, \"userId\": 28050, \"precision\": 0.0, \"recall\": 0.0}, {\"count\": 2, \"cutoff\": 11, \"userId\": 28050, \"precision\": 0.0, \"recall\": 0.0}, {\"count\": 2, \"cutoff\": 16, \"userId\": 28050, \"precision\": 0.0, \"recall\": 0.0}, {\"count\": 2, \"cutoff\": 21, \"userId\": 28050, \"precision\": 0.0, \"recall\": 0.0}, {\"count\": 2, \"cutoff\": 26, \"userId\": 28050, \"precision\": 0.0, \"recall\": 0.0}, {\"count\": 2, \"cutoff\": 31, \"userId\": 28050, \"precision\": 0.0, \"recall\": 0.0}, {\"count\": 2, \"cutoff\": 36, \"userId\": 28050, \"precision\": 0.0, \"recall\": 0.0}, {\"count\": 2, \"cutoff\": 41, \"userId\": 28050, \"precision\": 0.0, \"recall\": 0.0}, {\"count\": 2, \"cutoff\": 46, \"userId\": 28050, \"precision\": 0.0, \"recall\": 0.0}, {\"count\": 59, \"cutoff\": 1, \"userId\": 28599, \"precision\": 0.0, \"recall\": 0.0}, {\"count\": 59, \"cutoff\": 2, \"userId\": 28599, \"precision\": 0.0, \"recall\": 0.0}, {\"count\": 59, \"cutoff\": 3, \"userId\": 28599, \"precision\": 0.0, \"recall\": 0.0}, {\"count\": 59, \"cutoff\": 4, \"userId\": 28599, \"precision\": 0.0, \"recall\": 0.0}, {\"count\": 59, \"cutoff\": 5, \"userId\": 28599, \"precision\": 0.0, \"recall\": 0.0}, {\"count\": 59, \"cutoff\": 6, \"userId\": 28599, \"precision\": 0.0, \"recall\": 0.0}, {\"count\": 59, \"cutoff\": 7, \"userId\": 28599, \"precision\": 0.0, \"recall\": 0.0}, {\"count\": 59, \"cutoff\": 8, \"userId\": 28599, \"precision\": 0.0, \"recall\": 0.0}, {\"count\": 59, \"cutoff\": 9, \"userId\": 28599, \"precision\": 0.0, \"recall\": 0.0}, {\"count\": 59, \"cutoff\": 10, \"userId\": 28599, \"precision\": 0.0, \"recall\": 0.0}, {\"count\": 59, \"cutoff\": 11, \"userId\": 28599, \"precision\": 0.0, \"recall\": 0.0}, {\"count\": 59, \"cutoff\": 16, \"userId\": 28599, \"precision\": 0.0, \"recall\": 0.0}, {\"count\": 59, \"cutoff\": 21, \"userId\": 28599, \"precision\": 0.0, \"recall\": 0.0}, {\"count\": 59, \"cutoff\": 26, \"userId\": 28599, \"precision\": 0.0, \"recall\": 0.0}, {\"count\": 59, \"cutoff\": 31, \"userId\": 28599, \"precision\": 0.0, \"recall\": 0.0}, {\"count\": 59, \"cutoff\": 36, \"userId\": 28599, \"precision\": 0.0, \"recall\": 0.0}, {\"count\": 59, \"cutoff\": 41, \"userId\": 28599, \"precision\": 0.0, \"recall\": 0.0}, {\"count\": 59, \"cutoff\": 46, \"userId\": 28599, \"precision\": 0.0, \"recall\": 0.0}, {\"count\": 8, \"cutoff\": 1, \"userId\": 28744, \"precision\": 0.0, \"recall\": 0.0}, {\"count\": 8, \"cutoff\": 2, \"userId\": 28744, \"precision\": 0.0, \"recall\": 0.0}, {\"count\": 8, \"cutoff\": 3, \"userId\": 28744, \"precision\": 0.0, \"recall\": 0.0}, {\"count\": 8, \"cutoff\": 4, \"userId\": 28744, \"precision\": 0.0, \"recall\": 0.0}, {\"count\": 8, \"cutoff\": 5, \"userId\": 28744, \"precision\": 0.0, \"recall\": 0.0}, {\"count\": 8, \"cutoff\": 6, \"userId\": 28744, \"precision\": 0.0, \"recall\": 0.0}, {\"count\": 8, \"cutoff\": 7, \"userId\": 28744, \"precision\": 0.0, \"recall\": 0.0}, {\"count\": 8, \"cutoff\": 8, \"userId\": 28744, \"precision\": 0.0, \"recall\": 0.0}, {\"count\": 8, \"cutoff\": 9, \"userId\": 28744, \"precision\": 0.0, \"recall\": 0.0}, {\"count\": 8, \"cutoff\": 10, \"userId\": 28744, \"precision\": 0.0, \"recall\": 0.0}, {\"count\": 8, \"cutoff\": 11, \"userId\": 28744, \"precision\": 0.0, \"recall\": 0.0}, {\"count\": 8, \"cutoff\": 16, \"userId\": 28744, \"precision\": 0.0, \"recall\": 0.0}, {\"count\": 8, \"cutoff\": 21, \"userId\": 28744, \"precision\": 0.0, \"recall\": 0.0}, {\"count\": 8, \"cutoff\": 26, \"userId\": 28744, \"precision\": 0.0, \"recall\": 0.0}, {\"count\": 8, \"cutoff\": 31, \"userId\": 28744, \"precision\": 0.0, \"recall\": 0.0}, {\"count\": 8, \"cutoff\": 36, \"userId\": 28744, \"precision\": 0.0, \"recall\": 0.0}, {\"count\": 8, \"cutoff\": 41, \"userId\": 28744, \"precision\": 0.0, \"recall\": 0.0}, {\"count\": 8, \"cutoff\": 46, \"userId\": 28744, \"precision\": 0.0, \"recall\": 0.0}, {\"count\": 1, \"cutoff\": 1, \"userId\": 31647, \"precision\": 0.0, \"recall\": 0.0}, {\"count\": 1, \"cutoff\": 2, \"userId\": 31647, \"precision\": 0.0, \"recall\": 0.0}, {\"count\": 1, \"cutoff\": 3, \"userId\": 31647, \"precision\": 0.0, \"recall\": 0.0}, {\"count\": 1, \"cutoff\": 4, \"userId\": 31647, \"precision\": 0.0, \"recall\": 0.0}, {\"count\": 1, \"cutoff\": 5, \"userId\": 31647, \"precision\": 0.0, \"recall\": 0.0}, {\"count\": 1, \"cutoff\": 6, \"userId\": 31647, \"precision\": 0.0, \"recall\": 0.0}, {\"count\": 1, \"cutoff\": 7, \"userId\": 31647, \"precision\": 0.0, \"recall\": 0.0}, {\"count\": 1, \"cutoff\": 8, \"userId\": 31647, \"precision\": 0.0, \"recall\": 0.0}, {\"count\": 1, \"cutoff\": 9, \"userId\": 31647, \"precision\": 0.0, \"recall\": 0.0}, {\"count\": 1, \"cutoff\": 10, \"userId\": 31647, \"precision\": 0.0, \"recall\": 0.0}, {\"count\": 1, \"cutoff\": 11, \"userId\": 31647, \"precision\": 0.0, \"recall\": 0.0}, {\"count\": 1, \"cutoff\": 16, \"userId\": 31647, \"precision\": 0.0, \"recall\": 0.0}, {\"count\": 1, \"cutoff\": 21, \"userId\": 31647, \"precision\": 0.0, \"recall\": 0.0}, {\"count\": 1, \"cutoff\": 26, \"userId\": 31647, \"precision\": 0.0, \"recall\": 0.0}, {\"count\": 1, \"cutoff\": 31, \"userId\": 31647, \"precision\": 0.0, \"recall\": 0.0}, {\"count\": 1, \"cutoff\": 36, \"userId\": 31647, \"precision\": 0.0, \"recall\": 0.0}, {\"count\": 1, \"cutoff\": 41, \"userId\": 31647, \"precision\": 0.0, \"recall\": 0.0}, {\"count\": 1, \"cutoff\": 46, \"userId\": 31647, \"precision\": 0.0, \"recall\": 0.0}, {\"count\": 20, \"cutoff\": 1, \"userId\": 33775, \"precision\": 0.0, \"recall\": 0.0}, {\"count\": 20, \"cutoff\": 2, \"userId\": 33775, \"precision\": 0.0, \"recall\": 0.0}, {\"count\": 20, \"cutoff\": 3, \"userId\": 33775, \"precision\": 0.0, \"recall\": 0.0}, {\"count\": 20, \"cutoff\": 4, \"userId\": 33775, \"precision\": 0.0, \"recall\": 0.0}, {\"count\": 20, \"cutoff\": 5, \"userId\": 33775, \"precision\": 0.0, \"recall\": 0.0}, {\"count\": 20, \"cutoff\": 6, \"userId\": 33775, \"precision\": 0.0, \"recall\": 0.0}, {\"count\": 20, \"cutoff\": 7, \"userId\": 33775, \"precision\": 0.0, \"recall\": 0.0}, {\"count\": 20, \"cutoff\": 8, \"userId\": 33775, \"precision\": 0.0, \"recall\": 0.0}, {\"count\": 20, \"cutoff\": 9, \"userId\": 33775, \"precision\": 0.0, \"recall\": 0.0}, {\"count\": 20, \"cutoff\": 10, \"userId\": 33775, \"precision\": 0.0, \"recall\": 0.0}, {\"count\": 20, \"cutoff\": 11, \"userId\": 33775, \"precision\": 0.0, \"recall\": 0.0}, {\"count\": 20, \"cutoff\": 16, \"userId\": 33775, \"precision\": 0.0, \"recall\": 0.0}, {\"count\": 20, \"cutoff\": 21, \"userId\": 33775, \"precision\": 0.0, \"recall\": 0.0}, {\"count\": 20, \"cutoff\": 26, \"userId\": 33775, \"precision\": 0.0, \"recall\": 0.0}, {\"count\": 20, \"cutoff\": 31, \"userId\": 33775, \"precision\": 0.0, \"recall\": 0.0}, {\"count\": 20, \"cutoff\": 36, \"userId\": 33775, \"precision\": 0.0, \"recall\": 0.0}, {\"count\": 20, \"cutoff\": 41, \"userId\": 33775, \"precision\": 0.0, \"recall\": 0.0}, {\"count\": 20, \"cutoff\": 46, \"userId\": 33775, \"precision\": 0.0, \"recall\": 0.0}, {\"count\": 62, \"cutoff\": 1, \"userId\": 35050, \"precision\": 0.0, \"recall\": 0.0}, {\"count\": 62, \"cutoff\": 2, \"userId\": 35050, \"precision\": 0.0, \"recall\": 0.0}, {\"count\": 62, \"cutoff\": 3, \"userId\": 35050, \"precision\": 0.0, \"recall\": 0.0}, {\"count\": 62, \"cutoff\": 4, \"userId\": 35050, \"precision\": 0.0, \"recall\": 0.0}, {\"count\": 62, \"cutoff\": 5, \"userId\": 35050, \"precision\": 0.0, \"recall\": 0.0}, {\"count\": 62, \"cutoff\": 6, \"userId\": 35050, \"precision\": 0.0, \"recall\": 0.0}, {\"count\": 62, \"cutoff\": 7, \"userId\": 35050, \"precision\": 0.0, \"recall\": 0.0}, {\"count\": 62, \"cutoff\": 8, \"userId\": 35050, \"precision\": 0.0, \"recall\": 0.0}, {\"count\": 62, \"cutoff\": 9, \"userId\": 35050, \"precision\": 0.0, \"recall\": 0.0}, {\"count\": 62, \"cutoff\": 10, \"userId\": 35050, \"precision\": 0.0, \"recall\": 0.0}, {\"count\": 62, \"cutoff\": 11, \"userId\": 35050, \"precision\": 0.0, \"recall\": 0.0}, {\"count\": 62, \"cutoff\": 16, \"userId\": 35050, \"precision\": 0.0, \"recall\": 0.0}, {\"count\": 62, \"cutoff\": 21, \"userId\": 35050, \"precision\": 0.0, \"recall\": 0.0}, {\"count\": 62, \"cutoff\": 26, \"userId\": 35050, \"precision\": 0.0, \"recall\": 0.0}, {\"count\": 62, \"cutoff\": 31, \"userId\": 35050, \"precision\": 0.0, \"recall\": 0.0}, {\"count\": 62, \"cutoff\": 36, \"userId\": 35050, \"precision\": 0.0, \"recall\": 0.0}, {\"count\": 62, \"cutoff\": 41, \"userId\": 35050, \"precision\": 0.0, \"recall\": 0.0}, {\"count\": 62, \"cutoff\": 46, \"userId\": 35050, \"precision\": 0.0, \"recall\": 0.0}, {\"count\": 41, \"cutoff\": 1, \"userId\": 35705, \"precision\": 0.0, \"recall\": 0.0}, {\"count\": 41, \"cutoff\": 2, \"userId\": 35705, \"precision\": 0.0, \"recall\": 0.0}, {\"count\": 41, \"cutoff\": 3, \"userId\": 35705, \"precision\": 0.0, \"recall\": 0.0}, {\"count\": 41, \"cutoff\": 4, \"userId\": 35705, \"precision\": 0.0, \"recall\": 0.0}, {\"count\": 41, \"cutoff\": 5, \"userId\": 35705, \"precision\": 0.0, \"recall\": 0.0}, {\"count\": 41, \"cutoff\": 6, \"userId\": 35705, \"precision\": 0.0, \"recall\": 0.0}, {\"count\": 41, \"cutoff\": 7, \"userId\": 35705, \"precision\": 0.0, \"recall\": 0.0}, {\"count\": 41, \"cutoff\": 8, \"userId\": 35705, \"precision\": 0.0, \"recall\": 0.0}, {\"count\": 41, \"cutoff\": 9, \"userId\": 35705, \"precision\": 0.0, \"recall\": 0.0}, {\"count\": 41, \"cutoff\": 10, \"userId\": 35705, \"precision\": 0.0, \"recall\": 0.0}, {\"count\": 41, \"cutoff\": 11, \"userId\": 35705, \"precision\": 0.0, \"recall\": 0.0}, {\"count\": 41, \"cutoff\": 16, \"userId\": 35705, \"precision\": 0.0, \"recall\": 0.0}, {\"count\": 41, \"cutoff\": 21, \"userId\": 35705, \"precision\": 0.0, \"recall\": 0.0}, {\"count\": 41, \"cutoff\": 26, \"userId\": 35705, \"precision\": 0.0, \"recall\": 0.0}, {\"count\": 41, \"cutoff\": 31, \"userId\": 35705, \"precision\": 0.03225806451612903, \"recall\": 0.024390243902439025}, {\"count\": 41, \"cutoff\": 36, \"userId\": 35705, \"precision\": 0.027777777777777776, \"recall\": 0.024390243902439025}, {\"count\": 41, \"cutoff\": 41, \"userId\": 35705, \"precision\": 0.04878048780487805, \"recall\": 0.04878048780487805}, {\"count\": 41, \"cutoff\": 46, \"userId\": 35705, \"precision\": 0.043478260869565216, \"recall\": 0.04878048780487805}, {\"count\": 10, \"cutoff\": 1, \"userId\": 36320, \"precision\": 0.0, \"recall\": 0.0}, {\"count\": 10, \"cutoff\": 2, \"userId\": 36320, \"precision\": 0.0, \"recall\": 0.0}, {\"count\": 10, \"cutoff\": 3, \"userId\": 36320, \"precision\": 0.0, \"recall\": 0.0}, {\"count\": 10, \"cutoff\": 4, \"userId\": 36320, \"precision\": 0.0, \"recall\": 0.0}, {\"count\": 10, \"cutoff\": 5, \"userId\": 36320, \"precision\": 0.0, \"recall\": 0.0}, {\"count\": 10, \"cutoff\": 6, \"userId\": 36320, \"precision\": 0.0, \"recall\": 0.0}, {\"count\": 10, \"cutoff\": 7, \"userId\": 36320, \"precision\": 0.0, \"recall\": 0.0}, {\"count\": 10, \"cutoff\": 8, \"userId\": 36320, \"precision\": 0.0, \"recall\": 0.0}, {\"count\": 10, \"cutoff\": 9, \"userId\": 36320, \"precision\": 0.0, \"recall\": 0.0}, {\"count\": 10, \"cutoff\": 10, \"userId\": 36320, \"precision\": 0.0, \"recall\": 0.0}, {\"count\": 10, \"cutoff\": 11, \"userId\": 36320, \"precision\": 0.0, \"recall\": 0.0}, {\"count\": 10, \"cutoff\": 16, \"userId\": 36320, \"precision\": 0.0, \"recall\": 0.0}, {\"count\": 10, \"cutoff\": 21, \"userId\": 36320, \"precision\": 0.0, \"recall\": 0.0}, {\"count\": 10, \"cutoff\": 26, \"userId\": 36320, \"precision\": 0.0, \"recall\": 0.0}, {\"count\": 10, \"cutoff\": 31, \"userId\": 36320, \"precision\": 0.0, \"recall\": 0.0}, {\"count\": 10, \"cutoff\": 36, \"userId\": 36320, \"precision\": 0.0, \"recall\": 0.0}, {\"count\": 10, \"cutoff\": 41, \"userId\": 36320, \"precision\": 0.0, \"recall\": 0.0}, {\"count\": 10, \"cutoff\": 46, \"userId\": 36320, \"precision\": 0.0, \"recall\": 0.0}, {\"count\": 2, \"cutoff\": 1, \"userId\": 40335, \"precision\": 0.0, \"recall\": 0.0}, {\"count\": 2, \"cutoff\": 2, \"userId\": 40335, \"precision\": 0.0, \"recall\": 0.0}, {\"count\": 2, \"cutoff\": 3, \"userId\": 40335, \"precision\": 0.0, \"recall\": 0.0}, {\"count\": 2, \"cutoff\": 4, \"userId\": 40335, \"precision\": 0.0, \"recall\": 0.0}, {\"count\": 2, \"cutoff\": 5, \"userId\": 40335, \"precision\": 0.0, \"recall\": 0.0}, {\"count\": 2, \"cutoff\": 6, \"userId\": 40335, \"precision\": 0.0, \"recall\": 0.0}, {\"count\": 2, \"cutoff\": 7, \"userId\": 40335, \"precision\": 0.0, \"recall\": 0.0}, {\"count\": 2, \"cutoff\": 8, \"userId\": 40335, \"precision\": 0.0, \"recall\": 0.0}, {\"count\": 2, \"cutoff\": 9, \"userId\": 40335, \"precision\": 0.0, \"recall\": 0.0}, {\"count\": 2, \"cutoff\": 10, \"userId\": 40335, \"precision\": 0.0, \"recall\": 0.0}, {\"count\": 2, \"cutoff\": 11, \"userId\": 40335, \"precision\": 0.0, \"recall\": 0.0}, {\"count\": 2, \"cutoff\": 16, \"userId\": 40335, \"precision\": 0.0, \"recall\": 0.0}, {\"count\": 2, \"cutoff\": 21, \"userId\": 40335, \"precision\": 0.0, \"recall\": 0.0}, {\"count\": 2, \"cutoff\": 26, \"userId\": 40335, \"precision\": 0.0, \"recall\": 0.0}, {\"count\": 2, \"cutoff\": 31, \"userId\": 40335, \"precision\": 0.0, \"recall\": 0.0}, {\"count\": 2, \"cutoff\": 36, \"userId\": 40335, \"precision\": 0.0, \"recall\": 0.0}, {\"count\": 2, \"cutoff\": 41, \"userId\": 40335, \"precision\": 0.0, \"recall\": 0.0}, {\"count\": 2, \"cutoff\": 46, \"userId\": 40335, \"precision\": 0.0, \"recall\": 0.0}, {\"count\": 30, \"cutoff\": 1, \"userId\": 41160, \"precision\": 0.0, \"recall\": 0.0}, {\"count\": 30, \"cutoff\": 2, \"userId\": 41160, \"precision\": 0.0, \"recall\": 0.0}, {\"count\": 30, \"cutoff\": 3, \"userId\": 41160, \"precision\": 0.0, \"recall\": 0.0}, {\"count\": 30, \"cutoff\": 4, \"userId\": 41160, \"precision\": 0.0, \"recall\": 0.0}, {\"count\": 30, \"cutoff\": 5, \"userId\": 41160, \"precision\": 0.0, \"recall\": 0.0}, {\"count\": 30, \"cutoff\": 6, \"userId\": 41160, \"precision\": 0.0, \"recall\": 0.0}, {\"count\": 30, \"cutoff\": 7, \"userId\": 41160, \"precision\": 0.0, \"recall\": 0.0}, {\"count\": 30, \"cutoff\": 8, \"userId\": 41160, \"precision\": 0.0, \"recall\": 0.0}, {\"count\": 30, \"cutoff\": 9, \"userId\": 41160, \"precision\": 0.0, \"recall\": 0.0}, {\"count\": 30, \"cutoff\": 10, \"userId\": 41160, \"precision\": 0.0, \"recall\": 0.0}, {\"count\": 30, \"cutoff\": 11, \"userId\": 41160, \"precision\": 0.0, \"recall\": 0.0}, {\"count\": 30, \"cutoff\": 16, \"userId\": 41160, \"precision\": 0.0, \"recall\": 0.0}, {\"count\": 30, \"cutoff\": 21, \"userId\": 41160, \"precision\": 0.0, \"recall\": 0.0}, {\"count\": 30, \"cutoff\": 26, \"userId\": 41160, \"precision\": 0.0, \"recall\": 0.0}, {\"count\": 30, \"cutoff\": 31, \"userId\": 41160, \"precision\": 0.0, \"recall\": 0.0}, {\"count\": 30, \"cutoff\": 36, \"userId\": 41160, \"precision\": 0.0, \"recall\": 0.0}, {\"count\": 30, \"cutoff\": 41, \"userId\": 41160, \"precision\": 0.0, \"recall\": 0.0}, {\"count\": 30, \"cutoff\": 46, \"userId\": 41160, \"precision\": 0.0, \"recall\": 0.0}, {\"count\": 1, \"cutoff\": 1, \"userId\": 49928, \"precision\": 0.0, \"recall\": 0.0}, {\"count\": 1, \"cutoff\": 2, \"userId\": 49928, \"precision\": 0.0, \"recall\": 0.0}, {\"count\": 1, \"cutoff\": 3, \"userId\": 49928, \"precision\": 0.0, \"recall\": 0.0}, {\"count\": 1, \"cutoff\": 4, \"userId\": 49928, \"precision\": 0.0, \"recall\": 0.0}, {\"count\": 1, \"cutoff\": 5, \"userId\": 49928, \"precision\": 0.0, \"recall\": 0.0}, {\"count\": 1, \"cutoff\": 6, \"userId\": 49928, \"precision\": 0.0, \"recall\": 0.0}, {\"count\": 1, \"cutoff\": 7, \"userId\": 49928, \"precision\": 0.0, \"recall\": 0.0}, {\"count\": 1, \"cutoff\": 8, \"userId\": 49928, \"precision\": 0.0, \"recall\": 0.0}, {\"count\": 1, \"cutoff\": 9, \"userId\": 49928, \"precision\": 0.0, \"recall\": 0.0}, {\"count\": 1, \"cutoff\": 10, \"userId\": 49928, \"precision\": 0.0, \"recall\": 0.0}, {\"count\": 1, \"cutoff\": 11, \"userId\": 49928, \"precision\": 0.0, \"recall\": 0.0}, {\"count\": 1, \"cutoff\": 16, \"userId\": 49928, \"precision\": 0.0, \"recall\": 0.0}, {\"count\": 1, \"cutoff\": 21, \"userId\": 49928, \"precision\": 0.0, \"recall\": 0.0}, {\"count\": 1, \"cutoff\": 26, \"userId\": 49928, \"precision\": 0.0, \"recall\": 0.0}, {\"count\": 1, \"cutoff\": 31, \"userId\": 49928, \"precision\": 0.0, \"recall\": 0.0}, {\"count\": 1, \"cutoff\": 36, \"userId\": 49928, \"precision\": 0.0, \"recall\": 0.0}, {\"count\": 1, \"cutoff\": 41, \"userId\": 49928, \"precision\": 0.0, \"recall\": 0.0}, {\"count\": 1, \"cutoff\": 46, \"userId\": 49928, \"precision\": 0.0, \"recall\": 0.0}, {\"count\": 1, \"cutoff\": 1, \"userId\": 51639, \"precision\": 0.0, \"recall\": 0.0}, {\"count\": 1, \"cutoff\": 2, \"userId\": 51639, \"precision\": 0.0, \"recall\": 0.0}, {\"count\": 1, \"cutoff\": 3, \"userId\": 51639, \"precision\": 0.0, \"recall\": 0.0}, {\"count\": 1, \"cutoff\": 4, \"userId\": 51639, \"precision\": 0.0, \"recall\": 0.0}, {\"count\": 1, \"cutoff\": 5, \"userId\": 51639, \"precision\": 0.0, \"recall\": 0.0}, {\"count\": 1, \"cutoff\": 6, \"userId\": 51639, \"precision\": 0.0, \"recall\": 0.0}, {\"count\": 1, \"cutoff\": 7, \"userId\": 51639, \"precision\": 0.0, \"recall\": 0.0}, {\"count\": 1, \"cutoff\": 8, \"userId\": 51639, \"precision\": 0.0, \"recall\": 0.0}, {\"count\": 1, \"cutoff\": 9, \"userId\": 51639, \"precision\": 0.0, \"recall\": 0.0}, {\"count\": 1, \"cutoff\": 10, \"userId\": 51639, \"precision\": 0.0, \"recall\": 0.0}, {\"count\": 1, \"cutoff\": 11, \"userId\": 51639, \"precision\": 0.0, \"recall\": 0.0}, {\"count\": 1, \"cutoff\": 16, \"userId\": 51639, \"precision\": 0.0, \"recall\": 0.0}, {\"count\": 1, \"cutoff\": 21, \"userId\": 51639, \"precision\": 0.0, \"recall\": 0.0}, {\"count\": 1, \"cutoff\": 26, \"userId\": 51639, \"precision\": 0.0, \"recall\": 0.0}, {\"count\": 1, \"cutoff\": 31, \"userId\": 51639, \"precision\": 0.0, \"recall\": 0.0}, {\"count\": 1, \"cutoff\": 36, \"userId\": 51639, \"precision\": 0.0, \"recall\": 0.0}, {\"count\": 1, \"cutoff\": 41, \"userId\": 51639, \"precision\": 0.0, \"recall\": 0.0}, {\"count\": 1, \"cutoff\": 46, \"userId\": 51639, \"precision\": 0.0, \"recall\": 0.0}, {\"count\": 30, \"cutoff\": 1, \"userId\": 55704, \"precision\": 0.0, \"recall\": 0.0}, {\"count\": 30, \"cutoff\": 2, \"userId\": 55704, \"precision\": 0.0, \"recall\": 0.0}, {\"count\": 30, \"cutoff\": 3, \"userId\": 55704, \"precision\": 0.0, \"recall\": 0.0}, {\"count\": 30, \"cutoff\": 4, \"userId\": 55704, \"precision\": 0.0, \"recall\": 0.0}, {\"count\": 30, \"cutoff\": 5, \"userId\": 55704, \"precision\": 0.0, \"recall\": 0.0}, {\"count\": 30, \"cutoff\": 6, \"userId\": 55704, \"precision\": 0.0, \"recall\": 0.0}, {\"count\": 30, \"cutoff\": 7, \"userId\": 55704, \"precision\": 0.0, \"recall\": 0.0}, {\"count\": 30, \"cutoff\": 8, \"userId\": 55704, \"precision\": 0.0, \"recall\": 0.0}, {\"count\": 30, \"cutoff\": 9, \"userId\": 55704, \"precision\": 0.0, \"recall\": 0.0}, {\"count\": 30, \"cutoff\": 10, \"userId\": 55704, \"precision\": 0.0, \"recall\": 0.0}, {\"count\": 30, \"cutoff\": 11, \"userId\": 55704, \"precision\": 0.0, \"recall\": 0.0}, {\"count\": 30, \"cutoff\": 16, \"userId\": 55704, \"precision\": 0.0, \"recall\": 0.0}, {\"count\": 30, \"cutoff\": 21, \"userId\": 55704, \"precision\": 0.047619047619047616, \"recall\": 0.03333333333333333}, {\"count\": 30, \"cutoff\": 26, \"userId\": 55704, \"precision\": 0.038461538461538464, \"recall\": 0.03333333333333333}, {\"count\": 30, \"cutoff\": 31, \"userId\": 55704, \"precision\": 0.03225806451612903, \"recall\": 0.03333333333333333}, {\"count\": 30, \"cutoff\": 36, \"userId\": 55704, \"precision\": 0.027777777777777776, \"recall\": 0.03333333333333333}, {\"count\": 30, \"cutoff\": 41, \"userId\": 55704, \"precision\": 0.024390243902439025, \"recall\": 0.03333333333333333}, {\"count\": 30, \"cutoff\": 46, \"userId\": 55704, \"precision\": 0.021739130434782608, \"recall\": 0.03333333333333333}, {\"count\": 2, \"cutoff\": 1, \"userId\": 57387, \"precision\": 0.0, \"recall\": 0.0}, {\"count\": 2, \"cutoff\": 2, \"userId\": 57387, \"precision\": 0.0, \"recall\": 0.0}, {\"count\": 2, \"cutoff\": 3, \"userId\": 57387, \"precision\": 0.0, \"recall\": 0.0}, {\"count\": 2, \"cutoff\": 4, \"userId\": 57387, \"precision\": 0.0, \"recall\": 0.0}, {\"count\": 2, \"cutoff\": 5, \"userId\": 57387, \"precision\": 0.0, \"recall\": 0.0}, {\"count\": 2, \"cutoff\": 6, \"userId\": 57387, \"precision\": 0.0, \"recall\": 0.0}, {\"count\": 2, \"cutoff\": 7, \"userId\": 57387, \"precision\": 0.0, \"recall\": 0.0}, {\"count\": 2, \"cutoff\": 8, \"userId\": 57387, \"precision\": 0.0, \"recall\": 0.0}, {\"count\": 2, \"cutoff\": 9, \"userId\": 57387, \"precision\": 0.0, \"recall\": 0.0}, {\"count\": 2, \"cutoff\": 10, \"userId\": 57387, \"precision\": 0.0, \"recall\": 0.0}, {\"count\": 2, \"cutoff\": 11, \"userId\": 57387, \"precision\": 0.0, \"recall\": 0.0}, {\"count\": 2, \"cutoff\": 16, \"userId\": 57387, \"precision\": 0.0, \"recall\": 0.0}, {\"count\": 2, \"cutoff\": 21, \"userId\": 57387, \"precision\": 0.0, \"recall\": 0.0}, {\"count\": 2, \"cutoff\": 26, \"userId\": 57387, \"precision\": 0.0, \"recall\": 0.0}, {\"count\": 2, \"cutoff\": 31, \"userId\": 57387, \"precision\": 0.0, \"recall\": 0.0}, {\"count\": 2, \"cutoff\": 36, \"userId\": 57387, \"precision\": 0.0, \"recall\": 0.0}, {\"count\": 2, \"cutoff\": 41, \"userId\": 57387, \"precision\": 0.0, \"recall\": 0.0}, {\"count\": 2, \"cutoff\": 46, \"userId\": 57387, \"precision\": 0.0, \"recall\": 0.0}, {\"count\": 22, \"cutoff\": 1, \"userId\": 57499, \"precision\": 0.0, \"recall\": 0.0}, {\"count\": 22, \"cutoff\": 2, \"userId\": 57499, \"precision\": 0.0, \"recall\": 0.0}, {\"count\": 22, \"cutoff\": 3, \"userId\": 57499, \"precision\": 0.0, \"recall\": 0.0}, {\"count\": 22, \"cutoff\": 4, \"userId\": 57499, \"precision\": 0.0, \"recall\": 0.0}, {\"count\": 22, \"cutoff\": 5, \"userId\": 57499, \"precision\": 0.0, \"recall\": 0.0}, {\"count\": 22, \"cutoff\": 6, \"userId\": 57499, \"precision\": 0.0, \"recall\": 0.0}, {\"count\": 22, \"cutoff\": 7, \"userId\": 57499, \"precision\": 0.0, \"recall\": 0.0}, {\"count\": 22, \"cutoff\": 8, \"userId\": 57499, \"precision\": 0.0, \"recall\": 0.0}, {\"count\": 22, \"cutoff\": 9, \"userId\": 57499, \"precision\": 0.0, \"recall\": 0.0}, {\"count\": 22, \"cutoff\": 10, \"userId\": 57499, \"precision\": 0.0, \"recall\": 0.0}, {\"count\": 22, \"cutoff\": 11, \"userId\": 57499, \"precision\": 0.0, \"recall\": 0.0}, {\"count\": 22, \"cutoff\": 16, \"userId\": 57499, \"precision\": 0.0, \"recall\": 0.0}, {\"count\": 22, \"cutoff\": 21, \"userId\": 57499, \"precision\": 0.0, \"recall\": 0.0}, {\"count\": 22, \"cutoff\": 26, \"userId\": 57499, \"precision\": 0.0, \"recall\": 0.0}, {\"count\": 22, \"cutoff\": 31, \"userId\": 57499, \"precision\": 0.0, \"recall\": 0.0}, {\"count\": 22, \"cutoff\": 36, \"userId\": 57499, \"precision\": 0.0, \"recall\": 0.0}, {\"count\": 22, \"cutoff\": 41, \"userId\": 57499, \"precision\": 0.0, \"recall\": 0.0}, {\"count\": 22, \"cutoff\": 46, \"userId\": 57499, \"precision\": 0.0, \"recall\": 0.0}, {\"count\": 12, \"cutoff\": 1, \"userId\": 57763, \"precision\": 0.0, \"recall\": 0.0}, {\"count\": 12, \"cutoff\": 2, \"userId\": 57763, \"precision\": 0.0, \"recall\": 0.0}, {\"count\": 12, \"cutoff\": 3, \"userId\": 57763, \"precision\": 0.0, \"recall\": 0.0}, {\"count\": 12, \"cutoff\": 4, \"userId\": 57763, \"precision\": 0.0, \"recall\": 0.0}, {\"count\": 12, \"cutoff\": 5, \"userId\": 57763, \"precision\": 0.0, \"recall\": 0.0}, {\"count\": 12, \"cutoff\": 6, \"userId\": 57763, \"precision\": 0.0, \"recall\": 0.0}, {\"count\": 12, \"cutoff\": 7, \"userId\": 57763, \"precision\": 0.0, \"recall\": 0.0}, {\"count\": 12, \"cutoff\": 8, \"userId\": 57763, \"precision\": 0.0, \"recall\": 0.0}, {\"count\": 12, \"cutoff\": 9, \"userId\": 57763, \"precision\": 0.0, \"recall\": 0.0}, {\"count\": 12, \"cutoff\": 10, \"userId\": 57763, \"precision\": 0.0, \"recall\": 0.0}, {\"count\": 12, \"cutoff\": 11, \"userId\": 57763, \"precision\": 0.0, \"recall\": 0.0}, {\"count\": 12, \"cutoff\": 16, \"userId\": 57763, \"precision\": 0.0, \"recall\": 0.0}, {\"count\": 12, \"cutoff\": 21, \"userId\": 57763, \"precision\": 0.0, \"recall\": 0.0}, {\"count\": 12, \"cutoff\": 26, \"userId\": 57763, \"precision\": 0.0, \"recall\": 0.0}, {\"count\": 12, \"cutoff\": 31, \"userId\": 57763, \"precision\": 0.0, \"recall\": 0.0}, {\"count\": 12, \"cutoff\": 36, \"userId\": 57763, \"precision\": 0.0, \"recall\": 0.0}, {\"count\": 12, \"cutoff\": 41, \"userId\": 57763, \"precision\": 0.0, \"recall\": 0.0}, {\"count\": 12, \"cutoff\": 46, \"userId\": 57763, \"precision\": 0.0, \"recall\": 0.0}, {\"count\": 2, \"cutoff\": 1, \"userId\": 58397, \"precision\": 0.0, \"recall\": 0.0}, {\"count\": 2, \"cutoff\": 2, \"userId\": 58397, \"precision\": 0.0, \"recall\": 0.0}, {\"count\": 2, \"cutoff\": 3, \"userId\": 58397, \"precision\": 0.0, \"recall\": 0.0}, {\"count\": 2, \"cutoff\": 4, \"userId\": 58397, \"precision\": 0.0, \"recall\": 0.0}, {\"count\": 2, \"cutoff\": 5, \"userId\": 58397, \"precision\": 0.0, \"recall\": 0.0}, {\"count\": 2, \"cutoff\": 6, \"userId\": 58397, \"precision\": 0.0, \"recall\": 0.0}, {\"count\": 2, \"cutoff\": 7, \"userId\": 58397, \"precision\": 0.0, \"recall\": 0.0}, {\"count\": 2, \"cutoff\": 8, \"userId\": 58397, \"precision\": 0.0, \"recall\": 0.0}, {\"count\": 2, \"cutoff\": 9, \"userId\": 58397, \"precision\": 0.0, \"recall\": 0.0}, {\"count\": 2, \"cutoff\": 10, \"userId\": 58397, \"precision\": 0.0, \"recall\": 0.0}, {\"count\": 2, \"cutoff\": 11, \"userId\": 58397, \"precision\": 0.0, \"recall\": 0.0}, {\"count\": 2, \"cutoff\": 16, \"userId\": 58397, \"precision\": 0.0, \"recall\": 0.0}, {\"count\": 2, \"cutoff\": 21, \"userId\": 58397, \"precision\": 0.0, \"recall\": 0.0}, {\"count\": 2, \"cutoff\": 26, \"userId\": 58397, \"precision\": 0.0, \"recall\": 0.0}, {\"count\": 2, \"cutoff\": 31, \"userId\": 58397, \"precision\": 0.0, \"recall\": 0.0}, {\"count\": 2, \"cutoff\": 36, \"userId\": 58397, \"precision\": 0.0, \"recall\": 0.0}, {\"count\": 2, \"cutoff\": 41, \"userId\": 58397, \"precision\": 0.0, \"recall\": 0.0}, {\"count\": 2, \"cutoff\": 46, \"userId\": 58397, \"precision\": 0.0, \"recall\": 0.0}, {\"count\": 6, \"cutoff\": 1, \"userId\": 61152, \"precision\": 0.0, \"recall\": 0.0}, {\"count\": 6, \"cutoff\": 2, \"userId\": 61152, \"precision\": 0.0, \"recall\": 0.0}, {\"count\": 6, \"cutoff\": 3, \"userId\": 61152, \"precision\": 0.0, \"recall\": 0.0}, {\"count\": 6, \"cutoff\": 4, \"userId\": 61152, \"precision\": 0.0, \"recall\": 0.0}, {\"count\": 6, \"cutoff\": 5, \"userId\": 61152, \"precision\": 0.0, \"recall\": 0.0}, {\"count\": 6, \"cutoff\": 6, \"userId\": 61152, \"precision\": 0.0, \"recall\": 0.0}, {\"count\": 6, \"cutoff\": 7, \"userId\": 61152, \"precision\": 0.0, \"recall\": 0.0}, {\"count\": 6, \"cutoff\": 8, \"userId\": 61152, \"precision\": 0.0, \"recall\": 0.0}, {\"count\": 6, \"cutoff\": 9, \"userId\": 61152, \"precision\": 0.0, \"recall\": 0.0}, {\"count\": 6, \"cutoff\": 10, \"userId\": 61152, \"precision\": 0.0, \"recall\": 0.0}, {\"count\": 6, \"cutoff\": 11, \"userId\": 61152, \"precision\": 0.0, \"recall\": 0.0}, {\"count\": 6, \"cutoff\": 16, \"userId\": 61152, \"precision\": 0.0, \"recall\": 0.0}, {\"count\": 6, \"cutoff\": 21, \"userId\": 61152, \"precision\": 0.0, \"recall\": 0.0}, {\"count\": 6, \"cutoff\": 26, \"userId\": 61152, \"precision\": 0.0, \"recall\": 0.0}, {\"count\": 6, \"cutoff\": 31, \"userId\": 61152, \"precision\": 0.0, \"recall\": 0.0}, {\"count\": 6, \"cutoff\": 36, \"userId\": 61152, \"precision\": 0.027777777777777776, \"recall\": 0.16666666666666666}, {\"count\": 6, \"cutoff\": 41, \"userId\": 61152, \"precision\": 0.024390243902439025, \"recall\": 0.16666666666666666}, {\"count\": 6, \"cutoff\": 46, \"userId\": 61152, \"precision\": 0.021739130434782608, \"recall\": 0.16666666666666666}, {\"count\": 1, \"cutoff\": 1, \"userId\": 61343, \"precision\": 0.0, \"recall\": 0.0}, {\"count\": 1, \"cutoff\": 2, \"userId\": 61343, \"precision\": 0.0, \"recall\": 0.0}, {\"count\": 1, \"cutoff\": 3, \"userId\": 61343, \"precision\": 0.0, \"recall\": 0.0}, {\"count\": 1, \"cutoff\": 4, \"userId\": 61343, \"precision\": 0.0, \"recall\": 0.0}, {\"count\": 1, \"cutoff\": 5, \"userId\": 61343, \"precision\": 0.0, \"recall\": 0.0}, {\"count\": 1, \"cutoff\": 6, \"userId\": 61343, \"precision\": 0.0, \"recall\": 0.0}, {\"count\": 1, \"cutoff\": 7, \"userId\": 61343, \"precision\": 0.0, \"recall\": 0.0}, {\"count\": 1, \"cutoff\": 8, \"userId\": 61343, \"precision\": 0.0, \"recall\": 0.0}, {\"count\": 1, \"cutoff\": 9, \"userId\": 61343, \"precision\": 0.0, \"recall\": 0.0}, {\"count\": 1, \"cutoff\": 10, \"userId\": 61343, \"precision\": 0.0, \"recall\": 0.0}, {\"count\": 1, \"cutoff\": 11, \"userId\": 61343, \"precision\": 0.0, \"recall\": 0.0}, {\"count\": 1, \"cutoff\": 16, \"userId\": 61343, \"precision\": 0.0, \"recall\": 0.0}, {\"count\": 1, \"cutoff\": 21, \"userId\": 61343, \"precision\": 0.0, \"recall\": 0.0}, {\"count\": 1, \"cutoff\": 26, \"userId\": 61343, \"precision\": 0.0, \"recall\": 0.0}, {\"count\": 1, \"cutoff\": 31, \"userId\": 61343, \"precision\": 0.0, \"recall\": 0.0}, {\"count\": 1, \"cutoff\": 36, \"userId\": 61343, \"precision\": 0.0, \"recall\": 0.0}, {\"count\": 1, \"cutoff\": 41, \"userId\": 61343, \"precision\": 0.0, \"recall\": 0.0}, {\"count\": 1, \"cutoff\": 46, \"userId\": 61343, \"precision\": 0.0, \"recall\": 0.0}, {\"count\": 2, \"cutoff\": 1, \"userId\": 63697, \"precision\": 0.0, \"recall\": 0.0}, {\"count\": 2, \"cutoff\": 2, \"userId\": 63697, \"precision\": 0.0, \"recall\": 0.0}, {\"count\": 2, \"cutoff\": 3, \"userId\": 63697, \"precision\": 0.0, \"recall\": 0.0}, {\"count\": 2, \"cutoff\": 4, \"userId\": 63697, \"precision\": 0.0, \"recall\": 0.0}, {\"count\": 2, \"cutoff\": 5, \"userId\": 63697, \"precision\": 0.0, \"recall\": 0.0}, {\"count\": 2, \"cutoff\": 6, \"userId\": 63697, \"precision\": 0.0, \"recall\": 0.0}, {\"count\": 2, \"cutoff\": 7, \"userId\": 63697, \"precision\": 0.0, \"recall\": 0.0}, {\"count\": 2, \"cutoff\": 8, \"userId\": 63697, \"precision\": 0.0, \"recall\": 0.0}, {\"count\": 2, \"cutoff\": 9, \"userId\": 63697, \"precision\": 0.0, \"recall\": 0.0}, {\"count\": 2, \"cutoff\": 10, \"userId\": 63697, \"precision\": 0.0, \"recall\": 0.0}, {\"count\": 2, \"cutoff\": 11, \"userId\": 63697, \"precision\": 0.0, \"recall\": 0.0}, {\"count\": 2, \"cutoff\": 16, \"userId\": 63697, \"precision\": 0.0, \"recall\": 0.0}, {\"count\": 2, \"cutoff\": 21, \"userId\": 63697, \"precision\": 0.0, \"recall\": 0.0}, {\"count\": 2, \"cutoff\": 26, \"userId\": 63697, \"precision\": 0.0, \"recall\": 0.0}, {\"count\": 2, \"cutoff\": 31, \"userId\": 63697, \"precision\": 0.0, \"recall\": 0.0}, {\"count\": 2, \"cutoff\": 36, \"userId\": 63697, \"precision\": 0.0, \"recall\": 0.0}, {\"count\": 2, \"cutoff\": 41, \"userId\": 63697, \"precision\": 0.0, \"recall\": 0.0}, {\"count\": 2, \"cutoff\": 46, \"userId\": 63697, \"precision\": 0.0, \"recall\": 0.0}, {\"count\": 12, \"cutoff\": 1, \"userId\": 64150, \"precision\": 0.0, \"recall\": 0.0}, {\"count\": 12, \"cutoff\": 2, \"userId\": 64150, \"precision\": 0.0, \"recall\": 0.0}, {\"count\": 12, \"cutoff\": 3, \"userId\": 64150, \"precision\": 0.0, \"recall\": 0.0}, {\"count\": 12, \"cutoff\": 4, \"userId\": 64150, \"precision\": 0.0, \"recall\": 0.0}, {\"count\": 12, \"cutoff\": 5, \"userId\": 64150, \"precision\": 0.0, \"recall\": 0.0}, {\"count\": 12, \"cutoff\": 6, \"userId\": 64150, \"precision\": 0.0, \"recall\": 0.0}, {\"count\": 12, \"cutoff\": 7, \"userId\": 64150, \"precision\": 0.0, \"recall\": 0.0}, {\"count\": 12, \"cutoff\": 8, \"userId\": 64150, \"precision\": 0.0, \"recall\": 0.0}, {\"count\": 12, \"cutoff\": 9, \"userId\": 64150, \"precision\": 0.0, \"recall\": 0.0}, {\"count\": 12, \"cutoff\": 10, \"userId\": 64150, \"precision\": 0.0, \"recall\": 0.0}, {\"count\": 12, \"cutoff\": 11, \"userId\": 64150, \"precision\": 0.0, \"recall\": 0.0}, {\"count\": 12, \"cutoff\": 16, \"userId\": 64150, \"precision\": 0.0, \"recall\": 0.0}, {\"count\": 12, \"cutoff\": 21, \"userId\": 64150, \"precision\": 0.0, \"recall\": 0.0}, {\"count\": 12, \"cutoff\": 26, \"userId\": 64150, \"precision\": 0.0, \"recall\": 0.0}, {\"count\": 12, \"cutoff\": 31, \"userId\": 64150, \"precision\": 0.0, \"recall\": 0.0}, {\"count\": 12, \"cutoff\": 36, \"userId\": 64150, \"precision\": 0.0, \"recall\": 0.0}, {\"count\": 12, \"cutoff\": 41, \"userId\": 64150, \"precision\": 0.0, \"recall\": 0.0}, {\"count\": 12, \"cutoff\": 46, \"userId\": 64150, \"precision\": 0.0, \"recall\": 0.0}, {\"count\": 1, \"cutoff\": 1, \"userId\": 70192, \"precision\": 0.0, \"recall\": 0.0}, {\"count\": 1, \"cutoff\": 2, \"userId\": 70192, \"precision\": 0.0, \"recall\": 0.0}, {\"count\": 1, \"cutoff\": 3, \"userId\": 70192, \"precision\": 0.0, \"recall\": 0.0}, {\"count\": 1, \"cutoff\": 4, \"userId\": 70192, \"precision\": 0.0, \"recall\": 0.0}, {\"count\": 1, \"cutoff\": 5, \"userId\": 70192, \"precision\": 0.0, \"recall\": 0.0}, {\"count\": 1, \"cutoff\": 6, \"userId\": 70192, \"precision\": 0.0, \"recall\": 0.0}, {\"count\": 1, \"cutoff\": 7, \"userId\": 70192, \"precision\": 0.0, \"recall\": 0.0}, {\"count\": 1, \"cutoff\": 8, \"userId\": 70192, \"precision\": 0.0, \"recall\": 0.0}, {\"count\": 1, \"cutoff\": 9, \"userId\": 70192, \"precision\": 0.0, \"recall\": 0.0}, {\"count\": 1, \"cutoff\": 10, \"userId\": 70192, \"precision\": 0.0, \"recall\": 0.0}, {\"count\": 1, \"cutoff\": 11, \"userId\": 70192, \"precision\": 0.0, \"recall\": 0.0}, {\"count\": 1, \"cutoff\": 16, \"userId\": 70192, \"precision\": 0.0, \"recall\": 0.0}, {\"count\": 1, \"cutoff\": 21, \"userId\": 70192, \"precision\": 0.0, \"recall\": 0.0}, {\"count\": 1, \"cutoff\": 26, \"userId\": 70192, \"precision\": 0.0, \"recall\": 0.0}, {\"count\": 1, \"cutoff\": 31, \"userId\": 70192, \"precision\": 0.0, \"recall\": 0.0}, {\"count\": 1, \"cutoff\": 36, \"userId\": 70192, \"precision\": 0.0, \"recall\": 0.0}, {\"count\": 1, \"cutoff\": 41, \"userId\": 70192, \"precision\": 0.0, \"recall\": 0.0}, {\"count\": 1, \"cutoff\": 46, \"userId\": 70192, \"precision\": 0.0, \"recall\": 0.0}, {\"count\": 5, \"cutoff\": 1, \"userId\": 70706, \"precision\": 0.0, \"recall\": 0.0}, {\"count\": 5, \"cutoff\": 2, \"userId\": 70706, \"precision\": 0.0, \"recall\": 0.0}, {\"count\": 5, \"cutoff\": 3, \"userId\": 70706, \"precision\": 0.0, \"recall\": 0.0}, {\"count\": 5, \"cutoff\": 4, \"userId\": 70706, \"precision\": 0.0, \"recall\": 0.0}, {\"count\": 5, \"cutoff\": 5, \"userId\": 70706, \"precision\": 0.0, \"recall\": 0.0}, {\"count\": 5, \"cutoff\": 6, \"userId\": 70706, \"precision\": 0.0, \"recall\": 0.0}, {\"count\": 5, \"cutoff\": 7, \"userId\": 70706, \"precision\": 0.0, \"recall\": 0.0}, {\"count\": 5, \"cutoff\": 8, \"userId\": 70706, \"precision\": 0.0, \"recall\": 0.0}, {\"count\": 5, \"cutoff\": 9, \"userId\": 70706, \"precision\": 0.0, \"recall\": 0.0}, {\"count\": 5, \"cutoff\": 10, \"userId\": 70706, \"precision\": 0.0, \"recall\": 0.0}, {\"count\": 5, \"cutoff\": 11, \"userId\": 70706, \"precision\": 0.0, \"recall\": 0.0}, {\"count\": 5, \"cutoff\": 16, \"userId\": 70706, \"precision\": 0.0, \"recall\": 0.0}, {\"count\": 5, \"cutoff\": 21, \"userId\": 70706, \"precision\": 0.0, \"recall\": 0.0}, {\"count\": 5, \"cutoff\": 26, \"userId\": 70706, \"precision\": 0.0, \"recall\": 0.0}, {\"count\": 5, \"cutoff\": 31, \"userId\": 70706, \"precision\": 0.0, \"recall\": 0.0}, {\"count\": 5, \"cutoff\": 36, \"userId\": 70706, \"precision\": 0.0, \"recall\": 0.0}, {\"count\": 5, \"cutoff\": 41, \"userId\": 70706, \"precision\": 0.0, \"recall\": 0.0}, {\"count\": 5, \"cutoff\": 46, \"userId\": 70706, \"precision\": 0.0, \"recall\": 0.0}, {\"count\": 10, \"cutoff\": 1, \"userId\": 71115, \"precision\": 0.0, \"recall\": 0.0}, {\"count\": 10, \"cutoff\": 2, \"userId\": 71115, \"precision\": 0.0, \"recall\": 0.0}, {\"count\": 10, \"cutoff\": 3, \"userId\": 71115, \"precision\": 0.0, \"recall\": 0.0}, {\"count\": 10, \"cutoff\": 4, \"userId\": 71115, \"precision\": 0.0, \"recall\": 0.0}, {\"count\": 10, \"cutoff\": 5, \"userId\": 71115, \"precision\": 0.0, \"recall\": 0.0}, {\"count\": 10, \"cutoff\": 6, \"userId\": 71115, \"precision\": 0.0, \"recall\": 0.0}, {\"count\": 10, \"cutoff\": 7, \"userId\": 71115, \"precision\": 0.0, \"recall\": 0.0}, {\"count\": 10, \"cutoff\": 8, \"userId\": 71115, \"precision\": 0.0, \"recall\": 0.0}, {\"count\": 10, \"cutoff\": 9, \"userId\": 71115, \"precision\": 0.0, \"recall\": 0.0}, {\"count\": 10, \"cutoff\": 10, \"userId\": 71115, \"precision\": 0.0, \"recall\": 0.0}, {\"count\": 10, \"cutoff\": 11, \"userId\": 71115, \"precision\": 0.0, \"recall\": 0.0}, {\"count\": 10, \"cutoff\": 16, \"userId\": 71115, \"precision\": 0.0, \"recall\": 0.0}, {\"count\": 10, \"cutoff\": 21, \"userId\": 71115, \"precision\": 0.0, \"recall\": 0.0}, {\"count\": 10, \"cutoff\": 26, \"userId\": 71115, \"precision\": 0.0, \"recall\": 0.0}, {\"count\": 10, \"cutoff\": 31, \"userId\": 71115, \"precision\": 0.0, \"recall\": 0.0}, {\"count\": 10, \"cutoff\": 36, \"userId\": 71115, \"precision\": 0.0, \"recall\": 0.0}, {\"count\": 10, \"cutoff\": 41, \"userId\": 71115, \"precision\": 0.0, \"recall\": 0.0}, {\"count\": 10, \"cutoff\": 46, \"userId\": 71115, \"precision\": 0.0, \"recall\": 0.0}, {\"count\": 6, \"cutoff\": 1, \"userId\": 75145, \"precision\": 0.0, \"recall\": 0.0}, {\"count\": 6, \"cutoff\": 2, \"userId\": 75145, \"precision\": 0.0, \"recall\": 0.0}, {\"count\": 6, \"cutoff\": 3, \"userId\": 75145, \"precision\": 0.0, \"recall\": 0.0}, {\"count\": 6, \"cutoff\": 4, \"userId\": 75145, \"precision\": 0.0, \"recall\": 0.0}, {\"count\": 6, \"cutoff\": 5, \"userId\": 75145, \"precision\": 0.0, \"recall\": 0.0}, {\"count\": 6, \"cutoff\": 6, \"userId\": 75145, \"precision\": 0.0, \"recall\": 0.0}, {\"count\": 6, \"cutoff\": 7, \"userId\": 75145, \"precision\": 0.0, \"recall\": 0.0}, {\"count\": 6, \"cutoff\": 8, \"userId\": 75145, \"precision\": 0.0, \"recall\": 0.0}, {\"count\": 6, \"cutoff\": 9, \"userId\": 75145, \"precision\": 0.0, \"recall\": 0.0}, {\"count\": 6, \"cutoff\": 10, \"userId\": 75145, \"precision\": 0.0, \"recall\": 0.0}, {\"count\": 6, \"cutoff\": 11, \"userId\": 75145, \"precision\": 0.0, \"recall\": 0.0}, {\"count\": 6, \"cutoff\": 16, \"userId\": 75145, \"precision\": 0.0, \"recall\": 0.0}, {\"count\": 6, \"cutoff\": 21, \"userId\": 75145, \"precision\": 0.0, \"recall\": 0.0}, {\"count\": 6, \"cutoff\": 26, \"userId\": 75145, \"precision\": 0.0, \"recall\": 0.0}, {\"count\": 6, \"cutoff\": 31, \"userId\": 75145, \"precision\": 0.0, \"recall\": 0.0}, {\"count\": 6, \"cutoff\": 36, \"userId\": 75145, \"precision\": 0.0, \"recall\": 0.0}, {\"count\": 6, \"cutoff\": 41, \"userId\": 75145, \"precision\": 0.0, \"recall\": 0.0}, {\"count\": 6, \"cutoff\": 46, \"userId\": 75145, \"precision\": 0.0, \"recall\": 0.0}, {\"count\": 69, \"cutoff\": 1, \"userId\": 78917, \"precision\": 0.0, \"recall\": 0.0}, {\"count\": 69, \"cutoff\": 2, \"userId\": 78917, \"precision\": 0.0, \"recall\": 0.0}, {\"count\": 69, \"cutoff\": 3, \"userId\": 78917, \"precision\": 0.0, \"recall\": 0.0}, {\"count\": 69, \"cutoff\": 4, \"userId\": 78917, \"precision\": 0.0, \"recall\": 0.0}, {\"count\": 69, \"cutoff\": 5, \"userId\": 78917, \"precision\": 0.0, \"recall\": 0.0}, {\"count\": 69, \"cutoff\": 6, \"userId\": 78917, \"precision\": 0.0, \"recall\": 0.0}, {\"count\": 69, \"cutoff\": 7, \"userId\": 78917, \"precision\": 0.0, \"recall\": 0.0}, {\"count\": 69, \"cutoff\": 8, \"userId\": 78917, \"precision\": 0.0, \"recall\": 0.0}, {\"count\": 69, \"cutoff\": 9, \"userId\": 78917, \"precision\": 0.0, \"recall\": 0.0}, {\"count\": 69, \"cutoff\": 10, \"userId\": 78917, \"precision\": 0.0, \"recall\": 0.0}, {\"count\": 69, \"cutoff\": 11, \"userId\": 78917, \"precision\": 0.0, \"recall\": 0.0}, {\"count\": 69, \"cutoff\": 16, \"userId\": 78917, \"precision\": 0.0, \"recall\": 0.0}, {\"count\": 69, \"cutoff\": 21, \"userId\": 78917, \"precision\": 0.0, \"recall\": 0.0}, {\"count\": 69, \"cutoff\": 26, \"userId\": 78917, \"precision\": 0.0, \"recall\": 0.0}, {\"count\": 69, \"cutoff\": 31, \"userId\": 78917, \"precision\": 0.0, \"recall\": 0.0}, {\"count\": 69, \"cutoff\": 36, \"userId\": 78917, \"precision\": 0.0, \"recall\": 0.0}, {\"count\": 69, \"cutoff\": 41, \"userId\": 78917, \"precision\": 0.0, \"recall\": 0.0}, {\"count\": 69, \"cutoff\": 46, \"userId\": 78917, \"precision\": 0.0, \"recall\": 0.0}, {\"count\": 1, \"cutoff\": 1, \"userId\": 80070, \"precision\": 0.0, \"recall\": 0.0}, {\"count\": 1, \"cutoff\": 2, \"userId\": 80070, \"precision\": 0.0, \"recall\": 0.0}, {\"count\": 1, \"cutoff\": 3, \"userId\": 80070, \"precision\": 0.0, \"recall\": 0.0}, {\"count\": 1, \"cutoff\": 4, \"userId\": 80070, \"precision\": 0.0, \"recall\": 0.0}, {\"count\": 1, \"cutoff\": 5, \"userId\": 80070, \"precision\": 0.0, \"recall\": 0.0}, {\"count\": 1, \"cutoff\": 6, \"userId\": 80070, \"precision\": 0.0, \"recall\": 0.0}, {\"count\": 1, \"cutoff\": 7, \"userId\": 80070, \"precision\": 0.0, \"recall\": 0.0}, {\"count\": 1, \"cutoff\": 8, \"userId\": 80070, \"precision\": 0.0, \"recall\": 0.0}, {\"count\": 1, \"cutoff\": 9, \"userId\": 80070, \"precision\": 0.0, \"recall\": 0.0}, {\"count\": 1, \"cutoff\": 10, \"userId\": 80070, \"precision\": 0.0, \"recall\": 0.0}, {\"count\": 1, \"cutoff\": 11, \"userId\": 80070, \"precision\": 0.0, \"recall\": 0.0}, {\"count\": 1, \"cutoff\": 16, \"userId\": 80070, \"precision\": 0.0, \"recall\": 0.0}, {\"count\": 1, \"cutoff\": 21, \"userId\": 80070, \"precision\": 0.0, \"recall\": 0.0}, {\"count\": 1, \"cutoff\": 26, \"userId\": 80070, \"precision\": 0.0, \"recall\": 0.0}, {\"count\": 1, \"cutoff\": 31, \"userId\": 80070, \"precision\": 0.0, \"recall\": 0.0}, {\"count\": 1, \"cutoff\": 36, \"userId\": 80070, \"precision\": 0.0, \"recall\": 0.0}, {\"count\": 1, \"cutoff\": 41, \"userId\": 80070, \"precision\": 0.0, \"recall\": 0.0}, {\"count\": 1, \"cutoff\": 46, \"userId\": 80070, \"precision\": 0.0, \"recall\": 0.0}, {\"count\": 1, \"cutoff\": 1, \"userId\": 80920, \"precision\": 0.0, \"recall\": 0.0}, {\"count\": 1, \"cutoff\": 2, \"userId\": 80920, \"precision\": 0.0, \"recall\": 0.0}, {\"count\": 1, \"cutoff\": 3, \"userId\": 80920, \"precision\": 0.0, \"recall\": 0.0}, {\"count\": 1, \"cutoff\": 4, \"userId\": 80920, \"precision\": 0.0, \"recall\": 0.0}, {\"count\": 1, \"cutoff\": 5, \"userId\": 80920, \"precision\": 0.0, \"recall\": 0.0}, {\"count\": 1, \"cutoff\": 6, \"userId\": 80920, \"precision\": 0.0, \"recall\": 0.0}, {\"count\": 1, \"cutoff\": 7, \"userId\": 80920, \"precision\": 0.0, \"recall\": 0.0}, {\"count\": 1, \"cutoff\": 8, \"userId\": 80920, \"precision\": 0.0, \"recall\": 0.0}, {\"count\": 1, \"cutoff\": 9, \"userId\": 80920, \"precision\": 0.0, \"recall\": 0.0}, {\"count\": 1, \"cutoff\": 10, \"userId\": 80920, \"precision\": 0.0, \"recall\": 0.0}, {\"count\": 1, \"cutoff\": 11, \"userId\": 80920, \"precision\": 0.0, \"recall\": 0.0}, {\"count\": 1, \"cutoff\": 16, \"userId\": 80920, \"precision\": 0.0, \"recall\": 0.0}, {\"count\": 1, \"cutoff\": 21, \"userId\": 80920, \"precision\": 0.0, \"recall\": 0.0}, {\"count\": 1, \"cutoff\": 26, \"userId\": 80920, \"precision\": 0.0, \"recall\": 0.0}, {\"count\": 1, \"cutoff\": 31, \"userId\": 80920, \"precision\": 0.0, \"recall\": 0.0}, {\"count\": 1, \"cutoff\": 36, \"userId\": 80920, \"precision\": 0.0, \"recall\": 0.0}, {\"count\": 1, \"cutoff\": 41, \"userId\": 80920, \"precision\": 0.0, \"recall\": 0.0}, {\"count\": 1, \"cutoff\": 46, \"userId\": 80920, \"precision\": 0.0, \"recall\": 0.0}, {\"count\": 13, \"cutoff\": 1, \"userId\": 84430, \"precision\": 0.0, \"recall\": 0.0}, {\"count\": 13, \"cutoff\": 2, \"userId\": 84430, \"precision\": 0.0, \"recall\": 0.0}, {\"count\": 13, \"cutoff\": 3, \"userId\": 84430, \"precision\": 0.0, \"recall\": 0.0}, {\"count\": 13, \"cutoff\": 4, \"userId\": 84430, \"precision\": 0.0, \"recall\": 0.0}, {\"count\": 13, \"cutoff\": 5, \"userId\": 84430, \"precision\": 0.0, \"recall\": 0.0}, {\"count\": 13, \"cutoff\": 6, \"userId\": 84430, \"precision\": 0.0, \"recall\": 0.0}, {\"count\": 13, \"cutoff\": 7, \"userId\": 84430, \"precision\": 0.0, \"recall\": 0.0}, {\"count\": 13, \"cutoff\": 8, \"userId\": 84430, \"precision\": 0.0, \"recall\": 0.0}, {\"count\": 13, \"cutoff\": 9, \"userId\": 84430, \"precision\": 0.0, \"recall\": 0.0}, {\"count\": 13, \"cutoff\": 10, \"userId\": 84430, \"precision\": 0.0, \"recall\": 0.0}, {\"count\": 13, \"cutoff\": 11, \"userId\": 84430, \"precision\": 0.0, \"recall\": 0.0}, {\"count\": 13, \"cutoff\": 16, \"userId\": 84430, \"precision\": 0.0, \"recall\": 0.0}, {\"count\": 13, \"cutoff\": 21, \"userId\": 84430, \"precision\": 0.0, \"recall\": 0.0}, {\"count\": 13, \"cutoff\": 26, \"userId\": 84430, \"precision\": 0.0, \"recall\": 0.0}, {\"count\": 13, \"cutoff\": 31, \"userId\": 84430, \"precision\": 0.0, \"recall\": 0.0}, {\"count\": 13, \"cutoff\": 36, \"userId\": 84430, \"precision\": 0.0, \"recall\": 0.0}, {\"count\": 13, \"cutoff\": 41, \"userId\": 84430, \"precision\": 0.0, \"recall\": 0.0}, {\"count\": 13, \"cutoff\": 46, \"userId\": 84430, \"precision\": 0.0, \"recall\": 0.0}, {\"count\": 160, \"cutoff\": 1, \"userId\": 86768, \"precision\": 0.0, \"recall\": 0.0}, {\"count\": 160, \"cutoff\": 2, \"userId\": 86768, \"precision\": 0.0, \"recall\": 0.0}, {\"count\": 160, \"cutoff\": 3, \"userId\": 86768, \"precision\": 0.0, \"recall\": 0.0}, {\"count\": 160, \"cutoff\": 4, \"userId\": 86768, \"precision\": 0.25, \"recall\": 0.00625}, {\"count\": 160, \"cutoff\": 5, \"userId\": 86768, \"precision\": 0.2, \"recall\": 0.00625}, {\"count\": 160, \"cutoff\": 6, \"userId\": 86768, \"precision\": 0.16666666666666666, \"recall\": 0.00625}, {\"count\": 160, \"cutoff\": 7, \"userId\": 86768, \"precision\": 0.14285714285714285, \"recall\": 0.00625}, {\"count\": 160, \"cutoff\": 8, \"userId\": 86768, \"precision\": 0.125, \"recall\": 0.00625}, {\"count\": 160, \"cutoff\": 9, \"userId\": 86768, \"precision\": 0.1111111111111111, \"recall\": 0.00625}, {\"count\": 160, \"cutoff\": 10, \"userId\": 86768, \"precision\": 0.1, \"recall\": 0.00625}, {\"count\": 160, \"cutoff\": 11, \"userId\": 86768, \"precision\": 0.09090909090909091, \"recall\": 0.00625}, {\"count\": 160, \"cutoff\": 16, \"userId\": 86768, \"precision\": 0.0625, \"recall\": 0.00625}, {\"count\": 160, \"cutoff\": 21, \"userId\": 86768, \"precision\": 0.047619047619047616, \"recall\": 0.00625}, {\"count\": 160, \"cutoff\": 26, \"userId\": 86768, \"precision\": 0.11538461538461539, \"recall\": 0.01875}, {\"count\": 160, \"cutoff\": 31, \"userId\": 86768, \"precision\": 0.0967741935483871, \"recall\": 0.01875}, {\"count\": 160, \"cutoff\": 36, \"userId\": 86768, \"precision\": 0.08333333333333333, \"recall\": 0.01875}, {\"count\": 160, \"cutoff\": 41, \"userId\": 86768, \"precision\": 0.07317073170731707, \"recall\": 0.01875}, {\"count\": 160, \"cutoff\": 46, \"userId\": 86768, \"precision\": 0.06521739130434782, \"recall\": 0.01875}, {\"count\": 3, \"cutoff\": 1, \"userId\": 89115, \"precision\": 0.0, \"recall\": 0.0}, {\"count\": 3, \"cutoff\": 2, \"userId\": 89115, \"precision\": 0.0, \"recall\": 0.0}, {\"count\": 3, \"cutoff\": 3, \"userId\": 89115, \"precision\": 0.0, \"recall\": 0.0}, {\"count\": 3, \"cutoff\": 4, \"userId\": 89115, \"precision\": 0.0, \"recall\": 0.0}, {\"count\": 3, \"cutoff\": 5, \"userId\": 89115, \"precision\": 0.0, \"recall\": 0.0}, {\"count\": 3, \"cutoff\": 6, \"userId\": 89115, \"precision\": 0.0, \"recall\": 0.0}, {\"count\": 3, \"cutoff\": 7, \"userId\": 89115, \"precision\": 0.0, \"recall\": 0.0}, {\"count\": 3, \"cutoff\": 8, \"userId\": 89115, \"precision\": 0.0, \"recall\": 0.0}, {\"count\": 3, \"cutoff\": 9, \"userId\": 89115, \"precision\": 0.0, \"recall\": 0.0}, {\"count\": 3, \"cutoff\": 10, \"userId\": 89115, \"precision\": 0.0, \"recall\": 0.0}, {\"count\": 3, \"cutoff\": 11, \"userId\": 89115, \"precision\": 0.0, \"recall\": 0.0}, {\"count\": 3, \"cutoff\": 16, \"userId\": 89115, \"precision\": 0.0, \"recall\": 0.0}, {\"count\": 3, \"cutoff\": 21, \"userId\": 89115, \"precision\": 0.0, \"recall\": 0.0}, {\"count\": 3, \"cutoff\": 26, \"userId\": 89115, \"precision\": 0.0, \"recall\": 0.0}, {\"count\": 3, \"cutoff\": 31, \"userId\": 89115, \"precision\": 0.0, \"recall\": 0.0}, {\"count\": 3, \"cutoff\": 36, \"userId\": 89115, \"precision\": 0.0, \"recall\": 0.0}, {\"count\": 3, \"cutoff\": 41, \"userId\": 89115, \"precision\": 0.0, \"recall\": 0.0}, {\"count\": 3, \"cutoff\": 46, \"userId\": 89115, \"precision\": 0.0, \"recall\": 0.0}, {\"count\": 1, \"cutoff\": 1, \"userId\": 90550, \"precision\": 0.0, \"recall\": 0.0}, {\"count\": 1, \"cutoff\": 2, \"userId\": 90550, \"precision\": 0.0, \"recall\": 0.0}, {\"count\": 1, \"cutoff\": 3, \"userId\": 90550, \"precision\": 0.0, \"recall\": 0.0}, {\"count\": 1, \"cutoff\": 4, \"userId\": 90550, \"precision\": 0.0, \"recall\": 0.0}, {\"count\": 1, \"cutoff\": 5, \"userId\": 90550, \"precision\": 0.0, \"recall\": 0.0}, {\"count\": 1, \"cutoff\": 6, \"userId\": 90550, \"precision\": 0.0, \"recall\": 0.0}, {\"count\": 1, \"cutoff\": 7, \"userId\": 90550, \"precision\": 0.0, \"recall\": 0.0}, {\"count\": 1, \"cutoff\": 8, \"userId\": 90550, \"precision\": 0.0, \"recall\": 0.0}, {\"count\": 1, \"cutoff\": 9, \"userId\": 90550, \"precision\": 0.0, \"recall\": 0.0}, {\"count\": 1, \"cutoff\": 10, \"userId\": 90550, \"precision\": 0.0, \"recall\": 0.0}, {\"count\": 1, \"cutoff\": 11, \"userId\": 90550, \"precision\": 0.0, \"recall\": 0.0}, {\"count\": 1, \"cutoff\": 16, \"userId\": 90550, \"precision\": 0.0, \"recall\": 0.0}, {\"count\": 1, \"cutoff\": 21, \"userId\": 90550, \"precision\": 0.0, \"recall\": 0.0}, {\"count\": 1, \"cutoff\": 26, \"userId\": 90550, \"precision\": 0.0, \"recall\": 0.0}, {\"count\": 1, \"cutoff\": 31, \"userId\": 90550, \"precision\": 0.0, \"recall\": 0.0}, {\"count\": 1, \"cutoff\": 36, \"userId\": 90550, \"precision\": 0.0, \"recall\": 0.0}, {\"count\": 1, \"cutoff\": 41, \"userId\": 90550, \"precision\": 0.0, \"recall\": 0.0}, {\"count\": 1, \"cutoff\": 46, \"userId\": 90550, \"precision\": 0.0, \"recall\": 0.0}, {\"count\": 15, \"cutoff\": 1, \"userId\": 93433, \"precision\": 0.0, \"recall\": 0.0}, {\"count\": 15, \"cutoff\": 2, \"userId\": 93433, \"precision\": 0.0, \"recall\": 0.0}, {\"count\": 15, \"cutoff\": 3, \"userId\": 93433, \"precision\": 0.0, \"recall\": 0.0}, {\"count\": 15, \"cutoff\": 4, \"userId\": 93433, \"precision\": 0.0, \"recall\": 0.0}, {\"count\": 15, \"cutoff\": 5, \"userId\": 93433, \"precision\": 0.0, \"recall\": 0.0}, {\"count\": 15, \"cutoff\": 6, \"userId\": 93433, \"precision\": 0.0, \"recall\": 0.0}, {\"count\": 15, \"cutoff\": 7, \"userId\": 93433, \"precision\": 0.0, \"recall\": 0.0}, {\"count\": 15, \"cutoff\": 8, \"userId\": 93433, \"precision\": 0.0, \"recall\": 0.0}, {\"count\": 15, \"cutoff\": 9, \"userId\": 93433, \"precision\": 0.0, \"recall\": 0.0}, {\"count\": 15, \"cutoff\": 10, \"userId\": 93433, \"precision\": 0.0, \"recall\": 0.0}, {\"count\": 15, \"cutoff\": 11, \"userId\": 93433, \"precision\": 0.0, \"recall\": 0.0}, {\"count\": 15, \"cutoff\": 16, \"userId\": 93433, \"precision\": 0.0, \"recall\": 0.0}, {\"count\": 15, \"cutoff\": 21, \"userId\": 93433, \"precision\": 0.0, \"recall\": 0.0}, {\"count\": 15, \"cutoff\": 26, \"userId\": 93433, \"precision\": 0.0, \"recall\": 0.0}, {\"count\": 15, \"cutoff\": 31, \"userId\": 93433, \"precision\": 0.0, \"recall\": 0.0}, {\"count\": 15, \"cutoff\": 36, \"userId\": 93433, \"precision\": 0.0, \"recall\": 0.0}, {\"count\": 15, \"cutoff\": 41, \"userId\": 93433, \"precision\": 0.0, \"recall\": 0.0}, {\"count\": 15, \"cutoff\": 46, \"userId\": 93433, \"precision\": 0.0, \"recall\": 0.0}, {\"count\": 1, \"cutoff\": 1, \"userId\": 94326, \"precision\": 0.0, \"recall\": 0.0}, {\"count\": 1, \"cutoff\": 2, \"userId\": 94326, \"precision\": 0.0, \"recall\": 0.0}, {\"count\": 1, \"cutoff\": 3, \"userId\": 94326, \"precision\": 0.0, \"recall\": 0.0}, {\"count\": 1, \"cutoff\": 4, \"userId\": 94326, \"precision\": 0.0, \"recall\": 0.0}, {\"count\": 1, \"cutoff\": 5, \"userId\": 94326, \"precision\": 0.0, \"recall\": 0.0}, {\"count\": 1, \"cutoff\": 6, \"userId\": 94326, \"precision\": 0.0, \"recall\": 0.0}, {\"count\": 1, \"cutoff\": 7, \"userId\": 94326, \"precision\": 0.0, \"recall\": 0.0}, {\"count\": 1, \"cutoff\": 8, \"userId\": 94326, \"precision\": 0.0, \"recall\": 0.0}, {\"count\": 1, \"cutoff\": 9, \"userId\": 94326, \"precision\": 0.0, \"recall\": 0.0}, {\"count\": 1, \"cutoff\": 10, \"userId\": 94326, \"precision\": 0.0, \"recall\": 0.0}, {\"count\": 1, \"cutoff\": 11, \"userId\": 94326, \"precision\": 0.0, \"recall\": 0.0}, {\"count\": 1, \"cutoff\": 16, \"userId\": 94326, \"precision\": 0.0, \"recall\": 0.0}, {\"count\": 1, \"cutoff\": 21, \"userId\": 94326, \"precision\": 0.0, \"recall\": 0.0}, {\"count\": 1, \"cutoff\": 26, \"userId\": 94326, \"precision\": 0.0, \"recall\": 0.0}, {\"count\": 1, \"cutoff\": 31, \"userId\": 94326, \"precision\": 0.0, \"recall\": 0.0}, {\"count\": 1, \"cutoff\": 36, \"userId\": 94326, \"precision\": 0.0, \"recall\": 0.0}, {\"count\": 1, \"cutoff\": 41, \"userId\": 94326, \"precision\": 0.0, \"recall\": 0.0}, {\"count\": 1, \"cutoff\": 46, \"userId\": 94326, \"precision\": 0.0, \"recall\": 0.0}, {\"count\": 2, \"cutoff\": 1, \"userId\": 95273, \"precision\": 0.0, \"recall\": 0.0}, {\"count\": 2, \"cutoff\": 2, \"userId\": 95273, \"precision\": 0.0, \"recall\": 0.0}, {\"count\": 2, \"cutoff\": 3, \"userId\": 95273, \"precision\": 0.0, \"recall\": 0.0}, {\"count\": 2, \"cutoff\": 4, \"userId\": 95273, \"precision\": 0.0, \"recall\": 0.0}, {\"count\": 2, \"cutoff\": 5, \"userId\": 95273, \"precision\": 0.0, \"recall\": 0.0}, {\"count\": 2, \"cutoff\": 6, \"userId\": 95273, \"precision\": 0.0, \"recall\": 0.0}, {\"count\": 2, \"cutoff\": 7, \"userId\": 95273, \"precision\": 0.0, \"recall\": 0.0}, {\"count\": 2, \"cutoff\": 8, \"userId\": 95273, \"precision\": 0.0, \"recall\": 0.0}, {\"count\": 2, \"cutoff\": 9, \"userId\": 95273, \"precision\": 0.0, \"recall\": 0.0}, {\"count\": 2, \"cutoff\": 10, \"userId\": 95273, \"precision\": 0.0, \"recall\": 0.0}, {\"count\": 2, \"cutoff\": 11, \"userId\": 95273, \"precision\": 0.0, \"recall\": 0.0}, {\"count\": 2, \"cutoff\": 16, \"userId\": 95273, \"precision\": 0.0, \"recall\": 0.0}, {\"count\": 2, \"cutoff\": 21, \"userId\": 95273, \"precision\": 0.0, \"recall\": 0.0}, {\"count\": 2, \"cutoff\": 26, \"userId\": 95273, \"precision\": 0.0, \"recall\": 0.0}, {\"count\": 2, \"cutoff\": 31, \"userId\": 95273, \"precision\": 0.0, \"recall\": 0.0}, {\"count\": 2, \"cutoff\": 36, \"userId\": 95273, \"precision\": 0.0, \"recall\": 0.0}, {\"count\": 2, \"cutoff\": 41, \"userId\": 95273, \"precision\": 0.0, \"recall\": 0.0}, {\"count\": 2, \"cutoff\": 46, \"userId\": 95273, \"precision\": 0.0, \"recall\": 0.0}, {\"count\": 23, \"cutoff\": 1, \"userId\": 95924, \"precision\": 0.0, \"recall\": 0.0}, {\"count\": 23, \"cutoff\": 2, \"userId\": 95924, \"precision\": 0.0, \"recall\": 0.0}, {\"count\": 23, \"cutoff\": 3, \"userId\": 95924, \"precision\": 0.0, \"recall\": 0.0}, {\"count\": 23, \"cutoff\": 4, \"userId\": 95924, \"precision\": 0.0, \"recall\": 0.0}, {\"count\": 23, \"cutoff\": 5, \"userId\": 95924, \"precision\": 0.0, \"recall\": 0.0}, {\"count\": 23, \"cutoff\": 6, \"userId\": 95924, \"precision\": 0.0, \"recall\": 0.0}, {\"count\": 23, \"cutoff\": 7, \"userId\": 95924, \"precision\": 0.0, \"recall\": 0.0}, {\"count\": 23, \"cutoff\": 8, \"userId\": 95924, \"precision\": 0.0, \"recall\": 0.0}, {\"count\": 23, \"cutoff\": 9, \"userId\": 95924, \"precision\": 0.0, \"recall\": 0.0}, {\"count\": 23, \"cutoff\": 10, \"userId\": 95924, \"precision\": 0.0, \"recall\": 0.0}, {\"count\": 23, \"cutoff\": 11, \"userId\": 95924, \"precision\": 0.0, \"recall\": 0.0}, {\"count\": 23, \"cutoff\": 16, \"userId\": 95924, \"precision\": 0.0, \"recall\": 0.0}, {\"count\": 23, \"cutoff\": 21, \"userId\": 95924, \"precision\": 0.0, \"recall\": 0.0}, {\"count\": 23, \"cutoff\": 26, \"userId\": 95924, \"precision\": 0.0, \"recall\": 0.0}, {\"count\": 23, \"cutoff\": 31, \"userId\": 95924, \"precision\": 0.0, \"recall\": 0.0}, {\"count\": 23, \"cutoff\": 36, \"userId\": 95924, \"precision\": 0.0, \"recall\": 0.0}, {\"count\": 23, \"cutoff\": 41, \"userId\": 95924, \"precision\": 0.0, \"recall\": 0.0}, {\"count\": 23, \"cutoff\": 46, \"userId\": 95924, \"precision\": 0.0, \"recall\": 0.0}, {\"count\": 5, \"cutoff\": 1, \"userId\": 97195, \"precision\": 0.0, \"recall\": 0.0}, {\"count\": 5, \"cutoff\": 2, \"userId\": 97195, \"precision\": 0.0, \"recall\": 0.0}, {\"count\": 5, \"cutoff\": 3, \"userId\": 97195, \"precision\": 0.0, \"recall\": 0.0}, {\"count\": 5, \"cutoff\": 4, \"userId\": 97195, \"precision\": 0.0, \"recall\": 0.0}, {\"count\": 5, \"cutoff\": 5, \"userId\": 97195, \"precision\": 0.0, \"recall\": 0.0}, {\"count\": 5, \"cutoff\": 6, \"userId\": 97195, \"precision\": 0.0, \"recall\": 0.0}, {\"count\": 5, \"cutoff\": 7, \"userId\": 97195, \"precision\": 0.0, \"recall\": 0.0}, {\"count\": 5, \"cutoff\": 8, \"userId\": 97195, \"precision\": 0.0, \"recall\": 0.0}, {\"count\": 5, \"cutoff\": 9, \"userId\": 97195, \"precision\": 0.0, \"recall\": 0.0}, {\"count\": 5, \"cutoff\": 10, \"userId\": 97195, \"precision\": 0.0, \"recall\": 0.0}, {\"count\": 5, \"cutoff\": 11, \"userId\": 97195, \"precision\": 0.0, \"recall\": 0.0}, {\"count\": 5, \"cutoff\": 16, \"userId\": 97195, \"precision\": 0.0, \"recall\": 0.0}, {\"count\": 5, \"cutoff\": 21, \"userId\": 97195, \"precision\": 0.0, \"recall\": 0.0}, {\"count\": 5, \"cutoff\": 26, \"userId\": 97195, \"precision\": 0.0, \"recall\": 0.0}, {\"count\": 5, \"cutoff\": 31, \"userId\": 97195, \"precision\": 0.0, \"recall\": 0.0}, {\"count\": 5, \"cutoff\": 36, \"userId\": 97195, \"precision\": 0.0, \"recall\": 0.0}, {\"count\": 5, \"cutoff\": 41, \"userId\": 97195, \"precision\": 0.0, \"recall\": 0.0}, {\"count\": 5, \"cutoff\": 46, \"userId\": 97195, \"precision\": 0.0, \"recall\": 0.0}, {\"count\": 1, \"cutoff\": 1, \"userId\": 101085, \"precision\": 0.0, \"recall\": 0.0}, {\"count\": 1, \"cutoff\": 2, \"userId\": 101085, \"precision\": 0.0, \"recall\": 0.0}, {\"count\": 1, \"cutoff\": 3, \"userId\": 101085, \"precision\": 0.0, \"recall\": 0.0}, {\"count\": 1, \"cutoff\": 4, \"userId\": 101085, \"precision\": 0.0, \"recall\": 0.0}, {\"count\": 1, \"cutoff\": 5, \"userId\": 101085, \"precision\": 0.0, \"recall\": 0.0}, {\"count\": 1, \"cutoff\": 6, \"userId\": 101085, \"precision\": 0.0, \"recall\": 0.0}, {\"count\": 1, \"cutoff\": 7, \"userId\": 101085, \"precision\": 0.0, \"recall\": 0.0}, {\"count\": 1, \"cutoff\": 8, \"userId\": 101085, \"precision\": 0.0, \"recall\": 0.0}, {\"count\": 1, \"cutoff\": 9, \"userId\": 101085, \"precision\": 0.0, \"recall\": 0.0}, {\"count\": 1, \"cutoff\": 10, \"userId\": 101085, \"precision\": 0.0, \"recall\": 0.0}, {\"count\": 1, \"cutoff\": 11, \"userId\": 101085, \"precision\": 0.0, \"recall\": 0.0}, {\"count\": 1, \"cutoff\": 16, \"userId\": 101085, \"precision\": 0.0, \"recall\": 0.0}, {\"count\": 1, \"cutoff\": 21, \"userId\": 101085, \"precision\": 0.0, \"recall\": 0.0}, {\"count\": 1, \"cutoff\": 26, \"userId\": 101085, \"precision\": 0.0, \"recall\": 0.0}, {\"count\": 1, \"cutoff\": 31, \"userId\": 101085, \"precision\": 0.0, \"recall\": 0.0}, {\"count\": 1, \"cutoff\": 36, \"userId\": 101085, \"precision\": 0.0, \"recall\": 0.0}, {\"count\": 1, \"cutoff\": 41, \"userId\": 101085, \"precision\": 0.0, \"recall\": 0.0}, {\"count\": 1, \"cutoff\": 46, \"userId\": 101085, \"precision\": 0.0, \"recall\": 0.0}, {\"count\": 1, \"cutoff\": 1, \"userId\": 101555, \"precision\": 0.0, \"recall\": 0.0}, {\"count\": 1, \"cutoff\": 2, \"userId\": 101555, \"precision\": 0.0, \"recall\": 0.0}, {\"count\": 1, \"cutoff\": 3, \"userId\": 101555, \"precision\": 0.0, \"recall\": 0.0}, {\"count\": 1, \"cutoff\": 4, \"userId\": 101555, \"precision\": 0.0, \"recall\": 0.0}, {\"count\": 1, \"cutoff\": 5, \"userId\": 101555, \"precision\": 0.0, \"recall\": 0.0}, {\"count\": 1, \"cutoff\": 6, \"userId\": 101555, \"precision\": 0.0, \"recall\": 0.0}, {\"count\": 1, \"cutoff\": 7, \"userId\": 101555, \"precision\": 0.0, \"recall\": 0.0}, {\"count\": 1, \"cutoff\": 8, \"userId\": 101555, \"precision\": 0.0, \"recall\": 0.0}, {\"count\": 1, \"cutoff\": 9, \"userId\": 101555, \"precision\": 0.0, \"recall\": 0.0}, {\"count\": 1, \"cutoff\": 10, \"userId\": 101555, \"precision\": 0.0, \"recall\": 0.0}, {\"count\": 1, \"cutoff\": 11, \"userId\": 101555, \"precision\": 0.0, \"recall\": 0.0}, {\"count\": 1, \"cutoff\": 16, \"userId\": 101555, \"precision\": 0.0, \"recall\": 0.0}, {\"count\": 1, \"cutoff\": 21, \"userId\": 101555, \"precision\": 0.0, \"recall\": 0.0}, {\"count\": 1, \"cutoff\": 26, \"userId\": 101555, \"precision\": 0.0, \"recall\": 0.0}, {\"count\": 1, \"cutoff\": 31, \"userId\": 101555, \"precision\": 0.0, \"recall\": 0.0}, {\"count\": 1, \"cutoff\": 36, \"userId\": 101555, \"precision\": 0.0, \"recall\": 0.0}, {\"count\": 1, \"cutoff\": 41, \"userId\": 101555, \"precision\": 0.0, \"recall\": 0.0}, {\"count\": 1, \"cutoff\": 46, \"userId\": 101555, \"precision\": 0.0, \"recall\": 0.0}, {\"count\": 2, \"cutoff\": 1, \"userId\": 105371, \"precision\": 0.0, \"recall\": 0.0}, {\"count\": 2, \"cutoff\": 2, \"userId\": 105371, \"precision\": 0.0, \"recall\": 0.0}, {\"count\": 2, \"cutoff\": 3, \"userId\": 105371, \"precision\": 0.0, \"recall\": 0.0}, {\"count\": 2, \"cutoff\": 4, \"userId\": 105371, \"precision\": 0.0, \"recall\": 0.0}, {\"count\": 2, \"cutoff\": 5, \"userId\": 105371, \"precision\": 0.0, \"recall\": 0.0}, {\"count\": 2, \"cutoff\": 6, \"userId\": 105371, \"precision\": 0.0, \"recall\": 0.0}, {\"count\": 2, \"cutoff\": 7, \"userId\": 105371, \"precision\": 0.0, \"recall\": 0.0}, {\"count\": 2, \"cutoff\": 8, \"userId\": 105371, \"precision\": 0.0, \"recall\": 0.0}, {\"count\": 2, \"cutoff\": 9, \"userId\": 105371, \"precision\": 0.0, \"recall\": 0.0}, {\"count\": 2, \"cutoff\": 10, \"userId\": 105371, \"precision\": 0.0, \"recall\": 0.0}, {\"count\": 2, \"cutoff\": 11, \"userId\": 105371, \"precision\": 0.0, \"recall\": 0.0}, {\"count\": 2, \"cutoff\": 16, \"userId\": 105371, \"precision\": 0.0, \"recall\": 0.0}, {\"count\": 2, \"cutoff\": 21, \"userId\": 105371, \"precision\": 0.0, \"recall\": 0.0}, {\"count\": 2, \"cutoff\": 26, \"userId\": 105371, \"precision\": 0.0, \"recall\": 0.0}, {\"count\": 2, \"cutoff\": 31, \"userId\": 105371, \"precision\": 0.0, \"recall\": 0.0}, {\"count\": 2, \"cutoff\": 36, \"userId\": 105371, \"precision\": 0.0, \"recall\": 0.0}, {\"count\": 2, \"cutoff\": 41, \"userId\": 105371, \"precision\": 0.0, \"recall\": 0.0}, {\"count\": 2, \"cutoff\": 46, \"userId\": 105371, \"precision\": 0.0, \"recall\": 0.0}, {\"count\": 9, \"cutoff\": 1, \"userId\": 115222, \"precision\": 0.0, \"recall\": 0.0}, {\"count\": 9, \"cutoff\": 2, \"userId\": 115222, \"precision\": 0.0, \"recall\": 0.0}, {\"count\": 9, \"cutoff\": 3, \"userId\": 115222, \"precision\": 0.0, \"recall\": 0.0}, {\"count\": 9, \"cutoff\": 4, \"userId\": 115222, \"precision\": 0.0, \"recall\": 0.0}, {\"count\": 9, \"cutoff\": 5, \"userId\": 115222, \"precision\": 0.0, \"recall\": 0.0}, {\"count\": 9, \"cutoff\": 6, \"userId\": 115222, \"precision\": 0.0, \"recall\": 0.0}, {\"count\": 9, \"cutoff\": 7, \"userId\": 115222, \"precision\": 0.0, \"recall\": 0.0}, {\"count\": 9, \"cutoff\": 8, \"userId\": 115222, \"precision\": 0.0, \"recall\": 0.0}, {\"count\": 9, \"cutoff\": 9, \"userId\": 115222, \"precision\": 0.0, \"recall\": 0.0}, {\"count\": 9, \"cutoff\": 10, \"userId\": 115222, \"precision\": 0.0, \"recall\": 0.0}, {\"count\": 9, \"cutoff\": 11, \"userId\": 115222, \"precision\": 0.0, \"recall\": 0.0}, {\"count\": 9, \"cutoff\": 16, \"userId\": 115222, \"precision\": 0.0, \"recall\": 0.0}, {\"count\": 9, \"cutoff\": 21, \"userId\": 115222, \"precision\": 0.0, \"recall\": 0.0}, {\"count\": 9, \"cutoff\": 26, \"userId\": 115222, \"precision\": 0.038461538461538464, \"recall\": 0.1111111111111111}, {\"count\": 9, \"cutoff\": 31, \"userId\": 115222, \"precision\": 0.03225806451612903, \"recall\": 0.1111111111111111}, {\"count\": 9, \"cutoff\": 36, \"userId\": 115222, \"precision\": 0.027777777777777776, \"recall\": 0.1111111111111111}, {\"count\": 9, \"cutoff\": 41, \"userId\": 115222, \"precision\": 0.024390243902439025, \"recall\": 0.1111111111111111}, {\"count\": 9, \"cutoff\": 46, \"userId\": 115222, \"precision\": 0.021739130434782608, \"recall\": 0.1111111111111111}, {\"count\": 2, \"cutoff\": 1, \"userId\": 116303, \"precision\": 0.0, \"recall\": 0.0}, {\"count\": 2, \"cutoff\": 2, \"userId\": 116303, \"precision\": 0.0, \"recall\": 0.0}, {\"count\": 2, \"cutoff\": 3, \"userId\": 116303, \"precision\": 0.0, \"recall\": 0.0}, {\"count\": 2, \"cutoff\": 4, \"userId\": 116303, \"precision\": 0.0, \"recall\": 0.0}, {\"count\": 2, \"cutoff\": 5, \"userId\": 116303, \"precision\": 0.0, \"recall\": 0.0}, {\"count\": 2, \"cutoff\": 6, \"userId\": 116303, \"precision\": 0.0, \"recall\": 0.0}, {\"count\": 2, \"cutoff\": 7, \"userId\": 116303, \"precision\": 0.0, \"recall\": 0.0}, {\"count\": 2, \"cutoff\": 8, \"userId\": 116303, \"precision\": 0.0, \"recall\": 0.0}, {\"count\": 2, \"cutoff\": 9, \"userId\": 116303, \"precision\": 0.0, \"recall\": 0.0}, {\"count\": 2, \"cutoff\": 10, \"userId\": 116303, \"precision\": 0.0, \"recall\": 0.0}, {\"count\": 2, \"cutoff\": 11, \"userId\": 116303, \"precision\": 0.0, \"recall\": 0.0}, {\"count\": 2, \"cutoff\": 16, \"userId\": 116303, \"precision\": 0.0, \"recall\": 0.0}, {\"count\": 2, \"cutoff\": 21, \"userId\": 116303, \"precision\": 0.0, \"recall\": 0.0}, {\"count\": 2, \"cutoff\": 26, \"userId\": 116303, \"precision\": 0.0, \"recall\": 0.0}, {\"count\": 2, \"cutoff\": 31, \"userId\": 116303, \"precision\": 0.0, \"recall\": 0.0}, {\"count\": 2, \"cutoff\": 36, \"userId\": 116303, \"precision\": 0.0, \"recall\": 0.0}, {\"count\": 2, \"cutoff\": 41, \"userId\": 116303, \"precision\": 0.0, \"recall\": 0.0}, {\"count\": 2, \"cutoff\": 46, \"userId\": 116303, \"precision\": 0.0, \"recall\": 0.0}, {\"count\": 51, \"cutoff\": 1, \"userId\": 126994, \"precision\": 0.0, \"recall\": 0.0}, {\"count\": 51, \"cutoff\": 2, \"userId\": 126994, \"precision\": 0.0, \"recall\": 0.0}, {\"count\": 51, \"cutoff\": 3, \"userId\": 126994, \"precision\": 0.0, \"recall\": 0.0}, {\"count\": 51, \"cutoff\": 4, \"userId\": 126994, \"precision\": 0.0, \"recall\": 0.0}, {\"count\": 51, \"cutoff\": 5, \"userId\": 126994, \"precision\": 0.0, \"recall\": 0.0}, {\"count\": 51, \"cutoff\": 6, \"userId\": 126994, \"precision\": 0.0, \"recall\": 0.0}, {\"count\": 51, \"cutoff\": 7, \"userId\": 126994, \"precision\": 0.0, \"recall\": 0.0}, {\"count\": 51, \"cutoff\": 8, \"userId\": 126994, \"precision\": 0.0, \"recall\": 0.0}, {\"count\": 51, \"cutoff\": 9, \"userId\": 126994, \"precision\": 0.0, \"recall\": 0.0}, {\"count\": 51, \"cutoff\": 10, \"userId\": 126994, \"precision\": 0.0, \"recall\": 0.0}, {\"count\": 51, \"cutoff\": 11, \"userId\": 126994, \"precision\": 0.0, \"recall\": 0.0}, {\"count\": 51, \"cutoff\": 16, \"userId\": 126994, \"precision\": 0.0, \"recall\": 0.0}, {\"count\": 51, \"cutoff\": 21, \"userId\": 126994, \"precision\": 0.0, \"recall\": 0.0}, {\"count\": 51, \"cutoff\": 26, \"userId\": 126994, \"precision\": 0.0, \"recall\": 0.0}, {\"count\": 51, \"cutoff\": 31, \"userId\": 126994, \"precision\": 0.0, \"recall\": 0.0}, {\"count\": 51, \"cutoff\": 36, \"userId\": 126994, \"precision\": 0.0, \"recall\": 0.0}, {\"count\": 51, \"cutoff\": 41, \"userId\": 126994, \"precision\": 0.0, \"recall\": 0.0}, {\"count\": 51, \"cutoff\": 46, \"userId\": 126994, \"precision\": 0.0, \"recall\": 0.0}, {\"count\": 2, \"cutoff\": 1, \"userId\": 129008, \"precision\": 0.0, \"recall\": 0.0}, {\"count\": 2, \"cutoff\": 2, \"userId\": 129008, \"precision\": 0.0, \"recall\": 0.0}, {\"count\": 2, \"cutoff\": 3, \"userId\": 129008, \"precision\": 0.0, \"recall\": 0.0}, {\"count\": 2, \"cutoff\": 4, \"userId\": 129008, \"precision\": 0.0, \"recall\": 0.0}, {\"count\": 2, \"cutoff\": 5, \"userId\": 129008, \"precision\": 0.0, \"recall\": 0.0}, {\"count\": 2, \"cutoff\": 6, \"userId\": 129008, \"precision\": 0.0, \"recall\": 0.0}, {\"count\": 2, \"cutoff\": 7, \"userId\": 129008, \"precision\": 0.0, \"recall\": 0.0}, {\"count\": 2, \"cutoff\": 8, \"userId\": 129008, \"precision\": 0.0, \"recall\": 0.0}, {\"count\": 2, \"cutoff\": 9, \"userId\": 129008, \"precision\": 0.0, \"recall\": 0.0}, {\"count\": 2, \"cutoff\": 10, \"userId\": 129008, \"precision\": 0.0, \"recall\": 0.0}, {\"count\": 2, \"cutoff\": 11, \"userId\": 129008, \"precision\": 0.0, \"recall\": 0.0}, {\"count\": 2, \"cutoff\": 16, \"userId\": 129008, \"precision\": 0.0, \"recall\": 0.0}, {\"count\": 2, \"cutoff\": 21, \"userId\": 129008, \"precision\": 0.0, \"recall\": 0.0}, {\"count\": 2, \"cutoff\": 26, \"userId\": 129008, \"precision\": 0.0, \"recall\": 0.0}, {\"count\": 2, \"cutoff\": 31, \"userId\": 129008, \"precision\": 0.0, \"recall\": 0.0}, {\"count\": 2, \"cutoff\": 36, \"userId\": 129008, \"precision\": 0.0, \"recall\": 0.0}, {\"count\": 2, \"cutoff\": 41, \"userId\": 129008, \"precision\": 0.0, \"recall\": 0.0}, {\"count\": 2, \"cutoff\": 46, \"userId\": 129008, \"precision\": 0.0, \"recall\": 0.0}, {\"count\": 1, \"cutoff\": 1, \"userId\": 129354, \"precision\": 0.0, \"recall\": 0.0}, {\"count\": 1, \"cutoff\": 2, \"userId\": 129354, \"precision\": 0.0, \"recall\": 0.0}, {\"count\": 1, \"cutoff\": 3, \"userId\": 129354, \"precision\": 0.0, \"recall\": 0.0}, {\"count\": 1, \"cutoff\": 4, \"userId\": 129354, \"precision\": 0.0, \"recall\": 0.0}, {\"count\": 1, \"cutoff\": 5, \"userId\": 129354, \"precision\": 0.0, \"recall\": 0.0}, {\"count\": 1, \"cutoff\": 6, \"userId\": 129354, \"precision\": 0.0, \"recall\": 0.0}, {\"count\": 1, \"cutoff\": 7, \"userId\": 129354, \"precision\": 0.0, \"recall\": 0.0}, {\"count\": 1, \"cutoff\": 8, \"userId\": 129354, \"precision\": 0.0, \"recall\": 0.0}, {\"count\": 1, \"cutoff\": 9, \"userId\": 129354, \"precision\": 0.0, \"recall\": 0.0}, {\"count\": 1, \"cutoff\": 10, \"userId\": 129354, \"precision\": 0.0, \"recall\": 0.0}, {\"count\": 1, \"cutoff\": 11, \"userId\": 129354, \"precision\": 0.0, \"recall\": 0.0}, {\"count\": 1, \"cutoff\": 16, \"userId\": 129354, \"precision\": 0.0, \"recall\": 0.0}, {\"count\": 1, \"cutoff\": 21, \"userId\": 129354, \"precision\": 0.0, \"recall\": 0.0}, {\"count\": 1, \"cutoff\": 26, \"userId\": 129354, \"precision\": 0.0, \"recall\": 0.0}, {\"count\": 1, \"cutoff\": 31, \"userId\": 129354, \"precision\": 0.0, \"recall\": 0.0}, {\"count\": 1, \"cutoff\": 36, \"userId\": 129354, \"precision\": 0.0, \"recall\": 0.0}, {\"count\": 1, \"cutoff\": 41, \"userId\": 129354, \"precision\": 0.0, \"recall\": 0.0}, {\"count\": 1, \"cutoff\": 46, \"userId\": 129354, \"precision\": 0.0, \"recall\": 0.0}, {\"count\": 2, \"cutoff\": 1, \"userId\": 137105, \"precision\": 0.0, \"recall\": 0.0}, {\"count\": 2, \"cutoff\": 2, \"userId\": 137105, \"precision\": 0.0, \"recall\": 0.0}, {\"count\": 2, \"cutoff\": 3, \"userId\": 137105, \"precision\": 0.0, \"recall\": 0.0}, {\"count\": 2, \"cutoff\": 4, \"userId\": 137105, \"precision\": 0.0, \"recall\": 0.0}, {\"count\": 2, \"cutoff\": 5, \"userId\": 137105, \"precision\": 0.0, \"recall\": 0.0}, {\"count\": 2, \"cutoff\": 6, \"userId\": 137105, \"precision\": 0.0, \"recall\": 0.0}, {\"count\": 2, \"cutoff\": 7, \"userId\": 137105, \"precision\": 0.0, \"recall\": 0.0}, {\"count\": 2, \"cutoff\": 8, \"userId\": 137105, \"precision\": 0.0, \"recall\": 0.0}, {\"count\": 2, \"cutoff\": 9, \"userId\": 137105, \"precision\": 0.0, \"recall\": 0.0}, {\"count\": 2, \"cutoff\": 10, \"userId\": 137105, \"precision\": 0.0, \"recall\": 0.0}, {\"count\": 2, \"cutoff\": 11, \"userId\": 137105, \"precision\": 0.0, \"recall\": 0.0}, {\"count\": 2, \"cutoff\": 16, \"userId\": 137105, \"precision\": 0.0, \"recall\": 0.0}, {\"count\": 2, \"cutoff\": 21, \"userId\": 137105, \"precision\": 0.0, \"recall\": 0.0}, {\"count\": 2, \"cutoff\": 26, \"userId\": 137105, \"precision\": 0.0, \"recall\": 0.0}, {\"count\": 2, \"cutoff\": 31, \"userId\": 137105, \"precision\": 0.0, \"recall\": 0.0}, {\"count\": 2, \"cutoff\": 36, \"userId\": 137105, \"precision\": 0.0, \"recall\": 0.0}, {\"count\": 2, \"cutoff\": 41, \"userId\": 137105, \"precision\": 0.0, \"recall\": 0.0}, {\"count\": 2, \"cutoff\": 46, \"userId\": 137105, \"precision\": 0.0, \"recall\": 0.0}]}]], \"type\": \"Model\"}, \"ipython\": true, \"view_params\": {\"model_type\": \"recommender\", \"view\": \"Comparison\"}, \"model_type\": \"recommender\", \"attributes\": {\"section_titles\": [\"Schema\", \"Statistics\", \"Training summary\", \"Model Parameters\", \"Regularization Settings\", \"Optimization Settings\"], \"sections\": [[[\"User ID\", \"userId\"], [\"Item ID\", \"title\"], [\"Target\", \"rating\"], [\"Additional observation features\", 23], [\"User side features\", []], [\"Item side features\", []]], [[\"Number of observations\", 390671], [\"Number of users\", 7154], [\"Number of items\", 13387]], [[\"Training time\", 83.9016]], [[\"Model class\", \"RankingFactorizationRecommender\"], [\"num_factors\", 24], [\"binary_target\", 0], [\"side_data_factorization\", 1], [\"solver\", \"auto\"], [\"nmf\", 0], [\"max_iterations\", 50]], [[\"regularization\", 0.001], [\"regularization_type\", \"normal\"], [\"linear_regularization\", 0.001], [\"ranking_regularization\", 0.25], [\"unobserved_rating_value\", -1.7976931348623157e+308], [\"num_sampled_negative_examples\", 4], [\"ials_confidence_scaling_type\", \"auto\"], [\"ials_confidence_scaling_factor\", 1]], [[\"init_random_sigma\", 0.01], [\"sgd_convergence_interval\", 4], [\"sgd_convergence_threshold\", 0.0], [\"sgd_max_trial_iterations\", 5], [\"sgd_sampling_block_size\", 131072], [\"sgd_step_adjustment_interval\", 4], [\"sgd_step_size\", 0.0], [\"sgd_trial_sample_minimum_size\", 10000], [\"sgd_trial_sample_proportion\", 0.125], [\"step_size_decrease_rate\", 0.75], [\"additional_iterations_if_unhealthy\", 5], [\"adagrad_momentum_weighting\", 0.9], [\"num_tempering_iterations\", 4], [\"tempering_regularization_start_value\", 0.0], [\"track_exact_loss\", 0]]]}, \"evaluations\": [[\"dataset\", {\"precision_recall_overall\": [{\"cutoff\": 1, \"precision\": 0.0, \"recall\": 0.0}, {\"cutoff\": 2, \"precision\": 0.0, \"recall\": 0.0}, {\"cutoff\": 3, \"precision\": 0.0, \"recall\": 0.0}, {\"cutoff\": 4, \"precision\": 0.004385964912280702, \"recall\": 0.00010964912280701753}, {\"cutoff\": 5, \"precision\": 0.003508771929824561, \"recall\": 0.00010964912280701753}, {\"cutoff\": 6, \"precision\": 0.0029239766081871348, \"recall\": 0.00010964912280701753}, {\"cutoff\": 7, \"precision\": 0.0025062656641604013, \"recall\": 0.00010964912280701753}, {\"cutoff\": 8, \"precision\": 0.002192982456140351, \"recall\": 0.00010964912280701753}, {\"cutoff\": 9, \"precision\": 0.0019493177387914225, \"recall\": 0.00010964912280701753}, {\"cutoff\": 10, \"precision\": 0.0017543859649122805, \"recall\": 0.00010964912280701753}, {\"cutoff\": 11, \"precision\": 0.001594896331738437, \"recall\": 0.00010964912280701753}, {\"cutoff\": 16, \"precision\": 0.0010964912280701754, \"recall\": 0.00010964912280701753}, {\"cutoff\": 21, \"precision\": 0.0016708437761069343, \"recall\": 0.0006944444444444448}, {\"cutoff\": 26, \"precision\": 0.003373819163292847, \"recall\": 0.0028630604288499024}, {\"cutoff\": 31, \"precision\": 0.003395585738539897, \"recall\": 0.0032909594446821656}, {\"cutoff\": 36, \"precision\": 0.003411306042884991, \"recall\": 0.006214936052869302}, {\"cutoff\": 41, \"precision\": 0.003851091142490373, \"recall\": 0.012490788285075834}, {\"cutoff\": 46, \"precision\": 0.0034324942791762016, \"recall\": 0.012490788285075834}], \"precision_recall_by_user\": [{\"count\": 1, \"cutoff\": 1, \"userId\": 3171, \"precision\": 0.0, \"recall\": 0.0}, {\"count\": 1, \"cutoff\": 2, \"userId\": 3171, \"precision\": 0.0, \"recall\": 0.0}, {\"count\": 1, \"cutoff\": 3, \"userId\": 3171, \"precision\": 0.0, \"recall\": 0.0}, {\"count\": 1, \"cutoff\": 4, \"userId\": 3171, \"precision\": 0.0, \"recall\": 0.0}, {\"count\": 1, \"cutoff\": 5, \"userId\": 3171, \"precision\": 0.0, \"recall\": 0.0}, {\"count\": 1, \"cutoff\": 6, \"userId\": 3171, \"precision\": 0.0, \"recall\": 0.0}, {\"count\": 1, \"cutoff\": 7, \"userId\": 3171, \"precision\": 0.0, \"recall\": 0.0}, {\"count\": 1, \"cutoff\": 8, \"userId\": 3171, \"precision\": 0.0, \"recall\": 0.0}, {\"count\": 1, \"cutoff\": 9, \"userId\": 3171, \"precision\": 0.0, \"recall\": 0.0}, {\"count\": 1, \"cutoff\": 10, \"userId\": 3171, \"precision\": 0.0, \"recall\": 0.0}, {\"count\": 1, \"cutoff\": 11, \"userId\": 3171, \"precision\": 0.0, \"recall\": 0.0}, {\"count\": 1, \"cutoff\": 16, \"userId\": 3171, \"precision\": 0.0, \"recall\": 0.0}, {\"count\": 1, \"cutoff\": 21, \"userId\": 3171, \"precision\": 0.0, \"recall\": 0.0}, {\"count\": 1, \"cutoff\": 26, \"userId\": 3171, \"precision\": 0.0, \"recall\": 0.0}, {\"count\": 1, \"cutoff\": 31, \"userId\": 3171, \"precision\": 0.0, \"recall\": 0.0}, {\"count\": 1, \"cutoff\": 36, \"userId\": 3171, \"precision\": 0.0, \"recall\": 0.0}, {\"count\": 1, \"cutoff\": 41, \"userId\": 3171, \"precision\": 0.0, \"recall\": 0.0}, {\"count\": 1, \"cutoff\": 46, \"userId\": 3171, \"precision\": 0.0, \"recall\": 0.0}, {\"count\": 2, \"cutoff\": 1, \"userId\": 5525, \"precision\": 0.0, \"recall\": 0.0}, {\"count\": 2, \"cutoff\": 2, \"userId\": 5525, \"precision\": 0.0, \"recall\": 0.0}, {\"count\": 2, \"cutoff\": 3, \"userId\": 5525, \"precision\": 0.0, \"recall\": 0.0}, {\"count\": 2, \"cutoff\": 4, \"userId\": 5525, \"precision\": 0.0, \"recall\": 0.0}, {\"count\": 2, \"cutoff\": 5, \"userId\": 5525, \"precision\": 0.0, \"recall\": 0.0}, {\"count\": 2, \"cutoff\": 6, \"userId\": 5525, \"precision\": 0.0, \"recall\": 0.0}, {\"count\": 2, \"cutoff\": 7, \"userId\": 5525, \"precision\": 0.0, \"recall\": 0.0}, {\"count\": 2, \"cutoff\": 8, \"userId\": 5525, \"precision\": 0.0, \"recall\": 0.0}, {\"count\": 2, \"cutoff\": 9, \"userId\": 5525, \"precision\": 0.0, \"recall\": 0.0}, {\"count\": 2, \"cutoff\": 10, \"userId\": 5525, \"precision\": 0.0, \"recall\": 0.0}, {\"count\": 2, \"cutoff\": 11, \"userId\": 5525, \"precision\": 0.0, \"recall\": 0.0}, {\"count\": 2, \"cutoff\": 16, \"userId\": 5525, \"precision\": 0.0, \"recall\": 0.0}, {\"count\": 2, \"cutoff\": 21, \"userId\": 5525, \"precision\": 0.0, \"recall\": 0.0}, {\"count\": 2, \"cutoff\": 26, \"userId\": 5525, \"precision\": 0.0, \"recall\": 0.0}, {\"count\": 2, \"cutoff\": 31, \"userId\": 5525, \"precision\": 0.0, \"recall\": 0.0}, {\"count\": 2, \"cutoff\": 36, \"userId\": 5525, \"precision\": 0.0, \"recall\": 0.0}, {\"count\": 2, \"cutoff\": 41, \"userId\": 5525, \"precision\": 0.0, \"recall\": 0.0}, {\"count\": 2, \"cutoff\": 46, \"userId\": 5525, \"precision\": 0.0, \"recall\": 0.0}, {\"count\": 2, \"cutoff\": 1, \"userId\": 7421, \"precision\": 0.0, \"recall\": 0.0}, {\"count\": 2, \"cutoff\": 2, \"userId\": 7421, \"precision\": 0.0, \"recall\": 0.0}, {\"count\": 2, \"cutoff\": 3, \"userId\": 7421, \"precision\": 0.0, \"recall\": 0.0}, {\"count\": 2, \"cutoff\": 4, \"userId\": 7421, \"precision\": 0.0, \"recall\": 0.0}, {\"count\": 2, \"cutoff\": 5, \"userId\": 7421, \"precision\": 0.0, \"recall\": 0.0}, {\"count\": 2, \"cutoff\": 6, \"userId\": 7421, \"precision\": 0.0, \"recall\": 0.0}, {\"count\": 2, \"cutoff\": 7, \"userId\": 7421, \"precision\": 0.0, \"recall\": 0.0}, {\"count\": 2, \"cutoff\": 8, \"userId\": 7421, \"precision\": 0.0, \"recall\": 0.0}, {\"count\": 2, \"cutoff\": 9, \"userId\": 7421, \"precision\": 0.0, \"recall\": 0.0}, {\"count\": 2, \"cutoff\": 10, \"userId\": 7421, \"precision\": 0.0, \"recall\": 0.0}, {\"count\": 2, \"cutoff\": 11, \"userId\": 7421, \"precision\": 0.0, \"recall\": 0.0}, {\"count\": 2, \"cutoff\": 16, \"userId\": 7421, \"precision\": 0.0, \"recall\": 0.0}, {\"count\": 2, \"cutoff\": 21, \"userId\": 7421, \"precision\": 0.0, \"recall\": 0.0}, {\"count\": 2, \"cutoff\": 26, \"userId\": 7421, \"precision\": 0.0, \"recall\": 0.0}, {\"count\": 2, \"cutoff\": 31, \"userId\": 7421, \"precision\": 0.0, \"recall\": 0.0}, {\"count\": 2, \"cutoff\": 36, \"userId\": 7421, \"precision\": 0.0, \"recall\": 0.0}, {\"count\": 2, \"cutoff\": 41, \"userId\": 7421, \"precision\": 0.0, \"recall\": 0.0}, {\"count\": 2, \"cutoff\": 46, \"userId\": 7421, \"precision\": 0.0, \"recall\": 0.0}, {\"count\": 1, \"cutoff\": 1, \"userId\": 12550, \"precision\": 0.0, \"recall\": 0.0}, {\"count\": 1, \"cutoff\": 2, \"userId\": 12550, \"precision\": 0.0, \"recall\": 0.0}, {\"count\": 1, \"cutoff\": 3, \"userId\": 12550, \"precision\": 0.0, \"recall\": 0.0}, {\"count\": 1, \"cutoff\": 4, \"userId\": 12550, \"precision\": 0.0, \"recall\": 0.0}, {\"count\": 1, \"cutoff\": 5, \"userId\": 12550, \"precision\": 0.0, \"recall\": 0.0}, {\"count\": 1, \"cutoff\": 6, \"userId\": 12550, \"precision\": 0.0, \"recall\": 0.0}, {\"count\": 1, \"cutoff\": 7, \"userId\": 12550, \"precision\": 0.0, \"recall\": 0.0}, {\"count\": 1, \"cutoff\": 8, \"userId\": 12550, \"precision\": 0.0, \"recall\": 0.0}, {\"count\": 1, \"cutoff\": 9, \"userId\": 12550, \"precision\": 0.0, \"recall\": 0.0}, {\"count\": 1, \"cutoff\": 10, \"userId\": 12550, \"precision\": 0.0, \"recall\": 0.0}, {\"count\": 1, \"cutoff\": 11, \"userId\": 12550, \"precision\": 0.0, \"recall\": 0.0}, {\"count\": 1, \"cutoff\": 16, \"userId\": 12550, \"precision\": 0.0, \"recall\": 0.0}, {\"count\": 1, \"cutoff\": 21, \"userId\": 12550, \"precision\": 0.0, \"recall\": 0.0}, {\"count\": 1, \"cutoff\": 26, \"userId\": 12550, \"precision\": 0.0, \"recall\": 0.0}, {\"count\": 1, \"cutoff\": 31, \"userId\": 12550, \"precision\": 0.0, \"recall\": 0.0}, {\"count\": 1, \"cutoff\": 36, \"userId\": 12550, \"precision\": 0.0, \"recall\": 0.0}, {\"count\": 1, \"cutoff\": 41, \"userId\": 12550, \"precision\": 0.0, \"recall\": 0.0}, {\"count\": 1, \"cutoff\": 46, \"userId\": 12550, \"precision\": 0.0, \"recall\": 0.0}, {\"count\": 2, \"cutoff\": 1, \"userId\": 14031, \"precision\": 0.0, \"recall\": 0.0}, {\"count\": 2, \"cutoff\": 2, \"userId\": 14031, \"precision\": 0.0, \"recall\": 0.0}, {\"count\": 2, \"cutoff\": 3, \"userId\": 14031, \"precision\": 0.0, \"recall\": 0.0}, {\"count\": 2, \"cutoff\": 4, \"userId\": 14031, \"precision\": 0.0, \"recall\": 0.0}, {\"count\": 2, \"cutoff\": 5, \"userId\": 14031, \"precision\": 0.0, \"recall\": 0.0}, {\"count\": 2, \"cutoff\": 6, \"userId\": 14031, \"precision\": 0.0, \"recall\": 0.0}, {\"count\": 2, \"cutoff\": 7, \"userId\": 14031, \"precision\": 0.0, \"recall\": 0.0}, {\"count\": 2, \"cutoff\": 8, \"userId\": 14031, \"precision\": 0.0, \"recall\": 0.0}, {\"count\": 2, \"cutoff\": 9, \"userId\": 14031, \"precision\": 0.0, \"recall\": 0.0}, {\"count\": 2, \"cutoff\": 10, \"userId\": 14031, \"precision\": 0.0, \"recall\": 0.0}, {\"count\": 2, \"cutoff\": 11, \"userId\": 14031, \"precision\": 0.0, \"recall\": 0.0}, {\"count\": 2, \"cutoff\": 16, \"userId\": 14031, \"precision\": 0.0, \"recall\": 0.0}, {\"count\": 2, \"cutoff\": 21, \"userId\": 14031, \"precision\": 0.0, \"recall\": 0.0}, {\"count\": 2, \"cutoff\": 26, \"userId\": 14031, \"precision\": 0.0, \"recall\": 0.0}, {\"count\": 2, \"cutoff\": 31, \"userId\": 14031, \"precision\": 0.0, \"recall\": 0.0}, {\"count\": 2, \"cutoff\": 36, \"userId\": 14031, \"precision\": 0.0, \"recall\": 0.0}, {\"count\": 2, \"cutoff\": 41, \"userId\": 14031, \"precision\": 0.0, \"recall\": 0.0}, {\"count\": 2, \"cutoff\": 46, \"userId\": 14031, \"precision\": 0.0, \"recall\": 0.0}, {\"count\": 34, \"cutoff\": 1, \"userId\": 16555, \"precision\": 0.0, \"recall\": 0.0}, {\"count\": 34, \"cutoff\": 2, \"userId\": 16555, \"precision\": 0.0, \"recall\": 0.0}, {\"count\": 34, \"cutoff\": 3, \"userId\": 16555, \"precision\": 0.0, \"recall\": 0.0}, {\"count\": 34, \"cutoff\": 4, \"userId\": 16555, \"precision\": 0.0, \"recall\": 0.0}, {\"count\": 34, \"cutoff\": 5, \"userId\": 16555, \"precision\": 0.0, \"recall\": 0.0}, {\"count\": 34, \"cutoff\": 6, \"userId\": 16555, \"precision\": 0.0, \"recall\": 0.0}, {\"count\": 34, \"cutoff\": 7, \"userId\": 16555, \"precision\": 0.0, \"recall\": 0.0}, {\"count\": 34, \"cutoff\": 8, \"userId\": 16555, \"precision\": 0.0, \"recall\": 0.0}, {\"count\": 34, \"cutoff\": 9, \"userId\": 16555, \"precision\": 0.0, \"recall\": 0.0}, {\"count\": 34, \"cutoff\": 10, \"userId\": 16555, \"precision\": 0.0, \"recall\": 0.0}, {\"count\": 34, \"cutoff\": 11, \"userId\": 16555, \"precision\": 0.0, \"recall\": 0.0}, {\"count\": 34, \"cutoff\": 16, \"userId\": 16555, \"precision\": 0.0, \"recall\": 0.0}, {\"count\": 34, \"cutoff\": 21, \"userId\": 16555, \"precision\": 0.0, \"recall\": 0.0}, {\"count\": 34, \"cutoff\": 26, \"userId\": 16555, \"precision\": 0.0, \"recall\": 0.0}, {\"count\": 34, \"cutoff\": 31, \"userId\": 16555, \"precision\": 0.0, \"recall\": 0.0}, {\"count\": 34, \"cutoff\": 36, \"userId\": 16555, \"precision\": 0.0, \"recall\": 0.0}, {\"count\": 34, \"cutoff\": 41, \"userId\": 16555, \"precision\": 0.0, \"recall\": 0.0}, {\"count\": 34, \"cutoff\": 46, \"userId\": 16555, \"precision\": 0.0, \"recall\": 0.0}, {\"count\": 9, \"cutoff\": 1, \"userId\": 16745, \"precision\": 0.0, \"recall\": 0.0}, {\"count\": 9, \"cutoff\": 2, \"userId\": 16745, \"precision\": 0.0, \"recall\": 0.0}, {\"count\": 9, \"cutoff\": 3, \"userId\": 16745, \"precision\": 0.0, \"recall\": 0.0}, {\"count\": 9, \"cutoff\": 4, \"userId\": 16745, \"precision\": 0.0, \"recall\": 0.0}, {\"count\": 9, \"cutoff\": 5, \"userId\": 16745, \"precision\": 0.0, \"recall\": 0.0}, {\"count\": 9, \"cutoff\": 6, \"userId\": 16745, \"precision\": 0.0, \"recall\": 0.0}, {\"count\": 9, \"cutoff\": 7, \"userId\": 16745, \"precision\": 0.0, \"recall\": 0.0}, {\"count\": 9, \"cutoff\": 8, \"userId\": 16745, \"precision\": 0.0, \"recall\": 0.0}, {\"count\": 9, \"cutoff\": 9, \"userId\": 16745, \"precision\": 0.0, \"recall\": 0.0}, {\"count\": 9, \"cutoff\": 10, \"userId\": 16745, \"precision\": 0.0, \"recall\": 0.0}, {\"count\": 9, \"cutoff\": 11, \"userId\": 16745, \"precision\": 0.0, \"recall\": 0.0}, {\"count\": 9, \"cutoff\": 16, \"userId\": 16745, \"precision\": 0.0, \"recall\": 0.0}, {\"count\": 9, \"cutoff\": 21, \"userId\": 16745, \"precision\": 0.0, \"recall\": 0.0}, {\"count\": 9, \"cutoff\": 26, \"userId\": 16745, \"precision\": 0.0, \"recall\": 0.0}, {\"count\": 9, \"cutoff\": 31, \"userId\": 16745, \"precision\": 0.0, \"recall\": 0.0}, {\"count\": 9, \"cutoff\": 36, \"userId\": 16745, \"precision\": 0.0, \"recall\": 0.0}, {\"count\": 9, \"cutoff\": 41, \"userId\": 16745, \"precision\": 0.0, \"recall\": 0.0}, {\"count\": 9, \"cutoff\": 46, \"userId\": 16745, \"precision\": 0.0, \"recall\": 0.0}, {\"count\": 1, \"cutoff\": 1, \"userId\": 21672, \"precision\": 0.0, \"recall\": 0.0}, {\"count\": 1, \"cutoff\": 2, \"userId\": 21672, \"precision\": 0.0, \"recall\": 0.0}, {\"count\": 1, \"cutoff\": 3, \"userId\": 21672, \"precision\": 0.0, \"recall\": 0.0}, {\"count\": 1, \"cutoff\": 4, \"userId\": 21672, \"precision\": 0.0, \"recall\": 0.0}, {\"count\": 1, \"cutoff\": 5, \"userId\": 21672, \"precision\": 0.0, \"recall\": 0.0}, {\"count\": 1, \"cutoff\": 6, \"userId\": 21672, \"precision\": 0.0, \"recall\": 0.0}, {\"count\": 1, \"cutoff\": 7, \"userId\": 21672, \"precision\": 0.0, \"recall\": 0.0}, {\"count\": 1, \"cutoff\": 8, \"userId\": 21672, \"precision\": 0.0, \"recall\": 0.0}, {\"count\": 1, \"cutoff\": 9, \"userId\": 21672, \"precision\": 0.0, \"recall\": 0.0}, {\"count\": 1, \"cutoff\": 10, \"userId\": 21672, \"precision\": 0.0, \"recall\": 0.0}, {\"count\": 1, \"cutoff\": 11, \"userId\": 21672, \"precision\": 0.0, \"recall\": 0.0}, {\"count\": 1, \"cutoff\": 16, \"userId\": 21672, \"precision\": 0.0, \"recall\": 0.0}, {\"count\": 1, \"cutoff\": 21, \"userId\": 21672, \"precision\": 0.0, \"recall\": 0.0}, {\"count\": 1, \"cutoff\": 26, \"userId\": 21672, \"precision\": 0.0, \"recall\": 0.0}, {\"count\": 1, \"cutoff\": 31, \"userId\": 21672, \"precision\": 0.0, \"recall\": 0.0}, {\"count\": 1, \"cutoff\": 36, \"userId\": 21672, \"precision\": 0.0, \"recall\": 0.0}, {\"count\": 1, \"cutoff\": 41, \"userId\": 21672, \"precision\": 0.0, \"recall\": 0.0}, {\"count\": 1, \"cutoff\": 46, \"userId\": 21672, \"precision\": 0.0, \"recall\": 0.0}, {\"count\": 3, \"cutoff\": 1, \"userId\": 23921, \"precision\": 0.0, \"recall\": 0.0}, {\"count\": 3, \"cutoff\": 2, \"userId\": 23921, \"precision\": 0.0, \"recall\": 0.0}, {\"count\": 3, \"cutoff\": 3, \"userId\": 23921, \"precision\": 0.0, \"recall\": 0.0}, {\"count\": 3, \"cutoff\": 4, \"userId\": 23921, \"precision\": 0.0, \"recall\": 0.0}, {\"count\": 3, \"cutoff\": 5, \"userId\": 23921, \"precision\": 0.0, \"recall\": 0.0}, {\"count\": 3, \"cutoff\": 6, \"userId\": 23921, \"precision\": 0.0, \"recall\": 0.0}, {\"count\": 3, \"cutoff\": 7, \"userId\": 23921, \"precision\": 0.0, \"recall\": 0.0}, {\"count\": 3, \"cutoff\": 8, \"userId\": 23921, \"precision\": 0.0, \"recall\": 0.0}, {\"count\": 3, \"cutoff\": 9, \"userId\": 23921, \"precision\": 0.0, \"recall\": 0.0}, {\"count\": 3, \"cutoff\": 10, \"userId\": 23921, \"precision\": 0.0, \"recall\": 0.0}, {\"count\": 3, \"cutoff\": 11, \"userId\": 23921, \"precision\": 0.0, \"recall\": 0.0}, {\"count\": 3, \"cutoff\": 16, \"userId\": 23921, \"precision\": 0.0, \"recall\": 0.0}, {\"count\": 3, \"cutoff\": 21, \"userId\": 23921, \"precision\": 0.0, \"recall\": 0.0}, {\"count\": 3, \"cutoff\": 26, \"userId\": 23921, \"precision\": 0.0, \"recall\": 0.0}, {\"count\": 3, \"cutoff\": 31, \"userId\": 23921, \"precision\": 0.0, \"recall\": 0.0}, {\"count\": 3, \"cutoff\": 36, \"userId\": 23921, \"precision\": 0.0, \"recall\": 0.0}, {\"count\": 3, \"cutoff\": 41, \"userId\": 23921, \"precision\": 0.024390243902439025, \"recall\": 0.3333333333333333}, {\"count\": 3, \"cutoff\": 46, \"userId\": 23921, \"precision\": 0.021739130434782608, \"recall\": 0.3333333333333333}, {\"count\": 1, \"cutoff\": 1, \"userId\": 23946, \"precision\": 0.0, \"recall\": 0.0}, {\"count\": 1, \"cutoff\": 2, \"userId\": 23946, \"precision\": 0.0, \"recall\": 0.0}, {\"count\": 1, \"cutoff\": 3, \"userId\": 23946, \"precision\": 0.0, \"recall\": 0.0}, {\"count\": 1, \"cutoff\": 4, \"userId\": 23946, \"precision\": 0.0, \"recall\": 0.0}, {\"count\": 1, \"cutoff\": 5, \"userId\": 23946, \"precision\": 0.0, \"recall\": 0.0}, {\"count\": 1, \"cutoff\": 6, \"userId\": 23946, \"precision\": 0.0, \"recall\": 0.0}, {\"count\": 1, \"cutoff\": 7, \"userId\": 23946, \"precision\": 0.0, \"recall\": 0.0}, {\"count\": 1, \"cutoff\": 8, \"userId\": 23946, \"precision\": 0.0, \"recall\": 0.0}, {\"count\": 1, \"cutoff\": 9, \"userId\": 23946, \"precision\": 0.0, \"recall\": 0.0}, {\"count\": 1, \"cutoff\": 10, \"userId\": 23946, \"precision\": 0.0, \"recall\": 0.0}, {\"count\": 1, \"cutoff\": 11, \"userId\": 23946, \"precision\": 0.0, \"recall\": 0.0}, {\"count\": 1, \"cutoff\": 16, \"userId\": 23946, \"precision\": 0.0, \"recall\": 0.0}, {\"count\": 1, \"cutoff\": 21, \"userId\": 23946, \"precision\": 0.0, \"recall\": 0.0}, {\"count\": 1, \"cutoff\": 26, \"userId\": 23946, \"precision\": 0.0, \"recall\": 0.0}, {\"count\": 1, \"cutoff\": 31, \"userId\": 23946, \"precision\": 0.0, \"recall\": 0.0}, {\"count\": 1, \"cutoff\": 36, \"userId\": 23946, \"precision\": 0.0, \"recall\": 0.0}, {\"count\": 1, \"cutoff\": 41, \"userId\": 23946, \"precision\": 0.0, \"recall\": 0.0}, {\"count\": 1, \"cutoff\": 46, \"userId\": 23946, \"precision\": 0.0, \"recall\": 0.0}, {\"count\": 5, \"cutoff\": 1, \"userId\": 24902, \"precision\": 0.0, \"recall\": 0.0}, {\"count\": 5, \"cutoff\": 2, \"userId\": 24902, \"precision\": 0.0, \"recall\": 0.0}, {\"count\": 5, \"cutoff\": 3, \"userId\": 24902, \"precision\": 0.0, \"recall\": 0.0}, {\"count\": 5, \"cutoff\": 4, \"userId\": 24902, \"precision\": 0.0, \"recall\": 0.0}, {\"count\": 5, \"cutoff\": 5, \"userId\": 24902, \"precision\": 0.0, \"recall\": 0.0}, {\"count\": 5, \"cutoff\": 6, \"userId\": 24902, \"precision\": 0.0, \"recall\": 0.0}, {\"count\": 5, \"cutoff\": 7, \"userId\": 24902, \"precision\": 0.0, \"recall\": 0.0}, {\"count\": 5, \"cutoff\": 8, \"userId\": 24902, \"precision\": 0.0, \"recall\": 0.0}, {\"count\": 5, \"cutoff\": 9, \"userId\": 24902, \"precision\": 0.0, \"recall\": 0.0}, {\"count\": 5, \"cutoff\": 10, \"userId\": 24902, \"precision\": 0.0, \"recall\": 0.0}, {\"count\": 5, \"cutoff\": 11, \"userId\": 24902, \"precision\": 0.0, \"recall\": 0.0}, {\"count\": 5, \"cutoff\": 16, \"userId\": 24902, \"precision\": 0.0, \"recall\": 0.0}, {\"count\": 5, \"cutoff\": 21, \"userId\": 24902, \"precision\": 0.0, \"recall\": 0.0}, {\"count\": 5, \"cutoff\": 26, \"userId\": 24902, \"precision\": 0.0, \"recall\": 0.0}, {\"count\": 5, \"cutoff\": 31, \"userId\": 24902, \"precision\": 0.0, \"recall\": 0.0}, {\"count\": 5, \"cutoff\": 36, \"userId\": 24902, \"precision\": 0.0, \"recall\": 0.0}, {\"count\": 5, \"cutoff\": 41, \"userId\": 24902, \"precision\": 0.0, \"recall\": 0.0}, {\"count\": 5, \"cutoff\": 46, \"userId\": 24902, \"precision\": 0.0, \"recall\": 0.0}, {\"count\": 2, \"cutoff\": 1, \"userId\": 28050, \"precision\": 0.0, \"recall\": 0.0}, {\"count\": 2, \"cutoff\": 2, \"userId\": 28050, \"precision\": 0.0, \"recall\": 0.0}, {\"count\": 2, \"cutoff\": 3, \"userId\": 28050, \"precision\": 0.0, \"recall\": 0.0}, {\"count\": 2, \"cutoff\": 4, \"userId\": 28050, \"precision\": 0.0, \"recall\": 0.0}, {\"count\": 2, \"cutoff\": 5, \"userId\": 28050, \"precision\": 0.0, \"recall\": 0.0}, {\"count\": 2, \"cutoff\": 6, \"userId\": 28050, \"precision\": 0.0, \"recall\": 0.0}, {\"count\": 2, \"cutoff\": 7, \"userId\": 28050, \"precision\": 0.0, \"recall\": 0.0}, {\"count\": 2, \"cutoff\": 8, \"userId\": 28050, \"precision\": 0.0, \"recall\": 0.0}, {\"count\": 2, \"cutoff\": 9, \"userId\": 28050, \"precision\": 0.0, \"recall\": 0.0}, {\"count\": 2, \"cutoff\": 10, \"userId\": 28050, \"precision\": 0.0, \"recall\": 0.0}, {\"count\": 2, \"cutoff\": 11, \"userId\": 28050, \"precision\": 0.0, \"recall\": 0.0}, {\"count\": 2, \"cutoff\": 16, \"userId\": 28050, \"precision\": 0.0, \"recall\": 0.0}, {\"count\": 2, \"cutoff\": 21, \"userId\": 28050, \"precision\": 0.0, \"recall\": 0.0}, {\"count\": 2, \"cutoff\": 26, \"userId\": 28050, \"precision\": 0.0, \"recall\": 0.0}, {\"count\": 2, \"cutoff\": 31, \"userId\": 28050, \"precision\": 0.0, \"recall\": 0.0}, {\"count\": 2, \"cutoff\": 36, \"userId\": 28050, \"precision\": 0.0, \"recall\": 0.0}, {\"count\": 2, \"cutoff\": 41, \"userId\": 28050, \"precision\": 0.0, \"recall\": 0.0}, {\"count\": 2, \"cutoff\": 46, \"userId\": 28050, \"precision\": 0.0, \"recall\": 0.0}, {\"count\": 59, \"cutoff\": 1, \"userId\": 28599, \"precision\": 0.0, \"recall\": 0.0}, {\"count\": 59, \"cutoff\": 2, \"userId\": 28599, \"precision\": 0.0, \"recall\": 0.0}, {\"count\": 59, \"cutoff\": 3, \"userId\": 28599, \"precision\": 0.0, \"recall\": 0.0}, {\"count\": 59, \"cutoff\": 4, \"userId\": 28599, \"precision\": 0.0, \"recall\": 0.0}, {\"count\": 59, \"cutoff\": 5, \"userId\": 28599, \"precision\": 0.0, \"recall\": 0.0}, {\"count\": 59, \"cutoff\": 6, \"userId\": 28599, \"precision\": 0.0, \"recall\": 0.0}, {\"count\": 59, \"cutoff\": 7, \"userId\": 28599, \"precision\": 0.0, \"recall\": 0.0}, {\"count\": 59, \"cutoff\": 8, \"userId\": 28599, \"precision\": 0.0, \"recall\": 0.0}, {\"count\": 59, \"cutoff\": 9, \"userId\": 28599, \"precision\": 0.0, \"recall\": 0.0}, {\"count\": 59, \"cutoff\": 10, \"userId\": 28599, \"precision\": 0.0, \"recall\": 0.0}, {\"count\": 59, \"cutoff\": 11, \"userId\": 28599, \"precision\": 0.0, \"recall\": 0.0}, {\"count\": 59, \"cutoff\": 16, \"userId\": 28599, \"precision\": 0.0, \"recall\": 0.0}, {\"count\": 59, \"cutoff\": 21, \"userId\": 28599, \"precision\": 0.0, \"recall\": 0.0}, {\"count\": 59, \"cutoff\": 26, \"userId\": 28599, \"precision\": 0.0, \"recall\": 0.0}, {\"count\": 59, \"cutoff\": 31, \"userId\": 28599, \"precision\": 0.0, \"recall\": 0.0}, {\"count\": 59, \"cutoff\": 36, \"userId\": 28599, \"precision\": 0.0, \"recall\": 0.0}, {\"count\": 59, \"cutoff\": 41, \"userId\": 28599, \"precision\": 0.0, \"recall\": 0.0}, {\"count\": 59, \"cutoff\": 46, \"userId\": 28599, \"precision\": 0.0, \"recall\": 0.0}, {\"count\": 8, \"cutoff\": 1, \"userId\": 28744, \"precision\": 0.0, \"recall\": 0.0}, {\"count\": 8, \"cutoff\": 2, \"userId\": 28744, \"precision\": 0.0, \"recall\": 0.0}, {\"count\": 8, \"cutoff\": 3, \"userId\": 28744, \"precision\": 0.0, \"recall\": 0.0}, {\"count\": 8, \"cutoff\": 4, \"userId\": 28744, \"precision\": 0.0, \"recall\": 0.0}, {\"count\": 8, \"cutoff\": 5, \"userId\": 28744, \"precision\": 0.0, \"recall\": 0.0}, {\"count\": 8, \"cutoff\": 6, \"userId\": 28744, \"precision\": 0.0, \"recall\": 0.0}, {\"count\": 8, \"cutoff\": 7, \"userId\": 28744, \"precision\": 0.0, \"recall\": 0.0}, {\"count\": 8, \"cutoff\": 8, \"userId\": 28744, \"precision\": 0.0, \"recall\": 0.0}, {\"count\": 8, \"cutoff\": 9, \"userId\": 28744, \"precision\": 0.0, \"recall\": 0.0}, {\"count\": 8, \"cutoff\": 10, \"userId\": 28744, \"precision\": 0.0, \"recall\": 0.0}, {\"count\": 8, \"cutoff\": 11, \"userId\": 28744, \"precision\": 0.0, \"recall\": 0.0}, {\"count\": 8, \"cutoff\": 16, \"userId\": 28744, \"precision\": 0.0, \"recall\": 0.0}, {\"count\": 8, \"cutoff\": 21, \"userId\": 28744, \"precision\": 0.0, \"recall\": 0.0}, {\"count\": 8, \"cutoff\": 26, \"userId\": 28744, \"precision\": 0.0, \"recall\": 0.0}, {\"count\": 8, \"cutoff\": 31, \"userId\": 28744, \"precision\": 0.0, \"recall\": 0.0}, {\"count\": 8, \"cutoff\": 36, \"userId\": 28744, \"precision\": 0.0, \"recall\": 0.0}, {\"count\": 8, \"cutoff\": 41, \"userId\": 28744, \"precision\": 0.0, \"recall\": 0.0}, {\"count\": 8, \"cutoff\": 46, \"userId\": 28744, \"precision\": 0.0, \"recall\": 0.0}, {\"count\": 1, \"cutoff\": 1, \"userId\": 31647, \"precision\": 0.0, \"recall\": 0.0}, {\"count\": 1, \"cutoff\": 2, \"userId\": 31647, \"precision\": 0.0, \"recall\": 0.0}, {\"count\": 1, \"cutoff\": 3, \"userId\": 31647, \"precision\": 0.0, \"recall\": 0.0}, {\"count\": 1, \"cutoff\": 4, \"userId\": 31647, \"precision\": 0.0, \"recall\": 0.0}, {\"count\": 1, \"cutoff\": 5, \"userId\": 31647, \"precision\": 0.0, \"recall\": 0.0}, {\"count\": 1, \"cutoff\": 6, \"userId\": 31647, \"precision\": 0.0, \"recall\": 0.0}, {\"count\": 1, \"cutoff\": 7, \"userId\": 31647, \"precision\": 0.0, \"recall\": 0.0}, {\"count\": 1, \"cutoff\": 8, \"userId\": 31647, \"precision\": 0.0, \"recall\": 0.0}, {\"count\": 1, \"cutoff\": 9, \"userId\": 31647, \"precision\": 0.0, \"recall\": 0.0}, {\"count\": 1, \"cutoff\": 10, \"userId\": 31647, \"precision\": 0.0, \"recall\": 0.0}, {\"count\": 1, \"cutoff\": 11, \"userId\": 31647, \"precision\": 0.0, \"recall\": 0.0}, {\"count\": 1, \"cutoff\": 16, \"userId\": 31647, \"precision\": 0.0, \"recall\": 0.0}, {\"count\": 1, \"cutoff\": 21, \"userId\": 31647, \"precision\": 0.0, \"recall\": 0.0}, {\"count\": 1, \"cutoff\": 26, \"userId\": 31647, \"precision\": 0.0, \"recall\": 0.0}, {\"count\": 1, \"cutoff\": 31, \"userId\": 31647, \"precision\": 0.0, \"recall\": 0.0}, {\"count\": 1, \"cutoff\": 36, \"userId\": 31647, \"precision\": 0.0, \"recall\": 0.0}, {\"count\": 1, \"cutoff\": 41, \"userId\": 31647, \"precision\": 0.0, \"recall\": 0.0}, {\"count\": 1, \"cutoff\": 46, \"userId\": 31647, \"precision\": 0.0, \"recall\": 0.0}, {\"count\": 20, \"cutoff\": 1, \"userId\": 33775, \"precision\": 0.0, \"recall\": 0.0}, {\"count\": 20, \"cutoff\": 2, \"userId\": 33775, \"precision\": 0.0, \"recall\": 0.0}, {\"count\": 20, \"cutoff\": 3, \"userId\": 33775, \"precision\": 0.0, \"recall\": 0.0}, {\"count\": 20, \"cutoff\": 4, \"userId\": 33775, \"precision\": 0.0, \"recall\": 0.0}, {\"count\": 20, \"cutoff\": 5, \"userId\": 33775, \"precision\": 0.0, \"recall\": 0.0}, {\"count\": 20, \"cutoff\": 6, \"userId\": 33775, \"precision\": 0.0, \"recall\": 0.0}, {\"count\": 20, \"cutoff\": 7, \"userId\": 33775, \"precision\": 0.0, \"recall\": 0.0}, {\"count\": 20, \"cutoff\": 8, \"userId\": 33775, \"precision\": 0.0, \"recall\": 0.0}, {\"count\": 20, \"cutoff\": 9, \"userId\": 33775, \"precision\": 0.0, \"recall\": 0.0}, {\"count\": 20, \"cutoff\": 10, \"userId\": 33775, \"precision\": 0.0, \"recall\": 0.0}, {\"count\": 20, \"cutoff\": 11, \"userId\": 33775, \"precision\": 0.0, \"recall\": 0.0}, {\"count\": 20, \"cutoff\": 16, \"userId\": 33775, \"precision\": 0.0, \"recall\": 0.0}, {\"count\": 20, \"cutoff\": 21, \"userId\": 33775, \"precision\": 0.0, \"recall\": 0.0}, {\"count\": 20, \"cutoff\": 26, \"userId\": 33775, \"precision\": 0.0, \"recall\": 0.0}, {\"count\": 20, \"cutoff\": 31, \"userId\": 33775, \"precision\": 0.0, \"recall\": 0.0}, {\"count\": 20, \"cutoff\": 36, \"userId\": 33775, \"precision\": 0.0, \"recall\": 0.0}, {\"count\": 20, \"cutoff\": 41, \"userId\": 33775, \"precision\": 0.0, \"recall\": 0.0}, {\"count\": 20, \"cutoff\": 46, \"userId\": 33775, \"precision\": 0.0, \"recall\": 0.0}, {\"count\": 62, \"cutoff\": 1, \"userId\": 35050, \"precision\": 0.0, \"recall\": 0.0}, {\"count\": 62, \"cutoff\": 2, \"userId\": 35050, \"precision\": 0.0, \"recall\": 0.0}, {\"count\": 62, \"cutoff\": 3, \"userId\": 35050, \"precision\": 0.0, \"recall\": 0.0}, {\"count\": 62, \"cutoff\": 4, \"userId\": 35050, \"precision\": 0.0, \"recall\": 0.0}, {\"count\": 62, \"cutoff\": 5, \"userId\": 35050, \"precision\": 0.0, \"recall\": 0.0}, {\"count\": 62, \"cutoff\": 6, \"userId\": 35050, \"precision\": 0.0, \"recall\": 0.0}, {\"count\": 62, \"cutoff\": 7, \"userId\": 35050, \"precision\": 0.0, \"recall\": 0.0}, {\"count\": 62, \"cutoff\": 8, \"userId\": 35050, \"precision\": 0.0, \"recall\": 0.0}, {\"count\": 62, \"cutoff\": 9, \"userId\": 35050, \"precision\": 0.0, \"recall\": 0.0}, {\"count\": 62, \"cutoff\": 10, \"userId\": 35050, \"precision\": 0.0, \"recall\": 0.0}, {\"count\": 62, \"cutoff\": 11, \"userId\": 35050, \"precision\": 0.0, \"recall\": 0.0}, {\"count\": 62, \"cutoff\": 16, \"userId\": 35050, \"precision\": 0.0, \"recall\": 0.0}, {\"count\": 62, \"cutoff\": 21, \"userId\": 35050, \"precision\": 0.0, \"recall\": 0.0}, {\"count\": 62, \"cutoff\": 26, \"userId\": 35050, \"precision\": 0.0, \"recall\": 0.0}, {\"count\": 62, \"cutoff\": 31, \"userId\": 35050, \"precision\": 0.0, \"recall\": 0.0}, {\"count\": 62, \"cutoff\": 36, \"userId\": 35050, \"precision\": 0.0, \"recall\": 0.0}, {\"count\": 62, \"cutoff\": 41, \"userId\": 35050, \"precision\": 0.0, \"recall\": 0.0}, {\"count\": 62, \"cutoff\": 46, \"userId\": 35050, \"precision\": 0.0, \"recall\": 0.0}, {\"count\": 41, \"cutoff\": 1, \"userId\": 35705, \"precision\": 0.0, \"recall\": 0.0}, {\"count\": 41, \"cutoff\": 2, \"userId\": 35705, \"precision\": 0.0, \"recall\": 0.0}, {\"count\": 41, \"cutoff\": 3, \"userId\": 35705, \"precision\": 0.0, \"recall\": 0.0}, {\"count\": 41, \"cutoff\": 4, \"userId\": 35705, \"precision\": 0.0, \"recall\": 0.0}, {\"count\": 41, \"cutoff\": 5, \"userId\": 35705, \"precision\": 0.0, \"recall\": 0.0}, {\"count\": 41, \"cutoff\": 6, \"userId\": 35705, \"precision\": 0.0, \"recall\": 0.0}, {\"count\": 41, \"cutoff\": 7, \"userId\": 35705, \"precision\": 0.0, \"recall\": 0.0}, {\"count\": 41, \"cutoff\": 8, \"userId\": 35705, \"precision\": 0.0, \"recall\": 0.0}, {\"count\": 41, \"cutoff\": 9, \"userId\": 35705, \"precision\": 0.0, \"recall\": 0.0}, {\"count\": 41, \"cutoff\": 10, \"userId\": 35705, \"precision\": 0.0, \"recall\": 0.0}, {\"count\": 41, \"cutoff\": 11, \"userId\": 35705, \"precision\": 0.0, \"recall\": 0.0}, {\"count\": 41, \"cutoff\": 16, \"userId\": 35705, \"precision\": 0.0, \"recall\": 0.0}, {\"count\": 41, \"cutoff\": 21, \"userId\": 35705, \"precision\": 0.0, \"recall\": 0.0}, {\"count\": 41, \"cutoff\": 26, \"userId\": 35705, \"precision\": 0.0, \"recall\": 0.0}, {\"count\": 41, \"cutoff\": 31, \"userId\": 35705, \"precision\": 0.03225806451612903, \"recall\": 0.024390243902439025}, {\"count\": 41, \"cutoff\": 36, \"userId\": 35705, \"precision\": 0.027777777777777776, \"recall\": 0.024390243902439025}, {\"count\": 41, \"cutoff\": 41, \"userId\": 35705, \"precision\": 0.04878048780487805, \"recall\": 0.04878048780487805}, {\"count\": 41, \"cutoff\": 46, \"userId\": 35705, \"precision\": 0.043478260869565216, \"recall\": 0.04878048780487805}, {\"count\": 10, \"cutoff\": 1, \"userId\": 36320, \"precision\": 0.0, \"recall\": 0.0}, {\"count\": 10, \"cutoff\": 2, \"userId\": 36320, \"precision\": 0.0, \"recall\": 0.0}, {\"count\": 10, \"cutoff\": 3, \"userId\": 36320, \"precision\": 0.0, \"recall\": 0.0}, {\"count\": 10, \"cutoff\": 4, \"userId\": 36320, \"precision\": 0.0, \"recall\": 0.0}, {\"count\": 10, \"cutoff\": 5, \"userId\": 36320, \"precision\": 0.0, \"recall\": 0.0}, {\"count\": 10, \"cutoff\": 6, \"userId\": 36320, \"precision\": 0.0, \"recall\": 0.0}, {\"count\": 10, \"cutoff\": 7, \"userId\": 36320, \"precision\": 0.0, \"recall\": 0.0}, {\"count\": 10, \"cutoff\": 8, \"userId\": 36320, \"precision\": 0.0, \"recall\": 0.0}, {\"count\": 10, \"cutoff\": 9, \"userId\": 36320, \"precision\": 0.0, \"recall\": 0.0}, {\"count\": 10, \"cutoff\": 10, \"userId\": 36320, \"precision\": 0.0, \"recall\": 0.0}, {\"count\": 10, \"cutoff\": 11, \"userId\": 36320, \"precision\": 0.0, \"recall\": 0.0}, {\"count\": 10, \"cutoff\": 16, \"userId\": 36320, \"precision\": 0.0, \"recall\": 0.0}, {\"count\": 10, \"cutoff\": 21, \"userId\": 36320, \"precision\": 0.0, \"recall\": 0.0}, {\"count\": 10, \"cutoff\": 26, \"userId\": 36320, \"precision\": 0.0, \"recall\": 0.0}, {\"count\": 10, \"cutoff\": 31, \"userId\": 36320, \"precision\": 0.0, \"recall\": 0.0}, {\"count\": 10, \"cutoff\": 36, \"userId\": 36320, \"precision\": 0.0, \"recall\": 0.0}, {\"count\": 10, \"cutoff\": 41, \"userId\": 36320, \"precision\": 0.0, \"recall\": 0.0}, {\"count\": 10, \"cutoff\": 46, \"userId\": 36320, \"precision\": 0.0, \"recall\": 0.0}, {\"count\": 2, \"cutoff\": 1, \"userId\": 40335, \"precision\": 0.0, \"recall\": 0.0}, {\"count\": 2, \"cutoff\": 2, \"userId\": 40335, \"precision\": 0.0, \"recall\": 0.0}, {\"count\": 2, \"cutoff\": 3, \"userId\": 40335, \"precision\": 0.0, \"recall\": 0.0}, {\"count\": 2, \"cutoff\": 4, \"userId\": 40335, \"precision\": 0.0, \"recall\": 0.0}, {\"count\": 2, \"cutoff\": 5, \"userId\": 40335, \"precision\": 0.0, \"recall\": 0.0}, {\"count\": 2, \"cutoff\": 6, \"userId\": 40335, \"precision\": 0.0, \"recall\": 0.0}, {\"count\": 2, \"cutoff\": 7, \"userId\": 40335, \"precision\": 0.0, \"recall\": 0.0}, {\"count\": 2, \"cutoff\": 8, \"userId\": 40335, \"precision\": 0.0, \"recall\": 0.0}, {\"count\": 2, \"cutoff\": 9, \"userId\": 40335, \"precision\": 0.0, \"recall\": 0.0}, {\"count\": 2, \"cutoff\": 10, \"userId\": 40335, \"precision\": 0.0, \"recall\": 0.0}, {\"count\": 2, \"cutoff\": 11, \"userId\": 40335, \"precision\": 0.0, \"recall\": 0.0}, {\"count\": 2, \"cutoff\": 16, \"userId\": 40335, \"precision\": 0.0, \"recall\": 0.0}, {\"count\": 2, \"cutoff\": 21, \"userId\": 40335, \"precision\": 0.0, \"recall\": 0.0}, {\"count\": 2, \"cutoff\": 26, \"userId\": 40335, \"precision\": 0.0, \"recall\": 0.0}, {\"count\": 2, \"cutoff\": 31, \"userId\": 40335, \"precision\": 0.0, \"recall\": 0.0}, {\"count\": 2, \"cutoff\": 36, \"userId\": 40335, \"precision\": 0.0, \"recall\": 0.0}, {\"count\": 2, \"cutoff\": 41, \"userId\": 40335, \"precision\": 0.0, \"recall\": 0.0}, {\"count\": 2, \"cutoff\": 46, \"userId\": 40335, \"precision\": 0.0, \"recall\": 0.0}, {\"count\": 30, \"cutoff\": 1, \"userId\": 41160, \"precision\": 0.0, \"recall\": 0.0}, {\"count\": 30, \"cutoff\": 2, \"userId\": 41160, \"precision\": 0.0, \"recall\": 0.0}, {\"count\": 30, \"cutoff\": 3, \"userId\": 41160, \"precision\": 0.0, \"recall\": 0.0}, {\"count\": 30, \"cutoff\": 4, \"userId\": 41160, \"precision\": 0.0, \"recall\": 0.0}, {\"count\": 30, \"cutoff\": 5, \"userId\": 41160, \"precision\": 0.0, \"recall\": 0.0}, {\"count\": 30, \"cutoff\": 6, \"userId\": 41160, \"precision\": 0.0, \"recall\": 0.0}, {\"count\": 30, \"cutoff\": 7, \"userId\": 41160, \"precision\": 0.0, \"recall\": 0.0}, {\"count\": 30, \"cutoff\": 8, \"userId\": 41160, \"precision\": 0.0, \"recall\": 0.0}, {\"count\": 30, \"cutoff\": 9, \"userId\": 41160, \"precision\": 0.0, \"recall\": 0.0}, {\"count\": 30, \"cutoff\": 10, \"userId\": 41160, \"precision\": 0.0, \"recall\": 0.0}, {\"count\": 30, \"cutoff\": 11, \"userId\": 41160, \"precision\": 0.0, \"recall\": 0.0}, {\"count\": 30, \"cutoff\": 16, \"userId\": 41160, \"precision\": 0.0, \"recall\": 0.0}, {\"count\": 30, \"cutoff\": 21, \"userId\": 41160, \"precision\": 0.0, \"recall\": 0.0}, {\"count\": 30, \"cutoff\": 26, \"userId\": 41160, \"precision\": 0.0, \"recall\": 0.0}, {\"count\": 30, \"cutoff\": 31, \"userId\": 41160, \"precision\": 0.0, \"recall\": 0.0}, {\"count\": 30, \"cutoff\": 36, \"userId\": 41160, \"precision\": 0.0, \"recall\": 0.0}, {\"count\": 30, \"cutoff\": 41, \"userId\": 41160, \"precision\": 0.0, \"recall\": 0.0}, {\"count\": 30, \"cutoff\": 46, \"userId\": 41160, \"precision\": 0.0, \"recall\": 0.0}, {\"count\": 1, \"cutoff\": 1, \"userId\": 49928, \"precision\": 0.0, \"recall\": 0.0}, {\"count\": 1, \"cutoff\": 2, \"userId\": 49928, \"precision\": 0.0, \"recall\": 0.0}, {\"count\": 1, \"cutoff\": 3, \"userId\": 49928, \"precision\": 0.0, \"recall\": 0.0}, {\"count\": 1, \"cutoff\": 4, \"userId\": 49928, \"precision\": 0.0, \"recall\": 0.0}, {\"count\": 1, \"cutoff\": 5, \"userId\": 49928, \"precision\": 0.0, \"recall\": 0.0}, {\"count\": 1, \"cutoff\": 6, \"userId\": 49928, \"precision\": 0.0, \"recall\": 0.0}, {\"count\": 1, \"cutoff\": 7, \"userId\": 49928, \"precision\": 0.0, \"recall\": 0.0}, {\"count\": 1, \"cutoff\": 8, \"userId\": 49928, \"precision\": 0.0, \"recall\": 0.0}, {\"count\": 1, \"cutoff\": 9, \"userId\": 49928, \"precision\": 0.0, \"recall\": 0.0}, {\"count\": 1, \"cutoff\": 10, \"userId\": 49928, \"precision\": 0.0, \"recall\": 0.0}, {\"count\": 1, \"cutoff\": 11, \"userId\": 49928, \"precision\": 0.0, \"recall\": 0.0}, {\"count\": 1, \"cutoff\": 16, \"userId\": 49928, \"precision\": 0.0, \"recall\": 0.0}, {\"count\": 1, \"cutoff\": 21, \"userId\": 49928, \"precision\": 0.0, \"recall\": 0.0}, {\"count\": 1, \"cutoff\": 26, \"userId\": 49928, \"precision\": 0.0, \"recall\": 0.0}, {\"count\": 1, \"cutoff\": 31, \"userId\": 49928, \"precision\": 0.0, \"recall\": 0.0}, {\"count\": 1, \"cutoff\": 36, \"userId\": 49928, \"precision\": 0.0, \"recall\": 0.0}, {\"count\": 1, \"cutoff\": 41, \"userId\": 49928, \"precision\": 0.0, \"recall\": 0.0}, {\"count\": 1, \"cutoff\": 46, \"userId\": 49928, \"precision\": 0.0, \"recall\": 0.0}, {\"count\": 1, \"cutoff\": 1, \"userId\": 51639, \"precision\": 0.0, \"recall\": 0.0}, {\"count\": 1, \"cutoff\": 2, \"userId\": 51639, \"precision\": 0.0, \"recall\": 0.0}, {\"count\": 1, \"cutoff\": 3, \"userId\": 51639, \"precision\": 0.0, \"recall\": 0.0}, {\"count\": 1, \"cutoff\": 4, \"userId\": 51639, \"precision\": 0.0, \"recall\": 0.0}, {\"count\": 1, \"cutoff\": 5, \"userId\": 51639, \"precision\": 0.0, \"recall\": 0.0}, {\"count\": 1, \"cutoff\": 6, \"userId\": 51639, \"precision\": 0.0, \"recall\": 0.0}, {\"count\": 1, \"cutoff\": 7, \"userId\": 51639, \"precision\": 0.0, \"recall\": 0.0}, {\"count\": 1, \"cutoff\": 8, \"userId\": 51639, \"precision\": 0.0, \"recall\": 0.0}, {\"count\": 1, \"cutoff\": 9, \"userId\": 51639, \"precision\": 0.0, \"recall\": 0.0}, {\"count\": 1, \"cutoff\": 10, \"userId\": 51639, \"precision\": 0.0, \"recall\": 0.0}, {\"count\": 1, \"cutoff\": 11, \"userId\": 51639, \"precision\": 0.0, \"recall\": 0.0}, {\"count\": 1, \"cutoff\": 16, \"userId\": 51639, \"precision\": 0.0, \"recall\": 0.0}, {\"count\": 1, \"cutoff\": 21, \"userId\": 51639, \"precision\": 0.0, \"recall\": 0.0}, {\"count\": 1, \"cutoff\": 26, \"userId\": 51639, \"precision\": 0.0, \"recall\": 0.0}, {\"count\": 1, \"cutoff\": 31, \"userId\": 51639, \"precision\": 0.0, \"recall\": 0.0}, {\"count\": 1, \"cutoff\": 36, \"userId\": 51639, \"precision\": 0.0, \"recall\": 0.0}, {\"count\": 1, \"cutoff\": 41, \"userId\": 51639, \"precision\": 0.0, \"recall\": 0.0}, {\"count\": 1, \"cutoff\": 46, \"userId\": 51639, \"precision\": 0.0, \"recall\": 0.0}, {\"count\": 30, \"cutoff\": 1, \"userId\": 55704, \"precision\": 0.0, \"recall\": 0.0}, {\"count\": 30, \"cutoff\": 2, \"userId\": 55704, \"precision\": 0.0, \"recall\": 0.0}, {\"count\": 30, \"cutoff\": 3, \"userId\": 55704, \"precision\": 0.0, \"recall\": 0.0}, {\"count\": 30, \"cutoff\": 4, \"userId\": 55704, \"precision\": 0.0, \"recall\": 0.0}, {\"count\": 30, \"cutoff\": 5, \"userId\": 55704, \"precision\": 0.0, \"recall\": 0.0}, {\"count\": 30, \"cutoff\": 6, \"userId\": 55704, \"precision\": 0.0, \"recall\": 0.0}, {\"count\": 30, \"cutoff\": 7, \"userId\": 55704, \"precision\": 0.0, \"recall\": 0.0}, {\"count\": 30, \"cutoff\": 8, \"userId\": 55704, \"precision\": 0.0, \"recall\": 0.0}, {\"count\": 30, \"cutoff\": 9, \"userId\": 55704, \"precision\": 0.0, \"recall\": 0.0}, {\"count\": 30, \"cutoff\": 10, \"userId\": 55704, \"precision\": 0.0, \"recall\": 0.0}, {\"count\": 30, \"cutoff\": 11, \"userId\": 55704, \"precision\": 0.0, \"recall\": 0.0}, {\"count\": 30, \"cutoff\": 16, \"userId\": 55704, \"precision\": 0.0, \"recall\": 0.0}, {\"count\": 30, \"cutoff\": 21, \"userId\": 55704, \"precision\": 0.047619047619047616, \"recall\": 0.03333333333333333}, {\"count\": 30, \"cutoff\": 26, \"userId\": 55704, \"precision\": 0.038461538461538464, \"recall\": 0.03333333333333333}, {\"count\": 30, \"cutoff\": 31, \"userId\": 55704, \"precision\": 0.03225806451612903, \"recall\": 0.03333333333333333}, {\"count\": 30, \"cutoff\": 36, \"userId\": 55704, \"precision\": 0.027777777777777776, \"recall\": 0.03333333333333333}, {\"count\": 30, \"cutoff\": 41, \"userId\": 55704, \"precision\": 0.024390243902439025, \"recall\": 0.03333333333333333}, {\"count\": 30, \"cutoff\": 46, \"userId\": 55704, \"precision\": 0.021739130434782608, \"recall\": 0.03333333333333333}, {\"count\": 2, \"cutoff\": 1, \"userId\": 57387, \"precision\": 0.0, \"recall\": 0.0}, {\"count\": 2, \"cutoff\": 2, \"userId\": 57387, \"precision\": 0.0, \"recall\": 0.0}, {\"count\": 2, \"cutoff\": 3, \"userId\": 57387, \"precision\": 0.0, \"recall\": 0.0}, {\"count\": 2, \"cutoff\": 4, \"userId\": 57387, \"precision\": 0.0, \"recall\": 0.0}, {\"count\": 2, \"cutoff\": 5, \"userId\": 57387, \"precision\": 0.0, \"recall\": 0.0}, {\"count\": 2, \"cutoff\": 6, \"userId\": 57387, \"precision\": 0.0, \"recall\": 0.0}, {\"count\": 2, \"cutoff\": 7, \"userId\": 57387, \"precision\": 0.0, \"recall\": 0.0}, {\"count\": 2, \"cutoff\": 8, \"userId\": 57387, \"precision\": 0.0, \"recall\": 0.0}, {\"count\": 2, \"cutoff\": 9, \"userId\": 57387, \"precision\": 0.0, \"recall\": 0.0}, {\"count\": 2, \"cutoff\": 10, \"userId\": 57387, \"precision\": 0.0, \"recall\": 0.0}, {\"count\": 2, \"cutoff\": 11, \"userId\": 57387, \"precision\": 0.0, \"recall\": 0.0}, {\"count\": 2, \"cutoff\": 16, \"userId\": 57387, \"precision\": 0.0, \"recall\": 0.0}, {\"count\": 2, \"cutoff\": 21, \"userId\": 57387, \"precision\": 0.0, \"recall\": 0.0}, {\"count\": 2, \"cutoff\": 26, \"userId\": 57387, \"precision\": 0.0, \"recall\": 0.0}, {\"count\": 2, \"cutoff\": 31, \"userId\": 57387, \"precision\": 0.0, \"recall\": 0.0}, {\"count\": 2, \"cutoff\": 36, \"userId\": 57387, \"precision\": 0.0, \"recall\": 0.0}, {\"count\": 2, \"cutoff\": 41, \"userId\": 57387, \"precision\": 0.0, \"recall\": 0.0}, {\"count\": 2, \"cutoff\": 46, \"userId\": 57387, \"precision\": 0.0, \"recall\": 0.0}, {\"count\": 22, \"cutoff\": 1, \"userId\": 57499, \"precision\": 0.0, \"recall\": 0.0}, {\"count\": 22, \"cutoff\": 2, \"userId\": 57499, \"precision\": 0.0, \"recall\": 0.0}, {\"count\": 22, \"cutoff\": 3, \"userId\": 57499, \"precision\": 0.0, \"recall\": 0.0}, {\"count\": 22, \"cutoff\": 4, \"userId\": 57499, \"precision\": 0.0, \"recall\": 0.0}, {\"count\": 22, \"cutoff\": 5, \"userId\": 57499, \"precision\": 0.0, \"recall\": 0.0}, {\"count\": 22, \"cutoff\": 6, \"userId\": 57499, \"precision\": 0.0, \"recall\": 0.0}, {\"count\": 22, \"cutoff\": 7, \"userId\": 57499, \"precision\": 0.0, \"recall\": 0.0}, {\"count\": 22, \"cutoff\": 8, \"userId\": 57499, \"precision\": 0.0, \"recall\": 0.0}, {\"count\": 22, \"cutoff\": 9, \"userId\": 57499, \"precision\": 0.0, \"recall\": 0.0}, {\"count\": 22, \"cutoff\": 10, \"userId\": 57499, \"precision\": 0.0, \"recall\": 0.0}, {\"count\": 22, \"cutoff\": 11, \"userId\": 57499, \"precision\": 0.0, \"recall\": 0.0}, {\"count\": 22, \"cutoff\": 16, \"userId\": 57499, \"precision\": 0.0, \"recall\": 0.0}, {\"count\": 22, \"cutoff\": 21, \"userId\": 57499, \"precision\": 0.0, \"recall\": 0.0}, {\"count\": 22, \"cutoff\": 26, \"userId\": 57499, \"precision\": 0.0, \"recall\": 0.0}, {\"count\": 22, \"cutoff\": 31, \"userId\": 57499, \"precision\": 0.0, \"recall\": 0.0}, {\"count\": 22, \"cutoff\": 36, \"userId\": 57499, \"precision\": 0.0, \"recall\": 0.0}, {\"count\": 22, \"cutoff\": 41, \"userId\": 57499, \"precision\": 0.0, \"recall\": 0.0}, {\"count\": 22, \"cutoff\": 46, \"userId\": 57499, \"precision\": 0.0, \"recall\": 0.0}, {\"count\": 12, \"cutoff\": 1, \"userId\": 57763, \"precision\": 0.0, \"recall\": 0.0}, {\"count\": 12, \"cutoff\": 2, \"userId\": 57763, \"precision\": 0.0, \"recall\": 0.0}, {\"count\": 12, \"cutoff\": 3, \"userId\": 57763, \"precision\": 0.0, \"recall\": 0.0}, {\"count\": 12, \"cutoff\": 4, \"userId\": 57763, \"precision\": 0.0, \"recall\": 0.0}, {\"count\": 12, \"cutoff\": 5, \"userId\": 57763, \"precision\": 0.0, \"recall\": 0.0}, {\"count\": 12, \"cutoff\": 6, \"userId\": 57763, \"precision\": 0.0, \"recall\": 0.0}, {\"count\": 12, \"cutoff\": 7, \"userId\": 57763, \"precision\": 0.0, \"recall\": 0.0}, {\"count\": 12, \"cutoff\": 8, \"userId\": 57763, \"precision\": 0.0, \"recall\": 0.0}, {\"count\": 12, \"cutoff\": 9, \"userId\": 57763, \"precision\": 0.0, \"recall\": 0.0}, {\"count\": 12, \"cutoff\": 10, \"userId\": 57763, \"precision\": 0.0, \"recall\": 0.0}, {\"count\": 12, \"cutoff\": 11, \"userId\": 57763, \"precision\": 0.0, \"recall\": 0.0}, {\"count\": 12, \"cutoff\": 16, \"userId\": 57763, \"precision\": 0.0, \"recall\": 0.0}, {\"count\": 12, \"cutoff\": 21, \"userId\": 57763, \"precision\": 0.0, \"recall\": 0.0}, {\"count\": 12, \"cutoff\": 26, \"userId\": 57763, \"precision\": 0.0, \"recall\": 0.0}, {\"count\": 12, \"cutoff\": 31, \"userId\": 57763, \"precision\": 0.0, \"recall\": 0.0}, {\"count\": 12, \"cutoff\": 36, \"userId\": 57763, \"precision\": 0.0, \"recall\": 0.0}, {\"count\": 12, \"cutoff\": 41, \"userId\": 57763, \"precision\": 0.0, \"recall\": 0.0}, {\"count\": 12, \"cutoff\": 46, \"userId\": 57763, \"precision\": 0.0, \"recall\": 0.0}, {\"count\": 2, \"cutoff\": 1, \"userId\": 58397, \"precision\": 0.0, \"recall\": 0.0}, {\"count\": 2, \"cutoff\": 2, \"userId\": 58397, \"precision\": 0.0, \"recall\": 0.0}, {\"count\": 2, \"cutoff\": 3, \"userId\": 58397, \"precision\": 0.0, \"recall\": 0.0}, {\"count\": 2, \"cutoff\": 4, \"userId\": 58397, \"precision\": 0.0, \"recall\": 0.0}, {\"count\": 2, \"cutoff\": 5, \"userId\": 58397, \"precision\": 0.0, \"recall\": 0.0}, {\"count\": 2, \"cutoff\": 6, \"userId\": 58397, \"precision\": 0.0, \"recall\": 0.0}, {\"count\": 2, \"cutoff\": 7, \"userId\": 58397, \"precision\": 0.0, \"recall\": 0.0}, {\"count\": 2, \"cutoff\": 8, \"userId\": 58397, \"precision\": 0.0, \"recall\": 0.0}, {\"count\": 2, \"cutoff\": 9, \"userId\": 58397, \"precision\": 0.0, \"recall\": 0.0}, {\"count\": 2, \"cutoff\": 10, \"userId\": 58397, \"precision\": 0.0, \"recall\": 0.0}, {\"count\": 2, \"cutoff\": 11, \"userId\": 58397, \"precision\": 0.0, \"recall\": 0.0}, {\"count\": 2, \"cutoff\": 16, \"userId\": 58397, \"precision\": 0.0, \"recall\": 0.0}, {\"count\": 2, \"cutoff\": 21, \"userId\": 58397, \"precision\": 0.0, \"recall\": 0.0}, {\"count\": 2, \"cutoff\": 26, \"userId\": 58397, \"precision\": 0.0, \"recall\": 0.0}, {\"count\": 2, \"cutoff\": 31, \"userId\": 58397, \"precision\": 0.0, \"recall\": 0.0}, {\"count\": 2, \"cutoff\": 36, \"userId\": 58397, \"precision\": 0.0, \"recall\": 0.0}, {\"count\": 2, \"cutoff\": 41, \"userId\": 58397, \"precision\": 0.0, \"recall\": 0.0}, {\"count\": 2, \"cutoff\": 46, \"userId\": 58397, \"precision\": 0.0, \"recall\": 0.0}, {\"count\": 6, \"cutoff\": 1, \"userId\": 61152, \"precision\": 0.0, \"recall\": 0.0}, {\"count\": 6, \"cutoff\": 2, \"userId\": 61152, \"precision\": 0.0, \"recall\": 0.0}, {\"count\": 6, \"cutoff\": 3, \"userId\": 61152, \"precision\": 0.0, \"recall\": 0.0}, {\"count\": 6, \"cutoff\": 4, \"userId\": 61152, \"precision\": 0.0, \"recall\": 0.0}, {\"count\": 6, \"cutoff\": 5, \"userId\": 61152, \"precision\": 0.0, \"recall\": 0.0}, {\"count\": 6, \"cutoff\": 6, \"userId\": 61152, \"precision\": 0.0, \"recall\": 0.0}, {\"count\": 6, \"cutoff\": 7, \"userId\": 61152, \"precision\": 0.0, \"recall\": 0.0}, {\"count\": 6, \"cutoff\": 8, \"userId\": 61152, \"precision\": 0.0, \"recall\": 0.0}, {\"count\": 6, \"cutoff\": 9, \"userId\": 61152, \"precision\": 0.0, \"recall\": 0.0}, {\"count\": 6, \"cutoff\": 10, \"userId\": 61152, \"precision\": 0.0, \"recall\": 0.0}, {\"count\": 6, \"cutoff\": 11, \"userId\": 61152, \"precision\": 0.0, \"recall\": 0.0}, {\"count\": 6, \"cutoff\": 16, \"userId\": 61152, \"precision\": 0.0, \"recall\": 0.0}, {\"count\": 6, \"cutoff\": 21, \"userId\": 61152, \"precision\": 0.0, \"recall\": 0.0}, {\"count\": 6, \"cutoff\": 26, \"userId\": 61152, \"precision\": 0.0, \"recall\": 0.0}, {\"count\": 6, \"cutoff\": 31, \"userId\": 61152, \"precision\": 0.0, \"recall\": 0.0}, {\"count\": 6, \"cutoff\": 36, \"userId\": 61152, \"precision\": 0.027777777777777776, \"recall\": 0.16666666666666666}, {\"count\": 6, \"cutoff\": 41, \"userId\": 61152, \"precision\": 0.024390243902439025, \"recall\": 0.16666666666666666}, {\"count\": 6, \"cutoff\": 46, \"userId\": 61152, \"precision\": 0.021739130434782608, \"recall\": 0.16666666666666666}, {\"count\": 1, \"cutoff\": 1, \"userId\": 61343, \"precision\": 0.0, \"recall\": 0.0}, {\"count\": 1, \"cutoff\": 2, \"userId\": 61343, \"precision\": 0.0, \"recall\": 0.0}, {\"count\": 1, \"cutoff\": 3, \"userId\": 61343, \"precision\": 0.0, \"recall\": 0.0}, {\"count\": 1, \"cutoff\": 4, \"userId\": 61343, \"precision\": 0.0, \"recall\": 0.0}, {\"count\": 1, \"cutoff\": 5, \"userId\": 61343, \"precision\": 0.0, \"recall\": 0.0}, {\"count\": 1, \"cutoff\": 6, \"userId\": 61343, \"precision\": 0.0, \"recall\": 0.0}, {\"count\": 1, \"cutoff\": 7, \"userId\": 61343, \"precision\": 0.0, \"recall\": 0.0}, {\"count\": 1, \"cutoff\": 8, \"userId\": 61343, \"precision\": 0.0, \"recall\": 0.0}, {\"count\": 1, \"cutoff\": 9, \"userId\": 61343, \"precision\": 0.0, \"recall\": 0.0}, {\"count\": 1, \"cutoff\": 10, \"userId\": 61343, \"precision\": 0.0, \"recall\": 0.0}, {\"count\": 1, \"cutoff\": 11, \"userId\": 61343, \"precision\": 0.0, \"recall\": 0.0}, {\"count\": 1, \"cutoff\": 16, \"userId\": 61343, \"precision\": 0.0, \"recall\": 0.0}, {\"count\": 1, \"cutoff\": 21, \"userId\": 61343, \"precision\": 0.0, \"recall\": 0.0}, {\"count\": 1, \"cutoff\": 26, \"userId\": 61343, \"precision\": 0.0, \"recall\": 0.0}, {\"count\": 1, \"cutoff\": 31, \"userId\": 61343, \"precision\": 0.0, \"recall\": 0.0}, {\"count\": 1, \"cutoff\": 36, \"userId\": 61343, \"precision\": 0.0, \"recall\": 0.0}, {\"count\": 1, \"cutoff\": 41, \"userId\": 61343, \"precision\": 0.0, \"recall\": 0.0}, {\"count\": 1, \"cutoff\": 46, \"userId\": 61343, \"precision\": 0.0, \"recall\": 0.0}, {\"count\": 2, \"cutoff\": 1, \"userId\": 63697, \"precision\": 0.0, \"recall\": 0.0}, {\"count\": 2, \"cutoff\": 2, \"userId\": 63697, \"precision\": 0.0, \"recall\": 0.0}, {\"count\": 2, \"cutoff\": 3, \"userId\": 63697, \"precision\": 0.0, \"recall\": 0.0}, {\"count\": 2, \"cutoff\": 4, \"userId\": 63697, \"precision\": 0.0, \"recall\": 0.0}, {\"count\": 2, \"cutoff\": 5, \"userId\": 63697, \"precision\": 0.0, \"recall\": 0.0}, {\"count\": 2, \"cutoff\": 6, \"userId\": 63697, \"precision\": 0.0, \"recall\": 0.0}, {\"count\": 2, \"cutoff\": 7, \"userId\": 63697, \"precision\": 0.0, \"recall\": 0.0}, {\"count\": 2, \"cutoff\": 8, \"userId\": 63697, \"precision\": 0.0, \"recall\": 0.0}, {\"count\": 2, \"cutoff\": 9, \"userId\": 63697, \"precision\": 0.0, \"recall\": 0.0}, {\"count\": 2, \"cutoff\": 10, \"userId\": 63697, \"precision\": 0.0, \"recall\": 0.0}, {\"count\": 2, \"cutoff\": 11, \"userId\": 63697, \"precision\": 0.0, \"recall\": 0.0}, {\"count\": 2, \"cutoff\": 16, \"userId\": 63697, \"precision\": 0.0, \"recall\": 0.0}, {\"count\": 2, \"cutoff\": 21, \"userId\": 63697, \"precision\": 0.0, \"recall\": 0.0}, {\"count\": 2, \"cutoff\": 26, \"userId\": 63697, \"precision\": 0.0, \"recall\": 0.0}, {\"count\": 2, \"cutoff\": 31, \"userId\": 63697, \"precision\": 0.0, \"recall\": 0.0}, {\"count\": 2, \"cutoff\": 36, \"userId\": 63697, \"precision\": 0.0, \"recall\": 0.0}, {\"count\": 2, \"cutoff\": 41, \"userId\": 63697, \"precision\": 0.0, \"recall\": 0.0}, {\"count\": 2, \"cutoff\": 46, \"userId\": 63697, \"precision\": 0.0, \"recall\": 0.0}, {\"count\": 12, \"cutoff\": 1, \"userId\": 64150, \"precision\": 0.0, \"recall\": 0.0}, {\"count\": 12, \"cutoff\": 2, \"userId\": 64150, \"precision\": 0.0, \"recall\": 0.0}, {\"count\": 12, \"cutoff\": 3, \"userId\": 64150, \"precision\": 0.0, \"recall\": 0.0}, {\"count\": 12, \"cutoff\": 4, \"userId\": 64150, \"precision\": 0.0, \"recall\": 0.0}, {\"count\": 12, \"cutoff\": 5, \"userId\": 64150, \"precision\": 0.0, \"recall\": 0.0}, {\"count\": 12, \"cutoff\": 6, \"userId\": 64150, \"precision\": 0.0, \"recall\": 0.0}, {\"count\": 12, \"cutoff\": 7, \"userId\": 64150, \"precision\": 0.0, \"recall\": 0.0}, {\"count\": 12, \"cutoff\": 8, \"userId\": 64150, \"precision\": 0.0, \"recall\": 0.0}, {\"count\": 12, \"cutoff\": 9, \"userId\": 64150, \"precision\": 0.0, \"recall\": 0.0}, {\"count\": 12, \"cutoff\": 10, \"userId\": 64150, \"precision\": 0.0, \"recall\": 0.0}, {\"count\": 12, \"cutoff\": 11, \"userId\": 64150, \"precision\": 0.0, \"recall\": 0.0}, {\"count\": 12, \"cutoff\": 16, \"userId\": 64150, \"precision\": 0.0, \"recall\": 0.0}, {\"count\": 12, \"cutoff\": 21, \"userId\": 64150, \"precision\": 0.0, \"recall\": 0.0}, {\"count\": 12, \"cutoff\": 26, \"userId\": 64150, \"precision\": 0.0, \"recall\": 0.0}, {\"count\": 12, \"cutoff\": 31, \"userId\": 64150, \"precision\": 0.0, \"recall\": 0.0}, {\"count\": 12, \"cutoff\": 36, \"userId\": 64150, \"precision\": 0.0, \"recall\": 0.0}, {\"count\": 12, \"cutoff\": 41, \"userId\": 64150, \"precision\": 0.0, \"recall\": 0.0}, {\"count\": 12, \"cutoff\": 46, \"userId\": 64150, \"precision\": 0.0, \"recall\": 0.0}, {\"count\": 1, \"cutoff\": 1, \"userId\": 70192, \"precision\": 0.0, \"recall\": 0.0}, {\"count\": 1, \"cutoff\": 2, \"userId\": 70192, \"precision\": 0.0, \"recall\": 0.0}, {\"count\": 1, \"cutoff\": 3, \"userId\": 70192, \"precision\": 0.0, \"recall\": 0.0}, {\"count\": 1, \"cutoff\": 4, \"userId\": 70192, \"precision\": 0.0, \"recall\": 0.0}, {\"count\": 1, \"cutoff\": 5, \"userId\": 70192, \"precision\": 0.0, \"recall\": 0.0}, {\"count\": 1, \"cutoff\": 6, \"userId\": 70192, \"precision\": 0.0, \"recall\": 0.0}, {\"count\": 1, \"cutoff\": 7, \"userId\": 70192, \"precision\": 0.0, \"recall\": 0.0}, {\"count\": 1, \"cutoff\": 8, \"userId\": 70192, \"precision\": 0.0, \"recall\": 0.0}, {\"count\": 1, \"cutoff\": 9, \"userId\": 70192, \"precision\": 0.0, \"recall\": 0.0}, {\"count\": 1, \"cutoff\": 10, \"userId\": 70192, \"precision\": 0.0, \"recall\": 0.0}, {\"count\": 1, \"cutoff\": 11, \"userId\": 70192, \"precision\": 0.0, \"recall\": 0.0}, {\"count\": 1, \"cutoff\": 16, \"userId\": 70192, \"precision\": 0.0, \"recall\": 0.0}, {\"count\": 1, \"cutoff\": 21, \"userId\": 70192, \"precision\": 0.0, \"recall\": 0.0}, {\"count\": 1, \"cutoff\": 26, \"userId\": 70192, \"precision\": 0.0, \"recall\": 0.0}, {\"count\": 1, \"cutoff\": 31, \"userId\": 70192, \"precision\": 0.0, \"recall\": 0.0}, {\"count\": 1, \"cutoff\": 36, \"userId\": 70192, \"precision\": 0.0, \"recall\": 0.0}, {\"count\": 1, \"cutoff\": 41, \"userId\": 70192, \"precision\": 0.0, \"recall\": 0.0}, {\"count\": 1, \"cutoff\": 46, \"userId\": 70192, \"precision\": 0.0, \"recall\": 0.0}, {\"count\": 5, \"cutoff\": 1, \"userId\": 70706, \"precision\": 0.0, \"recall\": 0.0}, {\"count\": 5, \"cutoff\": 2, \"userId\": 70706, \"precision\": 0.0, \"recall\": 0.0}, {\"count\": 5, \"cutoff\": 3, \"userId\": 70706, \"precision\": 0.0, \"recall\": 0.0}, {\"count\": 5, \"cutoff\": 4, \"userId\": 70706, \"precision\": 0.0, \"recall\": 0.0}, {\"count\": 5, \"cutoff\": 5, \"userId\": 70706, \"precision\": 0.0, \"recall\": 0.0}, {\"count\": 5, \"cutoff\": 6, \"userId\": 70706, \"precision\": 0.0, \"recall\": 0.0}, {\"count\": 5, \"cutoff\": 7, \"userId\": 70706, \"precision\": 0.0, \"recall\": 0.0}, {\"count\": 5, \"cutoff\": 8, \"userId\": 70706, \"precision\": 0.0, \"recall\": 0.0}, {\"count\": 5, \"cutoff\": 9, \"userId\": 70706, \"precision\": 0.0, \"recall\": 0.0}, {\"count\": 5, \"cutoff\": 10, \"userId\": 70706, \"precision\": 0.0, \"recall\": 0.0}, {\"count\": 5, \"cutoff\": 11, \"userId\": 70706, \"precision\": 0.0, \"recall\": 0.0}, {\"count\": 5, \"cutoff\": 16, \"userId\": 70706, \"precision\": 0.0, \"recall\": 0.0}, {\"count\": 5, \"cutoff\": 21, \"userId\": 70706, \"precision\": 0.0, \"recall\": 0.0}, {\"count\": 5, \"cutoff\": 26, \"userId\": 70706, \"precision\": 0.0, \"recall\": 0.0}, {\"count\": 5, \"cutoff\": 31, \"userId\": 70706, \"precision\": 0.0, \"recall\": 0.0}, {\"count\": 5, \"cutoff\": 36, \"userId\": 70706, \"precision\": 0.0, \"recall\": 0.0}, {\"count\": 5, \"cutoff\": 41, \"userId\": 70706, \"precision\": 0.0, \"recall\": 0.0}, {\"count\": 5, \"cutoff\": 46, \"userId\": 70706, \"precision\": 0.0, \"recall\": 0.0}, {\"count\": 10, \"cutoff\": 1, \"userId\": 71115, \"precision\": 0.0, \"recall\": 0.0}, {\"count\": 10, \"cutoff\": 2, \"userId\": 71115, \"precision\": 0.0, \"recall\": 0.0}, {\"count\": 10, \"cutoff\": 3, \"userId\": 71115, \"precision\": 0.0, \"recall\": 0.0}, {\"count\": 10, \"cutoff\": 4, \"userId\": 71115, \"precision\": 0.0, \"recall\": 0.0}, {\"count\": 10, \"cutoff\": 5, \"userId\": 71115, \"precision\": 0.0, \"recall\": 0.0}, {\"count\": 10, \"cutoff\": 6, \"userId\": 71115, \"precision\": 0.0, \"recall\": 0.0}, {\"count\": 10, \"cutoff\": 7, \"userId\": 71115, \"precision\": 0.0, \"recall\": 0.0}, {\"count\": 10, \"cutoff\": 8, \"userId\": 71115, \"precision\": 0.0, \"recall\": 0.0}, {\"count\": 10, \"cutoff\": 9, \"userId\": 71115, \"precision\": 0.0, \"recall\": 0.0}, {\"count\": 10, \"cutoff\": 10, \"userId\": 71115, \"precision\": 0.0, \"recall\": 0.0}, {\"count\": 10, \"cutoff\": 11, \"userId\": 71115, \"precision\": 0.0, \"recall\": 0.0}, {\"count\": 10, \"cutoff\": 16, \"userId\": 71115, \"precision\": 0.0, \"recall\": 0.0}, {\"count\": 10, \"cutoff\": 21, \"userId\": 71115, \"precision\": 0.0, \"recall\": 0.0}, {\"count\": 10, \"cutoff\": 26, \"userId\": 71115, \"precision\": 0.0, \"recall\": 0.0}, {\"count\": 10, \"cutoff\": 31, \"userId\": 71115, \"precision\": 0.0, \"recall\": 0.0}, {\"count\": 10, \"cutoff\": 36, \"userId\": 71115, \"precision\": 0.0, \"recall\": 0.0}, {\"count\": 10, \"cutoff\": 41, \"userId\": 71115, \"precision\": 0.0, \"recall\": 0.0}, {\"count\": 10, \"cutoff\": 46, \"userId\": 71115, \"precision\": 0.0, \"recall\": 0.0}, {\"count\": 6, \"cutoff\": 1, \"userId\": 75145, \"precision\": 0.0, \"recall\": 0.0}, {\"count\": 6, \"cutoff\": 2, \"userId\": 75145, \"precision\": 0.0, \"recall\": 0.0}, {\"count\": 6, \"cutoff\": 3, \"userId\": 75145, \"precision\": 0.0, \"recall\": 0.0}, {\"count\": 6, \"cutoff\": 4, \"userId\": 75145, \"precision\": 0.0, \"recall\": 0.0}, {\"count\": 6, \"cutoff\": 5, \"userId\": 75145, \"precision\": 0.0, \"recall\": 0.0}, {\"count\": 6, \"cutoff\": 6, \"userId\": 75145, \"precision\": 0.0, \"recall\": 0.0}, {\"count\": 6, \"cutoff\": 7, \"userId\": 75145, \"precision\": 0.0, \"recall\": 0.0}, {\"count\": 6, \"cutoff\": 8, \"userId\": 75145, \"precision\": 0.0, \"recall\": 0.0}, {\"count\": 6, \"cutoff\": 9, \"userId\": 75145, \"precision\": 0.0, \"recall\": 0.0}, {\"count\": 6, \"cutoff\": 10, \"userId\": 75145, \"precision\": 0.0, \"recall\": 0.0}, {\"count\": 6, \"cutoff\": 11, \"userId\": 75145, \"precision\": 0.0, \"recall\": 0.0}, {\"count\": 6, \"cutoff\": 16, \"userId\": 75145, \"precision\": 0.0, \"recall\": 0.0}, {\"count\": 6, \"cutoff\": 21, \"userId\": 75145, \"precision\": 0.0, \"recall\": 0.0}, {\"count\": 6, \"cutoff\": 26, \"userId\": 75145, \"precision\": 0.0, \"recall\": 0.0}, {\"count\": 6, \"cutoff\": 31, \"userId\": 75145, \"precision\": 0.0, \"recall\": 0.0}, {\"count\": 6, \"cutoff\": 36, \"userId\": 75145, \"precision\": 0.0, \"recall\": 0.0}, {\"count\": 6, \"cutoff\": 41, \"userId\": 75145, \"precision\": 0.0, \"recall\": 0.0}, {\"count\": 6, \"cutoff\": 46, \"userId\": 75145, \"precision\": 0.0, \"recall\": 0.0}, {\"count\": 69, \"cutoff\": 1, \"userId\": 78917, \"precision\": 0.0, \"recall\": 0.0}, {\"count\": 69, \"cutoff\": 2, \"userId\": 78917, \"precision\": 0.0, \"recall\": 0.0}, {\"count\": 69, \"cutoff\": 3, \"userId\": 78917, \"precision\": 0.0, \"recall\": 0.0}, {\"count\": 69, \"cutoff\": 4, \"userId\": 78917, \"precision\": 0.0, \"recall\": 0.0}, {\"count\": 69, \"cutoff\": 5, \"userId\": 78917, \"precision\": 0.0, \"recall\": 0.0}, {\"count\": 69, \"cutoff\": 6, \"userId\": 78917, \"precision\": 0.0, \"recall\": 0.0}, {\"count\": 69, \"cutoff\": 7, \"userId\": 78917, \"precision\": 0.0, \"recall\": 0.0}, {\"count\": 69, \"cutoff\": 8, \"userId\": 78917, \"precision\": 0.0, \"recall\": 0.0}, {\"count\": 69, \"cutoff\": 9, \"userId\": 78917, \"precision\": 0.0, \"recall\": 0.0}, {\"count\": 69, \"cutoff\": 10, \"userId\": 78917, \"precision\": 0.0, \"recall\": 0.0}, {\"count\": 69, \"cutoff\": 11, \"userId\": 78917, \"precision\": 0.0, \"recall\": 0.0}, {\"count\": 69, \"cutoff\": 16, \"userId\": 78917, \"precision\": 0.0, \"recall\": 0.0}, {\"count\": 69, \"cutoff\": 21, \"userId\": 78917, \"precision\": 0.0, \"recall\": 0.0}, {\"count\": 69, \"cutoff\": 26, \"userId\": 78917, \"precision\": 0.0, \"recall\": 0.0}, {\"count\": 69, \"cutoff\": 31, \"userId\": 78917, \"precision\": 0.0, \"recall\": 0.0}, {\"count\": 69, \"cutoff\": 36, \"userId\": 78917, \"precision\": 0.0, \"recall\": 0.0}, {\"count\": 69, \"cutoff\": 41, \"userId\": 78917, \"precision\": 0.0, \"recall\": 0.0}, {\"count\": 69, \"cutoff\": 46, \"userId\": 78917, \"precision\": 0.0, \"recall\": 0.0}, {\"count\": 1, \"cutoff\": 1, \"userId\": 80070, \"precision\": 0.0, \"recall\": 0.0}, {\"count\": 1, \"cutoff\": 2, \"userId\": 80070, \"precision\": 0.0, \"recall\": 0.0}, {\"count\": 1, \"cutoff\": 3, \"userId\": 80070, \"precision\": 0.0, \"recall\": 0.0}, {\"count\": 1, \"cutoff\": 4, \"userId\": 80070, \"precision\": 0.0, \"recall\": 0.0}, {\"count\": 1, \"cutoff\": 5, \"userId\": 80070, \"precision\": 0.0, \"recall\": 0.0}, {\"count\": 1, \"cutoff\": 6, \"userId\": 80070, \"precision\": 0.0, \"recall\": 0.0}, {\"count\": 1, \"cutoff\": 7, \"userId\": 80070, \"precision\": 0.0, \"recall\": 0.0}, {\"count\": 1, \"cutoff\": 8, \"userId\": 80070, \"precision\": 0.0, \"recall\": 0.0}, {\"count\": 1, \"cutoff\": 9, \"userId\": 80070, \"precision\": 0.0, \"recall\": 0.0}, {\"count\": 1, \"cutoff\": 10, \"userId\": 80070, \"precision\": 0.0, \"recall\": 0.0}, {\"count\": 1, \"cutoff\": 11, \"userId\": 80070, \"precision\": 0.0, \"recall\": 0.0}, {\"count\": 1, \"cutoff\": 16, \"userId\": 80070, \"precision\": 0.0, \"recall\": 0.0}, {\"count\": 1, \"cutoff\": 21, \"userId\": 80070, \"precision\": 0.0, \"recall\": 0.0}, {\"count\": 1, \"cutoff\": 26, \"userId\": 80070, \"precision\": 0.0, \"recall\": 0.0}, {\"count\": 1, \"cutoff\": 31, \"userId\": 80070, \"precision\": 0.0, \"recall\": 0.0}, {\"count\": 1, \"cutoff\": 36, \"userId\": 80070, \"precision\": 0.0, \"recall\": 0.0}, {\"count\": 1, \"cutoff\": 41, \"userId\": 80070, \"precision\": 0.0, \"recall\": 0.0}, {\"count\": 1, \"cutoff\": 46, \"userId\": 80070, \"precision\": 0.0, \"recall\": 0.0}, {\"count\": 1, \"cutoff\": 1, \"userId\": 80920, \"precision\": 0.0, \"recall\": 0.0}, {\"count\": 1, \"cutoff\": 2, \"userId\": 80920, \"precision\": 0.0, \"recall\": 0.0}, {\"count\": 1, \"cutoff\": 3, \"userId\": 80920, \"precision\": 0.0, \"recall\": 0.0}, {\"count\": 1, \"cutoff\": 4, \"userId\": 80920, \"precision\": 0.0, \"recall\": 0.0}, {\"count\": 1, \"cutoff\": 5, \"userId\": 80920, \"precision\": 0.0, \"recall\": 0.0}, {\"count\": 1, \"cutoff\": 6, \"userId\": 80920, \"precision\": 0.0, \"recall\": 0.0}, {\"count\": 1, \"cutoff\": 7, \"userId\": 80920, \"precision\": 0.0, \"recall\": 0.0}, {\"count\": 1, \"cutoff\": 8, \"userId\": 80920, \"precision\": 0.0, \"recall\": 0.0}, {\"count\": 1, \"cutoff\": 9, \"userId\": 80920, \"precision\": 0.0, \"recall\": 0.0}, {\"count\": 1, \"cutoff\": 10, \"userId\": 80920, \"precision\": 0.0, \"recall\": 0.0}, {\"count\": 1, \"cutoff\": 11, \"userId\": 80920, \"precision\": 0.0, \"recall\": 0.0}, {\"count\": 1, \"cutoff\": 16, \"userId\": 80920, \"precision\": 0.0, \"recall\": 0.0}, {\"count\": 1, \"cutoff\": 21, \"userId\": 80920, \"precision\": 0.0, \"recall\": 0.0}, {\"count\": 1, \"cutoff\": 26, \"userId\": 80920, \"precision\": 0.0, \"recall\": 0.0}, {\"count\": 1, \"cutoff\": 31, \"userId\": 80920, \"precision\": 0.0, \"recall\": 0.0}, {\"count\": 1, \"cutoff\": 36, \"userId\": 80920, \"precision\": 0.0, \"recall\": 0.0}, {\"count\": 1, \"cutoff\": 41, \"userId\": 80920, \"precision\": 0.0, \"recall\": 0.0}, {\"count\": 1, \"cutoff\": 46, \"userId\": 80920, \"precision\": 0.0, \"recall\": 0.0}, {\"count\": 13, \"cutoff\": 1, \"userId\": 84430, \"precision\": 0.0, \"recall\": 0.0}, {\"count\": 13, \"cutoff\": 2, \"userId\": 84430, \"precision\": 0.0, \"recall\": 0.0}, {\"count\": 13, \"cutoff\": 3, \"userId\": 84430, \"precision\": 0.0, \"recall\": 0.0}, {\"count\": 13, \"cutoff\": 4, \"userId\": 84430, \"precision\": 0.0, \"recall\": 0.0}, {\"count\": 13, \"cutoff\": 5, \"userId\": 84430, \"precision\": 0.0, \"recall\": 0.0}, {\"count\": 13, \"cutoff\": 6, \"userId\": 84430, \"precision\": 0.0, \"recall\": 0.0}, {\"count\": 13, \"cutoff\": 7, \"userId\": 84430, \"precision\": 0.0, \"recall\": 0.0}, {\"count\": 13, \"cutoff\": 8, \"userId\": 84430, \"precision\": 0.0, \"recall\": 0.0}, {\"count\": 13, \"cutoff\": 9, \"userId\": 84430, \"precision\": 0.0, \"recall\": 0.0}, {\"count\": 13, \"cutoff\": 10, \"userId\": 84430, \"precision\": 0.0, \"recall\": 0.0}, {\"count\": 13, \"cutoff\": 11, \"userId\": 84430, \"precision\": 0.0, \"recall\": 0.0}, {\"count\": 13, \"cutoff\": 16, \"userId\": 84430, \"precision\": 0.0, \"recall\": 0.0}, {\"count\": 13, \"cutoff\": 21, \"userId\": 84430, \"precision\": 0.0, \"recall\": 0.0}, {\"count\": 13, \"cutoff\": 26, \"userId\": 84430, \"precision\": 0.0, \"recall\": 0.0}, {\"count\": 13, \"cutoff\": 31, \"userId\": 84430, \"precision\": 0.0, \"recall\": 0.0}, {\"count\": 13, \"cutoff\": 36, \"userId\": 84430, \"precision\": 0.0, \"recall\": 0.0}, {\"count\": 13, \"cutoff\": 41, \"userId\": 84430, \"precision\": 0.0, \"recall\": 0.0}, {\"count\": 13, \"cutoff\": 46, \"userId\": 84430, \"precision\": 0.0, \"recall\": 0.0}, {\"count\": 160, \"cutoff\": 1, \"userId\": 86768, \"precision\": 0.0, \"recall\": 0.0}, {\"count\": 160, \"cutoff\": 2, \"userId\": 86768, \"precision\": 0.0, \"recall\": 0.0}, {\"count\": 160, \"cutoff\": 3, \"userId\": 86768, \"precision\": 0.0, \"recall\": 0.0}, {\"count\": 160, \"cutoff\": 4, \"userId\": 86768, \"precision\": 0.25, \"recall\": 0.00625}, {\"count\": 160, \"cutoff\": 5, \"userId\": 86768, \"precision\": 0.2, \"recall\": 0.00625}, {\"count\": 160, \"cutoff\": 6, \"userId\": 86768, \"precision\": 0.16666666666666666, \"recall\": 0.00625}, {\"count\": 160, \"cutoff\": 7, \"userId\": 86768, \"precision\": 0.14285714285714285, \"recall\": 0.00625}, {\"count\": 160, \"cutoff\": 8, \"userId\": 86768, \"precision\": 0.125, \"recall\": 0.00625}, {\"count\": 160, \"cutoff\": 9, \"userId\": 86768, \"precision\": 0.1111111111111111, \"recall\": 0.00625}, {\"count\": 160, \"cutoff\": 10, \"userId\": 86768, \"precision\": 0.1, \"recall\": 0.00625}, {\"count\": 160, \"cutoff\": 11, \"userId\": 86768, \"precision\": 0.09090909090909091, \"recall\": 0.00625}, {\"count\": 160, \"cutoff\": 16, \"userId\": 86768, \"precision\": 0.0625, \"recall\": 0.00625}, {\"count\": 160, \"cutoff\": 21, \"userId\": 86768, \"precision\": 0.047619047619047616, \"recall\": 0.00625}, {\"count\": 160, \"cutoff\": 26, \"userId\": 86768, \"precision\": 0.11538461538461539, \"recall\": 0.01875}, {\"count\": 160, \"cutoff\": 31, \"userId\": 86768, \"precision\": 0.0967741935483871, \"recall\": 0.01875}, {\"count\": 160, \"cutoff\": 36, \"userId\": 86768, \"precision\": 0.08333333333333333, \"recall\": 0.01875}, {\"count\": 160, \"cutoff\": 41, \"userId\": 86768, \"precision\": 0.07317073170731707, \"recall\": 0.01875}, {\"count\": 160, \"cutoff\": 46, \"userId\": 86768, \"precision\": 0.06521739130434782, \"recall\": 0.01875}, {\"count\": 3, \"cutoff\": 1, \"userId\": 89115, \"precision\": 0.0, \"recall\": 0.0}, {\"count\": 3, \"cutoff\": 2, \"userId\": 89115, \"precision\": 0.0, \"recall\": 0.0}, {\"count\": 3, \"cutoff\": 3, \"userId\": 89115, \"precision\": 0.0, \"recall\": 0.0}, {\"count\": 3, \"cutoff\": 4, \"userId\": 89115, \"precision\": 0.0, \"recall\": 0.0}, {\"count\": 3, \"cutoff\": 5, \"userId\": 89115, \"precision\": 0.0, \"recall\": 0.0}, {\"count\": 3, \"cutoff\": 6, \"userId\": 89115, \"precision\": 0.0, \"recall\": 0.0}, {\"count\": 3, \"cutoff\": 7, \"userId\": 89115, \"precision\": 0.0, \"recall\": 0.0}, {\"count\": 3, \"cutoff\": 8, \"userId\": 89115, \"precision\": 0.0, \"recall\": 0.0}, {\"count\": 3, \"cutoff\": 9, \"userId\": 89115, \"precision\": 0.0, \"recall\": 0.0}, {\"count\": 3, \"cutoff\": 10, \"userId\": 89115, \"precision\": 0.0, \"recall\": 0.0}, {\"count\": 3, \"cutoff\": 11, \"userId\": 89115, \"precision\": 0.0, \"recall\": 0.0}, {\"count\": 3, \"cutoff\": 16, \"userId\": 89115, \"precision\": 0.0, \"recall\": 0.0}, {\"count\": 3, \"cutoff\": 21, \"userId\": 89115, \"precision\": 0.0, \"recall\": 0.0}, {\"count\": 3, \"cutoff\": 26, \"userId\": 89115, \"precision\": 0.0, \"recall\": 0.0}, {\"count\": 3, \"cutoff\": 31, \"userId\": 89115, \"precision\": 0.0, \"recall\": 0.0}, {\"count\": 3, \"cutoff\": 36, \"userId\": 89115, \"precision\": 0.0, \"recall\": 0.0}, {\"count\": 3, \"cutoff\": 41, \"userId\": 89115, \"precision\": 0.0, \"recall\": 0.0}, {\"count\": 3, \"cutoff\": 46, \"userId\": 89115, \"precision\": 0.0, \"recall\": 0.0}, {\"count\": 1, \"cutoff\": 1, \"userId\": 90550, \"precision\": 0.0, \"recall\": 0.0}, {\"count\": 1, \"cutoff\": 2, \"userId\": 90550, \"precision\": 0.0, \"recall\": 0.0}, {\"count\": 1, \"cutoff\": 3, \"userId\": 90550, \"precision\": 0.0, \"recall\": 0.0}, {\"count\": 1, \"cutoff\": 4, \"userId\": 90550, \"precision\": 0.0, \"recall\": 0.0}, {\"count\": 1, \"cutoff\": 5, \"userId\": 90550, \"precision\": 0.0, \"recall\": 0.0}, {\"count\": 1, \"cutoff\": 6, \"userId\": 90550, \"precision\": 0.0, \"recall\": 0.0}, {\"count\": 1, \"cutoff\": 7, \"userId\": 90550, \"precision\": 0.0, \"recall\": 0.0}, {\"count\": 1, \"cutoff\": 8, \"userId\": 90550, \"precision\": 0.0, \"recall\": 0.0}, {\"count\": 1, \"cutoff\": 9, \"userId\": 90550, \"precision\": 0.0, \"recall\": 0.0}, {\"count\": 1, \"cutoff\": 10, \"userId\": 90550, \"precision\": 0.0, \"recall\": 0.0}, {\"count\": 1, \"cutoff\": 11, \"userId\": 90550, \"precision\": 0.0, \"recall\": 0.0}, {\"count\": 1, \"cutoff\": 16, \"userId\": 90550, \"precision\": 0.0, \"recall\": 0.0}, {\"count\": 1, \"cutoff\": 21, \"userId\": 90550, \"precision\": 0.0, \"recall\": 0.0}, {\"count\": 1, \"cutoff\": 26, \"userId\": 90550, \"precision\": 0.0, \"recall\": 0.0}, {\"count\": 1, \"cutoff\": 31, \"userId\": 90550, \"precision\": 0.0, \"recall\": 0.0}, {\"count\": 1, \"cutoff\": 36, \"userId\": 90550, \"precision\": 0.0, \"recall\": 0.0}, {\"count\": 1, \"cutoff\": 41, \"userId\": 90550, \"precision\": 0.0, \"recall\": 0.0}, {\"count\": 1, \"cutoff\": 46, \"userId\": 90550, \"precision\": 0.0, \"recall\": 0.0}, {\"count\": 15, \"cutoff\": 1, \"userId\": 93433, \"precision\": 0.0, \"recall\": 0.0}, {\"count\": 15, \"cutoff\": 2, \"userId\": 93433, \"precision\": 0.0, \"recall\": 0.0}, {\"count\": 15, \"cutoff\": 3, \"userId\": 93433, \"precision\": 0.0, \"recall\": 0.0}, {\"count\": 15, \"cutoff\": 4, \"userId\": 93433, \"precision\": 0.0, \"recall\": 0.0}, {\"count\": 15, \"cutoff\": 5, \"userId\": 93433, \"precision\": 0.0, \"recall\": 0.0}, {\"count\": 15, \"cutoff\": 6, \"userId\": 93433, \"precision\": 0.0, \"recall\": 0.0}, {\"count\": 15, \"cutoff\": 7, \"userId\": 93433, \"precision\": 0.0, \"recall\": 0.0}, {\"count\": 15, \"cutoff\": 8, \"userId\": 93433, \"precision\": 0.0, \"recall\": 0.0}, {\"count\": 15, \"cutoff\": 9, \"userId\": 93433, \"precision\": 0.0, \"recall\": 0.0}, {\"count\": 15, \"cutoff\": 10, \"userId\": 93433, \"precision\": 0.0, \"recall\": 0.0}, {\"count\": 15, \"cutoff\": 11, \"userId\": 93433, \"precision\": 0.0, \"recall\": 0.0}, {\"count\": 15, \"cutoff\": 16, \"userId\": 93433, \"precision\": 0.0, \"recall\": 0.0}, {\"count\": 15, \"cutoff\": 21, \"userId\": 93433, \"precision\": 0.0, \"recall\": 0.0}, {\"count\": 15, \"cutoff\": 26, \"userId\": 93433, \"precision\": 0.0, \"recall\": 0.0}, {\"count\": 15, \"cutoff\": 31, \"userId\": 93433, \"precision\": 0.0, \"recall\": 0.0}, {\"count\": 15, \"cutoff\": 36, \"userId\": 93433, \"precision\": 0.0, \"recall\": 0.0}, {\"count\": 15, \"cutoff\": 41, \"userId\": 93433, \"precision\": 0.0, \"recall\": 0.0}, {\"count\": 15, \"cutoff\": 46, \"userId\": 93433, \"precision\": 0.0, \"recall\": 0.0}, {\"count\": 1, \"cutoff\": 1, \"userId\": 94326, \"precision\": 0.0, \"recall\": 0.0}, {\"count\": 1, \"cutoff\": 2, \"userId\": 94326, \"precision\": 0.0, \"recall\": 0.0}, {\"count\": 1, \"cutoff\": 3, \"userId\": 94326, \"precision\": 0.0, \"recall\": 0.0}, {\"count\": 1, \"cutoff\": 4, \"userId\": 94326, \"precision\": 0.0, \"recall\": 0.0}, {\"count\": 1, \"cutoff\": 5, \"userId\": 94326, \"precision\": 0.0, \"recall\": 0.0}, {\"count\": 1, \"cutoff\": 6, \"userId\": 94326, \"precision\": 0.0, \"recall\": 0.0}, {\"count\": 1, \"cutoff\": 7, \"userId\": 94326, \"precision\": 0.0, \"recall\": 0.0}, {\"count\": 1, \"cutoff\": 8, \"userId\": 94326, \"precision\": 0.0, \"recall\": 0.0}, {\"count\": 1, \"cutoff\": 9, \"userId\": 94326, \"precision\": 0.0, \"recall\": 0.0}, {\"count\": 1, \"cutoff\": 10, \"userId\": 94326, \"precision\": 0.0, \"recall\": 0.0}, {\"count\": 1, \"cutoff\": 11, \"userId\": 94326, \"precision\": 0.0, \"recall\": 0.0}, {\"count\": 1, \"cutoff\": 16, \"userId\": 94326, \"precision\": 0.0, \"recall\": 0.0}, {\"count\": 1, \"cutoff\": 21, \"userId\": 94326, \"precision\": 0.0, \"recall\": 0.0}, {\"count\": 1, \"cutoff\": 26, \"userId\": 94326, \"precision\": 0.0, \"recall\": 0.0}, {\"count\": 1, \"cutoff\": 31, \"userId\": 94326, \"precision\": 0.0, \"recall\": 0.0}, {\"count\": 1, \"cutoff\": 36, \"userId\": 94326, \"precision\": 0.0, \"recall\": 0.0}, {\"count\": 1, \"cutoff\": 41, \"userId\": 94326, \"precision\": 0.0, \"recall\": 0.0}, {\"count\": 1, \"cutoff\": 46, \"userId\": 94326, \"precision\": 0.0, \"recall\": 0.0}, {\"count\": 2, \"cutoff\": 1, \"userId\": 95273, \"precision\": 0.0, \"recall\": 0.0}, {\"count\": 2, \"cutoff\": 2, \"userId\": 95273, \"precision\": 0.0, \"recall\": 0.0}, {\"count\": 2, \"cutoff\": 3, \"userId\": 95273, \"precision\": 0.0, \"recall\": 0.0}, {\"count\": 2, \"cutoff\": 4, \"userId\": 95273, \"precision\": 0.0, \"recall\": 0.0}, {\"count\": 2, \"cutoff\": 5, \"userId\": 95273, \"precision\": 0.0, \"recall\": 0.0}, {\"count\": 2, \"cutoff\": 6, \"userId\": 95273, \"precision\": 0.0, \"recall\": 0.0}, {\"count\": 2, \"cutoff\": 7, \"userId\": 95273, \"precision\": 0.0, \"recall\": 0.0}, {\"count\": 2, \"cutoff\": 8, \"userId\": 95273, \"precision\": 0.0, \"recall\": 0.0}, {\"count\": 2, \"cutoff\": 9, \"userId\": 95273, \"precision\": 0.0, \"recall\": 0.0}, {\"count\": 2, \"cutoff\": 10, \"userId\": 95273, \"precision\": 0.0, \"recall\": 0.0}, {\"count\": 2, \"cutoff\": 11, \"userId\": 95273, \"precision\": 0.0, \"recall\": 0.0}, {\"count\": 2, \"cutoff\": 16, \"userId\": 95273, \"precision\": 0.0, \"recall\": 0.0}, {\"count\": 2, \"cutoff\": 21, \"userId\": 95273, \"precision\": 0.0, \"recall\": 0.0}, {\"count\": 2, \"cutoff\": 26, \"userId\": 95273, \"precision\": 0.0, \"recall\": 0.0}, {\"count\": 2, \"cutoff\": 31, \"userId\": 95273, \"precision\": 0.0, \"recall\": 0.0}, {\"count\": 2, \"cutoff\": 36, \"userId\": 95273, \"precision\": 0.0, \"recall\": 0.0}, {\"count\": 2, \"cutoff\": 41, \"userId\": 95273, \"precision\": 0.0, \"recall\": 0.0}, {\"count\": 2, \"cutoff\": 46, \"userId\": 95273, \"precision\": 0.0, \"recall\": 0.0}, {\"count\": 23, \"cutoff\": 1, \"userId\": 95924, \"precision\": 0.0, \"recall\": 0.0}, {\"count\": 23, \"cutoff\": 2, \"userId\": 95924, \"precision\": 0.0, \"recall\": 0.0}, {\"count\": 23, \"cutoff\": 3, \"userId\": 95924, \"precision\": 0.0, \"recall\": 0.0}, {\"count\": 23, \"cutoff\": 4, \"userId\": 95924, \"precision\": 0.0, \"recall\": 0.0}, {\"count\": 23, \"cutoff\": 5, \"userId\": 95924, \"precision\": 0.0, \"recall\": 0.0}, {\"count\": 23, \"cutoff\": 6, \"userId\": 95924, \"precision\": 0.0, \"recall\": 0.0}, {\"count\": 23, \"cutoff\": 7, \"userId\": 95924, \"precision\": 0.0, \"recall\": 0.0}, {\"count\": 23, \"cutoff\": 8, \"userId\": 95924, \"precision\": 0.0, \"recall\": 0.0}, {\"count\": 23, \"cutoff\": 9, \"userId\": 95924, \"precision\": 0.0, \"recall\": 0.0}, {\"count\": 23, \"cutoff\": 10, \"userId\": 95924, \"precision\": 0.0, \"recall\": 0.0}, {\"count\": 23, \"cutoff\": 11, \"userId\": 95924, \"precision\": 0.0, \"recall\": 0.0}, {\"count\": 23, \"cutoff\": 16, \"userId\": 95924, \"precision\": 0.0, \"recall\": 0.0}, {\"count\": 23, \"cutoff\": 21, \"userId\": 95924, \"precision\": 0.0, \"recall\": 0.0}, {\"count\": 23, \"cutoff\": 26, \"userId\": 95924, \"precision\": 0.0, \"recall\": 0.0}, {\"count\": 23, \"cutoff\": 31, \"userId\": 95924, \"precision\": 0.0, \"recall\": 0.0}, {\"count\": 23, \"cutoff\": 36, \"userId\": 95924, \"precision\": 0.0, \"recall\": 0.0}, {\"count\": 23, \"cutoff\": 41, \"userId\": 95924, \"precision\": 0.0, \"recall\": 0.0}, {\"count\": 23, \"cutoff\": 46, \"userId\": 95924, \"precision\": 0.0, \"recall\": 0.0}, {\"count\": 5, \"cutoff\": 1, \"userId\": 97195, \"precision\": 0.0, \"recall\": 0.0}, {\"count\": 5, \"cutoff\": 2, \"userId\": 97195, \"precision\": 0.0, \"recall\": 0.0}, {\"count\": 5, \"cutoff\": 3, \"userId\": 97195, \"precision\": 0.0, \"recall\": 0.0}, {\"count\": 5, \"cutoff\": 4, \"userId\": 97195, \"precision\": 0.0, \"recall\": 0.0}, {\"count\": 5, \"cutoff\": 5, \"userId\": 97195, \"precision\": 0.0, \"recall\": 0.0}, {\"count\": 5, \"cutoff\": 6, \"userId\": 97195, \"precision\": 0.0, \"recall\": 0.0}, {\"count\": 5, \"cutoff\": 7, \"userId\": 97195, \"precision\": 0.0, \"recall\": 0.0}, {\"count\": 5, \"cutoff\": 8, \"userId\": 97195, \"precision\": 0.0, \"recall\": 0.0}, {\"count\": 5, \"cutoff\": 9, \"userId\": 97195, \"precision\": 0.0, \"recall\": 0.0}, {\"count\": 5, \"cutoff\": 10, \"userId\": 97195, \"precision\": 0.0, \"recall\": 0.0}, {\"count\": 5, \"cutoff\": 11, \"userId\": 97195, \"precision\": 0.0, \"recall\": 0.0}, {\"count\": 5, \"cutoff\": 16, \"userId\": 97195, \"precision\": 0.0, \"recall\": 0.0}, {\"count\": 5, \"cutoff\": 21, \"userId\": 97195, \"precision\": 0.0, \"recall\": 0.0}, {\"count\": 5, \"cutoff\": 26, \"userId\": 97195, \"precision\": 0.0, \"recall\": 0.0}, {\"count\": 5, \"cutoff\": 31, \"userId\": 97195, \"precision\": 0.0, \"recall\": 0.0}, {\"count\": 5, \"cutoff\": 36, \"userId\": 97195, \"precision\": 0.0, \"recall\": 0.0}, {\"count\": 5, \"cutoff\": 41, \"userId\": 97195, \"precision\": 0.0, \"recall\": 0.0}, {\"count\": 5, \"cutoff\": 46, \"userId\": 97195, \"precision\": 0.0, \"recall\": 0.0}, {\"count\": 1, \"cutoff\": 1, \"userId\": 101085, \"precision\": 0.0, \"recall\": 0.0}, {\"count\": 1, \"cutoff\": 2, \"userId\": 101085, \"precision\": 0.0, \"recall\": 0.0}, {\"count\": 1, \"cutoff\": 3, \"userId\": 101085, \"precision\": 0.0, \"recall\": 0.0}, {\"count\": 1, \"cutoff\": 4, \"userId\": 101085, \"precision\": 0.0, \"recall\": 0.0}, {\"count\": 1, \"cutoff\": 5, \"userId\": 101085, \"precision\": 0.0, \"recall\": 0.0}, {\"count\": 1, \"cutoff\": 6, \"userId\": 101085, \"precision\": 0.0, \"recall\": 0.0}, {\"count\": 1, \"cutoff\": 7, \"userId\": 101085, \"precision\": 0.0, \"recall\": 0.0}, {\"count\": 1, \"cutoff\": 8, \"userId\": 101085, \"precision\": 0.0, \"recall\": 0.0}, {\"count\": 1, \"cutoff\": 9, \"userId\": 101085, \"precision\": 0.0, \"recall\": 0.0}, {\"count\": 1, \"cutoff\": 10, \"userId\": 101085, \"precision\": 0.0, \"recall\": 0.0}, {\"count\": 1, \"cutoff\": 11, \"userId\": 101085, \"precision\": 0.0, \"recall\": 0.0}, {\"count\": 1, \"cutoff\": 16, \"userId\": 101085, \"precision\": 0.0, \"recall\": 0.0}, {\"count\": 1, \"cutoff\": 21, \"userId\": 101085, \"precision\": 0.0, \"recall\": 0.0}, {\"count\": 1, \"cutoff\": 26, \"userId\": 101085, \"precision\": 0.0, \"recall\": 0.0}, {\"count\": 1, \"cutoff\": 31, \"userId\": 101085, \"precision\": 0.0, \"recall\": 0.0}, {\"count\": 1, \"cutoff\": 36, \"userId\": 101085, \"precision\": 0.0, \"recall\": 0.0}, {\"count\": 1, \"cutoff\": 41, \"userId\": 101085, \"precision\": 0.0, \"recall\": 0.0}, {\"count\": 1, \"cutoff\": 46, \"userId\": 101085, \"precision\": 0.0, \"recall\": 0.0}, {\"count\": 1, \"cutoff\": 1, \"userId\": 101555, \"precision\": 0.0, \"recall\": 0.0}, {\"count\": 1, \"cutoff\": 2, \"userId\": 101555, \"precision\": 0.0, \"recall\": 0.0}, {\"count\": 1, \"cutoff\": 3, \"userId\": 101555, \"precision\": 0.0, \"recall\": 0.0}, {\"count\": 1, \"cutoff\": 4, \"userId\": 101555, \"precision\": 0.0, \"recall\": 0.0}, {\"count\": 1, \"cutoff\": 5, \"userId\": 101555, \"precision\": 0.0, \"recall\": 0.0}, {\"count\": 1, \"cutoff\": 6, \"userId\": 101555, \"precision\": 0.0, \"recall\": 0.0}, {\"count\": 1, \"cutoff\": 7, \"userId\": 101555, \"precision\": 0.0, \"recall\": 0.0}, {\"count\": 1, \"cutoff\": 8, \"userId\": 101555, \"precision\": 0.0, \"recall\": 0.0}, {\"count\": 1, \"cutoff\": 9, \"userId\": 101555, \"precision\": 0.0, \"recall\": 0.0}, {\"count\": 1, \"cutoff\": 10, \"userId\": 101555, \"precision\": 0.0, \"recall\": 0.0}, {\"count\": 1, \"cutoff\": 11, \"userId\": 101555, \"precision\": 0.0, \"recall\": 0.0}, {\"count\": 1, \"cutoff\": 16, \"userId\": 101555, \"precision\": 0.0, \"recall\": 0.0}, {\"count\": 1, \"cutoff\": 21, \"userId\": 101555, \"precision\": 0.0, \"recall\": 0.0}, {\"count\": 1, \"cutoff\": 26, \"userId\": 101555, \"precision\": 0.0, \"recall\": 0.0}, {\"count\": 1, \"cutoff\": 31, \"userId\": 101555, \"precision\": 0.0, \"recall\": 0.0}, {\"count\": 1, \"cutoff\": 36, \"userId\": 101555, \"precision\": 0.0, \"recall\": 0.0}, {\"count\": 1, \"cutoff\": 41, \"userId\": 101555, \"precision\": 0.0, \"recall\": 0.0}, {\"count\": 1, \"cutoff\": 46, \"userId\": 101555, \"precision\": 0.0, \"recall\": 0.0}, {\"count\": 2, \"cutoff\": 1, \"userId\": 105371, \"precision\": 0.0, \"recall\": 0.0}, {\"count\": 2, \"cutoff\": 2, \"userId\": 105371, \"precision\": 0.0, \"recall\": 0.0}, {\"count\": 2, \"cutoff\": 3, \"userId\": 105371, \"precision\": 0.0, \"recall\": 0.0}, {\"count\": 2, \"cutoff\": 4, \"userId\": 105371, \"precision\": 0.0, \"recall\": 0.0}, {\"count\": 2, \"cutoff\": 5, \"userId\": 105371, \"precision\": 0.0, \"recall\": 0.0}, {\"count\": 2, \"cutoff\": 6, \"userId\": 105371, \"precision\": 0.0, \"recall\": 0.0}, {\"count\": 2, \"cutoff\": 7, \"userId\": 105371, \"precision\": 0.0, \"recall\": 0.0}, {\"count\": 2, \"cutoff\": 8, \"userId\": 105371, \"precision\": 0.0, \"recall\": 0.0}, {\"count\": 2, \"cutoff\": 9, \"userId\": 105371, \"precision\": 0.0, \"recall\": 0.0}, {\"count\": 2, \"cutoff\": 10, \"userId\": 105371, \"precision\": 0.0, \"recall\": 0.0}, {\"count\": 2, \"cutoff\": 11, \"userId\": 105371, \"precision\": 0.0, \"recall\": 0.0}, {\"count\": 2, \"cutoff\": 16, \"userId\": 105371, \"precision\": 0.0, \"recall\": 0.0}, {\"count\": 2, \"cutoff\": 21, \"userId\": 105371, \"precision\": 0.0, \"recall\": 0.0}, {\"count\": 2, \"cutoff\": 26, \"userId\": 105371, \"precision\": 0.0, \"recall\": 0.0}, {\"count\": 2, \"cutoff\": 31, \"userId\": 105371, \"precision\": 0.0, \"recall\": 0.0}, {\"count\": 2, \"cutoff\": 36, \"userId\": 105371, \"precision\": 0.0, \"recall\": 0.0}, {\"count\": 2, \"cutoff\": 41, \"userId\": 105371, \"precision\": 0.0, \"recall\": 0.0}, {\"count\": 2, \"cutoff\": 46, \"userId\": 105371, \"precision\": 0.0, \"recall\": 0.0}, {\"count\": 9, \"cutoff\": 1, \"userId\": 115222, \"precision\": 0.0, \"recall\": 0.0}, {\"count\": 9, \"cutoff\": 2, \"userId\": 115222, \"precision\": 0.0, \"recall\": 0.0}, {\"count\": 9, \"cutoff\": 3, \"userId\": 115222, \"precision\": 0.0, \"recall\": 0.0}, {\"count\": 9, \"cutoff\": 4, \"userId\": 115222, \"precision\": 0.0, \"recall\": 0.0}, {\"count\": 9, \"cutoff\": 5, \"userId\": 115222, \"precision\": 0.0, \"recall\": 0.0}, {\"count\": 9, \"cutoff\": 6, \"userId\": 115222, \"precision\": 0.0, \"recall\": 0.0}, {\"count\": 9, \"cutoff\": 7, \"userId\": 115222, \"precision\": 0.0, \"recall\": 0.0}, {\"count\": 9, \"cutoff\": 8, \"userId\": 115222, \"precision\": 0.0, \"recall\": 0.0}, {\"count\": 9, \"cutoff\": 9, \"userId\": 115222, \"precision\": 0.0, \"recall\": 0.0}, {\"count\": 9, \"cutoff\": 10, \"userId\": 115222, \"precision\": 0.0, \"recall\": 0.0}, {\"count\": 9, \"cutoff\": 11, \"userId\": 115222, \"precision\": 0.0, \"recall\": 0.0}, {\"count\": 9, \"cutoff\": 16, \"userId\": 115222, \"precision\": 0.0, \"recall\": 0.0}, {\"count\": 9, \"cutoff\": 21, \"userId\": 115222, \"precision\": 0.0, \"recall\": 0.0}, {\"count\": 9, \"cutoff\": 26, \"userId\": 115222, \"precision\": 0.038461538461538464, \"recall\": 0.1111111111111111}, {\"count\": 9, \"cutoff\": 31, \"userId\": 115222, \"precision\": 0.03225806451612903, \"recall\": 0.1111111111111111}, {\"count\": 9, \"cutoff\": 36, \"userId\": 115222, \"precision\": 0.027777777777777776, \"recall\": 0.1111111111111111}, {\"count\": 9, \"cutoff\": 41, \"userId\": 115222, \"precision\": 0.024390243902439025, \"recall\": 0.1111111111111111}, {\"count\": 9, \"cutoff\": 46, \"userId\": 115222, \"precision\": 0.021739130434782608, \"recall\": 0.1111111111111111}, {\"count\": 2, \"cutoff\": 1, \"userId\": 116303, \"precision\": 0.0, \"recall\": 0.0}, {\"count\": 2, \"cutoff\": 2, \"userId\": 116303, \"precision\": 0.0, \"recall\": 0.0}, {\"count\": 2, \"cutoff\": 3, \"userId\": 116303, \"precision\": 0.0, \"recall\": 0.0}, {\"count\": 2, \"cutoff\": 4, \"userId\": 116303, \"precision\": 0.0, \"recall\": 0.0}, {\"count\": 2, \"cutoff\": 5, \"userId\": 116303, \"precision\": 0.0, \"recall\": 0.0}, {\"count\": 2, \"cutoff\": 6, \"userId\": 116303, \"precision\": 0.0, \"recall\": 0.0}, {\"count\": 2, \"cutoff\": 7, \"userId\": 116303, \"precision\": 0.0, \"recall\": 0.0}, {\"count\": 2, \"cutoff\": 8, \"userId\": 116303, \"precision\": 0.0, \"recall\": 0.0}, {\"count\": 2, \"cutoff\": 9, \"userId\": 116303, \"precision\": 0.0, \"recall\": 0.0}, {\"count\": 2, \"cutoff\": 10, \"userId\": 116303, \"precision\": 0.0, \"recall\": 0.0}, {\"count\": 2, \"cutoff\": 11, \"userId\": 116303, \"precision\": 0.0, \"recall\": 0.0}, {\"count\": 2, \"cutoff\": 16, \"userId\": 116303, \"precision\": 0.0, \"recall\": 0.0}, {\"count\": 2, \"cutoff\": 21, \"userId\": 116303, \"precision\": 0.0, \"recall\": 0.0}, {\"count\": 2, \"cutoff\": 26, \"userId\": 116303, \"precision\": 0.0, \"recall\": 0.0}, {\"count\": 2, \"cutoff\": 31, \"userId\": 116303, \"precision\": 0.0, \"recall\": 0.0}, {\"count\": 2, \"cutoff\": 36, \"userId\": 116303, \"precision\": 0.0, \"recall\": 0.0}, {\"count\": 2, \"cutoff\": 41, \"userId\": 116303, \"precision\": 0.0, \"recall\": 0.0}, {\"count\": 2, \"cutoff\": 46, \"userId\": 116303, \"precision\": 0.0, \"recall\": 0.0}, {\"count\": 51, \"cutoff\": 1, \"userId\": 126994, \"precision\": 0.0, \"recall\": 0.0}, {\"count\": 51, \"cutoff\": 2, \"userId\": 126994, \"precision\": 0.0, \"recall\": 0.0}, {\"count\": 51, \"cutoff\": 3, \"userId\": 126994, \"precision\": 0.0, \"recall\": 0.0}, {\"count\": 51, \"cutoff\": 4, \"userId\": 126994, \"precision\": 0.0, \"recall\": 0.0}, {\"count\": 51, \"cutoff\": 5, \"userId\": 126994, \"precision\": 0.0, \"recall\": 0.0}, {\"count\": 51, \"cutoff\": 6, \"userId\": 126994, \"precision\": 0.0, \"recall\": 0.0}, {\"count\": 51, \"cutoff\": 7, \"userId\": 126994, \"precision\": 0.0, \"recall\": 0.0}, {\"count\": 51, \"cutoff\": 8, \"userId\": 126994, \"precision\": 0.0, \"recall\": 0.0}, {\"count\": 51, \"cutoff\": 9, \"userId\": 126994, \"precision\": 0.0, \"recall\": 0.0}, {\"count\": 51, \"cutoff\": 10, \"userId\": 126994, \"precision\": 0.0, \"recall\": 0.0}, {\"count\": 51, \"cutoff\": 11, \"userId\": 126994, \"precision\": 0.0, \"recall\": 0.0}, {\"count\": 51, \"cutoff\": 16, \"userId\": 126994, \"precision\": 0.0, \"recall\": 0.0}, {\"count\": 51, \"cutoff\": 21, \"userId\": 126994, \"precision\": 0.0, \"recall\": 0.0}, {\"count\": 51, \"cutoff\": 26, \"userId\": 126994, \"precision\": 0.0, \"recall\": 0.0}, {\"count\": 51, \"cutoff\": 31, \"userId\": 126994, \"precision\": 0.0, \"recall\": 0.0}, {\"count\": 51, \"cutoff\": 36, \"userId\": 126994, \"precision\": 0.0, \"recall\": 0.0}, {\"count\": 51, \"cutoff\": 41, \"userId\": 126994, \"precision\": 0.0, \"recall\": 0.0}, {\"count\": 51, \"cutoff\": 46, \"userId\": 126994, \"precision\": 0.0, \"recall\": 0.0}, {\"count\": 2, \"cutoff\": 1, \"userId\": 129008, \"precision\": 0.0, \"recall\": 0.0}, {\"count\": 2, \"cutoff\": 2, \"userId\": 129008, \"precision\": 0.0, \"recall\": 0.0}, {\"count\": 2, \"cutoff\": 3, \"userId\": 129008, \"precision\": 0.0, \"recall\": 0.0}, {\"count\": 2, \"cutoff\": 4, \"userId\": 129008, \"precision\": 0.0, \"recall\": 0.0}, {\"count\": 2, \"cutoff\": 5, \"userId\": 129008, \"precision\": 0.0, \"recall\": 0.0}, {\"count\": 2, \"cutoff\": 6, \"userId\": 129008, \"precision\": 0.0, \"recall\": 0.0}, {\"count\": 2, \"cutoff\": 7, \"userId\": 129008, \"precision\": 0.0, \"recall\": 0.0}, {\"count\": 2, \"cutoff\": 8, \"userId\": 129008, \"precision\": 0.0, \"recall\": 0.0}, {\"count\": 2, \"cutoff\": 9, \"userId\": 129008, \"precision\": 0.0, \"recall\": 0.0}, {\"count\": 2, \"cutoff\": 10, \"userId\": 129008, \"precision\": 0.0, \"recall\": 0.0}, {\"count\": 2, \"cutoff\": 11, \"userId\": 129008, \"precision\": 0.0, \"recall\": 0.0}, {\"count\": 2, \"cutoff\": 16, \"userId\": 129008, \"precision\": 0.0, \"recall\": 0.0}, {\"count\": 2, \"cutoff\": 21, \"userId\": 129008, \"precision\": 0.0, \"recall\": 0.0}, {\"count\": 2, \"cutoff\": 26, \"userId\": 129008, \"precision\": 0.0, \"recall\": 0.0}, {\"count\": 2, \"cutoff\": 31, \"userId\": 129008, \"precision\": 0.0, \"recall\": 0.0}, {\"count\": 2, \"cutoff\": 36, \"userId\": 129008, \"precision\": 0.0, \"recall\": 0.0}, {\"count\": 2, \"cutoff\": 41, \"userId\": 129008, \"precision\": 0.0, \"recall\": 0.0}, {\"count\": 2, \"cutoff\": 46, \"userId\": 129008, \"precision\": 0.0, \"recall\": 0.0}, {\"count\": 1, \"cutoff\": 1, \"userId\": 129354, \"precision\": 0.0, \"recall\": 0.0}, {\"count\": 1, \"cutoff\": 2, \"userId\": 129354, \"precision\": 0.0, \"recall\": 0.0}, {\"count\": 1, \"cutoff\": 3, \"userId\": 129354, \"precision\": 0.0, \"recall\": 0.0}, {\"count\": 1, \"cutoff\": 4, \"userId\": 129354, \"precision\": 0.0, \"recall\": 0.0}, {\"count\": 1, \"cutoff\": 5, \"userId\": 129354, \"precision\": 0.0, \"recall\": 0.0}, {\"count\": 1, \"cutoff\": 6, \"userId\": 129354, \"precision\": 0.0, \"recall\": 0.0}, {\"count\": 1, \"cutoff\": 7, \"userId\": 129354, \"precision\": 0.0, \"recall\": 0.0}, {\"count\": 1, \"cutoff\": 8, \"userId\": 129354, \"precision\": 0.0, \"recall\": 0.0}, {\"count\": 1, \"cutoff\": 9, \"userId\": 129354, \"precision\": 0.0, \"recall\": 0.0}, {\"count\": 1, \"cutoff\": 10, \"userId\": 129354, \"precision\": 0.0, \"recall\": 0.0}, {\"count\": 1, \"cutoff\": 11, \"userId\": 129354, \"precision\": 0.0, \"recall\": 0.0}, {\"count\": 1, \"cutoff\": 16, \"userId\": 129354, \"precision\": 0.0, \"recall\": 0.0}, {\"count\": 1, \"cutoff\": 21, \"userId\": 129354, \"precision\": 0.0, \"recall\": 0.0}, {\"count\": 1, \"cutoff\": 26, \"userId\": 129354, \"precision\": 0.0, \"recall\": 0.0}, {\"count\": 1, \"cutoff\": 31, \"userId\": 129354, \"precision\": 0.0, \"recall\": 0.0}, {\"count\": 1, \"cutoff\": 36, \"userId\": 129354, \"precision\": 0.0, \"recall\": 0.0}, {\"count\": 1, \"cutoff\": 41, \"userId\": 129354, \"precision\": 0.0, \"recall\": 0.0}, {\"count\": 1, \"cutoff\": 46, \"userId\": 129354, \"precision\": 0.0, \"recall\": 0.0}, {\"count\": 2, \"cutoff\": 1, \"userId\": 137105, \"precision\": 0.0, \"recall\": 0.0}, {\"count\": 2, \"cutoff\": 2, \"userId\": 137105, \"precision\": 0.0, \"recall\": 0.0}, {\"count\": 2, \"cutoff\": 3, \"userId\": 137105, \"precision\": 0.0, \"recall\": 0.0}, {\"count\": 2, \"cutoff\": 4, \"userId\": 137105, \"precision\": 0.0, \"recall\": 0.0}, {\"count\": 2, \"cutoff\": 5, \"userId\": 137105, \"precision\": 0.0, \"recall\": 0.0}, {\"count\": 2, \"cutoff\": 6, \"userId\": 137105, \"precision\": 0.0, \"recall\": 0.0}, {\"count\": 2, \"cutoff\": 7, \"userId\": 137105, \"precision\": 0.0, \"recall\": 0.0}, {\"count\": 2, \"cutoff\": 8, \"userId\": 137105, \"precision\": 0.0, \"recall\": 0.0}, {\"count\": 2, \"cutoff\": 9, \"userId\": 137105, \"precision\": 0.0, \"recall\": 0.0}, {\"count\": 2, \"cutoff\": 10, \"userId\": 137105, \"precision\": 0.0, \"recall\": 0.0}, {\"count\": 2, \"cutoff\": 11, \"userId\": 137105, \"precision\": 0.0, \"recall\": 0.0}, {\"count\": 2, \"cutoff\": 16, \"userId\": 137105, \"precision\": 0.0, \"recall\": 0.0}, {\"count\": 2, \"cutoff\": 21, \"userId\": 137105, \"precision\": 0.0, \"recall\": 0.0}, {\"count\": 2, \"cutoff\": 26, \"userId\": 137105, \"precision\": 0.0, \"recall\": 0.0}, {\"count\": 2, \"cutoff\": 31, \"userId\": 137105, \"precision\": 0.0, \"recall\": 0.0}, {\"count\": 2, \"cutoff\": 36, \"userId\": 137105, \"precision\": 0.0, \"recall\": 0.0}, {\"count\": 2, \"cutoff\": 41, \"userId\": 137105, \"precision\": 0.0, \"recall\": 0.0}, {\"count\": 2, \"cutoff\": 46, \"userId\": 137105, \"precision\": 0.0, \"recall\": 0.0}]}]]}, e);\n",
       "                });\n",
       "            })();\n",
       "        "
      ]
     },
     "metadata": {},
     "output_type": "display_data"
    }
   ],
   "source": [
    "comparisonstruct = gl.compare(test,models)\n",
    "gl.show_comparison(comparisonstruct,models)"
   ]
  },
  {
   "cell_type": "markdown",
   "metadata": {},
   "source": [
    "<a href=\"#top\">Back to Top</a>\n",
    "### Modeling and Evaluation - Summarize The Ramifications<a id=\"Modeling_and_Evaluation_Summarize_The_Ramifications\"></a>\n",
    "* Describe your results. What findings are the most interesting and why?"
   ]
  },
  {
   "cell_type": "markdown",
   "metadata": {},
   "source": [
    "<a href=\"#top\">Back to Top</a>\n",
    "### Deployment<a id=\"Deployment\"></a>\n",
    "* Be critical of your performance and tell the reader how you current model might be usable by other parties. Did you achieve your goals? If not, can you reign in the utility of your modeling?\n",
    "    - How useful is your model for interested parties (i.e., the companies or organizations that might want to use it)?\n",
    "    - How would your deploy your model for interested parties?\n",
    "    - What other data should be collected?\n",
    "    - How often would the model need to be updated, etc.?"
   ]
  },
  {
   "cell_type": "code",
   "execution_count": null,
   "metadata": {},
   "outputs": [],
   "source": []
  },
  {
   "cell_type": "markdown",
   "metadata": {},
   "source": [
    "<a href=\"#top\">Back to Top</a>\n",
    "### Exceptional Work<a id=\"Exceptional_Work\"></a>"
   ]
  },
  {
   "cell_type": "markdown",
   "metadata": {},
   "source": [
    "## Creating a User-Item Matrices to find movies based on a single selection\n",
    "### Using SVD (Singular-Value Decomposition) to reduce the matrix"
   ]
  },
  {
   "cell_type": "markdown",
   "metadata": {},
   "source": [
    "#### Convert the Data to a User-Item Matrix"
   ]
  },
  {
   "cell_type": "code",
   "execution_count": 41,
   "metadata": {
    "inputHidden": false,
    "outputHidden": false
   },
   "outputs": [
    {
     "data": {
      "text/html": [
       "<div>\n",
       "<style scoped>\n",
       "    .dataframe tbody tr th:only-of-type {\n",
       "        vertical-align: middle;\n",
       "    }\n",
       "\n",
       "    .dataframe tbody tr th {\n",
       "        vertical-align: top;\n",
       "    }\n",
       "\n",
       "    .dataframe thead th {\n",
       "        text-align: right;\n",
       "    }\n",
       "</style>\n",
       "<table border=\"1\" class=\"dataframe\">\n",
       "  <thead>\n",
       "    <tr style=\"text-align: right;\">\n",
       "      <th>title</th>\n",
       "      <th>$9.99 (2008)</th>\n",
       "      <th>'Salem's Lot (2004)</th>\n",
       "      <th>'burbs, The (1989)</th>\n",
       "      <th>'night Mother (1986)</th>\n",
       "      <th>(500) Days of Summer (2009)</th>\n",
       "      <th>(Untitled) (2009)</th>\n",
       "      <th>*batteries not included (1987)</th>\n",
       "      <th>+1 (2013)</th>\n",
       "      <th>...And Justice for All (1979)</th>\n",
       "      <th>1 (2013)</th>\n",
       "      <th>...</th>\n",
       "      <th>[REC]³ 3 Génesis (2012)</th>\n",
       "      <th>a/k/a Tommy Chong (2005)</th>\n",
       "      <th>alaskaLand (2013)</th>\n",
       "      <th>eXistenZ (1999)</th>\n",
       "      <th>loudQUIETloud: A Film About the Pixies (2006)</th>\n",
       "      <th>xXx (2002)</th>\n",
       "      <th>xXx: State of the Union (2005)</th>\n",
       "      <th>¡Three Amigos! (1986)</th>\n",
       "      <th>À nos amours (1983)</th>\n",
       "      <th>Åsa-Nisse - Wälkom to Knohult (2011)</th>\n",
       "    </tr>\n",
       "    <tr>\n",
       "      <th>userId</th>\n",
       "      <th></th>\n",
       "      <th></th>\n",
       "      <th></th>\n",
       "      <th></th>\n",
       "      <th></th>\n",
       "      <th></th>\n",
       "      <th></th>\n",
       "      <th></th>\n",
       "      <th></th>\n",
       "      <th></th>\n",
       "      <th></th>\n",
       "      <th></th>\n",
       "      <th></th>\n",
       "      <th></th>\n",
       "      <th></th>\n",
       "      <th></th>\n",
       "      <th></th>\n",
       "      <th></th>\n",
       "      <th></th>\n",
       "      <th></th>\n",
       "      <th></th>\n",
       "    </tr>\n",
       "  </thead>\n",
       "  <tbody>\n",
       "    <tr>\n",
       "      <th>65</th>\n",
       "      <td>0.0</td>\n",
       "      <td>0</td>\n",
       "      <td>0.0</td>\n",
       "      <td>0</td>\n",
       "      <td>0.0</td>\n",
       "      <td>0.0</td>\n",
       "      <td>0.0</td>\n",
       "      <td>0</td>\n",
       "      <td>0.0</td>\n",
       "      <td>0</td>\n",
       "      <td>...</td>\n",
       "      <td>0.0</td>\n",
       "      <td>0.0</td>\n",
       "      <td>0.0</td>\n",
       "      <td>0.0</td>\n",
       "      <td>0</td>\n",
       "      <td>0.0</td>\n",
       "      <td>0.0</td>\n",
       "      <td>0.0</td>\n",
       "      <td>0</td>\n",
       "      <td>0.0</td>\n",
       "    </tr>\n",
       "    <tr>\n",
       "      <th>96</th>\n",
       "      <td>0.0</td>\n",
       "      <td>0</td>\n",
       "      <td>0.0</td>\n",
       "      <td>0</td>\n",
       "      <td>0.0</td>\n",
       "      <td>0.0</td>\n",
       "      <td>0.0</td>\n",
       "      <td>0</td>\n",
       "      <td>0.0</td>\n",
       "      <td>0</td>\n",
       "      <td>...</td>\n",
       "      <td>0.0</td>\n",
       "      <td>0.0</td>\n",
       "      <td>0.0</td>\n",
       "      <td>0.0</td>\n",
       "      <td>0</td>\n",
       "      <td>0.0</td>\n",
       "      <td>0.0</td>\n",
       "      <td>0.0</td>\n",
       "      <td>0</td>\n",
       "      <td>0.0</td>\n",
       "    </tr>\n",
       "    <tr>\n",
       "      <th>121</th>\n",
       "      <td>0.0</td>\n",
       "      <td>0</td>\n",
       "      <td>0.0</td>\n",
       "      <td>0</td>\n",
       "      <td>0.0</td>\n",
       "      <td>0.0</td>\n",
       "      <td>0.0</td>\n",
       "      <td>0</td>\n",
       "      <td>0.0</td>\n",
       "      <td>0</td>\n",
       "      <td>...</td>\n",
       "      <td>0.0</td>\n",
       "      <td>0.0</td>\n",
       "      <td>0.0</td>\n",
       "      <td>0.0</td>\n",
       "      <td>0</td>\n",
       "      <td>0.0</td>\n",
       "      <td>0.0</td>\n",
       "      <td>0.0</td>\n",
       "      <td>0</td>\n",
       "      <td>0.0</td>\n",
       "    </tr>\n",
       "    <tr>\n",
       "      <th>129</th>\n",
       "      <td>0.0</td>\n",
       "      <td>0</td>\n",
       "      <td>0.0</td>\n",
       "      <td>0</td>\n",
       "      <td>0.0</td>\n",
       "      <td>0.0</td>\n",
       "      <td>0.0</td>\n",
       "      <td>0</td>\n",
       "      <td>0.0</td>\n",
       "      <td>0</td>\n",
       "      <td>...</td>\n",
       "      <td>0.0</td>\n",
       "      <td>0.0</td>\n",
       "      <td>0.0</td>\n",
       "      <td>0.0</td>\n",
       "      <td>0</td>\n",
       "      <td>0.0</td>\n",
       "      <td>0.0</td>\n",
       "      <td>0.0</td>\n",
       "      <td>0</td>\n",
       "      <td>0.0</td>\n",
       "    </tr>\n",
       "    <tr>\n",
       "      <th>133</th>\n",
       "      <td>0.0</td>\n",
       "      <td>0</td>\n",
       "      <td>0.0</td>\n",
       "      <td>0</td>\n",
       "      <td>0.0</td>\n",
       "      <td>0.0</td>\n",
       "      <td>0.0</td>\n",
       "      <td>0</td>\n",
       "      <td>0.0</td>\n",
       "      <td>0</td>\n",
       "      <td>...</td>\n",
       "      <td>0.0</td>\n",
       "      <td>0.0</td>\n",
       "      <td>0.0</td>\n",
       "      <td>0.0</td>\n",
       "      <td>0</td>\n",
       "      <td>0.0</td>\n",
       "      <td>0.0</td>\n",
       "      <td>0.0</td>\n",
       "      <td>0</td>\n",
       "      <td>0.0</td>\n",
       "    </tr>\n",
       "  </tbody>\n",
       "</table>\n",
       "<p>5 rows × 13390 columns</p>\n",
       "</div>"
      ],
      "text/plain": [
       "title   $9.99 (2008)  'Salem's Lot (2004)  'burbs, The (1989)  \\\n",
       "userId                                                          \n",
       "65               0.0                    0                 0.0   \n",
       "96               0.0                    0                 0.0   \n",
       "121              0.0                    0                 0.0   \n",
       "129              0.0                    0                 0.0   \n",
       "133              0.0                    0                 0.0   \n",
       "\n",
       "title   'night Mother (1986)  (500) Days of Summer (2009)  (Untitled) (2009)  \\\n",
       "userId                                                                         \n",
       "65                         0                          0.0                0.0   \n",
       "96                         0                          0.0                0.0   \n",
       "121                        0                          0.0                0.0   \n",
       "129                        0                          0.0                0.0   \n",
       "133                        0                          0.0                0.0   \n",
       "\n",
       "title   *batteries not included (1987)  +1 (2013)  \\\n",
       "userId                                              \n",
       "65                                 0.0          0   \n",
       "96                                 0.0          0   \n",
       "121                                0.0          0   \n",
       "129                                0.0          0   \n",
       "133                                0.0          0   \n",
       "\n",
       "title   ...And Justice for All (1979)  1 (2013)  ...  [REC]³ 3 Génesis (2012)  \\\n",
       "userId                                           ...                            \n",
       "65                                0.0         0  ...                      0.0   \n",
       "96                                0.0         0  ...                      0.0   \n",
       "121                               0.0         0  ...                      0.0   \n",
       "129                               0.0         0  ...                      0.0   \n",
       "133                               0.0         0  ...                      0.0   \n",
       "\n",
       "title   a/k/a Tommy Chong (2005)  alaskaLand (2013)  eXistenZ (1999)  \\\n",
       "userId                                                                 \n",
       "65                           0.0                0.0              0.0   \n",
       "96                           0.0                0.0              0.0   \n",
       "121                          0.0                0.0              0.0   \n",
       "129                          0.0                0.0              0.0   \n",
       "133                          0.0                0.0              0.0   \n",
       "\n",
       "title   loudQUIETloud: A Film About the Pixies (2006)  xXx (2002)  \\\n",
       "userId                                                              \n",
       "65                                                  0         0.0   \n",
       "96                                                  0         0.0   \n",
       "121                                                 0         0.0   \n",
       "129                                                 0         0.0   \n",
       "133                                                 0         0.0   \n",
       "\n",
       "title   xXx: State of the Union (2005)  ¡Three Amigos! (1986)  \\\n",
       "userId                                                          \n",
       "65                                 0.0                    0.0   \n",
       "96                                 0.0                    0.0   \n",
       "121                                0.0                    0.0   \n",
       "129                                0.0                    0.0   \n",
       "133                                0.0                    0.0   \n",
       "\n",
       "title   À nos amours (1983)  Åsa-Nisse - Wälkom to Knohult (2011)  \n",
       "userId                                                             \n",
       "65                        0                                   0.0  \n",
       "96                        0                                   0.0  \n",
       "121                       0                                   0.0  \n",
       "129                       0                                   0.0  \n",
       "133                       0                                   0.0  \n",
       "\n",
       "[5 rows x 13390 columns]"
      ]
     },
     "execution_count": 41,
     "metadata": {},
     "output_type": "execute_result"
    }
   ],
   "source": [
    "#import TruncatedSVD from sklearn\n",
    "from sklearn.decomposition import TruncatedSVD\n",
    "\n",
    "#convert the Data to a User-Item Matrix based on just the rating, userId and title data\n",
    "#TruncatedSVD will not allow NULL so using the fill_value to produce 0 for the NULL\n",
    "rating_pivot = mergedDF.pivot_table(values='rating', index='userId', columns='title', fill_value=0)\n",
    "#looking at the first 5 entries\n",
    "rating_pivot.head()"
   ]
  },
  {
   "cell_type": "markdown",
   "metadata": {},
   "source": [
    "We will need to transpose the matrix."
   ]
  },
  {
   "cell_type": "code",
   "execution_count": 42,
   "metadata": {},
   "outputs": [
    {
     "data": {
      "text/plain": [
       "(7159, 13390)"
      ]
     },
     "execution_count": 42,
     "metadata": {},
     "output_type": "execute_result"
    }
   ],
   "source": [
    "#looking at the shape of the matrix\n",
    "rating_pivot.shape"
   ]
  },
  {
   "cell_type": "code",
   "execution_count": 43,
   "metadata": {},
   "outputs": [
    {
     "data": {
      "text/plain": [
       "(13390L, 7159L)"
      ]
     },
     "execution_count": 43,
     "metadata": {},
     "output_type": "execute_result"
    }
   ],
   "source": [
    "#transposing the rating_pivot using the T command\n",
    "rating_transpose = rating_pivot.values.T\n",
    "\n",
    "#check to see if things flipped\n",
    "rating_transpose.shape"
   ]
  },
  {
   "cell_type": "markdown",
   "metadata": {},
   "source": [
    "#### Running SVD (Singular-Value Decomposition) to reduce the matrix"
   ]
  },
  {
   "cell_type": "code",
   "execution_count": 44,
   "metadata": {},
   "outputs": [
    {
     "data": {
      "text/plain": [
       "(13390L, 12L)"
      ]
     },
     "execution_count": 44,
     "metadata": {},
     "output_type": "execute_result"
    }
   ],
   "source": [
    "#using 12 components\n",
    "rating_SVD = TruncatedSVD(n_components=12, random_state=42)\n",
    "result_maxrix = rating_SVD.fit_transform(rating_transpose)\n",
    "#looking at the shape of the smaller matrix\n",
    "result_maxrix.shape"
   ]
  },
  {
   "cell_type": "markdown",
   "metadata": {},
   "source": [
    "#### Create a Pearson's R Correlation for every movie\n",
    "We can use this to compare one movie to others that someone may like based on user preferences."
   ]
  },
  {
   "cell_type": "code",
   "execution_count": 45,
   "metadata": {},
   "outputs": [
    {
     "data": {
      "text/plain": [
       "(13390L, 13390L)"
      ]
     },
     "execution_count": 45,
     "metadata": {},
     "output_type": "execute_result"
    }
   ],
   "source": [
    "result_corr = np.corrcoef(result_maxrix)\n",
    "#looking at the shape\n",
    "result_corr.shape"
   ]
  },
  {
   "cell_type": "markdown",
   "metadata": {},
   "source": [
    "#### Test the system on one of our favorite movies: The Shawshank Redemption"
   ]
  },
  {
   "cell_type": "code",
   "execution_count": 46,
   "metadata": {},
   "outputs": [
    {
     "name": "stdout",
     "output_type": "stream",
     "text": [
      "10572\n"
     ]
    }
   ],
   "source": [
    "# create a movie names index\n",
    "movie_names = rating_pivot.columns\n",
    "movie_list = list(movie_names)\n",
    "\n",
    "#pull the index number of the movie you want to find similarities too\n",
    "Shawshank = movie_list.index('Shawshank Redemption, The (1994)')\n",
    "#print out the index of our movie\n",
    "print(Shawshank)"
   ]
  },
  {
   "cell_type": "markdown",
   "metadata": {},
   "source": [
    "#### Get the correlation result of our movie"
   ]
  },
  {
   "cell_type": "code",
   "execution_count": 47,
   "metadata": {},
   "outputs": [
    {
     "data": {
      "text/plain": [
       "(13390L,)"
      ]
     },
     "execution_count": 47,
     "metadata": {},
     "output_type": "execute_result"
    }
   ],
   "source": [
    "corr_Shawshank = result_corr[Shawshank]\n",
    "#This is shape of the Pearson's R Correlation for one movie.\n",
    "#It shows 13390 results for this one movie. This is how it compares to all the others in the data set.\n",
    "corr_Shawshank.shape"
   ]
  },
  {
   "cell_type": "markdown",
   "metadata": {},
   "source": [
    "#### Finding highly correlated movies"
   ]
  },
  {
   "cell_type": "code",
   "execution_count": 48,
   "metadata": {},
   "outputs": [
    {
     "data": {
      "text/plain": [
       "['Beautiful Mind, A (2001)',\n",
       " 'Forrest Gump (1994)',\n",
       " 'Good Will Hunting (1997)',\n",
       " 'Platoon (1986)',\n",
       " 'Rain Man (1988)',\n",
       " \"Schindler's List (1993)\",\n",
       " 'Shakespeare in Love (1998)',\n",
       " 'Silence of the Lambs, The (1991)',\n",
       " 'Sixth Sense, The (1999)']"
      ]
     },
     "execution_count": 48,
     "metadata": {},
     "output_type": "execute_result"
    }
   ],
   "source": [
    "#finding some of the top correlated movies to ours\n",
    "list(movie_names[(corr_Shawshank < 1.0) & (corr_Shawshank > 0.9)])"
   ]
  },
  {
   "cell_type": "code",
   "execution_count": 49,
   "metadata": {},
   "outputs": [
    {
     "data": {
      "text/plain": [
       "['Forrest Gump (1994)', 'Rain Man (1988)', 'Shakespeare in Love (1998)']"
      ]
     },
     "execution_count": 49,
     "metadata": {},
     "output_type": "execute_result"
    }
   ],
   "source": [
    "#finding the highest correlated movie to ours\n",
    "list(movie_names[(corr_Shawshank < 1.0) & (corr_Shawshank > 0.93)])"
   ]
  },
  {
   "cell_type": "code",
   "execution_count": null,
   "metadata": {},
   "outputs": [],
   "source": []
  }
 ],
 "metadata": {
  "kernelspec": {
   "display_name": "Python 2",
   "language": "python",
   "name": "python2"
  },
  "language_info": {
   "codemirror_mode": {
    "name": "ipython",
    "version": 2
   },
   "file_extension": ".py",
   "mimetype": "text/x-python",
   "name": "python",
   "nbconvert_exporter": "python",
   "pygments_lexer": "ipython2",
   "version": "2.7.17"
  },
  "nteract": {
   "version": "0.15.0"
  }
 },
 "nbformat": 4,
 "nbformat_minor": 2
}
