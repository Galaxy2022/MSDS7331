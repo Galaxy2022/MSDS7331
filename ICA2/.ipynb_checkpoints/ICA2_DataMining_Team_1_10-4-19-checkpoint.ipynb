{
 "cells": [
  {
   "cell_type": "code",
   "execution_count": 24,
   "metadata": {},
   "outputs": [
    {
     "data": {
      "text/html": [
       "<link href='https://fonts.googleapis.com/css?family=Passion+One' rel='stylesheet' type='text/css'><style>div.attn { font-family: 'Helvetica Neue'; font-size: 30px; line-height: 40px; color: #FFFFFF; text-align: center; margin: 30px 0; border-width: 10px 0; border-style: solid; border-color: #5AAAAA; padding: 30px 0; background-color: #DDDDFF; }hr { border: 0; background-color: #ffffff; border-top: 1px solid black; }hr.major { border-top: 10px solid #5AAA5A; }hr.minor { border: none; background-color: #ffffff; border-top: 5px dotted #CC3333; }div.bubble { width: 65%; padding: 20px; background: #DDDDDD; border-radius: 15px; margin: 0 auto; font-style: italic; color: #f00; }em { color: #AAA; }div.c1{visibility:hidden;margin:0;height:0;}div.note{color:red;}</style>"
      ],
      "text/plain": [
       "<IPython.core.display.HTML object>"
      ]
     },
     "execution_count": 24,
     "metadata": {},
     "output_type": "execute_result"
    }
   ],
   "source": [
    "#  Ebnable HTML/CSS \n",
    "from IPython.core.display import HTML\n",
    "HTML(\"<link href='https://fonts.googleapis.com/css?family=Passion+One' rel='stylesheet' type='text/css'><style>div.attn { font-family: 'Helvetica Neue'; font-size: 30px; line-height: 40px; color: #FFFFFF; text-align: center; margin: 30px 0; border-width: 10px 0; border-style: solid; border-color: #5AAAAA; padding: 30px 0; background-color: #DDDDFF; }hr { border: 0; background-color: #ffffff; border-top: 1px solid black; }hr.major { border-top: 10px solid #5AAA5A; }hr.minor { border: none; background-color: #ffffff; border-top: 5px dotted #CC3333; }div.bubble { width: 65%; padding: 20px; background: #DDDDDD; border-radius: 15px; margin: 0 auto; font-style: italic; color: #f00; }em { color: #AAA; }div.c1{visibility:hidden;margin:0;height:0;}div.note{color:red;}</style>\")"
   ]
  },
  {
   "cell_type": "markdown",
   "metadata": {},
   "source": [
    "\n",
    "___\n",
    "Enter Team Member Names here (double click to edit):\n",
    "\n",
    "- Name 1: Allen Ansari\n",
    "- Name 2: Chad Madding\n",
    "- Name 3: Yongjun (Ian) Chu\n",
    "\n"
   ]
  },
  {
   "cell_type": "markdown",
   "metadata": {},
   "source": [
    "________\n",
    "<a id=\"top\"></a>\n",
    "# Live Session Assignment Two\n",
    "In the following assignment you will be asked to fill in python code and derivations for a number of different problems. Please read all instructions carefully and turn in the rendered notebook (.ipynb file, remember to save it!!) or HTML of the rendered notebook before the end of class.\n",
    "\n",
    "## Contents\n",
    "* <a href=\"#Loading\">Loading the Classification Data</a>\n",
    "* <a href=\"#using_trees\">Using Decision Trees - Gini</a>\n",
    "* <a href=\"#entropy\">Using Decision Trees - Entropy</a>\n",
    "* <a href=\"#multi\">Multi-way Splits</a>\n",
    "* <a href=\"#sklearn\">Decision Trees in Scikit-Learn</a>\n",
    "\n",
    "________________________________________________________________________________________________________\n",
    "<a id=\"Loading\"></a>\n",
    "<a href=\"#top\">Back to Top</a>\n",
    "## Loading the Classification Data\n",
    "Please run the following code to read in the \"digits\" dataset from sklearn's data loading module. This is identical to the first in class assignment for loading the data into matrices. `ds.data` is a matrix of feature values and `ds.target` is a column vector of the class output (in our case, the hand written digit we want to classify). Each class is a number (0 through 9) that we want to classify as one of ten hand written digits. \n",
    "\n"
   ]
  },
  {
   "cell_type": "code",
   "execution_count": 25,
   "metadata": {},
   "outputs": [
    {
     "name": "stdout",
     "output_type": "stream",
     "text": [
      "features shape: (1797, 64)\n",
      "target shape: (1797,)\n",
      "range of target: 0 9\n"
     ]
    }
   ],
   "source": [
    "from __future__ import print_function\n",
    "from sklearn.datasets import load_digits\n",
    "import numpy as np\n",
    "\n",
    "ds = load_digits()\n",
    "\n",
    "# this holds the continuous feature data\n",
    "print('features shape:', ds.data.shape) # there are 1797 instances and 64 features per instance\n",
    "print('target shape:', ds.target.shape )\n",
    "print('range of target:', np.min(ds.target),np.max(ds.target))"
   ]
  },
  {
   "cell_type": "code",
   "execution_count": 3,
   "metadata": {},
   "outputs": [
    {
     "data": {
      "text/plain": [
       "Text(0.5,0.98,'Label is 7')"
      ]
     },
     "execution_count": 3,
     "metadata": {},
     "output_type": "execute_result"
    },
    {
     "data": {
      "image/png": "[encoded data removed]",
      "text/plain": [
       "<Figure size 432x288 with 2 Axes>"
      ]
     },
     "metadata": {
      "needs_background": "light"
     },
     "output_type": "display_data"
    }
   ],
   "source": [
    "from matplotlib import pyplot as plt\n",
    "import matplotlib.gridspec as gridspec\n",
    "%matplotlib inline\n",
    " \n",
    "#get the vector data from a random position\n",
    "idx = np.random.randint(0,len(ds.target))\n",
    "raw_row = ds.data[idx] # as a vector\n",
    "img = ds.data[idx].reshape((8,8)) #reshaped to be an image \n",
    " \n",
    "#custom plotting tools \n",
    "gs = gridspec.GridSpec(4,2)\n",
    " \n",
    "plt.subplot(gs[0,:]) #show vector\n",
    "plt.imshow(np.matrix(raw_row), cmap=plt.cm.bone, interpolation='nearest')\n",
    "plt.title('Row vector')\n",
    "\n",
    "plt.subplot(gs[1:,:]) #show image\n",
    "plt.imshow(img, cmap=plt.cm.bone, interpolation='nearest')\n",
    "plt.title('Vector reshaped as an 8x8 image')\n",
    "\n",
    "plt.suptitle('Label is %d'%(ds.target[idx]))\n"
   ]
  },
  {
   "cell_type": "markdown",
   "metadata": {},
   "source": [
    "________________________________________________________________________________________________________\n",
    "<a id=\"using_trees\"></a>\n",
    "<a href=\"#top\">Back to Top</a>\n",
    "## Using Decision Trees\n",
    "In the videos, we talked about the splitting conditions for different attributes. Specifically, we discussed the number of ways in which it is possible to split a node, depending on the attribute types. To understand the possible splits, we need to understand the attributes. For the question below, you might find the description in the `ds['DESCR']` field to be useful. You can see the field using `print(ds['DESCR'])`\n",
    "\n",
    "**Question 1:** For the digits dataset, what are the type(s) of the attributes? How many attributes are there? What do they represent?\n"
   ]
  },
  {
   "cell_type": "code",
   "execution_count": 26,
   "metadata": {},
   "outputs": [
    {
     "name": "stdout",
     "output_type": "stream",
     "text": [
      ".. _digits_dataset:\n",
      "\n",
      "Optical recognition of handwritten digits dataset\n",
      "--------------------------------------------------\n",
      "\n",
      "**Data Set Characteristics:**\n",
      "\n",
      "    :Number of Instances: 5620\n",
      "    :Number of Attributes: 64\n",
      "    :Attribute Information: 8x8 image of integer pixels in the range 0..16.\n",
      "    :Missing Attribute Values: None\n",
      "    :Creator: E. Alpaydin (alpaydin '@' boun.edu.tr)\n",
      "    :Date: July; 1998\n",
      "\n",
      "This is a copy of the test set of the UCI ML hand-written digits datasets\n",
      "https://archive.ics.uci.edu/ml/datasets/Optical+Recognition+of+Handwritten+Digits\n",
      "\n",
      "The data set contains images of hand-written digits: 10 classes where\n",
      "each class refers to a digit.\n",
      "\n",
      "Preprocessing programs made available by NIST were used to extract\n",
      "normalized bitmaps of handwritten digits from a preprinted form. From a\n",
      "total of 43 people, 30 contributed to the training set and different 13\n",
      "to the test set. 32x32 bitmaps are divided into nonoverlapping blocks of\n",
      "4x4 and the number of on pixels are counted in each block. This generates\n",
      "an input matrix of 8x8 where each element is an integer in the range\n",
      "0..16. This reduces dimensionality and gives invariance to small\n",
      "distortions.\n",
      "\n",
      "For info on NIST preprocessing routines, see M. D. Garris, J. L. Blue, G.\n",
      "T. Candela, D. L. Dimmick, J. Geist, P. J. Grother, S. A. Janet, and C.\n",
      "L. Wilson, NIST Form-Based Handprint Recognition System, NISTIR 5469,\n",
      "1994.\n",
      "\n",
      ".. topic:: References\n",
      "\n",
      "  - C. Kaynak (1995) Methods of Combining Multiple Classifiers and Their\n",
      "    Applications to Handwritten Digit Recognition, MSc Thesis, Institute of\n",
      "    Graduate Studies in Science and Engineering, Bogazici University.\n",
      "  - E. Alpaydin, C. Kaynak (1998) Cascading Classifiers, Kybernetika.\n",
      "  - Ken Tang and Ponnuthurai N. Suganthan and Xi Yao and A. Kai Qin.\n",
      "    Linear dimensionalityreduction using relevance weighted LDA. School of\n",
      "    Electrical and Electronic Engineering Nanyang Technological University.\n",
      "    2005.\n",
      "  - Claudio Gentile. A New Approximate Maximal Margin Classification\n",
      "    Algorithm. NIPS. 2000.\n"
     ]
    }
   ],
   "source": [
    "## It is an Optical recognition of handwritten digits dataset.\n",
    "print(ds['DESCR'])\n",
    "\n",
    "##What are the type(s) of the attributes? 8x8 image of integer pixels in the range 0..16.\n",
    "## How many attributes are there? 64\n",
    "##What do they represent? hand-written digits: 10 classes where each class refers to a integer from 0 to 9."
   ]
  },
  {
   "cell_type": "markdown",
   "metadata": {},
   "source": [
    "___\n",
    "## Using the gini coefficient\n",
    "We talked about the gini index in the videos.  The gini coefficient for a **given split** is given by:\n",
    "$$Gini=\\sum_{t=1}^T \\frac{n_t}{N}gini(t)$$\n",
    "where $T$ is the total number of splits (2 for binary attributes), $n_t$ is the number of instances in node $t$ after splitting, and $N$ is the total number of instances in the parent node. $gini(t)$ is the **gini index for each individual node that is created by the split** and is given by:\n",
    "$$gini(t)=1-\\sum_{j=0}^{C-1} p(j|t)^2$$\n",
    "where $C$ is the total number of possible classes and $p(j|t)$ is the probability of class $j$ in node $t$ (i.e., $n_j==$ the count of instances belonging to class $j$ in node $t$, normalized by the total number of instances in node $t$).\n",
    "$$ p(j|t) = \\frac{n_j}{n_t}$$ \n",
    "\n",
    "For the given dataset, $gini(t)$ has been programmed for you in the function `gini_index`. \n",
    "\n",
    "* `def gini_index(classes_in_split):`\n",
    " * To use the function, pass in a `numpy` array of the class labels for a node as (i.e., pass in the rows from `ds.target` that make up a node in the tree) and the gini will be returned for that node. \n"
   ]
  },
  {
   "cell_type": "code",
   "execution_count": 27,
   "metadata": {},
   "outputs": [],
   "source": [
    "# compute the gini of several examples for the starting dataset\n",
    "# This function \"gini_index\" is written for you. Once you run this block, you \n",
    "#   will have access to the function for the notebook. You do not need to know \n",
    "#   how this function works--only what it returns \n",
    "# This function returns the gini index for an array of classes in a node.\n",
    "def gini_index(classes_in_split):\n",
    "    # pay no attention to this code in the function-- it just computes the gini for a given split \n",
    "    classes_in_split = np.reshape(classes_in_split,(len(classes_in_split),-1))\n",
    "    unique_classes = np.unique(classes_in_split)\n",
    "    gini = 1\n",
    "    for c in unique_classes:\n",
    "        gini -= (np.sum(classes_in_split==c) / float(len(classes_in_split)))**2\n",
    "        \n",
    "    return gini"
   ]
  },
  {
   "cell_type": "markdown",
   "metadata": {},
   "source": [
    "In the example below, the function is used calculate the gini for splitting the dataset on feature 28, with value 2.5. In this example, we need to create two separate tree nodes: the first node has all the `ds.target` labels when feature 28 is greater than 2.5, the second node has all the rows from `ds.target` where feature 28 is less than 2.5. The steps are outlined below. **Read this carefully to understand what the code does below in the block following this.**\n",
    "- Feature 28 is saved into a separate variable `feature28 = ds.data[:,28]`\n",
    "- First all the target classes for the first node are calculated using `numpy` indexing `ds.target[feature28>2.5]` \n",
    " - Note: this grabs all the rows in `ds.target` (the classes) which have feature 28 greater than 2.5 (similar to indexing in pandas)\n",
    "- Second, those classes are passed into the function to get the gini for the right node in this split (i.e., feature 28 being greater than the threshold 2.5). \n",
    " - `gini_r = gini_index(ds.target[feature28>2.5])`\n",
    "- Third, the gini is calculated for the left node in the tree. This grabs only the rows in `ds.target` where feature 28 is less than 2.5.\n",
    "     - `gini_l = gini_index(ds.target[feature28<=2.5])`\n",
    "- Combining the gini indices is left as an exercise in the next section"
   ]
  },
  {
   "cell_type": "code",
   "execution_count": 28,
   "metadata": {},
   "outputs": [
    {
     "name": "stdout",
     "output_type": "stream",
     "text": [
      "gini for right node of split: 0.8845857867667073\n",
      "gini for left node of split: 0.7115407566535388\n"
     ]
    }
   ],
   "source": [
    "#==========================Use the gini_index Example===============\n",
    "# get the value for this feature as a column vector \n",
    "# (this is like grabbing one column of the record table)\n",
    "feature28 = ds.data[:,28]\n",
    "\n",
    "# if we split on the value of 2.5, then this is the gini for each resulting node:\n",
    "gini_r = gini_index(ds.target[feature28>2.5]) # just like in pandas, we are sending in the rows where feature28>2.5\n",
    "gini_l = gini_index(ds.target[feature28<=2.5]) # and sending the rows where feature28<=2.5\n",
    "\n",
    "# compute gini example. This splits on attribute '28' with a value of 2.5\n",
    "print('gini for right node of split:', gini_r)\n",
    "print('gini for left node of split:', gini_l)"
   ]
  },
  {
   "cell_type": "markdown",
   "metadata": {},
   "source": [
    "**Question 2:** Now, using the above values `gini_r` and `gini_l`. Calculate the combined Gini for the entire split. You will need to write the weighted summation (based upon the number of instances inside each node). To count the number of instances greater than a value using numpy, you can use broadcasting, which is a special way of indexing into a numpy array. For example, the code `some_array>5` will return a new numpy array of true/false elements. It is the same size as `some_array` and is marked true where the array is greater than `5`, and false otherwise. By taking the `sum` of this array, we can count how many times `some_array` is greater than `5`. \n",
    "\n",
    "`counts = sum(some_array>5)` \n",
    " \n",
    "You will need to use this syntax to count the values in each node as a result of splitting.  "
   ]
  },
  {
   "cell_type": "code",
   "execution_count": 29,
   "metadata": {},
   "outputs": [
    {
     "name": "stdout",
     "output_type": "stream",
     "text": [
      "The instances inside the right node: 1398\n",
      "The instances inside the left node: 399\n",
      "The total gini of the split for a threshold of 2.5 is: 0.8461634345045179\n"
     ]
    }
   ],
   "source": [
    "## Count the number of instances\n",
    "count_of_r = (sum(feature28>2.5))\n",
    "count_of_l = (sum(feature28<=2.5))\n",
    "length = float(len(ds.target))\n",
    "\n",
    "# Calculate the combined Gini for the entire split\n",
    "gini_combined = (count_of_r * gini_r + count_of_l * gini_l) / length\n",
    "\n",
    "## Print out some of the information\n",
    "print('The instances inside the right node:',count_of_r)\n",
    "print('The instances inside the left node:',count_of_l)\n",
    "print('The total gini of the split for a threshold of 2.5 is:',gini_combined)"
   ]
  },
  {
   "cell_type": "markdown",
   "metadata": {},
   "source": [
    "___\n",
    "## Start of Live Session Coding\n",
    "\n",
    "**Question 3:** Now we want to know which is a better split:\n",
    "- `feature28` split on a value of `2.5`  \n",
    "- `feature28` split on a value of `10`.  \n",
    "\n",
    "Enter your code to find the total gini of splitting on the threshold of 10 and compare it to the total gini of splitting on threshold of 2.5 (for feature 28 only). According to gini, which threshold is better for spliting on feature 28, `threshold=2.5` or `threshold=10.0`?"
   ]
  },
  {
   "cell_type": "code",
   "execution_count": 36,
   "metadata": {},
   "outputs": [
    {
     "name": "stdout",
     "output_type": "stream",
     "text": [
      "Splitting on the threshold of 10:\n",
      "The instances inside the right node: 1043\n",
      "The instances inside the left node: 754\n",
      "The total gini of the split for a threshold of 10 is: 0.8636111743234274\n",
      "This is not better than the split on 2.5 (since the goal is to get lower gini).\n"
     ]
    }
   ],
   "source": [
    "# if we split on the value of 10, then this is the gini for each resulting node:\n",
    "gini_r = gini_index(ds.target[feature28>10]) # just like in pandas, we are sending in the rows where feature28>10\n",
    "gini_l = gini_index(ds.target[feature28<=10]) # and sending the rows where feature28<=10\n",
    "\n",
    "## Count the number of instances\n",
    "count_of_r = (sum(feature28>10))\n",
    "count_of_l = (sum(feature28<=10))\n",
    "\n",
    "# Calculate the combined Gini for the entire split\n",
    "gini_combined = (count_of_r * gini_r + count_of_l * gini_l) / length\n",
    "\n",
    "## Print out some of the information\n",
    "print('Splitting on the threshold of 10:')\n",
    "print('The instances inside the right node:',count_of_r)\n",
    "print('The instances inside the left node:',count_of_l)\n",
    "print('The total gini of the split for a threshold of 10 is:',gini_combined)\n",
    "print('This is not better than the split on 2.5 (since the goal is to get lower gini).')"
   ]
  },
  {
   "cell_type": "markdown",
   "metadata": {},
   "source": [
    "___\n",
    "<a id=\"entropy\"></a>\n",
    "<a href=\"#top\">Back to Top</a>\n",
    "## Entropy based splitting\n",
    "We discussed entropy as well in the video as another means of splitting. We calculated entropy for a node $t$ by:\n",
    "$$ Entropy(t) = -\\sum p(j|t) \\log p(j|t) $$\n",
    "where $p(j|t)$ is the same as above. To combine Entropy measures from a set of nodes, t = {1,...,T} we use: \n",
    "$$Entropy_{split}=\\sum_{t=1}^T \\frac{n_t}{N}Entropy(t)$$ \n",
    "where $n_t$ and $N$ are the same as defined above for the $Gini$. Information gain is calculated by subtracting the Entropy of the split from the Entropy of the parent node before splitting:\n",
    "$$InfoGain = Entropy(p)-Entropy_{split}$$\n",
    "where $p$ is the parent node before splitting. You are given an equation for calculating the $Entropy(t)$ of  node $t$. It works exactly like the `gini_index` function above, but is named `entropy_value` and returns the entropy for a node. You simply send in an array of the feature values for the node you want to calculate the entropy value for. \n"
   ]
  },
  {
   "cell_type": "code",
   "execution_count": 37,
   "metadata": {},
   "outputs": [],
   "source": [
    "def entropy_value(classes_in_split):\n",
    "    # pay no attention to this code -- it just computes the gini for a given split \n",
    "    classes_in_split = np.reshape(classes_in_split,(len(classes_in_split),-1))\n",
    "    unique_classes = np.unique(classes_in_split)\n",
    "    ent = 0\n",
    "    for c in unique_classes:\n",
    "        p = (np.sum(classes_in_split==c) / float(len(classes_in_split)))\n",
    "        ent += p * np.log(p)\n",
    "        \n",
    "    return -ent"
   ]
  },
  {
   "cell_type": "code",
   "execution_count": 38,
   "metadata": {},
   "outputs": [
    {
     "name": "stdout",
     "output_type": "stream",
     "text": [
      "entropy for right node of split: 2.1836975378213057\n",
      "entropy for left node of split: 1.4898881412786364\n"
     ]
    }
   ],
   "source": [
    "ent_r = entropy_value(ds.target[feature28>2.5])\n",
    "ent_l = entropy_value(ds.target[feature28<=2.5])\n",
    "\n",
    "# compute entropy example. This splits on attribute '28' with a value of 2.5\n",
    "print('entropy for right node of split:', ent_r)\n",
    "print('entropy for left node of split:', ent_l)"
   ]
  },
  {
   "cell_type": "markdown",
   "metadata": {},
   "source": [
    "___\n",
    "**Question 4:** Calculate the **information gain** of the split when the threshold is 2.5 on `feature28`. What is the value of the information gain?"
   ]
  },
  {
   "cell_type": "code",
   "execution_count": 40,
   "metadata": {},
   "outputs": [
    {
     "name": "stdout",
     "output_type": "stream",
     "text": [
      "The information gain of the split for threshold of 2.5: 0.27283285132716273\n"
     ]
    }
   ],
   "source": [
    "## Count the number of instances on a split of 2.5\n",
    "count_of_r = (sum(feature28>2.5))\n",
    "count_of_l = (sum(feature28<=2.5))\n",
    "\n",
    "#print(count_of_r, count_of_l)\n",
    "\n",
    "#Calculate the information gain (Information_Gain = total_entropy - Weighted_Entropy)\n",
    "Weighted_Entropy = ((count_of_r*ent_r) + (count_of_l*ent_l)) / length\n",
    "Information_Gain = entropy_value(ds.target) - Weighted_Entropy\n",
    "\n",
    "# Enter your code here\n",
    "\n",
    "print('The information gain of the split for threshold of 2.5:',Information_Gain)"
   ]
  },
  {
   "cell_type": "markdown",
   "metadata": {},
   "source": [
    "**Question 5:** What is the information gain if the threshold is 10.0 on `feature28`? According to information gain, is it better to split on a threshold of 2.5 or 10? Does entropy give the same decision as gini for this example?"
   ]
  },
  {
   "cell_type": "code",
   "execution_count": 41,
   "metadata": {},
   "outputs": [
    {
     "name": "stdout",
     "output_type": "stream",
     "text": [
      "entropy for right node of split: 2.112391791714538\n",
      "entropy for left node of split: 2.066003576622626\n",
      "The information gain of the split for threshold of 10: 0.20955137704371163\n",
      "This is not better than the split on 2.5 (which is 0.27).\n",
      "Therefore, calcualtions based on entropy and gini coefficient yielded the same conclusion for this example.\n"
     ]
    }
   ],
   "source": [
    "## Count the number of instances on a split of 10\n",
    "count_of_r = (sum(feature28>10))\n",
    "count_of_l = (sum(feature28<=10))\n",
    "\n",
    "# compute entropy with splits on attribute '28' with a value of 10\n",
    "ent_r = entropy_value(ds.target[feature28>10])\n",
    "ent_l = entropy_value(ds.target[feature28<=10])\n",
    "\n",
    "print('entropy for right node of split:', ent_r)\n",
    "print('entropy for left node of split:', ent_l)\n",
    "\n",
    "#Calculate the information gain (Information_Gain = total_entropy - Weighted_Entropy)\n",
    "Weighted_Entropy = ((count_of_r*ent_r) + (count_of_l*ent_l)) / length\n",
    "Information_Gain = entropy_value(ds.target) - Weighted_Entropy\n",
    "\n",
    "# Enter your code here\n",
    "\n",
    "print('The information gain of the split for threshold of 10:',Information_Gain)\n",
    "print('This is not better than the split on 2.5 (which is 0.27).')\n",
    "print('Therefore, calcualtions based on entropy and gini coefficient yielded the same conclusion for this example.')"
   ]
  },
  {
   "cell_type": "markdown",
   "metadata": {},
   "source": [
    "___\n",
    "<a id=\"multi\"></a>\n",
    "<a href=\"#top\">Back to Top</a>\n",
    "## Information gain and multi-way splitting\n",
    "Now assume that we can use not just a binary split, but a three way split. \n",
    "\n",
    "**Question 6** What is the information gain if we split feature28 on two thesholds (three separate nodes corresponding to three branches from one node) \n",
    "- node left: `feature28<2.5`, \n",
    "- node middle: `2.5<=feature28<10`, and \n",
    "- node right: `10<=feature28`? \n",
    "\n",
    "Is the information gain better? \n",
    "\n",
    "***Note***: You can index into a `numpy` array for the middle node with the following notation: `some_array[(2.5<=feature28) & (feature28<10.0)]`"
   ]
  },
  {
   "cell_type": "code",
   "execution_count": 42,
   "metadata": {},
   "outputs": [
    {
     "name": "stdout",
     "output_type": "stream",
     "text": [
      "The information gain of the three way split is: 0.3171890999123379\n"
     ]
    }
   ],
   "source": [
    "# Create three separate nodes corresponding to three branches from one node\n",
    "ent_l = entropy_value(ds.target[feature28<2.5])\n",
    "ent_m = entropy_value(ds.target[(feature28>=2.5) & (feature28<10)])\n",
    "ent_r = entropy_value(ds.target[feature28>=10])\n",
    "\n",
    "## Count the number of instances\n",
    "count_of_l = (sum(feature28<2.5))\n",
    "count_of_m = (sum((feature28>=2.5) & (feature28<10)))\n",
    "count_of_r = (sum(feature28>=10))\n",
    "\n",
    "#Calculate the information gain (Information_Gain = total_entropy - Weighted_Entropy)\n",
    "Weighted_Entropy = ((count_of_l*ent_l) + (count_of_m*ent_m) + (count_of_r*ent_r)) / length\n",
    "Information_Gain = entropy_value(ds.target) - Weighted_Entropy\n",
    "\n",
    "# Enter your code here\n",
    "print('The information gain of the three way split is:',Information_Gain)"
   ]
  },
  {
   "cell_type": "markdown",
   "metadata": {},
   "source": [
    "**Question 7**: Should we normalize the quantity that we just calculated if we want to compare it to the information gain of a binary split? Why or Why not?"
   ]
  },
  {
   "cell_type": "markdown",
   "metadata": {},
   "source": [
    "A:  Yes. We should normalize the quantity that we just calculated if we want to compare it to the information gain of a binary split. \n",
    "\n",
    "Becasue the information gain described above is biased toward choosing features with a large number of values. The selection of a feature that is non-optimal for predication can result in overfitting. We have to normalize the information gain derived from a multiway split by the “intrinsic information” of a split, which is defined as the information need to determine the branch to which an instance belongs. This normalized information gain is called 'gain ratio'. Gain ratio takes into account the number and size of branches when choosing a feature. It tends to prefer unbalanced splits in which one partition is much smaller than the other."
   ]
  },
  {
   "cell_type": "markdown",
   "metadata": {},
   "source": [
    "___\n",
    "<a id=\"sklearn\"></a>\n",
    "<a href=\"#top\">Back to Top</a>\n",
    "## Decision Trees in scikit-learn\n",
    "Scikit-learn also has an implementation of decision trees. Its available here:\n",
    "- http://scikit-learn.org/stable/modules/generated/sklearn.tree.DecisionTreeClassifier.html#sklearn.tree.DecisionTreeClassifier\n",
    "\n",
    "**Question 8**: What algorithm does scikit-learn use for creating decision trees (i.e., ID3, C4.5, C5.0, CART, MARS, CHAID, etc.)? "
   ]
  },
  {
   "cell_type": "code",
   "execution_count": 18,
   "metadata": {},
   "outputs": [
    {
     "name": "stdout",
     "output_type": "stream",
     "text": [
      "According to https://scikit-learn.org/stable/modules/tree.html\n",
      "Scikit-learn uses an optimised version of the CART algorithm;\n",
      "however, scikit-learn implementation does not support categorical variables for now.\n"
     ]
    }
   ],
   "source": [
    "print('According to https://scikit-learn.org/stable/modules/tree.html')\n",
    "print('Scikit-learn uses an optimised version of the CART algorithm;')\n",
    "print('however, scikit-learn implementation does not support categorical variables for now.')"
   ]
  },
  {
   "cell_type": "markdown",
   "metadata": {},
   "source": [
    "___\n",
    "**Question 9**: Using the documentation, use scikit-learn to train a decision tree on the digits data. Calculate the accuracy on the training data. What is the accuracy? Did you expect the decision tree to have this kind of accuracy? Why or Why not?"
   ]
  },
  {
   "cell_type": "code",
   "execution_count": 52,
   "metadata": {},
   "outputs": [
    {
     "name": "stdout",
     "output_type": "stream",
     "text": [
      "accuracy: 1.0\n",
      "We did not expect the accuracy to be one, but this is not unusual.\n",
      "Because in this case, we generated the decision tree from the train data and then used this decision tree to predict the same train data. High accuracy is clearly expected.\n",
      "On the other hand, there is a concern of potential overfitting going on here.\n"
     ]
    }
   ],
   "source": [
    "# use scikit learn to train a decision tree\n",
    "from sklearn.tree import DecisionTreeClassifier\n",
    "\n",
    "# enter your code below here to train and predict on the same data\n",
    "dtc = DecisionTreeClassifier()\n",
    "\n",
    "#Build a decision tree classifier from the training set (X, y).\n",
    "dtc.fit(ds.data, ds.target)\n",
    "yhat = dtc.predict(ds.data)\n",
    "\n",
    "\n",
    "from sklearn.metrics import accuracy_score \n",
    "\n",
    "# enter your code below here to calculate accuracy\n",
    "\n",
    "accuracy = accuracy_score(ds.target, yhat)\n",
    "\n",
    "print('accuracy:', accuracy)\n",
    "print('We did not expect the accuracy to be one, but this is not unusual.')\n",
    "print(\"Because in this case, we generated the decision tree from the train data and then used this decision tree to predict the same train data. High accuracy is clearly expected.\")\n",
    "print(\"On the other hand, there is a concern of potential overfitting going on here.\")"
   ]
  },
  {
   "cell_type": "markdown",
   "metadata": {},
   "source": [
    "___\n",
    "**Question 10**: Look at the other input parameters to the function `DecisionTreeClassifier` could any of them be used to help prevent the decision tree from overlearning on the data? \n",
    "\n",
    "Which variables might we use to control overfitting and how (explain why it might help to stop overfitting)?"
   ]
  },
  {
   "cell_type": "markdown",
   "metadata": {},
   "source": [
    "\n",
    "A:  Yes. There are several input parameters in the DecisionTreeClassifier that might help in preventing overfiting. The website documantation may be found at:https://scikit-learn.org/stable/modules/generated/sklearn.tree.DecisionTreeClassifier.html\n",
    "\n",
    "max_depth - The maximum depth of the tree. If none, nodes are expanded until all leaves are pure or until all leaves contain less than min_samples_split samples. Decision trees tend to overfit on data with a large number of features. Getting the right ratio of samples to number of features is important, since a tree with few samples in high dimensional space is very likely to overfit. The number of samples required to populate the tree doubles for each additional level the tree grows to. Therefore, we may use max_depth to control the size of the tree to prevent overfitting.\n",
    "\n",
    "min_samples_split - minimum number of samples required to split an internal node.\n",
    "\n",
    "min_samples_leaf - minimum number of samples required to be at a leaf node.\n",
    "\n",
    "We use min_samples_split or min_samples_leaf to ensure that multiple samples inform every decision in the tree, by controlling which splits will be considered. A very small number will usually mean the tree will overfit, whereas a large number will cause the tree to not fully learning the data. We can try min_samples_leaf = 5 as an initial value. If the sample size varies greatly, a float number can be used as percentage in these two parameters. While min_samples_split can create arbitrarily small leaves, min_samples_leaf guarantees that each leaf has a minimum size, avoiding low-variance, over-fit leaf nodes in regression problems. For classification with few classes, min_samples_leaf=1 is often the best choice. In summary, by systematically adjusting the settings of min_samples_split and min_samples_leaf, we may ruduce the possibility of overfitting the data with decision tree classifier. \n",
    "\n",
    "\n",
    "Reference: https://scikit-learn.org/stable/modules/tree.html"
   ]
  },
  {
   "cell_type": "markdown",
   "metadata": {},
   "source": [
    "________________________________________________________________________________________________________\n",
    "\n",
    "That's all! Please **upload your rendered notebook** and please include **team member names** in the notebook submission. Also please remember to save the notebook before uploading."
   ]
  }
 ],
 "metadata": {
  "kernelspec": {
   "display_name": "Python 3",
   "language": "python",
   "name": "python3"
  },
  "language_info": {
   "codemirror_mode": {
    "name": "ipython",
    "version": 3
   },
   "file_extension": ".py",
   "mimetype": "text/x-python",
   "name": "python",
   "nbconvert_exporter": "python",
   "pygments_lexer": "ipython3",
   "version": "3.7.4"
  },
  "nteract": {
   "version": "0.15.0"
  }
 },
 "nbformat": 4,
 "nbformat_minor": 1
}
